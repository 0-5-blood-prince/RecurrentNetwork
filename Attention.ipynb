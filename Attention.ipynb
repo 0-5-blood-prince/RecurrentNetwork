{
 "cells": [
  {
   "cell_type": "code",
   "execution_count": 1,
   "id": "3927e7bc",
   "metadata": {},
   "outputs": [
    {
     "output_type": "stream",
     "name": "stdout",
     "text": [
      "2.4.1\n"
     ]
    }
   ],
   "source": [
    "import numpy as np\n",
    "import tensorflow as tf\n",
    "from tensorflow import keras\n",
    "import matplotlib.pyplot as plt\n",
    "print(tf.__version__)"
   ]
  },
  {
   "cell_type": "code",
   "execution_count": 2,
   "id": "8e5007e0",
   "metadata": {},
   "outputs": [],
   "source": [
    "import os"
   ]
  },
  {
   "cell_type": "code",
   "execution_count": 3,
   "id": "58285d60",
   "metadata": {},
   "outputs": [],
   "source": [
    "dataset_path = os.getcwd() + os.sep + 'te' + os.sep + 'lexicons'\n",
    "train_path = dataset_path + os.sep + 'te.translit.sampled.train.tsv'\n",
    "valid_path = dataset_path + os.sep + 'te.translit.sampled.dev.tsv'\n",
    "test_path = dataset_path + os.sep + 'te.translit.sampled.test.tsv'"
   ]
  },
  {
   "cell_type": "code",
   "execution_count": 4,
   "id": "6901b847",
   "metadata": {},
   "outputs": [],
   "source": [
    "train_inputs = []\n",
    "train_outputs = []\n",
    "valid_inputs = []\n",
    "valid_outputs = []\n",
    "test_inputs = []\n",
    "test_outputs = []\n",
    "input_chars = set()\n",
    "output_chars = set()"
   ]
  },
  {
   "cell_type": "code",
   "execution_count": 5,
   "id": "dad91d5d",
   "metadata": {},
   "outputs": [],
   "source": [
    "include_all = True"
   ]
  },
  {
   "cell_type": "code",
   "execution_count": 6,
   "id": "748bb090",
   "metadata": {},
   "outputs": [],
   "source": [
    "with open(train_path, \"r\", encoding=\"utf-8\") as f:\n",
    "    lines = f.read().split(\"\\n\")\n",
    "for line in lines[: (len(lines) - 1 )]:\n",
    "    out,inp,a = line.split('\\t')\n",
    "#     if not include_all and a!=1:\n",
    "#         continue\n",
    "    # We use \"tab\" as the \"start sequence\" character\n",
    "    # for the targets, and \"\\n\" as \"end sequence\" character.\n",
    "#     print(out,out[-1],inp,inp[-1])\n",
    "    out = \"\\t\" + out + \"\\n\"\n",
    "    train_inputs.append(inp)\n",
    "    train_outputs.append(out)\n",
    "    for char in inp:\n",
    "        if char not in input_chars:\n",
    "            input_chars.add(char)\n",
    "    for char in out:\n",
    "        if char not in output_chars:\n",
    "            output_chars.add(char)"
   ]
  },
  {
   "cell_type": "code",
   "execution_count": 7,
   "id": "f77599cd",
   "metadata": {},
   "outputs": [
    {
     "output_type": "execute_result",
     "data": {
      "text/plain": [
       "58550"
      ]
     },
     "metadata": {},
     "execution_count": 7
    }
   ],
   "source": [
    "len(train_inputs)"
   ]
  },
  {
   "cell_type": "code",
   "execution_count": 8,
   "id": "97d3b91d",
   "metadata": {},
   "outputs": [],
   "source": [
    "with open(valid_path, \"r\", encoding=\"utf-8\") as f:\n",
    "    lines = f.read().split(\"\\n\")\n",
    "for line in lines[: (len(lines) - 1 )]:\n",
    "    out,inp,a = line.split('\\t')\n",
    "    if not include_all and a!=1:\n",
    "        continue\n",
    "    # We use \"tab\" as the \"start sequence\" character\n",
    "    # for the targets, and \"\\n\" as \"end sequence\" character.\n",
    "#     print(out,out[-1],inp,inp[-1])\n",
    "    out = \"\\t\" + out + \"\\n\"\n",
    "    valid_inputs.append(inp)\n",
    "    valid_outputs.append(out)\n",
    "#     for char in inp:\n",
    "#         if char not in input_chars:\n",
    "#             input_chars.add(char)\n",
    "#     for char in out:\n",
    "#         if char not in output_chars:\n",
    "#             output_chars.add(char)"
   ]
  },
  {
   "cell_type": "code",
   "execution_count": 9,
   "id": "56668b9a",
   "metadata": {},
   "outputs": [],
   "source": [
    "with open(test_path, \"r\", encoding=\"utf-8\") as f:\n",
    "    lines = f.read().split(\"\\n\")\n",
    "for line in lines[: (len(lines) - 1 )]:\n",
    "    out,inp,a = line.split('\\t')\n",
    "    if not include_all and a!=1:\n",
    "        continue\n",
    "    # We use \"tab\" as the \"start sequence\" character\n",
    "    # for the targets, and \"\\n\" as \"end sequence\" character.\n",
    "#     print(out,out[-1],inp,inp[-1])\n",
    "    out = \"\\t\" + out + \"\\n\"\n",
    "    test_inputs.append(inp)\n",
    "    test_outputs.append(out)\n",
    "#     for char in inp:\n",
    "#         if char not in input_chars:\n",
    "#             input_chars.add(char)\n",
    "#     for char in out:\n",
    "#         if char not in output_chars:\n",
    "#             output_chars.add(char)"
   ]
  },
  {
   "cell_type": "code",
   "execution_count": 10,
   "id": "0e91aed0",
   "metadata": {},
   "outputs": [
    {
     "output_type": "stream",
     "name": "stdout",
     "text": [
      "['a', 'b', 'c', 'd', 'e', 'f', 'g', 'h', 'i', 'j', 'k', 'l', 'm', 'n', 'o', 'p', 'q', 'r', 's', 't', 'u', 'v', 'w', 'x', 'y', 'z']\n"
     ]
    }
   ],
   "source": [
    "input_chars = sorted(list(input_chars))\n",
    "print(input_chars)\n",
    "num_input_chars = len(input_chars)"
   ]
  },
  {
   "cell_type": "code",
   "execution_count": 11,
   "id": "9618b73d",
   "metadata": {},
   "outputs": [
    {
     "output_type": "stream",
     "name": "stdout",
     "text": [
      "['\\t', '\\n', 'ం', 'ః', 'అ', 'ఆ', 'ఇ', 'ఈ', 'ఉ', 'ఊ', 'ఋ', 'ఎ', 'ఏ', 'ఐ', 'ఒ', 'ఓ', 'ఔ', 'క', 'ఖ', 'గ', 'ఘ', 'చ', 'ఛ', 'జ', 'ఝ', 'ఞ', 'ట', 'ఠ', 'డ', 'ఢ', 'ణ', 'త', 'థ', 'ద', 'ధ', 'న', 'ప', 'ఫ', 'బ', 'భ', 'మ', 'య', 'ర', 'ఱ', 'ల', 'ళ', 'వ', 'శ', 'ష', 'స', 'హ', 'ా', 'ి', 'ీ', 'ు', 'ూ', 'ృ', 'ె', 'ే', 'ై', 'ొ', 'ో', 'ౌ', '్', '\\u200c']\n"
     ]
    }
   ],
   "source": [
    "output_chars = sorted(list(output_chars))\n",
    "print(output_chars)\n",
    "num_output_chars = len(output_chars)"
   ]
  },
  {
   "cell_type": "code",
   "execution_count": 12,
   "id": "aacbd5e9",
   "metadata": {},
   "outputs": [
    {
     "output_type": "stream",
     "name": "stdout",
     "text": [
      "25 21 23\n22\n"
     ]
    }
   ],
   "source": [
    "train_size = len(train_inputs)\n",
    "max_input_size = max([len(txt) for txt in train_inputs])\n",
    "max_valid_input_size = max([len(txt) for txt in valid_inputs])\n",
    "max_test_input_size = max([len(txt) for txt in test_inputs])\n",
    "print(max_input_size,max_valid_input_size,max_test_input_size)\n",
    "max_output_size = max([len(txt) for txt in  train_outputs])\n",
    "print(max_output_size)"
   ]
  },
  {
   "cell_type": "code",
   "execution_count": 13,
   "id": "56a8b966",
   "metadata": {},
   "outputs": [
    {
     "output_type": "stream",
     "name": "stdout",
     "text": [
      "{'a': 1, 'b': 2, 'c': 3, 'd': 4, 'e': 5, 'f': 6, 'g': 7, 'h': 8, 'i': 9, 'j': 10, 'k': 11, 'l': 12, 'm': 13, 'n': 14, 'o': 15, 'p': 16, 'q': 17, 'r': 18, 's': 19, 't': 20, 'u': 21, 'v': 22, 'w': 23, 'x': 24, 'y': 25, 'z': 26}\n"
     ]
    }
   ],
   "source": [
    "input_index = dict([(char, i+1) for i, char in enumerate(input_chars)])\n",
    "output_index = dict([(char, i+1) for i, char in enumerate(output_chars)])\n",
    "print(input_index)"
   ]
  },
  {
   "cell_type": "code",
   "execution_count": 14,
   "id": "ba93c41e",
   "metadata": {},
   "outputs": [
    {
     "output_type": "stream",
     "name": "stdout",
     "text": [
      "{'\\t': 1, '\\n': 2, 'ం': 3, 'ః': 4, 'అ': 5, 'ఆ': 6, 'ఇ': 7, 'ఈ': 8, 'ఉ': 9, 'ఊ': 10, 'ఋ': 11, 'ఎ': 12, 'ఏ': 13, 'ఐ': 14, 'ఒ': 15, 'ఓ': 16, 'ఔ': 17, 'క': 18, 'ఖ': 19, 'గ': 20, 'ఘ': 21, 'చ': 22, 'ఛ': 23, 'జ': 24, 'ఝ': 25, 'ఞ': 26, 'ట': 27, 'ఠ': 28, 'డ': 29, 'ఢ': 30, 'ణ': 31, 'త': 32, 'థ': 33, 'ద': 34, 'ధ': 35, 'న': 36, 'ప': 37, 'ఫ': 38, 'బ': 39, 'భ': 40, 'మ': 41, 'య': 42, 'ర': 43, 'ఱ': 44, 'ల': 45, 'ళ': 46, 'వ': 47, 'శ': 48, 'ష': 49, 'స': 50, 'హ': 51, 'ా': 52, 'ి': 53, 'ీ': 54, 'ు': 55, 'ూ': 56, 'ృ': 57, 'ె': 58, 'ే': 59, 'ై': 60, 'ొ': 61, 'ో': 62, 'ౌ': 63, '్': 64, '\\u200c': 65}\n"
     ]
    }
   ],
   "source": [
    "print(output_index)"
   ]
  },
  {
   "cell_type": "code",
   "execution_count": 15,
   "id": "7f8f0e4e",
   "metadata": {},
   "outputs": [],
   "source": [
    "#### Enoding in indexes of characters in the set\n",
    "def encode_index(inputs,index):\n",
    "    data = []\n",
    "    for i in range(len(inputs)):\n",
    "        a = np.zeros(len(inputs[i]))\n",
    "        j = 0\n",
    "        for char in inputs[i]:\n",
    "            a[j] = index[char]\n",
    "            j += 1\n",
    "        data.append(a)\n",
    "    data = np.asarray(data).astype(np.ndarray)\n",
    "    return data\n",
    "    "
   ]
  },
  {
   "cell_type": "code",
   "execution_count": 16,
   "id": "f9d8d4b1",
   "metadata": {},
   "outputs": [],
   "source": [
    "# input_data = []\n",
    "# for i in range(train_size):\n",
    "#     a = np.zeros(len(train_inputs[i]))\n",
    "#     j = 0\n",
    "#     for char in train_inputs[i]:\n",
    "#         a[j] = input_index[char]\n",
    "#         j += 1\n",
    "#     input_data.append(a)\n",
    "# input_data = np.asarray(input_data).astype(np.ndarray)"
   ]
  },
  {
   "cell_type": "code",
   "execution_count": 17,
   "id": "093d2dae",
   "metadata": {},
   "outputs": [
    {
     "output_type": "stream",
     "name": "stderr",
     "text": [
      "C:\\Users\\HP\\AppData\\Local\\Programs\\Python\\Python37\\lib\\site-packages\\numpy\\core\\_asarray.py:83: VisibleDeprecationWarning: Creating an ndarray from ragged nested sequences (which is a list-or-tuple of lists-or-tuples-or ndarrays with different lengths or shapes) is deprecated. If you meant to do this, you must specify 'dtype=object' when creating the ndarray\n  return array(a, dtype, copy=False, order=order)\n"
     ]
    }
   ],
   "source": [
    "input_data = encode_index(train_inputs,input_index)\n",
    "input_tensor = tf.ragged.constant(input_data).to_tensor()\n",
    "\n",
    "val_input_data = encode_index(valid_inputs,input_index)\n",
    "val_input_tensor = tf.ragged.constant(val_input_data).to_tensor()\n",
    "\n",
    "test_input_data = encode_index(test_inputs,input_index)\n",
    "test_input_tensor = tf.ragged.constant(test_input_data).to_tensor()"
   ]
  },
  {
   "cell_type": "code",
   "execution_count": 18,
   "id": "62c961ad",
   "metadata": {},
   "outputs": [],
   "source": [
    "# AUTOTUNE = tf.data.AUTOTUNE\n",
    "# input_tensor=input_tensor.cache().prefetch(buffer_size=AUTOTUNE)\n",
    "# val_input_tensor=val_input_tensor.cache().prefetch(buffer_size=AUTOTUNE)\n",
    "# test_input_tensor=test_input_tensor.cache().prefetch(buffer_size=AUTOTUNE)"
   ]
  },
  {
   "cell_type": "code",
   "execution_count": 19,
   "id": "953483ed",
   "metadata": {},
   "outputs": [
    {
     "output_type": "stream",
     "name": "stdout",
     "text": [
      "58550\n"
     ]
    }
   ],
   "source": [
    "print(len(input_data))"
   ]
  },
  {
   "cell_type": "code",
   "execution_count": 20,
   "id": "350640cc",
   "metadata": {},
   "outputs": [],
   "source": [
    "max_val__input_size = max([len(txt) for txt in valid_inputs])\n",
    "max_val_output_size = max([len(txt) for txt in  valid_outputs])\n",
    "max_test_input_size = max([len(txt) for txt in test_inputs])\n",
    "max_test_output_size = max([len(txt) for txt in  test_outputs])"
   ]
  },
  {
   "cell_type": "code",
   "execution_count": 21,
   "id": "7b26ab00",
   "metadata": {},
   "outputs": [],
   "source": [
    "decoder_input_data = np.zeros(\n",
    "    (len(train_inputs), max_output_size,num_output_chars+1), dtype=\"float32\"\n",
    ")\n",
    "decoder_output_data = np.zeros(\n",
    "    (len(train_inputs), max_output_size,num_output_chars+1), dtype=\"float32\"\n",
    ")\n",
    "for i,target_text in enumerate(train_outputs):\n",
    "    for t, char in enumerate(target_text):\n",
    "        # decoder_target_data is ahead of decoder_input_data by one timestep\n",
    "        decoder_input_data[i, t, output_index[char]] = 1.0\n",
    "        if t > 0:\n",
    "            # decoder_target_data will be ahead by one timestep\n",
    "            # and will not include the start character.\n",
    "            decoder_output_data[i, t - 1, output_index[char]] = 1.0\n",
    "#     decoder_input_data[i, t + 1 :, output_index[\" \"]] = 1.0\n",
    "#     decoder_output_data[i, t:, output_index[\" \"]] = 1.0\n",
    "# print(decoder_input_data[0])\n",
    "decoder_input_data = np.argmax(decoder_input_data,axis=2).astype(dtype='float32')\n",
    "# decoder_output_data = np.argmax(decoder_output_data,axis=2).astype(dtype='float32')\n",
    "# decoder_input_data = tf.convert_to_tensor(decoder_input_data)\n",
    "# decoder_output_data = tf.convert_to_tensor(decoder_output_data) "
   ]
  },
  {
   "cell_type": "code",
   "execution_count": 22,
   "id": "8681f530",
   "metadata": {},
   "outputs": [
    {
     "output_type": "stream",
     "name": "stdout",
     "text": [
      "[ 1.  5.  3. 18. 53. 32.  2.  0.  0.  0.  0.  0.  0.  0.  0.  0.  0.  0.\n  0.  0.  0.  0.]\n[ 1. 13. 11.  9. 20.  1.]\n"
     ]
    }
   ],
   "source": [
    "print(decoder_input_data[0])\n",
    "print(input_data[0])"
   ]
  },
  {
   "cell_type": "code",
   "execution_count": 23,
   "id": "d32549f6",
   "metadata": {},
   "outputs": [],
   "source": [
    "decoder_val_input_data = np.zeros(\n",
    "    (len(valid_inputs), max_val_output_size,num_output_chars+1), dtype=\"float32\"\n",
    ")\n",
    "decoder_val_output_data = np.zeros(\n",
    "    (len(valid_inputs), max_val_output_size,num_output_chars+1), dtype=\"float32\"\n",
    ")\n",
    "for i,target_text in enumerate(valid_outputs):\n",
    "    for t, char in enumerate(target_text):\n",
    "        # decoder_target_data is ahead of decoder_input_data by one timestep\n",
    "        decoder_val_input_data[i, t, output_index[char]] = 1.0\n",
    "        if t > 0:\n",
    "            # decoder_target_data will be ahead by one timestep\n",
    "            # and will not include the start character.\n",
    "            decoder_val_output_data[i, t - 1, output_index[char]] = 1.0\n",
    "#     decoder_input_data[i, t + 1 :, output_index[\" \"]] = 1.0\n",
    "#     decoder_output_data[i, t:, output_index[\" \"]] = 1.0\n",
    "decoder_val_input_data = np.argmax(decoder_val_input_data,axis=2).astype(dtype='float32')\n",
    "# decoder_val_output_data = np.argmax(decoder_val_output_data,axis=2).astype(dtype='float32')\n",
    "# decoder_val_input_data = tf.convert_to_tensor(decoder_val_input_data)\n",
    "# decoder_val_output_data = tf.convert_to_tensor(decoder_val_output_data) "
   ]
  },
  {
   "cell_type": "code",
   "execution_count": 24,
   "id": "52f20581",
   "metadata": {},
   "outputs": [],
   "source": [
    "decoder_test_input_data = np.zeros(\n",
    "    (len(test_inputs), max_test_output_size,num_output_chars+1), dtype=\"float32\"\n",
    ")\n",
    "decoder_test_output_data = np.zeros(\n",
    "    (len(test_inputs), max_test_output_size,num_output_chars+1), dtype=\"float32\"\n",
    ")\n",
    "for i,target_text in enumerate(test_outputs):\n",
    "    for t, char in enumerate(target_text):\n",
    "        # decoder_target_data is ahead of decoder_input_data by one timestep\n",
    "        decoder_test_input_data[i, t, output_index[char]] = 1.0\n",
    "        if t > 0:\n",
    "            # decoder_target_data will be ahead by one timestep\n",
    "            # and will not include the start character.\n",
    "            decoder_test_output_data[i, t - 1, output_index[char]] = 1.0\n",
    "#     decoder_input_data[i, t + 1 :, output_index[\" \"]] = 1.0\n",
    "#     decoder_output_data[i, t:, output_index[\" \"]] = 1.0\n",
    "decoder_test_input_data = np.argmax(decoder_test_input_data,axis=2).astype(dtype='float32')\n",
    "# decoder_test_output_data = np.argmax(decoder_test_output_data,axis=2).astype(dtype='float32')\n",
    "# decoder_test_input_data = tf.convert_to_tensor(decoder_test_input_data)\n",
    "# decoder_test_output_data = tf.convert_to_tensor(decoder_test_output_data) "
   ]
  },
  {
   "cell_type": "code",
   "execution_count": 25,
   "id": "e50801eb",
   "metadata": {},
   "outputs": [],
   "source": [
    "# charinput = tf.keras.Input(shape=(None,),name=\"input\")\n",
    "# embedding = tf.keras.layers.Embedding(num_input_chars,input_embed_size, name=\"embedding\")(charinput)"
   ]
  },
  {
   "cell_type": "code",
   "execution_count": 26,
   "id": "13b5339e",
   "metadata": {},
   "outputs": [],
   "source": [
    "# model = tf.keras.Model(charinput,embedding)"
   ]
  },
  {
   "cell_type": "code",
   "execution_count": 27,
   "id": "5b7e8616",
   "metadata": {},
   "outputs": [],
   "source": [
    "# model.compile(\"rmsprop\",\"mse\")"
   ]
  },
  {
   "cell_type": "code",
   "execution_count": 28,
   "id": "745cffc6",
   "metadata": {},
   "outputs": [],
   "source": [
    "# out = model.predict(input_data[0])\n",
    "# print(out)"
   ]
  },
  {
   "cell_type": "code",
   "execution_count": 29,
   "id": "66469fb3",
   "metadata": {},
   "outputs": [],
   "source": [
    "# import tensorflow.keras.backend as K\n",
    "\n",
    "# x = K.placeholder(shape=(None, None, 2))\n",
    "# y = K.placeholder(shape=(2, 2))\n",
    "\n",
    "# print(K.dot(x, y))"
   ]
  },
  {
   "cell_type": "markdown",
   "id": "8751cf97",
   "metadata": {},
   "source": [
    "# Adding Attention"
   ]
  },
  {
   "cell_type": "code",
   "execution_count": 30,
   "id": "aa2157e9",
   "metadata": {},
   "outputs": [],
   "source": [
    "from tensorflow.python.keras.layers import Layer\n",
    "from tensorflow.python.keras import backend as K\n",
    "\n",
    "\n",
    "class AttentionLayer(Layer):\n",
    "    \"\"\"\n",
    "    This class implements Bahdanau attention (https://arxiv.org/pdf/1409.0473.pdf).\n",
    "    There are three sets of weights introduced W_a, U_a, and V_a\n",
    "     \"\"\"\n",
    "\n",
    "    def __init__(self, **kwargs):\n",
    "        super(AttentionLayer, self).__init__(**kwargs)\n",
    "\n",
    "    def build(self, input_shape):\n",
    "        assert isinstance(input_shape, list)\n",
    "        # Create a trainable weight variable for this layer.\n",
    "\n",
    "        self.W_a = self.add_weight(name='W_a',\n",
    "                                   shape=tf.TensorShape((input_shape[0][2], input_shape[0][2])),\n",
    "                                   initializer='uniform',\n",
    "                                   trainable=True)\n",
    "        self.U_a = self.add_weight(name='U_a',\n",
    "                                   shape=tf.TensorShape((input_shape[1][2], input_shape[0][2])),\n",
    "                                   initializer='uniform',\n",
    "                                   trainable=True)\n",
    "        self.V_a = self.add_weight(name='V_a',\n",
    "                                   shape=tf.TensorShape((input_shape[0][2], 1)),\n",
    "                                   initializer='uniform',\n",
    "                                   trainable=True)\n",
    "\n",
    "        super(AttentionLayer, self).build(input_shape)  # Be sure to call this at the end\n",
    "\n",
    "    def call(self, inputs, verbose=False):\n",
    "        \"\"\"\n",
    "        inputs: [encoder_output_sequence, decoder_output_sequence]\n",
    "        \"\"\"\n",
    "        assert type(inputs) == list\n",
    "        encoder_out_seq, decoder_out_seq = inputs\n",
    "        if verbose:\n",
    "            print('encoder_out_seq>', encoder_out_seq.shape)\n",
    "            print('decoder_out_seq>', decoder_out_seq.shape)\n",
    "\n",
    "        def energy_step(inputs, states):\n",
    "            \"\"\" Step function for computing energy for a single decoder state\n",
    "            inputs: (batchsize * 1 * de_in_dim)\n",
    "            states: (batchsize * 1 * de_latent_dim)\n",
    "            \"\"\"\n",
    "            \n",
    "\n",
    "            assert_msg = \"States must be an iterable. Got {} of type {}\".format(states, type(states))\n",
    "            assert isinstance(states, list) or isinstance(states, tuple), assert_msg\n",
    "\n",
    "            \"\"\" Some parameters required for shaping tensors\"\"\"\n",
    "            en_seq_len, en_hidden = encoder_out_seq.shape[1], encoder_out_seq.shape[2]\n",
    "            de_hidden = inputs.shape[-1]\n",
    "\n",
    "            \"\"\" Computing S.Wa where S=[s0, s1, ..., si]\"\"\"\n",
    "            # <= batch size * en_seq_len * latent_dim\n",
    "            W_a_dot_s = K.dot(encoder_out_seq, self.W_a)\n",
    "\n",
    "            \"\"\" Computing hj.Ua \"\"\"\n",
    "            U_a_dot_h = K.expand_dims(K.dot(inputs, self.U_a), 1)  # <= batch_size, 1, latent_dim\n",
    "            if verbose:\n",
    "                print('Ua.h>', U_a_dot_h.shape)\n",
    "\n",
    "            \"\"\" tanh(S.Wa + hj.Ua) \"\"\"\n",
    "            # <= batch_size*en_seq_len, latent_dim\n",
    "            Ws_plus_Uh = K.tanh(W_a_dot_s + U_a_dot_h)\n",
    "            if verbose:\n",
    "                print('Ws+Uh>', Ws_plus_Uh.shape)\n",
    "\n",
    "            \"\"\" softmax(va.tanh(S.Wa + hj.Ua)) \"\"\"\n",
    "            # <= batch_size, en_seq_len\n",
    "            e_i = K.squeeze(K.dot(Ws_plus_Uh, self.V_a), axis=-1)\n",
    "            # <= batch_size, en_seq_len\n",
    "            e_i = K.softmax(e_i)\n",
    "\n",
    "            if verbose:\n",
    "                print('ei>', e_i.shape)\n",
    "\n",
    "            return e_i, [e_i]\n",
    "\n",
    "        def context_step(inputs, states):\n",
    "            \"\"\" Step function for computing ci using ei \"\"\"\n",
    "\n",
    "            assert_msg = \"States must be an iterable. Got {} of type {}\".format(states, type(states))\n",
    "            assert isinstance(states, list) or isinstance(states, tuple), assert_msg\n",
    "\n",
    "            # <= batch_size, hidden_size\n",
    "            c_i = K.sum(encoder_out_seq * K.expand_dims(inputs, -1), axis=1)\n",
    "            if verbose:\n",
    "                print('ci>', c_i.shape)\n",
    "            return c_i, [c_i]\n",
    "\n",
    "        fake_state_c = K.sum(encoder_out_seq, axis=1)\n",
    "        fake_state_e = K.sum(encoder_out_seq, axis=2)  # <= (batch_size, enc_seq_len, latent_dim\n",
    "\n",
    "        \"\"\" Computing energy outputs \"\"\"\n",
    "        # e_outputs => (batch_size, de_seq_len, en_seq_len)\n",
    "        last_out, e_outputs, _ = K.rnn(\n",
    "            energy_step, decoder_out_seq, [fake_state_e],\n",
    "        )\n",
    "\n",
    "        \"\"\" Computing context vectors \"\"\"\n",
    "        last_out, c_outputs, _ = K.rnn(\n",
    "            context_step, e_outputs, [fake_state_c],\n",
    "        )\n",
    "\n",
    "        return c_outputs, e_outputs\n",
    "\n",
    "    def compute_output_shape(self, input_shape):\n",
    "        \"\"\" Outputs produced by the layer \"\"\"\n",
    "        return [\n",
    "            tf.TensorShape((input_shape[1][0], input_shape[1][1], input_shape[1][2])),\n",
    "            tf.TensorShape((input_shape[1][0], input_shape[1][1], input_shape[0][1]))\n",
    "        ]"
   ]
  },
  {
   "cell_type": "markdown",
   "id": "eb688c59",
   "metadata": {},
   "source": [
    "# Sample Model"
   ]
  },
  {
   "cell_type": "code",
   "execution_count": 31,
   "id": "b62a425f",
   "metadata": {},
   "outputs": [],
   "source": [
    "def get_sample_model(input_embed_size , hidden_size):\n",
    "    charinput = tf.keras.Input(shape=(None,),dtype='float32',name=\"input\")\n",
    "    embedding = tf.keras.layers.Embedding(num_input_chars+1,input_embed_size, name=\"embedding\")(charinput)\n",
    "    \n",
    "    encoder = tf.keras.layers.LSTM(hidden_size, return_state=True,return_sequences=True )\n",
    "    encoder_outputs, state_h, state_c = encoder(embedding)\n",
    "    encoder_states = [state_h, state_c]\n",
    "    \n",
    "    decoder_inputs = tf.keras.Input(shape=(None,),name=\"decoder_input\")\n",
    "    decoder_embedding = tf.keras.layers.Embedding(num_output_chars + 1,64, name=\"decoder_embedding\",mask_zero=True)(decoder_inputs)\n",
    "    \n",
    "    decoder_lstm = tf.keras.layers.LSTM(hidden_size, return_sequences=True, return_state=True)\n",
    "    decoder_outputs, _, _ = decoder_lstm(decoder_embedding, initial_state=encoder_states)\n",
    "    print(encoder_outputs.shape)\n",
    "    # Attention layer\n",
    "    attn_layer = AttentionLayer(name='attention_layer')\n",
    "    attn_out, attn_states = attn_layer([encoder_outputs, decoder_outputs])\n",
    "\n",
    "    # Concat attention input and decoder GRU output\n",
    "    decoder_concat_input = tf.keras.layers.Concatenate(axis=-1, name='concat_layer')([decoder_outputs, attn_out])\n",
    "\n",
    "    # Dense layer\n",
    "    decoder_dense = tf.keras.layers.Dense(num_output_chars + 1, activation=\"softmax\")\n",
    "    dense_time = tf.keras.layers.TimeDistributed(decoder_dense, name='time_distributed_layer')\n",
    "#     decoder_pred = dense_time(decoder_concat_input)\n",
    "    \n",
    "    decoder_outputs = dense_time(decoder_concat_input)\n",
    "    \n",
    "    model = tf.keras.Model([charinput,decoder_inputs],decoder_outputs)\n",
    "    \n",
    "    encoder_states_attn = [encoder_outputs,state_h,state_c]\n",
    "    encoder_model = tf.keras.Model(charinput, encoder_states_attn)\n",
    "    # define inference decoder\n",
    "#     decoder_inf_out, decoder_inf_state = decoder_gru(decoder_inf_inputs, initial_state=decoder_init_state)\n",
    "#     attn_inf_out, attn_inf_states = attn_layer([encoder_inf_states, decoder_inf_out])\n",
    "#     decoder_inf_concat = Concatenate(axis=-1, name='concat')([decoder_inf_out, attn_inf_out])\n",
    "#     decoder_inf_pred = TimeDistributed(dense)(decoder_inf_concat)\n",
    "#     decoder_model = Model(inputs=[encoder_inf_states, decoder_init_state, decoder_inf_inputs],\n",
    "#                           outputs=[decoder_inf_pred, attn_inf_states, decoder_inf_state])\n",
    "    \n",
    "    decoder_state_input_h = tf.keras.Input(shape=(hidden_size,))\n",
    "    decoder_state_input_c = tf.keras.Input(shape=(hidden_size,))\n",
    "    decoder_states_inputs = [decoder_state_input_h, decoder_state_input_c]\n",
    "    \n",
    "    encoder_inf_states = tf.keras.Input(shape=(None,hidden_size), name='encoder_inf_states')\n",
    "    decoder_outputs, state_h, state_c = decoder_lstm(decoder_embedding, initial_state=decoder_states_inputs)\n",
    "    attn_inf_out, attn_inf_states = attn_layer([encoder_inf_states, decoder_outputs])\n",
    "    decoder_inf_concat = tf.keras.layers.Concatenate(axis=-1, name='concat')([decoder_outputs, attn_inf_out])\n",
    "    decoder_outputs = tf.keras.layers.TimeDistributed(decoder_dense)(decoder_inf_concat)\n",
    "    decoder_states = [state_h, state_c]\n",
    "    \n",
    "    decoder_model = tf.keras.Model([decoder_inputs] + [encoder_inf_states,decoder_state_input_h,decoder_state_input_c]\n",
    "                                   , [decoder_outputs] + decoder_states + [attn_inf_states])\n",
    "    return model, encoder_model, decoder_model"
   ]
  },
  {
   "cell_type": "code",
   "execution_count": 32,
   "id": "d476dc6f",
   "metadata": {},
   "outputs": [],
   "source": [
    "# sample_model, enc_model, dec_model = get_sample_model(16,128)"
   ]
  },
  {
   "cell_type": "code",
   "execution_count": 33,
   "id": "c71b19bb",
   "metadata": {},
   "outputs": [],
   "source": [
    "# sample_model.compile(\n",
    "#     optimizer=\"adam\", loss=\"categorical_crossentropy\", metrics=[\"accuracy\"]\n",
    "# )\n",
    "# sample_model.summary()"
   ]
  },
  {
   "cell_type": "code",
   "execution_count": 34,
   "id": "6cc12abf",
   "metadata": {},
   "outputs": [],
   "source": [
    "reverse_input_char_index = dict((i, char) for char, i in input_index.items())\n",
    "reverse_target_char_index = dict((i, char) for char, i in output_index.items())\n",
    "reverse_target_char_index[0] = ' '\n",
    "\n",
    "def decode_sequence(input_seq):\n",
    "    sz  = input_seq.shape[0]\n",
    "    states_value = enc_model.predict(input_seq)\n",
    "    target_seq = np.zeros((sz,1,num_output_chars+1))\n",
    "    for i in range(sz):\n",
    "        target_seq[i, 0, output_index[\"\\t\"]] = 1.0\n",
    "    target_seq = np.argmax(target_seq,axis=2).astype('float32')\n",
    "    decoded_seqs = [\"\" for i in range(sz)]\n",
    "    j = 0\n",
    "    while j < max_output_size:\n",
    "        output_tokens, h, c, attn = dec_model.predict([target_seq] + states_value)\n",
    "\n",
    "#         print(output_tokens)\n",
    "        sampled_token_index = np.argmax(output_tokens[:, -1, :],axis=1)\n",
    "        target_seq = np.zeros((sz, 1, num_output_chars+1))\n",
    "        for i in range(sz):\n",
    "            sampled_char = reverse_target_char_index[sampled_token_index[i]]\n",
    "            decoded_seqs[i] += sampled_char\n",
    "            target_seq[i, 0, sampled_token_index[i]] = 1.0\n",
    "        target_seq = np.argmax(target_seq,axis=2).astype('float32')\n",
    "        # Update states\n",
    "        states_value[1] = h\n",
    "        states_value[2] = c\n",
    "        j+=1\n",
    "    output = [ (\"\\t\"+st.split('\\n')[0]+\"\\n\") for st in decoded_seqs]\n",
    "    return output"
   ]
  },
  {
   "cell_type": "code",
   "execution_count": 35,
   "id": "b557dfb0",
   "metadata": {},
   "outputs": [],
   "source": [
    "# input_tensor = input_tensor.to_tensor()\n",
    "# dec_model.run_eagerly = True"
   ]
  },
  {
   "cell_type": "code",
   "execution_count": 36,
   "id": "60cea938",
   "metadata": {},
   "outputs": [],
   "source": [
    "# for seqid in range(10):\n",
    "#     input_seq = input_tensor[seqid:seqid+1]\n",
    "# #     print(input_seq.shape,input_tensor.shape)\n",
    "#     decoded_sentence = decode_sequence(input_seq)\n",
    "#     print(\"-\")\n",
    "#     print(\"Input sentence:\", train_inputs[seqid])\n",
    "#     print(\"Decoded sentence:\", decoded_sentence)"
   ]
  },
  {
   "cell_type": "code",
   "execution_count": 37,
   "id": "962dfe8e",
   "metadata": {},
   "outputs": [
    {
     "output_type": "execute_result",
     "data": {
      "text/plain": [
       "<tf.Tensor: shape=(1, 25), dtype=float64, numpy=\n",
       "array([[ 1., 13., 11.,  9., 20.,  1.,  0.,  0.,  0.,  0.,  0.,  0.,  0.,\n",
       "         0.,  0.,  0.,  0.,  0.,  0.,  0.,  0.,  0.,  0.,  0.,  0.]])>"
      ]
     },
     "metadata": {},
     "execution_count": 37
    }
   ],
   "source": [
    "tf.config.run_functions_eagerly(True)\n",
    "input_tensor[0:1]"
   ]
  },
  {
   "cell_type": "code",
   "execution_count": 38,
   "id": "83f42ba0",
   "metadata": {},
   "outputs": [],
   "source": [
    "# sample_model.fit(\n",
    "#     [input_tensor,decoder_input_data],\n",
    "#     decoder_output_data,\n",
    "#     batch_size=64,\n",
    "#     epochs=5,\n",
    "#     validation_data=([val_input_tensor,decoder_val_input_data],decoder_val_output_data),\n",
    "#     shuffle=True,\n",
    "#     verbose=True,\n",
    "# )"
   ]
  },
  {
   "cell_type": "code",
   "execution_count": 39,
   "id": "7b5d9d88",
   "metadata": {},
   "outputs": [],
   "source": [
    "# def evaluate(data_tensor,data_output,k):\n",
    "#     crct = 0\n",
    "#     input_seq = data_tensor[:k]\n",
    "# #     print(input_seq.shape,input_tensor.shape)\n",
    "#     decoded_sentences = decode_sequence(input_seq)\n",
    "#     sts = data_output[:k]\n",
    "#     crct += np.sum(np.array(sts) == np.array(decoded_sentences))\n",
    "# #         print(crct/(seqid+1))\n",
    "# #         for st,d in zip(sts,decoded_sentences):\n",
    "# #             print(st+\"_o\")\n",
    "# #             print(d+\"_o\")\n",
    "#     return crct/k,zip(decoded_sentences,sts)"
   ]
  },
  {
   "cell_type": "code",
   "execution_count": 40,
   "id": "42d57cc3",
   "metadata": {},
   "outputs": [],
   "source": [
    "# a, b = evaluate(test_input_tensor,test_outputs,len(test_outputs))"
   ]
  },
  {
   "cell_type": "code",
   "execution_count": 41,
   "id": "6acc5440",
   "metadata": {},
   "outputs": [],
   "source": [
    "# sample_model.save('sample_attention'+os.sep+'model')\n",
    "# enc_model.save('sample_attention'+os.sep+'enc')\n",
    "# dec_model.save('sample_attention'+os.sep+'dec')"
   ]
  },
  {
   "cell_type": "markdown",
   "id": "530a59bc",
   "metadata": {},
   "source": [
    "# Beam Search"
   ]
  },
  {
   "cell_type": "code",
   "execution_count": 42,
   "id": "20e8929e",
   "metadata": {},
   "outputs": [],
   "source": [
    "import math\n",
    "reverse_input_char_index = dict((i, char) for char, i in input_index.items())\n",
    "reverse_target_char_index = dict((i, char) for char, i in output_index.items())\n",
    "reverse_target_char_index[0] = ' '\n",
    "\n",
    "def beam_decode(input_seq, beam_size, enc_model, dec_model, cell_type):\n",
    "    sz  = input_seq.shape[0]\n",
    "    attention = []\n",
    "    states_value = enc_model.predict(input_seq)\n",
    "    \n",
    "    target_seq = np.zeros((sz,1,num_output_chars+1))\n",
    "    \n",
    "    for i in range(sz):\n",
    "        target_seq[i, 0, output_index[\"\\t\"]] = 1.0\n",
    "    \n",
    "    target_seq = np.argmax(target_seq,axis=2).astype('float32')\n",
    "    decoded_seqs = [\"\" for i in range(sz)]\n",
    "    if cell_type == 'LSTM':\n",
    "        output_tokens, h, c, attn = dec_model.predict([target_seq] + states_value)\n",
    "        states = [states_value[0],h,c]\n",
    "        attention.append(attn)\n",
    "    if cell_type == 'GRU' or cell_type == 'RNN':\n",
    "        output_tokens, h, attn = dec_model.predict([target_seq] + states_value)\n",
    "        states = [states_value[0],h]\n",
    "        attention.append(attn)\n",
    "    \n",
    "    sequences = []\n",
    "    for i in range(sz):\n",
    "        sequences.append([])\n",
    "    sampled_token_beam = np.argpartition(output_tokens[:, -1, :], -beam_size ,axis=1)[:,-beam_size:]\n",
    "    sampled_token_indexes = np.argmax(output_tokens[:, -1, :],axis=1)\n",
    "    for i in range(sz):\n",
    "        allcandidates = list()\n",
    "        for j in range(beam_size):\n",
    "            allcandidates.append(\n",
    "                    [ [ sampled_token_beam[i][j] ],\n",
    "                        -np.log( \n",
    "                        output_tokens[i][-1][sampled_token_beam[i][j]]),\n",
    "                        states ,\n",
    "                        False])\n",
    "        ordered = sorted(allcandidates, key=lambda tup:tup[1])\n",
    "        sequences[i] = ordered[:beam_size]\n",
    "        \n",
    "    target_seq = np.zeros((sz, beam_size, num_output_chars+1))\n",
    "    for i in range(sz):\n",
    "        for j in range(beam_size): \n",
    "            target_seq[i, j, sequences[i][j][0][-1]] = 1.0\n",
    "    target_seq = np.argmax(target_seq,axis=2).astype('float32')\n",
    "    it = 1\n",
    "    while it < max_output_size:\n",
    "        allcandidates = [list() for i in range(sz)]\n",
    "        for k in range(len(sequences[i])):\n",
    "            if cell_type == 'LSTM':\n",
    "                output_tokens, h, c, attn = dec_model.predict(\n",
    "                [target_seq[:,k]] + \n",
    "                sequences[i][k][2])\n",
    "                states = [states_value[0],h,c]\n",
    "                attention.append(attn)\n",
    "            if cell_type == 'GRU' or cell_type == 'RNN':\n",
    "                output_tokens, h, attn = dec_model.predict(\n",
    "                [target_seq[:,k]] + \n",
    "                sequences[i][k][2])\n",
    "                states = [states_value[0],h]\n",
    "                attention.append(attn)\n",
    "            sampled_token_beam = np.argpartition(output_tokens[:, -1, :], -beam_size ,axis=1)[:,-beam_size:]\n",
    "            sampled_token_indexes = np.argmax(output_tokens[:, -1, :],axis=1)\n",
    "            \n",
    "            for i in range(sz):\n",
    "                    if sequences[i][k][3]:\n",
    "                        allcandidates[i].append(\n",
    "                                [ sequences[i][k][0]+[ sampled_token_beam[i][j] ],\n",
    "                                 sequences[i][k][1],\n",
    "                                           states, True ])\n",
    "                        continue\n",
    "                    for j in range(beam_size):\n",
    "                        if reverse_target_char_index[sampled_token_beam[i][j]]=='\\n':\n",
    "                            allcandidates[i].append(\n",
    "                                [ sequences[i][k][0]+[ sampled_token_beam[i][j] ],\n",
    "                                 sequences[i][k][1]-np.log( \n",
    "                                     output_tokens[i][-1][sampled_token_beam[i][j]]),\n",
    "                                           states, True ])\n",
    "                        else:\n",
    "                            allcandidates[i].append(\n",
    "                            [ sequences[i][k][0]+[ sampled_token_beam[i][j] ],\n",
    "                             sequences[i][k][1]-np.log( \n",
    "                                 output_tokens[i][-1][sampled_token_beam[i][j]]),\n",
    "                                       states, False ])\n",
    "        for i in range(sz):\n",
    "            ordered = sorted(allcandidates[i], key=lambda tup:tup[1])\n",
    "            sequences[i] = ordered[:beam_size]\n",
    "        target_seq = np.zeros((sz, beam_size, num_output_chars+1))\n",
    "        for i in range(sz):\n",
    "            for j in range(beam_size): \n",
    "                target_seq[i, j, sequences[i][j][0][-1]] = 1.0\n",
    "        target_seq = np.argmax(target_seq,axis=2).astype('float32')\n",
    "        it+=1\n",
    "    output = []\n",
    "    for i in range(sz):\n",
    "        st = \"\"\n",
    "        for ind in sequences[i][0][0]:\n",
    "            st += reverse_target_char_index[ind]\n",
    "        output.append(\"\\t\"+st.split('\\n')[0]+\"\\n\")\n",
    "    return output , attention\n",
    "        "
   ]
  },
  {
   "cell_type": "code",
   "execution_count": 43,
   "id": "e0075b56",
   "metadata": {},
   "outputs": [],
   "source": [
    "def beam_evaluate(data_tensor,data_output,k,beam_size,enc_model, dec_model, cell_type):\n",
    "    crct = 0\n",
    "    input_seq = data_tensor[:k]\n",
    "    decoded_sentences, attention = beam_decode(input_seq,beam_size,enc_model, dec_model, cell_type)\n",
    "    sts = data_output[:k]\n",
    "    crct += np.sum(np.array(sts) == np.array(decoded_sentences))\n",
    "    return crct/k,zip(decoded_sentences,sts),attention"
   ]
  },
  {
   "cell_type": "code",
   "execution_count": 44,
   "id": "540c2082",
   "metadata": {},
   "outputs": [],
   "source": [
    "# a1, b1, attention = beam_evaluate(test_input_tensor,test_outputs,len(test_outputs),1,enc_model,dec_model,'LSTM')"
   ]
  },
  {
   "cell_type": "code",
   "execution_count": 45,
   "id": "4883fc02",
   "metadata": {},
   "outputs": [],
   "source": [
    "# print(a1)"
   ]
  },
  {
   "cell_type": "markdown",
   "id": "779eecba",
   "metadata": {},
   "source": [
    "# Attention color map"
   ]
  },
  {
   "cell_type": "code",
   "execution_count": 46,
   "id": "650b2bb5",
   "metadata": {},
   "outputs": [],
   "source": [
    "def beam_evaluate_single(data_tensor,data_output,index,beam_size,enc_model, dec_model, cell_type):\n",
    "    crct = 0\n",
    "    input_seq = data_tensor[index:index+1]\n",
    "    decoded_sentences, attention = beam_decode(input_seq,beam_size,enc_model, dec_model, cell_type)\n",
    "    sts = data_output[index:index+1]\n",
    "    crct += np.sum(np.array(sts) == np.array(decoded_sentences))\n",
    "    return crct,zip(decoded_sentences,sts),attention"
   ]
  },
  {
   "cell_type": "code",
   "execution_count": 47,
   "id": "83b187dd",
   "metadata": {
    "tags": []
   },
   "outputs": [],
   "source": [
    "# # coding: utf-8\n",
    "# from matplotlib.font_manager import FontProperties\n",
    "\n",
    "# random_indexes = []\n",
    "# # outputs = []\n",
    "# # inputs = []\n",
    "# for i in range(9):\n",
    "#     a = np.random.randint(0,len(test_outputs))\n",
    "#     random_indexes.append(a)\n",
    "# fig = plt.figure(figsize = (15,15))\n",
    "# x = 1\n",
    "# for i in range(9):\n",
    "#     accruracy , z, attention = beam_evaluate_single(test_input_tensor,test_outputs,random_indexes[i],1,enc_model,dec_model,'LSTM')\n",
    "#     # print(attention)\n",
    "#     attention = np.asarray(np.asarray(attention)[:,0,:])\n",
    "#     s = attention.shape\n",
    "#     attention = attention.reshape(s[0],s[2])[:,:s[0]]\n",
    "#     plt.subplot(3,3,x)\n",
    "#     # print(attention.shape,attention)\n",
    "#     for a, b in z:\n",
    "#         decoded_word = a[1:-1]\n",
    "#         expected_word = b \n",
    "#     input_word = test_inputs[random_indexes[i]]\n",
    "#     print(len(input_word),input_word)\n",
    "#     print(len(decoded_word),decoded_word)\n",
    "#     attention = attention[:len(decoded_word),:len(input_word)]\n",
    "#     print(attention)\n",
    "#     plt.imshow(attention,cmap='gray')\n",
    "#     font_prop = FontProperties(fname='Lohit-Telugu.ttf', size=18)\n",
    "   \n",
    "#     # plt.xlim(len(input_word))\n",
    "#     # plt.ylim(len(input_word))\n",
    "#     labels = []\n",
    "#     for s in decoded_word:\n",
    "#         labels.append(s)\n",
    "\n",
    "#     plt.yticks(range(len(labels)),labels,fontproperties = font_prop)\n",
    "#     plt.xticks(range(len(input_word)),input_word)\n",
    "#     x+=1\n",
    "    \n",
    "    \n",
    "\n"
   ]
  },
  {
   "cell_type": "markdown",
   "id": "a35f1b6b",
   "metadata": {},
   "source": [
    "# Visualization"
   ]
  },
  {
   "cell_type": "code",
   "execution_count": 48,
   "id": "d89312f2",
   "metadata": {},
   "outputs": [],
   "source": [
    "from textualheatmap import TextualHeatmap"
   ]
  },
  {
   "cell_type": "code",
   "execution_count": 49,
   "id": "092e0c58",
   "metadata": {},
   "outputs": [],
   "source": [
    "import math\n",
    "def data_string1(attention,output,input):\n",
    "    ## attention shape len(output) x len(input)  \n",
    "    data = []\n",
    "    dic_list = []\n",
    "    for i in range(len(output)):\n",
    "        l = []\n",
    "        a = []\n",
    "        for j in range(len(input)):\n",
    "            a.append((-math.log(attention[i][j]),input[j]))\n",
    "        a.sort()\n",
    "        m = []\n",
    "        for j in range(4):\n",
    "            if a[j][0] <= 3:\n",
    "                m.append(a[j][1])\n",
    "        d = dict()\n",
    "        d[\"token\"] =  output[i]\n",
    "        d[\"meta\"] = m\n",
    "        d[\"heat\"] = [1.0]\n",
    "        d1 = dict()\n",
    "        d1[\"token\"] = ' '\n",
    "        d1[\"format\"] = False\n",
    "        dic_list.append(d)\n",
    "        dic_list.append(d1)\n",
    "    data.append(dic_list)\n",
    "    return data\n",
    "    "
   ]
  },
  {
   "cell_type": "code",
   "execution_count": 50,
   "id": "435c1148",
   "metadata": {},
   "outputs": [
    {
     "output_type": "stream",
     "name": "stdout",
     "text": [
      "{'\\t': 1, '\\n': 2, 'ం': 3, 'ః': 4, 'అ': 5, 'ఆ': 6, 'ఇ': 7, 'ఈ': 8, 'ఉ': 9, 'ఊ': 10, 'ఋ': 11, 'ఎ': 12, 'ఏ': 13, 'ఐ': 14, 'ఒ': 15, 'ఓ': 16, 'ఔ': 17, 'క': 18, 'ఖ': 19, 'గ': 20, 'ఘ': 21, 'చ': 22, 'ఛ': 23, 'జ': 24, 'ఝ': 25, 'ఞ': 26, 'ట': 27, 'ఠ': 28, 'డ': 29, 'ఢ': 30, 'ణ': 31, 'త': 32, 'థ': 33, 'ద': 34, 'ధ': 35, 'న': 36, 'ప': 37, 'ఫ': 38, 'బ': 39, 'భ': 40, 'మ': 41, 'య': 42, 'ర': 43, 'ఱ': 44, 'ల': 45, 'ళ': 46, 'వ': 47, 'శ': 48, 'ష': 49, 'స': 50, 'హ': 51, 'ా': 52, 'ి': 53, 'ీ': 54, 'ు': 55, 'ూ': 56, 'ృ': 57, 'ె': 58, 'ే': 59, 'ై': 60, 'ొ': 61, 'ో': 62, 'ౌ': 63, '్': 64, '\\u200c': 65}\n"
     ]
    }
   ],
   "source": [
    "print(output_index)"
   ]
  },
  {
   "cell_type": "code",
   "execution_count": 51,
   "id": "ec9bdd36",
   "metadata": {},
   "outputs": [],
   "source": [
    "\n",
    "def data_string2(attention,output,input):\n",
    "    ## attention shape len(output) x len(input)  \n",
    "    data = []\n",
    "    dic_list = []\n",
    "    i = 0\n",
    "    while i < (len(output)):\n",
    "        token = output[i]\n",
    "        a = []\n",
    "        for j in range(len(input)):\n",
    "            a.append((-math.log(attention[i][j]),input[j]))\n",
    "        a.sort()\n",
    "        m = []\n",
    "        \n",
    "        mst = \"root: \"\n",
    "        for j in range(4):\n",
    "            if a[j][0] <= 3:\n",
    "                mst = mst + a[j][1] + \" \"\n",
    "        m.append(mst)\n",
    "        while(  ( (i+1)<len(output) ) and ( output_index[output[i+1]] < 5 or output_index[output[i+1]] > 51) ):\n",
    "            i+=1\n",
    "            token += output[i]\n",
    "            a = []\n",
    "            for j in range(len(input)):\n",
    "                a.append((-math.log(attention[i][j]),input[j]))\n",
    "            a.sort()\n",
    "            mst = output[i] + \": \"\n",
    "            for j in range(4):\n",
    "                if a[j][0] <= 3:\n",
    "                    mst = mst + a[j][1] + \" \"\n",
    "            m.append(mst)\n",
    "\n",
    "        d = dict()\n",
    "        d[\"token\"] =  token\n",
    "        d[\"meta\"] = m\n",
    "        d[\"heat\"] = [1.0]\n",
    "        d1 = dict()\n",
    "        d1[\"token\"] = ' '\n",
    "        d1[\"format\"] = True\n",
    "        dic_list.append(d)\n",
    "        i+=1\n",
    "        dic_list.append(d1)\n",
    "    data.append(dic_list)\n",
    "    return data"
   ]
  },
  {
   "cell_type": "code",
   "execution_count": 52,
   "id": "fc1ec6b1",
   "metadata": {},
   "outputs": [],
   "source": [
    "# # coding: utf-8\n",
    "# from matplotlib.font_manager import FontProperties\n",
    "\n",
    "# random_indexes = []\n",
    "# # outputs = []\n",
    "# # inputs = []\n",
    "# for i in range(9):\n",
    "#     a = np.random.randint(0,len(test_outputs))\n",
    "#     random_indexes.append(a)\n",
    "# fig = plt.figure(figsize = (15,15))\n",
    "# x = 1\n",
    "# for i in range(1):\n",
    "#     accruracy , z, attention = beam_evaluate_single(test_input_tensor,test_outputs,random_indexes[i],1,enc_model,dec_model,'LSTM')\n",
    "#     # print(attention)\n",
    "#     attention = np.asarray(np.asarray(attention)[:,0,:])\n",
    "#     s = attention.shape\n",
    "#     attention = attention.reshape(s[0],s[2])[:,:s[0]]\n",
    "#     # plt.subplot(3,3,x)\n",
    "#     # print(attention.shape,attention)\n",
    "#     for a, b in z:\n",
    "#         decoded_word = a[1:-1]\n",
    "#         expected_word = b \n",
    "#     input_word = test_inputs[random_indexes[i]]\n",
    "#     print(len(input_word),input_word)\n",
    "#     print(len(decoded_word),decoded_word)\n",
    "#     attention = attention[:len(decoded_word),:len(input_word)]\n",
    "#     data = data_string2(attention,decoded_word,input_word)\n",
    "#     print(data)\n",
    "#     heatmap = TextualHeatmap(facet_titles = ['Vis'], show_meta=True)\n",
    "#     heatmap.set_data(data)\n",
    "#     heatmap.highlight(159)"
   ]
  },
  {
   "cell_type": "code",
   "execution_count": null,
   "id": "100e8b9e",
   "metadata": {},
   "outputs": [],
   "source": []
  },
  {
   "cell_type": "markdown",
   "id": "d420bcfd",
   "metadata": {},
   "source": [
    "# Wandb Sweep"
   ]
  },
  {
   "cell_type": "code",
   "execution_count": 54,
   "id": "10baf71d",
   "metadata": {},
   "outputs": [
    {
     "output_type": "stream",
     "name": "stderr",
     "text": [
      "Failed to detect the name of this notebook, you can set it manually with the WANDB_NOTEBOOK_NAME environment variable to enable code saving.\n",
      "wandb: Currently logged in as: mooizz (use `wandb login --relogin` to force relogin)\n",
      "wandb: WARNING If you're specifying your api key in code, ensure this code is not shared publically.\n",
      "wandb: WARNING Consider setting the WANDB_API_KEY environment variable, or running `wandb login` from the command line.\n",
      "wandb: Appending key for api.wandb.ai to your netrc file: C:\\Users\\HP/.netrc\n"
     ]
    },
    {
     "output_type": "execute_result",
     "data": {
      "text/plain": [
       "True"
      ]
     },
     "metadata": {},
     "execution_count": 54
    }
   ],
   "source": [
    "import wandb\n",
    "from wandb.keras import WandbCallback\n",
    "wandb.login(key=\"866040d7d81f67025d43e7d50ecd83d54b6cf977\", relogin=False)"
   ]
  },
  {
   "cell_type": "code",
   "execution_count": 81,
   "id": "093bcd65",
   "metadata": {},
   "outputs": [],
   "source": [
    "sweep_config = {\n",
    "    'method': 'bayes', #grid, random\n",
    "    'metric': {\n",
    "      'name': 'val_word_accuracy',\n",
    "      'goal': 'maximize'   \n",
    "    },\n",
    "    'parameters': {\n",
    "         'beam_size' : {\n",
    "            'values' : [1]\n",
    "        },\n",
    "        'input_embed_size': {\n",
    "            'values' : [16, 32, 64]\n",
    "        },\n",
    "        'hidden_size' : {\n",
    "            'values' : [128, 256, 512]\n",
    "        },\n",
    "        'cell_type' : {\n",
    "            'values' : ['GRU','LSTM','RNN']\n",
    "        },\n",
    "        'dropout' : {\n",
    "            'values' : [0, 0.2]\n",
    "        },\n",
    "    }\n",
    "}"
   ]
  },
  {
   "cell_type": "code",
   "execution_count": 82,
   "id": "eab47e14",
   "metadata": {},
   "outputs": [
    {
     "name": "stdout",
     "output_type": "stream",
     "text": [
      "Create sweep with ID: ccz1whbm\n",
      "Sweep URL: https://wandb.ai/mooizz/Rec_dakhashina/sweeps/ccz1whbm\n"
     ]
    }
   ],
   "source": [
    "sweep_id = wandb.sweep(sweep_config, entity=\"mooizz\",project=\"Rec_dakhashina\")"
   ]
  },
  {
   "cell_type": "code",
   "execution_count": 57,
   "id": "3bc7ce33",
   "metadata": {},
   "outputs": [],
   "source": [
    "def get_Model(input_embed_size , hidden_size, cell_type, dropout):\n",
    "    charinput = tf.keras.Input(shape=(None,),dtype='float32',name=\"input\")\n",
    "    embedding = tf.keras.layers.Embedding(num_input_chars+1,input_embed_size, name=\"embedding\")(charinput)\n",
    "    \n",
    "    if cell_type == 'LSTM':\n",
    "        encoder = tf.keras.layers.LSTM(hidden_size, return_sequences=True, return_state=True )\n",
    "        encoder_outputs, state_h, state_c = encoder(embedding)\n",
    "        encoder_states = [state_h, state_c]\n",
    "    if cell_type == 'RNN':\n",
    "        encoder = tf.keras.layers.SimpleRNN(hidden_size, return_sequences=True, return_state=True )\n",
    "        encoder_outputs, rnn_state = encoder(embedding)\n",
    "    if cell_type == 'GRU':\n",
    "        encoder = tf.keras.layers.GRU(hidden_size, return_sequences=True, return_state=True )\n",
    "        encoder_outputs, gru_state = encoder(embedding)\n",
    "        \n",
    "    \n",
    "    decoder_inputs = tf.keras.Input(shape=(None,),name=\"decoder_input\")\n",
    "    decoder_embedding = tf.keras.layers.Embedding(num_output_chars + 1,64, name=\"decoder_embedding\",mask_zero=True)(decoder_inputs)\n",
    "    \n",
    "    if cell_type == 'LSTM':\n",
    "        decoder_lstm = tf.keras.layers.LSTM(hidden_size, return_sequences=True, return_state=True)\n",
    "        decoder_outputs, _, _ = decoder_lstm(decoder_embedding, initial_state=encoder_states)\n",
    "    if cell_type == 'RNN':\n",
    "        decoder_rnn = tf.keras.layers.SimpleRNN(hidden_size, return_sequences=True, return_state=True)\n",
    "        decoder_outputs, _ = decoder_rnn(decoder_embedding, initial_state=rnn_state)\n",
    "    if cell_type == 'GRU':\n",
    "        decoder_gru = tf.keras.layers.GRU(hidden_size, return_sequences=True, return_state=True)\n",
    "        decoder_outputs, _ = decoder_gru(decoder_embedding, initial_state=gru_state)\n",
    "    \n",
    "    # print(encoder_outputs.shape)\n",
    "    # Attention layer\n",
    "    attn_layer = AttentionLayer(name='attention_layer')\n",
    "    attn_out, attn_states = attn_layer([encoder_outputs, decoder_outputs])\n",
    "\n",
    "    # Concat attention input and decoder GRU output\n",
    "    decoder_concat_input = tf.keras.layers.Concatenate(axis=-1, name='concat_layer')([decoder_outputs, attn_out])\n",
    "\n",
    "    # Dense layer\n",
    "    decoder_dense = tf.keras.layers.Dense(num_output_chars + 1, activation=\"softmax\")\n",
    "    dense_time = tf.keras.layers.TimeDistributed(decoder_dense, name='time_distributed_layer')\n",
    "#     decoder_pred = dense_time(decoder_concat_input)\n",
    "    \n",
    "    decoder_outputs = dense_time(decoder_concat_input)\n",
    "    \n",
    "    model = tf.keras.Model([charinput,decoder_inputs],decoder_outputs)\n",
    "    \n",
    "    \n",
    "    if cell_type == 'LSTM':\n",
    "        encoder_states_attn = [encoder_outputs,state_h,state_c]\n",
    "        encoder_model = tf.keras.Model(charinput, encoder_states_attn)\n",
    "        # define inference decoder\n",
    "    #     decoder_inf_out, decoder_inf_state = decoder_gru(decoder_inf_inputs, initial_state=decoder_init_state)\n",
    "    #     attn_inf_out, attn_inf_states = attn_layer([encoder_inf_states, decoder_inf_out])\n",
    "    #     decoder_inf_concat = Concatenate(axis=-1, name='concat')([decoder_inf_out, attn_inf_out])\n",
    "    #     decoder_inf_pred = TimeDistributed(dense)(decoder_inf_concat)\n",
    "    #     decoder_model = Model(inputs=[encoder_inf_states, decoder_init_state, decoder_inf_inputs],\n",
    "    #                           outputs=[decoder_inf_pred, attn_inf_states, decoder_inf_state])\n",
    "\n",
    "        decoder_state_input_h = tf.keras.Input(shape=(hidden_size,))\n",
    "        decoder_state_input_c = tf.keras.Input(shape=(hidden_size,))\n",
    "        decoder_states_inputs = [decoder_state_input_h, decoder_state_input_c]\n",
    "\n",
    "        encoder_inf_states = tf.keras.Input(shape=(None,hidden_size), name='encoder_inf_states')\n",
    "        decoder_outputs, state_h, state_c = decoder_lstm(decoder_embedding, initial_state=decoder_states_inputs)\n",
    "        attn_inf_out, attn_inf_states = attn_layer([encoder_inf_states, decoder_outputs])\n",
    "        decoder_inf_concat = tf.keras.layers.Concatenate(axis=-1, name='concat')([decoder_outputs, attn_inf_out])\n",
    "        decoder_outputs = tf.keras.layers.TimeDistributed(decoder_dense)(decoder_inf_concat)\n",
    "        decoder_states = [state_h, state_c]\n",
    "\n",
    "        decoder_model = tf.keras.Model([decoder_inputs] + [encoder_inf_states,decoder_state_input_h,decoder_state_input_c]\n",
    "                                       , [decoder_outputs] + decoder_states + [attn_inf_states])\n",
    "    if cell_type == 'GRU':\n",
    "        encoder_states_attn = [encoder_outputs,gru_state]\n",
    "        \n",
    "        encoder_model = tf.keras.Model(charinput, encoder_states_attn)\n",
    "        decoder_state_input_h = tf.keras.Input(shape=(hidden_size,))\n",
    "#         decoder_state_input_c = tf.keras.Input(shape=(hidden_size,))\n",
    "#         decoder_states_inputs = [decoder_state_input_h, decoder_state_input_c]\n",
    "\n",
    "        encoder_inf_states = tf.keras.Input(shape=(None,hidden_size), name='encoder_inf_states')\n",
    "        \n",
    "        decoder_outputs, state_h = decoder_gru(decoder_embedding, initial_state=decoder_state_input_h)\n",
    "        attn_inf_out, attn_inf_states = attn_layer([encoder_inf_states, decoder_outputs])\n",
    "        decoder_inf_concat = tf.keras.layers.Concatenate(axis=-1, name='concat')([decoder_outputs, attn_inf_out])\n",
    "        decoder_outputs = tf.keras.layers.TimeDistributed(decoder_dense)(decoder_inf_concat)\n",
    "#         decoder_states = [state_h, state_c]\n",
    "\n",
    "        decoder_model = tf.keras.Model([decoder_inputs] + [encoder_inf_states,decoder_state_input_h]\n",
    "                                       , [decoder_outputs] + [state_h] + [attn_inf_states])\n",
    "    if cell_type == 'RNN':\n",
    "        encoder_states_attn = [encoder_outputs,rnn_state]\n",
    "        \n",
    "        encoder_model = tf.keras.Model(charinput, encoder_states_attn)\n",
    "        decoder_state_input_h = tf.keras.Input(shape=(hidden_size,))\n",
    "#         decoder_state_input_c = tf.keras.Input(shape=(hidden_size,))\n",
    "#         decoder_states_inputs = [decoder_state_input_h, decoder_state_input_c]\n",
    "\n",
    "        encoder_inf_states = tf.keras.Input(shape=(None,hidden_size), name='encoder_inf_states')\n",
    "        \n",
    "        decoder_outputs, state_h = decoder_rnn(decoder_embedding, initial_state=decoder_state_input_h)\n",
    "        attn_inf_out, attn_inf_states = attn_layer([encoder_inf_states, decoder_outputs])\n",
    "        decoder_inf_concat = tf.keras.layers.Concatenate(axis=-1, name='concat')([decoder_outputs, attn_inf_out])\n",
    "        decoder_outputs = tf.keras.layers.TimeDistributed(decoder_dense)(decoder_inf_concat)\n",
    "#         decoder_states = [state_h, state_c]\n",
    "\n",
    "        decoder_model = tf.keras.Model([decoder_inputs] + [encoder_inf_states,decoder_state_input_h]\n",
    "                                       , [decoder_outputs] + [state_h] + [attn_inf_states])\n",
    "        \n",
    "    return model, encoder_model, decoder_model"
   ]
  },
  {
   "cell_type": "code",
   "execution_count": 86,
   "id": "52f0d7dd",
   "metadata": {},
   "outputs": [],
   "source": [
    "def train():\n",
    "    config_defaults = {\n",
    "        'epochs' : 20,\n",
    "        'batch_size' : 64,\n",
    "        'optimizer' : 'adam',\n",
    "        'beam_size' : 1,\n",
    "        'input_embed_size': 32,\n",
    "        'hidden_size' : 256,\n",
    "        'cell_type' : 'LSTM',\n",
    "        'dropout' : 0,\n",
    "    }\n",
    "    wandb.init(config=config_defaults)\n",
    "    config = wandb.config\n",
    "    model, enc_model, dec_model = get_Model(config.input_embed_size,config.hidden_size,\n",
    "                     config.cell_type,\n",
    "                     config.dropout)\n",
    "    model.compile(\n",
    "    optimizer=\"adam\", loss=\"categorical_crossentropy\", metrics=[\"accuracy\"]\n",
    "    )\n",
    "#     sample_model.summary()\n",
    "    EarlyStopCB = tf.keras.callbacks.EarlyStopping(patience=30, monitor='val_accuracy',\n",
    "                                                  restore_best_weights=True)\n",
    "    tf.config.run_functions_eagerly(True)\n",
    "    model.fit(\n",
    "        [input_tensor,decoder_input_data],\n",
    "        decoder_output_data,\n",
    "        batch_size=config.batch_size,\n",
    "        epochs=config.epochs,\n",
    "        validation_data=(\n",
    "            [val_input_tensor,decoder_val_input_data],\n",
    "            decoder_val_output_data\n",
    "        ),\n",
    "        shuffle=True,\n",
    "        callbacks=[WandbCallback(), EarlyStopCB])\n",
    "    beam_acc , _ , attention = beam_evaluate(val_input_tensor,valid_outputs,len(valid_outputs),config.beam_size,\n",
    "                                enc_model,\n",
    "                                dec_model,\n",
    "                                config.cell_type)\n",
    "    wandb.log({'val_word_accuracy' : beam_acc})"
   ]
  },
  {
   "cell_type": "code",
   "execution_count": 85,
   "id": "0e625837",
   "metadata": {
    "scrolled": true
   },
   "outputs": [
    {
     "name": "stderr",
     "output_type": "stream",
     "text": [
      "wandb: Sweep Agent: Waiting for job.\n",
      "wandb: Job received.\n",
      "wandb: Agent Starting Run: 6o28he04 with config:\n",
      "wandb: \tbeam_size: 1\n",
      "wandb: \tcell_type: GRU\n",
      "wandb: \tdropout: 0\n",
      "wandb: \thidden_size: 64\n",
      "wandb: \tinput_embed_size: 32\n",
      "wandb: wandb version 0.10.30 is available!  To upgrade, please run:\n",
      "wandb:  $ pip install wandb --upgrade\n"
     ]
    },
    {
     "data": {
      "text/html": [
       "\n",
       "                Tracking run with wandb version 0.10.25<br/>\n",
       "                Syncing run <strong style=\"color:#cdcd00\">exalted-sweep-1</strong> to <a href=\"https://wandb.ai\" target=\"_blank\">Weights & Biases</a> <a href=\"https://docs.wandb.com/integrations/jupyter.html\" target=\"_blank\">(Documentation)</a>.<br/>\n",
       "                Project page: <a href=\"https://wandb.ai/mooizz/Rec_dakhashina\" target=\"_blank\">https://wandb.ai/mooizz/Rec_dakhashina</a><br/>\n",
       "                Sweep page: <a href=\"https://wandb.ai/mooizz/Rec_dakhashina/sweeps/ccz1whbm\" target=\"_blank\">https://wandb.ai/mooizz/Rec_dakhashina/sweeps/ccz1whbm</a><br/>\n",
       "Run page: <a href=\"https://wandb.ai/mooizz/Rec_dakhashina/runs/6o28he04\" target=\"_blank\">https://wandb.ai/mooizz/Rec_dakhashina/runs/6o28he04</a><br/>\n",
       "                Run data is saved locally in <code>c:\\Users\\Jaitesh\\Desktop\\Courses\\DL\\RecurrentNetwork\\wandb\\run-20210518_115436-6o28he04</code><br/><br/>\n",
       "            "
      ],
      "text/plain": [
       "<IPython.core.display.HTML object>"
      ]
     },
     "metadata": {},
     "output_type": "display_data"
    },
    {
     "name": "stdout",
     "output_type": "stream",
     "text": [
      "(None, None, 64)\n"
     ]
    },
    {
     "name": "stderr",
     "output_type": "stream",
     "text": [
      "C:\\Users\\Jaitesh\\.conda\\envs\\tf2.4\\lib\\site-packages\\tensorflow\\python\\data\\ops\\dataset_ops.py:3503: UserWarning: Even though the tf.config.experimental_run_functions_eagerly option is set, this option does not apply to tf.data functions. tf.data functions are still traced and executed as graphs.\n",
      "  warnings.warn(\n"
     ]
    },
    {
     "name": "stdout",
     "output_type": "stream",
     "text": [
      "Testing\n"
     ]
    },
    {
     "name": "stderr",
     "output_type": "stream",
     "text": [
      "WARNING:absl:Found untraced functions such as gru_cell_layer_call_fn, gru_cell_layer_call_and_return_conditional_losses, gru_cell_1_layer_call_fn, gru_cell_1_layer_call_and_return_conditional_losses, gru_cell_layer_call_fn while saving (showing 5 of 10). These functions will not be directly callable after loading.\n",
      "WARNING:absl:Found untraced functions such as gru_cell_layer_call_fn, gru_cell_layer_call_and_return_conditional_losses, gru_cell_1_layer_call_fn, gru_cell_1_layer_call_and_return_conditional_losses, gru_cell_layer_call_fn while saving (showing 5 of 10). These functions will not be directly callable after loading.\n"
     ]
    },
    {
     "name": "stdout",
     "output_type": "stream",
     "text": [
      "INFO:tensorflow:Assets written to: models\\ccz1whbm\\exalted-sweep-1\\assets\n"
     ]
    },
    {
     "name": "stderr",
     "output_type": "stream",
     "text": [
      "INFO:tensorflow:Assets written to: models\\ccz1whbm\\exalted-sweep-1\\assets\n"
     ]
    },
    {
     "data": {
      "text/html": [
       "<br/>Waiting for W&B process to finish, PID 19120<br/>Program ended successfully."
      ],
      "text/plain": [
       "<IPython.core.display.HTML object>"
      ]
     },
     "metadata": {},
     "output_type": "display_data"
    },
    {
     "data": {
      "application/vnd.jupyter.widget-view+json": {
       "model_id": "",
       "version_major": 2,
       "version_minor": 0
      },
      "text/plain": [
       "VBox(children=(Label(value=' 0.00MB of 0.00MB uploaded (0.00MB deduped)\\r'), FloatProgress(value=1.0, max=1.0)…"
      ]
     },
     "metadata": {},
     "output_type": "display_data"
    },
    {
     "data": {
      "text/html": [
       "Find user logs for this run at: <code>c:\\Users\\Jaitesh\\Desktop\\Courses\\DL\\RecurrentNetwork\\wandb\\run-20210518_115436-6o28he04\\logs\\debug.log</code>"
      ],
      "text/plain": [
       "<IPython.core.display.HTML object>"
      ]
     },
     "metadata": {},
     "output_type": "display_data"
    },
    {
     "data": {
      "text/html": [
       "Find internal logs for this run at: <code>c:\\Users\\Jaitesh\\Desktop\\Courses\\DL\\RecurrentNetwork\\wandb\\run-20210518_115436-6o28he04\\logs\\debug-internal.log</code>"
      ],
      "text/plain": [
       "<IPython.core.display.HTML object>"
      ]
     },
     "metadata": {},
     "output_type": "display_data"
    },
    {
     "data": {
      "text/html": [
       "<h3>Run summary:</h3><br/><style>\n",
       "    table.wandb td:nth-child(1) { padding: 0 10px; text-align: right }\n",
       "    </style><table class=\"wandb\">\n",
       "<tr><td>Test_Acc</td><td>0.0</td></tr><tr><td>_runtime</td><td>79</td></tr><tr><td>_timestamp</td><td>1621319155</td></tr><tr><td>_step</td><td>0</td></tr></table>"
      ],
      "text/plain": [
       "<IPython.core.display.HTML object>"
      ]
     },
     "metadata": {},
     "output_type": "display_data"
    },
    {
     "data": {
      "text/html": [
       "<h3>Run history:</h3><br/><style>\n",
       "    table.wandb td:nth-child(1) { padding: 0 10px; text-align: right }\n",
       "    </style><table class=\"wandb\">\n",
       "<tr><td>Test_Acc</td><td>▁</td></tr><tr><td>_runtime</td><td>▁</td></tr><tr><td>_timestamp</td><td>▁</td></tr><tr><td>_step</td><td>▁</td></tr></table><br/>"
      ],
      "text/plain": [
       "<IPython.core.display.HTML object>"
      ]
     },
     "metadata": {},
     "output_type": "display_data"
    },
    {
     "data": {
      "text/html": [
       "Synced 5 W&B file(s), 0 media file(s), 0 artifact file(s) and 0 other file(s)"
      ],
      "text/plain": [
       "<IPython.core.display.HTML object>"
      ]
     },
     "metadata": {},
     "output_type": "display_data"
    },
    {
     "data": {
      "text/html": [
       "\n",
       "                    <br/>Synced <strong style=\"color:#cdcd00\">exalted-sweep-1</strong>: <a href=\"https://wandb.ai/mooizz/Rec_dakhashina/runs/6o28he04\" target=\"_blank\">https://wandb.ai/mooizz/Rec_dakhashina/runs/6o28he04</a><br/>\n",
       "                "
      ],
      "text/plain": [
       "<IPython.core.display.HTML object>"
      ]
     },
     "metadata": {},
     "output_type": "display_data"
    },
    {
     "name": "stderr",
     "output_type": "stream",
     "text": [
      "wandb: Agent Starting Run: kbbhtcbm with config:\n",
      "wandb: \tbeam_size: 1\n",
      "wandb: \tcell_type: LSTM\n",
      "wandb: \tdropout: 0\n",
      "wandb: \thidden_size: 64\n",
      "wandb: \tinput_embed_size: 32\n",
      "wandb: wandb version 0.10.30 is available!  To upgrade, please run:\n",
      "wandb:  $ pip install wandb --upgrade\n"
     ]
    },
    {
     "data": {
      "text/html": [
       "\n",
       "                Tracking run with wandb version 0.10.25<br/>\n",
       "                Syncing run <strong style=\"color:#cdcd00\">sunny-sweep-2</strong> to <a href=\"https://wandb.ai\" target=\"_blank\">Weights & Biases</a> <a href=\"https://docs.wandb.com/integrations/jupyter.html\" target=\"_blank\">(Documentation)</a>.<br/>\n",
       "                Project page: <a href=\"https://wandb.ai/mooizz/Rec_dakhashina\" target=\"_blank\">https://wandb.ai/mooizz/Rec_dakhashina</a><br/>\n",
       "                Sweep page: <a href=\"https://wandb.ai/mooizz/Rec_dakhashina/sweeps/ccz1whbm\" target=\"_blank\">https://wandb.ai/mooizz/Rec_dakhashina/sweeps/ccz1whbm</a><br/>\n",
       "Run page: <a href=\"https://wandb.ai/mooizz/Rec_dakhashina/runs/kbbhtcbm\" target=\"_blank\">https://wandb.ai/mooizz/Rec_dakhashina/runs/kbbhtcbm</a><br/>\n",
       "                Run data is saved locally in <code>c:\\Users\\Jaitesh\\Desktop\\Courses\\DL\\RecurrentNetwork\\wandb\\run-20210518_115626-kbbhtcbm</code><br/><br/>\n",
       "            "
      ],
      "text/plain": [
       "<IPython.core.display.HTML object>"
      ]
     },
     "metadata": {},
     "output_type": "display_data"
    },
    {
     "name": "stdout",
     "output_type": "stream",
     "text": [
      "(None, None, 64)\n"
     ]
    },
    {
     "name": "stderr",
     "output_type": "stream",
     "text": [
      "C:\\Users\\Jaitesh\\.conda\\envs\\tf2.4\\lib\\site-packages\\tensorflow\\python\\data\\ops\\dataset_ops.py:3503: UserWarning: Even though the tf.config.experimental_run_functions_eagerly option is set, this option does not apply to tf.data functions. tf.data functions are still traced and executed as graphs.\n",
      "  warnings.warn(\n"
     ]
    },
    {
     "name": "stdout",
     "output_type": "stream",
     "text": [
      "Testing\n"
     ]
    },
    {
     "name": "stderr",
     "output_type": "stream",
     "text": [
      "WARNING:absl:Found untraced functions such as lstm_cell_layer_call_fn, lstm_cell_layer_call_and_return_conditional_losses, lstm_cell_1_layer_call_fn, lstm_cell_1_layer_call_and_return_conditional_losses, lstm_cell_layer_call_fn while saving (showing 5 of 10). These functions will not be directly callable after loading.\n",
      "WARNING:absl:Found untraced functions such as lstm_cell_layer_call_fn, lstm_cell_layer_call_and_return_conditional_losses, lstm_cell_1_layer_call_fn, lstm_cell_1_layer_call_and_return_conditional_losses, lstm_cell_layer_call_fn while saving (showing 5 of 10). These functions will not be directly callable after loading.\n"
     ]
    },
    {
     "name": "stdout",
     "output_type": "stream",
     "text": [
      "INFO:tensorflow:Assets written to: models\\ccz1whbm\\sunny-sweep-2\\assets\n"
     ]
    },
    {
     "name": "stderr",
     "output_type": "stream",
     "text": [
      "INFO:tensorflow:Assets written to: models\\ccz1whbm\\sunny-sweep-2\\assets\n"
     ]
    },
    {
     "data": {
      "text/html": [
       "<br/>Waiting for W&B process to finish, PID 17376<br/>Program ended successfully."
      ],
      "text/plain": [
       "<IPython.core.display.HTML object>"
      ]
     },
     "metadata": {},
     "output_type": "display_data"
    },
    {
     "data": {
      "application/vnd.jupyter.widget-view+json": {
       "model_id": "",
       "version_major": 2,
       "version_minor": 0
      },
      "text/plain": [
       "VBox(children=(Label(value=' 0.00MB of 0.00MB uploaded (0.00MB deduped)\\r'), FloatProgress(value=1.0, max=1.0)…"
      ]
     },
     "metadata": {},
     "output_type": "display_data"
    },
    {
     "data": {
      "text/html": [
       "Find user logs for this run at: <code>c:\\Users\\Jaitesh\\Desktop\\Courses\\DL\\RecurrentNetwork\\wandb\\run-20210518_115626-kbbhtcbm\\logs\\debug.log</code>"
      ],
      "text/plain": [
       "<IPython.core.display.HTML object>"
      ]
     },
     "metadata": {},
     "output_type": "display_data"
    },
    {
     "data": {
      "text/html": [
       "Find internal logs for this run at: <code>c:\\Users\\Jaitesh\\Desktop\\Courses\\DL\\RecurrentNetwork\\wandb\\run-20210518_115626-kbbhtcbm\\logs\\debug-internal.log</code>"
      ],
      "text/plain": [
       "<IPython.core.display.HTML object>"
      ]
     },
     "metadata": {},
     "output_type": "display_data"
    },
    {
     "data": {
      "text/html": [
       "<h3>Run summary:</h3><br/><style>\n",
       "    table.wandb td:nth-child(1) { padding: 0 10px; text-align: right }\n",
       "    </style><table class=\"wandb\">\n",
       "<tr><td>Test_Acc</td><td>0.0</td></tr><tr><td>_runtime</td><td>77</td></tr><tr><td>_timestamp</td><td>1621319263</td></tr><tr><td>_step</td><td>0</td></tr></table>"
      ],
      "text/plain": [
       "<IPython.core.display.HTML object>"
      ]
     },
     "metadata": {},
     "output_type": "display_data"
    },
    {
     "data": {
      "text/html": [
       "<h3>Run history:</h3><br/><style>\n",
       "    table.wandb td:nth-child(1) { padding: 0 10px; text-align: right }\n",
       "    </style><table class=\"wandb\">\n",
       "<tr><td>Test_Acc</td><td>▁</td></tr><tr><td>_runtime</td><td>▁</td></tr><tr><td>_timestamp</td><td>▁</td></tr><tr><td>_step</td><td>▁</td></tr></table><br/>"
      ],
      "text/plain": [
       "<IPython.core.display.HTML object>"
      ]
     },
     "metadata": {},
     "output_type": "display_data"
    },
    {
     "data": {
      "text/html": [
       "Synced 5 W&B file(s), 0 media file(s), 0 artifact file(s) and 0 other file(s)"
      ],
      "text/plain": [
       "<IPython.core.display.HTML object>"
      ]
     },
     "metadata": {},
     "output_type": "display_data"
    },
    {
     "data": {
      "text/html": [
       "\n",
       "                    <br/>Synced <strong style=\"color:#cdcd00\">sunny-sweep-2</strong>: <a href=\"https://wandb.ai/mooizz/Rec_dakhashina/runs/kbbhtcbm\" target=\"_blank\">https://wandb.ai/mooizz/Rec_dakhashina/runs/kbbhtcbm</a><br/>\n",
       "                "
      ],
      "text/plain": [
       "<IPython.core.display.HTML object>"
      ]
     },
     "metadata": {},
     "output_type": "display_data"
    },
    {
     "name": "stderr",
     "output_type": "stream",
     "text": [
      "wandb: Agent Starting Run: asqtl5qt with config:\n",
      "wandb: \tbeam_size: 1\n",
      "wandb: \tcell_type: RNN\n",
      "wandb: \tdropout: 0\n",
      "wandb: \thidden_size: 64\n",
      "wandb: \tinput_embed_size: 32\n",
      "wandb: wandb version 0.10.30 is available!  To upgrade, please run:\n",
      "wandb:  $ pip install wandb --upgrade\n"
     ]
    },
    {
     "data": {
      "text/html": [
       "\n",
       "                Tracking run with wandb version 0.10.25<br/>\n",
       "                Syncing run <strong style=\"color:#cdcd00\">leafy-sweep-3</strong> to <a href=\"https://wandb.ai\" target=\"_blank\">Weights & Biases</a> <a href=\"https://docs.wandb.com/integrations/jupyter.html\" target=\"_blank\">(Documentation)</a>.<br/>\n",
       "                Project page: <a href=\"https://wandb.ai/mooizz/Rec_dakhashina\" target=\"_blank\">https://wandb.ai/mooizz/Rec_dakhashina</a><br/>\n",
       "                Sweep page: <a href=\"https://wandb.ai/mooizz/Rec_dakhashina/sweeps/ccz1whbm\" target=\"_blank\">https://wandb.ai/mooizz/Rec_dakhashina/sweeps/ccz1whbm</a><br/>\n",
       "Run page: <a href=\"https://wandb.ai/mooizz/Rec_dakhashina/runs/asqtl5qt\" target=\"_blank\">https://wandb.ai/mooizz/Rec_dakhashina/runs/asqtl5qt</a><br/>\n",
       "                Run data is saved locally in <code>c:\\Users\\Jaitesh\\Desktop\\Courses\\DL\\RecurrentNetwork\\wandb\\run-20210518_115817-asqtl5qt</code><br/><br/>\n",
       "            "
      ],
      "text/plain": [
       "<IPython.core.display.HTML object>"
      ]
     },
     "metadata": {},
     "output_type": "display_data"
    },
    {
     "name": "stdout",
     "output_type": "stream",
     "text": [
      "(None, None, 64)\n"
     ]
    },
    {
     "name": "stderr",
     "output_type": "stream",
     "text": [
      "C:\\Users\\Jaitesh\\.conda\\envs\\tf2.4\\lib\\site-packages\\tensorflow\\python\\data\\ops\\dataset_ops.py:3503: UserWarning: Even though the tf.config.experimental_run_functions_eagerly option is set, this option does not apply to tf.data functions. tf.data functions are still traced and executed as graphs.\n",
      "  warnings.warn(\n"
     ]
    },
    {
     "name": "stdout",
     "output_type": "stream",
     "text": [
      "Testing\n",
      "INFO:tensorflow:Assets written to: models\\ccz1whbm\\leafy-sweep-3\\assets\n"
     ]
    },
    {
     "name": "stderr",
     "output_type": "stream",
     "text": [
      "INFO:tensorflow:Assets written to: models\\ccz1whbm\\leafy-sweep-3\\assets\n"
     ]
    },
    {
     "data": {
      "text/html": [
       "<br/>Waiting for W&B process to finish, PID 22420<br/>Program ended successfully."
      ],
      "text/plain": [
       "<IPython.core.display.HTML object>"
      ]
     },
     "metadata": {},
     "output_type": "display_data"
    },
    {
     "data": {
      "application/vnd.jupyter.widget-view+json": {
       "model_id": "",
       "version_major": 2,
       "version_minor": 0
      },
      "text/plain": [
       "VBox(children=(Label(value=' 0.00MB of 0.00MB uploaded (0.00MB deduped)\\r'), FloatProgress(value=1.0, max=1.0)…"
      ]
     },
     "metadata": {},
     "output_type": "display_data"
    },
    {
     "data": {
      "text/html": [
       "Find user logs for this run at: <code>c:\\Users\\Jaitesh\\Desktop\\Courses\\DL\\RecurrentNetwork\\wandb\\run-20210518_115817-asqtl5qt\\logs\\debug.log</code>"
      ],
      "text/plain": [
       "<IPython.core.display.HTML object>"
      ]
     },
     "metadata": {},
     "output_type": "display_data"
    },
    {
     "data": {
      "text/html": [
       "Find internal logs for this run at: <code>c:\\Users\\Jaitesh\\Desktop\\Courses\\DL\\RecurrentNetwork\\wandb\\run-20210518_115817-asqtl5qt\\logs\\debug-internal.log</code>"
      ],
      "text/plain": [
       "<IPython.core.display.HTML object>"
      ]
     },
     "metadata": {},
     "output_type": "display_data"
    },
    {
     "data": {
      "text/html": [
       "<h3>Run summary:</h3><br/><style>\n",
       "    table.wandb td:nth-child(1) { padding: 0 10px; text-align: right }\n",
       "    </style><table class=\"wandb\">\n",
       "<tr><td>Test_Acc</td><td>0.0</td></tr><tr><td>_runtime</td><td>79</td></tr><tr><td>_timestamp</td><td>1621319376</td></tr><tr><td>_step</td><td>0</td></tr></table>"
      ],
      "text/plain": [
       "<IPython.core.display.HTML object>"
      ]
     },
     "metadata": {},
     "output_type": "display_data"
    },
    {
     "data": {
      "text/html": [
       "<h3>Run history:</h3><br/><style>\n",
       "    table.wandb td:nth-child(1) { padding: 0 10px; text-align: right }\n",
       "    </style><table class=\"wandb\">\n",
       "<tr><td>Test_Acc</td><td>▁</td></tr><tr><td>_runtime</td><td>▁</td></tr><tr><td>_timestamp</td><td>▁</td></tr><tr><td>_step</td><td>▁</td></tr></table><br/>"
      ],
      "text/plain": [
       "<IPython.core.display.HTML object>"
      ]
     },
     "metadata": {},
     "output_type": "display_data"
    },
    {
     "data": {
      "text/html": [
       "Synced 5 W&B file(s), 0 media file(s), 0 artifact file(s) and 0 other file(s)"
      ],
      "text/plain": [
       "<IPython.core.display.HTML object>"
      ]
     },
     "metadata": {},
     "output_type": "display_data"
    },
    {
     "data": {
      "text/html": [
       "\n",
       "                    <br/>Synced <strong style=\"color:#cdcd00\">leafy-sweep-3</strong>: <a href=\"https://wandb.ai/mooizz/Rec_dakhashina/runs/asqtl5qt\" target=\"_blank\">https://wandb.ai/mooizz/Rec_dakhashina/runs/asqtl5qt</a><br/>\n",
       "                "
      ],
      "text/plain": [
       "<IPython.core.display.HTML object>"
      ]
     },
     "metadata": {},
     "output_type": "display_data"
    },
    {
     "name": "stderr",
     "output_type": "stream",
     "text": [
      "wandb: Sweep Agent: Waiting for job.\n",
      "wandb: Sweep Agent: Exiting.\n"
     ]
    }
   ],
   "source": [
    "wandb.agent(sweep_id, train)"
   ]
  },
  {
   "source": [
    "# Best Model "
   ],
   "cell_type": "markdown",
   "metadata": {}
  },
  {
   "cell_type": "code",
   "execution_count": 55,
   "metadata": {},
   "outputs": [
    {
     "output_type": "stream",
     "name": "stderr",
     "text": [
      "wandb: wandb version 0.10.30 is available!  To upgrade, please run:\nwandb:  $ pip install wandb --upgrade\n"
     ]
    },
    {
     "output_type": "display_data",
     "data": {
      "text/plain": "<IPython.core.display.HTML object>",
      "text/html": "\n                Tracking run with wandb version 0.10.21<br/>\n                Syncing run <strong style=\"color:#cdcd00\">avid-pond-103</strong> to <a href=\"https://wandb.ai\" target=\"_blank\">Weights & Biases</a> <a href=\"https://docs.wandb.com/integrations/jupyter.html\" target=\"_blank\">(Documentation)</a>.<br/>\n                Project page: <a href=\"https://wandb.ai/mooizz/Rec_dakhashina\" target=\"_blank\">https://wandb.ai/mooizz/Rec_dakhashina</a><br/>\n                Run page: <a href=\"https://wandb.ai/mooizz/Rec_dakhashina/runs/2rpv20i6\" target=\"_blank\">https://wandb.ai/mooizz/Rec_dakhashina/runs/2rpv20i6</a><br/>\n                Run data is saved locally in <code>c:\\Users\\HP\\Documents\\DL\\RecurrentNetwork\\wandb\\run-20210520_172755-2rpv20i6</code><br/><br/>\n            "
     },
     "metadata": {}
    },
    {
     "output_type": "execute_result",
     "data": {
      "text/html": "<h1>Run(2rpv20i6)</h1><iframe src=\"https://wandb.ai/mooizz/Rec_dakhashina/runs/2rpv20i6\" style=\"border:none;width:100%;height:400px\"></iframe>",
      "text/plain": [
       "<wandb.sdk.wandb_run.Run at 0x25865a6e390>"
      ]
     },
     "metadata": {},
     "execution_count": 55
    }
   ],
   "source": [
    "wandb.init( entity=\"mooizz\",project=\"Rec_dakhashina\")"
   ]
  },
  {
   "cell_type": "code",
   "execution_count": 58,
   "metadata": {},
   "outputs": [
    {
     "output_type": "stream",
     "name": "stdout",
     "text": [
      "Model: \"model\"\n__________________________________________________________________________________________________\nLayer (type)                    Output Shape         Param #     Connected to                     \n==================================================================================================\ninput (InputLayer)              [(None, None)]       0                                            \n__________________________________________________________________________________________________\ndecoder_input (InputLayer)      [(None, None)]       0                                            \n__________________________________________________________________________________________________\nembedding (Embedding)           (None, None, 64)     1728        input[0][0]                      \n__________________________________________________________________________________________________\ndecoder_embedding (Embedding)   (None, None, 64)     4224        decoder_input[0][0]              \n__________________________________________________________________________________________________\nlstm (LSTM)                     [(None, None, 512),  1181696     embedding[0][0]                  \n__________________________________________________________________________________________________\nlstm_1 (LSTM)                   [(None, None, 512),  1181696     decoder_embedding[0][0]          \n                                                                 lstm[0][1]                       \n                                                                 lstm[0][2]                       \n__________________________________________________________________________________________________\nattention_layer (AttentionLayer ((None, None, 512),  524800      lstm[0][0]                       \n                                                                 lstm_1[0][0]                     \n__________________________________________________________________________________________________\nconcat_layer (Concatenate)      (None, None, 1024)   0           lstm_1[0][0]                     \n                                                                 attention_layer[0][0]            \n__________________________________________________________________________________________________\ntime_distributed_layer (TimeDis (None, None, 66)     67650       concat_layer[0][0]               \n==================================================================================================\nTotal params: 2,961,794\nTrainable params: 2,961,794\nNon-trainable params: 0\n__________________________________________________________________________________________________\n"
     ]
    }
   ],
   "source": [
    "best_model, enc_model, dec_model = get_Model(64,512,\n",
    "                     'LSTM',\n",
    "                     0.2)\n",
    "best_model.compile(\n",
    "    optimizer=\"adam\", loss=\"categorical_crossentropy\", metrics=[\"accuracy\"]\n",
    "    )\n",
    "best_model.summary()\n"
   ]
  },
  {
   "cell_type": "code",
   "execution_count": 59,
   "metadata": {},
   "outputs": [
    {
     "output_type": "stream",
     "name": "stderr",
     "text": [
      "C:\\Users\\HP\\AppData\\Local\\Programs\\Python\\Python37\\lib\\site-packages\\tensorflow\\python\\data\\ops\\dataset_ops.py:3504: UserWarning: Even though the tf.config.experimental_run_functions_eagerly option is set, this option does not apply to tf.data functions. tf.data functions are still traced and executed as graphs.\n",
      "  \"Even though the tf.config.experimental_run_functions_eagerly \"\n",
      "Epoch 1/10\n",
      "915/915 [==============================] - 2789s 3s/step - loss: 0.9435 - accuracy: 0.3361 - val_loss: 0.1522 - val_accuracy: 0.7891\n",
      "Epoch 2/10\n",
      "915/915 [==============================] - 2683s 3s/step - loss: 0.1213 - accuracy: 0.8197 - val_loss: 0.1088 - val_accuracy: 0.8181\n",
      "Epoch 3/10\n",
      "885/915 [============================>.] - ETA: 1:31 - loss: 0.0848 - accuracy: 0.8423"
     ]
    },
    {
     "output_type": "error",
     "ename": "KeyboardInterrupt",
     "evalue": "",
     "traceback": [
      "\u001b[1;31m---------------------------------------------------------------------------\u001b[0m",
      "\u001b[1;31mKeyboardInterrupt\u001b[0m                         Traceback (most recent call last)",
      "\u001b[1;32m<ipython-input-59-071db8e13296>\u001b[0m in \u001b[0;36m<module>\u001b[1;34m\u001b[0m\n\u001b[0;32m     12\u001b[0m         ),\n\u001b[0;32m     13\u001b[0m         \u001b[0mshuffle\u001b[0m\u001b[1;33m=\u001b[0m\u001b[1;32mTrue\u001b[0m\u001b[1;33m,\u001b[0m\u001b[1;33m\u001b[0m\u001b[0m\n\u001b[1;32m---> 14\u001b[1;33m         callbacks=[WandbCallback(), EarlyStopCB]) \n\u001b[0m",
      "\u001b[1;32m~\\AppData\\Local\\Programs\\Python\\Python37\\lib\\site-packages\\wandb\\integration\\keras\\keras.py\u001b[0m in \u001b[0;36mnew_v2\u001b[1;34m(*args, **kwargs)\u001b[0m\n\u001b[0;32m    117\u001b[0m             \u001b[1;32mfor\u001b[0m \u001b[0mcbk\u001b[0m \u001b[1;32min\u001b[0m \u001b[0mcbks\u001b[0m\u001b[1;33m:\u001b[0m\u001b[1;33m\u001b[0m\u001b[0m\n\u001b[0;32m    118\u001b[0m                 \u001b[0mset_wandb_attrs\u001b[0m\u001b[1;33m(\u001b[0m\u001b[0mcbk\u001b[0m\u001b[1;33m,\u001b[0m \u001b[0mval_data\u001b[0m\u001b[1;33m)\u001b[0m\u001b[1;33m\u001b[0m\u001b[0m\n\u001b[1;32m--> 119\u001b[1;33m         \u001b[1;32mreturn\u001b[0m \u001b[0mold_v2\u001b[0m\u001b[1;33m(\u001b[0m\u001b[1;33m*\u001b[0m\u001b[0margs\u001b[0m\u001b[1;33m,\u001b[0m \u001b[1;33m**\u001b[0m\u001b[0mkwargs\u001b[0m\u001b[1;33m)\u001b[0m\u001b[1;33m\u001b[0m\u001b[0m\n\u001b[0m\u001b[0;32m    120\u001b[0m \u001b[1;33m\u001b[0m\u001b[0m\n\u001b[0;32m    121\u001b[0m     \u001b[0mtraining_arrays\u001b[0m\u001b[1;33m.\u001b[0m\u001b[0morig_fit_loop\u001b[0m \u001b[1;33m=\u001b[0m \u001b[0mold_arrays\u001b[0m\u001b[1;33m\u001b[0m\u001b[0m\n",
      "\u001b[1;32m~\\AppData\\Local\\Programs\\Python\\Python37\\lib\\site-packages\\tensorflow\\python\\keras\\engine\\training.py\u001b[0m in \u001b[0;36mfit\u001b[1;34m(self, x, y, batch_size, epochs, verbose, callbacks, validation_split, validation_data, shuffle, class_weight, sample_weight, initial_epoch, steps_per_epoch, validation_steps, validation_batch_size, validation_freq, max_queue_size, workers, use_multiprocessing)\u001b[0m\n\u001b[0;32m   1098\u001b[0m                 _r=1):\n\u001b[0;32m   1099\u001b[0m               \u001b[0mcallbacks\u001b[0m\u001b[1;33m.\u001b[0m\u001b[0mon_train_batch_begin\u001b[0m\u001b[1;33m(\u001b[0m\u001b[0mstep\u001b[0m\u001b[1;33m)\u001b[0m\u001b[1;33m\u001b[0m\u001b[0m\n\u001b[1;32m-> 1100\u001b[1;33m               \u001b[0mtmp_logs\u001b[0m \u001b[1;33m=\u001b[0m \u001b[0mself\u001b[0m\u001b[1;33m.\u001b[0m\u001b[0mtrain_function\u001b[0m\u001b[1;33m(\u001b[0m\u001b[0miterator\u001b[0m\u001b[1;33m)\u001b[0m\u001b[1;33m\u001b[0m\u001b[0m\n\u001b[0m\u001b[0;32m   1101\u001b[0m               \u001b[1;32mif\u001b[0m \u001b[0mdata_handler\u001b[0m\u001b[1;33m.\u001b[0m\u001b[0mshould_sync\u001b[0m\u001b[1;33m:\u001b[0m\u001b[1;33m\u001b[0m\u001b[0m\n\u001b[0;32m   1102\u001b[0m                 \u001b[0mcontext\u001b[0m\u001b[1;33m.\u001b[0m\u001b[0masync_wait\u001b[0m\u001b[1;33m(\u001b[0m\u001b[1;33m)\u001b[0m\u001b[1;33m\u001b[0m\u001b[0m\n",
      "\u001b[1;32m~\\AppData\\Local\\Programs\\Python\\Python37\\lib\\site-packages\\tensorflow\\python\\keras\\engine\\training.py\u001b[0m in \u001b[0;36mtrain_function\u001b[1;34m(iterator)\u001b[0m\n\u001b[0;32m    803\u001b[0m       \u001b[1;32mdef\u001b[0m \u001b[0mtrain_function\u001b[0m\u001b[1;33m(\u001b[0m\u001b[0miterator\u001b[0m\u001b[1;33m)\u001b[0m\u001b[1;33m:\u001b[0m\u001b[1;33m\u001b[0m\u001b[0m\n\u001b[0;32m    804\u001b[0m         \u001b[1;34m\"\"\"Runs a training execution with one step.\"\"\"\u001b[0m\u001b[1;33m\u001b[0m\u001b[0m\n\u001b[1;32m--> 805\u001b[1;33m         \u001b[1;32mreturn\u001b[0m \u001b[0mstep_function\u001b[0m\u001b[1;33m(\u001b[0m\u001b[0mself\u001b[0m\u001b[1;33m,\u001b[0m \u001b[0miterator\u001b[0m\u001b[1;33m)\u001b[0m\u001b[1;33m\u001b[0m\u001b[0m\n\u001b[0m\u001b[0;32m    806\u001b[0m \u001b[1;33m\u001b[0m\u001b[0m\n\u001b[0;32m    807\u001b[0m     \u001b[1;32melse\u001b[0m\u001b[1;33m:\u001b[0m\u001b[1;33m\u001b[0m\u001b[0m\n",
      "\u001b[1;32m~\\AppData\\Local\\Programs\\Python\\Python37\\lib\\site-packages\\tensorflow\\python\\keras\\engine\\training.py\u001b[0m in \u001b[0;36mstep_function\u001b[1;34m(model, iterator)\u001b[0m\n\u001b[0;32m    793\u001b[0m \u001b[1;33m\u001b[0m\u001b[0m\n\u001b[0;32m    794\u001b[0m       \u001b[0mdata\u001b[0m \u001b[1;33m=\u001b[0m \u001b[0mnext\u001b[0m\u001b[1;33m(\u001b[0m\u001b[0miterator\u001b[0m\u001b[1;33m)\u001b[0m\u001b[1;33m\u001b[0m\u001b[0m\n\u001b[1;32m--> 795\u001b[1;33m       \u001b[0moutputs\u001b[0m \u001b[1;33m=\u001b[0m \u001b[0mmodel\u001b[0m\u001b[1;33m.\u001b[0m\u001b[0mdistribute_strategy\u001b[0m\u001b[1;33m.\u001b[0m\u001b[0mrun\u001b[0m\u001b[1;33m(\u001b[0m\u001b[0mrun_step\u001b[0m\u001b[1;33m,\u001b[0m \u001b[0margs\u001b[0m\u001b[1;33m=\u001b[0m\u001b[1;33m(\u001b[0m\u001b[0mdata\u001b[0m\u001b[1;33m,\u001b[0m\u001b[1;33m)\u001b[0m\u001b[1;33m)\u001b[0m\u001b[1;33m\u001b[0m\u001b[0m\n\u001b[0m\u001b[0;32m    796\u001b[0m       outputs = reduce_per_replica(\n\u001b[0;32m    797\u001b[0m           outputs, self.distribute_strategy, reduction='first')\n",
      "\u001b[1;32m~\\AppData\\Local\\Programs\\Python\\Python37\\lib\\site-packages\\tensorflow\\python\\distribute\\distribute_lib.py\u001b[0m in \u001b[0;36mrun\u001b[1;34m(***failed resolving arguments***)\u001b[0m\n\u001b[0;32m   1257\u001b[0m       fn = autograph.tf_convert(\n\u001b[0;32m   1258\u001b[0m           fn, autograph_ctx.control_status_ctx(), convert_by_default=False)\n\u001b[1;32m-> 1259\u001b[1;33m       \u001b[1;32mreturn\u001b[0m \u001b[0mself\u001b[0m\u001b[1;33m.\u001b[0m\u001b[0m_extended\u001b[0m\u001b[1;33m.\u001b[0m\u001b[0mcall_for_each_replica\u001b[0m\u001b[1;33m(\u001b[0m\u001b[0mfn\u001b[0m\u001b[1;33m,\u001b[0m \u001b[0margs\u001b[0m\u001b[1;33m=\u001b[0m\u001b[0margs\u001b[0m\u001b[1;33m,\u001b[0m \u001b[0mkwargs\u001b[0m\u001b[1;33m=\u001b[0m\u001b[0mkwargs\u001b[0m\u001b[1;33m)\u001b[0m\u001b[1;33m\u001b[0m\u001b[0m\n\u001b[0m\u001b[0;32m   1260\u001b[0m \u001b[1;33m\u001b[0m\u001b[0m\n\u001b[0;32m   1261\u001b[0m   \u001b[1;32mdef\u001b[0m \u001b[0mreduce\u001b[0m\u001b[1;33m(\u001b[0m\u001b[0mself\u001b[0m\u001b[1;33m,\u001b[0m \u001b[0mreduce_op\u001b[0m\u001b[1;33m,\u001b[0m \u001b[0mvalue\u001b[0m\u001b[1;33m,\u001b[0m \u001b[0maxis\u001b[0m\u001b[1;33m)\u001b[0m\u001b[1;33m:\u001b[0m\u001b[1;33m\u001b[0m\u001b[0m\n",
      "\u001b[1;32m~\\AppData\\Local\\Programs\\Python\\Python37\\lib\\site-packages\\tensorflow\\python\\distribute\\distribute_lib.py\u001b[0m in \u001b[0;36mcall_for_each_replica\u001b[1;34m(self, fn, args, kwargs)\u001b[0m\n\u001b[0;32m   2728\u001b[0m       \u001b[0mkwargs\u001b[0m \u001b[1;33m=\u001b[0m \u001b[1;33m{\u001b[0m\u001b[1;33m}\u001b[0m\u001b[1;33m\u001b[0m\u001b[0m\n\u001b[0;32m   2729\u001b[0m     \u001b[1;32mwith\u001b[0m \u001b[0mself\u001b[0m\u001b[1;33m.\u001b[0m\u001b[0m_container_strategy\u001b[0m\u001b[1;33m(\u001b[0m\u001b[1;33m)\u001b[0m\u001b[1;33m.\u001b[0m\u001b[0mscope\u001b[0m\u001b[1;33m(\u001b[0m\u001b[1;33m)\u001b[0m\u001b[1;33m:\u001b[0m\u001b[1;33m\u001b[0m\u001b[0m\n\u001b[1;32m-> 2730\u001b[1;33m       \u001b[1;32mreturn\u001b[0m \u001b[0mself\u001b[0m\u001b[1;33m.\u001b[0m\u001b[0m_call_for_each_replica\u001b[0m\u001b[1;33m(\u001b[0m\u001b[0mfn\u001b[0m\u001b[1;33m,\u001b[0m \u001b[0margs\u001b[0m\u001b[1;33m,\u001b[0m \u001b[0mkwargs\u001b[0m\u001b[1;33m)\u001b[0m\u001b[1;33m\u001b[0m\u001b[0m\n\u001b[0m\u001b[0;32m   2731\u001b[0m \u001b[1;33m\u001b[0m\u001b[0m\n\u001b[0;32m   2732\u001b[0m   \u001b[1;32mdef\u001b[0m \u001b[0m_call_for_each_replica\u001b[0m\u001b[1;33m(\u001b[0m\u001b[0mself\u001b[0m\u001b[1;33m,\u001b[0m \u001b[0mfn\u001b[0m\u001b[1;33m,\u001b[0m \u001b[0margs\u001b[0m\u001b[1;33m,\u001b[0m \u001b[0mkwargs\u001b[0m\u001b[1;33m)\u001b[0m\u001b[1;33m:\u001b[0m\u001b[1;33m\u001b[0m\u001b[0m\n",
      "\u001b[1;32m~\\AppData\\Local\\Programs\\Python\\Python37\\lib\\site-packages\\tensorflow\\python\\distribute\\distribute_lib.py\u001b[0m in \u001b[0;36m_call_for_each_replica\u001b[1;34m(self, fn, args, kwargs)\u001b[0m\n\u001b[0;32m   3415\u001b[0m   \u001b[1;32mdef\u001b[0m \u001b[0m_call_for_each_replica\u001b[0m\u001b[1;33m(\u001b[0m\u001b[0mself\u001b[0m\u001b[1;33m,\u001b[0m \u001b[0mfn\u001b[0m\u001b[1;33m,\u001b[0m \u001b[0margs\u001b[0m\u001b[1;33m,\u001b[0m \u001b[0mkwargs\u001b[0m\u001b[1;33m)\u001b[0m\u001b[1;33m:\u001b[0m\u001b[1;33m\u001b[0m\u001b[0m\n\u001b[0;32m   3416\u001b[0m     \u001b[1;32mwith\u001b[0m \u001b[0mReplicaContext\u001b[0m\u001b[1;33m(\u001b[0m\u001b[0mself\u001b[0m\u001b[1;33m.\u001b[0m\u001b[0m_container_strategy\u001b[0m\u001b[1;33m(\u001b[0m\u001b[1;33m)\u001b[0m\u001b[1;33m,\u001b[0m \u001b[0mreplica_id_in_sync_group\u001b[0m\u001b[1;33m=\u001b[0m\u001b[1;36m0\u001b[0m\u001b[1;33m)\u001b[0m\u001b[1;33m:\u001b[0m\u001b[1;33m\u001b[0m\u001b[0m\n\u001b[1;32m-> 3417\u001b[1;33m       \u001b[1;32mreturn\u001b[0m \u001b[0mfn\u001b[0m\u001b[1;33m(\u001b[0m\u001b[1;33m*\u001b[0m\u001b[0margs\u001b[0m\u001b[1;33m,\u001b[0m \u001b[1;33m**\u001b[0m\u001b[0mkwargs\u001b[0m\u001b[1;33m)\u001b[0m\u001b[1;33m\u001b[0m\u001b[0m\n\u001b[0m\u001b[0;32m   3418\u001b[0m \u001b[1;33m\u001b[0m\u001b[0m\n\u001b[0;32m   3419\u001b[0m   \u001b[1;32mdef\u001b[0m \u001b[0m_reduce_to\u001b[0m\u001b[1;33m(\u001b[0m\u001b[0mself\u001b[0m\u001b[1;33m,\u001b[0m \u001b[0mreduce_op\u001b[0m\u001b[1;33m,\u001b[0m \u001b[0mvalue\u001b[0m\u001b[1;33m,\u001b[0m \u001b[0mdestinations\u001b[0m\u001b[1;33m,\u001b[0m \u001b[0moptions\u001b[0m\u001b[1;33m)\u001b[0m\u001b[1;33m:\u001b[0m\u001b[1;33m\u001b[0m\u001b[0m\n",
      "\u001b[1;32m~\\AppData\\Local\\Programs\\Python\\Python37\\lib\\site-packages\\tensorflow\\python\\autograph\\impl\\api.py\u001b[0m in \u001b[0;36mwrapper\u001b[1;34m(*args, **kwargs)\u001b[0m\n\u001b[0;32m    570\u001b[0m   \u001b[1;32mdef\u001b[0m \u001b[0mwrapper\u001b[0m\u001b[1;33m(\u001b[0m\u001b[1;33m*\u001b[0m\u001b[0margs\u001b[0m\u001b[1;33m,\u001b[0m \u001b[1;33m**\u001b[0m\u001b[0mkwargs\u001b[0m\u001b[1;33m)\u001b[0m\u001b[1;33m:\u001b[0m\u001b[1;33m\u001b[0m\u001b[0m\n\u001b[0;32m    571\u001b[0m     \u001b[1;32mwith\u001b[0m \u001b[0mag_ctx\u001b[0m\u001b[1;33m.\u001b[0m\u001b[0mControlStatusCtx\u001b[0m\u001b[1;33m(\u001b[0m\u001b[0mstatus\u001b[0m\u001b[1;33m=\u001b[0m\u001b[0mag_ctx\u001b[0m\u001b[1;33m.\u001b[0m\u001b[0mStatus\u001b[0m\u001b[1;33m.\u001b[0m\u001b[0mUNSPECIFIED\u001b[0m\u001b[1;33m)\u001b[0m\u001b[1;33m:\u001b[0m\u001b[1;33m\u001b[0m\u001b[0m\n\u001b[1;32m--> 572\u001b[1;33m       \u001b[1;32mreturn\u001b[0m \u001b[0mfunc\u001b[0m\u001b[1;33m(\u001b[0m\u001b[1;33m*\u001b[0m\u001b[0margs\u001b[0m\u001b[1;33m,\u001b[0m \u001b[1;33m**\u001b[0m\u001b[0mkwargs\u001b[0m\u001b[1;33m)\u001b[0m\u001b[1;33m\u001b[0m\u001b[0m\n\u001b[0m\u001b[0;32m    573\u001b[0m \u001b[1;33m\u001b[0m\u001b[0m\n\u001b[0;32m    574\u001b[0m   \u001b[1;32mif\u001b[0m \u001b[0minspect\u001b[0m\u001b[1;33m.\u001b[0m\u001b[0misfunction\u001b[0m\u001b[1;33m(\u001b[0m\u001b[0mfunc\u001b[0m\u001b[1;33m)\u001b[0m \u001b[1;32mor\u001b[0m \u001b[0minspect\u001b[0m\u001b[1;33m.\u001b[0m\u001b[0mismethod\u001b[0m\u001b[1;33m(\u001b[0m\u001b[0mfunc\u001b[0m\u001b[1;33m)\u001b[0m\u001b[1;33m:\u001b[0m\u001b[1;33m\u001b[0m\u001b[0m\n",
      "\u001b[1;32m~\\AppData\\Local\\Programs\\Python\\Python37\\lib\\site-packages\\tensorflow\\python\\keras\\engine\\training.py\u001b[0m in \u001b[0;36mrun_step\u001b[1;34m(data)\u001b[0m\n\u001b[0;32m    786\u001b[0m \u001b[1;33m\u001b[0m\u001b[0m\n\u001b[0;32m    787\u001b[0m       \u001b[1;32mdef\u001b[0m \u001b[0mrun_step\u001b[0m\u001b[1;33m(\u001b[0m\u001b[0mdata\u001b[0m\u001b[1;33m)\u001b[0m\u001b[1;33m:\u001b[0m\u001b[1;33m\u001b[0m\u001b[0m\n\u001b[1;32m--> 788\u001b[1;33m         \u001b[0moutputs\u001b[0m \u001b[1;33m=\u001b[0m \u001b[0mmodel\u001b[0m\u001b[1;33m.\u001b[0m\u001b[0mtrain_step\u001b[0m\u001b[1;33m(\u001b[0m\u001b[0mdata\u001b[0m\u001b[1;33m)\u001b[0m\u001b[1;33m\u001b[0m\u001b[0m\n\u001b[0m\u001b[0;32m    789\u001b[0m         \u001b[1;31m# Ensure counter is updated only if `train_step` succeeds.\u001b[0m\u001b[1;33m\u001b[0m\u001b[1;33m\u001b[0m\u001b[0m\n\u001b[0;32m    790\u001b[0m         \u001b[1;32mwith\u001b[0m \u001b[0mops\u001b[0m\u001b[1;33m.\u001b[0m\u001b[0mcontrol_dependencies\u001b[0m\u001b[1;33m(\u001b[0m\u001b[0m_minimum_control_deps\u001b[0m\u001b[1;33m(\u001b[0m\u001b[0moutputs\u001b[0m\u001b[1;33m)\u001b[0m\u001b[1;33m)\u001b[0m\u001b[1;33m:\u001b[0m\u001b[1;33m\u001b[0m\u001b[0m\n",
      "\u001b[1;32m~\\AppData\\Local\\Programs\\Python\\Python37\\lib\\site-packages\\tensorflow\\python\\keras\\engine\\training.py\u001b[0m in \u001b[0;36mtrain_step\u001b[1;34m(self, data)\u001b[0m\n\u001b[0;32m    755\u001b[0m       loss = self.compiled_loss(\n\u001b[0;32m    756\u001b[0m           y, y_pred, sample_weight, regularization_losses=self.losses)\n\u001b[1;32m--> 757\u001b[1;33m     \u001b[0mself\u001b[0m\u001b[1;33m.\u001b[0m\u001b[0moptimizer\u001b[0m\u001b[1;33m.\u001b[0m\u001b[0mminimize\u001b[0m\u001b[1;33m(\u001b[0m\u001b[0mloss\u001b[0m\u001b[1;33m,\u001b[0m \u001b[0mself\u001b[0m\u001b[1;33m.\u001b[0m\u001b[0mtrainable_variables\u001b[0m\u001b[1;33m,\u001b[0m \u001b[0mtape\u001b[0m\u001b[1;33m=\u001b[0m\u001b[0mtape\u001b[0m\u001b[1;33m)\u001b[0m\u001b[1;33m\u001b[0m\u001b[0m\n\u001b[0m\u001b[0;32m    758\u001b[0m     \u001b[0mself\u001b[0m\u001b[1;33m.\u001b[0m\u001b[0mcompiled_metrics\u001b[0m\u001b[1;33m.\u001b[0m\u001b[0mupdate_state\u001b[0m\u001b[1;33m(\u001b[0m\u001b[0my\u001b[0m\u001b[1;33m,\u001b[0m \u001b[0my_pred\u001b[0m\u001b[1;33m,\u001b[0m \u001b[0msample_weight\u001b[0m\u001b[1;33m)\u001b[0m\u001b[1;33m\u001b[0m\u001b[0m\n\u001b[0;32m    759\u001b[0m     \u001b[1;32mreturn\u001b[0m \u001b[1;33m{\u001b[0m\u001b[0mm\u001b[0m\u001b[1;33m.\u001b[0m\u001b[0mname\u001b[0m\u001b[1;33m:\u001b[0m \u001b[0mm\u001b[0m\u001b[1;33m.\u001b[0m\u001b[0mresult\u001b[0m\u001b[1;33m(\u001b[0m\u001b[1;33m)\u001b[0m \u001b[1;32mfor\u001b[0m \u001b[0mm\u001b[0m \u001b[1;32min\u001b[0m \u001b[0mself\u001b[0m\u001b[1;33m.\u001b[0m\u001b[0mmetrics\u001b[0m\u001b[1;33m}\u001b[0m\u001b[1;33m\u001b[0m\u001b[0m\n",
      "\u001b[1;32m~\\AppData\\Local\\Programs\\Python\\Python37\\lib\\site-packages\\tensorflow\\python\\keras\\optimizer_v2\\optimizer_v2.py\u001b[0m in \u001b[0;36mminimize\u001b[1;34m(self, loss, var_list, grad_loss, name, tape)\u001b[0m\n\u001b[0;32m    495\u001b[0m     \"\"\"\n\u001b[0;32m    496\u001b[0m     grads_and_vars = self._compute_gradients(\n\u001b[1;32m--> 497\u001b[1;33m         loss, var_list=var_list, grad_loss=grad_loss, tape=tape)\n\u001b[0m\u001b[0;32m    498\u001b[0m     \u001b[1;32mreturn\u001b[0m \u001b[0mself\u001b[0m\u001b[1;33m.\u001b[0m\u001b[0mapply_gradients\u001b[0m\u001b[1;33m(\u001b[0m\u001b[0mgrads_and_vars\u001b[0m\u001b[1;33m,\u001b[0m \u001b[0mname\u001b[0m\u001b[1;33m=\u001b[0m\u001b[0mname\u001b[0m\u001b[1;33m)\u001b[0m\u001b[1;33m\u001b[0m\u001b[0m\n\u001b[0;32m    499\u001b[0m \u001b[1;33m\u001b[0m\u001b[0m\n",
      "\u001b[1;32m~\\AppData\\Local\\Programs\\Python\\Python37\\lib\\site-packages\\tensorflow\\python\\keras\\optimizer_v2\\optimizer_v2.py\u001b[0m in \u001b[0;36m_compute_gradients\u001b[1;34m(self, loss, var_list, grad_loss, tape)\u001b[0m\n\u001b[0;32m    546\u001b[0m     \u001b[0mvar_list\u001b[0m \u001b[1;33m=\u001b[0m \u001b[0mnest\u001b[0m\u001b[1;33m.\u001b[0m\u001b[0mflatten\u001b[0m\u001b[1;33m(\u001b[0m\u001b[0mvar_list\u001b[0m\u001b[1;33m)\u001b[0m\u001b[1;33m\u001b[0m\u001b[0m\n\u001b[0;32m    547\u001b[0m     \u001b[1;32mwith\u001b[0m \u001b[0mops\u001b[0m\u001b[1;33m.\u001b[0m\u001b[0mname_scope_v2\u001b[0m\u001b[1;33m(\u001b[0m\u001b[0mself\u001b[0m\u001b[1;33m.\u001b[0m\u001b[0m_name\u001b[0m \u001b[1;33m+\u001b[0m \u001b[1;34m\"/gradients\"\u001b[0m\u001b[1;33m)\u001b[0m\u001b[1;33m:\u001b[0m\u001b[1;33m\u001b[0m\u001b[0m\n\u001b[1;32m--> 548\u001b[1;33m       \u001b[0mgrads_and_vars\u001b[0m \u001b[1;33m=\u001b[0m \u001b[0mself\u001b[0m\u001b[1;33m.\u001b[0m\u001b[0m_get_gradients\u001b[0m\u001b[1;33m(\u001b[0m\u001b[0mtape\u001b[0m\u001b[1;33m,\u001b[0m \u001b[0mloss\u001b[0m\u001b[1;33m,\u001b[0m \u001b[0mvar_list\u001b[0m\u001b[1;33m,\u001b[0m \u001b[0mgrad_loss\u001b[0m\u001b[1;33m)\u001b[0m\u001b[1;33m\u001b[0m\u001b[0m\n\u001b[0m\u001b[0;32m    549\u001b[0m \u001b[1;33m\u001b[0m\u001b[0m\n\u001b[0;32m    550\u001b[0m     self._assert_valid_dtypes([\n",
      "\u001b[1;32m~\\AppData\\Local\\Programs\\Python\\Python37\\lib\\site-packages\\tensorflow\\python\\keras\\optimizer_v2\\optimizer_v2.py\u001b[0m in \u001b[0;36m_get_gradients\u001b[1;34m(self, tape, loss, var_list, grad_loss)\u001b[0m\n\u001b[0;32m    439\u001b[0m   \u001b[1;32mdef\u001b[0m \u001b[0m_get_gradients\u001b[0m\u001b[1;33m(\u001b[0m\u001b[0mself\u001b[0m\u001b[1;33m,\u001b[0m \u001b[0mtape\u001b[0m\u001b[1;33m,\u001b[0m \u001b[0mloss\u001b[0m\u001b[1;33m,\u001b[0m \u001b[0mvar_list\u001b[0m\u001b[1;33m,\u001b[0m \u001b[0mgrad_loss\u001b[0m\u001b[1;33m=\u001b[0m\u001b[1;32mNone\u001b[0m\u001b[1;33m)\u001b[0m\u001b[1;33m:\u001b[0m\u001b[1;33m\u001b[0m\u001b[0m\n\u001b[0;32m    440\u001b[0m     \u001b[1;34m\"\"\"Called in `minimize` to compute gradients from loss.\"\"\"\u001b[0m\u001b[1;33m\u001b[0m\u001b[0m\n\u001b[1;32m--> 441\u001b[1;33m     \u001b[0mgrads\u001b[0m \u001b[1;33m=\u001b[0m \u001b[0mtape\u001b[0m\u001b[1;33m.\u001b[0m\u001b[0mgradient\u001b[0m\u001b[1;33m(\u001b[0m\u001b[0mloss\u001b[0m\u001b[1;33m,\u001b[0m \u001b[0mvar_list\u001b[0m\u001b[1;33m,\u001b[0m \u001b[0mgrad_loss\u001b[0m\u001b[1;33m)\u001b[0m\u001b[1;33m\u001b[0m\u001b[0m\n\u001b[0m\u001b[0;32m    442\u001b[0m     \u001b[1;32mreturn\u001b[0m \u001b[0mlist\u001b[0m\u001b[1;33m(\u001b[0m\u001b[0mzip\u001b[0m\u001b[1;33m(\u001b[0m\u001b[0mgrads\u001b[0m\u001b[1;33m,\u001b[0m \u001b[0mvar_list\u001b[0m\u001b[1;33m)\u001b[0m\u001b[1;33m)\u001b[0m\u001b[1;33m\u001b[0m\u001b[0m\n\u001b[0;32m    443\u001b[0m \u001b[1;33m\u001b[0m\u001b[0m\n",
      "\u001b[1;32m~\\AppData\\Local\\Programs\\Python\\Python37\\lib\\site-packages\\tensorflow\\python\\eager\\backprop.py\u001b[0m in \u001b[0;36mgradient\u001b[1;34m(self, target, sources, output_gradients, unconnected_gradients)\u001b[0m\n\u001b[0;32m   1084\u001b[0m         \u001b[0moutput_gradients\u001b[0m\u001b[1;33m=\u001b[0m\u001b[0moutput_gradients\u001b[0m\u001b[1;33m,\u001b[0m\u001b[1;33m\u001b[0m\u001b[0m\n\u001b[0;32m   1085\u001b[0m         \u001b[0msources_raw\u001b[0m\u001b[1;33m=\u001b[0m\u001b[0mflat_sources_raw\u001b[0m\u001b[1;33m,\u001b[0m\u001b[1;33m\u001b[0m\u001b[0m\n\u001b[1;32m-> 1086\u001b[1;33m         unconnected_gradients=unconnected_gradients)\n\u001b[0m\u001b[0;32m   1087\u001b[0m \u001b[1;33m\u001b[0m\u001b[0m\n\u001b[0;32m   1088\u001b[0m     \u001b[1;32mif\u001b[0m \u001b[1;32mnot\u001b[0m \u001b[0mself\u001b[0m\u001b[1;33m.\u001b[0m\u001b[0m_persistent\u001b[0m\u001b[1;33m:\u001b[0m\u001b[1;33m\u001b[0m\u001b[0m\n",
      "\u001b[1;32m~\\AppData\\Local\\Programs\\Python\\Python37\\lib\\site-packages\\tensorflow\\python\\eager\\imperative_grad.py\u001b[0m in \u001b[0;36mimperative_grad\u001b[1;34m(tape, target, sources, output_gradients, sources_raw, unconnected_gradients)\u001b[0m\n\u001b[0;32m     75\u001b[0m       \u001b[0moutput_gradients\u001b[0m\u001b[1;33m,\u001b[0m\u001b[1;33m\u001b[0m\u001b[0m\n\u001b[0;32m     76\u001b[0m       \u001b[0msources_raw\u001b[0m\u001b[1;33m,\u001b[0m\u001b[1;33m\u001b[0m\u001b[0m\n\u001b[1;32m---> 77\u001b[1;33m       compat.as_str(unconnected_gradients.value))\n\u001b[0m",
      "\u001b[1;32m~\\AppData\\Local\\Programs\\Python\\Python37\\lib\\site-packages\\tensorflow\\python\\eager\\backprop.py\u001b[0m in \u001b[0;36m_gradient_function\u001b[1;34m(op_name, attr_tuple, num_inputs, inputs, outputs, out_grads, skip_input_indices, forward_pass_name_scope)\u001b[0m\n\u001b[0;32m    160\u001b[0m       \u001b[0mgradient_name_scope\u001b[0m \u001b[1;33m+=\u001b[0m \u001b[0mforward_pass_name_scope\u001b[0m \u001b[1;33m+\u001b[0m \u001b[1;34m\"/\"\u001b[0m\u001b[1;33m\u001b[0m\u001b[0m\n\u001b[0;32m    161\u001b[0m     \u001b[1;32mwith\u001b[0m \u001b[0mops\u001b[0m\u001b[1;33m.\u001b[0m\u001b[0mname_scope\u001b[0m\u001b[1;33m(\u001b[0m\u001b[0mgradient_name_scope\u001b[0m\u001b[1;33m)\u001b[0m\u001b[1;33m:\u001b[0m\u001b[1;33m\u001b[0m\u001b[0m\n\u001b[1;32m--> 162\u001b[1;33m       \u001b[1;32mreturn\u001b[0m \u001b[0mgrad_fn\u001b[0m\u001b[1;33m(\u001b[0m\u001b[0mmock_op\u001b[0m\u001b[1;33m,\u001b[0m \u001b[1;33m*\u001b[0m\u001b[0mout_grads\u001b[0m\u001b[1;33m)\u001b[0m\u001b[1;33m\u001b[0m\u001b[0m\n\u001b[0m\u001b[0;32m    163\u001b[0m   \u001b[1;32melse\u001b[0m\u001b[1;33m:\u001b[0m\u001b[1;33m\u001b[0m\u001b[0m\n\u001b[0;32m    164\u001b[0m     \u001b[1;32mreturn\u001b[0m \u001b[0mgrad_fn\u001b[0m\u001b[1;33m(\u001b[0m\u001b[0mmock_op\u001b[0m\u001b[1;33m,\u001b[0m \u001b[1;33m*\u001b[0m\u001b[0mout_grads\u001b[0m\u001b[1;33m)\u001b[0m\u001b[1;33m\u001b[0m\u001b[0m\n",
      "\u001b[1;32m~\\AppData\\Local\\Programs\\Python\\Python37\\lib\\site-packages\\tensorflow\\python\\ops\\math_grad.py\u001b[0m in \u001b[0;36m_MatMulGrad\u001b[1;34m(op, grad)\u001b[0m\n\u001b[0;32m   1692\u001b[0m   \u001b[0mb\u001b[0m \u001b[1;33m=\u001b[0m \u001b[0mmath_ops\u001b[0m\u001b[1;33m.\u001b[0m\u001b[0mconj\u001b[0m\u001b[1;33m(\u001b[0m\u001b[0mop\u001b[0m\u001b[1;33m.\u001b[0m\u001b[0minputs\u001b[0m\u001b[1;33m[\u001b[0m\u001b[1;36m1\u001b[0m\u001b[1;33m]\u001b[0m\u001b[1;33m)\u001b[0m\u001b[1;33m\u001b[0m\u001b[0m\n\u001b[0;32m   1693\u001b[0m   \u001b[1;32mif\u001b[0m \u001b[1;32mnot\u001b[0m \u001b[0mt_a\u001b[0m \u001b[1;32mand\u001b[0m \u001b[1;32mnot\u001b[0m \u001b[0mt_b\u001b[0m\u001b[1;33m:\u001b[0m\u001b[1;33m\u001b[0m\u001b[0m\n\u001b[1;32m-> 1694\u001b[1;33m     \u001b[0mgrad_a\u001b[0m \u001b[1;33m=\u001b[0m \u001b[0mgen_math_ops\u001b[0m\u001b[1;33m.\u001b[0m\u001b[0mmat_mul\u001b[0m\u001b[1;33m(\u001b[0m\u001b[0mgrad\u001b[0m\u001b[1;33m,\u001b[0m \u001b[0mb\u001b[0m\u001b[1;33m,\u001b[0m \u001b[0mtranspose_b\u001b[0m\u001b[1;33m=\u001b[0m\u001b[1;32mTrue\u001b[0m\u001b[1;33m)\u001b[0m\u001b[1;33m\u001b[0m\u001b[0m\n\u001b[0m\u001b[0;32m   1695\u001b[0m     \u001b[0mgrad_b\u001b[0m \u001b[1;33m=\u001b[0m \u001b[0mgen_math_ops\u001b[0m\u001b[1;33m.\u001b[0m\u001b[0mmat_mul\u001b[0m\u001b[1;33m(\u001b[0m\u001b[0ma\u001b[0m\u001b[1;33m,\u001b[0m \u001b[0mgrad\u001b[0m\u001b[1;33m,\u001b[0m \u001b[0mtranspose_a\u001b[0m\u001b[1;33m=\u001b[0m\u001b[1;32mTrue\u001b[0m\u001b[1;33m)\u001b[0m\u001b[1;33m\u001b[0m\u001b[0m\n\u001b[0;32m   1696\u001b[0m   \u001b[1;32melif\u001b[0m \u001b[1;32mnot\u001b[0m \u001b[0mt_a\u001b[0m \u001b[1;32mand\u001b[0m \u001b[0mt_b\u001b[0m\u001b[1;33m:\u001b[0m\u001b[1;33m\u001b[0m\u001b[0m\n",
      "\u001b[1;32m~\\AppData\\Local\\Programs\\Python\\Python37\\lib\\site-packages\\tensorflow\\python\\ops\\gen_math_ops.py\u001b[0m in \u001b[0;36mmat_mul\u001b[1;34m(a, b, transpose_a, transpose_b, name)\u001b[0m\n\u001b[0;32m   5526\u001b[0m       _result = pywrap_tfe.TFE_Py_FastPathExecute(\n\u001b[0;32m   5527\u001b[0m         \u001b[0m_ctx\u001b[0m\u001b[1;33m,\u001b[0m \u001b[1;34m\"MatMul\"\u001b[0m\u001b[1;33m,\u001b[0m \u001b[0mname\u001b[0m\u001b[1;33m,\u001b[0m \u001b[0ma\u001b[0m\u001b[1;33m,\u001b[0m \u001b[0mb\u001b[0m\u001b[1;33m,\u001b[0m \u001b[1;34m\"transpose_a\"\u001b[0m\u001b[1;33m,\u001b[0m \u001b[0mtranspose_a\u001b[0m\u001b[1;33m,\u001b[0m \u001b[1;34m\"transpose_b\"\u001b[0m\u001b[1;33m,\u001b[0m\u001b[1;33m\u001b[0m\u001b[0m\n\u001b[1;32m-> 5528\u001b[1;33m         transpose_b)\n\u001b[0m\u001b[0;32m   5529\u001b[0m       \u001b[1;32mreturn\u001b[0m \u001b[0m_result\u001b[0m\u001b[1;33m\u001b[0m\u001b[0m\n\u001b[0;32m   5530\u001b[0m     \u001b[1;32mexcept\u001b[0m \u001b[0m_core\u001b[0m\u001b[1;33m.\u001b[0m\u001b[0m_NotOkStatusException\u001b[0m \u001b[1;32mas\u001b[0m \u001b[0me\u001b[0m\u001b[1;33m:\u001b[0m\u001b[1;33m\u001b[0m\u001b[0m\n",
      "\u001b[1;31mKeyboardInterrupt\u001b[0m: "
     ]
    }
   ],
   "source": [
    "EarlyStopCB = tf.keras.callbacks.EarlyStopping(patience=30, monitor='val_accuracy',\n",
    "                                                  restore_best_weights=True)\n",
    "tf.config.run_functions_eagerly(True)\n",
    "best_model.fit(\n",
    "        [input_tensor,decoder_input_data],\n",
    "        decoder_output_data,\n",
    "        batch_size=64,\n",
    "        epochs=10,\n",
    "        validation_data=(\n",
    "            [val_input_tensor,decoder_val_input_data],\n",
    "            decoder_val_output_data\n",
    "        ),\n",
    "        shuffle=True,\n",
    "        callbacks=[WandbCallback(), EarlyStopCB]) "
   ]
  },
  {
   "cell_type": "code",
   "execution_count": null,
   "metadata": {},
   "outputs": [],
   "source": [
    "beam_acc , _ , attention = beam_evaluate(val_input_tensor,valid_outputs,len(valid_outputs),1,\n",
    "                                enc_model,\n",
    "                                dec_model,\n",
    "                                'LSTM')\n",
    "wandb.log({'val_word_accuracy' : beam_acc})"
   ]
  },
  {
   "cell_type": "code",
   "execution_count": 60,
   "metadata": {},
   "outputs": [
    {
     "output_type": "stream",
     "name": "stdout",
     "text": [
      "7 uttamam\n",
      "6 ఉత్తమం\n",
      "[[9.9891138e-01 8.6954434e-04 1.8429471e-04 3.1516844e-05 2.6933088e-07\n",
      "  1.3070365e-07 1.5453145e-09]\n",
      " [6.0023228e-04 4.0516979e-01 5.8860904e-01 5.0588436e-03 2.9472845e-05\n",
      "  4.5351677e-05 9.2673318e-08]\n",
      " [6.0278362e-05 4.4323006e-03 1.6654648e-02 7.2517908e-01 9.3088150e-02\n",
      "  1.3569535e-01 4.2478684e-03]\n",
      " [5.5029901e-04 7.0384919e-04 9.7499304e-03 9.8704314e-01 7.3858001e-04\n",
      "  9.5770694e-04 3.6160147e-06]\n",
      " [4.2247248e-07 1.0782381e-04 2.0058412e-04 7.6834466e-03 2.0746267e-01\n",
      "  7.3341352e-01 1.0373123e-02]\n",
      " [3.2580800e-08 1.5438776e-07 4.0301063e-07 2.0696303e-05 3.1605878e-04\n",
      "  4.0137765e-04 8.3520219e-02]]\n",
      "10 nayakudini\n",
      "8 నయకుడిని\n",
      "[[9.61014509e-01 3.89314070e-02 7.05318416e-06 3.29149298e-05\n",
      "  7.53811449e-08 1.12584939e-05 2.07097315e-07 2.76922350e-07\n",
      "  4.08506622e-07 1.10617819e-07]\n",
      " [2.70004384e-03 9.25847329e-03 3.76451373e-01 6.10714674e-01\n",
      "  4.10792272e-04 4.02713951e-04 1.95325993e-06 6.62933189e-07\n",
      "  6.79132341e-08 4.85265126e-08]\n",
      " [2.33501589e-04 4.54762281e-04 3.61279468e-03 1.67931020e-02\n",
      "  8.41670275e-01 1.32836699e-01 4.11989354e-03 1.74468485e-04\n",
      "  4.26569204e-06 1.51880067e-06]\n",
      " [2.48614271e-07 2.48289894e-07 4.29926404e-05 7.76492670e-05\n",
      "  9.20685288e-03 1.73711702e-02 9.09824491e-01 6.24391027e-02\n",
      "  7.87519210e-04 1.34679954e-04]\n",
      " [2.51680007e-07 7.77793502e-07 1.74411834e-05 7.94629450e-05\n",
      "  8.62063002e-03 1.78597365e-02 5.07818460e-01 4.59899813e-01\n",
      "  3.24728037e-03 2.14720564e-03]\n",
      " [3.65566564e-07 5.39144139e-07 1.11046893e-05 9.24782944e-06\n",
      "  1.07037209e-04 1.33189504e-04 1.30414246e-02 1.38527155e-02\n",
      "  9.27365899e-01 3.49011980e-02]\n",
      " [9.11018958e-08 8.98803520e-08 4.22083167e-06 4.64253844e-06\n",
      "  3.96276264e-05 6.34353200e-05 8.83685518e-03 3.07152029e-02\n",
      "  5.84378541e-01 3.43910784e-01]\n",
      " [4.51001284e-07 5.73233194e-07 2.04499156e-06 2.05876154e-06\n",
      "  6.70665668e-06 4.72641932e-06 1.11259360e-04 1.55373244e-04\n",
      "  3.27109881e-02 4.31257254e-03]]\n",
      "16 mataachaaraalanu\n",
      "10 మతాచారాలను\n",
      "[[8.6167890e-01 1.3770705e-01 3.5616918e-04 2.4843664e-04 4.4900553e-06\n",
      "  9.1421225e-07 2.4930625e-06 2.4523905e-07 4.1384860e-07 3.1499712e-07\n",
      "  6.6841416e-08 2.7712437e-08 5.7125952e-08 7.5017923e-08 1.4730229e-09\n",
      "  6.7671615e-09]\n",
      " [1.7825223e-03 2.7025682e-03 6.7603683e-01 3.0548647e-01 5.4802862e-03\n",
      "  4.3919124e-03 4.0897559e-03 1.9575013e-05 3.6095182e-06 5.2471719e-06\n",
      "  6.0362993e-07 4.5120676e-09 2.5416508e-08 1.6800406e-08 4.6173479e-10\n",
      "  4.9833532e-10]\n",
      " [6.4129458e-06 9.6804606e-06 2.2482970e-03 1.4089516e-03 4.8136610e-01\n",
      "  1.8234599e-01 2.8199238e-01 4.2137722e-03 3.1392276e-02 1.3148532e-02\n",
      "  1.7517804e-03 1.9262106e-05 7.6318152e-05 1.1941412e-05 7.7508298e-07\n",
      "  3.4127416e-07]\n",
      " [8.5969596e-08 1.4104090e-07 1.7055100e-03 5.0014193e-04 7.4099661e-03\n",
      "  8.8283040e-02 8.8987124e-01 8.9370814e-04 1.1432390e-03 9.4964551e-03\n",
      "  6.8446982e-04 1.6016778e-06 8.5722195e-06 1.0085090e-06 6.8331431e-08\n",
      "  3.1749501e-08]\n",
      " [1.6125630e-07 1.3171388e-07 1.6455884e-05 1.0198484e-05 9.0663396e-03\n",
      "  1.1898378e-02 1.9575171e-02 7.0188846e-03 7.1351779e-01 2.1316814e-01\n",
      "  1.9260038e-02 1.3130942e-03 4.1571483e-03 7.7797362e-04 1.7716731e-04\n",
      "  3.1459742e-05]\n",
      " [1.5328503e-08 1.7439845e-08 2.5920190e-05 5.0157514e-06 4.0013288e-04\n",
      "  6.3520069e-03 1.1420862e-02 1.2851841e-03 2.8159147e-02 8.5032171e-01\n",
      "  9.3085423e-02 4.2729016e-04 6.0916669e-03 2.2283867e-03 1.3496573e-04\n",
      "  4.7557456e-05]\n",
      " [7.2199842e-09 7.7550775e-09 3.7774947e-07 2.5500498e-07 3.0839572e-05\n",
      "  5.2227904e-05 9.9149242e-05 3.6904836e-04 8.8648172e-03 2.3954862e-03\n",
      "  6.5985378e-03 5.4664844e-01 4.1203892e-01 1.9609025e-02 2.5194469e-03\n",
      "  5.9428992e-04]\n",
      " [2.7033646e-09 3.4803045e-09 2.5274207e-07 1.7919533e-07 1.2447800e-05\n",
      "  8.2918370e-05 6.4659034e-05 8.4973901e-05 2.1416482e-03 9.3976753e-03\n",
      "  6.3400865e-03 3.0471416e-02 8.3973682e-01 1.0919646e-01 1.3505339e-03\n",
      "  1.0144277e-03]\n",
      " [2.1906816e-07 1.7450070e-07 6.1789041e-07 6.6687028e-07 6.8589507e-06\n",
      "  1.3152223e-05 3.5103847e-05 2.6267106e-05 1.1997119e-04 1.2574366e-03\n",
      "  3.9760518e-04 6.9652720e-05 9.9340593e-04 1.1550927e-02 7.7405769e-01\n",
      "  1.9700004e-01]\n",
      " [2.5975021e-07 1.8839125e-07 9.9162946e-07 1.0333100e-06 2.0181974e-06\n",
      "  4.5484330e-06 1.3582610e-05 2.8660850e-06 1.4073810e-05 7.8952085e-05\n",
      "  3.9590639e-05 5.3411845e-06 8.6531320e-05 4.9259007e-04 3.0449381e-02\n",
      "  5.9328079e-02]]\n",
      "9 terapaina\n",
      "6 తెరపైన\n",
      "[[5.19774973e-01 4.76258606e-01 3.00860824e-03 9.25138535e-04\n",
      "  9.43036127e-07 4.68991658e-07 4.18902573e-07 7.63697972e-06\n",
      "  1.66688660e-05]\n",
      " [2.77855666e-03 9.42489691e-03 9.51550961e-01 3.58418040e-02\n",
      "  1.24389771e-04 8.49463468e-05 2.15274349e-06 1.52533335e-06\n",
      "  3.44359478e-07]\n",
      " [4.31179581e-03 1.13936923e-02 5.11397183e-01 4.70332861e-01\n",
      "  1.88289012e-03 5.82017470e-04 2.22027775e-05 4.66283418e-05\n",
      "  4.98274267e-06]\n",
      " [1.82684689e-05 3.94189701e-05 3.37602408e-03 6.22076169e-03\n",
      "  8.36434305e-01 1.22387342e-01 1.39797730e-02 1.53275300e-02\n",
      "  1.05545437e-03]\n",
      " [3.73887801e-08 8.13620602e-08 3.93880873e-06 1.93121218e-06\n",
      "  8.40173394e-04 8.47495743e-04 7.77073085e-01 2.09253311e-01\n",
      "  1.11899795e-02]\n",
      " [1.21695280e-07 1.91409541e-07 2.19545927e-05 1.96583969e-05\n",
      "  1.93305095e-05 5.63951580e-05 3.86490230e-03 8.57855827e-02\n",
      "  9.09687221e-01]]\n",
      "12 vahisthondhi\n",
      "10 వహిస్తోంది\n",
      "[[7.82058015e-02 9.14970040e-01 6.61697425e-03 7.75072549e-05\n",
      "  6.04172492e-05 4.15930917e-05 1.74343513e-05 9.20286197e-07\n",
      "  4.92253719e-07 1.47607057e-06 3.22178920e-07 2.43917047e-08]\n",
      " [5.10297297e-03 4.81913006e-03 9.64379966e-01 2.31754556e-02\n",
      "  2.49994569e-03 1.89322436e-05 1.84622502e-06 1.90470601e-07\n",
      "  2.71451654e-07 1.74578076e-07 2.10951097e-08 3.34239247e-10]\n",
      " [2.13929545e-03 1.76738400e-03 5.25271893e-02 3.53905186e-02\n",
      "  8.91151428e-01 1.47004230e-02 1.25965383e-03 1.16869589e-04\n",
      "  7.15998118e-04 9.96931994e-05 9.86291798e-06 7.83347559e-07]\n",
      " [1.35714989e-04 1.84029443e-04 4.89719212e-03 1.70293264e-03\n",
      "  2.18497768e-01 7.63363421e-01 1.09382318e-02 8.63107052e-05\n",
      "  4.20469914e-05 9.49175228e-05 6.60303022e-06 4.28031598e-07]\n",
      " [2.75683107e-07 1.79299093e-07 5.98239876e-06 4.58189788e-06\n",
      "  6.46660710e-03 2.52994709e-02 9.20193553e-01 5.63846249e-03\n",
      "  2.86490619e-02 1.31564355e-02 1.03677427e-04 1.12182597e-05]\n",
      " [4.53483153e-06 9.58296823e-06 1.07389069e-05 1.50622427e-05\n",
      "  1.20625045e-04 4.27703327e-03 9.92386103e-01 2.64396984e-03\n",
      "  2.48388998e-04 2.51946389e-04 2.06065306e-06 3.77977045e-07]\n",
      " [2.60427242e-07 1.86546856e-07 2.86554018e-06 1.09182236e-06\n",
      "  1.44630409e-04 9.68088279e-05 2.60611501e-04 2.67819455e-03\n",
      "  8.87824118e-01 1.02617182e-01 1.29871408e-03 1.20257944e-04]\n",
      " [5.92786336e-08 9.05848410e-08 1.52245502e-06 8.32594480e-07\n",
      "  1.79980161e-05 1.14506547e-04 1.93692060e-04 2.08374858e-03\n",
      "  1.12702638e-01 8.31195951e-01 5.09242527e-02 4.73421620e-04]\n",
      " [5.60988731e-08 9.85403830e-08 1.77790312e-07 1.77498748e-07\n",
      "  6.61913759e-07 6.67833774e-06 9.41710823e-05 4.21172968e-04\n",
      "  1.02732331e-03 2.08746251e-02 9.58381534e-01 1.66267101e-02]\n",
      " [3.24929374e-07 1.66178467e-07 3.79599896e-07 5.66687447e-07\n",
      "  1.36411381e-06 2.02934325e-06 1.25993192e-05 8.77210696e-05\n",
      "  5.08999862e-02 5.68286749e-03 8.62939004e-03 2.47304924e-02]]\n",
      "11 aavidhamgaa\n",
      "7 ఆవిధంగా\n",
      "[[4.97366525e-02 9.50086594e-01 1.74867513e-04 1.91544950e-06\n",
      "  8.12738676e-09 3.40125474e-08 2.89104278e-08 2.18983187e-09\n",
      "  1.11840395e-08 1.28526012e-09 1.02503249e-10]\n",
      " [8.73657933e-04 7.67921656e-03 2.91707397e-01 6.99500799e-01\n",
      "  1.02963109e-04 1.24535713e-04 1.36490485e-06 8.00876307e-07\n",
      "  3.82494500e-06 1.30573046e-08 1.10276710e-09]\n",
      " [4.26489642e-05 5.62355970e-04 5.98180573e-03 1.60330292e-02\n",
      "  9.60618198e-01 1.41270412e-02 2.14327025e-04 8.47529445e-04\n",
      "  1.28097076e-03 1.32812670e-06 1.11777048e-07]\n",
      " [3.02485176e-07 9.95816094e-07 1.84639939e-05 3.39174367e-05\n",
      "  2.96147745e-02 9.69951510e-01 3.71420610e-04 3.03694151e-06\n",
      "  4.32687784e-06 2.34137318e-07 6.80976653e-09]\n",
      " [2.18660517e-07 6.59729153e-07 3.54321605e-06 5.25791665e-06\n",
      "  6.63786009e-03 9.47984168e-04 1.06458208e-02 2.80795425e-01\n",
      "  6.96465552e-01 8.80354783e-04 7.60505791e-04]\n",
      " [2.50271711e-07 2.43513171e-07 5.99348880e-07 1.66560926e-06\n",
      "  3.19712068e-04 3.26586043e-04 9.84372664e-03 1.72462256e-03\n",
      "  1.91534042e-01 7.87657380e-01 5.84265254e-05]\n",
      " [2.30832029e-08 3.07503605e-08 7.14357995e-08 9.05419242e-08\n",
      "  4.14021497e-06 5.79396158e-07 2.50959442e-06 4.41484805e-03\n",
      "  1.78798214e-01 5.21637406e-03 6.54655695e-01]]\n",
      "10 vijayalato\n",
      "7 విజయలతో\n",
      "[[1.6031712e-01 8.3715582e-01 2.5015257e-03 2.1863018e-05 1.1166594e-06\n",
      "  1.2630624e-06 1.8009273e-07 1.2578951e-07 8.3610887e-09 1.8721243e-08]\n",
      " [3.5838378e-03 1.2818528e-03 9.9206358e-01 1.6218391e-03 8.1417459e-04\n",
      "  6.1562128e-04 4.1420421e-06 8.5497805e-07 1.3553918e-09 6.3286115e-10]\n",
      " [4.5680351e-04 6.3599198e-04 9.8441505e-01 1.4085920e-02 1.8608083e-04\n",
      "  2.1030333e-04 6.5772110e-06 2.2969261e-06 9.8034505e-09 1.3023008e-08]\n",
      " [1.5684751e-05 4.5282932e-06 2.2700035e-03 1.1464140e-03 7.2414291e-01\n",
      "  2.4296126e-01 2.5189670e-02 3.9198403e-03 2.4818975e-05 6.5909776e-06]\n",
      " [4.2964270e-08 1.9957730e-08 9.7651518e-06 2.0728428e-06 1.9600752e-03\n",
      "  2.6462621e-03 9.7114414e-01 2.3782743e-02 2.8785106e-04 4.2495911e-05]\n",
      " [2.8244648e-07 2.0655301e-07 1.2157695e-06 6.4060077e-07 4.4965680e-05\n",
      "  3.8816252e-05 7.5210078e-04 1.7910111e-03 7.7488542e-01 1.9590266e-01]\n",
      " [1.5390535e-06 1.5088999e-06 2.1380934e-06 1.4266250e-06 1.4508783e-05\n",
      "  2.0951467e-05 4.0689204e-04 1.7872806e-04 3.3899296e-02 1.1186907e-02]]\n",
      "9 mandulanu\n",
      "7 మండులను\n",
      "[[8.8140500e-01 1.1780815e-01 6.3455704e-04 1.1778191e-04 2.8325148e-06\n",
      "  4.7171611e-06 4.6234419e-07 4.1815347e-09 7.9145561e-09]\n",
      " [2.1881532e-04 3.5818061e-04 6.9844775e-02 9.2924619e-01 2.8088296e-04\n",
      "  9.2325836e-06 1.2595613e-07 1.3546003e-08 6.5315802e-09]\n",
      " [1.0332930e-05 5.3004365e-05 4.3416144e-03 2.8505906e-01 7.0959961e-01\n",
      "  6.2029733e-04 6.6393346e-05 2.8815787e-06 2.6796099e-06]\n",
      " [3.9944868e-07 3.5009367e-07 5.9240859e-04 1.9575576e-03 9.2641702e-03\n",
      "  9.5365220e-01 1.6205236e-02 1.5926573e-02 1.7458614e-03]\n",
      " [3.8060875e-08 8.6921126e-08 1.2916428e-05 1.1663196e-04 2.0311191e-03\n",
      "  7.3084217e-01 2.6404405e-01 1.7905633e-03 3.4801514e-04]\n",
      " [3.2015393e-07 2.7045624e-07 7.2187622e-06 1.2793249e-05 2.7437049e-05\n",
      "  4.6678805e-03 5.0863409e-03 8.3178508e-01 1.3200019e-01]\n",
      " [2.2396218e-07 1.8559662e-07 2.0610757e-06 4.6486239e-06 1.7898035e-05\n",
      "  1.2750282e-04 4.6128283e-05 8.9958832e-03 1.7488707e-02]]\n",
      "18 shaastraveetthagaa\n",
      "14 శాస్త్రవీత్తగా\n",
      "[[1.30767105e-02 9.54133153e-01 2.99054962e-02 2.56982748e-03\n",
      "  2.12467596e-04 9.16065546e-05 5.24495454e-06 2.94692404e-06\n",
      "  1.42869226e-07 2.25096258e-07 2.24422990e-07 2.91641726e-07\n",
      "  1.11391796e-06 2.13688523e-07 8.95588883e-08 4.11134664e-08\n",
      "  1.05261407e-07 1.90824756e-09]\n",
      " [1.72401557e-03 1.05534251e-04 8.53550504e-04 6.32162035e-01\n",
      "  3.03355157e-01 5.80948479e-02 3.40387970e-03 2.64176662e-04\n",
      "  2.40822392e-05 1.10927294e-05 4.24531237e-07 1.22127005e-07\n",
      "  1.85470142e-07 1.16008152e-07 4.76853543e-08 2.91184222e-07\n",
      "  2.03939734e-07 1.27989341e-09]\n",
      " [4.73039545e-05 4.92069594e-05 7.32804765e-05 7.84376264e-03\n",
      "  2.57075846e-01 7.34545648e-01 3.11574957e-04 1.51594486e-05\n",
      "  1.23092505e-05 2.25459953e-05 3.25263841e-07 5.60160004e-07\n",
      "  1.00358636e-06 4.21064016e-07 1.07955898e-07 6.27776785e-07\n",
      "  4.54791859e-07 3.16440296e-09]\n",
      " [4.01133502e-06 1.27446833e-06 5.78087929e-06 2.97577586e-04\n",
      "  3.48492555e-04 8.45825579e-03 9.52336907e-01 1.56639740e-02\n",
      "  1.46041624e-02 7.52211036e-03 5.63261565e-04 6.81842648e-05\n",
      "  5.48116368e-05 2.48842352e-05 2.42796068e-06 1.99421993e-05\n",
      "  1.03481852e-05 3.03123244e-07]\n",
      " [5.59238397e-05 8.34234379e-05 1.12974166e-03 7.64593540e-04\n",
      "  3.01328924e-04 2.49406993e-02 9.68253314e-01 4.37489385e-03\n",
      "  1.61755815e-05 7.18498923e-05 4.71714566e-06 2.65556508e-07\n",
      "  1.04584649e-06 1.25051758e-06 4.39229694e-07 2.64572662e-07\n",
      "  1.50424967e-07 1.20516153e-09]\n",
      " [1.79176222e-05 4.82418773e-06 1.64642506e-06 1.31961060e-04\n",
      "  2.51986785e-04 9.83619131e-04 2.19104327e-02 8.98289561e-01\n",
      "  4.92807999e-02 1.91204250e-02 5.33449696e-03 1.37095957e-03\n",
      "  1.29750336e-03 6.39361970e-04 5.91679564e-05 5.51184930e-04\n",
      "  5.99698338e-04 3.40706970e-06]\n",
      " [7.41463623e-07 8.50302172e-07 1.66402037e-06 4.62041453e-06\n",
      "  2.42896863e-06 1.17504860e-04 6.60827234e-02 9.31583941e-01\n",
      "  8.99599181e-05 6.67931687e-04 2.14173473e-04 3.30559851e-05\n",
      "  1.36977585e-04 7.97869521e-04 2.21444832e-04 3.13224846e-05\n",
      "  1.02204804e-05 2.98401446e-08]\n",
      " [3.50902840e-09 2.72224732e-09 4.31931646e-09 1.90745837e-07\n",
      "  6.02936666e-07 6.44471538e-06 9.32018738e-04 4.57155053e-03\n",
      "  9.09784198e-01 8.23949054e-02 1.56895036e-03 2.92487268e-04\n",
      "  1.54039153e-04 3.40784645e-05 2.46932814e-06 5.48681273e-05\n",
      "  1.72236701e-04 9.73243118e-07]\n",
      " [3.29319860e-08 3.17496749e-08 3.64348693e-08 2.29204076e-07\n",
      "  5.60182627e-07 8.81041888e-06 5.75546583e-04 1.88778888e-03\n",
      "  1.76011883e-02 4.39450778e-02 6.68482602e-01 1.20057106e-01\n",
      "  4.54552509e-02 1.15439892e-02 4.35341179e-04 6.38506515e-03\n",
      "  3.41501571e-02 9.63626150e-03]\n",
      " [5.45272094e-09 1.23227029e-08 1.58062843e-08 2.62522288e-08\n",
      "  1.70085329e-07 2.17920888e-06 6.90144952e-05 2.20786169e-04\n",
      "  4.39734838e-04 4.04640753e-03 3.21360901e-02 4.52299267e-01\n",
      "  4.54858303e-01 3.76962237e-02 1.00521194e-02 1.00652280e-03\n",
      "  6.39134413e-03 5.38894856e-05]\n",
      " [6.17441813e-08 5.69290002e-08 6.96410041e-08 1.27186439e-07\n",
      "  2.04838187e-07 4.13998862e-07 8.36492563e-06 1.26743835e-04\n",
      "  1.57859249e-04 1.20556353e-04 1.09926565e-03 4.81418538e-04\n",
      "  3.23122647e-03 4.31172431e-01 1.32667854e-01 3.98094475e-01\n",
      "  1.61786750e-02 1.50907440e-02]\n",
      " [1.79933828e-08 3.45313964e-08 1.18517377e-07 4.53591653e-08\n",
      "  2.05933457e-08 1.58803530e-07 2.44568255e-05 1.71746232e-03\n",
      "  1.75609675e-04 1.90785649e-04 1.31200918e-03 1.09196350e-03\n",
      "  6.27162028e-03 2.84517556e-01 5.98315001e-01 5.76221682e-02\n",
      "  4.81483415e-02 3.92846385e-04]\n",
      " [9.92841080e-08 8.17831420e-08 2.56322661e-08 1.89110182e-07\n",
      "  2.86495748e-07 3.00482725e-07 4.40280132e-07 5.85621592e-06\n",
      "  3.40772240e-05 1.81154574e-05 1.14382012e-04 3.45332446e-05\n",
      "  1.03909690e-04 3.30427359e-03 1.70911045e-03 9.62376952e-01\n",
      "  1.98405646e-02 1.00472998e-02]\n",
      " [4.15479207e-07 6.84682902e-07 8.41871611e-07 9.08940819e-07\n",
      "  1.27200678e-06 6.49983940e-06 2.89620348e-05 2.83932732e-05\n",
      "  1.71928143e-04 1.24780490e-04 2.11099206e-04 1.25400242e-04\n",
      "  5.53670747e-04 2.68126978e-03 2.91523407e-04 4.37379163e-03\n",
      "  5.90603566e-03 7.52744913e-01]]\n",
      "C:\\Users\\HP\\AppData\\Local\\Programs\\Python\\Python37\\lib\\site-packages\\matplotlib\\textpath.py:74: RuntimeWarning: Glyph 108 missing from current font.\n",
      "  font.set_text(s, 0.0, flags=LOAD_NO_HINTING)\n",
      "C:\\Users\\HP\\AppData\\Local\\Programs\\Python\\Python37\\lib\\site-packages\\matplotlib\\textpath.py:74: RuntimeWarning: Glyph 112 missing from current font.\n",
      "  font.set_text(s, 0.0, flags=LOAD_NO_HINTING)\n",
      "C:\\Users\\HP\\AppData\\Local\\Programs\\Python\\Python37\\lib\\site-packages\\matplotlib\\backends\\backend_agg.py:238: RuntimeWarning: Glyph 108 missing from current font.\n",
      "  font.set_text(s, 0.0, flags=flags)\n",
      "C:\\Users\\HP\\AppData\\Local\\Programs\\Python\\Python37\\lib\\site-packages\\matplotlib\\backends\\backend_agg.py:238: RuntimeWarning: Glyph 112 missing from current font.\n",
      "  font.set_text(s, 0.0, flags=flags)\n"
     ]
    },
    {
     "output_type": "display_data",
     "data": {
      "text/plain": "<Figure size 1080x1080 with 9 Axes>",
      "image/svg+xml": "<?xml version=\"1.0\" encoding=\"utf-8\" standalone=\"no\"?>\r\n<!DOCTYPE svg PUBLIC \"-//W3C//DTD SVG 1.1//EN\"\r\n  \"http://www.w3.org/Graphics/SVG/1.1/DTD/svg11.dtd\">\r\n<!-- Created with matplotlib (https://matplotlib.org/) -->\r\n<svg height=\"807.894091pt\" version=\"1.1\" viewBox=\"0 0 880.073125 807.894091\" width=\"880.073125pt\" xmlns=\"http://www.w3.org/2000/svg\" xmlns:xlink=\"http://www.w3.org/1999/xlink\">\r\n <metadata>\r\n  <rdf:RDF xmlns:cc=\"http://creativecommons.org/ns#\" xmlns:dc=\"http://purl.org/dc/elements/1.1/\" xmlns:rdf=\"http://www.w3.org/1999/02/22-rdf-syntax-ns#\">\r\n   <cc:Work>\r\n    <dc:type rdf:resource=\"http://purl.org/dc/dcmitype/StillImage\"/>\r\n    <dc:date>2021-05-20T19:45:30.672218</dc:date>\r\n    <dc:format>image/svg+xml</dc:format>\r\n    <dc:creator>\r\n     <cc:Agent>\r\n      <dc:title>Matplotlib v3.3.4, https://matplotlib.org/</dc:title>\r\n     </cc:Agent>\r\n    </dc:creator>\r\n   </cc:Work>\r\n  </rdf:RDF>\r\n </metadata>\r\n <defs>\r\n  <style type=\"text/css\">*{stroke-linecap:butt;stroke-linejoin:round;}</style>\r\n </defs>\r\n <g id=\"figure_1\">\r\n  <g id=\"patch_1\">\r\n   <path d=\"M 0 807.894091 \r\nL 880.073125 807.894091 \r\nL 880.073125 0 \r\nL 0 0 \r\nz\r\n\" style=\"fill:none;\"/>\r\n  </g>\r\n  <g id=\"axes_1\">\r\n   <g id=\"patch_2\">\r\n    <path d=\"M 35.873125 218.208403 \r\nL 282.049596 218.208403 \r\nL 282.049596 7.2 \r\nL 35.873125 7.2 \r\nz\r\n\" style=\"fill:#ffffff;\"/>\r\n   </g>\r\n   <g clip-path=\"url(#p4f04b3cafb)\">\r\n    <image height=\"212\" id=\"image0a32edfd61\" transform=\"scale(1 -1)translate(0 -212)\" width=\"247\" x=\"35.873125\" xlink:href=\"data:image/png;base64,\r\niVBORw0KGgoAAAANSUhEUgAAAPcAAADUCAYAAABAtLXLAAADF0lEQVR4nO3Vsa3qQBRFURs5I0aUQUARUAmtUBW10AeJf2Y9MgK+Bm2tVcEJZs+dp2laJ+ArDofD6Amb3egBwP8hbogSN0SJG6LEDVHihihxQ5S4IUrcECVuiBI3RIkbosQNUeKGKHFDlLghStwQJW6IEjdEiRuixA1R4oYocUOUuCFK3BAlbogSN0SJG6LEDVHihihxQ5S4IUrcECVuiFpGD+Az8zyPnrA5n8+jJ2zu9/voCW8ul8voCRuXG6LEDVHihihxQ5S4IUrcECVuiBI3RIkbosQNUeKGKHFDlLghStwQJW6IEjdEiRuixA1R4oYocUOUuCFK3BAlbogSN0SJG6LEDVHihihxQ5S4IUrcECVuiBI3RIkbosQNUeKGqHmapnX0iF+02/3Wv/d6vUZP2CzLMnoCH/itFwx8jbghStwQJW6IEjdEiRuixA1R4oYocUOUuCFK3BAlbogSN0SJG6LEDVHihihxQ5S4IUrcECVuiBI3RIkbosQNUeKGKHFDlLghStwQJW6IEjdEiRuixA1R4oYocUOUuCFqGT3gr3meR0/Y7Ha/9e89Ho/REzbH43H0hM1+vx894c3z+Rw9YfNbLxj4GnFDlLghStwQJW6IEjdEiRuixA1R4oYocUOUuCFK3BAlbogSN0SJG6LEDVHihihxQ5S4IUrcECVuiBI3RIkbosQNUeKGKHFDlLghStwQJW6IEjdEiRuixA1R4oYocUPUMnrAX7fbbfSEzel0Gj3hzfV6HT1hs67r6Al8wOWGKHFDlLghStwQJW6IEjdEiRuixA1R4oYocUOUuCFK3BAlbogSN0SJG6LEDVHihihxQ5S4IUrcECVuiBI3RIkbosQNUeKGKHFDlLghStwQJW6IEjdEiRuixA1R4oYocUOUuCFqWdd19IbNPM+jJ0CGyw1R4oYocUOUuCFK3BAlbogSN0SJG6LEDVHihihxQ5S4IUrcECVuiBI3RIkbosQNUeKGKHFDlLghStwQJW6IEjdEiRuixA1R4oYocUOUuCFK3BAlbogSN0SJG6LEDVHihqh/VjAXyTF4G68AAAAASUVORK5CYII=\" y=\"-6.208403\"/>\r\n   </g>\r\n   <g id=\"matplotlib.axis_1\">\r\n    <g id=\"xtick_1\">\r\n     <g id=\"line2d_1\">\r\n      <defs>\r\n       <path d=\"M 0 0 \r\nL 0 3.5 \r\n\" id=\"m6d0a379215\" style=\"stroke:#000000;stroke-width:0.8;\"/>\r\n      </defs>\r\n      <g>\r\n       <use style=\"stroke:#000000;stroke-width:0.8;\" x=\"53.457159\" xlink:href=\"#m6d0a379215\" y=\"218.208403\"/>\r\n      </g>\r\n     </g>\r\n     <g id=\"text_1\">\r\n      <!-- u -->\r\n      <g transform=\"translate(50.288409 232.806841)scale(0.1 -0.1)\">\r\n       <defs>\r\n        <path d=\"M 8.5 21.578125 \r\nL 8.5 54.6875 \r\nL 17.484375 54.6875 \r\nL 17.484375 21.921875 \r\nQ 17.484375 14.15625 20.5 10.265625 \r\nQ 23.53125 6.390625 29.59375 6.390625 \r\nQ 36.859375 6.390625 41.078125 11.03125 \r\nQ 45.3125 15.671875 45.3125 23.6875 \r\nL 45.3125 54.6875 \r\nL 54.296875 54.6875 \r\nL 54.296875 0 \r\nL 45.3125 0 \r\nL 45.3125 8.40625 \r\nQ 42.046875 3.421875 37.71875 1 \r\nQ 33.40625 -1.421875 27.6875 -1.421875 \r\nQ 18.265625 -1.421875 13.375 4.4375 \r\nQ 8.5 10.296875 8.5 21.578125 \r\nz\r\nM 31.109375 56 \r\nz\r\n\" id=\"DejaVuSans-117\"/>\r\n       </defs>\r\n       <use xlink:href=\"#DejaVuSans-117\"/>\r\n      </g>\r\n     </g>\r\n    </g>\r\n    <g id=\"xtick_2\">\r\n     <g id=\"line2d_2\">\r\n      <g>\r\n       <use style=\"stroke:#000000;stroke-width:0.8;\" x=\"88.625226\" xlink:href=\"#m6d0a379215\" y=\"218.208403\"/>\r\n      </g>\r\n     </g>\r\n     <g id=\"text_2\">\r\n      <!-- t -->\r\n      <g transform=\"translate(86.66507 232.806841)scale(0.1 -0.1)\">\r\n       <defs>\r\n        <path d=\"M 18.3125 70.21875 \r\nL 18.3125 54.6875 \r\nL 36.8125 54.6875 \r\nL 36.8125 47.703125 \r\nL 18.3125 47.703125 \r\nL 18.3125 18.015625 \r\nQ 18.3125 11.328125 20.140625 9.421875 \r\nQ 21.96875 7.515625 27.59375 7.515625 \r\nL 36.8125 7.515625 \r\nL 36.8125 0 \r\nL 27.59375 0 \r\nQ 17.1875 0 13.234375 3.875 \r\nQ 9.28125 7.765625 9.28125 18.015625 \r\nL 9.28125 47.703125 \r\nL 2.6875 47.703125 \r\nL 2.6875 54.6875 \r\nL 9.28125 54.6875 \r\nL 9.28125 70.21875 \r\nz\r\n\" id=\"DejaVuSans-116\"/>\r\n       </defs>\r\n       <use xlink:href=\"#DejaVuSans-116\"/>\r\n      </g>\r\n     </g>\r\n    </g>\r\n    <g id=\"xtick_3\">\r\n     <g id=\"line2d_3\">\r\n      <g>\r\n       <use style=\"stroke:#000000;stroke-width:0.8;\" x=\"123.793293\" xlink:href=\"#m6d0a379215\" y=\"218.208403\"/>\r\n      </g>\r\n     </g>\r\n     <g id=\"text_3\">\r\n      <!-- t -->\r\n      <g transform=\"translate(121.833137 232.806841)scale(0.1 -0.1)\">\r\n       <use xlink:href=\"#DejaVuSans-116\"/>\r\n      </g>\r\n     </g>\r\n    </g>\r\n    <g id=\"xtick_4\">\r\n     <g id=\"line2d_4\">\r\n      <g>\r\n       <use style=\"stroke:#000000;stroke-width:0.8;\" x=\"158.96136\" xlink:href=\"#m6d0a379215\" y=\"218.208403\"/>\r\n      </g>\r\n     </g>\r\n     <g id=\"text_4\">\r\n      <!-- a -->\r\n      <g transform=\"translate(155.897298 232.806841)scale(0.1 -0.1)\">\r\n       <defs>\r\n        <path d=\"M 34.28125 27.484375 \r\nQ 23.390625 27.484375 19.1875 25 \r\nQ 14.984375 22.515625 14.984375 16.5 \r\nQ 14.984375 11.71875 18.140625 8.90625 \r\nQ 21.296875 6.109375 26.703125 6.109375 \r\nQ 34.1875 6.109375 38.703125 11.40625 \r\nQ 43.21875 16.703125 43.21875 25.484375 \r\nL 43.21875 27.484375 \r\nz\r\nM 52.203125 31.203125 \r\nL 52.203125 0 \r\nL 43.21875 0 \r\nL 43.21875 8.296875 \r\nQ 40.140625 3.328125 35.546875 0.953125 \r\nQ 30.953125 -1.421875 24.3125 -1.421875 \r\nQ 15.921875 -1.421875 10.953125 3.296875 \r\nQ 6 8.015625 6 15.921875 \r\nQ 6 25.140625 12.171875 29.828125 \r\nQ 18.359375 34.515625 30.609375 34.515625 \r\nL 43.21875 34.515625 \r\nL 43.21875 35.40625 \r\nQ 43.21875 41.609375 39.140625 45 \r\nQ 35.0625 48.390625 27.6875 48.390625 \r\nQ 23 48.390625 18.546875 47.265625 \r\nQ 14.109375 46.140625 10.015625 43.890625 \r\nL 10.015625 52.203125 \r\nQ 14.9375 54.109375 19.578125 55.046875 \r\nQ 24.21875 56 28.609375 56 \r\nQ 40.484375 56 46.34375 49.84375 \r\nQ 52.203125 43.703125 52.203125 31.203125 \r\nz\r\n\" id=\"DejaVuSans-97\"/>\r\n       </defs>\r\n       <use xlink:href=\"#DejaVuSans-97\"/>\r\n      </g>\r\n     </g>\r\n    </g>\r\n    <g id=\"xtick_5\">\r\n     <g id=\"line2d_5\">\r\n      <g>\r\n       <use style=\"stroke:#000000;stroke-width:0.8;\" x=\"194.129428\" xlink:href=\"#m6d0a379215\" y=\"218.208403\"/>\r\n      </g>\r\n     </g>\r\n     <g id=\"text_5\">\r\n      <!-- m -->\r\n      <g transform=\"translate(189.259115 232.806841)scale(0.1 -0.1)\">\r\n       <defs>\r\n        <path d=\"M 52 44.1875 \r\nQ 55.375 50.25 60.0625 53.125 \r\nQ 64.75 56 71.09375 56 \r\nQ 79.640625 56 84.28125 50.015625 \r\nQ 88.921875 44.046875 88.921875 33.015625 \r\nL 88.921875 0 \r\nL 79.890625 0 \r\nL 79.890625 32.71875 \r\nQ 79.890625 40.578125 77.09375 44.375 \r\nQ 74.3125 48.1875 68.609375 48.1875 \r\nQ 61.625 48.1875 57.5625 43.546875 \r\nQ 53.515625 38.921875 53.515625 30.90625 \r\nL 53.515625 0 \r\nL 44.484375 0 \r\nL 44.484375 32.71875 \r\nQ 44.484375 40.625 41.703125 44.40625 \r\nQ 38.921875 48.1875 33.109375 48.1875 \r\nQ 26.21875 48.1875 22.15625 43.53125 \r\nQ 18.109375 38.875 18.109375 30.90625 \r\nL 18.109375 0 \r\nL 9.078125 0 \r\nL 9.078125 54.6875 \r\nL 18.109375 54.6875 \r\nL 18.109375 46.1875 \r\nQ 21.1875 51.21875 25.484375 53.609375 \r\nQ 29.78125 56 35.6875 56 \r\nQ 41.65625 56 45.828125 52.96875 \r\nQ 50 49.953125 52 44.1875 \r\nz\r\n\" id=\"DejaVuSans-109\"/>\r\n       </defs>\r\n       <use xlink:href=\"#DejaVuSans-109\"/>\r\n      </g>\r\n     </g>\r\n    </g>\r\n    <g id=\"xtick_6\">\r\n     <g id=\"line2d_6\">\r\n      <g>\r\n       <use style=\"stroke:#000000;stroke-width:0.8;\" x=\"229.297495\" xlink:href=\"#m6d0a379215\" y=\"218.208403\"/>\r\n      </g>\r\n     </g>\r\n     <g id=\"text_6\">\r\n      <!-- a -->\r\n      <g transform=\"translate(226.233432 232.806841)scale(0.1 -0.1)\">\r\n       <use xlink:href=\"#DejaVuSans-97\"/>\r\n      </g>\r\n     </g>\r\n    </g>\r\n    <g id=\"xtick_7\">\r\n     <g id=\"line2d_7\">\r\n      <g>\r\n       <use style=\"stroke:#000000;stroke-width:0.8;\" x=\"264.465562\" xlink:href=\"#m6d0a379215\" y=\"218.208403\"/>\r\n      </g>\r\n     </g>\r\n     <g id=\"text_7\">\r\n      <!-- m -->\r\n      <g transform=\"translate(259.595249 232.806841)scale(0.1 -0.1)\">\r\n       <use xlink:href=\"#DejaVuSans-109\"/>\r\n      </g>\r\n     </g>\r\n    </g>\r\n   </g>\r\n   <g id=\"matplotlib.axis_2\">\r\n    <g id=\"ytick_1\">\r\n     <g id=\"line2d_8\">\r\n      <defs>\r\n       <path d=\"M 0 0 \r\nL -3.5 0 \r\n\" id=\"m11ae6b97b5\" style=\"stroke:#000000;stroke-width:0.8;\"/>\r\n      </defs>\r\n      <g>\r\n       <use style=\"stroke:#000000;stroke-width:0.8;\" x=\"35.873125\" xlink:href=\"#m11ae6b97b5\" y=\"24.784034\"/>\r\n      </g>\r\n     </g>\r\n     <g id=\"text_8\">\r\n      <!-- ఉ -->\r\n      <g transform=\"translate(17.375625 30.778877)scale(0.18 -0.18)\">\r\n       <defs>\r\n        <path d=\"M 45.515625 10.25 \r\nQ 45.515625 8.109375 47.015625 6.59375 \r\nQ 48.53125 5.078125 50.59375 5.078125 \r\nQ 52.734375 5.078125 54.25 6.59375 \r\nQ 55.765625 8.109375 55.765625 10.25 \r\nQ 55.765625 12.3125 54.25 13.765625 \r\nQ 52.734375 15.234375 50.59375 15.234375 \r\nQ 48.53125 15.234375 47.015625 13.765625 \r\nQ 45.515625 12.3125 45.515625 10.25 \r\nz\r\nM 33.015625 7.71875 \r\nL 32.234375 7.71875 \r\nQ 30.171875 4.109375 26.90625 2.046875 \r\nQ 23.640625 0 19.921875 0 \r\nQ 13.09375 0 8.203125 5.609375 \r\nQ 3.328125 11.234375 3.328125 19.140625 \r\nQ 3.328125 29.984375 10.984375 37.984375 \r\nQ 18.65625 46 29.984375 47.078125 \r\nL 29 58.6875 \r\nL 29 63.875 \r\nL 36.53125 63.875 \r\nL 36.53125 58.6875 \r\nL 35.453125 46.6875 \r\nQ 42.28125 46.09375 48 44.046875 \r\nQ 53.71875 42 57.71875 38.484375 \r\nL 53.328125 34.1875 \r\nQ 49.421875 37.40625 44.140625 39.15625 \r\nQ 38.875 40.921875 32.8125 40.921875 \r\nQ 25.296875 40.921875 19.578125 37.75 \r\nQ 13.875 34.578125 11.921875 29.390625 \r\nL 59.578125 29.390625 \r\nL 59.578125 22.953125 \r\nL 10.25 22.953125 \r\nQ 9.96875 22.46875 9.8125 21.484375 \r\nQ 9.671875 20.515625 9.671875 19.140625 \r\nQ 9.671875 13.875 12.6875 10.15625 \r\nQ 15.71875 6.453125 19.921875 6.453125 \r\nQ 24.3125 6.453125 27.34375 10.15625 \r\nQ 30.375 13.875 30.375 19.140625 \r\nL 35.0625 19.140625 \r\nQ 35.0625 15.046875 36.625 12.0625 \r\nQ 38.1875 9.078125 40.828125 8.109375 \r\nL 40.4375 10.25 \r\nQ 40.4375 14.453125 43.40625 17.484375 \r\nQ 46.390625 20.515625 50.59375 20.515625 \r\nQ 54.890625 20.515625 57.859375 17.484375 \r\nQ 60.84375 14.453125 60.84375 10.25 \r\nQ 60.84375 6.0625 57.375 3.03125 \r\nQ 53.90625 0 49.03125 0 \r\nQ 43.5625 0 39.3125 2.046875 \r\nQ 35.0625 4.109375 33.015625 7.71875 \r\nz\r\n\" id=\"Lohit-Telugu-3081\"/>\r\n       </defs>\r\n       <use xlink:href=\"#Lohit-Telugu-3081\"/>\r\n      </g>\r\n     </g>\r\n    </g>\r\n    <g id=\"ytick_2\">\r\n     <g id=\"line2d_9\">\r\n      <g>\r\n       <use style=\"stroke:#000000;stroke-width:0.8;\" x=\"35.873125\" xlink:href=\"#m11ae6b97b5\" y=\"59.952101\"/>\r\n      </g>\r\n     </g>\r\n     <g id=\"text_9\">\r\n      <!-- త -->\r\n      <g transform=\"translate(17.375625 65.946945)scale(0.18 -0.18)\">\r\n       <defs>\r\n        <path d=\"M 9.578125 29.390625 \r\nQ 9.578125 26.765625 11.46875 24.859375 \r\nQ 13.375 22.953125 16.109375 22.953125 \r\nQ 18.75 22.953125 20.609375 24.859375 \r\nQ 22.46875 26.765625 22.46875 29.390625 \r\nQ 22.46875 32.03125 20.609375 33.890625 \r\nQ 18.75 35.75 16.109375 35.75 \r\nQ 13.375 35.75 11.46875 33.890625 \r\nQ 9.578125 32.03125 9.578125 29.390625 \r\nz\r\nM 41.609375 29.390625 \r\nQ 41.609375 26.765625 43.453125 24.859375 \r\nQ 45.3125 22.953125 47.953125 22.953125 \r\nQ 50.59375 22.953125 52.4375 24.859375 \r\nQ 54.296875 26.765625 54.296875 29.390625 \r\nQ 54.296875 32.03125 52.4375 33.890625 \r\nQ 50.59375 35.75 47.953125 35.75 \r\nQ 45.3125 35.75 43.453125 33.890625 \r\nQ 41.609375 32.03125 41.609375 29.390625 \r\nz\r\nM 17.484375 56.84375 \r\nL 22.5625 56.84375 \r\nQ 22.5625 52.9375 25.25 50.203125 \r\nQ 27.9375 47.46875 31.734375 47.46875 \r\nQ 33.015625 47.46875 34.671875 48.34375 \r\nQ 36.328125 49.21875 37.984375 50.875 \r\nL 54.109375 66.21875 \r\nL 57.328125 62.984375 \r\nL 41.015625 46.6875 \r\nQ 49.703125 44.53125 55.21875 38.96875 \r\nQ 60.75 33.40625 60.75 26.765625 \r\nQ 60.75 14.65625 52.734375 7.328125 \r\nQ 44.734375 0 31.34375 0 \r\nQ 18.5625 0 10.890625 6.9375 \r\nQ 3.21875 13.875 3.21875 25.484375 \r\nQ 3.21875 31.84375 6.984375 36.375 \r\nQ 10.75 40.921875 16.109375 40.921875 \r\nQ 20.796875 40.921875 24.171875 37.546875 \r\nQ 27.546875 34.1875 27.546875 29.390625 \r\nQ 27.546875 24.609375 24.171875 21.234375 \r\nQ 20.796875 17.875 16.109375 17.875 \r\nQ 14.453125 17.875 13.1875 18.21875 \r\nQ 11.921875 18.5625 11.140625 19.234375 \r\nL 10.453125 19.140625 \r\nQ 10.453125 13.375 16.15625 9.90625 \r\nQ 21.875 6.453125 31.34375 6.453125 \r\nQ 41.21875 6.453125 47.078125 9.90625 \r\nQ 52.9375 13.375 52.9375 19.140625 \r\nL 52.4375 19.234375 \r\nQ 51.859375 18.5625 50.6875 18.21875 \r\nQ 49.515625 17.875 47.953125 17.875 \r\nQ 43.171875 17.875 39.796875 21.234375 \r\nQ 36.421875 24.609375 36.421875 29.390625 \r\nQ 36.421875 33.203125 39.15625 36.03125 \r\nQ 41.890625 38.875 45.90625 39.265625 \r\nL 45.90625 39.65625 \r\nQ 43.359375 41.109375 39.796875 41.796875 \r\nQ 36.234375 42.484375 32.03125 42.484375 \r\nQ 25.984375 42.484375 21.734375 46.734375 \r\nQ 17.484375 50.984375 17.484375 56.84375 \r\nz\r\n\" id=\"Lohit-Telugu-3108\"/>\r\n       </defs>\r\n       <use xlink:href=\"#Lohit-Telugu-3108\"/>\r\n      </g>\r\n     </g>\r\n    </g>\r\n    <g id=\"ytick_3\">\r\n     <g id=\"line2d_10\">\r\n      <g>\r\n       <use style=\"stroke:#000000;stroke-width:0.8;\" x=\"35.873125\" xlink:href=\"#m11ae6b97b5\" y=\"95.120168\"/>\r\n      </g>\r\n     </g>\r\n     <g id=\"text_10\">\r\n      <!-- ్ -->\r\n      <g transform=\"translate(28.873125 101.115012)scale(0.18 -0.18)\">\r\n       <defs>\r\n        <path d=\"M 22.953125 43.453125 \r\nL 12.703125 43.453125 \r\nQ 8.40625 44.234375 5.515625 47.109375 \r\nQ 2.640625 50 2.640625 53.71875 \r\nQ 2.640625 55.953125 3.703125 57.90625 \r\nQ 4.78125 59.859375 6.640625 60.9375 \r\nL 6.640625 61.328125 \r\nQ 4.78125 62.703125 3.703125 64.703125 \r\nQ 2.640625 66.703125 2.640625 68.953125 \r\nQ 2.640625 73.640625 6.046875 77.046875 \r\nQ 9.46875 80.46875 14.265625 80.46875 \r\nL 43.0625 80.46875 \r\nL 43.0625 74.125 \r\nL 14.359375 74.125 \r\nQ 12.203125 74.125 10.640625 72.609375 \r\nQ 9.078125 71.09375 9.078125 68.953125 \r\nQ 9.078125 66.796875 10.203125 65.328125 \r\nQ 11.328125 63.875 12.890625 63.875 \r\nL 26.765625 63.875 \r\nL 26.765625 57.515625 \r\nL 13.09375 57.515625 \r\nQ 11.421875 57.515625 10.25 56.390625 \r\nQ 9.078125 55.28125 9.078125 53.71875 \r\nQ 9.078125 52.046875 10.203125 50.921875 \r\nQ 11.328125 49.8125 12.890625 49.8125 \r\nL 22.953125 49.8125 \r\nL 22.953125 43.453125 \r\nz\r\n\" id=\"Lohit-Telugu-3149\"/>\r\n       </defs>\r\n       <use xlink:href=\"#Lohit-Telugu-3149\"/>\r\n      </g>\r\n     </g>\r\n    </g>\r\n    <g id=\"ytick_4\">\r\n     <g id=\"line2d_11\">\r\n      <g>\r\n       <use style=\"stroke:#000000;stroke-width:0.8;\" x=\"35.873125\" xlink:href=\"#m11ae6b97b5\" y=\"130.288235\"/>\r\n      </g>\r\n     </g>\r\n     <g id=\"text_11\">\r\n      <!-- త -->\r\n      <g transform=\"translate(17.375625 136.283079)scale(0.18 -0.18)\">\r\n       <use xlink:href=\"#Lohit-Telugu-3108\"/>\r\n      </g>\r\n     </g>\r\n    </g>\r\n    <g id=\"ytick_5\">\r\n     <g id=\"line2d_12\">\r\n      <g>\r\n       <use style=\"stroke:#000000;stroke-width:0.8;\" x=\"35.873125\" xlink:href=\"#m11ae6b97b5\" y=\"165.456303\"/>\r\n      </g>\r\n     </g>\r\n     <g id=\"text_12\">\r\n      <!-- మ -->\r\n      <g transform=\"translate(12.068438 171.451146)scale(0.18 -0.18)\">\r\n       <defs>\r\n        <path d=\"M 7.421875 11.53125 \r\nQ 7.421875 8.890625 9.28125 6.984375 \r\nQ 11.140625 5.078125 13.875 5.078125 \r\nQ 16.5 5.078125 18.3125 6.984375 \r\nQ 20.125 8.890625 20.125 11.53125 \r\nQ 20.125 14.265625 18.3125 16.0625 \r\nQ 16.5 17.875 13.875 17.875 \r\nQ 11.140625 17.875 9.28125 16.0625 \r\nQ 7.421875 14.265625 7.421875 11.53125 \r\nz\r\nM 2.25 11.53125 \r\nQ 2.25 16.21875 5.65625 19.578125 \r\nQ 9.078125 22.953125 13.875 22.953125 \r\nQ 17.875 22.953125 21.09375 20.265625 \r\nQ 24.3125 17.578125 25.390625 13.28125 \r\nQ 26.171875 10.25 29 8.34375 \r\nQ 31.84375 6.453125 35.453125 6.453125 \r\nQ 40.046875 6.453125 43.171875 11.328125 \r\nQ 46.296875 16.21875 46.296875 23.140625 \r\nQ 46.296875 31.25 40.96875 36.953125 \r\nQ 35.640625 42.671875 28.03125 42.671875 \r\nL 21.09375 42.671875 \r\nQ 15.4375 42.671875 11.328125 46.828125 \r\nQ 7.234375 50.984375 7.234375 56.84375 \r\nL 12.3125 56.84375 \r\nQ 12.3125 52.9375 15.046875 50.203125 \r\nQ 17.78125 47.46875 21.484375 47.46875 \r\nQ 22.859375 47.46875 24.46875 48.34375 \r\nQ 26.078125 49.21875 27.734375 50.875 \r\nL 43.84375 66.21875 \r\nL 47.078125 62.984375 \r\nL 31.640625 47.65625 \r\nQ 40.71875 46.390625 46.71875 39.40625 \r\nQ 52.734375 32.421875 52.734375 23.140625 \r\nL 52.546875 20.125 \r\nQ 54.6875 13.96875 59.515625 10.203125 \r\nQ 64.359375 6.453125 70.125 6.453125 \r\nQ 75.484375 6.453125 79.1875 11.328125 \r\nQ 82.90625 16.21875 82.90625 23.140625 \r\nQ 82.90625 30.671875 78.265625 35.984375 \r\nQ 73.640625 41.3125 67.1875 41.3125 \r\nL 68.65625 47.65625 \r\nQ 77.640625 46.875 83.78125 39.75 \r\nQ 89.9375 32.625 89.9375 22.953125 \r\nQ 89.9375 13.484375 83.9375 6.734375 \r\nQ 77.9375 0 69.4375 0 \r\nQ 63.875 0 58.890625 3.265625 \r\nQ 53.90625 6.546875 50.984375 12.203125 \r\nQ 49.03125 6.734375 44.734375 3.359375 \r\nQ 40.4375 0 35.453125 0 \r\nQ 32.03125 0 29.046875 1.796875 \r\nQ 26.078125 3.609375 24.3125 6.640625 \r\nL 24.03125 6.453125 \r\nQ 22.953125 3.609375 20.171875 1.796875 \r\nQ 17.390625 0 13.875 0 \r\nQ 9.078125 0 5.65625 3.421875 \r\nQ 2.25 6.84375 2.25 11.53125 \r\nz\r\n\" id=\"Lohit-Telugu-3118\"/>\r\n       </defs>\r\n       <use xlink:href=\"#Lohit-Telugu-3118\"/>\r\n      </g>\r\n     </g>\r\n    </g>\r\n    <g id=\"ytick_6\">\r\n     <g id=\"line2d_13\">\r\n      <g>\r\n       <use style=\"stroke:#000000;stroke-width:0.8;\" x=\"35.873125\" xlink:href=\"#m11ae6b97b5\" y=\"200.62437\"/>\r\n      </g>\r\n     </g>\r\n     <g id=\"text_13\">\r\n      <!-- ం -->\r\n      <g transform=\"translate(19.380938 206.619213)scale(0.18 -0.18)\">\r\n       <defs>\r\n        <path d=\"M 3.328125 22.953125 \r\nQ 3.328125 32.515625 10.0625 39.203125 \r\nQ 16.796875 45.90625 26.375 45.90625 \r\nQ 35.84375 45.90625 42.625 39.203125 \r\nQ 49.421875 32.515625 49.421875 22.953125 \r\nQ 49.421875 13.484375 42.625 6.734375 \r\nQ 35.84375 0 26.375 0 \r\nQ 16.796875 0 10.0625 6.734375 \r\nQ 3.328125 13.484375 3.328125 22.953125 \r\nz\r\nM 9.671875 22.953125 \r\nQ 9.671875 16.109375 14.546875 11.28125 \r\nQ 19.4375 6.453125 26.375 6.453125 \r\nQ 33.203125 6.453125 38.03125 11.28125 \r\nQ 42.875 16.109375 42.875 22.953125 \r\nQ 42.875 29.890625 38.03125 34.765625 \r\nQ 33.203125 39.65625 26.375 39.65625 \r\nQ 19.4375 39.65625 14.546875 34.765625 \r\nQ 9.671875 29.890625 9.671875 22.953125 \r\nz\r\n\" id=\"Lohit-Telugu-3074\"/>\r\n       </defs>\r\n       <use xlink:href=\"#Lohit-Telugu-3074\"/>\r\n      </g>\r\n     </g>\r\n    </g>\r\n   </g>\r\n   <g id=\"patch_3\">\r\n    <path d=\"M 35.873125 218.208403 \r\nL 35.873125 7.2 \r\n\" style=\"fill:none;stroke:#000000;stroke-linecap:square;stroke-linejoin:miter;stroke-width:0.8;\"/>\r\n   </g>\r\n   <g id=\"patch_4\">\r\n    <path d=\"M 282.049596 218.208403 \r\nL 282.049596 7.2 \r\n\" style=\"fill:none;stroke:#000000;stroke-linecap:square;stroke-linejoin:miter;stroke-width:0.8;\"/>\r\n   </g>\r\n   <g id=\"patch_5\">\r\n    <path d=\"M 35.873125 218.208403 \r\nL 282.049596 218.208403 \r\n\" style=\"fill:none;stroke:#000000;stroke-linecap:square;stroke-linejoin:miter;stroke-width:0.8;\"/>\r\n   </g>\r\n   <g id=\"patch_6\">\r\n    <path d=\"M 35.873125 7.2 \r\nL 282.049596 7.2 \r\n\" style=\"fill:none;stroke:#000000;stroke-linecap:square;stroke-linejoin:miter;stroke-width:0.8;\"/>\r\n   </g>\r\n  </g>\r\n  <g id=\"axes_2\">\r\n   <g id=\"patch_7\">\r\n    <path d=\"M 331.28489 211.17479 \r\nL 577.46136 211.17479 \r\nL 577.46136 14.233613 \r\nL 331.28489 14.233613 \r\nz\r\n\" style=\"fill:#ffffff;\"/>\r\n   </g>\r\n   <g clip-path=\"url(#p3fe70bf054)\">\r\n    <image height=\"197\" id=\"image20ac780075\" transform=\"scale(1 -1)translate(0 -197)\" width=\"247\" x=\"331.28489\" xlink:href=\"data:image/png;base64,\r\niVBORw0KGgoAAAANSUhEUgAAAPcAAADFCAYAAACIPmT1AAADMklEQVR4nO3dwUmjURSA0ZcYRHEhWIBYiRs7SSuWYEMWYg0iIoKrfxazGGY3i7kT/OacAu59BL7cXbJba20L+M3FxcXo/K+vr9H5a621H98AnIS4IUrcECVuiBI3RIkbosQNUeKGKHFDlLghStwQJW6IEjdEiRuixA1R4oYocUOUuCFK3BAlbogSN0SJG6LEDVHihqjDqR9Ay34/fy/Oz8/Hdzw9PY3Of35+Hp2/lssNWeKGKHFDlLghStwQJW6IEjdEiRuixA1R4oYocUOUuCFK3BAlbogSN0SJG6LEDVHihihxQ5S4IUrcECVuiBI3RO3WWtupH0HH2dnZqZ/wV3x8fIzOv7m5GZ2/lssNWeKGKHFDlLghStwQJW6IEjdEiRuixA1R4oYocUOUuCFK3BAlbogSN0SJG6LEDVHihihxQ5S4IUrcECVuiBI3RIkbog6nfgC/7Pez37XT89da6/HxcXzH+/v7+I7Ly8vxHdNcbogSN0SJG6LEDVHihihxQ5S4IUrcECVuiBI3RIkbosQNUeKGKHFDlLghStwQJW6IEjdEiRuixA1R4oYocUOUuCFK3BC1W2ttp34EPxX+lOD19XV8x+3t7fiOt7e38R3TXG6IEjdEiRuixA1R4oYocUOUuCFK3BAlbogSN0SJG6LEDVHihihxQ5S4IUrcECVuiBI3RIkbosQNUeKGKHFDlLgh6nDqB3wXh8P8R/Xy8jI6/+HhYXT+WmtdX1+P79g2P7X/J1xuiBI3RIkbosQNUeKGKHFDlLghStwQJW6IEjdEiRuixA1R4oYocUOUuCFK3BAlbogSN0SJG6LEDVHihihxQ5S4IUrcEPVP/pRgv5/9Djkej6Pz11rr/v5+fMfd3d34Dv4fLjdEiRuixA1R4oYocUOUuCFK3BAlbogSN0SJG6LEDVHihihxQ5S4IUrcECVuiBI3RIkbosQNUeKGKHFDlLghStwQtdu2bZtecnV1NTr/8/NzdD58Ry43RIkbosQNUeKGKHFDlLghStwQJW6IEjdEiRuixA1R4oYocUOUuCFK3BAlbogSN0SJG6LEDVHihihxQ5S4IUrcECVuiPoB1wMpGSf2iZQAAAAASUVORK5CYII=\" y=\"-14.17479\"/>\r\n   </g>\r\n   <g id=\"matplotlib.axis_3\">\r\n    <g id=\"xtick_8\">\r\n     <g id=\"line2d_14\">\r\n      <g>\r\n       <use style=\"stroke:#000000;stroke-width:0.8;\" x=\"343.593713\" xlink:href=\"#m6d0a379215\" y=\"211.17479\"/>\r\n      </g>\r\n     </g>\r\n     <g id=\"text_14\">\r\n      <!-- n -->\r\n      <g transform=\"translate(340.424963 225.773227)scale(0.1 -0.1)\">\r\n       <defs>\r\n        <path d=\"M 54.890625 33.015625 \r\nL 54.890625 0 \r\nL 45.90625 0 \r\nL 45.90625 32.71875 \r\nQ 45.90625 40.484375 42.875 44.328125 \r\nQ 39.84375 48.1875 33.796875 48.1875 \r\nQ 26.515625 48.1875 22.3125 43.546875 \r\nQ 18.109375 38.921875 18.109375 30.90625 \r\nL 18.109375 0 \r\nL 9.078125 0 \r\nL 9.078125 54.6875 \r\nL 18.109375 54.6875 \r\nL 18.109375 46.1875 \r\nQ 21.34375 51.125 25.703125 53.5625 \r\nQ 30.078125 56 35.796875 56 \r\nQ 45.21875 56 50.046875 50.171875 \r\nQ 54.890625 44.34375 54.890625 33.015625 \r\nz\r\n\" id=\"DejaVuSans-110\"/>\r\n       </defs>\r\n       <use xlink:href=\"#DejaVuSans-110\"/>\r\n      </g>\r\n     </g>\r\n    </g>\r\n    <g id=\"xtick_9\">\r\n     <g id=\"line2d_15\">\r\n      <g>\r\n       <use style=\"stroke:#000000;stroke-width:0.8;\" x=\"368.21136\" xlink:href=\"#m6d0a379215\" y=\"211.17479\"/>\r\n      </g>\r\n     </g>\r\n     <g id=\"text_15\">\r\n      <!-- a -->\r\n      <g transform=\"translate(365.147298 225.773227)scale(0.1 -0.1)\">\r\n       <use xlink:href=\"#DejaVuSans-97\"/>\r\n      </g>\r\n     </g>\r\n    </g>\r\n    <g id=\"xtick_10\">\r\n     <g id=\"line2d_16\">\r\n      <g>\r\n       <use style=\"stroke:#000000;stroke-width:0.8;\" x=\"392.829007\" xlink:href=\"#m6d0a379215\" y=\"211.17479\"/>\r\n      </g>\r\n     </g>\r\n     <g id=\"text_16\">\r\n      <!-- y -->\r\n      <g transform=\"translate(389.869632 225.773227)scale(0.1 -0.1)\">\r\n       <defs>\r\n        <path d=\"M 32.171875 -5.078125 \r\nQ 28.375 -14.84375 24.75 -17.8125 \r\nQ 21.140625 -20.796875 15.09375 -20.796875 \r\nL 7.90625 -20.796875 \r\nL 7.90625 -13.28125 \r\nL 13.1875 -13.28125 \r\nQ 16.890625 -13.28125 18.9375 -11.515625 \r\nQ 21 -9.765625 23.484375 -3.21875 \r\nL 25.09375 0.875 \r\nL 2.984375 54.6875 \r\nL 12.5 54.6875 \r\nL 29.59375 11.921875 \r\nL 46.6875 54.6875 \r\nL 56.203125 54.6875 \r\nz\r\n\" id=\"DejaVuSans-121\"/>\r\n       </defs>\r\n       <use xlink:href=\"#DejaVuSans-121\"/>\r\n      </g>\r\n     </g>\r\n    </g>\r\n    <g id=\"xtick_11\">\r\n     <g id=\"line2d_17\">\r\n      <g>\r\n       <use style=\"stroke:#000000;stroke-width:0.8;\" x=\"417.446654\" xlink:href=\"#m6d0a379215\" y=\"211.17479\"/>\r\n      </g>\r\n     </g>\r\n     <g id=\"text_17\">\r\n      <!-- a -->\r\n      <g transform=\"translate(414.382592 225.773227)scale(0.1 -0.1)\">\r\n       <use xlink:href=\"#DejaVuSans-97\"/>\r\n      </g>\r\n     </g>\r\n    </g>\r\n    <g id=\"xtick_12\">\r\n     <g id=\"line2d_18\">\r\n      <g>\r\n       <use style=\"stroke:#000000;stroke-width:0.8;\" x=\"442.064301\" xlink:href=\"#m6d0a379215\" y=\"211.17479\"/>\r\n      </g>\r\n     </g>\r\n     <g id=\"text_18\">\r\n      <!-- k -->\r\n      <g transform=\"translate(439.168989 225.773227)scale(0.1 -0.1)\">\r\n       <defs>\r\n        <path d=\"M 9.078125 75.984375 \r\nL 18.109375 75.984375 \r\nL 18.109375 31.109375 \r\nL 44.921875 54.6875 \r\nL 56.390625 54.6875 \r\nL 27.390625 29.109375 \r\nL 57.625 0 \r\nL 45.90625 0 \r\nL 18.109375 26.703125 \r\nL 18.109375 0 \r\nL 9.078125 0 \r\nz\r\n\" id=\"DejaVuSans-107\"/>\r\n       </defs>\r\n       <use xlink:href=\"#DejaVuSans-107\"/>\r\n      </g>\r\n     </g>\r\n    </g>\r\n    <g id=\"xtick_13\">\r\n     <g id=\"line2d_19\">\r\n      <g>\r\n       <use style=\"stroke:#000000;stroke-width:0.8;\" x=\"466.681949\" xlink:href=\"#m6d0a379215\" y=\"211.17479\"/>\r\n      </g>\r\n     </g>\r\n     <g id=\"text_19\">\r\n      <!-- u -->\r\n      <g transform=\"translate(463.513199 225.773227)scale(0.1 -0.1)\">\r\n       <use xlink:href=\"#DejaVuSans-117\"/>\r\n      </g>\r\n     </g>\r\n    </g>\r\n    <g id=\"xtick_14\">\r\n     <g id=\"line2d_20\">\r\n      <g>\r\n       <use style=\"stroke:#000000;stroke-width:0.8;\" x=\"491.299596\" xlink:href=\"#m6d0a379215\" y=\"211.17479\"/>\r\n      </g>\r\n     </g>\r\n     <g id=\"text_20\">\r\n      <!-- d -->\r\n      <g transform=\"translate(488.125377 225.773227)scale(0.1 -0.1)\">\r\n       <defs>\r\n        <path d=\"M 45.40625 46.390625 \r\nL 45.40625 75.984375 \r\nL 54.390625 75.984375 \r\nL 54.390625 0 \r\nL 45.40625 0 \r\nL 45.40625 8.203125 \r\nQ 42.578125 3.328125 38.25 0.953125 \r\nQ 33.9375 -1.421875 27.875 -1.421875 \r\nQ 17.96875 -1.421875 11.734375 6.484375 \r\nQ 5.515625 14.40625 5.515625 27.296875 \r\nQ 5.515625 40.1875 11.734375 48.09375 \r\nQ 17.96875 56 27.875 56 \r\nQ 33.9375 56 38.25 53.625 \r\nQ 42.578125 51.265625 45.40625 46.390625 \r\nz\r\nM 14.796875 27.296875 \r\nQ 14.796875 17.390625 18.875 11.75 \r\nQ 22.953125 6.109375 30.078125 6.109375 \r\nQ 37.203125 6.109375 41.296875 11.75 \r\nQ 45.40625 17.390625 45.40625 27.296875 \r\nQ 45.40625 37.203125 41.296875 42.84375 \r\nQ 37.203125 48.484375 30.078125 48.484375 \r\nQ 22.953125 48.484375 18.875 42.84375 \r\nQ 14.796875 37.203125 14.796875 27.296875 \r\nz\r\n\" id=\"DejaVuSans-100\"/>\r\n       </defs>\r\n       <use xlink:href=\"#DejaVuSans-100\"/>\r\n      </g>\r\n     </g>\r\n    </g>\r\n    <g id=\"xtick_15\">\r\n     <g id=\"line2d_21\">\r\n      <g>\r\n       <use style=\"stroke:#000000;stroke-width:0.8;\" x=\"515.917243\" xlink:href=\"#m6d0a379215\" y=\"211.17479\"/>\r\n      </g>\r\n     </g>\r\n     <g id=\"text_21\">\r\n      <!-- i -->\r\n      <g transform=\"translate(514.52818 225.773227)scale(0.1 -0.1)\">\r\n       <defs>\r\n        <path d=\"M 9.421875 54.6875 \r\nL 18.40625 54.6875 \r\nL 18.40625 0 \r\nL 9.421875 0 \r\nz\r\nM 9.421875 75.984375 \r\nL 18.40625 75.984375 \r\nL 18.40625 64.59375 \r\nL 9.421875 64.59375 \r\nz\r\n\" id=\"DejaVuSans-105\"/>\r\n       </defs>\r\n       <use xlink:href=\"#DejaVuSans-105\"/>\r\n      </g>\r\n     </g>\r\n    </g>\r\n    <g id=\"xtick_16\">\r\n     <g id=\"line2d_22\">\r\n      <g>\r\n       <use style=\"stroke:#000000;stroke-width:0.8;\" x=\"540.53489\" xlink:href=\"#m6d0a379215\" y=\"211.17479\"/>\r\n      </g>\r\n     </g>\r\n     <g id=\"text_22\">\r\n      <!-- n -->\r\n      <g transform=\"translate(537.36614 225.773227)scale(0.1 -0.1)\">\r\n       <use xlink:href=\"#DejaVuSans-110\"/>\r\n      </g>\r\n     </g>\r\n    </g>\r\n    <g id=\"xtick_17\">\r\n     <g id=\"line2d_23\">\r\n      <g>\r\n       <use style=\"stroke:#000000;stroke-width:0.8;\" x=\"565.152537\" xlink:href=\"#m6d0a379215\" y=\"211.17479\"/>\r\n      </g>\r\n     </g>\r\n     <g id=\"text_23\">\r\n      <!-- i -->\r\n      <g transform=\"translate(563.763474 225.773227)scale(0.1 -0.1)\">\r\n       <use xlink:href=\"#DejaVuSans-105\"/>\r\n      </g>\r\n     </g>\r\n    </g>\r\n   </g>\r\n   <g id=\"matplotlib.axis_4\">\r\n    <g id=\"ytick_7\">\r\n     <g id=\"line2d_24\">\r\n      <g>\r\n       <use style=\"stroke:#000000;stroke-width:0.8;\" x=\"331.28489\" xlink:href=\"#m11ae6b97b5\" y=\"26.542437\"/>\r\n      </g>\r\n     </g>\r\n     <g id=\"text_24\">\r\n      <!-- న -->\r\n      <g transform=\"translate(313.63114 32.518999)scale(0.18 -0.18)\">\r\n       <defs>\r\n        <path d=\"M 38.484375 6.453125 \r\nQ 43.0625 6.453125 46.234375 11.46875 \r\nQ 49.421875 16.5 49.421875 23.640625 \r\nQ 49.421875 31.453125 43.265625 36.96875 \r\nQ 37.109375 42.484375 28.421875 42.484375 \r\nL 19.734375 42.484375 \r\nQ 13.875 42.484375 9.765625 46.734375 \r\nQ 5.671875 50.984375 5.671875 56.84375 \r\nL 10.75 56.84375 \r\nQ 10.75 52.9375 13.484375 50.203125 \r\nQ 16.21875 47.46875 19.921875 47.46875 \r\nQ 21.296875 47.46875 22.90625 48.34375 \r\nQ 24.515625 49.21875 26.171875 50.875 \r\nL 42.28125 66.21875 \r\nL 45.515625 62.984375 \r\nL 30.171875 47.859375 \r\nQ 40.921875 47.265625 48.34375 40.28125 \r\nQ 55.765625 33.296875 55.765625 23.640625 \r\nQ 55.765625 13.875 50.734375 6.9375 \r\nQ 45.703125 0 38.484375 0 \r\nQ 33.015625 0 28.90625 3.359375 \r\nQ 24.8125 6.734375 23.921875 11.8125 \r\nQ 23.25 15.53125 20.90625 18.015625 \r\nQ 18.5625 20.515625 15.53125 20.515625 \r\nQ 12.890625 20.515625 10.984375 17.828125 \r\nQ 9.078125 15.140625 9.078125 11.421875 \r\nQ 9.078125 9.96875 10.046875 7.5625 \r\nQ 11.03125 5.171875 12.890625 1.859375 \r\nL 7.234375 -0.203125 \r\nQ 4.984375 3.609375 3.8125 6.59375 \r\nQ 2.640625 9.578125 2.640625 11.421875 \r\nQ 2.640625 17.78125 6.4375 22.265625 \r\nQ 10.25 26.765625 15.53125 26.765625 \r\nQ 20.796875 26.765625 24.65625 23.4375 \r\nQ 28.515625 20.125 29 15.140625 \r\nQ 29.296875 11.421875 32.03125 8.9375 \r\nQ 34.765625 6.453125 38.484375 6.453125 \r\nz\r\n\" id=\"Lohit-Telugu-3112\"/>\r\n       </defs>\r\n       <use xlink:href=\"#Lohit-Telugu-3112\"/>\r\n      </g>\r\n     </g>\r\n    </g>\r\n    <g id=\"ytick_8\">\r\n     <g id=\"line2d_25\">\r\n      <g>\r\n       <use style=\"stroke:#000000;stroke-width:0.8;\" x=\"331.28489\" xlink:href=\"#m11ae6b97b5\" y=\"51.160084\"/>\r\n      </g>\r\n     </g>\r\n     <g id=\"text_25\">\r\n      <!-- య -->\r\n      <g transform=\"translate(302.611765 57.171803)scale(0.18 -0.18)\">\r\n       <defs>\r\n        <path d=\"M 9.671875 22.953125 \r\nQ 9.671875 16.109375 14.546875 11.28125 \r\nQ 19.4375 6.453125 26.375 6.453125 \r\nQ 33.203125 6.453125 38.03125 11.28125 \r\nQ 42.875 16.109375 42.875 22.953125 \r\nQ 42.875 30.375 38.03125 35.640625 \r\nQ 33.203125 40.921875 26.375 40.921875 \r\nQ 19.4375 40.921875 14.546875 35.640625 \r\nQ 9.671875 30.375 9.671875 22.953125 \r\nz\r\nM 73.640625 23.734375 \r\nQ 73.640625 31.453125 68.75 36.96875 \r\nQ 63.875 42.484375 57.125 42.484375 \r\nQ 51.171875 42.484375 46.96875 47.796875 \r\nQ 42.78125 53.125 42.78125 60.75 \r\nL 47.859375 60.75 \r\nQ 47.859375 55.375 50.53125 51.65625 \r\nQ 53.21875 47.953125 56.9375 47.953125 \r\nQ 58.296875 47.953125 59.90625 48.875 \r\nQ 61.53125 49.8125 63.1875 51.375 \r\nL 79.296875 66.796875 \r\nL 82.625 63.484375 \r\nL 65.4375 46.296875 \r\nQ 72.359375 43.5625 76.515625 37.40625 \r\nQ 80.671875 31.25 80.671875 23.734375 \r\nL 80.28125 18.5625 \r\nQ 82.625 13.09375 87.203125 9.765625 \r\nQ 91.796875 6.453125 97.078125 6.453125 \r\nQ 102.4375 6.453125 106.140625 11.328125 \r\nQ 109.859375 16.21875 109.859375 23.140625 \r\nQ 109.859375 30.671875 105.21875 35.984375 \r\nQ 100.59375 41.3125 94.140625 41.3125 \r\nL 95.609375 47.65625 \r\nQ 104.5 47.65625 110.6875 40.421875 \r\nQ 116.890625 33.203125 116.890625 22.953125 \r\nQ 116.890625 13.484375 110.890625 6.734375 \r\nQ 104.890625 0 96.390625 0 \r\nQ 90.234375 0 85.25 3.359375 \r\nQ 80.28125 6.734375 78.21875 12.203125 \r\nQ 75.59375 6.640625 70.90625 3.3125 \r\nQ 66.21875 0 60.84375 0 \r\nQ 55.859375 0 51.65625 2.390625 \r\nQ 47.46875 4.78125 45.015625 8.890625 \r\nL 44.234375 8.890625 \r\nQ 41.21875 4.6875 36.46875 2.34375 \r\nQ 31.734375 0 26.375 0 \r\nQ 16.796875 0 10.0625 6.734375 \r\nQ 3.328125 13.484375 3.328125 22.953125 \r\nQ 3.328125 33.015625 10.0625 40.140625 \r\nQ 16.796875 47.265625 26.375 47.265625 \r\nQ 35.84375 47.265625 42.625 40.140625 \r\nQ 49.421875 33.015625 49.421875 22.953125 \r\nQ 49.421875 20.3125 49.078125 18.109375 \r\nQ 48.734375 15.921875 48.25 14.359375 \r\nQ 50.296875 10.75 53.703125 8.59375 \r\nQ 57.125 6.453125 60.84375 6.453125 \r\nQ 66.21875 6.453125 69.921875 11.53125 \r\nQ 73.640625 16.609375 73.640625 23.734375 \r\nz\r\n\" id=\"Lohit-Telugu-3119\"/>\r\n       </defs>\r\n       <use xlink:href=\"#Lohit-Telugu-3119\"/>\r\n      </g>\r\n     </g>\r\n    </g>\r\n    <g id=\"ytick_9\">\r\n     <g id=\"line2d_26\">\r\n      <g>\r\n       <use style=\"stroke:#000000;stroke-width:0.8;\" x=\"331.28489\" xlink:href=\"#m11ae6b97b5\" y=\"75.777731\"/>\r\n      </g>\r\n     </g>\r\n     <g id=\"text_26\">\r\n      <!-- క -->\r\n      <g transform=\"translate(315.28489 81.772575)scale(0.18 -0.18)\">\r\n       <defs>\r\n        <path d=\"M 11.53125 34.578125 \r\nQ 11.53125 31.640625 15.234375 29.59375 \r\nQ 18.953125 27.546875 24.3125 27.546875 \r\nQ 32.234375 27.546875 37.890625 23.578125 \r\nQ 43.5625 19.625 43.5625 14.0625 \r\nQ 43.5625 8.203125 37.75 4.09375 \r\nQ 31.9375 0 23.640625 0 \r\nQ 17.09375 0 11.28125 2.640625 \r\nQ 5.46875 5.28125 1.46875 10.0625 \r\nL 5.859375 14.453125 \r\nQ 9.078125 10.640625 13.765625 8.546875 \r\nQ 18.453125 6.453125 23.640625 6.453125 \r\nQ 29.296875 6.453125 33.25 8.640625 \r\nQ 37.203125 10.84375 37.203125 14.0625 \r\nQ 37.203125 17.484375 32.859375 19.921875 \r\nQ 28.515625 22.359375 22.46875 22.359375 \r\nQ 15.234375 22.359375 10.203125 25.921875 \r\nQ 5.171875 29.5 5.171875 34.578125 \r\nQ 5.171875 37.703125 7.5625 40.625 \r\nQ 9.96875 43.5625 13.875 45.3125 \r\nQ 11.53125 47.859375 10.203125 51.515625 \r\nQ 8.890625 55.171875 8.890625 59.375 \r\nL 13.875 59.375 \r\nQ 13.875 54.296875 16.65625 50.6875 \r\nQ 19.4375 47.078125 23.34375 47.078125 \r\nQ 24.8125 47.078125 26.375 47.859375 \r\nQ 27.9375 48.640625 29.390625 50.09375 \r\nL 45.40625 65.4375 \r\nL 48.734375 62.203125 \r\nL 32.515625 45.796875 \r\nQ 35.15625 45.015625 37.40625 43.796875 \r\nQ 39.65625 42.578125 41.609375 41.015625 \r\nL 38.484375 35.359375 \r\nQ 35.25 38.09375 31.296875 39.5 \r\nQ 27.34375 40.921875 23.140625 40.921875 \r\nQ 18.359375 40.921875 14.9375 39.0625 \r\nQ 11.53125 37.203125 11.53125 34.578125 \r\nz\r\n\" id=\"Lohit-Telugu-3093\"/>\r\n       </defs>\r\n       <use xlink:href=\"#Lohit-Telugu-3093\"/>\r\n      </g>\r\n     </g>\r\n    </g>\r\n    <g id=\"ytick_10\">\r\n     <g id=\"line2d_27\">\r\n      <g>\r\n       <use style=\"stroke:#000000;stroke-width:0.8;\" x=\"331.28489\" xlink:href=\"#m11ae6b97b5\" y=\"100.395378\"/>\r\n      </g>\r\n     </g>\r\n     <g id=\"text_27\">\r\n      <!-- ు -->\r\n      <g transform=\"translate(317.81614 106.390222)scale(0.18 -0.18)\">\r\n       <defs>\r\n        <path d=\"M -6.734375 13.875 \r\nL -5.375 21.875 \r\nQ -3.609375 15.046875 1.46875 10.75 \r\nQ 6.546875 6.453125 12.796875 6.453125 \r\nQ 18.0625 6.453125 21.765625 11.328125 \r\nQ 25.484375 16.21875 25.484375 23.140625 \r\nQ 25.484375 30.671875 20.890625 35.984375 \r\nQ 16.3125 41.3125 9.765625 41.3125 \r\nL 11.234375 47.65625 \r\nQ 20.125 47.65625 26.3125 40.421875 \r\nQ 32.515625 33.203125 32.515625 22.953125 \r\nQ 32.515625 13.484375 26.5625 6.734375 \r\nQ 20.609375 0 12.015625 0 \r\nQ 5.375 0 0.140625 3.859375 \r\nQ -5.078125 7.71875 -6.734375 13.875 \r\nz\r\n\" id=\"Lohit-Telugu-3137\"/>\r\n       </defs>\r\n       <use xlink:href=\"#Lohit-Telugu-3137\"/>\r\n      </g>\r\n     </g>\r\n    </g>\r\n    <g id=\"ytick_11\">\r\n     <g id=\"line2d_28\">\r\n      <g>\r\n       <use style=\"stroke:#000000;stroke-width:0.8;\" x=\"331.28489\" xlink:href=\"#m11ae6b97b5\" y=\"125.013025\"/>\r\n      </g>\r\n     </g>\r\n     <g id=\"text_28\">\r\n      <!-- డ -->\r\n      <g transform=\"translate(312.47239 131.024744)scale(0.18 -0.18)\">\r\n       <defs>\r\n        <path d=\"M 45.703125 15.234375 \r\nQ 45.703125 12.59375 47.5625 10.734375 \r\nQ 49.421875 8.890625 52.046875 8.890625 \r\nQ 54.6875 8.890625 56.546875 10.734375 \r\nQ 58.40625 12.59375 58.40625 15.234375 \r\nQ 58.40625 17.875 56.546875 19.78125 \r\nQ 54.6875 21.6875 52.046875 21.6875 \r\nQ 49.421875 21.6875 47.5625 19.78125 \r\nQ 45.703125 17.875 45.703125 15.234375 \r\nz\r\nM 3.421875 20.515625 \r\nQ 3.421875 29.203125 9.171875 36.421875 \r\nQ 14.9375 43.65625 24.125 46.484375 \r\nQ 21.6875 49.03125 20.3125 52.734375 \r\nQ 18.953125 56.453125 18.953125 60.75 \r\nL 24.03125 60.75 \r\nQ 24.03125 55.375 26.765625 51.65625 \r\nQ 29.5 47.953125 33.203125 47.953125 \r\nQ 34.578125 47.953125 36.1875 48.875 \r\nQ 37.796875 49.8125 39.453125 51.375 \r\nL 55.5625 66.796875 \r\nL 59.578125 62.203125 \r\nL 42.484375 47.078125 \r\nQ 46.96875 46.296875 50.734375 44.734375 \r\nQ 54.5 43.171875 57.328125 40.921875 \r\nL 53.90625 35.75 \r\nQ 50.59375 38.484375 45.171875 40.046875 \r\nQ 39.75 41.609375 33.015625 41.609375 \r\nQ 23.34375 41.609375 16.59375 35.40625 \r\nQ 9.859375 29.203125 9.859375 20.515625 \r\nQ 9.859375 14.65625 12.84375 10.546875 \r\nQ 15.828125 6.453125 20.125 6.453125 \r\nQ 24.515625 6.453125 27.59375 10.15625 \r\nQ 30.671875 13.875 30.671875 19.140625 \r\nL 35.359375 19.140625 \r\nQ 35.359375 13.578125 37.984375 9.625 \r\nQ 40.625 5.671875 44.34375 5.671875 \r\nL 47.078125 5.671875 \r\nL 47.078125 6.0625 \r\nQ 44.4375 7.03125 42.828125 9.5625 \r\nQ 41.21875 12.109375 41.21875 15.234375 \r\nQ 41.21875 19.734375 44.34375 22.953125 \r\nQ 47.46875 26.171875 52.046875 26.171875 \r\nQ 56.84375 26.171875 60.15625 22.796875 \r\nQ 63.484375 19.4375 63.484375 14.75 \r\nQ 63.484375 8.6875 58.453125 4.34375 \r\nQ 53.421875 0 46.296875 0 \r\nQ 42.28125 0 38.765625 2.046875 \r\nQ 35.25 4.109375 33.203125 7.625 \r\nL 32.8125 7.421875 \r\nQ 30.859375 4 27.25 2 \r\nQ 23.640625 0 19.53125 0 \r\nQ 12.890625 0 8.15625 5.953125 \r\nQ 3.421875 11.921875 3.421875 20.515625 \r\nz\r\n\" id=\"Lohit-Telugu-3105\"/>\r\n       </defs>\r\n       <use xlink:href=\"#Lohit-Telugu-3105\"/>\r\n      </g>\r\n     </g>\r\n    </g>\r\n    <g id=\"ytick_12\">\r\n     <g id=\"line2d_29\">\r\n      <g>\r\n       <use style=\"stroke:#000000;stroke-width:0.8;\" x=\"331.28489\" xlink:href=\"#m11ae6b97b5\" y=\"149.630672\"/>\r\n      </g>\r\n     </g>\r\n     <g id=\"text_29\">\r\n      <!-- ి -->\r\n      <g transform=\"translate(324.28489 155.625516)scale(0.18 -0.18)\">\r\n       <defs>\r\n        <path d=\"M -9.96875 50.875 \r\nQ -7.625 49.421875 -5.125 48.640625 \r\nQ -2.640625 47.859375 -0.203125 47.859375 \r\nQ 4.59375 47.859375 8 50.6875 \r\nQ 11.421875 53.515625 11.421875 57.515625 \r\nL 10.75 57.71875 \r\nQ 9.28125 55.765625 6.6875 54.734375 \r\nQ 4.109375 53.71875 0.78125 53.71875 \r\nQ -5.375 53.71875 -9.71875 56.6875 \r\nQ -14.0625 59.671875 -14.0625 63.875 \r\nQ -14.0625 68.453125 -9.671875 71.625 \r\nQ -5.28125 74.8125 0.984375 74.8125 \r\nQ 8.015625 73.734375 12.703125 69.390625 \r\nQ 17.390625 65.046875 17.390625 59.375 \r\nQ 17.390625 52.546875 12.25 47.65625 \r\nQ 7.125 42.78125 -0.203125 42.78125 \r\nQ -4 42.78125 -7.265625 43.75 \r\nQ -10.546875 44.734375 -12.984375 46.6875 \r\nL -9.96875 50.875 \r\nz\r\nM -7.625 64.546875 \r\nQ -7.625 61.921875 -5.125 60.0625 \r\nQ -2.640625 58.203125 0.78125 58.203125 \r\nQ 3.90625 58.203125 6.09375 59.859375 \r\nQ 8.296875 61.53125 8.296875 63.875 \r\nQ 8.296875 66.21875 6.09375 67.921875 \r\nQ 3.90625 69.625 0.78125 69.625 \r\nQ -2.640625 69.625 -5.125 68.109375 \r\nQ -7.625 66.609375 -7.625 64.546875 \r\nz\r\n\" id=\"Lohit-Telugu-3135\"/>\r\n       </defs>\r\n       <use xlink:href=\"#Lohit-Telugu-3135\"/>\r\n      </g>\r\n     </g>\r\n    </g>\r\n    <g id=\"ytick_13\">\r\n     <g id=\"line2d_30\">\r\n      <g>\r\n       <use style=\"stroke:#000000;stroke-width:0.8;\" x=\"331.28489\" xlink:href=\"#m11ae6b97b5\" y=\"174.248319\"/>\r\n      </g>\r\n     </g>\r\n     <g id=\"text_30\">\r\n      <!-- న -->\r\n      <g transform=\"translate(313.63114 180.224882)scale(0.18 -0.18)\">\r\n       <use xlink:href=\"#Lohit-Telugu-3112\"/>\r\n      </g>\r\n     </g>\r\n    </g>\r\n    <g id=\"ytick_14\">\r\n     <g id=\"line2d_31\">\r\n      <g>\r\n       <use style=\"stroke:#000000;stroke-width:0.8;\" x=\"331.28489\" xlink:href=\"#m11ae6b97b5\" y=\"198.865966\"/>\r\n      </g>\r\n     </g>\r\n     <g id=\"text_31\">\r\n      <!-- ి -->\r\n      <g transform=\"translate(324.28489 204.86081)scale(0.18 -0.18)\">\r\n       <use xlink:href=\"#Lohit-Telugu-3135\"/>\r\n      </g>\r\n     </g>\r\n    </g>\r\n   </g>\r\n   <g id=\"patch_8\">\r\n    <path d=\"M 331.28489 211.17479 \r\nL 331.28489 14.233613 \r\n\" style=\"fill:none;stroke:#000000;stroke-linecap:square;stroke-linejoin:miter;stroke-width:0.8;\"/>\r\n   </g>\r\n   <g id=\"patch_9\">\r\n    <path d=\"M 577.46136 211.17479 \r\nL 577.46136 14.233613 \r\n\" style=\"fill:none;stroke:#000000;stroke-linecap:square;stroke-linejoin:miter;stroke-width:0.8;\"/>\r\n   </g>\r\n   <g id=\"patch_10\">\r\n    <path d=\"M 331.28489 211.17479 \r\nL 577.46136 211.17479 \r\n\" style=\"fill:none;stroke:#000000;stroke-linecap:square;stroke-linejoin:miter;stroke-width:0.8;\"/>\r\n   </g>\r\n   <g id=\"patch_11\">\r\n    <path d=\"M 331.28489 14.233613 \r\nL 577.46136 14.233613 \r\n\" style=\"fill:none;stroke:#000000;stroke-linecap:square;stroke-linejoin:miter;stroke-width:0.8;\"/>\r\n   </g>\r\n  </g>\r\n  <g id=\"axes_3\">\r\n   <g id=\"patch_12\">\r\n    <path d=\"M 626.696654 189.634349 \r\nL 872.873125 189.634349 \r\nL 872.873125 35.774055 \r\nL 626.696654 35.774055 \r\nz\r\n\" style=\"fill:#ffffff;\"/>\r\n   </g>\r\n   <g clip-path=\"url(#p944af06136)\">\r\n    <image height=\"154\" id=\"image7bb5c7b6e3\" transform=\"scale(1 -1)translate(0 -154)\" width=\"247\" x=\"626.696654\" xlink:href=\"data:image/png;base64,\r\niVBORw0KGgoAAAANSUhEUgAAAPcAAACaCAYAAAB15t7XAAADCUlEQVR4nO3dwUksSBRA0WodsI3AENyJabh1aT6CCXQShiEYhLhyI4gBCILtj2CGT9XM7+F6zv5RTXdfavWozRjjewD/ie12uzR/eno6PXu0dDLwvyVuiBI3RIkbosQNUeKGKHFDlLghStwQJW6IEjdEiRuixA1R4oaozbDyCf/o+Ph4evb5+Xnp7Jubm+lZNzdEiRuixA1R4oYocUOUuCFK3BAlbogSN0SJG6LEDVHihihxQ5S4IUrcEGWfm992dDR/F3x/r/3NTk5Opmff3t6Wzr64uJiefXl5WTp7hZsbosQNUeKGKHFDlLghStwQJW6IEjdEiRuixA1R4oYocUOUuCFK3BD116E/AH/OysrmGGPs9/vp2c1ms3T2brebnr29vV06+/X1dWn+UNzcECVuiBI3RIkbosQNUeKGKHFDlLghStwQJW6IEjdEiRuixA1R4oYocUOUJ3wnrO4mr+xVf319Tc9ut9vp2THGeH9/n549Pz9fOntlp3r191p9fvhQ3NwQJW6IEjdEiRuixA1R4oYocUOUuCFK3BAlbogSN0SJG6LEDVHihqgf+4TvytrlIVc+V9YPHx8fp2fHGOPq6mp6dmVdlDlubogSN0SJG6LEDVHihihxQ5S4IUrcECVuiBI3RIkbosQNUeKGKHFD1I995XNl7fLs7Gzp7EO+WLli5Tvb7/f/4ifhd7i5IUrcECVuiBI3RIkbosQNUeKGKHFDlLghStwQJW6IEjdEiRuixA1R4oaoH/uE793d3fTs/f390tnX19fTsyv73Nvtdnp2jDE+Pz+X5vmz3NwQJW6IEjdEiRuixA1R4oYocUOUuCFK3BAlbogSN0SJG6LEDVHihqiDPuH78PAwPbvb7ZbOXl3bPJTv7x/54jIT3NwQJW6IEjdEiRuixA1R4oYocUOUuCFK3BAlbogSN0SJG6LEDVHihihxQ9Tm4+NjekH48vJy6fCnp6eleeDvubkhStwQJW6IEjdEiRuixA1R4oYocUOUuCFK3BAlbogSN0SJG6LEDVG/AKBKT5fF8jH8AAAAAElFTkSuQmCC\" y=\"-35.634349\"/>\r\n   </g>\r\n   <g id=\"matplotlib.axis_5\">\r\n    <g id=\"xtick_18\">\r\n     <g id=\"line2d_32\">\r\n      <g>\r\n       <use style=\"stroke:#000000;stroke-width:0.8;\" x=\"634.389669\" xlink:href=\"#m6d0a379215\" y=\"189.634349\"/>\r\n      </g>\r\n     </g>\r\n     <g id=\"text_32\">\r\n      <!-- m -->\r\n      <g transform=\"translate(629.519357 204.232786)scale(0.1 -0.1)\">\r\n       <use xlink:href=\"#DejaVuSans-109\"/>\r\n      </g>\r\n     </g>\r\n    </g>\r\n    <g id=\"xtick_19\">\r\n     <g id=\"line2d_33\">\r\n      <g>\r\n       <use style=\"stroke:#000000;stroke-width:0.8;\" x=\"649.775699\" xlink:href=\"#m6d0a379215\" y=\"189.634349\"/>\r\n      </g>\r\n     </g>\r\n     <g id=\"text_33\">\r\n      <!-- a -->\r\n      <g transform=\"translate(646.711636 204.232786)scale(0.1 -0.1)\">\r\n       <use xlink:href=\"#DejaVuSans-97\"/>\r\n      </g>\r\n     </g>\r\n    </g>\r\n    <g id=\"xtick_20\">\r\n     <g id=\"line2d_34\">\r\n      <g>\r\n       <use style=\"stroke:#000000;stroke-width:0.8;\" x=\"665.161728\" xlink:href=\"#m6d0a379215\" y=\"189.634349\"/>\r\n      </g>\r\n     </g>\r\n     <g id=\"text_34\">\r\n      <!-- t -->\r\n      <g transform=\"translate(663.201572 204.232786)scale(0.1 -0.1)\">\r\n       <use xlink:href=\"#DejaVuSans-116\"/>\r\n      </g>\r\n     </g>\r\n    </g>\r\n    <g id=\"xtick_21\">\r\n     <g id=\"line2d_35\">\r\n      <g>\r\n       <use style=\"stroke:#000000;stroke-width:0.8;\" x=\"680.547757\" xlink:href=\"#m6d0a379215\" y=\"189.634349\"/>\r\n      </g>\r\n     </g>\r\n     <g id=\"text_35\">\r\n      <!-- a -->\r\n      <g transform=\"translate(677.483695 204.232786)scale(0.1 -0.1)\">\r\n       <use xlink:href=\"#DejaVuSans-97\"/>\r\n      </g>\r\n     </g>\r\n    </g>\r\n    <g id=\"xtick_22\">\r\n     <g id=\"line2d_36\">\r\n      <g>\r\n       <use style=\"stroke:#000000;stroke-width:0.8;\" x=\"695.933787\" xlink:href=\"#m6d0a379215\" y=\"189.634349\"/>\r\n      </g>\r\n     </g>\r\n     <g id=\"text_36\">\r\n      <!-- a -->\r\n      <g transform=\"translate(692.869724 204.232786)scale(0.1 -0.1)\">\r\n       <use xlink:href=\"#DejaVuSans-97\"/>\r\n      </g>\r\n     </g>\r\n    </g>\r\n    <g id=\"xtick_23\">\r\n     <g id=\"line2d_37\">\r\n      <g>\r\n       <use style=\"stroke:#000000;stroke-width:0.8;\" x=\"711.319816\" xlink:href=\"#m6d0a379215\" y=\"189.634349\"/>\r\n      </g>\r\n     </g>\r\n     <g id=\"text_37\">\r\n      <!-- c -->\r\n      <g transform=\"translate(708.570597 204.232786)scale(0.1 -0.1)\">\r\n       <defs>\r\n        <path d=\"M 48.78125 52.59375 \r\nL 48.78125 44.1875 \r\nQ 44.96875 46.296875 41.140625 47.34375 \r\nQ 37.3125 48.390625 33.40625 48.390625 \r\nQ 24.65625 48.390625 19.8125 42.84375 \r\nQ 14.984375 37.3125 14.984375 27.296875 \r\nQ 14.984375 17.28125 19.8125 11.734375 \r\nQ 24.65625 6.203125 33.40625 6.203125 \r\nQ 37.3125 6.203125 41.140625 7.25 \r\nQ 44.96875 8.296875 48.78125 10.40625 \r\nL 48.78125 2.09375 \r\nQ 45.015625 0.34375 40.984375 -0.53125 \r\nQ 36.96875 -1.421875 32.421875 -1.421875 \r\nQ 20.0625 -1.421875 12.78125 6.34375 \r\nQ 5.515625 14.109375 5.515625 27.296875 \r\nQ 5.515625 40.671875 12.859375 48.328125 \r\nQ 20.21875 56 33.015625 56 \r\nQ 37.15625 56 41.109375 55.140625 \r\nQ 45.0625 54.296875 48.78125 52.59375 \r\nz\r\n\" id=\"DejaVuSans-99\"/>\r\n       </defs>\r\n       <use xlink:href=\"#DejaVuSans-99\"/>\r\n      </g>\r\n     </g>\r\n    </g>\r\n    <g id=\"xtick_24\">\r\n     <g id=\"line2d_38\">\r\n      <g>\r\n       <use style=\"stroke:#000000;stroke-width:0.8;\" x=\"726.705846\" xlink:href=\"#m6d0a379215\" y=\"189.634349\"/>\r\n      </g>\r\n     </g>\r\n     <g id=\"text_38\">\r\n      <!-- h -->\r\n      <g transform=\"translate(723.537096 204.232786)scale(0.1 -0.1)\">\r\n       <defs>\r\n        <path d=\"M 54.890625 33.015625 \r\nL 54.890625 0 \r\nL 45.90625 0 \r\nL 45.90625 32.71875 \r\nQ 45.90625 40.484375 42.875 44.328125 \r\nQ 39.84375 48.1875 33.796875 48.1875 \r\nQ 26.515625 48.1875 22.3125 43.546875 \r\nQ 18.109375 38.921875 18.109375 30.90625 \r\nL 18.109375 0 \r\nL 9.078125 0 \r\nL 9.078125 75.984375 \r\nL 18.109375 75.984375 \r\nL 18.109375 46.1875 \r\nQ 21.34375 51.125 25.703125 53.5625 \r\nQ 30.078125 56 35.796875 56 \r\nQ 45.21875 56 50.046875 50.171875 \r\nQ 54.890625 44.34375 54.890625 33.015625 \r\nz\r\n\" id=\"DejaVuSans-104\"/>\r\n       </defs>\r\n       <use xlink:href=\"#DejaVuSans-104\"/>\r\n      </g>\r\n     </g>\r\n    </g>\r\n    <g id=\"xtick_25\">\r\n     <g id=\"line2d_39\">\r\n      <g>\r\n       <use style=\"stroke:#000000;stroke-width:0.8;\" x=\"742.091875\" xlink:href=\"#m6d0a379215\" y=\"189.634349\"/>\r\n      </g>\r\n     </g>\r\n     <g id=\"text_39\">\r\n      <!-- a -->\r\n      <g transform=\"translate(739.027812 204.232786)scale(0.1 -0.1)\">\r\n       <use xlink:href=\"#DejaVuSans-97\"/>\r\n      </g>\r\n     </g>\r\n    </g>\r\n    <g id=\"xtick_26\">\r\n     <g id=\"line2d_40\">\r\n      <g>\r\n       <use style=\"stroke:#000000;stroke-width:0.8;\" x=\"757.477904\" xlink:href=\"#m6d0a379215\" y=\"189.634349\"/>\r\n      </g>\r\n     </g>\r\n     <g id=\"text_40\">\r\n      <!-- a -->\r\n      <g transform=\"translate(754.413842 204.232786)scale(0.1 -0.1)\">\r\n       <use xlink:href=\"#DejaVuSans-97\"/>\r\n      </g>\r\n     </g>\r\n    </g>\r\n    <g id=\"xtick_27\">\r\n     <g id=\"line2d_41\">\r\n      <g>\r\n       <use style=\"stroke:#000000;stroke-width:0.8;\" x=\"772.863934\" xlink:href=\"#m6d0a379215\" y=\"189.634349\"/>\r\n      </g>\r\n     </g>\r\n     <g id=\"text_41\">\r\n      <!-- r -->\r\n      <g transform=\"translate(770.808465 204.232786)scale(0.1 -0.1)\">\r\n       <defs>\r\n        <path d=\"M 41.109375 46.296875 \r\nQ 39.59375 47.171875 37.8125 47.578125 \r\nQ 36.03125 48 33.890625 48 \r\nQ 26.265625 48 22.1875 43.046875 \r\nQ 18.109375 38.09375 18.109375 28.8125 \r\nL 18.109375 0 \r\nL 9.078125 0 \r\nL 9.078125 54.6875 \r\nL 18.109375 54.6875 \r\nL 18.109375 46.1875 \r\nQ 20.953125 51.171875 25.484375 53.578125 \r\nQ 30.03125 56 36.53125 56 \r\nQ 37.453125 56 38.578125 55.875 \r\nQ 39.703125 55.765625 41.0625 55.515625 \r\nz\r\n\" id=\"DejaVuSans-114\"/>\r\n       </defs>\r\n       <use xlink:href=\"#DejaVuSans-114\"/>\r\n      </g>\r\n     </g>\r\n    </g>\r\n    <g id=\"xtick_28\">\r\n     <g id=\"line2d_42\">\r\n      <g>\r\n       <use style=\"stroke:#000000;stroke-width:0.8;\" x=\"788.249963\" xlink:href=\"#m6d0a379215\" y=\"189.634349\"/>\r\n      </g>\r\n     </g>\r\n     <g id=\"text_42\">\r\n      <!-- a -->\r\n      <g transform=\"translate(785.185901 204.232786)scale(0.1 -0.1)\">\r\n       <use xlink:href=\"#DejaVuSans-97\"/>\r\n      </g>\r\n     </g>\r\n    </g>\r\n    <g id=\"xtick_29\">\r\n     <g id=\"line2d_43\">\r\n      <g>\r\n       <use style=\"stroke:#000000;stroke-width:0.8;\" x=\"803.635993\" xlink:href=\"#m6d0a379215\" y=\"189.634349\"/>\r\n      </g>\r\n     </g>\r\n     <g id=\"text_43\">\r\n      <!-- a -->\r\n      <g transform=\"translate(800.57193 204.232786)scale(0.1 -0.1)\">\r\n       <use xlink:href=\"#DejaVuSans-97\"/>\r\n      </g>\r\n     </g>\r\n    </g>\r\n    <g id=\"xtick_30\">\r\n     <g id=\"line2d_44\">\r\n      <g>\r\n       <use style=\"stroke:#000000;stroke-width:0.8;\" x=\"819.022022\" xlink:href=\"#m6d0a379215\" y=\"189.634349\"/>\r\n      </g>\r\n     </g>\r\n     <g id=\"text_44\">\r\n      <!-- l -->\r\n      <g transform=\"translate(817.63296 204.232786)scale(0.1 -0.1)\">\r\n       <defs>\r\n        <path d=\"M 9.421875 75.984375 \r\nL 18.40625 75.984375 \r\nL 18.40625 0 \r\nL 9.421875 0 \r\nz\r\n\" id=\"DejaVuSans-108\"/>\r\n       </defs>\r\n       <use xlink:href=\"#DejaVuSans-108\"/>\r\n      </g>\r\n     </g>\r\n    </g>\r\n    <g id=\"xtick_31\">\r\n     <g id=\"line2d_45\">\r\n      <g>\r\n       <use style=\"stroke:#000000;stroke-width:0.8;\" x=\"834.408051\" xlink:href=\"#m6d0a379215\" y=\"189.634349\"/>\r\n      </g>\r\n     </g>\r\n     <g id=\"text_45\">\r\n      <!-- a -->\r\n      <g transform=\"translate(831.343989 204.232786)scale(0.1 -0.1)\">\r\n       <use xlink:href=\"#DejaVuSans-97\"/>\r\n      </g>\r\n     </g>\r\n    </g>\r\n    <g id=\"xtick_32\">\r\n     <g id=\"line2d_46\">\r\n      <g>\r\n       <use style=\"stroke:#000000;stroke-width:0.8;\" x=\"849.794081\" xlink:href=\"#m6d0a379215\" y=\"189.634349\"/>\r\n      </g>\r\n     </g>\r\n     <g id=\"text_46\">\r\n      <!-- n -->\r\n      <g transform=\"translate(846.625331 204.232786)scale(0.1 -0.1)\">\r\n       <use xlink:href=\"#DejaVuSans-110\"/>\r\n      </g>\r\n     </g>\r\n    </g>\r\n    <g id=\"xtick_33\">\r\n     <g id=\"line2d_47\">\r\n      <g>\r\n       <use style=\"stroke:#000000;stroke-width:0.8;\" x=\"865.18011\" xlink:href=\"#m6d0a379215\" y=\"189.634349\"/>\r\n      </g>\r\n     </g>\r\n     <g id=\"text_47\">\r\n      <!-- u -->\r\n      <g transform=\"translate(862.01136 204.232786)scale(0.1 -0.1)\">\r\n       <use xlink:href=\"#DejaVuSans-117\"/>\r\n      </g>\r\n     </g>\r\n    </g>\r\n   </g>\r\n   <g id=\"matplotlib.axis_6\">\r\n    <g id=\"ytick_15\">\r\n     <g id=\"line2d_48\">\r\n      <g>\r\n       <use style=\"stroke:#000000;stroke-width:0.8;\" x=\"626.696654\" xlink:href=\"#m11ae6b97b5\" y=\"43.467069\"/>\r\n      </g>\r\n     </g>\r\n     <g id=\"text_48\">\r\n      <!-- మ -->\r\n      <g transform=\"translate(602.891967 49.461913)scale(0.18 -0.18)\">\r\n       <use xlink:href=\"#Lohit-Telugu-3118\"/>\r\n      </g>\r\n     </g>\r\n    </g>\r\n    <g id=\"ytick_16\">\r\n     <g id=\"line2d_49\">\r\n      <g>\r\n       <use style=\"stroke:#000000;stroke-width:0.8;\" x=\"626.696654\" xlink:href=\"#m11ae6b97b5\" y=\"58.853099\"/>\r\n      </g>\r\n     </g>\r\n     <g id=\"text_49\">\r\n      <!-- త -->\r\n      <g transform=\"translate(608.199154 64.847942)scale(0.18 -0.18)\">\r\n       <use xlink:href=\"#Lohit-Telugu-3108\"/>\r\n      </g>\r\n     </g>\r\n    </g>\r\n    <g id=\"ytick_17\">\r\n     <g id=\"line2d_50\">\r\n      <g>\r\n       <use style=\"stroke:#000000;stroke-width:0.8;\" x=\"626.696654\" xlink:href=\"#m11ae6b97b5\" y=\"74.239128\"/>\r\n      </g>\r\n     </g>\r\n     <g id=\"text_50\">\r\n      <!-- ా -->\r\n      <g transform=\"translate(609.132904 80.233972)scale(0.18 -0.18)\">\r\n       <defs>\r\n        <path d=\"M 35.84375 36.140625 \r\nQ 35.84375 38.09375 36.375 39.75 \r\nQ 36.921875 41.40625 37.796875 42.484375 \r\nL 37.59375 43.171875 \r\nL 32.515625 42.484375 \r\nL -26.65625 42.484375 \r\nL -26.65625 48.921875 \r\nL 44.734375 48.921875 \r\nQ 50.59375 48.921875 54.734375 45.15625 \r\nQ 58.890625 41.40625 58.890625 36.140625 \r\nQ 58.890625 31.34375 55.515625 27.921875 \r\nQ 52.15625 24.515625 47.359375 24.515625 \r\nQ 42.578125 24.515625 39.203125 27.921875 \r\nQ 35.84375 31.34375 35.84375 36.140625 \r\nz\r\nM 41.015625 36.140625 \r\nQ 41.015625 33.40625 42.875 31.59375 \r\nQ 44.734375 29.78125 47.359375 29.78125 \r\nQ 50 29.78125 51.90625 31.59375 \r\nQ 53.8125 33.40625 53.8125 36.140625 \r\nQ 53.8125 38.765625 51.90625 40.625 \r\nQ 50 42.484375 47.359375 42.484375 \r\nQ 44.734375 42.484375 42.875 40.625 \r\nQ 41.015625 38.765625 41.015625 36.140625 \r\nz\r\n\" id=\"Lohit-Telugu-3134\"/>\r\n       </defs>\r\n       <use xlink:href=\"#Lohit-Telugu-3134\"/>\r\n      </g>\r\n     </g>\r\n    </g>\r\n    <g id=\"ytick_18\">\r\n     <g id=\"line2d_51\">\r\n      <g>\r\n       <use style=\"stroke:#000000;stroke-width:0.8;\" x=\"626.696654\" xlink:href=\"#m11ae6b97b5\" y=\"89.625158\"/>\r\n      </g>\r\n     </g>\r\n     <g id=\"text_51\">\r\n      <!-- చ -->\r\n      <g transform=\"translate(608.446654 95.620001)scale(0.18 -0.18)\">\r\n       <defs>\r\n        <path d=\"M 41.796875 0 \r\nQ 38.671875 0 36.125 1.609375 \r\nQ 33.59375 3.21875 32.625 5.859375 \r\nL 32.125 5.671875 \r\nQ 31.15625 3.125 28.5625 1.5625 \r\nQ 25.984375 0 22.75 0 \r\nQ 17.390625 0 13.671875 3.703125 \r\nQ 9.96875 7.421875 9.96875 12.703125 \r\nQ 9.96875 14.265625 10.453125 15.765625 \r\nQ 10.9375 17.28125 11.921875 18.453125 \r\nL 11.234375 19.140625 \r\nL 0.984375 19.140625 \r\nL 0.984375 25.484375 \r\nL 21.390625 25.484375 \r\nL 21.390625 21.09375 \r\nQ 19.140625 20.21875 17.71875 17.96875 \r\nQ 16.3125 15.71875 16.3125 12.703125 \r\nQ 16.3125 10.0625 18.21875 8.25 \r\nQ 20.125 6.453125 22.75 6.453125 \r\nQ 25.390625 6.453125 27.25 8.25 \r\nQ 29.109375 10.0625 29.109375 12.703125 \r\nL 29.109375 16.609375 \r\nL 35.453125 16.609375 \r\nL 35.453125 12.703125 \r\nQ 35.453125 10.0625 37.296875 8.25 \r\nQ 39.15625 6.453125 41.796875 6.453125 \r\nQ 46.296875 6.453125 49.515625 11.140625 \r\nQ 52.734375 15.828125 52.734375 22.46875 \r\nQ 52.734375 30.765625 46.78125 36.71875 \r\nQ 40.828125 42.671875 32.421875 42.671875 \r\nL 30.28125 42.671875 \r\nQ 24.421875 42.671875 20.265625 46.828125 \r\nQ 16.109375 50.984375 16.109375 56.84375 \r\nL 21.09375 56.84375 \r\nQ 21.09375 53.125 23.78125 50.390625 \r\nQ 26.46875 47.65625 30.375 47.46875 \r\nQ 31.640625 47.46875 33.25 48.34375 \r\nQ 34.859375 49.21875 36.53125 50.875 \r\nL 52.546875 66.21875 \r\nL 55.953125 62.984375 \r\nL 39.15625 47.078125 \r\nQ 47.859375 44.921875 53.46875 37.984375 \r\nQ 59.078125 31.0625 59.078125 22.46875 \r\nQ 59.078125 13.09375 54.046875 6.546875 \r\nQ 49.03125 0 41.796875 0 \r\nz\r\n\" id=\"Lohit-Telugu-3098\"/>\r\n       </defs>\r\n       <use xlink:href=\"#Lohit-Telugu-3098\"/>\r\n      </g>\r\n     </g>\r\n    </g>\r\n    <g id=\"ytick_19\">\r\n     <g id=\"line2d_52\">\r\n      <g>\r\n       <use style=\"stroke:#000000;stroke-width:0.8;\" x=\"626.696654\" xlink:href=\"#m11ae6b97b5\" y=\"105.011187\"/>\r\n      </g>\r\n     </g>\r\n     <g id=\"text_52\">\r\n      <!-- ా -->\r\n      <g transform=\"translate(609.132904 111.006031)scale(0.18 -0.18)\">\r\n       <use xlink:href=\"#Lohit-Telugu-3134\"/>\r\n      </g>\r\n     </g>\r\n    </g>\r\n    <g id=\"ytick_20\">\r\n     <g id=\"line2d_53\">\r\n      <g>\r\n       <use style=\"stroke:#000000;stroke-width:0.8;\" x=\"626.696654\" xlink:href=\"#m11ae6b97b5\" y=\"120.397216\"/>\r\n      </g>\r\n     </g>\r\n     <g id=\"text_53\">\r\n      <!-- ర -->\r\n      <g transform=\"translate(610.204467 126.408935)scale(0.18 -0.18)\">\r\n       <defs>\r\n        <path d=\"M 9.671875 23.640625 \r\nQ 9.671875 16.5 14.546875 11.46875 \r\nQ 19.4375 6.453125 26.375 6.453125 \r\nQ 33.203125 6.453125 38.03125 11.46875 \r\nQ 42.875 16.5 42.875 23.640625 \r\nQ 42.875 30.859375 38.03125 35.890625 \r\nQ 33.203125 40.921875 26.375 40.921875 \r\nQ 19.4375 40.921875 14.546875 35.890625 \r\nQ 9.671875 30.859375 9.671875 23.640625 \r\nz\r\nM 3.328125 23.640625 \r\nQ 3.328125 30.953125 7.625 36.859375 \r\nQ 11.921875 42.78125 18.84375 45.125 \r\nQ 15.71875 47.75 13.953125 51.796875 \r\nQ 12.203125 55.859375 12.203125 60.75 \r\nL 17.28125 60.75 \r\nQ 17.28125 55.375 19.96875 51.65625 \r\nQ 22.65625 47.953125 26.375 47.953125 \r\nQ 27.734375 47.953125 29.390625 48.875 \r\nQ 31.0625 49.8125 32.625 51.375 \r\nL 48.734375 66.796875 \r\nL 52.046875 63.484375 \r\nL 33.796875 45.125 \r\nQ 40.828125 42.78125 45.125 36.671875 \r\nQ 49.421875 30.5625 49.421875 22.953125 \r\nQ 49.421875 13.484375 42.625 6.734375 \r\nQ 35.84375 0 26.375 0 \r\nQ 16.796875 0 10.0625 6.9375 \r\nQ 3.328125 13.875 3.328125 23.640625 \r\nz\r\n\" id=\"Lohit-Telugu-3120\"/>\r\n       </defs>\r\n       <use xlink:href=\"#Lohit-Telugu-3120\"/>\r\n      </g>\r\n     </g>\r\n    </g>\r\n    <g id=\"ytick_21\">\r\n     <g id=\"line2d_54\">\r\n      <g>\r\n       <use style=\"stroke:#000000;stroke-width:0.8;\" x=\"626.696654\" xlink:href=\"#m11ae6b97b5\" y=\"135.783246\"/>\r\n      </g>\r\n     </g>\r\n     <g id=\"text_54\">\r\n      <!-- ా -->\r\n      <g transform=\"translate(609.132904 141.77809)scale(0.18 -0.18)\">\r\n       <use xlink:href=\"#Lohit-Telugu-3134\"/>\r\n      </g>\r\n     </g>\r\n    </g>\r\n    <g id=\"ytick_22\">\r\n     <g id=\"line2d_55\">\r\n      <g>\r\n       <use style=\"stroke:#000000;stroke-width:0.8;\" x=\"626.696654\" xlink:href=\"#m11ae6b97b5\" y=\"151.169275\"/>\r\n      </g>\r\n     </g>\r\n     <g id=\"text_55\">\r\n      <!-- ల -->\r\n      <g transform=\"translate(609.253842 157.164119)scale(0.18 -0.18)\">\r\n       <defs>\r\n        <path d=\"M 15.046875 35.75 \r\nQ 15.046875 33.015625 16.890625 31.203125 \r\nQ 18.75 29.390625 21.390625 29.390625 \r\nQ 24.03125 29.390625 25.875 31.203125 \r\nQ 27.734375 33.015625 27.734375 35.75 \r\nQ 27.734375 38.375 25.875 40.234375 \r\nQ 24.03125 42.09375 21.390625 42.09375 \r\nQ 18.75 42.09375 16.890625 40.234375 \r\nQ 15.046875 38.375 15.046875 35.75 \r\nz\r\nM 29.109375 6.453125 \r\nQ 36.921875 6.453125 42.578125 12.015625 \r\nQ 48.25 17.578125 48.25 25.484375 \r\nQ 48.25 31.0625 45.3125 35.453125 \r\nQ 42.390625 39.84375 37.703125 41.609375 \r\nL 39.84375 47.859375 \r\nQ 46.484375 45.40625 50.53125 39.25 \r\nQ 54.59375 33.109375 54.59375 25.484375 \r\nQ 54.59375 14.9375 47.125 7.46875 \r\nQ 39.65625 0 29.109375 0 \r\nQ 18.453125 0 10.9375 7.46875 \r\nQ 3.421875 14.9375 3.421875 25.484375 \r\nQ 3.421875 34.578125 8.6875 40.921875 \r\nQ 13.96875 47.265625 21.390625 47.265625 \r\nQ 26.171875 47.265625 29.59375 43.84375 \r\nQ 33.015625 40.4375 33.015625 35.75 \r\nQ 33.015625 31.0625 29.59375 27.6875 \r\nQ 26.171875 24.3125 21.390625 24.3125 \r\nQ 17.484375 24.3125 14.546875 26.609375 \r\nQ 11.625 28.90625 11.03125 32.421875 \r\nL 10.640625 32.421875 \r\nQ 10.25 31.453125 10.046875 29.6875 \r\nQ 9.859375 27.9375 9.859375 25.484375 \r\nQ 9.859375 17.578125 15.46875 12.015625 \r\nQ 21.09375 6.453125 29.109375 6.453125 \r\nz\r\n\" id=\"Lohit-Telugu-3122\"/>\r\n       </defs>\r\n       <use xlink:href=\"#Lohit-Telugu-3122\"/>\r\n      </g>\r\n     </g>\r\n    </g>\r\n    <g id=\"ytick_23\">\r\n     <g id=\"line2d_56\">\r\n      <g>\r\n       <use style=\"stroke:#000000;stroke-width:0.8;\" x=\"626.696654\" xlink:href=\"#m11ae6b97b5\" y=\"166.555305\"/>\r\n      </g>\r\n     </g>\r\n     <g id=\"text_56\">\r\n      <!-- న -->\r\n      <g transform=\"translate(609.042904 172.531867)scale(0.18 -0.18)\">\r\n       <use xlink:href=\"#Lohit-Telugu-3112\"/>\r\n      </g>\r\n     </g>\r\n    </g>\r\n    <g id=\"ytick_24\">\r\n     <g id=\"line2d_57\">\r\n      <g>\r\n       <use style=\"stroke:#000000;stroke-width:0.8;\" x=\"626.696654\" xlink:href=\"#m11ae6b97b5\" y=\"181.941334\"/>\r\n      </g>\r\n     </g>\r\n     <g id=\"text_57\">\r\n      <!-- ు -->\r\n      <g transform=\"translate(613.227904 187.936178)scale(0.18 -0.18)\">\r\n       <use xlink:href=\"#Lohit-Telugu-3137\"/>\r\n      </g>\r\n     </g>\r\n    </g>\r\n   </g>\r\n   <g id=\"patch_13\">\r\n    <path d=\"M 626.696654 189.634349 \r\nL 626.696654 35.774055 \r\n\" style=\"fill:none;stroke:#000000;stroke-linecap:square;stroke-linejoin:miter;stroke-width:0.8;\"/>\r\n   </g>\r\n   <g id=\"patch_14\">\r\n    <path d=\"M 872.873125 189.634349 \r\nL 872.873125 35.774055 \r\n\" style=\"fill:none;stroke:#000000;stroke-linecap:square;stroke-linejoin:miter;stroke-width:0.8;\"/>\r\n   </g>\r\n   <g id=\"patch_15\">\r\n    <path d=\"M 626.696654 189.634349 \r\nL 872.873125 189.634349 \r\n\" style=\"fill:none;stroke:#000000;stroke-linecap:square;stroke-linejoin:miter;stroke-width:0.8;\"/>\r\n   </g>\r\n   <g id=\"patch_16\">\r\n    <path d=\"M 626.696654 35.774055 \r\nL 872.873125 35.774055 \r\n\" style=\"fill:none;stroke:#000000;stroke-linecap:square;stroke-linejoin:miter;stroke-width:0.8;\"/>\r\n   </g>\r\n  </g>\r\n  <g id=\"axes_4\">\r\n   <g id=\"patch_17\">\r\n    <path d=\"M 35.873125 482.551261 \r\nL 282.049596 482.551261 \r\nL 282.049596 318.433613 \r\nL 35.873125 318.433613 \r\nz\r\n\" style=\"fill:#ffffff;\"/>\r\n   </g>\r\n   <g clip-path=\"url(#pa5a0558249)\">\r\n    <image height=\"165\" id=\"image90baaaffc1\" transform=\"scale(1 -1)translate(0 -165)\" width=\"247\" x=\"35.873125\" xlink:href=\"data:image/png;base64,\r\niVBORw0KGgoAAAANSUhEUgAAAPcAAAClCAYAAACAymuvAAACmklEQVR4nO3dsU3sABBF0TEi2oiIlFIoZzvZZJujAAIkaliRgPj5L2CAq3MaeJas6wl9zMz3wC9yHMfa1uPj49rW6+vr2tbMzN3qGrBG3BAlbogSN0SJG6LEDVHihihxQ5S4IUrcECVuiBI3RIkbosQNUeKGKHFDlLghStwQJW6IEjdEiRuixA1R4oYocUOUuCFK3BAlboi6/+kHgP+9vLysbZ3P57Wth4eHta0ZlxuyxA1R4oYocUOUuCFK3BAlbogSN0SJG6LEDVHihihxQ5S4IUrcECVuiBI3RIkbosQNUeKGKHFDlLghStwQJW6IEjdEiRuixA1Rx8x8//RDFBzHsbr39va2tvX8/Ly2NTPz/v6+trX53j4/P9e2ZlxuyBI3RIkbosQNUeKGKHFDlLghStwQJW6IEjdEiRuixA1R4oYocUOUuCFK3BAlbogSN0SJG6LEDVHihihxQ5S4IUrcECVuiBI3RIkbou43/5V0d7f7LblcLmtbt9ttbWtm5unpaXWPv8flhihxQ5S4IUrcECVuiBI3RIkbosQNUeKGKHFDlLghStwQJW6IEjdEiRuixA1R4oYocUOUuCFK3BAlbogSN0SJG6LEDVHihihxQ9QxM99bY9u/E/r6+lrbOp1Oa1szMx8fH6t7/D0uN0SJG6LEDVHihihxQ5S4IUrcECVuiBI3RIkbosQNUeKGKHFDlLghStwQJW6IEjdEiRuixA1R4oYocUOUuCFK3BAlbogSN0SJG6LEDVH31+t1bex2u61tzcwcx7G6B7+Jyw1R4oYocUOUuCFK3BAlbogSN0SJG6LEDVHihihxQ5S4IUrcECVuiBI3RIkbosQNUeKGKHFDlLghStwQJW6IEjdEiRuixA1R4oaof6q1I1M7bPARAAAAAElFTkSuQmCC\" y=\"-317.551261\"/>\r\n   </g>\r\n   <g id=\"matplotlib.axis_7\">\r\n    <g id=\"xtick_34\">\r\n     <g id=\"line2d_58\">\r\n      <g>\r\n       <use style=\"stroke:#000000;stroke-width:0.8;\" x=\"49.549596\" xlink:href=\"#m6d0a379215\" y=\"482.551261\"/>\r\n      </g>\r\n     </g>\r\n     <g id=\"text_58\">\r\n      <!-- t -->\r\n      <g transform=\"translate(47.589439 497.149698)scale(0.1 -0.1)\">\r\n       <use xlink:href=\"#DejaVuSans-116\"/>\r\n      </g>\r\n     </g>\r\n    </g>\r\n    <g id=\"xtick_35\">\r\n     <g id=\"line2d_59\">\r\n      <g>\r\n       <use style=\"stroke:#000000;stroke-width:0.8;\" x=\"76.902537\" xlink:href=\"#m6d0a379215\" y=\"482.551261\"/>\r\n      </g>\r\n     </g>\r\n     <g id=\"text_59\">\r\n      <!-- e -->\r\n      <g transform=\"translate(73.825974 497.149698)scale(0.1 -0.1)\">\r\n       <defs>\r\n        <path d=\"M 56.203125 29.59375 \r\nL 56.203125 25.203125 \r\nL 14.890625 25.203125 \r\nQ 15.484375 15.921875 20.484375 11.0625 \r\nQ 25.484375 6.203125 34.421875 6.203125 \r\nQ 39.59375 6.203125 44.453125 7.46875 \r\nQ 49.3125 8.734375 54.109375 11.28125 \r\nL 54.109375 2.78125 \r\nQ 49.265625 0.734375 44.1875 -0.34375 \r\nQ 39.109375 -1.421875 33.890625 -1.421875 \r\nQ 20.796875 -1.421875 13.15625 6.1875 \r\nQ 5.515625 13.8125 5.515625 26.8125 \r\nQ 5.515625 40.234375 12.765625 48.109375 \r\nQ 20.015625 56 32.328125 56 \r\nQ 43.359375 56 49.78125 48.890625 \r\nQ 56.203125 41.796875 56.203125 29.59375 \r\nz\r\nM 47.21875 32.234375 \r\nQ 47.125 39.59375 43.09375 43.984375 \r\nQ 39.0625 48.390625 32.421875 48.390625 \r\nQ 24.90625 48.390625 20.390625 44.140625 \r\nQ 15.875 39.890625 15.1875 32.171875 \r\nz\r\n\" id=\"DejaVuSans-101\"/>\r\n       </defs>\r\n       <use xlink:href=\"#DejaVuSans-101\"/>\r\n      </g>\r\n     </g>\r\n    </g>\r\n    <g id=\"xtick_36\">\r\n     <g id=\"line2d_60\">\r\n      <g>\r\n       <use style=\"stroke:#000000;stroke-width:0.8;\" x=\"104.255478\" xlink:href=\"#m6d0a379215\" y=\"482.551261\"/>\r\n      </g>\r\n     </g>\r\n     <g id=\"text_60\">\r\n      <!-- r -->\r\n      <g transform=\"translate(102.200009 497.149698)scale(0.1 -0.1)\">\r\n       <use xlink:href=\"#DejaVuSans-114\"/>\r\n      </g>\r\n     </g>\r\n    </g>\r\n    <g id=\"xtick_37\">\r\n     <g id=\"line2d_61\">\r\n      <g>\r\n       <use style=\"stroke:#000000;stroke-width:0.8;\" x=\"131.608419\" xlink:href=\"#m6d0a379215\" y=\"482.551261\"/>\r\n      </g>\r\n     </g>\r\n     <g id=\"text_61\">\r\n      <!-- a -->\r\n      <g transform=\"translate(128.544357 497.149698)scale(0.1 -0.1)\">\r\n       <use xlink:href=\"#DejaVuSans-97\"/>\r\n      </g>\r\n     </g>\r\n    </g>\r\n    <g id=\"xtick_38\">\r\n     <g id=\"line2d_62\">\r\n      <g>\r\n       <use style=\"stroke:#000000;stroke-width:0.8;\" x=\"158.96136\" xlink:href=\"#m6d0a379215\" y=\"482.551261\"/>\r\n      </g>\r\n     </g>\r\n     <g id=\"text_62\">\r\n      <!-- p -->\r\n      <g transform=\"translate(155.787142 497.149698)scale(0.1 -0.1)\">\r\n       <defs>\r\n        <path d=\"M 18.109375 8.203125 \r\nL 18.109375 -20.796875 \r\nL 9.078125 -20.796875 \r\nL 9.078125 54.6875 \r\nL 18.109375 54.6875 \r\nL 18.109375 46.390625 \r\nQ 20.953125 51.265625 25.265625 53.625 \r\nQ 29.59375 56 35.59375 56 \r\nQ 45.5625 56 51.78125 48.09375 \r\nQ 58.015625 40.1875 58.015625 27.296875 \r\nQ 58.015625 14.40625 51.78125 6.484375 \r\nQ 45.5625 -1.421875 35.59375 -1.421875 \r\nQ 29.59375 -1.421875 25.265625 0.953125 \r\nQ 20.953125 3.328125 18.109375 8.203125 \r\nz\r\nM 48.6875 27.296875 \r\nQ 48.6875 37.203125 44.609375 42.84375 \r\nQ 40.53125 48.484375 33.40625 48.484375 \r\nQ 26.265625 48.484375 22.1875 42.84375 \r\nQ 18.109375 37.203125 18.109375 27.296875 \r\nQ 18.109375 17.390625 22.1875 11.75 \r\nQ 26.265625 6.109375 33.40625 6.109375 \r\nQ 40.53125 6.109375 44.609375 11.75 \r\nQ 48.6875 17.390625 48.6875 27.296875 \r\nz\r\n\" id=\"DejaVuSans-112\"/>\r\n       </defs>\r\n       <use xlink:href=\"#DejaVuSans-112\"/>\r\n      </g>\r\n     </g>\r\n    </g>\r\n    <g id=\"xtick_39\">\r\n     <g id=\"line2d_63\">\r\n      <g>\r\n       <use style=\"stroke:#000000;stroke-width:0.8;\" x=\"186.314301\" xlink:href=\"#m6d0a379215\" y=\"482.551261\"/>\r\n      </g>\r\n     </g>\r\n     <g id=\"text_63\">\r\n      <!-- a -->\r\n      <g transform=\"translate(183.250239 497.149698)scale(0.1 -0.1)\">\r\n       <use xlink:href=\"#DejaVuSans-97\"/>\r\n      </g>\r\n     </g>\r\n    </g>\r\n    <g id=\"xtick_40\">\r\n     <g id=\"line2d_64\">\r\n      <g>\r\n       <use style=\"stroke:#000000;stroke-width:0.8;\" x=\"213.667243\" xlink:href=\"#m6d0a379215\" y=\"482.551261\"/>\r\n      </g>\r\n     </g>\r\n     <g id=\"text_64\">\r\n      <!-- i -->\r\n      <g transform=\"translate(212.27818 497.149698)scale(0.1 -0.1)\">\r\n       <use xlink:href=\"#DejaVuSans-105\"/>\r\n      </g>\r\n     </g>\r\n    </g>\r\n    <g id=\"xtick_41\">\r\n     <g id=\"line2d_65\">\r\n      <g>\r\n       <use style=\"stroke:#000000;stroke-width:0.8;\" x=\"241.020184\" xlink:href=\"#m6d0a379215\" y=\"482.551261\"/>\r\n      </g>\r\n     </g>\r\n     <g id=\"text_65\">\r\n      <!-- n -->\r\n      <g transform=\"translate(237.851434 497.149698)scale(0.1 -0.1)\">\r\n       <use xlink:href=\"#DejaVuSans-110\"/>\r\n      </g>\r\n     </g>\r\n    </g>\r\n    <g id=\"xtick_42\">\r\n     <g id=\"line2d_66\">\r\n      <g>\r\n       <use style=\"stroke:#000000;stroke-width:0.8;\" x=\"268.373125\" xlink:href=\"#m6d0a379215\" y=\"482.551261\"/>\r\n      </g>\r\n     </g>\r\n     <g id=\"text_66\">\r\n      <!-- a -->\r\n      <g transform=\"translate(265.309063 497.149698)scale(0.1 -0.1)\">\r\n       <use xlink:href=\"#DejaVuSans-97\"/>\r\n      </g>\r\n     </g>\r\n    </g>\r\n   </g>\r\n   <g id=\"matplotlib.axis_8\">\r\n    <g id=\"ytick_25\">\r\n     <g id=\"line2d_67\">\r\n      <g>\r\n       <use style=\"stroke:#000000;stroke-width:0.8;\" x=\"35.873125\" xlink:href=\"#m11ae6b97b5\" y=\"332.110084\"/>\r\n      </g>\r\n     </g>\r\n     <g id=\"text_67\">\r\n      <!-- త -->\r\n      <g transform=\"translate(17.375625 338.104928)scale(0.18 -0.18)\">\r\n       <use xlink:href=\"#Lohit-Telugu-3108\"/>\r\n      </g>\r\n     </g>\r\n    </g>\r\n    <g id=\"ytick_26\">\r\n     <g id=\"line2d_68\">\r\n      <g>\r\n       <use style=\"stroke:#000000;stroke-width:0.8;\" x=\"35.873125\" xlink:href=\"#m11ae6b97b5\" y=\"359.463025\"/>\r\n      </g>\r\n     </g>\r\n     <g id=\"text_68\">\r\n      <!-- ె -->\r\n      <g transform=\"translate(28.873125 365.457869)scale(0.18 -0.18)\">\r\n       <defs>\r\n        <path d=\"M -32.515625 64.359375 \r\nL 4.890625 64.359375 \r\nQ 9.28125 64.359375 12.453125 61.234375 \r\nQ 15.625 58.109375 15.625 53.71875 \r\nQ 15.625 49.125 12.34375 45.890625 \r\nQ 9.078125 42.671875 4.5 42.671875 \r\nL -7.515625 42.671875 \r\nL -7.515625 49.125 \r\nL 5.375 49.125 \r\nQ 6.9375 49.125 8.109375 50.4375 \r\nQ 9.28125 51.765625 9.28125 53.71875 \r\nQ 9.28125 55.46875 8.109375 56.734375 \r\nQ 6.9375 58.015625 5.28125 58.015625 \r\nL -32.515625 58.015625 \r\nL -32.515625 64.359375 \r\nz\r\n\" id=\"Lohit-Telugu-3142\"/>\r\n       </defs>\r\n       <use xlink:href=\"#Lohit-Telugu-3142\"/>\r\n      </g>\r\n     </g>\r\n    </g>\r\n    <g id=\"ytick_27\">\r\n     <g id=\"line2d_69\">\r\n      <g>\r\n       <use style=\"stroke:#000000;stroke-width:0.8;\" x=\"35.873125\" xlink:href=\"#m11ae6b97b5\" y=\"386.815966\"/>\r\n      </g>\r\n     </g>\r\n     <g id=\"text_69\">\r\n      <!-- ర -->\r\n      <g transform=\"translate(19.380938 392.827685)scale(0.18 -0.18)\">\r\n       <use xlink:href=\"#Lohit-Telugu-3120\"/>\r\n      </g>\r\n     </g>\r\n    </g>\r\n    <g id=\"ytick_28\">\r\n     <g id=\"line2d_70\">\r\n      <g>\r\n       <use style=\"stroke:#000000;stroke-width:0.8;\" x=\"35.873125\" xlink:href=\"#m11ae6b97b5\" y=\"414.168908\"/>\r\n      </g>\r\n     </g>\r\n     <g id=\"text_70\">\r\n      <!-- ప -->\r\n      <g transform=\"translate(18.818438 420.198908)scale(0.18 -0.18)\">\r\n       <defs>\r\n        <path d=\"M 7.421875 11.53125 \r\nQ 7.421875 8.890625 9.28125 6.984375 \r\nQ 11.140625 5.078125 13.875 5.078125 \r\nQ 16.5 5.078125 18.3125 6.984375 \r\nQ 20.125 8.890625 20.125 11.53125 \r\nQ 20.125 14.265625 18.3125 16.0625 \r\nQ 16.5 17.875 13.875 17.875 \r\nQ 11.140625 17.875 9.28125 16.0625 \r\nQ 7.421875 14.265625 7.421875 11.53125 \r\nz\r\nM 35.453125 6.453125 \r\nQ 40.046875 6.453125 43.171875 11.328125 \r\nQ 46.296875 16.21875 46.296875 23.140625 \r\nQ 46.296875 31.34375 41.75 37.109375 \r\nQ 37.203125 42.875 30.765625 42.875 \r\nL 33.015625 48.4375 \r\nQ 40.828125 48.4375 46.4375 41.015625 \r\nQ 52.046875 33.59375 52.046875 23.140625 \r\nQ 52.046875 13.484375 47.21875 6.734375 \r\nQ 42.390625 0 35.453125 0 \r\nQ 32.234375 0 29.296875 1.796875 \r\nQ 26.375 3.609375 24.515625 6.640625 \r\nL 23.921875 6.453125 \r\nQ 22.859375 3.609375 20.0625 1.796875 \r\nQ 17.28125 0 13.875 0 \r\nQ 9.078125 0 5.65625 3.421875 \r\nQ 2.25 6.84375 2.25 11.53125 \r\nQ 2.25 16.21875 5.65625 19.578125 \r\nQ 9.078125 22.953125 13.875 22.953125 \r\nQ 17.96875 22.953125 21.390625 20.359375 \r\nQ 24.8125 17.78125 26.375 13.484375 \r\nQ 27.546875 10.25 30.078125 8.34375 \r\nQ 32.625 6.453125 35.453125 6.453125 \r\nz\r\nM 1.078125 61.921875 \r\nL 5.953125 61.921875 \r\nQ 5.953125 57.125 8.25 53.703125 \r\nQ 10.546875 50.296875 13.875 50.296875 \r\nQ 15.4375 50.296875 17.1875 50.921875 \r\nQ 18.953125 51.5625 20.703125 52.734375 \r\nL 41.703125 67 \r\nL 44.734375 62.703125 \r\nL 23.34375 48.046875 \r\nQ 20.90625 46.390625 18.5 45.5 \r\nQ 16.109375 44.625 13.875 44.625 \r\nQ 8.5 44.625 4.78125 49.65625 \r\nQ 1.078125 54.6875 1.078125 61.921875 \r\nz\r\n\" id=\"Lohit-Telugu-3114\"/>\r\n       </defs>\r\n       <use xlink:href=\"#Lohit-Telugu-3114\"/>\r\n      </g>\r\n     </g>\r\n    </g>\r\n    <g id=\"ytick_29\">\r\n     <g id=\"line2d_71\">\r\n      <g>\r\n       <use style=\"stroke:#000000;stroke-width:0.8;\" x=\"35.873125\" xlink:href=\"#m11ae6b97b5\" y=\"441.521849\"/>\r\n      </g>\r\n     </g>\r\n     <g id=\"text_71\">\r\n      <!-- ై -->\r\n      <g transform=\"translate(15.969375 447.314192)scale(0.18 -0.18)\">\r\n       <defs>\r\n        <path d=\"M 16.890625 64.359375 \r\nL 54.296875 64.359375 \r\nQ 58.796875 64.359375 61.921875 61.234375 \r\nQ 65.046875 58.109375 65.046875 53.71875 \r\nQ 65.046875 49.125 61.765625 45.890625 \r\nQ 58.5 42.671875 53.90625 42.671875 \r\nL 41.796875 42.671875 \r\nL 41.796875 49.125 \r\nL 54.890625 49.125 \r\nQ 56.453125 49.125 57.5625 50.4375 \r\nQ 58.6875 51.765625 58.6875 53.71875 \r\nQ 58.6875 55.46875 57.515625 56.734375 \r\nQ 56.34375 58.015625 54.6875 58.015625 \r\nL 16.890625 58.015625 \r\nL 16.890625 64.359375 \r\nz\r\nM 11.71875 -15.921875 \r\nQ 11.71875 -18.5625 13.578125 -20.453125 \r\nQ 15.4375 -22.359375 18.0625 -22.359375 \r\nQ 20.703125 -22.359375 22.5625 -20.453125 \r\nQ 24.421875 -18.5625 24.421875 -15.921875 \r\nQ 24.421875 -13.28125 22.5625 -11.421875 \r\nQ 20.703125 -9.578125 18.0625 -9.578125 \r\nQ 15.4375 -9.578125 13.578125 -11.421875 \r\nQ 11.71875 -13.28125 11.71875 -15.921875 \r\nz\r\nM 6.640625 -15.921875 \r\nQ 6.640625 -11.234375 10 -7.859375 \r\nQ 13.375 -4.5 18.0625 -4.5 \r\nQ 22.859375 -4.5 26.21875 -7.859375 \r\nQ 29.59375 -11.234375 29.59375 -15.921875 \r\nQ 29.59375 -17.390625 28.859375 -19.046875 \r\nQ 28.125 -20.703125 26.765625 -22.359375 \r\nL 26.953125 -22.859375 \r\nL 32.421875 -22.359375 \r\nL 61.71875 -22.359375 \r\nL 61.71875 -28.8125 \r\nL 19.234375 -28.8125 \r\nQ 13.96875 -28.8125 10.296875 -25.046875 \r\nQ 6.640625 -21.296875 6.640625 -15.921875 \r\nz\r\n\" id=\"Lohit-Telugu-3144\"/>\r\n       </defs>\r\n       <use xlink:href=\"#Lohit-Telugu-3144\"/>\r\n      </g>\r\n     </g>\r\n    </g>\r\n    <g id=\"ytick_30\">\r\n     <g id=\"line2d_72\">\r\n      <g>\r\n       <use style=\"stroke:#000000;stroke-width:0.8;\" x=\"35.873125\" xlink:href=\"#m11ae6b97b5\" y=\"468.87479\"/>\r\n      </g>\r\n     </g>\r\n     <g id=\"text_72\">\r\n      <!-- న -->\r\n      <g transform=\"translate(18.219375 474.851352)scale(0.18 -0.18)\">\r\n       <use xlink:href=\"#Lohit-Telugu-3112\"/>\r\n      </g>\r\n     </g>\r\n    </g>\r\n   </g>\r\n   <g id=\"patch_18\">\r\n    <path d=\"M 35.873125 482.551261 \r\nL 35.873125 318.433613 \r\n\" style=\"fill:none;stroke:#000000;stroke-linecap:square;stroke-linejoin:miter;stroke-width:0.8;\"/>\r\n   </g>\r\n   <g id=\"patch_19\">\r\n    <path d=\"M 282.049596 482.551261 \r\nL 282.049596 318.433613 \r\n\" style=\"fill:none;stroke:#000000;stroke-linecap:square;stroke-linejoin:miter;stroke-width:0.8;\"/>\r\n   </g>\r\n   <g id=\"patch_20\">\r\n    <path d=\"M 35.873125 482.551261 \r\nL 282.049596 482.551261 \r\n\" style=\"fill:none;stroke:#000000;stroke-linecap:square;stroke-linejoin:miter;stroke-width:0.8;\"/>\r\n   </g>\r\n   <g id=\"patch_21\">\r\n    <path d=\"M 35.873125 318.433613 \r\nL 282.049596 318.433613 \r\n\" style=\"fill:none;stroke:#000000;stroke-linecap:square;stroke-linejoin:miter;stroke-width:0.8;\"/>\r\n   </g>\r\n  </g>\r\n  <g id=\"axes_5\">\r\n   <g id=\"patch_22\">\r\n    <path d=\"M 331.28489 503.065966 \r\nL 577.46136 503.065966 \r\nL 577.46136 297.918908 \r\nL 331.28489 297.918908 \r\nz\r\n\" style=\"fill:#ffffff;\"/>\r\n   </g>\r\n   <g clip-path=\"url(#pe3c250c4d6)\">\r\n    <image height=\"206\" id=\"imagecac39d7dea\" transform=\"scale(1 -1)translate(0 -206)\" width=\"247\" x=\"331.28489\" xlink:href=\"data:image/png;base64,\r\niVBORw0KGgoAAAANSUhEUgAAAPcAAADOCAYAAADi+ZQ2AAADlUlEQVR4nO3cMUp0WRRG0fMaSzAwEs10FuIgHZEzMTDV0EAEEUur06bT/4r27rUG8PGqYHOzs83MYeAXOT09Xbr3+vq6dG9mZtu2pXtHR0dL92Zm/lq+CPwK4oYocUOUuCFK3BAlbogSN0SJG6LEDVHihihxQ5S4IUrcECVuiBI3RIkbosQNUeKGKHFDlLghahsHEonb7XbLN19eXpburT4KOePlhixxQ5S4IUrcECVuiBI3RIkbosQNUeKGKHFDlLghStwQJW6IEjdEiRuixA1R4oYocUOUuCHq6Kc/AP7t8vJy6d7d3d3SvZmZi4uLpXv7/X7p3oyXG7LEDVHihihxQ5S4IUrcECVuiBI3RIkbosQNUeKGKHFDlLghStwQJW6IEjdEiRuixA1R4oYocUPUNjOHn/4I+KfHx8ele9fX10v3Zmaenp6Wb67m5YYocUOUuCFK3BAlbogSN0SJG6LEDVHihihxQ5S4IUrcECVuiBI3RIkbosQNUeKGKHFDlLghyg21X2zbtqV7X19fS/dm1n8j63i5IUrcECVuiBI3RIkbosQNUeKGKHFDlLghStwQJW6IEjdEiRuixA1R4oYocUOUuCFK3BAlbogSN0Qd/fQHVHzHocDdbrd07/n5eenezPf87uPj46V7+/1+6d7MzOfn5/LN1bzcECVuiBI3RIkbosQNUeKGKHFDlLghStwQJW6IEjdEiRuixA1R4oYocUOUuCFK3BAlbogSN0SJG6L+EwcSv+MI3+FwWLp3c3OzdG9m5vb2dune+fn50r2Z9f/jzMz7+/vyzf8jLzdEiRuixA1R4oYocUOUuCFK3BAlbogSN0SJG6LEDVHihihxQ5S4IUrcECVuiBI3RIkbosQNUdvMrD+Ctdjp6enyzf1+v3Tv4eFh6d7MzNXV1dK9z8/PpXv8bl5uiBI3RIkbosQNUeKGKHFDlLghStwQJW6IEjdEiRuixA1R4oYocUOUuCFK3BAlbogSN0SJG6LEDVHbtm2//kDi29vb8s3VRxc/Pj6W7sGf8nJDlLghStwQJW6IEjdEiRuixA1R4oYocUOUuCFK3BAlbogSN0SJG6LEDVHihihxQ5S4IUrcEHV0dna2fPT+/n7p3snJydK9mZnD4defjoM/4uWGKHFDlLghStwQJW6IEjdEiRuixA1R4oYocUOUuCFK3BAlbogSN0SJG6LEDVHihihxQ5S4IUrcEPU386pFkdCXWcIAAAAASUVORK5CYII=\" y=\"-297.065966\"/>\r\n   </g>\r\n   <g id=\"matplotlib.axis_9\">\r\n    <g id=\"xtick_43\">\r\n     <g id=\"line2d_73\">\r\n      <g>\r\n       <use style=\"stroke:#000000;stroke-width:0.8;\" x=\"341.542243\" xlink:href=\"#m6d0a379215\" y=\"503.065966\"/>\r\n      </g>\r\n     </g>\r\n     <g id=\"text_73\">\r\n      <!-- v -->\r\n      <g transform=\"translate(338.582868 517.664404)scale(0.1 -0.1)\">\r\n       <defs>\r\n        <path d=\"M 2.984375 54.6875 \r\nL 12.5 54.6875 \r\nL 29.59375 8.796875 \r\nL 46.6875 54.6875 \r\nL 56.203125 54.6875 \r\nL 35.6875 0 \r\nL 23.484375 0 \r\nz\r\n\" id=\"DejaVuSans-118\"/>\r\n       </defs>\r\n       <use xlink:href=\"#DejaVuSans-118\"/>\r\n      </g>\r\n     </g>\r\n    </g>\r\n    <g id=\"xtick_44\">\r\n     <g id=\"line2d_74\">\r\n      <g>\r\n       <use style=\"stroke:#000000;stroke-width:0.8;\" x=\"362.056949\" xlink:href=\"#m6d0a379215\" y=\"503.065966\"/>\r\n      </g>\r\n     </g>\r\n     <g id=\"text_74\">\r\n      <!-- a -->\r\n      <g transform=\"translate(358.992886 517.664404)scale(0.1 -0.1)\">\r\n       <use xlink:href=\"#DejaVuSans-97\"/>\r\n      </g>\r\n     </g>\r\n    </g>\r\n    <g id=\"xtick_45\">\r\n     <g id=\"line2d_75\">\r\n      <g>\r\n       <use style=\"stroke:#000000;stroke-width:0.8;\" x=\"382.571654\" xlink:href=\"#m6d0a379215\" y=\"503.065966\"/>\r\n      </g>\r\n     </g>\r\n     <g id=\"text_75\">\r\n      <!-- h -->\r\n      <g transform=\"translate(379.402904 517.664404)scale(0.1 -0.1)\">\r\n       <use xlink:href=\"#DejaVuSans-104\"/>\r\n      </g>\r\n     </g>\r\n    </g>\r\n    <g id=\"xtick_46\">\r\n     <g id=\"line2d_76\">\r\n      <g>\r\n       <use style=\"stroke:#000000;stroke-width:0.8;\" x=\"403.08636\" xlink:href=\"#m6d0a379215\" y=\"503.065966\"/>\r\n      </g>\r\n     </g>\r\n     <g id=\"text_76\">\r\n      <!-- i -->\r\n      <g transform=\"translate(401.697298 517.664404)scale(0.1 -0.1)\">\r\n       <use xlink:href=\"#DejaVuSans-105\"/>\r\n      </g>\r\n     </g>\r\n    </g>\r\n    <g id=\"xtick_47\">\r\n     <g id=\"line2d_77\">\r\n      <g>\r\n       <use style=\"stroke:#000000;stroke-width:0.8;\" x=\"423.601066\" xlink:href=\"#m6d0a379215\" y=\"503.065966\"/>\r\n      </g>\r\n     </g>\r\n     <g id=\"text_77\">\r\n      <!-- s -->\r\n      <g transform=\"translate(420.996379 517.664404)scale(0.1 -0.1)\">\r\n       <defs>\r\n        <path d=\"M 44.28125 53.078125 \r\nL 44.28125 44.578125 \r\nQ 40.484375 46.53125 36.375 47.5 \r\nQ 32.28125 48.484375 27.875 48.484375 \r\nQ 21.1875 48.484375 17.84375 46.4375 \r\nQ 14.5 44.390625 14.5 40.28125 \r\nQ 14.5 37.15625 16.890625 35.375 \r\nQ 19.28125 33.59375 26.515625 31.984375 \r\nL 29.59375 31.296875 \r\nQ 39.15625 29.25 43.1875 25.515625 \r\nQ 47.21875 21.78125 47.21875 15.09375 \r\nQ 47.21875 7.46875 41.1875 3.015625 \r\nQ 35.15625 -1.421875 24.609375 -1.421875 \r\nQ 20.21875 -1.421875 15.453125 -0.5625 \r\nQ 10.6875 0.296875 5.421875 2 \r\nL 5.421875 11.28125 \r\nQ 10.40625 8.6875 15.234375 7.390625 \r\nQ 20.0625 6.109375 24.8125 6.109375 \r\nQ 31.15625 6.109375 34.5625 8.28125 \r\nQ 37.984375 10.453125 37.984375 14.40625 \r\nQ 37.984375 18.0625 35.515625 20.015625 \r\nQ 33.0625 21.96875 24.703125 23.78125 \r\nL 21.578125 24.515625 \r\nQ 13.234375 26.265625 9.515625 29.90625 \r\nQ 5.8125 33.546875 5.8125 39.890625 \r\nQ 5.8125 47.609375 11.28125 51.796875 \r\nQ 16.75 56 26.8125 56 \r\nQ 31.78125 56 36.171875 55.265625 \r\nQ 40.578125 54.546875 44.28125 53.078125 \r\nz\r\n\" id=\"DejaVuSans-115\"/>\r\n       </defs>\r\n       <use xlink:href=\"#DejaVuSans-115\"/>\r\n      </g>\r\n     </g>\r\n    </g>\r\n    <g id=\"xtick_48\">\r\n     <g id=\"line2d_78\">\r\n      <g>\r\n       <use style=\"stroke:#000000;stroke-width:0.8;\" x=\"444.115772\" xlink:href=\"#m6d0a379215\" y=\"503.065966\"/>\r\n      </g>\r\n     </g>\r\n     <g id=\"text_78\">\r\n      <!-- t -->\r\n      <g transform=\"translate(442.155616 517.664404)scale(0.1 -0.1)\">\r\n       <use xlink:href=\"#DejaVuSans-116\"/>\r\n      </g>\r\n     </g>\r\n    </g>\r\n    <g id=\"xtick_49\">\r\n     <g id=\"line2d_79\">\r\n      <g>\r\n       <use style=\"stroke:#000000;stroke-width:0.8;\" x=\"464.630478\" xlink:href=\"#m6d0a379215\" y=\"503.065966\"/>\r\n      </g>\r\n     </g>\r\n     <g id=\"text_79\">\r\n      <!-- h -->\r\n      <g transform=\"translate(461.461728 517.664404)scale(0.1 -0.1)\">\r\n       <use xlink:href=\"#DejaVuSans-104\"/>\r\n      </g>\r\n     </g>\r\n    </g>\r\n    <g id=\"xtick_50\">\r\n     <g id=\"line2d_80\">\r\n      <g>\r\n       <use style=\"stroke:#000000;stroke-width:0.8;\" x=\"485.145184\" xlink:href=\"#m6d0a379215\" y=\"503.065966\"/>\r\n      </g>\r\n     </g>\r\n     <g id=\"text_80\">\r\n      <!-- o -->\r\n      <g transform=\"translate(482.085809 517.664404)scale(0.1 -0.1)\">\r\n       <defs>\r\n        <path d=\"M 30.609375 48.390625 \r\nQ 23.390625 48.390625 19.1875 42.75 \r\nQ 14.984375 37.109375 14.984375 27.296875 \r\nQ 14.984375 17.484375 19.15625 11.84375 \r\nQ 23.34375 6.203125 30.609375 6.203125 \r\nQ 37.796875 6.203125 41.984375 11.859375 \r\nQ 46.1875 17.53125 46.1875 27.296875 \r\nQ 46.1875 37.015625 41.984375 42.703125 \r\nQ 37.796875 48.390625 30.609375 48.390625 \r\nz\r\nM 30.609375 56 \r\nQ 42.328125 56 49.015625 48.375 \r\nQ 55.71875 40.765625 55.71875 27.296875 \r\nQ 55.71875 13.875 49.015625 6.21875 \r\nQ 42.328125 -1.421875 30.609375 -1.421875 \r\nQ 18.84375 -1.421875 12.171875 6.21875 \r\nQ 5.515625 13.875 5.515625 27.296875 \r\nQ 5.515625 40.765625 12.171875 48.375 \r\nQ 18.84375 56 30.609375 56 \r\nz\r\n\" id=\"DejaVuSans-111\"/>\r\n       </defs>\r\n       <use xlink:href=\"#DejaVuSans-111\"/>\r\n      </g>\r\n     </g>\r\n    </g>\r\n    <g id=\"xtick_51\">\r\n     <g id=\"line2d_81\">\r\n      <g>\r\n       <use style=\"stroke:#000000;stroke-width:0.8;\" x=\"505.65989\" xlink:href=\"#m6d0a379215\" y=\"503.065966\"/>\r\n      </g>\r\n     </g>\r\n     <g id=\"text_81\">\r\n      <!-- n -->\r\n      <g transform=\"translate(502.49114 517.664404)scale(0.1 -0.1)\">\r\n       <use xlink:href=\"#DejaVuSans-110\"/>\r\n      </g>\r\n     </g>\r\n    </g>\r\n    <g id=\"xtick_52\">\r\n     <g id=\"line2d_82\">\r\n      <g>\r\n       <use style=\"stroke:#000000;stroke-width:0.8;\" x=\"526.174596\" xlink:href=\"#m6d0a379215\" y=\"503.065966\"/>\r\n      </g>\r\n     </g>\r\n     <g id=\"text_82\">\r\n      <!-- d -->\r\n      <g transform=\"translate(523.000377 517.664404)scale(0.1 -0.1)\">\r\n       <use xlink:href=\"#DejaVuSans-100\"/>\r\n      </g>\r\n     </g>\r\n    </g>\r\n    <g id=\"xtick_53\">\r\n     <g id=\"line2d_83\">\r\n      <g>\r\n       <use style=\"stroke:#000000;stroke-width:0.8;\" x=\"546.689301\" xlink:href=\"#m6d0a379215\" y=\"503.065966\"/>\r\n      </g>\r\n     </g>\r\n     <g id=\"text_83\">\r\n      <!-- h -->\r\n      <g transform=\"translate(543.520551 517.664404)scale(0.1 -0.1)\">\r\n       <use xlink:href=\"#DejaVuSans-104\"/>\r\n      </g>\r\n     </g>\r\n    </g>\r\n    <g id=\"xtick_54\">\r\n     <g id=\"line2d_84\">\r\n      <g>\r\n       <use style=\"stroke:#000000;stroke-width:0.8;\" x=\"567.204007\" xlink:href=\"#m6d0a379215\" y=\"503.065966\"/>\r\n      </g>\r\n     </g>\r\n     <g id=\"text_84\">\r\n      <!-- i -->\r\n      <g transform=\"translate(565.814945 517.664404)scale(0.1 -0.1)\">\r\n       <use xlink:href=\"#DejaVuSans-105\"/>\r\n      </g>\r\n     </g>\r\n    </g>\r\n   </g>\r\n   <g id=\"matplotlib.axis_10\">\r\n    <g id=\"ytick_31\">\r\n     <g id=\"line2d_85\">\r\n      <g>\r\n       <use style=\"stroke:#000000;stroke-width:0.8;\" x=\"331.28489\" xlink:href=\"#m11ae6b97b5\" y=\"308.176261\"/>\r\n      </g>\r\n     </g>\r\n     <g id=\"text_85\">\r\n      <!-- వ -->\r\n      <g transform=\"translate(314.15989 314.171104)scale(0.18 -0.18)\">\r\n       <defs>\r\n        <path d=\"M 7.421875 11.53125 \r\nQ 7.421875 8.890625 9.28125 6.984375 \r\nQ 11.140625 5.078125 13.875 5.078125 \r\nQ 16.5 5.078125 18.3125 6.984375 \r\nQ 20.125 8.890625 20.125 11.53125 \r\nQ 20.125 14.265625 18.3125 16.0625 \r\nQ 16.5 17.875 13.875 17.875 \r\nQ 11.140625 17.875 9.28125 16.0625 \r\nQ 7.421875 14.265625 7.421875 11.53125 \r\nz\r\nM 2.25 11.53125 \r\nQ 2.25 16.21875 5.65625 19.578125 \r\nQ 9.078125 22.953125 13.875 22.953125 \r\nQ 17.875 22.953125 21.09375 20.265625 \r\nQ 24.3125 17.578125 25.390625 13.28125 \r\nQ 26.171875 10.25 29 8.34375 \r\nQ 31.84375 6.453125 35.453125 6.453125 \r\nQ 40.046875 6.453125 43.171875 11.328125 \r\nQ 46.296875 16.21875 46.296875 23.140625 \r\nQ 46.296875 31.25 40.96875 36.953125 \r\nQ 35.640625 42.671875 28.03125 42.671875 \r\nL 21.484375 42.671875 \r\nQ 15.625 42.671875 11.421875 46.828125 \r\nQ 7.234375 50.984375 7.234375 56.84375 \r\nL 12.3125 56.84375 \r\nQ 12.3125 52.9375 15.046875 50.203125 \r\nQ 17.78125 47.46875 21.484375 47.46875 \r\nQ 22.859375 47.46875 24.46875 48.34375 \r\nQ 26.078125 49.21875 27.734375 50.875 \r\nL 43.84375 66.21875 \r\nL 47.078125 62.984375 \r\nL 31.15625 47.65625 \r\nQ 40.4375 46.484375 46.578125 39.5 \r\nQ 52.734375 32.515625 52.734375 23.140625 \r\nQ 52.734375 13.484375 47.703125 6.734375 \r\nQ 42.671875 0 35.453125 0 \r\nQ 32.03125 0 29.046875 1.796875 \r\nQ 26.078125 3.609375 24.3125 6.640625 \r\nL 24.03125 6.453125 \r\nQ 22.953125 3.609375 20.171875 1.796875 \r\nQ 17.390625 0 13.875 0 \r\nQ 9.078125 0 5.65625 3.421875 \r\nQ 2.25 6.84375 2.25 11.53125 \r\nz\r\n\" id=\"Lohit-Telugu-3125\"/>\r\n       </defs>\r\n       <use xlink:href=\"#Lohit-Telugu-3125\"/>\r\n      </g>\r\n     </g>\r\n    </g>\r\n    <g id=\"ytick_32\">\r\n     <g id=\"line2d_86\">\r\n      <g>\r\n       <use style=\"stroke:#000000;stroke-width:0.8;\" x=\"331.28489\" xlink:href=\"#m11ae6b97b5\" y=\"328.690966\"/>\r\n      </g>\r\n     </g>\r\n     <g id=\"text_86\">\r\n      <!-- హ -->\r\n      <g transform=\"translate(308.779577 334.720966)scale(0.18 -0.18)\">\r\n       <defs>\r\n        <path d=\"M 7.421875 11.53125 \r\nQ 7.421875 8.890625 9.28125 6.984375 \r\nQ 11.140625 5.078125 13.875 5.078125 \r\nQ 16.5 5.078125 18.3125 6.984375 \r\nQ 20.125 8.890625 20.125 11.53125 \r\nQ 20.125 14.265625 18.3125 16.0625 \r\nQ 16.5 17.875 13.875 17.875 \r\nQ 11.140625 17.875 9.28125 16.0625 \r\nQ 7.421875 14.265625 7.421875 11.53125 \r\nz\r\nM 66.21875 35.75 \r\nQ 66.21875 33.015625 68.015625 31.203125 \r\nQ 69.828125 29.390625 72.46875 29.390625 \r\nQ 75.203125 29.390625 77.046875 31.203125 \r\nQ 78.90625 33.015625 78.90625 35.75 \r\nQ 78.90625 38.375 77.046875 40.234375 \r\nQ 75.203125 42.09375 72.46875 42.09375 \r\nQ 69.828125 42.09375 68.015625 40.234375 \r\nQ 66.21875 38.375 66.21875 35.75 \r\nz\r\nM 2.25 11.53125 \r\nQ 2.25 16.21875 5.65625 19.578125 \r\nQ 9.078125 22.953125 13.875 22.953125 \r\nQ 18.265625 22.953125 21.53125 20.171875 \r\nQ 24.8125 17.390625 25.203125 13.09375 \r\nQ 26.5625 10.0625 29.390625 8.25 \r\nQ 32.234375 6.453125 35.453125 6.453125 \r\nQ 40.828125 6.453125 44.578125 11.8125 \r\nQ 48.34375 17.1875 48.34375 24.8125 \r\nQ 48.34375 32.03125 44.4375 37.0625 \r\nQ 40.53125 42.09375 35.0625 42.09375 \r\nL 37.984375 47.859375 \r\nL 70.015625 47.859375 \r\nQ 75.875 47.859375 79.96875 44.28125 \r\nQ 84.078125 40.71875 84.078125 35.75 \r\nQ 84.078125 30.953125 80.65625 27.53125 \r\nQ 77.25 24.125 72.46875 24.125 \r\nQ 67.78125 24.125 64.453125 27.53125 \r\nQ 61.140625 30.953125 61.140625 35.75 \r\nQ 61.140625 37.3125 61.71875 39.015625 \r\nQ 62.3125 40.71875 63.578125 42.09375 \r\nL 63.484375 42.484375 \r\nL 60.15625 42.09375 \r\nL 51.5625 42.09375 \r\nL 47.65625 42.484375 \r\nL 47.46875 42.09375 \r\nQ 50.875 39.265625 52.78125 34.671875 \r\nQ 54.6875 30.078125 54.6875 24.703125 \r\nQ 54.6875 14.453125 49.0625 7.21875 \r\nQ 43.453125 0 35.453125 0 \r\nQ 32.03125 0 29 1.703125 \r\nQ 25.984375 3.421875 24.3125 6.453125 \r\nL 23.921875 6.453125 \r\nQ 22.859375 3.609375 20.0625 1.796875 \r\nQ 17.28125 0 13.875 0 \r\nQ 9.078125 0 5.65625 3.421875 \r\nQ 2.25 6.84375 2.25 11.53125 \r\nz\r\nM 1.078125 61.921875 \r\nL 5.953125 61.921875 \r\nQ 5.953125 57.125 8.25 53.703125 \r\nQ 10.546875 50.296875 13.875 50.296875 \r\nQ 15.4375 50.296875 17.1875 50.921875 \r\nQ 18.953125 51.5625 20.703125 52.734375 \r\nL 41.703125 67 \r\nL 44.734375 62.703125 \r\nL 23.34375 48.046875 \r\nQ 20.90625 46.390625 18.5 45.5 \r\nQ 16.109375 44.625 13.875 44.625 \r\nQ 8.5 44.625 4.78125 49.65625 \r\nQ 1.078125 54.6875 1.078125 61.921875 \r\nz\r\n\" id=\"Lohit-Telugu-3129\"/>\r\n       </defs>\r\n       <use xlink:href=\"#Lohit-Telugu-3129\"/>\r\n      </g>\r\n     </g>\r\n    </g>\r\n    <g id=\"ytick_33\">\r\n     <g id=\"line2d_87\">\r\n      <g>\r\n       <use style=\"stroke:#000000;stroke-width:0.8;\" x=\"331.28489\" xlink:href=\"#m11ae6b97b5\" y=\"349.205672\"/>\r\n      </g>\r\n     </g>\r\n     <g id=\"text_87\">\r\n      <!-- ి -->\r\n      <g transform=\"translate(324.28489 355.200516)scale(0.18 -0.18)\">\r\n       <use xlink:href=\"#Lohit-Telugu-3135\"/>\r\n      </g>\r\n     </g>\r\n    </g>\r\n    <g id=\"ytick_34\">\r\n     <g id=\"line2d_88\">\r\n      <g>\r\n       <use style=\"stroke:#000000;stroke-width:0.8;\" x=\"331.28489\" xlink:href=\"#m11ae6b97b5\" y=\"369.720378\"/>\r\n      </g>\r\n     </g>\r\n     <g id=\"text_88\">\r\n      <!-- స -->\r\n      <g transform=\"translate(313.91239 375.750378)scale(0.18 -0.18)\">\r\n       <defs>\r\n        <path d=\"M 37.203125 6.453125 \r\nQ 41.40625 6.453125 44.4375 11.28125 \r\nQ 47.46875 16.109375 47.46875 22.953125 \r\nQ 47.46875 30.5625 42.96875 35.9375 \r\nQ 38.484375 41.3125 32.125 41.3125 \r\nL 34.765625 47.859375 \r\nQ 42.671875 47.859375 48.1875 40.578125 \r\nQ 53.71875 33.296875 53.71875 22.953125 \r\nQ 53.71875 13.484375 48.875 6.734375 \r\nQ 44.046875 0 37.203125 0 \r\nQ 31.453125 0 27.25 3.609375 \r\nQ 23.046875 7.234375 22.5625 12.5 \r\nQ 22.265625 15.828125 20.40625 18.171875 \r\nQ 18.5625 20.515625 16.21875 20.515625 \r\nQ 13.1875 20.515625 11.125 17.828125 \r\nQ 9.078125 15.140625 9.078125 11.421875 \r\nQ 9.078125 9.46875 10.25 6.984375 \r\nQ 11.421875 4.5 13.671875 1.859375 \r\nL 7.8125 -0.984375 \r\nQ 5.28125 2.046875 3.953125 5.21875 \r\nQ 2.640625 8.40625 2.640625 11.421875 \r\nQ 2.640625 17.78125 6.59375 22.265625 \r\nQ 10.546875 26.765625 16.21875 26.765625 \r\nQ 20.90625 26.765625 24.359375 23.4375 \r\nQ 27.828125 20.125 28.328125 15.140625 \r\nQ 28.609375 11.421875 31.203125 8.9375 \r\nQ 33.796875 6.453125 37.203125 6.453125 \r\nz\r\nM 1.46875 61.921875 \r\nL 6.453125 61.921875 \r\nQ 6.453125 57.125 8.734375 53.703125 \r\nQ 11.03125 50.296875 14.265625 50.296875 \r\nQ 15.828125 50.296875 17.578125 50.921875 \r\nQ 19.34375 51.5625 21.09375 52.734375 \r\nL 42.09375 67 \r\nL 45.125 62.703125 \r\nL 23.734375 48.046875 \r\nQ 21.296875 46.390625 18.890625 45.5 \r\nQ 16.5 44.625 14.265625 44.625 \r\nQ 8.890625 44.625 5.171875 49.65625 \r\nQ 1.46875 54.6875 1.46875 61.921875 \r\nz\r\n\" id=\"Lohit-Telugu-3128\"/>\r\n       </defs>\r\n       <use xlink:href=\"#Lohit-Telugu-3128\"/>\r\n      </g>\r\n     </g>\r\n    </g>\r\n    <g id=\"ytick_35\">\r\n     <g id=\"line2d_89\">\r\n      <g>\r\n       <use style=\"stroke:#000000;stroke-width:0.8;\" x=\"331.28489\" xlink:href=\"#m11ae6b97b5\" y=\"390.235084\"/>\r\n      </g>\r\n     </g>\r\n     <g id=\"text_89\">\r\n      <!-- ్ -->\r\n      <g transform=\"translate(324.28489 396.229928)scale(0.18 -0.18)\">\r\n       <use xlink:href=\"#Lohit-Telugu-3149\"/>\r\n      </g>\r\n     </g>\r\n    </g>\r\n    <g id=\"ytick_36\">\r\n     <g id=\"line2d_90\">\r\n      <g>\r\n       <use style=\"stroke:#000000;stroke-width:0.8;\" x=\"331.28489\" xlink:href=\"#m11ae6b97b5\" y=\"410.74979\"/>\r\n      </g>\r\n     </g>\r\n     <g id=\"text_90\">\r\n      <!-- త -->\r\n      <g transform=\"translate(312.78739 416.744634)scale(0.18 -0.18)\">\r\n       <use xlink:href=\"#Lohit-Telugu-3108\"/>\r\n      </g>\r\n     </g>\r\n    </g>\r\n    <g id=\"ytick_37\">\r\n     <g id=\"line2d_91\">\r\n      <g>\r\n       <use style=\"stroke:#000000;stroke-width:0.8;\" x=\"331.28489\" xlink:href=\"#m11ae6b97b5\" y=\"431.264496\"/>\r\n      </g>\r\n     </g>\r\n     <g id=\"text_91\">\r\n      <!-- ో -->\r\n      <g transform=\"translate(314.143015 437.25934)scale(0.18 -0.18)\">\r\n       <defs>\r\n        <path d=\"M 33.40625 54.890625 \r\nQ 33.40625 56.84375 33.9375 58.5 \r\nQ 34.46875 60.15625 35.453125 61.328125 \r\nL 35.15625 61.71875 \r\nL 31.34375 61.328125 \r\nL 26.953125 61.328125 \r\nQ 22.859375 61.328125 19.875 59.421875 \r\nQ 16.890625 57.515625 16.890625 54.890625 \r\nL 10.84375 54.890625 \r\nQ 10.84375 57.515625 7.46875 59.421875 \r\nQ 4.109375 61.328125 -0.6875 61.328125 \r\nQ -5.859375 61.328125 -9.46875 59.28125 \r\nQ -13.09375 57.234375 -13.09375 54.203125 \r\nQ -13.09375 51.5625 -10.796875 49.703125 \r\nQ -8.5 47.859375 -5.28125 47.859375 \r\nL 1.375 47.859375 \r\nL 1.375 42.484375 \r\nL -5.28125 42.484375 \r\nQ -11.140625 42.484375 -15.328125 45.953125 \r\nQ -19.53125 49.421875 -19.53125 54.203125 \r\nQ -19.53125 59.859375 -14.015625 63.8125 \r\nQ -8.5 67.78125 -0.78125 67.78125 \r\nQ 4.296875 67.78125 8.15625 66.546875 \r\nQ 12.015625 65.328125 13.875 63.09375 \r\nQ 15.828125 65.328125 17.96875 66.546875 \r\nQ 20.125 67.78125 22.171875 67.78125 \r\nL 33.796875 67.78125 \r\nL 37.015625 67.390625 \r\nL 37.3125 67.78125 \r\nQ 36.140625 68.75 35.453125 70.40625 \r\nQ 34.765625 72.078125 34.765625 74.125 \r\nQ 34.765625 77.828125 37.9375 80.421875 \r\nQ 41.109375 83.015625 45.515625 83.015625 \r\nQ 50 83.015625 53.03125 79.546875 \r\nQ 56.0625 76.078125 55.671875 71.484375 \r\nL 50.484375 71.484375 \r\nQ 50.6875 74.03125 49.21875 75.984375 \r\nQ 47.75 77.9375 45.515625 77.9375 \r\nQ 43.453125 77.9375 41.9375 76.609375 \r\nQ 40.4375 75.296875 40.4375 73.4375 \r\nQ 40.4375 71.296875 41.796875 69.625 \r\nQ 43.171875 67.96875 45.125 67.578125 \r\nQ 50 66.703125 53.21875 63.140625 \r\nQ 56.453125 59.578125 56.453125 54.890625 \r\nQ 56.453125 50.203125 53.03125 46.828125 \r\nQ 49.609375 43.453125 44.828125 43.453125 \r\nQ 40.140625 43.453125 36.765625 46.828125 \r\nQ 33.40625 50.203125 33.40625 54.890625 \r\nz\r\nM 38.484375 54.890625 \r\nQ 38.484375 52.15625 40.328125 50.296875 \r\nQ 42.1875 48.4375 44.828125 48.4375 \r\nQ 47.5625 48.4375 49.46875 50.296875 \r\nQ 51.375 52.15625 51.375 54.890625 \r\nQ 51.375 57.515625 49.46875 59.421875 \r\nQ 47.5625 61.328125 44.828125 61.328125 \r\nQ 42.1875 61.328125 40.328125 59.421875 \r\nQ 38.484375 57.515625 38.484375 54.890625 \r\nz\r\n\" id=\"Lohit-Telugu-3147\"/>\r\n       </defs>\r\n       <use xlink:href=\"#Lohit-Telugu-3147\"/>\r\n      </g>\r\n     </g>\r\n    </g>\r\n    <g id=\"ytick_38\">\r\n     <g id=\"line2d_92\">\r\n      <g>\r\n       <use style=\"stroke:#000000;stroke-width:0.8;\" x=\"331.28489\" xlink:href=\"#m11ae6b97b5\" y=\"451.779202\"/>\r\n      </g>\r\n     </g>\r\n     <g id=\"text_92\">\r\n      <!-- ం -->\r\n      <g transform=\"translate(314.792702 457.774045)scale(0.18 -0.18)\">\r\n       <use xlink:href=\"#Lohit-Telugu-3074\"/>\r\n      </g>\r\n     </g>\r\n    </g>\r\n    <g id=\"ytick_39\">\r\n     <g id=\"line2d_93\">\r\n      <g>\r\n       <use style=\"stroke:#000000;stroke-width:0.8;\" x=\"331.28489\" xlink:href=\"#m11ae6b97b5\" y=\"472.293908\"/>\r\n      </g>\r\n     </g>\r\n     <g id=\"text_93\">\r\n      <!-- ద -->\r\n      <g transform=\"translate(312.947702 478.305626)scale(0.18 -0.18)\">\r\n       <defs>\r\n        <path d=\"M 9.859375 19.140625 \r\nQ 9.859375 13.875 12.453125 10.15625 \r\nQ 15.046875 6.453125 18.84375 6.453125 \r\nQ 23.140625 6.453125 26.171875 10.15625 \r\nQ 29.203125 13.875 29.203125 19.140625 \r\nL 33.984375 19.140625 \r\nQ 33.984375 13.875 37.015625 10.15625 \r\nQ 40.046875 6.453125 44.34375 6.453125 \r\nQ 48.046875 6.453125 50.6875 10.15625 \r\nQ 53.328125 13.875 53.328125 19.140625 \r\nQ 53.328125 28.21875 46.96875 34.5625 \r\nQ 40.625 40.921875 31.640625 40.921875 \r\nQ 22.5625 40.921875 16.203125 34.5625 \r\nQ 9.859375 28.21875 9.859375 19.140625 \r\nz\r\nM 3.421875 19.140625 \r\nQ 3.421875 28.328125 9.125 35.640625 \r\nQ 14.84375 42.96875 23.921875 45.515625 \r\nQ 20.90625 48.140625 19.28125 52.09375 \r\nQ 17.671875 56.0625 17.671875 60.75 \r\nL 22.75 60.75 \r\nQ 22.75 55.375 25.4375 51.65625 \r\nQ 28.125 47.953125 31.84375 47.953125 \r\nQ 33.203125 47.953125 34.859375 48.875 \r\nQ 36.53125 49.8125 38.09375 51.375 \r\nL 54.203125 66.796875 \r\nL 57.515625 63.484375 \r\nL 39.84375 45.703125 \r\nQ 48.640625 43.171875 54.109375 35.796875 \r\nQ 59.578125 28.421875 59.578125 19.140625 \r\nQ 59.578125 11.234375 54.890625 5.609375 \r\nQ 50.203125 0 43.453125 0 \r\nQ 39.546875 0 36.328125 2.09375 \r\nQ 33.109375 4.203125 31.84375 7.71875 \r\nL 31.34375 7.625 \r\nQ 30.078125 4.109375 26.65625 2.046875 \r\nQ 23.25 0 18.84375 0 \r\nQ 12.40625 0 7.90625 5.609375 \r\nQ 3.421875 11.234375 3.421875 19.140625 \r\nz\r\n\" id=\"Lohit-Telugu-3110\"/>\r\n       </defs>\r\n       <use xlink:href=\"#Lohit-Telugu-3110\"/>\r\n      </g>\r\n     </g>\r\n    </g>\r\n    <g id=\"ytick_40\">\r\n     <g id=\"line2d_94\">\r\n      <g>\r\n       <use style=\"stroke:#000000;stroke-width:0.8;\" x=\"331.28489\" xlink:href=\"#m11ae6b97b5\" y=\"492.808613\"/>\r\n      </g>\r\n     </g>\r\n     <g id=\"text_94\">\r\n      <!-- ి -->\r\n      <g transform=\"translate(324.28489 498.803457)scale(0.18 -0.18)\">\r\n       <use xlink:href=\"#Lohit-Telugu-3135\"/>\r\n      </g>\r\n     </g>\r\n    </g>\r\n   </g>\r\n   <g id=\"patch_23\">\r\n    <path d=\"M 331.28489 503.065966 \r\nL 331.28489 297.918908 \r\n\" style=\"fill:none;stroke:#000000;stroke-linecap:square;stroke-linejoin:miter;stroke-width:0.8;\"/>\r\n   </g>\r\n   <g id=\"patch_24\">\r\n    <path d=\"M 577.46136 503.065966 \r\nL 577.46136 297.918908 \r\n\" style=\"fill:none;stroke:#000000;stroke-linecap:square;stroke-linejoin:miter;stroke-width:0.8;\"/>\r\n   </g>\r\n   <g id=\"patch_25\">\r\n    <path d=\"M 331.28489 503.065966 \r\nL 577.46136 503.065966 \r\n\" style=\"fill:none;stroke:#000000;stroke-linecap:square;stroke-linejoin:miter;stroke-width:0.8;\"/>\r\n   </g>\r\n   <g id=\"patch_26\">\r\n    <path d=\"M 331.28489 297.918908 \r\nL 577.46136 297.918908 \r\n\" style=\"fill:none;stroke:#000000;stroke-linecap:square;stroke-linejoin:miter;stroke-width:0.8;\"/>\r\n   </g>\r\n  </g>\r\n  <g id=\"axes_6\">\r\n   <g id=\"patch_27\">\r\n    <path d=\"M 626.696654 478.821314 \r\nL 872.873125 478.821314 \r\nL 872.873125 322.16356 \r\nL 626.696654 322.16356 \r\nz\r\n\" style=\"fill:#ffffff;\"/>\r\n   </g>\r\n   <g clip-path=\"url(#pb09abc1185)\">\r\n    <image height=\"157\" id=\"image6b2f9f0118\" transform=\"scale(1 -1)translate(0 -157)\" width=\"247\" x=\"626.696654\" xlink:href=\"data:image/png;base64,\r\niVBORw0KGgoAAAANSUhEUgAAAPcAAACdCAYAAABo4+5vAAACoElEQVR4nO3cwUlkYRBG0XrdoitTEQxDYxETMxcX5uFWXNmTwKwGSsfLOQF8NDT3/bs6ZuYy8I2O41jbvru7W9l9e3tb2X15eVnZnZk5rS0DP0rcECVuiBI3RIkbosQNUeKGKHFDlLghStwQJW6IEjdEiRuixA1R4oYocUOUuCFK3BAlbogSN0SJG6KufvoH8P86nXa+/V9fXyu7MzPn83ll9/X1dWX3/v5+ZXfGyw1Z4oYocUOUuCFK3BAlbogSN0SJG6LEDVHihihxQ5S4IUrcECVuiBI3RIkbosQNUeKGKHFDlLghStwQJW6Ictr4mxzHsbJ7uVxWdjc9PDysbT8/P6/sbp4g3uLlhihxQ5S4IUrcECVuiBI3RIkbosQNUeKGKHFDlLghStwQJW6IEjdEiRuixA1R4oYocUOUuCFK3BAlbog6Zub3nc/8hW5ublZ2Pz8/V3Zn9i628j283BAlbogSN0SJG6LEDVHihihxQ5S4IUrcECVuiBI3RIkbosQNUeKGKHFDlLghStwQJW6IEjdEiRuixA1R4oaoq5/+Af9i6+Tu+Xxe2Z2Z+fj4WNm9uvqVfyHfwMsNUeKGKHFDlLghStwQJW6IEjdEiRuixA1R4oYocUOUuCFK3BAlbogSN0SJG6LEDVHihihxQ5S4IUrcELV2OvN02vtuPD4+ruw+PT2t7M7sXlaFv/FyQ5S4IUrcECVuiBI3RIkbosQNUeKGKHFDlLghStwQJW6IEjdEiRuixA1R4oYocUOUuCFK3BAlbogSN0SJG6KO29vby8bw+/v7xuzMzFxfX69tQ4WXG6LEDVHihihxQ5S4IUrcECVuiBI3RIkbosQNUeKGKHFDlLghStwQJW6IEjdEiRuixA1R4oYocUOUuCHqDzRwICpZ80QNAAAAAElFTkSuQmCC\" y=\"-321.821314\"/>\r\n   </g>\r\n   <g id=\"matplotlib.axis_11\">\r\n    <g id=\"xtick_55\">\r\n     <g id=\"line2d_95\">\r\n      <g>\r\n       <use style=\"stroke:#000000;stroke-width:0.8;\" x=\"637.886494\" xlink:href=\"#m6d0a379215\" y=\"478.821314\"/>\r\n      </g>\r\n     </g>\r\n     <g id=\"text_95\">\r\n      <!-- a -->\r\n      <g transform=\"translate(634.822431 493.419751)scale(0.1 -0.1)\">\r\n       <use xlink:href=\"#DejaVuSans-97\"/>\r\n      </g>\r\n     </g>\r\n    </g>\r\n    <g id=\"xtick_56\">\r\n     <g id=\"line2d_96\">\r\n      <g>\r\n       <use style=\"stroke:#000000;stroke-width:0.8;\" x=\"660.266173\" xlink:href=\"#m6d0a379215\" y=\"478.821314\"/>\r\n      </g>\r\n     </g>\r\n     <g id=\"text_96\">\r\n      <!-- a -->\r\n      <g transform=\"translate(657.202111 493.419751)scale(0.1 -0.1)\">\r\n       <use xlink:href=\"#DejaVuSans-97\"/>\r\n      </g>\r\n     </g>\r\n    </g>\r\n    <g id=\"xtick_57\">\r\n     <g id=\"line2d_97\">\r\n      <g>\r\n       <use style=\"stroke:#000000;stroke-width:0.8;\" x=\"682.645852\" xlink:href=\"#m6d0a379215\" y=\"478.821314\"/>\r\n      </g>\r\n     </g>\r\n     <g id=\"text_97\">\r\n      <!-- v -->\r\n      <g transform=\"translate(679.686477 493.419751)scale(0.1 -0.1)\">\r\n       <use xlink:href=\"#DejaVuSans-118\"/>\r\n      </g>\r\n     </g>\r\n    </g>\r\n    <g id=\"xtick_58\">\r\n     <g id=\"line2d_98\">\r\n      <g>\r\n       <use style=\"stroke:#000000;stroke-width:0.8;\" x=\"705.025531\" xlink:href=\"#m6d0a379215\" y=\"478.821314\"/>\r\n      </g>\r\n     </g>\r\n     <g id=\"text_98\">\r\n      <!-- i -->\r\n      <g transform=\"translate(703.636469 493.419751)scale(0.1 -0.1)\">\r\n       <use xlink:href=\"#DejaVuSans-105\"/>\r\n      </g>\r\n     </g>\r\n    </g>\r\n    <g id=\"xtick_59\">\r\n     <g id=\"line2d_99\">\r\n      <g>\r\n       <use style=\"stroke:#000000;stroke-width:0.8;\" x=\"727.405211\" xlink:href=\"#m6d0a379215\" y=\"478.821314\"/>\r\n      </g>\r\n     </g>\r\n     <g id=\"text_99\">\r\n      <!-- d -->\r\n      <g transform=\"translate(724.230992 493.419751)scale(0.1 -0.1)\">\r\n       <use xlink:href=\"#DejaVuSans-100\"/>\r\n      </g>\r\n     </g>\r\n    </g>\r\n    <g id=\"xtick_60\">\r\n     <g id=\"line2d_100\">\r\n      <g>\r\n       <use style=\"stroke:#000000;stroke-width:0.8;\" x=\"749.78489\" xlink:href=\"#m6d0a379215\" y=\"478.821314\"/>\r\n      </g>\r\n     </g>\r\n     <g id=\"text_100\">\r\n      <!-- h -->\r\n      <g transform=\"translate(746.61614 493.419751)scale(0.1 -0.1)\">\r\n       <use xlink:href=\"#DejaVuSans-104\"/>\r\n      </g>\r\n     </g>\r\n    </g>\r\n    <g id=\"xtick_61\">\r\n     <g id=\"line2d_101\">\r\n      <g>\r\n       <use style=\"stroke:#000000;stroke-width:0.8;\" x=\"772.164569\" xlink:href=\"#m6d0a379215\" y=\"478.821314\"/>\r\n      </g>\r\n     </g>\r\n     <g id=\"text_101\">\r\n      <!-- a -->\r\n      <g transform=\"translate(769.100506 493.419751)scale(0.1 -0.1)\">\r\n       <use xlink:href=\"#DejaVuSans-97\"/>\r\n      </g>\r\n     </g>\r\n    </g>\r\n    <g id=\"xtick_62\">\r\n     <g id=\"line2d_102\">\r\n      <g>\r\n       <use style=\"stroke:#000000;stroke-width:0.8;\" x=\"794.544248\" xlink:href=\"#m6d0a379215\" y=\"478.821314\"/>\r\n      </g>\r\n     </g>\r\n     <g id=\"text_102\">\r\n      <!-- m -->\r\n      <g transform=\"translate(789.673935 493.419751)scale(0.1 -0.1)\">\r\n       <use xlink:href=\"#DejaVuSans-109\"/>\r\n      </g>\r\n     </g>\r\n    </g>\r\n    <g id=\"xtick_63\">\r\n     <g id=\"line2d_103\">\r\n      <g>\r\n       <use style=\"stroke:#000000;stroke-width:0.8;\" x=\"816.923927\" xlink:href=\"#m6d0a379215\" y=\"478.821314\"/>\r\n      </g>\r\n     </g>\r\n     <g id=\"text_103\">\r\n      <!-- g -->\r\n      <g transform=\"translate(813.749708 493.419751)scale(0.1 -0.1)\">\r\n       <defs>\r\n        <path d=\"M 45.40625 27.984375 \r\nQ 45.40625 37.75 41.375 43.109375 \r\nQ 37.359375 48.484375 30.078125 48.484375 \r\nQ 22.859375 48.484375 18.828125 43.109375 \r\nQ 14.796875 37.75 14.796875 27.984375 \r\nQ 14.796875 18.265625 18.828125 12.890625 \r\nQ 22.859375 7.515625 30.078125 7.515625 \r\nQ 37.359375 7.515625 41.375 12.890625 \r\nQ 45.40625 18.265625 45.40625 27.984375 \r\nz\r\nM 54.390625 6.78125 \r\nQ 54.390625 -7.171875 48.1875 -13.984375 \r\nQ 42 -20.796875 29.203125 -20.796875 \r\nQ 24.46875 -20.796875 20.265625 -20.09375 \r\nQ 16.0625 -19.390625 12.109375 -17.921875 \r\nL 12.109375 -9.1875 \r\nQ 16.0625 -11.328125 19.921875 -12.34375 \r\nQ 23.78125 -13.375 27.78125 -13.375 \r\nQ 36.625 -13.375 41.015625 -8.765625 \r\nQ 45.40625 -4.15625 45.40625 5.171875 \r\nL 45.40625 9.625 \r\nQ 42.625 4.78125 38.28125 2.390625 \r\nQ 33.9375 0 27.875 0 \r\nQ 17.828125 0 11.671875 7.65625 \r\nQ 5.515625 15.328125 5.515625 27.984375 \r\nQ 5.515625 40.671875 11.671875 48.328125 \r\nQ 17.828125 56 27.875 56 \r\nQ 33.9375 56 38.28125 53.609375 \r\nQ 42.625 51.21875 45.40625 46.390625 \r\nL 45.40625 54.6875 \r\nL 54.390625 54.6875 \r\nz\r\n\" id=\"DejaVuSans-103\"/>\r\n       </defs>\r\n       <use xlink:href=\"#DejaVuSans-103\"/>\r\n      </g>\r\n     </g>\r\n    </g>\r\n    <g id=\"xtick_64\">\r\n     <g id=\"line2d_104\">\r\n      <g>\r\n       <use style=\"stroke:#000000;stroke-width:0.8;\" x=\"839.303606\" xlink:href=\"#m6d0a379215\" y=\"478.821314\"/>\r\n      </g>\r\n     </g>\r\n     <g id=\"text_104\">\r\n      <!-- a -->\r\n      <g transform=\"translate(836.239544 493.419751)scale(0.1 -0.1)\">\r\n       <use xlink:href=\"#DejaVuSans-97\"/>\r\n      </g>\r\n     </g>\r\n    </g>\r\n    <g id=\"xtick_65\">\r\n     <g id=\"line2d_105\">\r\n      <g>\r\n       <use style=\"stroke:#000000;stroke-width:0.8;\" x=\"861.683285\" xlink:href=\"#m6d0a379215\" y=\"478.821314\"/>\r\n      </g>\r\n     </g>\r\n     <g id=\"text_105\">\r\n      <!-- a -->\r\n      <g transform=\"translate(858.619223 493.419751)scale(0.1 -0.1)\">\r\n       <use xlink:href=\"#DejaVuSans-97\"/>\r\n      </g>\r\n     </g>\r\n    </g>\r\n   </g>\r\n   <g id=\"matplotlib.axis_12\">\r\n    <g id=\"ytick_41\">\r\n     <g id=\"line2d_106\">\r\n      <g>\r\n       <use style=\"stroke:#000000;stroke-width:0.8;\" x=\"626.696654\" xlink:href=\"#m11ae6b97b5\" y=\"333.3534\"/>\r\n      </g>\r\n     </g>\r\n     <g id=\"text_106\">\r\n      <!-- ఆ -->\r\n      <g transform=\"translate(606.916654 339.348243)scale(0.18 -0.18)\">\r\n       <defs>\r\n        <path d=\"M 13.671875 35.75 \r\nQ 13.671875 33.015625 15.53125 31.203125 \r\nQ 17.390625 29.390625 20.125 29.390625 \r\nQ 22.75 29.390625 24.5625 31.203125 \r\nQ 26.375 33.015625 26.375 35.75 \r\nQ 26.375 38.375 24.5625 40.234375 \r\nQ 22.75 42.09375 20.125 42.09375 \r\nQ 17.390625 42.09375 15.53125 40.234375 \r\nQ 13.671875 38.375 13.671875 35.75 \r\nz\r\nM 49.515625 35.75 \r\nQ 49.515625 33.015625 51.421875 31.203125 \r\nQ 53.328125 29.390625 55.953125 29.390625 \r\nQ 58.296875 29.390625 59.953125 31.203125 \r\nQ 61.625 33.015625 61.625 35.75 \r\nQ 61.625 38.375 59.953125 40.234375 \r\nQ 58.296875 42.09375 55.953125 42.09375 \r\nQ 53.328125 42.09375 51.421875 40.234375 \r\nQ 49.515625 38.375 49.515625 35.75 \r\nz\r\nM 3.421875 26.765625 \r\nQ 3.421875 35.359375 8.296875 41.3125 \r\nQ 13.1875 47.265625 20.125 47.265625 \r\nQ 24.8125 47.265625 28.21875 43.84375 \r\nQ 31.640625 40.4375 31.640625 35.75 \r\nQ 31.640625 31.0625 28.21875 27.6875 \r\nQ 24.8125 24.3125 20.125 24.3125 \r\nQ 16.890625 24.3125 14.25 26.015625 \r\nQ 11.625 27.734375 10.640625 30.5625 \r\nL 10.25 30.5625 \r\nQ 10.0625 29.984375 9.953125 29.046875 \r\nQ 9.859375 28.125 9.859375 26.765625 \r\nQ 9.859375 17.578125 16.84375 12.015625 \r\nQ 23.828125 6.453125 35.453125 6.453125 \r\nQ 45.515625 6.453125 52.546875 10.15625 \r\nQ 59.578125 13.875 59.578125 19.140625 \r\nQ 59.578125 20.515625 58.5 21.875 \r\nQ 57.421875 23.25 55.5625 24.3125 \r\nL 30.28125 24.3125 \r\nL 30.28125 29.390625 \r\nL 43.171875 29.390625 \r\nL 46.875 29 \r\nL 47.078125 29.5 \r\nQ 45.796875 30.671875 45.0625 32.234375 \r\nQ 44.34375 33.796875 44.34375 35.75 \r\nQ 44.34375 40.4375 47.75 43.84375 \r\nQ 51.171875 47.265625 55.953125 47.265625 \r\nQ 60.640625 47.265625 64.015625 43.84375 \r\nQ 67.390625 40.4375 67.390625 35.75 \r\nQ 67.390625 32.234375 65.765625 29.5 \r\nQ 64.15625 26.765625 61.53125 25.78125 \r\nL 61.53125 25.390625 \r\nQ 63.671875 24.125 64.9375 22.21875 \r\nQ 66.21875 20.3125 66.21875 18.171875 \r\nQ 66.21875 10.640625 57.234375 5.3125 \r\nQ 48.25 0 35.453125 0 \r\nQ 20.90625 0 12.15625 7.328125 \r\nQ 3.421875 14.65625 3.421875 26.765625 \r\nz\r\n\" id=\"Lohit-Telugu-3078\"/>\r\n       </defs>\r\n       <use xlink:href=\"#Lohit-Telugu-3078\"/>\r\n      </g>\r\n     </g>\r\n    </g>\r\n    <g id=\"ytick_42\">\r\n     <g id=\"line2d_107\">\r\n      <g>\r\n       <use style=\"stroke:#000000;stroke-width:0.8;\" x=\"626.696654\" xlink:href=\"#m11ae6b97b5\" y=\"355.733079\"/>\r\n      </g>\r\n     </g>\r\n     <g id=\"text_107\">\r\n      <!-- వ -->\r\n      <g transform=\"translate(609.571654 361.727922)scale(0.18 -0.18)\">\r\n       <use xlink:href=\"#Lohit-Telugu-3125\"/>\r\n      </g>\r\n     </g>\r\n    </g>\r\n    <g id=\"ytick_43\">\r\n     <g id=\"line2d_108\">\r\n      <g>\r\n       <use style=\"stroke:#000000;stroke-width:0.8;\" x=\"626.696654\" xlink:href=\"#m11ae6b97b5\" y=\"378.112758\"/>\r\n      </g>\r\n     </g>\r\n     <g id=\"text_108\">\r\n      <!-- ి -->\r\n      <g transform=\"translate(619.696654 384.107602)scale(0.18 -0.18)\">\r\n       <use xlink:href=\"#Lohit-Telugu-3135\"/>\r\n      </g>\r\n     </g>\r\n    </g>\r\n    <g id=\"ytick_44\">\r\n     <g id=\"line2d_109\">\r\n      <g>\r\n       <use style=\"stroke:#000000;stroke-width:0.8;\" x=\"626.696654\" xlink:href=\"#m11ae6b97b5\" y=\"400.492437\"/>\r\n      </g>\r\n     </g>\r\n     <g id=\"text_109\">\r\n      <!-- ధ -->\r\n      <g transform=\"translate(608.359467 406.504156)scale(0.18 -0.18)\">\r\n       <defs>\r\n        <path d=\"M 9.859375 19.140625 \r\nQ 9.859375 13.875 12.453125 10.15625 \r\nQ 15.046875 6.453125 18.84375 6.453125 \r\nQ 23.140625 6.453125 26.171875 10.15625 \r\nQ 29.203125 13.875 29.203125 19.140625 \r\nL 33.984375 19.140625 \r\nQ 33.984375 13.875 37.015625 10.15625 \r\nQ 40.046875 6.453125 44.34375 6.453125 \r\nQ 48.046875 6.453125 50.6875 10.15625 \r\nQ 53.328125 13.875 53.328125 19.140625 \r\nQ 53.328125 28.21875 46.96875 34.5625 \r\nQ 40.625 40.921875 31.640625 40.921875 \r\nQ 22.5625 40.921875 16.203125 34.5625 \r\nQ 9.859375 28.21875 9.859375 19.140625 \r\nz\r\nM 3.421875 19.140625 \r\nQ 3.421875 28.328125 9.125 35.640625 \r\nQ 14.84375 42.96875 23.921875 45.515625 \r\nQ 20.90625 48.140625 19.28125 52.09375 \r\nQ 17.671875 56.0625 17.671875 60.75 \r\nL 22.75 60.75 \r\nQ 22.75 55.375 25.4375 51.65625 \r\nQ 28.125 47.953125 31.84375 47.953125 \r\nQ 33.203125 47.953125 34.859375 48.875 \r\nQ 36.53125 49.8125 38.09375 51.375 \r\nL 54.203125 66.796875 \r\nL 57.515625 63.484375 \r\nL 39.84375 45.703125 \r\nQ 48.640625 43.171875 54.109375 35.796875 \r\nQ 59.578125 28.421875 59.578125 19.140625 \r\nQ 59.578125 11.234375 55.125 5.609375 \r\nQ 50.6875 0 44.34375 0 \r\nQ 41.21875 0 38.484375 1.078125 \r\nQ 35.75 2.15625 33.796875 4.109375 \r\nL 33.40625 3.8125 \r\nL 36.421875 -7.625 \r\nL 36.421875 -12.703125 \r\nL 27.546875 -12.703125 \r\nL 27.546875 -7.625 \r\nL 30.171875 3.609375 \r\nL 29.78125 4.109375 \r\nQ 28.03125 2.15625 25.1875 1.078125 \r\nQ 22.359375 0 18.84375 0 \r\nQ 12.40625 0 7.90625 5.609375 \r\nQ 3.421875 11.234375 3.421875 19.140625 \r\nz\r\n\" id=\"Lohit-Telugu-3111\"/>\r\n       </defs>\r\n       <use xlink:href=\"#Lohit-Telugu-3111\"/>\r\n      </g>\r\n     </g>\r\n    </g>\r\n    <g id=\"ytick_45\">\r\n     <g id=\"line2d_110\">\r\n      <g>\r\n       <use style=\"stroke:#000000;stroke-width:0.8;\" x=\"626.696654\" xlink:href=\"#m11ae6b97b5\" y=\"422.872116\"/>\r\n      </g>\r\n     </g>\r\n     <g id=\"text_110\">\r\n      <!-- ం -->\r\n      <g transform=\"translate(610.204467 428.86696)scale(0.18 -0.18)\">\r\n       <use xlink:href=\"#Lohit-Telugu-3074\"/>\r\n      </g>\r\n     </g>\r\n    </g>\r\n    <g id=\"ytick_46\">\r\n     <g id=\"line2d_111\">\r\n      <g>\r\n       <use style=\"stroke:#000000;stroke-width:0.8;\" x=\"626.696654\" xlink:href=\"#m11ae6b97b5\" y=\"445.251795\"/>\r\n      </g>\r\n     </g>\r\n     <g id=\"text_111\">\r\n      <!-- గ -->\r\n      <g transform=\"translate(610.572904 451.263514)scale(0.18 -0.18)\">\r\n       <defs>\r\n        <path d=\"M 3.609375 0 \r\nQ 3.609375 15.921875 7.375 27.78125 \r\nQ 11.140625 39.65625 18.0625 45.015625 \r\nQ 14.75 47.46875 12.9375 51.5625 \r\nQ 11.140625 55.671875 11.140625 60.75 \r\nL 16.21875 60.75 \r\nQ 16.21875 55.375 18.890625 51.65625 \r\nQ 21.578125 47.953125 25.390625 47.953125 \r\nQ 26.765625 47.953125 28.375 48.875 \r\nQ 29.984375 49.8125 31.640625 51.375 \r\nL 47.65625 66.796875 \r\nL 50.984375 63.484375 \r\nL 32.625 45.125 \r\nQ 39.546875 39.84375 43.3125 27.921875 \r\nQ 47.078125 16.015625 47.078125 0 \r\nL 40.828125 0 \r\nQ 40.828125 17 36.328125 28.953125 \r\nQ 31.84375 40.921875 25.390625 40.921875 \r\nQ 18.953125 40.921875 14.453125 28.953125 \r\nQ 9.96875 17 9.96875 0 \r\nL 3.609375 0 \r\nz\r\n\" id=\"Lohit-Telugu-3095\"/>\r\n       </defs>\r\n       <use xlink:href=\"#Lohit-Telugu-3095\"/>\r\n      </g>\r\n     </g>\r\n    </g>\r\n    <g id=\"ytick_47\">\r\n     <g id=\"line2d_112\">\r\n      <g>\r\n       <use style=\"stroke:#000000;stroke-width:0.8;\" x=\"626.696654\" xlink:href=\"#m11ae6b97b5\" y=\"467.631474\"/>\r\n      </g>\r\n     </g>\r\n     <g id=\"text_112\">\r\n      <!-- ా -->\r\n      <g transform=\"translate(609.132904 473.626318)scale(0.18 -0.18)\">\r\n       <use xlink:href=\"#Lohit-Telugu-3134\"/>\r\n      </g>\r\n     </g>\r\n    </g>\r\n   </g>\r\n   <g id=\"patch_28\">\r\n    <path d=\"M 626.696654 478.821314 \r\nL 626.696654 322.16356 \r\n\" style=\"fill:none;stroke:#000000;stroke-linecap:square;stroke-linejoin:miter;stroke-width:0.8;\"/>\r\n   </g>\r\n   <g id=\"patch_29\">\r\n    <path d=\"M 872.873125 478.821314 \r\nL 872.873125 322.16356 \r\n\" style=\"fill:none;stroke:#000000;stroke-linecap:square;stroke-linejoin:miter;stroke-width:0.8;\"/>\r\n   </g>\r\n   <g id=\"patch_30\">\r\n    <path d=\"M 626.696654 478.821314 \r\nL 872.873125 478.821314 \r\n\" style=\"fill:none;stroke:#000000;stroke-linecap:square;stroke-linejoin:miter;stroke-width:0.8;\"/>\r\n   </g>\r\n   <g id=\"patch_31\">\r\n    <path d=\"M 626.696654 322.16356 \r\nL 872.873125 322.16356 \r\n\" style=\"fill:none;stroke:#000000;stroke-linecap:square;stroke-linejoin:miter;stroke-width:0.8;\"/>\r\n   </g>\r\n  </g>\r\n  <g id=\"axes_7\">\r\n   <g id=\"patch_32\">\r\n    <path d=\"M 35.873125 774.442437 \r\nL 282.049596 774.442437 \r\nL 282.049596 602.118908 \r\nL 35.873125 602.118908 \r\nz\r\n\" style=\"fill:#ffffff;\"/>\r\n   </g>\r\n   <g clip-path=\"url(#p25e9adddae)\">\r\n    <image height=\"173\" id=\"imagea2dbee786b\" transform=\"scale(1 -1)translate(0 -173)\" width=\"247\" x=\"35.873125\" xlink:href=\"data:image/png;base64,\r\niVBORw0KGgoAAAANSUhEUgAAAPcAAACtCAYAAABsmenCAAAClklEQVR4nO3dsW3CUBRA0e8oSBQMwm6swUDULMBORkDKKEoZPkg35wzwnl1cvc5exhiPAfyw3W6nzl/Xder8Mcb4mL4BeAtxQ5S4IUrcECVuiBI3RIkbosQNUeKGKHFDlLghStwQJW6IEjdEiRuixA1R4oYocUOUuCFK3BAlbogSN0SJG6LEDVHL8FMC+OVyuUydfzgcps4fw+WGLHFDlLghStwQJW6IEjdEiRuixA1R4oYocUOUuCFK3BAlbogSN0SJG6LEDVHihihxQ5S4IUrcECVuiBI3RIkbony3nKda13X6jt1uN33HK95jNpcbosQNUeKGKHFDlLghStwQJW6IEjdEiRuixA1R4oYocUOUuCFK3BAlbogSN0SJG6LEDVHihihxQ5S4IUrcECVuiBI3RH2++wH4dj6fp84/Ho9T54/xmh8GXK/X6TsKXG6IEjdEiRuixA1R4oYocUOUuCFK3BAlbogSN0SJG6LEDVHihihxQ5S4IUrcECVuiBI3RIkbosQNUeKGKHFDlLghStwQtYwxHu9+iL+63+/Td2w2m+k7brfb9B38Hy43RIkbosQNUeKGKHFDlLghStwQJW6IEjdEiRuixA1R4oYocUOUuCFK3BAlbogSN0SJG6LEDVHihihxQ5S4IUrcECVuiEr8lODxmP8Ky7JM3wHP5HJDlLghStwQJW6IEjdEiRuixA1R4oYocUOUuCFK3BAlbogSN0SJG6LEDVHihihxQ5S4IUrcECVuiBI3RIkbosQNUZ/7/X76ktPpNHW+b4rDby43RIkbosQNUeKGKHFDlLghStwQJW6IEjdEiRuixA1R4oYocUOUuCFK3BAlbogSN0SJG6LEDVHihihxQ5S4IUrcECVuiPoCG30lS2BVCMIAAAAASUVORK5CYII=\" y=\"-601.442437\"/>\r\n   </g>\r\n   <g id=\"matplotlib.axis_13\">\r\n    <g id=\"xtick_66\">\r\n     <g id=\"line2d_113\">\r\n      <g>\r\n       <use style=\"stroke:#000000;stroke-width:0.8;\" x=\"48.181949\" xlink:href=\"#m6d0a379215\" y=\"774.442437\"/>\r\n      </g>\r\n     </g>\r\n     <g id=\"text_113\">\r\n      <!-- v -->\r\n      <g transform=\"translate(45.222574 789.040874)scale(0.1 -0.1)\">\r\n       <use xlink:href=\"#DejaVuSans-118\"/>\r\n      </g>\r\n     </g>\r\n    </g>\r\n    <g id=\"xtick_67\">\r\n     <g id=\"line2d_114\">\r\n      <g>\r\n       <use style=\"stroke:#000000;stroke-width:0.8;\" x=\"72.799596\" xlink:href=\"#m6d0a379215\" y=\"774.442437\"/>\r\n      </g>\r\n     </g>\r\n     <g id=\"text_114\">\r\n      <!-- i -->\r\n      <g transform=\"translate(71.410533 789.040874)scale(0.1 -0.1)\">\r\n       <use xlink:href=\"#DejaVuSans-105\"/>\r\n      </g>\r\n     </g>\r\n    </g>\r\n    <g id=\"xtick_68\">\r\n     <g id=\"line2d_115\">\r\n      <g>\r\n       <use style=\"stroke:#000000;stroke-width:0.8;\" x=\"97.417243\" xlink:href=\"#m6d0a379215\" y=\"774.442437\"/>\r\n      </g>\r\n     </g>\r\n     <g id=\"text_115\">\r\n      <!-- j -->\r\n      <g transform=\"translate(96.02818 789.040874)scale(0.1 -0.1)\">\r\n       <defs>\r\n        <path d=\"M 9.421875 54.6875 \r\nL 18.40625 54.6875 \r\nL 18.40625 -0.984375 \r\nQ 18.40625 -11.421875 14.421875 -16.109375 \r\nQ 10.453125 -20.796875 1.609375 -20.796875 \r\nL -1.8125 -20.796875 \r\nL -1.8125 -13.1875 \r\nL 0.59375 -13.1875 \r\nQ 5.71875 -13.1875 7.5625 -10.8125 \r\nQ 9.421875 -8.453125 9.421875 -0.984375 \r\nz\r\nM 9.421875 75.984375 \r\nL 18.40625 75.984375 \r\nL 18.40625 64.59375 \r\nL 9.421875 64.59375 \r\nz\r\n\" id=\"DejaVuSans-106\"/>\r\n       </defs>\r\n       <use xlink:href=\"#DejaVuSans-106\"/>\r\n      </g>\r\n     </g>\r\n    </g>\r\n    <g id=\"xtick_69\">\r\n     <g id=\"line2d_116\">\r\n      <g>\r\n       <use style=\"stroke:#000000;stroke-width:0.8;\" x=\"122.03489\" xlink:href=\"#m6d0a379215\" y=\"774.442437\"/>\r\n      </g>\r\n     </g>\r\n     <g id=\"text_116\">\r\n      <!-- a -->\r\n      <g transform=\"translate(118.970827 789.040874)scale(0.1 -0.1)\">\r\n       <use xlink:href=\"#DejaVuSans-97\"/>\r\n      </g>\r\n     </g>\r\n    </g>\r\n    <g id=\"xtick_70\">\r\n     <g id=\"line2d_117\">\r\n      <g>\r\n       <use style=\"stroke:#000000;stroke-width:0.8;\" x=\"146.652537\" xlink:href=\"#m6d0a379215\" y=\"774.442437\"/>\r\n      </g>\r\n     </g>\r\n     <g id=\"text_117\">\r\n      <!-- y -->\r\n      <g transform=\"translate(143.693162 789.040874)scale(0.1 -0.1)\">\r\n       <use xlink:href=\"#DejaVuSans-121\"/>\r\n      </g>\r\n     </g>\r\n    </g>\r\n    <g id=\"xtick_71\">\r\n     <g id=\"line2d_118\">\r\n      <g>\r\n       <use style=\"stroke:#000000;stroke-width:0.8;\" x=\"171.270184\" xlink:href=\"#m6d0a379215\" y=\"774.442437\"/>\r\n      </g>\r\n     </g>\r\n     <g id=\"text_118\">\r\n      <!-- a -->\r\n      <g transform=\"translate(168.206121 789.040874)scale(0.1 -0.1)\">\r\n       <use xlink:href=\"#DejaVuSans-97\"/>\r\n      </g>\r\n     </g>\r\n    </g>\r\n    <g id=\"xtick_72\">\r\n     <g id=\"line2d_119\">\r\n      <g>\r\n       <use style=\"stroke:#000000;stroke-width:0.8;\" x=\"195.887831\" xlink:href=\"#m6d0a379215\" y=\"774.442437\"/>\r\n      </g>\r\n     </g>\r\n     <g id=\"text_119\">\r\n      <!-- l -->\r\n      <g transform=\"translate(194.498768 789.040874)scale(0.1 -0.1)\">\r\n       <use xlink:href=\"#DejaVuSans-108\"/>\r\n      </g>\r\n     </g>\r\n    </g>\r\n    <g id=\"xtick_73\">\r\n     <g id=\"line2d_120\">\r\n      <g>\r\n       <use style=\"stroke:#000000;stroke-width:0.8;\" x=\"220.505478\" xlink:href=\"#m6d0a379215\" y=\"774.442437\"/>\r\n      </g>\r\n     </g>\r\n     <g id=\"text_120\">\r\n      <!-- a -->\r\n      <g transform=\"translate(217.441415 789.040874)scale(0.1 -0.1)\">\r\n       <use xlink:href=\"#DejaVuSans-97\"/>\r\n      </g>\r\n     </g>\r\n    </g>\r\n    <g id=\"xtick_74\">\r\n     <g id=\"line2d_121\">\r\n      <g>\r\n       <use style=\"stroke:#000000;stroke-width:0.8;\" x=\"245.123125\" xlink:href=\"#m6d0a379215\" y=\"774.442437\"/>\r\n      </g>\r\n     </g>\r\n     <g id=\"text_121\">\r\n      <!-- t -->\r\n      <g transform=\"translate(243.162969 789.040874)scale(0.1 -0.1)\">\r\n       <use xlink:href=\"#DejaVuSans-116\"/>\r\n      </g>\r\n     </g>\r\n    </g>\r\n    <g id=\"xtick_75\">\r\n     <g id=\"line2d_122\">\r\n      <g>\r\n       <use style=\"stroke:#000000;stroke-width:0.8;\" x=\"269.740772\" xlink:href=\"#m6d0a379215\" y=\"774.442437\"/>\r\n      </g>\r\n     </g>\r\n     <g id=\"text_122\">\r\n      <!-- o -->\r\n      <g transform=\"translate(266.681397 789.040874)scale(0.1 -0.1)\">\r\n       <use xlink:href=\"#DejaVuSans-111\"/>\r\n      </g>\r\n     </g>\r\n    </g>\r\n   </g>\r\n   <g id=\"matplotlib.axis_14\">\r\n    <g id=\"ytick_48\">\r\n     <g id=\"line2d_123\">\r\n      <g>\r\n       <use style=\"stroke:#000000;stroke-width:0.8;\" x=\"35.873125\" xlink:href=\"#m11ae6b97b5\" y=\"614.427731\"/>\r\n      </g>\r\n     </g>\r\n     <g id=\"text_123\">\r\n      <!-- వ -->\r\n      <g transform=\"translate(18.748125 620.422575)scale(0.18 -0.18)\">\r\n       <use xlink:href=\"#Lohit-Telugu-3125\"/>\r\n      </g>\r\n     </g>\r\n    </g>\r\n    <g id=\"ytick_49\">\r\n     <g id=\"line2d_124\">\r\n      <g>\r\n       <use style=\"stroke:#000000;stroke-width:0.8;\" x=\"35.873125\" xlink:href=\"#m11ae6b97b5\" y=\"639.045378\"/>\r\n      </g>\r\n     </g>\r\n     <g id=\"text_124\">\r\n      <!-- ి -->\r\n      <g transform=\"translate(28.873125 645.040222)scale(0.18 -0.18)\">\r\n       <use xlink:href=\"#Lohit-Telugu-3135\"/>\r\n      </g>\r\n     </g>\r\n    </g>\r\n    <g id=\"ytick_50\">\r\n     <g id=\"line2d_125\">\r\n      <g>\r\n       <use style=\"stroke:#000000;stroke-width:0.8;\" x=\"35.873125\" xlink:href=\"#m11ae6b97b5\" y=\"663.663025\"/>\r\n      </g>\r\n     </g>\r\n     <g id=\"text_125\">\r\n      <!-- జ -->\r\n      <g transform=\"translate(17.429063 669.657869)scale(0.18 -0.18)\">\r\n       <defs>\r\n        <path d=\"M 4.203125 14.0625 \r\nQ 4.203125 18.359375 7.28125 22.171875 \r\nQ 10.359375 25.984375 15.4375 27.734375 \r\nQ 19.625 29.296875 22.15625 31.484375 \r\nQ 24.703125 33.6875 24.703125 35.75 \r\nQ 24.703125 37.890625 22.609375 39.40625 \r\nQ 20.515625 40.921875 17.671875 40.921875 \r\nQ 14.75 40.921875 12.6875 39.40625 \r\nQ 10.640625 37.890625 10.640625 35.75 \r\nQ 10.640625 34.28125 11.03125 33 \r\nQ 11.421875 31.734375 12.109375 30.671875 \r\nL 6.640625 29.390625 \r\nQ 5.46875 30.765625 4.828125 32.421875 \r\nQ 4.203125 34.078125 4.203125 35.75 \r\nQ 4.203125 40.4375 8.15625 43.75 \r\nQ 12.109375 47.078125 17.671875 47.078125 \r\nQ 21.484375 47.078125 24.65625 45.515625 \r\nQ 27.828125 43.953125 29.390625 41.21875 \r\nQ 34.375 36.140625 39.15625 33.40625 \r\nQ 43.953125 30.671875 47.65625 30.671875 \r\nQ 50.296875 30.671875 52.203125 32.125 \r\nQ 54.109375 33.59375 54.109375 35.75 \r\nQ 54.109375 37.3125 52.203125 38.484375 \r\nQ 50.296875 39.65625 47.65625 39.65625 \r\nQ 46.96875 39.65625 45.65625 39.265625 \r\nQ 44.34375 38.875 42 37.984375 \r\nL 39.65625 43.0625 \r\nQ 41.3125 44.4375 43.40625 45.171875 \r\nQ 45.515625 45.90625 47.65625 45.90625 \r\nQ 52.9375 45.90625 56.640625 42.921875 \r\nQ 60.359375 39.9375 60.359375 35.75 \r\nQ 60.359375 31.0625 56.640625 27.6875 \r\nQ 52.9375 24.3125 47.65625 24.3125 \r\nQ 43.453125 24.3125 39.015625 26.84375 \r\nQ 34.578125 29.390625 30.671875 33.984375 \r\nL 29.984375 33.796875 \r\nQ 29.984375 30.671875 27.25 27.734375 \r\nQ 24.515625 24.8125 20.125 23.140625 \r\nQ 15.828125 21.578125 13.234375 19.09375 \r\nQ 10.640625 16.609375 10.640625 14.0625 \r\nQ 10.640625 10.84375 12.890625 8.640625 \r\nQ 15.140625 6.453125 18.359375 6.453125 \r\nQ 22.75 6.453125 25.78125 10.15625 \r\nQ 28.8125 13.875 28.8125 19.140625 \r\nL 33.40625 19.140625 \r\nQ 33.40625 13.875 36.46875 10.15625 \r\nQ 39.546875 6.453125 43.84375 6.453125 \r\nQ 47.078125 6.453125 49.3125 8.640625 \r\nQ 51.5625 10.84375 51.5625 14.0625 \r\nQ 51.5625 16.109375 51.078125 18.015625 \r\nQ 50.59375 19.921875 49.515625 21.6875 \r\nL 56.34375 21.6875 \r\nQ 57.125 19.53125 57.515625 17.625 \r\nQ 57.90625 15.71875 57.90625 14.0625 \r\nQ 57.90625 8.203125 53.796875 4.09375 \r\nQ 49.703125 0 43.84375 0 \r\nQ 40.046875 0 36.71875 1.90625 \r\nQ 33.40625 3.8125 31.453125 7.234375 \r\nL 30.671875 7.234375 \r\nQ 28.71875 3.90625 25.390625 1.953125 \r\nQ 22.078125 0 18.359375 0 \r\nQ 12.5 0 8.34375 4.09375 \r\nQ 4.203125 8.203125 4.203125 14.0625 \r\nz\r\n\" id=\"Lohit-Telugu-3100\"/>\r\n       </defs>\r\n       <use xlink:href=\"#Lohit-Telugu-3100\"/>\r\n      </g>\r\n     </g>\r\n    </g>\r\n    <g id=\"ytick_51\">\r\n     <g id=\"line2d_126\">\r\n      <g>\r\n       <use style=\"stroke:#000000;stroke-width:0.8;\" x=\"35.873125\" xlink:href=\"#m11ae6b97b5\" y=\"688.280672\"/>\r\n      </g>\r\n     </g>\r\n     <g id=\"text_126\">\r\n      <!-- య -->\r\n      <g transform=\"translate(7.2 694.292391)scale(0.18 -0.18)\">\r\n       <use xlink:href=\"#Lohit-Telugu-3119\"/>\r\n      </g>\r\n     </g>\r\n    </g>\r\n    <g id=\"ytick_52\">\r\n     <g id=\"line2d_127\">\r\n      <g>\r\n       <use style=\"stroke:#000000;stroke-width:0.8;\" x=\"35.873125\" xlink:href=\"#m11ae6b97b5\" y=\"712.898319\"/>\r\n      </g>\r\n     </g>\r\n     <g id=\"text_127\">\r\n      <!-- ల -->\r\n      <g transform=\"translate(18.430313 718.893163)scale(0.18 -0.18)\">\r\n       <use xlink:href=\"#Lohit-Telugu-3122\"/>\r\n      </g>\r\n     </g>\r\n    </g>\r\n    <g id=\"ytick_53\">\r\n     <g id=\"line2d_128\">\r\n      <g>\r\n       <use style=\"stroke:#000000;stroke-width:0.8;\" x=\"35.873125\" xlink:href=\"#m11ae6b97b5\" y=\"737.515966\"/>\r\n      </g>\r\n     </g>\r\n     <g id=\"text_128\">\r\n      <!-- త -->\r\n      <g transform=\"translate(17.375625 743.51081)scale(0.18 -0.18)\">\r\n       <use xlink:href=\"#Lohit-Telugu-3108\"/>\r\n      </g>\r\n     </g>\r\n    </g>\r\n    <g id=\"ytick_54\">\r\n     <g id=\"line2d_129\">\r\n      <g>\r\n       <use style=\"stroke:#000000;stroke-width:0.8;\" x=\"35.873125\" xlink:href=\"#m11ae6b97b5\" y=\"762.133613\"/>\r\n      </g>\r\n     </g>\r\n     <g id=\"text_129\">\r\n      <!-- ో -->\r\n      <g transform=\"translate(18.73125 768.128457)scale(0.18 -0.18)\">\r\n       <use xlink:href=\"#Lohit-Telugu-3147\"/>\r\n      </g>\r\n     </g>\r\n    </g>\r\n   </g>\r\n   <g id=\"patch_33\">\r\n    <path d=\"M 35.873125 774.442437 \r\nL 35.873125 602.118908 \r\n\" style=\"fill:none;stroke:#000000;stroke-linecap:square;stroke-linejoin:miter;stroke-width:0.8;\"/>\r\n   </g>\r\n   <g id=\"patch_34\">\r\n    <path d=\"M 282.049596 774.442437 \r\nL 282.049596 602.118908 \r\n\" style=\"fill:none;stroke:#000000;stroke-linecap:square;stroke-linejoin:miter;stroke-width:0.8;\"/>\r\n   </g>\r\n   <g id=\"patch_35\">\r\n    <path d=\"M 35.873125 774.442437 \r\nL 282.049596 774.442437 \r\n\" style=\"fill:none;stroke:#000000;stroke-linecap:square;stroke-linejoin:miter;stroke-width:0.8;\"/>\r\n   </g>\r\n   <g id=\"patch_36\">\r\n    <path d=\"M 35.873125 602.118908 \r\nL 282.049596 602.118908 \r\n\" style=\"fill:none;stroke:#000000;stroke-linecap:square;stroke-linejoin:miter;stroke-width:0.8;\"/>\r\n   </g>\r\n  </g>\r\n  <g id=\"axes_8\">\r\n   <g id=\"patch_37\">\r\n    <path d=\"M 331.28489 784.015966 \r\nL 577.46136 784.015966 \r\nL 577.46136 592.545378 \r\nL 331.28489 592.545378 \r\nz\r\n\" style=\"fill:#ffffff;\"/>\r\n   </g>\r\n   <g clip-path=\"url(#p08390cb660)\">\r\n    <image height=\"192\" id=\"image4edd436a9c\" transform=\"scale(1 -1)translate(0 -192)\" width=\"247\" x=\"331.28489\" xlink:href=\"data:image/png;base64,\r\niVBORw0KGgoAAAANSUhEUgAAAPcAAADACAYAAADY8/VGAAAC8ElEQVR4nO3dwW1aURRF0fuRLebugBpogZm7oQV35kIsMfLEJWCREqJI4eHsrNXAeULa3OHfZuY28J/a7XbJrZmZtWvAMuKGKHFDlLghStwQJW6IEjdEiRuixA1R4oYocUOUuCFK3BAlbogSN0SJG6LEDVHihihxQ5S4IUrcECVuiBI3RIkbosQNUeKGqG18Tojf2Lbt0U+4m4+Pj2Vbp9Np2daMyw1Z4oYocUOUuCFK3BAlbogSN0SJG6LEDVHihihxQ5S4IUrcECVuiBI3RIkbosQNUeKGKHFDlLghStwQJW6IEjdEiRuixA1R4oYocUPU06MfwM/3/v6+dO/t7W3Z1uFwWLa1mssNUeKGKHFDlLghStwQJW6IEjdEiRuixA1R4oYocUOUuCFK3BAlbogSN0SJG6LEDVHihihxQ5S4IUrcECVuiBI3RIkbosQNUeKGqG1mbo9+BH9ut1v3v/z9/b1sa2bm+fl56d4q1+t16Z7LDVHihihxQ5S4IUrcECVuiBI3RIkbosQNUeKGKHFDlLghStwQJW6IEjdEiRuixA1R4oYocUOUuCFK3BAlbogSN0SJG6LEDVHihihxQ9TTox9wT9u2Ldt6fX1dtjUzcz6fl22t/B35e1xuiBI3RIkbosQNUeKGKHFDlLghStwQJW6IEjdEiRuixA1R4oYocUOUuCFK3BAlbogSN0SJG6LEDVHihihxQ5S4IUrcECVuiBI3RG0zc3v0I+7l5eVl2dbn5+eyrZmZ/X6/dI9/j8sNUeKGKHFDlLghStwQJW6IEjdEiRuixA1R4oYocUOUuCFK3BAlbogSN0SJG6LEDVHihihxQ5S4IUrcECVuiBI3RIkbosQNUeKGKHFD1Pb19bXsW2HH43HV1MzMXC6XpXvwk7jcECVuiBI3RIkbosQNUeKGKHFDlLghStwQJW6IEjdEiRuixA1R4oYocUOUuCFK3BAlbogSN0SJG6LEDVHihihxQ5S4IUrcECVuiPoFe5ofX2B/McgAAAAASUVORK5CYII=\" y=\"-592.015966\"/>\r\n   </g>\r\n   <g id=\"matplotlib.axis_15\">\r\n    <g id=\"xtick_76\">\r\n     <g id=\"line2d_130\">\r\n      <g>\r\n       <use style=\"stroke:#000000;stroke-width:0.8;\" x=\"344.96136\" xlink:href=\"#m6d0a379215\" y=\"784.015966\"/>\r\n      </g>\r\n     </g>\r\n     <g id=\"text_130\">\r\n      <!-- m -->\r\n      <g transform=\"translate(340.091048 798.614404)scale(0.1 -0.1)\">\r\n       <use xlink:href=\"#DejaVuSans-109\"/>\r\n      </g>\r\n     </g>\r\n    </g>\r\n    <g id=\"xtick_77\">\r\n     <g id=\"line2d_131\">\r\n      <g>\r\n       <use style=\"stroke:#000000;stroke-width:0.8;\" x=\"372.314301\" xlink:href=\"#m6d0a379215\" y=\"784.015966\"/>\r\n      </g>\r\n     </g>\r\n     <g id=\"text_131\">\r\n      <!-- a -->\r\n      <g transform=\"translate(369.250239 798.614404)scale(0.1 -0.1)\">\r\n       <use xlink:href=\"#DejaVuSans-97\"/>\r\n      </g>\r\n     </g>\r\n    </g>\r\n    <g id=\"xtick_78\">\r\n     <g id=\"line2d_132\">\r\n      <g>\r\n       <use style=\"stroke:#000000;stroke-width:0.8;\" x=\"399.667243\" xlink:href=\"#m6d0a379215\" y=\"784.015966\"/>\r\n      </g>\r\n     </g>\r\n     <g id=\"text_132\">\r\n      <!-- n -->\r\n      <g transform=\"translate(396.498493 798.614404)scale(0.1 -0.1)\">\r\n       <use xlink:href=\"#DejaVuSans-110\"/>\r\n      </g>\r\n     </g>\r\n    </g>\r\n    <g id=\"xtick_79\">\r\n     <g id=\"line2d_133\">\r\n      <g>\r\n       <use style=\"stroke:#000000;stroke-width:0.8;\" x=\"427.020184\" xlink:href=\"#m6d0a379215\" y=\"784.015966\"/>\r\n      </g>\r\n     </g>\r\n     <g id=\"text_133\">\r\n      <!-- d -->\r\n      <g transform=\"translate(423.845965 798.614404)scale(0.1 -0.1)\">\r\n       <use xlink:href=\"#DejaVuSans-100\"/>\r\n      </g>\r\n     </g>\r\n    </g>\r\n    <g id=\"xtick_80\">\r\n     <g id=\"line2d_134\">\r\n      <g>\r\n       <use style=\"stroke:#000000;stroke-width:0.8;\" x=\"454.373125\" xlink:href=\"#m6d0a379215\" y=\"784.015966\"/>\r\n      </g>\r\n     </g>\r\n     <g id=\"text_134\">\r\n      <!-- u -->\r\n      <g transform=\"translate(451.204375 798.614404)scale(0.1 -0.1)\">\r\n       <use xlink:href=\"#DejaVuSans-117\"/>\r\n      </g>\r\n     </g>\r\n    </g>\r\n    <g id=\"xtick_81\">\r\n     <g id=\"line2d_135\">\r\n      <g>\r\n       <use style=\"stroke:#000000;stroke-width:0.8;\" x=\"481.726066\" xlink:href=\"#m6d0a379215\" y=\"784.015966\"/>\r\n      </g>\r\n     </g>\r\n     <g id=\"text_135\">\r\n      <!-- l -->\r\n      <g transform=\"translate(480.337004 798.614404)scale(0.1 -0.1)\">\r\n       <use xlink:href=\"#DejaVuSans-108\"/>\r\n      </g>\r\n     </g>\r\n    </g>\r\n    <g id=\"xtick_82\">\r\n     <g id=\"line2d_136\">\r\n      <g>\r\n       <use style=\"stroke:#000000;stroke-width:0.8;\" x=\"509.079007\" xlink:href=\"#m6d0a379215\" y=\"784.015966\"/>\r\n      </g>\r\n     </g>\r\n     <g id=\"text_136\">\r\n      <!-- a -->\r\n      <g transform=\"translate(506.014945 798.614404)scale(0.1 -0.1)\">\r\n       <use xlink:href=\"#DejaVuSans-97\"/>\r\n      </g>\r\n     </g>\r\n    </g>\r\n    <g id=\"xtick_83\">\r\n     <g id=\"line2d_137\">\r\n      <g>\r\n       <use style=\"stroke:#000000;stroke-width:0.8;\" x=\"536.431949\" xlink:href=\"#m6d0a379215\" y=\"784.015966\"/>\r\n      </g>\r\n     </g>\r\n     <g id=\"text_137\">\r\n      <!-- n -->\r\n      <g transform=\"translate(533.263199 798.614404)scale(0.1 -0.1)\">\r\n       <use xlink:href=\"#DejaVuSans-110\"/>\r\n      </g>\r\n     </g>\r\n    </g>\r\n    <g id=\"xtick_84\">\r\n     <g id=\"line2d_138\">\r\n      <g>\r\n       <use style=\"stroke:#000000;stroke-width:0.8;\" x=\"563.78489\" xlink:href=\"#m6d0a379215\" y=\"784.015966\"/>\r\n      </g>\r\n     </g>\r\n     <g id=\"text_138\">\r\n      <!-- u -->\r\n      <g transform=\"translate(560.61614 798.614404)scale(0.1 -0.1)\">\r\n       <use xlink:href=\"#DejaVuSans-117\"/>\r\n      </g>\r\n     </g>\r\n    </g>\r\n   </g>\r\n   <g id=\"matplotlib.axis_16\">\r\n    <g id=\"ytick_55\">\r\n     <g id=\"line2d_139\">\r\n      <g>\r\n       <use style=\"stroke:#000000;stroke-width:0.8;\" x=\"331.28489\" xlink:href=\"#m11ae6b97b5\" y=\"606.221849\"/>\r\n      </g>\r\n     </g>\r\n     <g id=\"text_139\">\r\n      <!-- మ -->\r\n      <g transform=\"translate(307.480202 612.216692)scale(0.18 -0.18)\">\r\n       <use xlink:href=\"#Lohit-Telugu-3118\"/>\r\n      </g>\r\n     </g>\r\n    </g>\r\n    <g id=\"ytick_56\">\r\n     <g id=\"line2d_140\">\r\n      <g>\r\n       <use style=\"stroke:#000000;stroke-width:0.8;\" x=\"331.28489\" xlink:href=\"#m11ae6b97b5\" y=\"633.57479\"/>\r\n      </g>\r\n     </g>\r\n     <g id=\"text_140\">\r\n      <!-- ం -->\r\n      <g transform=\"translate(314.792702 639.569634)scale(0.18 -0.18)\">\r\n       <use xlink:href=\"#Lohit-Telugu-3074\"/>\r\n      </g>\r\n     </g>\r\n    </g>\r\n    <g id=\"ytick_57\">\r\n     <g id=\"line2d_141\">\r\n      <g>\r\n       <use style=\"stroke:#000000;stroke-width:0.8;\" x=\"331.28489\" xlink:href=\"#m11ae6b97b5\" y=\"660.927731\"/>\r\n      </g>\r\n     </g>\r\n     <g id=\"text_141\">\r\n      <!-- డ -->\r\n      <g transform=\"translate(312.47239 666.93945)scale(0.18 -0.18)\">\r\n       <use xlink:href=\"#Lohit-Telugu-3105\"/>\r\n      </g>\r\n     </g>\r\n    </g>\r\n    <g id=\"ytick_58\">\r\n     <g id=\"line2d_142\">\r\n      <g>\r\n       <use style=\"stroke:#000000;stroke-width:0.8;\" x=\"331.28489\" xlink:href=\"#m11ae6b97b5\" y=\"688.280672\"/>\r\n      </g>\r\n     </g>\r\n     <g id=\"text_142\">\r\n      <!-- ు -->\r\n      <g transform=\"translate(317.81614 694.275516)scale(0.18 -0.18)\">\r\n       <use xlink:href=\"#Lohit-Telugu-3137\"/>\r\n      </g>\r\n     </g>\r\n    </g>\r\n    <g id=\"ytick_59\">\r\n     <g id=\"line2d_143\">\r\n      <g>\r\n       <use style=\"stroke:#000000;stroke-width:0.8;\" x=\"331.28489\" xlink:href=\"#m11ae6b97b5\" y=\"715.633613\"/>\r\n      </g>\r\n     </g>\r\n     <g id=\"text_143\">\r\n      <!-- ల -->\r\n      <g transform=\"translate(313.842077 721.628457)scale(0.18 -0.18)\">\r\n       <use xlink:href=\"#Lohit-Telugu-3122\"/>\r\n      </g>\r\n     </g>\r\n    </g>\r\n    <g id=\"ytick_60\">\r\n     <g id=\"line2d_144\">\r\n      <g>\r\n       <use style=\"stroke:#000000;stroke-width:0.8;\" x=\"331.28489\" xlink:href=\"#m11ae6b97b5\" y=\"742.986555\"/>\r\n      </g>\r\n     </g>\r\n     <g id=\"text_144\">\r\n      <!-- న -->\r\n      <g transform=\"translate(313.63114 748.963117)scale(0.18 -0.18)\">\r\n       <use xlink:href=\"#Lohit-Telugu-3112\"/>\r\n      </g>\r\n     </g>\r\n    </g>\r\n    <g id=\"ytick_61\">\r\n     <g id=\"line2d_145\">\r\n      <g>\r\n       <use style=\"stroke:#000000;stroke-width:0.8;\" x=\"331.28489\" xlink:href=\"#m11ae6b97b5\" y=\"770.339496\"/>\r\n      </g>\r\n     </g>\r\n     <g id=\"text_145\">\r\n      <!-- ు -->\r\n      <g transform=\"translate(317.81614 776.33434)scale(0.18 -0.18)\">\r\n       <use xlink:href=\"#Lohit-Telugu-3137\"/>\r\n      </g>\r\n     </g>\r\n    </g>\r\n   </g>\r\n   <g id=\"patch_38\">\r\n    <path d=\"M 331.28489 784.015966 \r\nL 331.28489 592.545378 \r\n\" style=\"fill:none;stroke:#000000;stroke-linecap:square;stroke-linejoin:miter;stroke-width:0.8;\"/>\r\n   </g>\r\n   <g id=\"patch_39\">\r\n    <path d=\"M 577.46136 784.015966 \r\nL 577.46136 592.545378 \r\n\" style=\"fill:none;stroke:#000000;stroke-linecap:square;stroke-linejoin:miter;stroke-width:0.8;\"/>\r\n   </g>\r\n   <g id=\"patch_40\">\r\n    <path d=\"M 331.28489 784.015966 \r\nL 577.46136 784.015966 \r\n\" style=\"fill:none;stroke:#000000;stroke-linecap:square;stroke-linejoin:miter;stroke-width:0.8;\"/>\r\n   </g>\r\n   <g id=\"patch_41\">\r\n    <path d=\"M 331.28489 592.545378 \r\nL 577.46136 592.545378 \r\n\" style=\"fill:none;stroke:#000000;stroke-linecap:square;stroke-linejoin:miter;stroke-width:0.8;\"/>\r\n   </g>\r\n  </g>\r\n  <g id=\"axes_9\">\r\n   <g id=\"patch_42\">\r\n    <path d=\"M 626.696654 784.015966 \r\nL 872.873125 784.015966 \r\nL 872.873125 592.545378 \r\nL 626.696654 592.545378 \r\nz\r\n\" style=\"fill:#ffffff;\"/>\r\n   </g>\r\n   <g clip-path=\"url(#pfde3a8366a)\">\r\n    <image height=\"192\" id=\"imagedc5167c945\" transform=\"scale(1 -1)translate(0 -192)\" width=\"247\" x=\"626.696654\" xlink:href=\"data:image/png;base64,\r\niVBORw0KGgoAAAANSUhEUgAAAPcAAADACAYAAADY8/VGAAAD2UlEQVR4nO3dMU5VWxSA4XO9KgRjwSB0HrYkVHRMgiFYOQBrawon4kysjKEhkUvg8voXk5ez4hP5/b5+ZR9C/rurlb1ZluVhAVbZbDa/7awvX76M5p794u8A/hDihihxQ5S4IUrcECVuiBI3RIkbosQNUeKGKHFDlLghStwQtVlshcFq+/1+NHdwcLB65v7+fnSWmxuixA1R4oYocUOUuCFK3BAlbogSN0SJG6LEDVHihihxQ9Tzx/4A+LfJUz0nJyejs87OzkZzx8fHo7nJ4sj19fXoLDc3RIkbosQNUeKGKHFDlLghStwQJW6IEjdEiRuixA1R4oYocUOUrTD+OA8P61+4evv27eisDx8+jObOz89Hc58+fVo9s91uR2e5uSFK3BAlbogSN0SJG6LEDVHihihxQ5S4IUrcECVuiBI3RIkbojbLsqxfweFJmrzBtSyz962WZVkuLi5Gc5Pv/Pjx4+is3W43mtvv96O5yd822ZJbFjc3ZIkbosQNUeKGKHFDlLghStwQJW6IEjdEiRuixA1R4oYocUOUt8KeqOfP1//rpttdl5eXo7npVtj3799Xz9ze3o7O+p3bXcuyLIeHh6tnpptrbm6IEjdEiRuixA1R4oYocUOUuCFK3BAlbogSN0SJG6LEDVGeE3pk0wWEq6ur1TNv3rwZnfXt27fRHI/LzQ1R4oYocUOUuCFK3BAlbogSN0SJG6LEDVHihihxQ5S4IUrcEOU5oV/k+Ph4NPf169fR3NHR0WiOv4ebG6LEDVHihihxQ5S4IUrcECVuiBI3RIkbosQNUeKGKHFDlLghylbYL3J9fT2a+/Hjx2ju9evXq2dubm5GZ93d3Y3mHh48Q/eY3NwQJW6IEjdEiRuixA1R4oYocUOUuCFK3BAlbogSN0SJG6IsjvzEy5cvV8/sdrvRWc+ezX5fLWXwX9zcECVuiBI3RIkbosQNUeKGKHFDlLghStwQJW6IEjdEiRuixA1RtsJ+YvJ8zvTJne12O5qbbIXt9/vfdhaPz80NUeKGKHFDlLghStwQJW6IEjdEiRuixA1R4oYocUOUuCFK3BD1JLbCpu9pvXv3bjT3/v371TMvXrwYnQX/Fzc3RIkbosQNUeKGKHFDlLghStwQJW6IEjdEiRuixA1R4oYocUPUk9gKu7y8HM19/vx5NHd6ejqagz+JmxuixA1R4oYocUOUuCFK3BAlbogSN0SJG6LEDVHihihxQ9Rmu90+TAZ3u93qmVevXk2OGp0Ffzs3N0SJG6LEDVHihihxQ5S4IUrcECVuiBI3RIkbosQNUeKGKHFD1D/Gk3CmHls31AAAAABJRU5ErkJggg==\" y=\"-592.015966\"/>\r\n   </g>\r\n   <g id=\"matplotlib.axis_17\">\r\n    <g id=\"xtick_85\">\r\n     <g id=\"line2d_146\">\r\n      <g>\r\n       <use style=\"stroke:#000000;stroke-width:0.8;\" x=\"633.53489\" xlink:href=\"#m6d0a379215\" y=\"784.015966\"/>\r\n      </g>\r\n     </g>\r\n     <g id=\"text_146\">\r\n      <!-- s -->\r\n      <g transform=\"translate(630.930202 798.614404)scale(0.1 -0.1)\">\r\n       <use xlink:href=\"#DejaVuSans-115\"/>\r\n      </g>\r\n     </g>\r\n    </g>\r\n    <g id=\"xtick_86\">\r\n     <g id=\"line2d_147\">\r\n      <g>\r\n       <use style=\"stroke:#000000;stroke-width:0.8;\" x=\"647.21136\" xlink:href=\"#m6d0a379215\" y=\"784.015966\"/>\r\n      </g>\r\n     </g>\r\n     <g id=\"text_147\">\r\n      <!-- h -->\r\n      <g transform=\"translate(644.04261 798.614404)scale(0.1 -0.1)\">\r\n       <use xlink:href=\"#DejaVuSans-104\"/>\r\n      </g>\r\n     </g>\r\n    </g>\r\n    <g id=\"xtick_87\">\r\n     <g id=\"line2d_148\">\r\n      <g>\r\n       <use style=\"stroke:#000000;stroke-width:0.8;\" x=\"660.887831\" xlink:href=\"#m6d0a379215\" y=\"784.015966\"/>\r\n      </g>\r\n     </g>\r\n     <g id=\"text_148\">\r\n      <!-- a -->\r\n      <g transform=\"translate(657.823768 798.614404)scale(0.1 -0.1)\">\r\n       <use xlink:href=\"#DejaVuSans-97\"/>\r\n      </g>\r\n     </g>\r\n    </g>\r\n    <g id=\"xtick_88\">\r\n     <g id=\"line2d_149\">\r\n      <g>\r\n       <use style=\"stroke:#000000;stroke-width:0.8;\" x=\"674.564301\" xlink:href=\"#m6d0a379215\" y=\"784.015966\"/>\r\n      </g>\r\n     </g>\r\n     <g id=\"text_149\">\r\n      <!-- a -->\r\n      <g transform=\"translate(671.500239 798.614404)scale(0.1 -0.1)\">\r\n       <use xlink:href=\"#DejaVuSans-97\"/>\r\n      </g>\r\n     </g>\r\n    </g>\r\n    <g id=\"xtick_89\">\r\n     <g id=\"line2d_150\">\r\n      <g>\r\n       <use style=\"stroke:#000000;stroke-width:0.8;\" x=\"688.240772\" xlink:href=\"#m6d0a379215\" y=\"784.015966\"/>\r\n      </g>\r\n     </g>\r\n     <g id=\"text_150\">\r\n      <!-- s -->\r\n      <g transform=\"translate(685.636085 798.614404)scale(0.1 -0.1)\">\r\n       <use xlink:href=\"#DejaVuSans-115\"/>\r\n      </g>\r\n     </g>\r\n    </g>\r\n    <g id=\"xtick_90\">\r\n     <g id=\"line2d_151\">\r\n      <g>\r\n       <use style=\"stroke:#000000;stroke-width:0.8;\" x=\"701.917243\" xlink:href=\"#m6d0a379215\" y=\"784.015966\"/>\r\n      </g>\r\n     </g>\r\n     <g id=\"text_151\">\r\n      <!-- t -->\r\n      <g transform=\"translate(699.957086 798.614404)scale(0.1 -0.1)\">\r\n       <use xlink:href=\"#DejaVuSans-116\"/>\r\n      </g>\r\n     </g>\r\n    </g>\r\n    <g id=\"xtick_91\">\r\n     <g id=\"line2d_152\">\r\n      <g>\r\n       <use style=\"stroke:#000000;stroke-width:0.8;\" x=\"715.593713\" xlink:href=\"#m6d0a379215\" y=\"784.015966\"/>\r\n      </g>\r\n     </g>\r\n     <g id=\"text_152\">\r\n      <!-- r -->\r\n      <g transform=\"translate(713.538244 798.614404)scale(0.1 -0.1)\">\r\n       <use xlink:href=\"#DejaVuSans-114\"/>\r\n      </g>\r\n     </g>\r\n    </g>\r\n    <g id=\"xtick_92\">\r\n     <g id=\"line2d_153\">\r\n      <g>\r\n       <use style=\"stroke:#000000;stroke-width:0.8;\" x=\"729.270184\" xlink:href=\"#m6d0a379215\" y=\"784.015966\"/>\r\n      </g>\r\n     </g>\r\n     <g id=\"text_153\">\r\n      <!-- a -->\r\n      <g transform=\"translate(726.206121 798.614404)scale(0.1 -0.1)\">\r\n       <use xlink:href=\"#DejaVuSans-97\"/>\r\n      </g>\r\n     </g>\r\n    </g>\r\n    <g id=\"xtick_93\">\r\n     <g id=\"line2d_154\">\r\n      <g>\r\n       <use style=\"stroke:#000000;stroke-width:0.8;\" x=\"742.946654\" xlink:href=\"#m6d0a379215\" y=\"784.015966\"/>\r\n      </g>\r\n     </g>\r\n     <g id=\"text_154\">\r\n      <!-- v -->\r\n      <g transform=\"translate(739.987279 798.614404)scale(0.1 -0.1)\">\r\n       <use xlink:href=\"#DejaVuSans-118\"/>\r\n      </g>\r\n     </g>\r\n    </g>\r\n    <g id=\"xtick_94\">\r\n     <g id=\"line2d_155\">\r\n      <g>\r\n       <use style=\"stroke:#000000;stroke-width:0.8;\" x=\"756.623125\" xlink:href=\"#m6d0a379215\" y=\"784.015966\"/>\r\n      </g>\r\n     </g>\r\n     <g id=\"text_155\">\r\n      <!-- e -->\r\n      <g transform=\"translate(753.546563 798.614404)scale(0.1 -0.1)\">\r\n       <use xlink:href=\"#DejaVuSans-101\"/>\r\n      </g>\r\n     </g>\r\n    </g>\r\n    <g id=\"xtick_95\">\r\n     <g id=\"line2d_156\">\r\n      <g>\r\n       <use style=\"stroke:#000000;stroke-width:0.8;\" x=\"770.299596\" xlink:href=\"#m6d0a379215\" y=\"784.015966\"/>\r\n      </g>\r\n     </g>\r\n     <g id=\"text_156\">\r\n      <!-- e -->\r\n      <g transform=\"translate(767.223033 798.614404)scale(0.1 -0.1)\">\r\n       <use xlink:href=\"#DejaVuSans-101\"/>\r\n      </g>\r\n     </g>\r\n    </g>\r\n    <g id=\"xtick_96\">\r\n     <g id=\"line2d_157\">\r\n      <g>\r\n       <use style=\"stroke:#000000;stroke-width:0.8;\" x=\"783.976066\" xlink:href=\"#m6d0a379215\" y=\"784.015966\"/>\r\n      </g>\r\n     </g>\r\n     <g id=\"text_157\">\r\n      <!-- t -->\r\n      <g transform=\"translate(782.01591 798.614404)scale(0.1 -0.1)\">\r\n       <use xlink:href=\"#DejaVuSans-116\"/>\r\n      </g>\r\n     </g>\r\n    </g>\r\n    <g id=\"xtick_97\">\r\n     <g id=\"line2d_158\">\r\n      <g>\r\n       <use style=\"stroke:#000000;stroke-width:0.8;\" x=\"797.652537\" xlink:href=\"#m6d0a379215\" y=\"784.015966\"/>\r\n      </g>\r\n     </g>\r\n     <g id=\"text_158\">\r\n      <!-- t -->\r\n      <g transform=\"translate(795.692381 798.614404)scale(0.1 -0.1)\">\r\n       <use xlink:href=\"#DejaVuSans-116\"/>\r\n      </g>\r\n     </g>\r\n    </g>\r\n    <g id=\"xtick_98\">\r\n     <g id=\"line2d_159\">\r\n      <g>\r\n       <use style=\"stroke:#000000;stroke-width:0.8;\" x=\"811.329007\" xlink:href=\"#m6d0a379215\" y=\"784.015966\"/>\r\n      </g>\r\n     </g>\r\n     <g id=\"text_159\">\r\n      <!-- h -->\r\n      <g transform=\"translate(808.160257 798.614404)scale(0.1 -0.1)\">\r\n       <use xlink:href=\"#DejaVuSans-104\"/>\r\n      </g>\r\n     </g>\r\n    </g>\r\n    <g id=\"xtick_99\">\r\n     <g id=\"line2d_160\">\r\n      <g>\r\n       <use style=\"stroke:#000000;stroke-width:0.8;\" x=\"825.005478\" xlink:href=\"#m6d0a379215\" y=\"784.015966\"/>\r\n      </g>\r\n     </g>\r\n     <g id=\"text_160\">\r\n      <!-- a -->\r\n      <g transform=\"translate(821.941415 798.614404)scale(0.1 -0.1)\">\r\n       <use xlink:href=\"#DejaVuSans-97\"/>\r\n      </g>\r\n     </g>\r\n    </g>\r\n    <g id=\"xtick_100\">\r\n     <g id=\"line2d_161\">\r\n      <g>\r\n       <use style=\"stroke:#000000;stroke-width:0.8;\" x=\"838.681949\" xlink:href=\"#m6d0a379215\" y=\"784.015966\"/>\r\n      </g>\r\n     </g>\r\n     <g id=\"text_161\">\r\n      <!-- g -->\r\n      <g transform=\"translate(835.50773 798.614404)scale(0.1 -0.1)\">\r\n       <use xlink:href=\"#DejaVuSans-103\"/>\r\n      </g>\r\n     </g>\r\n    </g>\r\n    <g id=\"xtick_101\">\r\n     <g id=\"line2d_162\">\r\n      <g>\r\n       <use style=\"stroke:#000000;stroke-width:0.8;\" x=\"852.358419\" xlink:href=\"#m6d0a379215\" y=\"784.015966\"/>\r\n      </g>\r\n     </g>\r\n     <g id=\"text_162\">\r\n      <!-- a -->\r\n      <g transform=\"translate(849.294357 798.614404)scale(0.1 -0.1)\">\r\n       <use xlink:href=\"#DejaVuSans-97\"/>\r\n      </g>\r\n     </g>\r\n    </g>\r\n    <g id=\"xtick_102\">\r\n     <g id=\"line2d_163\">\r\n      <g>\r\n       <use style=\"stroke:#000000;stroke-width:0.8;\" x=\"866.03489\" xlink:href=\"#m6d0a379215\" y=\"784.015966\"/>\r\n      </g>\r\n     </g>\r\n     <g id=\"text_163\">\r\n      <!-- a -->\r\n      <g transform=\"translate(862.970827 798.614404)scale(0.1 -0.1)\">\r\n       <use xlink:href=\"#DejaVuSans-97\"/>\r\n      </g>\r\n     </g>\r\n    </g>\r\n   </g>\r\n   <g id=\"matplotlib.axis_18\">\r\n    <g id=\"ytick_62\">\r\n     <g id=\"line2d_164\">\r\n      <g>\r\n       <use style=\"stroke:#000000;stroke-width:0.8;\" x=\"626.696654\" xlink:href=\"#m11ae6b97b5\" y=\"599.383613\"/>\r\n      </g>\r\n     </g>\r\n     <g id=\"text_164\">\r\n      <!-- శ -->\r\n      <g transform=\"translate(610.907592 605.378457)scale(0.18 -0.18)\">\r\n       <defs>\r\n        <path d=\"M 21.09375 14.359375 \r\nQ 21.09375 11.140625 23.484375 8.796875 \r\nQ 25.875 6.453125 29.203125 6.453125 \r\nQ 32.625 6.453125 35.015625 8.796875 \r\nQ 37.40625 11.140625 37.40625 14.359375 \r\nQ 37.40625 17.78125 35.015625 20.125 \r\nQ 32.625 22.46875 29.203125 22.46875 \r\nQ 25.875 22.46875 23.484375 20.125 \r\nQ 21.09375 17.78125 21.09375 14.359375 \r\nz\r\nM 15.4375 14.75 \r\nQ 15.4375 17.96875 16.75 20.546875 \r\nQ 18.0625 23.140625 20.3125 24.421875 \r\nL 20.3125 24.8125 \r\nQ 19.34375 25.59375 17.53125 25.984375 \r\nQ 15.71875 26.375 13.28125 26.375 \r\nQ 11.140625 26.375 9.671875 25.140625 \r\nQ 8.203125 23.921875 8.203125 22.171875 \r\nQ 8.203125 20.90625 8.640625 19.734375 \r\nQ 9.078125 18.5625 9.859375 17.671875 \r\nL 3.609375 15.53125 \r\nQ 2.734375 17.875 2.296875 19.578125 \r\nQ 1.859375 21.296875 1.859375 22.171875 \r\nQ 1.859375 26.375 5.21875 29.296875 \r\nQ 8.59375 32.234375 13.28125 32.234375 \r\nQ 17.78125 32.234375 21.6875 31.15625 \r\nQ 25.59375 30.078125 28.515625 28.03125 \r\nQ 34.1875 30.078125 37.546875 32.515625 \r\nQ 40.921875 34.96875 40.921875 36.921875 \r\nQ 40.921875 39.265625 35.640625 40.875 \r\nQ 30.375 42.484375 22.859375 42.484375 \r\nL 18.75 42.484375 \r\nQ 13.09375 42.484375 8.984375 46.734375 \r\nQ 4.890625 50.984375 4.890625 56.84375 \r\nL 9.96875 56.84375 \r\nQ 9.96875 52.9375 12.640625 50.203125 \r\nQ 15.328125 47.46875 19.140625 47.46875 \r\nQ 20.515625 47.46875 22.125 48.34375 \r\nQ 23.734375 49.21875 25.390625 50.875 \r\nL 41.40625 66.21875 \r\nL 44.734375 62.984375 \r\nL 28.71875 47.5625 \r\nQ 36.328125 46.6875 41.5 43.609375 \r\nQ 46.6875 40.53125 46.6875 36.921875 \r\nQ 46.6875 34.46875 43.703125 31.59375 \r\nQ 40.71875 28.71875 35.640625 26.375 \r\nL 35.640625 25.78125 \r\nQ 38.875 23.921875 40.828125 20.75 \r\nQ 42.78125 17.578125 42.78125 14.0625 \r\nQ 42.78125 8.203125 38.671875 4.09375 \r\nQ 34.578125 0 28.8125 0 \r\nQ 23.25 0 19.34375 4.34375 \r\nQ 15.4375 8.6875 15.4375 14.75 \r\nz\r\n\" id=\"Lohit-Telugu-3126\"/>\r\n       </defs>\r\n       <use xlink:href=\"#Lohit-Telugu-3126\"/>\r\n      </g>\r\n     </g>\r\n    </g>\r\n    <g id=\"ytick_63\">\r\n     <g id=\"line2d_165\">\r\n      <g>\r\n       <use style=\"stroke:#000000;stroke-width:0.8;\" x=\"626.696654\" xlink:href=\"#m11ae6b97b5\" y=\"613.060084\"/>\r\n      </g>\r\n     </g>\r\n     <g id=\"text_165\">\r\n      <!-- ా -->\r\n      <g transform=\"translate(609.132904 619.054928)scale(0.18 -0.18)\">\r\n       <use xlink:href=\"#Lohit-Telugu-3134\"/>\r\n      </g>\r\n     </g>\r\n    </g>\r\n    <g id=\"ytick_64\">\r\n     <g id=\"line2d_166\">\r\n      <g>\r\n       <use style=\"stroke:#000000;stroke-width:0.8;\" x=\"626.696654\" xlink:href=\"#m11ae6b97b5\" y=\"626.736555\"/>\r\n      </g>\r\n     </g>\r\n     <g id=\"text_166\">\r\n      <!-- స -->\r\n      <g transform=\"translate(609.324154 632.766555)scale(0.18 -0.18)\">\r\n       <use xlink:href=\"#Lohit-Telugu-3128\"/>\r\n      </g>\r\n     </g>\r\n    </g>\r\n    <g id=\"ytick_65\">\r\n     <g id=\"line2d_167\">\r\n      <g>\r\n       <use style=\"stroke:#000000;stroke-width:0.8;\" x=\"626.696654\" xlink:href=\"#m11ae6b97b5\" y=\"640.413025\"/>\r\n      </g>\r\n     </g>\r\n     <g id=\"text_167\">\r\n      <!-- ్ -->\r\n      <g transform=\"translate(619.696654 646.407869)scale(0.18 -0.18)\">\r\n       <use xlink:href=\"#Lohit-Telugu-3149\"/>\r\n      </g>\r\n     </g>\r\n    </g>\r\n    <g id=\"ytick_66\">\r\n     <g id=\"line2d_168\">\r\n      <g>\r\n       <use style=\"stroke:#000000;stroke-width:0.8;\" x=\"626.696654\" xlink:href=\"#m11ae6b97b5\" y=\"654.089496\"/>\r\n      </g>\r\n     </g>\r\n     <g id=\"text_168\">\r\n      <!-- త -->\r\n      <g transform=\"translate(608.199154 660.08434)scale(0.18 -0.18)\">\r\n       <use xlink:href=\"#Lohit-Telugu-3108\"/>\r\n      </g>\r\n     </g>\r\n    </g>\r\n    <g id=\"ytick_67\">\r\n     <g id=\"line2d_169\">\r\n      <g>\r\n       <use style=\"stroke:#000000;stroke-width:0.8;\" x=\"626.696654\" xlink:href=\"#m11ae6b97b5\" y=\"667.765966\"/>\r\n      </g>\r\n     </g>\r\n     <g id=\"text_169\">\r\n      <!-- ్ -->\r\n      <g transform=\"translate(619.696654 673.76081)scale(0.18 -0.18)\">\r\n       <use xlink:href=\"#Lohit-Telugu-3149\"/>\r\n      </g>\r\n     </g>\r\n    </g>\r\n    <g id=\"ytick_68\">\r\n     <g id=\"line2d_170\">\r\n      <g>\r\n       <use style=\"stroke:#000000;stroke-width:0.8;\" x=\"626.696654\" xlink:href=\"#m11ae6b97b5\" y=\"681.442437\"/>\r\n      </g>\r\n     </g>\r\n     <g id=\"text_170\">\r\n      <!-- ర -->\r\n      <g transform=\"translate(610.204467 687.454156)scale(0.18 -0.18)\">\r\n       <use xlink:href=\"#Lohit-Telugu-3120\"/>\r\n      </g>\r\n     </g>\r\n    </g>\r\n    <g id=\"ytick_69\">\r\n     <g id=\"line2d_171\">\r\n      <g>\r\n       <use style=\"stroke:#000000;stroke-width:0.8;\" x=\"626.696654\" xlink:href=\"#m11ae6b97b5\" y=\"695.118908\"/>\r\n      </g>\r\n     </g>\r\n     <g id=\"text_171\">\r\n      <!-- వ -->\r\n      <g transform=\"translate(609.571654 701.113751)scale(0.18 -0.18)\">\r\n       <use xlink:href=\"#Lohit-Telugu-3125\"/>\r\n      </g>\r\n     </g>\r\n    </g>\r\n    <g id=\"ytick_70\">\r\n     <g id=\"line2d_172\">\r\n      <g>\r\n       <use style=\"stroke:#000000;stroke-width:0.8;\" x=\"626.696654\" xlink:href=\"#m11ae6b97b5\" y=\"708.795378\"/>\r\n      </g>\r\n     </g>\r\n     <g id=\"text_172\">\r\n      <!-- ీ -->\r\n      <g transform=\"translate(619.696654 714.790222)scale(0.18 -0.18)\">\r\n       <defs>\r\n        <path d=\"M -10.546875 51.5625 \r\nQ -8.59375 50.09375 -5.859375 49.265625 \r\nQ -3.125 48.4375 0.203125 48.4375 \r\nQ 4.59375 48.4375 7.71875 51.078125 \r\nQ 10.84375 53.71875 10.84375 57.515625 \r\nL 10.359375 58.015625 \r\nQ 8.6875 56.25 6.046875 55.265625 \r\nQ 3.421875 54.296875 0.203125 54.296875 \r\nQ -5.953125 54.296875 -10.296875 57.328125 \r\nQ -14.65625 60.359375 -14.65625 64.546875 \r\nQ -14.65625 67.09375 -12.796875 69.28125 \r\nQ -10.9375 71.484375 -7.90625 72.359375 \r\nL -7.90625 72.859375 \r\nQ -10.25 73.640625 -11.671875 75.53125 \r\nQ -13.09375 77.4375 -13.09375 79.890625 \r\nQ -13.09375 84.078125 -9.1875 87.0625 \r\nQ -5.28125 90.046875 0.203125 90.046875 \r\nQ 6.25 90.046875 10.453125 86.578125 \r\nQ 14.65625 83.109375 14.15625 78.515625 \r\nL 7.234375 78.515625 \r\nQ 7.234375 81.15625 5.125 83 \r\nQ 3.03125 84.859375 0.203125 84.859375 \r\nQ -2.546875 84.859375 -4.5 83.390625 \r\nQ -6.453125 81.9375 -6.453125 79.890625 \r\nQ -6.453125 78.03125 -4.4375 76.515625 \r\nQ -2.4375 75 0.484375 74.609375 \r\nQ 7.515625 73.640625 12.15625 69.28125 \r\nQ 16.796875 64.9375 16.796875 59.375 \r\nQ 16.796875 52.546875 11.90625 47.65625 \r\nQ 7.03125 42.78125 0.203125 42.78125 \r\nQ -3.03125 42.78125 -6.5 43.5625 \r\nQ -9.96875 44.34375 -13.578125 45.90625 \r\nL -10.546875 51.5625 \r\nz\r\nM -8.203125 64.546875 \r\nQ -8.203125 62.40625 -5.703125 60.984375 \r\nQ -3.21875 59.578125 0.203125 59.578125 \r\nQ 3.328125 59.578125 5.515625 60.984375 \r\nQ 7.71875 62.40625 7.71875 64.546875 \r\nQ 7.71875 66.609375 5.515625 68.109375 \r\nQ 3.328125 69.625 0.203125 69.625 \r\nQ -3.21875 69.625 -5.703125 68.109375 \r\nQ -8.203125 66.609375 -8.203125 64.546875 \r\nz\r\n\" id=\"Lohit-Telugu-3136\"/>\r\n       </defs>\r\n       <use xlink:href=\"#Lohit-Telugu-3136\"/>\r\n      </g>\r\n     </g>\r\n    </g>\r\n    <g id=\"ytick_71\">\r\n     <g id=\"line2d_173\">\r\n      <g>\r\n       <use style=\"stroke:#000000;stroke-width:0.8;\" x=\"626.696654\" xlink:href=\"#m11ae6b97b5\" y=\"722.471849\"/>\r\n      </g>\r\n     </g>\r\n     <g id=\"text_173\">\r\n      <!-- త -->\r\n      <g transform=\"translate(608.199154 728.466692)scale(0.18 -0.18)\">\r\n       <use xlink:href=\"#Lohit-Telugu-3108\"/>\r\n      </g>\r\n     </g>\r\n    </g>\r\n    <g id=\"ytick_72\">\r\n     <g id=\"line2d_174\">\r\n      <g>\r\n       <use style=\"stroke:#000000;stroke-width:0.8;\" x=\"626.696654\" xlink:href=\"#m11ae6b97b5\" y=\"736.148319\"/>\r\n      </g>\r\n     </g>\r\n     <g id=\"text_174\">\r\n      <!-- ్ -->\r\n      <g transform=\"translate(619.696654 742.143163)scale(0.18 -0.18)\">\r\n       <use xlink:href=\"#Lohit-Telugu-3149\"/>\r\n      </g>\r\n     </g>\r\n    </g>\r\n    <g id=\"ytick_73\">\r\n     <g id=\"line2d_175\">\r\n      <g>\r\n       <use style=\"stroke:#000000;stroke-width:0.8;\" x=\"626.696654\" xlink:href=\"#m11ae6b97b5\" y=\"749.82479\"/>\r\n      </g>\r\n     </g>\r\n     <g id=\"text_175\">\r\n      <!-- త -->\r\n      <g transform=\"translate(608.199154 755.819634)scale(0.18 -0.18)\">\r\n       <use xlink:href=\"#Lohit-Telugu-3108\"/>\r\n      </g>\r\n     </g>\r\n    </g>\r\n    <g id=\"ytick_74\">\r\n     <g id=\"line2d_176\">\r\n      <g>\r\n       <use style=\"stroke:#000000;stroke-width:0.8;\" x=\"626.696654\" xlink:href=\"#m11ae6b97b5\" y=\"763.501261\"/>\r\n      </g>\r\n     </g>\r\n     <g id=\"text_176\">\r\n      <!-- గ -->\r\n      <g transform=\"translate(610.572904 769.512979)scale(0.18 -0.18)\">\r\n       <use xlink:href=\"#Lohit-Telugu-3095\"/>\r\n      </g>\r\n     </g>\r\n    </g>\r\n    <g id=\"ytick_75\">\r\n     <g id=\"line2d_177\">\r\n      <g>\r\n       <use style=\"stroke:#000000;stroke-width:0.8;\" x=\"626.696654\" xlink:href=\"#m11ae6b97b5\" y=\"777.177731\"/>\r\n      </g>\r\n     </g>\r\n     <g id=\"text_177\">\r\n      <!-- ా -->\r\n      <g transform=\"translate(609.132904 783.172575)scale(0.18 -0.18)\">\r\n       <use xlink:href=\"#Lohit-Telugu-3134\"/>\r\n      </g>\r\n     </g>\r\n    </g>\r\n   </g>\r\n   <g id=\"patch_43\">\r\n    <path d=\"M 626.696654 784.015966 \r\nL 626.696654 592.545378 \r\n\" style=\"fill:none;stroke:#000000;stroke-linecap:square;stroke-linejoin:miter;stroke-width:0.8;\"/>\r\n   </g>\r\n   <g id=\"patch_44\">\r\n    <path d=\"M 872.873125 784.015966 \r\nL 872.873125 592.545378 \r\n\" style=\"fill:none;stroke:#000000;stroke-linecap:square;stroke-linejoin:miter;stroke-width:0.8;\"/>\r\n   </g>\r\n   <g id=\"patch_45\">\r\n    <path d=\"M 626.696654 784.015966 \r\nL 872.873125 784.015966 \r\n\" style=\"fill:none;stroke:#000000;stroke-linecap:square;stroke-linejoin:miter;stroke-width:0.8;\"/>\r\n   </g>\r\n   <g id=\"patch_46\">\r\n    <path d=\"M 626.696654 592.545378 \r\nL 872.873125 592.545378 \r\n\" style=\"fill:none;stroke:#000000;stroke-linecap:square;stroke-linejoin:miter;stroke-width:0.8;\"/>\r\n   </g>\r\n  </g>\r\n </g>\r\n <defs>\r\n  <clipPath id=\"p4f04b3cafb\">\r\n   <rect height=\"211.008403\" width=\"246.176471\" x=\"35.873125\" y=\"7.2\"/>\r\n  </clipPath>\r\n  <clipPath id=\"p3fe70bf054\">\r\n   <rect height=\"196.941176\" width=\"246.176471\" x=\"331.28489\" y=\"14.233613\"/>\r\n  </clipPath>\r\n  <clipPath id=\"p944af06136\">\r\n   <rect height=\"153.860294\" width=\"246.176471\" x=\"626.696654\" y=\"35.774055\"/>\r\n  </clipPath>\r\n  <clipPath id=\"pa5a0558249\">\r\n   <rect height=\"164.117647\" width=\"246.176471\" x=\"35.873125\" y=\"318.433613\"/>\r\n  </clipPath>\r\n  <clipPath id=\"pe3c250c4d6\">\r\n   <rect height=\"205.147059\" width=\"246.176471\" x=\"331.28489\" y=\"297.918908\"/>\r\n  </clipPath>\r\n  <clipPath id=\"pb09abc1185\">\r\n   <rect height=\"156.657754\" width=\"246.176471\" x=\"626.696654\" y=\"322.16356\"/>\r\n  </clipPath>\r\n  <clipPath id=\"p25e9adddae\">\r\n   <rect height=\"172.323529\" width=\"246.176471\" x=\"35.873125\" y=\"602.118908\"/>\r\n  </clipPath>\r\n  <clipPath id=\"p08390cb660\">\r\n   <rect height=\"191.470588\" width=\"246.176471\" x=\"331.28489\" y=\"592.545378\"/>\r\n  </clipPath>\r\n  <clipPath id=\"pfde3a8366a\">\r\n   <rect height=\"191.470588\" width=\"246.176471\" x=\"626.696654\" y=\"592.545378\"/>\r\n  </clipPath>\r\n </defs>\r\n</svg>\r\n",
      "image/png": "[encoded data removed]"
     },
     "metadata": {
      "needs_background": "light"
     }
    }
   ],
   "source": [
    "# coding: utf-8\n",
    "from matplotlib.font_manager import FontProperties\n",
    "\n",
    "random_indexes = []\n",
    "# outputs = []\n",
    "# inputs = []\n",
    "for i in range(9):\n",
    "    a = np.random.randint(0,len(test_outputs))\n",
    "    random_indexes.append(a)\n",
    "fig = plt.figure(figsize = (15,15))\n",
    "x = 1\n",
    "for i in range(9):\n",
    "    accruracy , z, attention = beam_evaluate_single(test_input_tensor,test_outputs,random_indexes[i],1,enc_model,dec_model,'LSTM')\n",
    "    # print(attention)\n",
    "    attention = np.asarray(np.asarray(attention)[:,0,:])\n",
    "    s = attention.shape\n",
    "    attention = attention.reshape(s[0],s[2])[:,:s[0]]\n",
    "    plt.subplot(3,3,x)\n",
    "    # print(attention.shape,attention)\n",
    "    for a, b in z:\n",
    "        decoded_word = a[1:-1]\n",
    "        expected_word = b \n",
    "    input_word = test_inputs[random_indexes[i]]\n",
    "    print(len(input_word),input_word)\n",
    "    print(len(decoded_word),decoded_word)\n",
    "    attention = attention[:len(decoded_word),:len(input_word)]\n",
    "    print(attention)\n",
    "    plt.imshow(attention,cmap='gray')\n",
    "    font_prop = FontProperties(fname='Lohit-Telugu.ttf', size=18)\n",
    "   \n",
    "    # plt.xlim(len(input_word))\n",
    "    # plt.ylim(len(input_word))\n",
    "    labels = []\n",
    "    for s in decoded_word:\n",
    "        labels.append(s)\n",
    "\n",
    "    plt.yticks(range(len(labels)),labels,fontproperties = font_prop)\n",
    "    plt.xticks(range(len(input_word)),input_word)\n",
    "    x+=1\n",
    "    \n",
    "    \n",
    "\n"
   ]
  },
  {
   "cell_type": "code",
   "execution_count": 63,
   "metadata": {},
   "outputs": [
    {
     "output_type": "stream",
     "name": "stdout",
     "text": [
      "9 maatrices\n8 మాట్రిక్\n[[{'token': 'మా', 'meta': ['Core: m a ', 'ా: a t r a '], 'heat': [1.0]}, {'token': ' ', 'format': True}, {'token': 'ట్', 'meta': ['Core: r t ', '్: i c e '], 'heat': [1.0]}, {'token': ' ', 'format': True}, {'token': 'రి', 'meta': ['Core: i ', 'ి: c '], 'heat': [1.0]}, {'token': ' ', 'format': True}, {'token': 'క్', 'meta': ['Core: e c ', '్: s '], 'heat': [1.0]}, {'token': ' ', 'format': True}]]\n"
     ]
    },
    {
     "output_type": "display_data",
     "data": {
      "text/plain": "<IPython.core.display.HTML object>",
      "text/html": "<style>.textual-heatmap .facet {\n  display: grid;\n  grid-template-columns: 1fr 60px;\n  grid-template-rows: 40px auto;\n  grid-template-areas:\n    \"meta-content .\"\n    \"token-content facet-title\";\n  margin-bottom: 0.5em;\n}\n\n.textual-heatmap .facet.hide-meta-content {\n  grid-template-rows: auto;\n  grid-template-areas:\n    \"token-content facet-title\";\n}\n\n.textual-heatmap .facet .token-content {\n  grid-area: token-content;\n\n  font-family: monospace;\n  padding: 0.5em;\n  box-sizing: border-box;\n  background: #365d8d;\n  color: white;\n  line-height: 1.4em;\n  border-radius: 0 0 0 5px;\n}\n\n.textual-heatmap .facet.hide-meta-content .token-content {\n    border-radius: 5px 0 0 5px;\n}\n\n.textual-heatmap .facet .token-content span {\n  border-bottom: 0.2em solid transparent;\n  white-space: pre-wrap;\n}\n\n.textual-heatmap .facet .token-content span.selected {\n  border-bottom-color: white;\n}\n\n.textual-heatmap .facet .meta-content {\n  grid-area: meta-content;\n  display: grid;\n  grid-template-columns: repeat(auto-fit, minmax(0px, 1fr));\n  grid-column-gap: 2px;\n  align-items: center;\n}\n\n.textual-heatmap .facet.hide-meta-content .meta-content {\n    display: none;\n}\n\n.textual-heatmap .facet .meta-content .meta-content-item {\n  display: flex;\n  justify-content: center;\n  align-items: center;\n  padding: 0 5px;\n  height: 39px;\n  background: #F3F3F3;\n  border: 1px solid #E0E0E0;\n  color: black;\n  border-bottom: none;\n  text-overflow: ellipsis;\n  overflow: hidden;\n}\n\n.textual-heatmap .facet .meta-content .meta-content-item:first-of-type {\n    border-radius: 5px 0 0 0;\n}\n\n.textual-heatmap .facet .meta-content .meta-content-item:last-of-type {\n    border-radius: 0 5px 0 0;\n}\n\n.textual-heatmap .facet .meta-content .meta-content-item:first-of-type:last-of-type {\n    border-radius: 5px 5px 0 0;\n}\n\n.textual-heatmap .facet .facet-title {\n  grid-area: facet-title;\n\n  display: flex;\n  max-width: 60px;\n  background: #EEEEEE;\n  justify-content: center;\n  color: #555555;\n  border-radius: 0 5px 5px 0;\n  border: 1px solid #E0E0E0;\n  border-left: none;\n}\n\n.textual-heatmap .facet .facet-title span {\n  align-self: center;\n  display: inline-block;\n  transform-origin: center center;\n  line-height: 1em;\n  text-align: center;\n}\n\n.textual-heatmap .facet.rotate-facet-title .facet-title span {\n  transform: translate(0, 0) rotate(90deg);\n}</style><script>;(function () {\n    'use strict';\n\n    function viridisSubset(ratio) {\n        const colormap = [\n            '#365d8d', '#355e8d', '#355f8d', '#34608d', '#34618d',\n            '#33628d', '#33638d', '#32648e', '#32658e', '#31668e',\n            '#31678e', '#31688e', '#30698e', '#306a8e', '#2f6b8e',\n            '#2f6c8e', '#2e6d8e', '#2e6e8e', '#2e6f8e', '#2d708e',\n            '#2d718e', '#2c718e', '#2c728e', '#2c738e', '#2b748e',\n            '#2b758e', '#2a768e', '#2a778e', '#2a788e', '#29798e',\n            '#297a8e', '#297b8e', '#287c8e', '#287d8e', '#277e8e',\n            '#277f8e', '#27808e', '#26818e', '#26828e', '#26828e',\n            '#25838e', '#25848e', '#25858e', '#24868e', '#24878e',\n            '#23888e', '#23898e', '#238a8d', '#228b8d', '#228c8d',\n            '#228d8d', '#218e8d', '#218f8d', '#21908d', '#21918c',\n            '#20928c', '#20928c', '#20938c', '#1f948c', '#1f958b',\n            '#1f968b', '#1f978b', '#1f988b', '#1f998a', '#1f9a8a',\n            '#1e9b8a', '#1e9c89', '#1e9d89', '#1f9e89', '#1f9f88',\n            '#1fa088', '#1fa188', '#1fa187', '#1fa287', '#20a386',\n            '#20a486', '#21a585', '#21a685', '#22a785', '#22a884',\n            '#23a983', '#24aa83', '#25ab82', '#25ac82', '#26ad81',\n            '#27ad81', '#28ae80', '#29af7f', '#2ab07f', '#2cb17e',\n            '#2db27d', '#2eb37c', '#2fb47c', '#31b57b', '#32b67a',\n            '#34b679', '#35b779'\n        ];\n        const n = colormap.length - 1;\n        return colormap[Math.max(0, Math.min(n, Math.floor(ratio * n)))];\n    }\n\n    class TextualHeatmap {\n        constructor(settings) {\n            this.container = document.getElementById(settings.id);\n            this.container.style.width = settings.width + 'px';\n            this.facets = settings.facetTitles\n                .map((facetName) => new TextualHeatmapFacet(settings, this.container, facetName));\n\n            for (let i = 0; i < this.facets.length; i++) {\n                this.facets[i].onmouseover = this.highlight.bind(this);\n            }\n        }\n\n        setData(data) {\n            for (let i = 0; i < this.facets.length; i++) {\n                this.facets[i].setData(data[i]);\n            }\n        }\n\n        highlight(index) {\n            for (let i = 0; i < this.facets.length; i++) {\n                this.facets[i].highlight(index);\n            }\n        }\n    }\n\n    class TextualHeatmapFacet {\n        constructor(settings, root, facetName) {\n            this.settings = settings;\n            this.highlightIndex = null;\n            this.nonFormatData = [];\n            this.heatIndexToNodeElement = [];\n            this.root = root;\n            this.onmouseover = null;\n\n            this.facet = document.createElement('div');\n            this.facet.classList.add('facet');\n            this.facet.classList.toggle('hide-meta-content', !settings.showMeta);\n            this.facet.classList.toggle('rotate-facet-title', settings.rotateFacetTitles);\n            this.root.appendChild(this.facet);\n\n            this.meta = document.createElement('div');\n            this.meta.classList.add('meta-content');\n            this.facet.appendChild(this.meta);\n\n            const item = document.createElement('div');\n            item.classList.add('meta-content-item');\n            this.meta.appendChild(item);\n\n            this.content = document.createElement('div');\n            this.content.classList.add('token-content');\n            this.facet.appendChild(this.content);\n\n            this.title = document.createElement('div');\n            this.title.classList.add('facet-title');\n            const titleSpan = document.createElement('span');\n            titleSpan.appendChild(document.createTextNode(facetName));\n            this.title.appendChild(titleSpan);\n            this.facet.appendChild(this.title);\n        }\n\n        setData(data) {\n            this.nonFormatData = [];\n            this.heatIndexToNodeElement = []\n\n            while (this.content.childNodes.length > 0) {\n                this.content.removeChild(this.content.firstChild);\n            }\n\n            for (let i = 0; i < data.length; i++) {\n                const tokenNode = document.createElement('span');\n                const heatIndex = this.heatIndexToNodeElement.length;\n                tokenNode.appendChild(document.createTextNode(data[i].token));\n                if (this.settings.interactive && !data[i].format) {\n                    tokenNode.addEventListener('mouseover', () => this.onmouseover(heatIndex), false);\n                    this.heatIndexToNodeElement.push(tokenNode)\n                    this.nonFormatData.push(data[i])\n                }\n                this.content.appendChild(tokenNode);\n            }\n\n            if (this.highlightIndex !== null) {\n                this.highlight(this.highlightIndex);\n            }\n        }\n\n        highlight(index) {\n            this.highlightIndex = index;\n\n            for (let i = 0; i < this.heatIndexToNodeElement.length; i++) {\n                this.heatIndexToNodeElement[i].style.backgroundColor = viridisSubset(this.nonFormatData[index].heat[i]);\n                this.heatIndexToNodeElement[i].classList.toggle('selected', i === index);\n            }\n\n            if (this.settings.showMeta) {\n                while (this.meta.childNodes.length > 0) {\n                    this.meta.removeChild(this.meta.firstChild);\n                }\n\n                for (let i = 0; i < this.nonFormatData[index].meta.length; i++) {\n                    const item = document.createElement('div');\n                    item.classList.add('meta-content-item');\n                    item.appendChild(document.createTextNode(this.nonFormatData[index].meta[i]));\n                    this.meta.appendChild(item);\n                }\n\n                if (this.nonFormatData[index].meta.length === 0) {\n                    const item = document.createElement('div');\n                    item.classList.add('meta-content-item');\n                    this.meta.appendChild(item);\n                }\n            }\n        }\n    }\n\n    window.setupTextualHeatmap = function (settings) {\n        document.getElementById(settings.id).instance = new TextualHeatmap(settings);\n    };\n\n    window.setDataTextualHeatmap = function (settings, data) {\n        document.getElementById(settings.id).instance.setData(data);\n    };\n\n    window.highlightTextualHeatmap = function (settings, index) {\n        document.getElementById(settings.id).instance.highlight(index);\n    };\n})();</script><div id=\"933adfc5-fb15-41ef-b574-3927750fca93\" class=\"textual-heatmap\"></div><script>  window.setupTextualHeatmap({\"id\": \"933adfc5-fb15-41ef-b574-3927750fca93\", \"width\": 600, \"showMeta\": true, \"facetTitles\": [\"Vis\"], \"rotateFacetTitles\": false, \"interactive\": true});</script>"
     },
     "metadata": {}
    },
    {
     "output_type": "display_data",
     "data": {
      "text/plain": "<IPython.core.display.Javascript object>",
      "application/javascript": "void(0);"
     },
     "metadata": {}
    },
    {
     "output_type": "display_data",
     "data": {
      "text/plain": "<IPython.core.display.Javascript object>",
      "application/javascript": "void(0);"
     },
     "metadata": {}
    },
    {
     "output_type": "stream",
     "name": "stdout",
     "text": [
      "9 jiraaphii\n6 జిరాఫీ\n[[{'token': 'జి', 'meta': ['Core: j i ', 'ి: r '], 'heat': [1.0]}, {'token': ' ', 'format': True}, {'token': 'రా', 'meta': ['Core: a r ', 'ా: a h p '], 'heat': [1.0]}, {'token': ' ', 'format': True}, {'token': 'ఫీ', 'meta': ['Core: h p ', 'ీ: i h i '], 'heat': [1.0]}, {'token': ' ', 'format': True}]]\n"
     ]
    },
    {
     "output_type": "display_data",
     "data": {
      "text/plain": "<IPython.core.display.HTML object>",
      "text/html": "<style>.textual-heatmap .facet {\n  display: grid;\n  grid-template-columns: 1fr 60px;\n  grid-template-rows: 40px auto;\n  grid-template-areas:\n    \"meta-content .\"\n    \"token-content facet-title\";\n  margin-bottom: 0.5em;\n}\n\n.textual-heatmap .facet.hide-meta-content {\n  grid-template-rows: auto;\n  grid-template-areas:\n    \"token-content facet-title\";\n}\n\n.textual-heatmap .facet .token-content {\n  grid-area: token-content;\n\n  font-family: monospace;\n  padding: 0.5em;\n  box-sizing: border-box;\n  background: #365d8d;\n  color: white;\n  line-height: 1.4em;\n  border-radius: 0 0 0 5px;\n}\n\n.textual-heatmap .facet.hide-meta-content .token-content {\n    border-radius: 5px 0 0 5px;\n}\n\n.textual-heatmap .facet .token-content span {\n  border-bottom: 0.2em solid transparent;\n  white-space: pre-wrap;\n}\n\n.textual-heatmap .facet .token-content span.selected {\n  border-bottom-color: white;\n}\n\n.textual-heatmap .facet .meta-content {\n  grid-area: meta-content;\n  display: grid;\n  grid-template-columns: repeat(auto-fit, minmax(0px, 1fr));\n  grid-column-gap: 2px;\n  align-items: center;\n}\n\n.textual-heatmap .facet.hide-meta-content .meta-content {\n    display: none;\n}\n\n.textual-heatmap .facet .meta-content .meta-content-item {\n  display: flex;\n  justify-content: center;\n  align-items: center;\n  padding: 0 5px;\n  height: 39px;\n  background: #F3F3F3;\n  border: 1px solid #E0E0E0;\n  color: black;\n  border-bottom: none;\n  text-overflow: ellipsis;\n  overflow: hidden;\n}\n\n.textual-heatmap .facet .meta-content .meta-content-item:first-of-type {\n    border-radius: 5px 0 0 0;\n}\n\n.textual-heatmap .facet .meta-content .meta-content-item:last-of-type {\n    border-radius: 0 5px 0 0;\n}\n\n.textual-heatmap .facet .meta-content .meta-content-item:first-of-type:last-of-type {\n    border-radius: 5px 5px 0 0;\n}\n\n.textual-heatmap .facet .facet-title {\n  grid-area: facet-title;\n\n  display: flex;\n  max-width: 60px;\n  background: #EEEEEE;\n  justify-content: center;\n  color: #555555;\n  border-radius: 0 5px 5px 0;\n  border: 1px solid #E0E0E0;\n  border-left: none;\n}\n\n.textual-heatmap .facet .facet-title span {\n  align-self: center;\n  display: inline-block;\n  transform-origin: center center;\n  line-height: 1em;\n  text-align: center;\n}\n\n.textual-heatmap .facet.rotate-facet-title .facet-title span {\n  transform: translate(0, 0) rotate(90deg);\n}</style><script>;(function () {\n    'use strict';\n\n    function viridisSubset(ratio) {\n        const colormap = [\n            '#365d8d', '#355e8d', '#355f8d', '#34608d', '#34618d',\n            '#33628d', '#33638d', '#32648e', '#32658e', '#31668e',\n            '#31678e', '#31688e', '#30698e', '#306a8e', '#2f6b8e',\n            '#2f6c8e', '#2e6d8e', '#2e6e8e', '#2e6f8e', '#2d708e',\n            '#2d718e', '#2c718e', '#2c728e', '#2c738e', '#2b748e',\n            '#2b758e', '#2a768e', '#2a778e', '#2a788e', '#29798e',\n            '#297a8e', '#297b8e', '#287c8e', '#287d8e', '#277e8e',\n            '#277f8e', '#27808e', '#26818e', '#26828e', '#26828e',\n            '#25838e', '#25848e', '#25858e', '#24868e', '#24878e',\n            '#23888e', '#23898e', '#238a8d', '#228b8d', '#228c8d',\n            '#228d8d', '#218e8d', '#218f8d', '#21908d', '#21918c',\n            '#20928c', '#20928c', '#20938c', '#1f948c', '#1f958b',\n            '#1f968b', '#1f978b', '#1f988b', '#1f998a', '#1f9a8a',\n            '#1e9b8a', '#1e9c89', '#1e9d89', '#1f9e89', '#1f9f88',\n            '#1fa088', '#1fa188', '#1fa187', '#1fa287', '#20a386',\n            '#20a486', '#21a585', '#21a685', '#22a785', '#22a884',\n            '#23a983', '#24aa83', '#25ab82', '#25ac82', '#26ad81',\n            '#27ad81', '#28ae80', '#29af7f', '#2ab07f', '#2cb17e',\n            '#2db27d', '#2eb37c', '#2fb47c', '#31b57b', '#32b67a',\n            '#34b679', '#35b779'\n        ];\n        const n = colormap.length - 1;\n        return colormap[Math.max(0, Math.min(n, Math.floor(ratio * n)))];\n    }\n\n    class TextualHeatmap {\n        constructor(settings) {\n            this.container = document.getElementById(settings.id);\n            this.container.style.width = settings.width + 'px';\n            this.facets = settings.facetTitles\n                .map((facetName) => new TextualHeatmapFacet(settings, this.container, facetName));\n\n            for (let i = 0; i < this.facets.length; i++) {\n                this.facets[i].onmouseover = this.highlight.bind(this);\n            }\n        }\n\n        setData(data) {\n            for (let i = 0; i < this.facets.length; i++) {\n                this.facets[i].setData(data[i]);\n            }\n        }\n\n        highlight(index) {\n            for (let i = 0; i < this.facets.length; i++) {\n                this.facets[i].highlight(index);\n            }\n        }\n    }\n\n    class TextualHeatmapFacet {\n        constructor(settings, root, facetName) {\n            this.settings = settings;\n            this.highlightIndex = null;\n            this.nonFormatData = [];\n            this.heatIndexToNodeElement = [];\n            this.root = root;\n            this.onmouseover = null;\n\n            this.facet = document.createElement('div');\n            this.facet.classList.add('facet');\n            this.facet.classList.toggle('hide-meta-content', !settings.showMeta);\n            this.facet.classList.toggle('rotate-facet-title', settings.rotateFacetTitles);\n            this.root.appendChild(this.facet);\n\n            this.meta = document.createElement('div');\n            this.meta.classList.add('meta-content');\n            this.facet.appendChild(this.meta);\n\n            const item = document.createElement('div');\n            item.classList.add('meta-content-item');\n            this.meta.appendChild(item);\n\n            this.content = document.createElement('div');\n            this.content.classList.add('token-content');\n            this.facet.appendChild(this.content);\n\n            this.title = document.createElement('div');\n            this.title.classList.add('facet-title');\n            const titleSpan = document.createElement('span');\n            titleSpan.appendChild(document.createTextNode(facetName));\n            this.title.appendChild(titleSpan);\n            this.facet.appendChild(this.title);\n        }\n\n        setData(data) {\n            this.nonFormatData = [];\n            this.heatIndexToNodeElement = []\n\n            while (this.content.childNodes.length > 0) {\n                this.content.removeChild(this.content.firstChild);\n            }\n\n            for (let i = 0; i < data.length; i++) {\n                const tokenNode = document.createElement('span');\n                const heatIndex = this.heatIndexToNodeElement.length;\n                tokenNode.appendChild(document.createTextNode(data[i].token));\n                if (this.settings.interactive && !data[i].format) {\n                    tokenNode.addEventListener('mouseover', () => this.onmouseover(heatIndex), false);\n                    this.heatIndexToNodeElement.push(tokenNode)\n                    this.nonFormatData.push(data[i])\n                }\n                this.content.appendChild(tokenNode);\n            }\n\n            if (this.highlightIndex !== null) {\n                this.highlight(this.highlightIndex);\n            }\n        }\n\n        highlight(index) {\n            this.highlightIndex = index;\n\n            for (let i = 0; i < this.heatIndexToNodeElement.length; i++) {\n                this.heatIndexToNodeElement[i].style.backgroundColor = viridisSubset(this.nonFormatData[index].heat[i]);\n                this.heatIndexToNodeElement[i].classList.toggle('selected', i === index);\n            }\n\n            if (this.settings.showMeta) {\n                while (this.meta.childNodes.length > 0) {\n                    this.meta.removeChild(this.meta.firstChild);\n                }\n\n                for (let i = 0; i < this.nonFormatData[index].meta.length; i++) {\n                    const item = document.createElement('div');\n                    item.classList.add('meta-content-item');\n                    item.appendChild(document.createTextNode(this.nonFormatData[index].meta[i]));\n                    this.meta.appendChild(item);\n                }\n\n                if (this.nonFormatData[index].meta.length === 0) {\n                    const item = document.createElement('div');\n                    item.classList.add('meta-content-item');\n                    this.meta.appendChild(item);\n                }\n            }\n        }\n    }\n\n    window.setupTextualHeatmap = function (settings) {\n        document.getElementById(settings.id).instance = new TextualHeatmap(settings);\n    };\n\n    window.setDataTextualHeatmap = function (settings, data) {\n        document.getElementById(settings.id).instance.setData(data);\n    };\n\n    window.highlightTextualHeatmap = function (settings, index) {\n        document.getElementById(settings.id).instance.highlight(index);\n    };\n})();</script><div id=\"77c3a755-caec-4c78-8e16-5cf58ed539d9\" class=\"textual-heatmap\"></div><script>  window.setupTextualHeatmap({\"id\": \"77c3a755-caec-4c78-8e16-5cf58ed539d9\", \"width\": 600, \"showMeta\": true, \"facetTitles\": [\"Vis\"], \"rotateFacetTitles\": false, \"interactive\": true});</script>"
     },
     "metadata": {}
    },
    {
     "output_type": "display_data",
     "data": {
      "text/plain": "<IPython.core.display.Javascript object>",
      "application/javascript": "void(0);"
     },
     "metadata": {}
    },
    {
     "output_type": "display_data",
     "data": {
      "text/plain": "<IPython.core.display.Javascript object>",
      "application/javascript": "void(0);"
     },
     "metadata": {}
    },
    {
     "output_type": "stream",
     "name": "stdout",
     "text": [
      "8 petteloe\n8 పెట్టెలో\n[[{'token': 'పె', 'meta': ['Core: p e ', 'ె: t t e e '], 'heat': [1.0]}, {'token': ' ', 'format': True}, {'token': 'ట్', 'meta': ['Core: t t e ', '్: e l t '], 'heat': [1.0]}, {'token': ' ', 'format': True}, {'token': 'టె', 'meta': ['Core: e l ', 'ె: l e '], 'heat': [1.0]}, {'token': ' ', 'format': True}, {'token': 'లో', 'meta': ['Core: l o e ', 'ో: e '], 'heat': [1.0]}, {'token': ' ', 'format': True}]]\n"
     ]
    },
    {
     "output_type": "display_data",
     "data": {
      "text/plain": "<IPython.core.display.HTML object>",
      "text/html": "<style>.textual-heatmap .facet {\n  display: grid;\n  grid-template-columns: 1fr 60px;\n  grid-template-rows: 40px auto;\n  grid-template-areas:\n    \"meta-content .\"\n    \"token-content facet-title\";\n  margin-bottom: 0.5em;\n}\n\n.textual-heatmap .facet.hide-meta-content {\n  grid-template-rows: auto;\n  grid-template-areas:\n    \"token-content facet-title\";\n}\n\n.textual-heatmap .facet .token-content {\n  grid-area: token-content;\n\n  font-family: monospace;\n  padding: 0.5em;\n  box-sizing: border-box;\n  background: #365d8d;\n  color: white;\n  line-height: 1.4em;\n  border-radius: 0 0 0 5px;\n}\n\n.textual-heatmap .facet.hide-meta-content .token-content {\n    border-radius: 5px 0 0 5px;\n}\n\n.textual-heatmap .facet .token-content span {\n  border-bottom: 0.2em solid transparent;\n  white-space: pre-wrap;\n}\n\n.textual-heatmap .facet .token-content span.selected {\n  border-bottom-color: white;\n}\n\n.textual-heatmap .facet .meta-content {\n  grid-area: meta-content;\n  display: grid;\n  grid-template-columns: repeat(auto-fit, minmax(0px, 1fr));\n  grid-column-gap: 2px;\n  align-items: center;\n}\n\n.textual-heatmap .facet.hide-meta-content .meta-content {\n    display: none;\n}\n\n.textual-heatmap .facet .meta-content .meta-content-item {\n  display: flex;\n  justify-content: center;\n  align-items: center;\n  padding: 0 5px;\n  height: 39px;\n  background: #F3F3F3;\n  border: 1px solid #E0E0E0;\n  color: black;\n  border-bottom: none;\n  text-overflow: ellipsis;\n  overflow: hidden;\n}\n\n.textual-heatmap .facet .meta-content .meta-content-item:first-of-type {\n    border-radius: 5px 0 0 0;\n}\n\n.textual-heatmap .facet .meta-content .meta-content-item:last-of-type {\n    border-radius: 0 5px 0 0;\n}\n\n.textual-heatmap .facet .meta-content .meta-content-item:first-of-type:last-of-type {\n    border-radius: 5px 5px 0 0;\n}\n\n.textual-heatmap .facet .facet-title {\n  grid-area: facet-title;\n\n  display: flex;\n  max-width: 60px;\n  background: #EEEEEE;\n  justify-content: center;\n  color: #555555;\n  border-radius: 0 5px 5px 0;\n  border: 1px solid #E0E0E0;\n  border-left: none;\n}\n\n.textual-heatmap .facet .facet-title span {\n  align-self: center;\n  display: inline-block;\n  transform-origin: center center;\n  line-height: 1em;\n  text-align: center;\n}\n\n.textual-heatmap .facet.rotate-facet-title .facet-title span {\n  transform: translate(0, 0) rotate(90deg);\n}</style><script>;(function () {\n    'use strict';\n\n    function viridisSubset(ratio) {\n        const colormap = [\n            '#365d8d', '#355e8d', '#355f8d', '#34608d', '#34618d',\n            '#33628d', '#33638d', '#32648e', '#32658e', '#31668e',\n            '#31678e', '#31688e', '#30698e', '#306a8e', '#2f6b8e',\n            '#2f6c8e', '#2e6d8e', '#2e6e8e', '#2e6f8e', '#2d708e',\n            '#2d718e', '#2c718e', '#2c728e', '#2c738e', '#2b748e',\n            '#2b758e', '#2a768e', '#2a778e', '#2a788e', '#29798e',\n            '#297a8e', '#297b8e', '#287c8e', '#287d8e', '#277e8e',\n            '#277f8e', '#27808e', '#26818e', '#26828e', '#26828e',\n            '#25838e', '#25848e', '#25858e', '#24868e', '#24878e',\n            '#23888e', '#23898e', '#238a8d', '#228b8d', '#228c8d',\n            '#228d8d', '#218e8d', '#218f8d', '#21908d', '#21918c',\n            '#20928c', '#20928c', '#20938c', '#1f948c', '#1f958b',\n            '#1f968b', '#1f978b', '#1f988b', '#1f998a', '#1f9a8a',\n            '#1e9b8a', '#1e9c89', '#1e9d89', '#1f9e89', '#1f9f88',\n            '#1fa088', '#1fa188', '#1fa187', '#1fa287', '#20a386',\n            '#20a486', '#21a585', '#21a685', '#22a785', '#22a884',\n            '#23a983', '#24aa83', '#25ab82', '#25ac82', '#26ad81',\n            '#27ad81', '#28ae80', '#29af7f', '#2ab07f', '#2cb17e',\n            '#2db27d', '#2eb37c', '#2fb47c', '#31b57b', '#32b67a',\n            '#34b679', '#35b779'\n        ];\n        const n = colormap.length - 1;\n        return colormap[Math.max(0, Math.min(n, Math.floor(ratio * n)))];\n    }\n\n    class TextualHeatmap {\n        constructor(settings) {\n            this.container = document.getElementById(settings.id);\n            this.container.style.width = settings.width + 'px';\n            this.facets = settings.facetTitles\n                .map((facetName) => new TextualHeatmapFacet(settings, this.container, facetName));\n\n            for (let i = 0; i < this.facets.length; i++) {\n                this.facets[i].onmouseover = this.highlight.bind(this);\n            }\n        }\n\n        setData(data) {\n            for (let i = 0; i < this.facets.length; i++) {\n                this.facets[i].setData(data[i]);\n            }\n        }\n\n        highlight(index) {\n            for (let i = 0; i < this.facets.length; i++) {\n                this.facets[i].highlight(index);\n            }\n        }\n    }\n\n    class TextualHeatmapFacet {\n        constructor(settings, root, facetName) {\n            this.settings = settings;\n            this.highlightIndex = null;\n            this.nonFormatData = [];\n            this.heatIndexToNodeElement = [];\n            this.root = root;\n            this.onmouseover = null;\n\n            this.facet = document.createElement('div');\n            this.facet.classList.add('facet');\n            this.facet.classList.toggle('hide-meta-content', !settings.showMeta);\n            this.facet.classList.toggle('rotate-facet-title', settings.rotateFacetTitles);\n            this.root.appendChild(this.facet);\n\n            this.meta = document.createElement('div');\n            this.meta.classList.add('meta-content');\n            this.facet.appendChild(this.meta);\n\n            const item = document.createElement('div');\n            item.classList.add('meta-content-item');\n            this.meta.appendChild(item);\n\n            this.content = document.createElement('div');\n            this.content.classList.add('token-content');\n            this.facet.appendChild(this.content);\n\n            this.title = document.createElement('div');\n            this.title.classList.add('facet-title');\n            const titleSpan = document.createElement('span');\n            titleSpan.appendChild(document.createTextNode(facetName));\n            this.title.appendChild(titleSpan);\n            this.facet.appendChild(this.title);\n        }\n\n        setData(data) {\n            this.nonFormatData = [];\n            this.heatIndexToNodeElement = []\n\n            while (this.content.childNodes.length > 0) {\n                this.content.removeChild(this.content.firstChild);\n            }\n\n            for (let i = 0; i < data.length; i++) {\n                const tokenNode = document.createElement('span');\n                const heatIndex = this.heatIndexToNodeElement.length;\n                tokenNode.appendChild(document.createTextNode(data[i].token));\n                if (this.settings.interactive && !data[i].format) {\n                    tokenNode.addEventListener('mouseover', () => this.onmouseover(heatIndex), false);\n                    this.heatIndexToNodeElement.push(tokenNode)\n                    this.nonFormatData.push(data[i])\n                }\n                this.content.appendChild(tokenNode);\n            }\n\n            if (this.highlightIndex !== null) {\n                this.highlight(this.highlightIndex);\n            }\n        }\n\n        highlight(index) {\n            this.highlightIndex = index;\n\n            for (let i = 0; i < this.heatIndexToNodeElement.length; i++) {\n                this.heatIndexToNodeElement[i].style.backgroundColor = viridisSubset(this.nonFormatData[index].heat[i]);\n                this.heatIndexToNodeElement[i].classList.toggle('selected', i === index);\n            }\n\n            if (this.settings.showMeta) {\n                while (this.meta.childNodes.length > 0) {\n                    this.meta.removeChild(this.meta.firstChild);\n                }\n\n                for (let i = 0; i < this.nonFormatData[index].meta.length; i++) {\n                    const item = document.createElement('div');\n                    item.classList.add('meta-content-item');\n                    item.appendChild(document.createTextNode(this.nonFormatData[index].meta[i]));\n                    this.meta.appendChild(item);\n                }\n\n                if (this.nonFormatData[index].meta.length === 0) {\n                    const item = document.createElement('div');\n                    item.classList.add('meta-content-item');\n                    this.meta.appendChild(item);\n                }\n            }\n        }\n    }\n\n    window.setupTextualHeatmap = function (settings) {\n        document.getElementById(settings.id).instance = new TextualHeatmap(settings);\n    };\n\n    window.setDataTextualHeatmap = function (settings, data) {\n        document.getElementById(settings.id).instance.setData(data);\n    };\n\n    window.highlightTextualHeatmap = function (settings, index) {\n        document.getElementById(settings.id).instance.highlight(index);\n    };\n})();</script><div id=\"74aed3a5-ea83-48cc-869d-46cf22b59ddc\" class=\"textual-heatmap\"></div><script>  window.setupTextualHeatmap({\"id\": \"74aed3a5-ea83-48cc-869d-46cf22b59ddc\", \"width\": 600, \"showMeta\": true, \"facetTitles\": [\"Vis\"], \"rotateFacetTitles\": false, \"interactive\": true});</script>"
     },
     "metadata": {}
    },
    {
     "output_type": "display_data",
     "data": {
      "text/plain": "<IPython.core.display.Javascript object>",
      "application/javascript": "void(0);"
     },
     "metadata": {}
    },
    {
     "output_type": "display_data",
     "data": {
      "text/plain": "<IPython.core.display.Javascript object>",
      "application/javascript": "void(0);"
     },
     "metadata": {}
    },
    {
     "output_type": "stream",
     "name": "stdout",
     "text": [
      "6 cukiie\n6 క్యూకీ\n[[{'token': 'క్', 'meta': ['Core: u ', '్: k i c '], 'heat': [1.0]}, {'token': ' ', 'format': True}, {'token': 'యూ', 'meta': ['Core: i u k ', 'ూ: k c '], 'heat': [1.0]}, {'token': ' ', 'format': True}, {'token': 'కీ', 'meta': ['Core: i k e ', 'ీ: i '], 'heat': [1.0]}, {'token': ' ', 'format': True}]]\n"
     ]
    },
    {
     "output_type": "display_data",
     "data": {
      "text/plain": "<IPython.core.display.HTML object>",
      "text/html": "<style>.textual-heatmap .facet {\n  display: grid;\n  grid-template-columns: 1fr 60px;\n  grid-template-rows: 40px auto;\n  grid-template-areas:\n    \"meta-content .\"\n    \"token-content facet-title\";\n  margin-bottom: 0.5em;\n}\n\n.textual-heatmap .facet.hide-meta-content {\n  grid-template-rows: auto;\n  grid-template-areas:\n    \"token-content facet-title\";\n}\n\n.textual-heatmap .facet .token-content {\n  grid-area: token-content;\n\n  font-family: monospace;\n  padding: 0.5em;\n  box-sizing: border-box;\n  background: #365d8d;\n  color: white;\n  line-height: 1.4em;\n  border-radius: 0 0 0 5px;\n}\n\n.textual-heatmap .facet.hide-meta-content .token-content {\n    border-radius: 5px 0 0 5px;\n}\n\n.textual-heatmap .facet .token-content span {\n  border-bottom: 0.2em solid transparent;\n  white-space: pre-wrap;\n}\n\n.textual-heatmap .facet .token-content span.selected {\n  border-bottom-color: white;\n}\n\n.textual-heatmap .facet .meta-content {\n  grid-area: meta-content;\n  display: grid;\n  grid-template-columns: repeat(auto-fit, minmax(0px, 1fr));\n  grid-column-gap: 2px;\n  align-items: center;\n}\n\n.textual-heatmap .facet.hide-meta-content .meta-content {\n    display: none;\n}\n\n.textual-heatmap .facet .meta-content .meta-content-item {\n  display: flex;\n  justify-content: center;\n  align-items: center;\n  padding: 0 5px;\n  height: 39px;\n  background: #F3F3F3;\n  border: 1px solid #E0E0E0;\n  color: black;\n  border-bottom: none;\n  text-overflow: ellipsis;\n  overflow: hidden;\n}\n\n.textual-heatmap .facet .meta-content .meta-content-item:first-of-type {\n    border-radius: 5px 0 0 0;\n}\n\n.textual-heatmap .facet .meta-content .meta-content-item:last-of-type {\n    border-radius: 0 5px 0 0;\n}\n\n.textual-heatmap .facet .meta-content .meta-content-item:first-of-type:last-of-type {\n    border-radius: 5px 5px 0 0;\n}\n\n.textual-heatmap .facet .facet-title {\n  grid-area: facet-title;\n\n  display: flex;\n  max-width: 60px;\n  background: #EEEEEE;\n  justify-content: center;\n  color: #555555;\n  border-radius: 0 5px 5px 0;\n  border: 1px solid #E0E0E0;\n  border-left: none;\n}\n\n.textual-heatmap .facet .facet-title span {\n  align-self: center;\n  display: inline-block;\n  transform-origin: center center;\n  line-height: 1em;\n  text-align: center;\n}\n\n.textual-heatmap .facet.rotate-facet-title .facet-title span {\n  transform: translate(0, 0) rotate(90deg);\n}</style><script>;(function () {\n    'use strict';\n\n    function viridisSubset(ratio) {\n        const colormap = [\n            '#365d8d', '#355e8d', '#355f8d', '#34608d', '#34618d',\n            '#33628d', '#33638d', '#32648e', '#32658e', '#31668e',\n            '#31678e', '#31688e', '#30698e', '#306a8e', '#2f6b8e',\n            '#2f6c8e', '#2e6d8e', '#2e6e8e', '#2e6f8e', '#2d708e',\n            '#2d718e', '#2c718e', '#2c728e', '#2c738e', '#2b748e',\n            '#2b758e', '#2a768e', '#2a778e', '#2a788e', '#29798e',\n            '#297a8e', '#297b8e', '#287c8e', '#287d8e', '#277e8e',\n            '#277f8e', '#27808e', '#26818e', '#26828e', '#26828e',\n            '#25838e', '#25848e', '#25858e', '#24868e', '#24878e',\n            '#23888e', '#23898e', '#238a8d', '#228b8d', '#228c8d',\n            '#228d8d', '#218e8d', '#218f8d', '#21908d', '#21918c',\n            '#20928c', '#20928c', '#20938c', '#1f948c', '#1f958b',\n            '#1f968b', '#1f978b', '#1f988b', '#1f998a', '#1f9a8a',\n            '#1e9b8a', '#1e9c89', '#1e9d89', '#1f9e89', '#1f9f88',\n            '#1fa088', '#1fa188', '#1fa187', '#1fa287', '#20a386',\n            '#20a486', '#21a585', '#21a685', '#22a785', '#22a884',\n            '#23a983', '#24aa83', '#25ab82', '#25ac82', '#26ad81',\n            '#27ad81', '#28ae80', '#29af7f', '#2ab07f', '#2cb17e',\n            '#2db27d', '#2eb37c', '#2fb47c', '#31b57b', '#32b67a',\n            '#34b679', '#35b779'\n        ];\n        const n = colormap.length - 1;\n        return colormap[Math.max(0, Math.min(n, Math.floor(ratio * n)))];\n    }\n\n    class TextualHeatmap {\n        constructor(settings) {\n            this.container = document.getElementById(settings.id);\n            this.container.style.width = settings.width + 'px';\n            this.facets = settings.facetTitles\n                .map((facetName) => new TextualHeatmapFacet(settings, this.container, facetName));\n\n            for (let i = 0; i < this.facets.length; i++) {\n                this.facets[i].onmouseover = this.highlight.bind(this);\n            }\n        }\n\n        setData(data) {\n            for (let i = 0; i < this.facets.length; i++) {\n                this.facets[i].setData(data[i]);\n            }\n        }\n\n        highlight(index) {\n            for (let i = 0; i < this.facets.length; i++) {\n                this.facets[i].highlight(index);\n            }\n        }\n    }\n\n    class TextualHeatmapFacet {\n        constructor(settings, root, facetName) {\n            this.settings = settings;\n            this.highlightIndex = null;\n            this.nonFormatData = [];\n            this.heatIndexToNodeElement = [];\n            this.root = root;\n            this.onmouseover = null;\n\n            this.facet = document.createElement('div');\n            this.facet.classList.add('facet');\n            this.facet.classList.toggle('hide-meta-content', !settings.showMeta);\n            this.facet.classList.toggle('rotate-facet-title', settings.rotateFacetTitles);\n            this.root.appendChild(this.facet);\n\n            this.meta = document.createElement('div');\n            this.meta.classList.add('meta-content');\n            this.facet.appendChild(this.meta);\n\n            const item = document.createElement('div');\n            item.classList.add('meta-content-item');\n            this.meta.appendChild(item);\n\n            this.content = document.createElement('div');\n            this.content.classList.add('token-content');\n            this.facet.appendChild(this.content);\n\n            this.title = document.createElement('div');\n            this.title.classList.add('facet-title');\n            const titleSpan = document.createElement('span');\n            titleSpan.appendChild(document.createTextNode(facetName));\n            this.title.appendChild(titleSpan);\n            this.facet.appendChild(this.title);\n        }\n\n        setData(data) {\n            this.nonFormatData = [];\n            this.heatIndexToNodeElement = []\n\n            while (this.content.childNodes.length > 0) {\n                this.content.removeChild(this.content.firstChild);\n            }\n\n            for (let i = 0; i < data.length; i++) {\n                const tokenNode = document.createElement('span');\n                const heatIndex = this.heatIndexToNodeElement.length;\n                tokenNode.appendChild(document.createTextNode(data[i].token));\n                if (this.settings.interactive && !data[i].format) {\n                    tokenNode.addEventListener('mouseover', () => this.onmouseover(heatIndex), false);\n                    this.heatIndexToNodeElement.push(tokenNode)\n                    this.nonFormatData.push(data[i])\n                }\n                this.content.appendChild(tokenNode);\n            }\n\n            if (this.highlightIndex !== null) {\n                this.highlight(this.highlightIndex);\n            }\n        }\n\n        highlight(index) {\n            this.highlightIndex = index;\n\n            for (let i = 0; i < this.heatIndexToNodeElement.length; i++) {\n                this.heatIndexToNodeElement[i].style.backgroundColor = viridisSubset(this.nonFormatData[index].heat[i]);\n                this.heatIndexToNodeElement[i].classList.toggle('selected', i === index);\n            }\n\n            if (this.settings.showMeta) {\n                while (this.meta.childNodes.length > 0) {\n                    this.meta.removeChild(this.meta.firstChild);\n                }\n\n                for (let i = 0; i < this.nonFormatData[index].meta.length; i++) {\n                    const item = document.createElement('div');\n                    item.classList.add('meta-content-item');\n                    item.appendChild(document.createTextNode(this.nonFormatData[index].meta[i]));\n                    this.meta.appendChild(item);\n                }\n\n                if (this.nonFormatData[index].meta.length === 0) {\n                    const item = document.createElement('div');\n                    item.classList.add('meta-content-item');\n                    this.meta.appendChild(item);\n                }\n            }\n        }\n    }\n\n    window.setupTextualHeatmap = function (settings) {\n        document.getElementById(settings.id).instance = new TextualHeatmap(settings);\n    };\n\n    window.setDataTextualHeatmap = function (settings, data) {\n        document.getElementById(settings.id).instance.setData(data);\n    };\n\n    window.highlightTextualHeatmap = function (settings, index) {\n        document.getElementById(settings.id).instance.highlight(index);\n    };\n})();</script><div id=\"b20c8819-bf14-486f-a998-a4a95dab22c0\" class=\"textual-heatmap\"></div><script>  window.setupTextualHeatmap({\"id\": \"b20c8819-bf14-486f-a998-a4a95dab22c0\", \"width\": 600, \"showMeta\": true, \"facetTitles\": [\"Vis\"], \"rotateFacetTitles\": false, \"interactive\": true});</script>"
     },
     "metadata": {}
    },
    {
     "output_type": "display_data",
     "data": {
      "text/plain": "<IPython.core.display.Javascript object>",
      "application/javascript": "void(0);"
     },
     "metadata": {}
    },
    {
     "output_type": "display_data",
     "data": {
      "text/plain": "<IPython.core.display.Javascript object>",
      "application/javascript": "void(0);"
     },
     "metadata": {}
    },
    {
     "output_type": "stream",
     "name": "stdout",
     "text": [
      "5 enadu\n4 ఎనడు\n[[{'token': 'ఎ', 'meta': ['Core: e '], 'heat': [1.0]}, {'token': ' ', 'format': True}, {'token': 'న', 'meta': ['Core: a n '], 'heat': [1.0]}, {'token': ' ', 'format': True}, {'token': 'డు', 'meta': ['Core: d u ', 'ు: '], 'heat': [1.0]}, {'token': ' ', 'format': True}]]\n"
     ]
    },
    {
     "output_type": "display_data",
     "data": {
      "text/plain": "<IPython.core.display.HTML object>",
      "text/html": "<style>.textual-heatmap .facet {\n  display: grid;\n  grid-template-columns: 1fr 60px;\n  grid-template-rows: 40px auto;\n  grid-template-areas:\n    \"meta-content .\"\n    \"token-content facet-title\";\n  margin-bottom: 0.5em;\n}\n\n.textual-heatmap .facet.hide-meta-content {\n  grid-template-rows: auto;\n  grid-template-areas:\n    \"token-content facet-title\";\n}\n\n.textual-heatmap .facet .token-content {\n  grid-area: token-content;\n\n  font-family: monospace;\n  padding: 0.5em;\n  box-sizing: border-box;\n  background: #365d8d;\n  color: white;\n  line-height: 1.4em;\n  border-radius: 0 0 0 5px;\n}\n\n.textual-heatmap .facet.hide-meta-content .token-content {\n    border-radius: 5px 0 0 5px;\n}\n\n.textual-heatmap .facet .token-content span {\n  border-bottom: 0.2em solid transparent;\n  white-space: pre-wrap;\n}\n\n.textual-heatmap .facet .token-content span.selected {\n  border-bottom-color: white;\n}\n\n.textual-heatmap .facet .meta-content {\n  grid-area: meta-content;\n  display: grid;\n  grid-template-columns: repeat(auto-fit, minmax(0px, 1fr));\n  grid-column-gap: 2px;\n  align-items: center;\n}\n\n.textual-heatmap .facet.hide-meta-content .meta-content {\n    display: none;\n}\n\n.textual-heatmap .facet .meta-content .meta-content-item {\n  display: flex;\n  justify-content: center;\n  align-items: center;\n  padding: 0 5px;\n  height: 39px;\n  background: #F3F3F3;\n  border: 1px solid #E0E0E0;\n  color: black;\n  border-bottom: none;\n  text-overflow: ellipsis;\n  overflow: hidden;\n}\n\n.textual-heatmap .facet .meta-content .meta-content-item:first-of-type {\n    border-radius: 5px 0 0 0;\n}\n\n.textual-heatmap .facet .meta-content .meta-content-item:last-of-type {\n    border-radius: 0 5px 0 0;\n}\n\n.textual-heatmap .facet .meta-content .meta-content-item:first-of-type:last-of-type {\n    border-radius: 5px 5px 0 0;\n}\n\n.textual-heatmap .facet .facet-title {\n  grid-area: facet-title;\n\n  display: flex;\n  max-width: 60px;\n  background: #EEEEEE;\n  justify-content: center;\n  color: #555555;\n  border-radius: 0 5px 5px 0;\n  border: 1px solid #E0E0E0;\n  border-left: none;\n}\n\n.textual-heatmap .facet .facet-title span {\n  align-self: center;\n  display: inline-block;\n  transform-origin: center center;\n  line-height: 1em;\n  text-align: center;\n}\n\n.textual-heatmap .facet.rotate-facet-title .facet-title span {\n  transform: translate(0, 0) rotate(90deg);\n}</style><script>;(function () {\n    'use strict';\n\n    function viridisSubset(ratio) {\n        const colormap = [\n            '#365d8d', '#355e8d', '#355f8d', '#34608d', '#34618d',\n            '#33628d', '#33638d', '#32648e', '#32658e', '#31668e',\n            '#31678e', '#31688e', '#30698e', '#306a8e', '#2f6b8e',\n            '#2f6c8e', '#2e6d8e', '#2e6e8e', '#2e6f8e', '#2d708e',\n            '#2d718e', '#2c718e', '#2c728e', '#2c738e', '#2b748e',\n            '#2b758e', '#2a768e', '#2a778e', '#2a788e', '#29798e',\n            '#297a8e', '#297b8e', '#287c8e', '#287d8e', '#277e8e',\n            '#277f8e', '#27808e', '#26818e', '#26828e', '#26828e',\n            '#25838e', '#25848e', '#25858e', '#24868e', '#24878e',\n            '#23888e', '#23898e', '#238a8d', '#228b8d', '#228c8d',\n            '#228d8d', '#218e8d', '#218f8d', '#21908d', '#21918c',\n            '#20928c', '#20928c', '#20938c', '#1f948c', '#1f958b',\n            '#1f968b', '#1f978b', '#1f988b', '#1f998a', '#1f9a8a',\n            '#1e9b8a', '#1e9c89', '#1e9d89', '#1f9e89', '#1f9f88',\n            '#1fa088', '#1fa188', '#1fa187', '#1fa287', '#20a386',\n            '#20a486', '#21a585', '#21a685', '#22a785', '#22a884',\n            '#23a983', '#24aa83', '#25ab82', '#25ac82', '#26ad81',\n            '#27ad81', '#28ae80', '#29af7f', '#2ab07f', '#2cb17e',\n            '#2db27d', '#2eb37c', '#2fb47c', '#31b57b', '#32b67a',\n            '#34b679', '#35b779'\n        ];\n        const n = colormap.length - 1;\n        return colormap[Math.max(0, Math.min(n, Math.floor(ratio * n)))];\n    }\n\n    class TextualHeatmap {\n        constructor(settings) {\n            this.container = document.getElementById(settings.id);\n            this.container.style.width = settings.width + 'px';\n            this.facets = settings.facetTitles\n                .map((facetName) => new TextualHeatmapFacet(settings, this.container, facetName));\n\n            for (let i = 0; i < this.facets.length; i++) {\n                this.facets[i].onmouseover = this.highlight.bind(this);\n            }\n        }\n\n        setData(data) {\n            for (let i = 0; i < this.facets.length; i++) {\n                this.facets[i].setData(data[i]);\n            }\n        }\n\n        highlight(index) {\n            for (let i = 0; i < this.facets.length; i++) {\n                this.facets[i].highlight(index);\n            }\n        }\n    }\n\n    class TextualHeatmapFacet {\n        constructor(settings, root, facetName) {\n            this.settings = settings;\n            this.highlightIndex = null;\n            this.nonFormatData = [];\n            this.heatIndexToNodeElement = [];\n            this.root = root;\n            this.onmouseover = null;\n\n            this.facet = document.createElement('div');\n            this.facet.classList.add('facet');\n            this.facet.classList.toggle('hide-meta-content', !settings.showMeta);\n            this.facet.classList.toggle('rotate-facet-title', settings.rotateFacetTitles);\n            this.root.appendChild(this.facet);\n\n            this.meta = document.createElement('div');\n            this.meta.classList.add('meta-content');\n            this.facet.appendChild(this.meta);\n\n            const item = document.createElement('div');\n            item.classList.add('meta-content-item');\n            this.meta.appendChild(item);\n\n            this.content = document.createElement('div');\n            this.content.classList.add('token-content');\n            this.facet.appendChild(this.content);\n\n            this.title = document.createElement('div');\n            this.title.classList.add('facet-title');\n            const titleSpan = document.createElement('span');\n            titleSpan.appendChild(document.createTextNode(facetName));\n            this.title.appendChild(titleSpan);\n            this.facet.appendChild(this.title);\n        }\n\n        setData(data) {\n            this.nonFormatData = [];\n            this.heatIndexToNodeElement = []\n\n            while (this.content.childNodes.length > 0) {\n                this.content.removeChild(this.content.firstChild);\n            }\n\n            for (let i = 0; i < data.length; i++) {\n                const tokenNode = document.createElement('span');\n                const heatIndex = this.heatIndexToNodeElement.length;\n                tokenNode.appendChild(document.createTextNode(data[i].token));\n                if (this.settings.interactive && !data[i].format) {\n                    tokenNode.addEventListener('mouseover', () => this.onmouseover(heatIndex), false);\n                    this.heatIndexToNodeElement.push(tokenNode)\n                    this.nonFormatData.push(data[i])\n                }\n                this.content.appendChild(tokenNode);\n            }\n\n            if (this.highlightIndex !== null) {\n                this.highlight(this.highlightIndex);\n            }\n        }\n\n        highlight(index) {\n            this.highlightIndex = index;\n\n            for (let i = 0; i < this.heatIndexToNodeElement.length; i++) {\n                this.heatIndexToNodeElement[i].style.backgroundColor = viridisSubset(this.nonFormatData[index].heat[i]);\n                this.heatIndexToNodeElement[i].classList.toggle('selected', i === index);\n            }\n\n            if (this.settings.showMeta) {\n                while (this.meta.childNodes.length > 0) {\n                    this.meta.removeChild(this.meta.firstChild);\n                }\n\n                for (let i = 0; i < this.nonFormatData[index].meta.length; i++) {\n                    const item = document.createElement('div');\n                    item.classList.add('meta-content-item');\n                    item.appendChild(document.createTextNode(this.nonFormatData[index].meta[i]));\n                    this.meta.appendChild(item);\n                }\n\n                if (this.nonFormatData[index].meta.length === 0) {\n                    const item = document.createElement('div');\n                    item.classList.add('meta-content-item');\n                    this.meta.appendChild(item);\n                }\n            }\n        }\n    }\n\n    window.setupTextualHeatmap = function (settings) {\n        document.getElementById(settings.id).instance = new TextualHeatmap(settings);\n    };\n\n    window.setDataTextualHeatmap = function (settings, data) {\n        document.getElementById(settings.id).instance.setData(data);\n    };\n\n    window.highlightTextualHeatmap = function (settings, index) {\n        document.getElementById(settings.id).instance.highlight(index);\n    };\n})();</script><div id=\"2498cbf9-4e3b-4e9b-ba54-f93e5a7e7c7b\" class=\"textual-heatmap\"></div><script>  window.setupTextualHeatmap({\"id\": \"2498cbf9-4e3b-4e9b-ba54-f93e5a7e7c7b\", \"width\": 600, \"showMeta\": true, \"facetTitles\": [\"Vis\"], \"rotateFacetTitles\": false, \"interactive\": true});</script>"
     },
     "metadata": {}
    },
    {
     "output_type": "display_data",
     "data": {
      "text/plain": "<IPython.core.display.Javascript object>",
      "application/javascript": "void(0);"
     },
     "metadata": {}
    },
    {
     "output_type": "display_data",
     "data": {
      "text/plain": "<IPython.core.display.Javascript object>",
      "application/javascript": "void(0);"
     },
     "metadata": {}
    }
   ],
   "source": [
    "# coding: utf-8\n",
    "from matplotlib.font_manager import FontProperties\n",
    "\n",
    "random_indexes = []\n",
    "# outputs = []\n",
    "# inputs = []\n",
    "for i in range(9):\n",
    "    a = np.random.randint(0,len(test_outputs))\n",
    "    random_indexes.append(a)\n",
    "# fig = plt.figure(figsize = (15,15))\n",
    "x = 1\n",
    "for i in range(5):\n",
    "    accruracy , z, attention = beam_evaluate_single(test_input_tensor,test_outputs,random_indexes[i],1,enc_model,dec_model,'LSTM')\n",
    "    # print(attention)\n",
    "    attention = np.asarray(np.asarray(attention)[:,0,:])\n",
    "    s = attention.shape\n",
    "    attention = attention.reshape(s[0],s[2])[:,:s[0]]\n",
    "    # plt.subplot(3,3,x)\n",
    "    # print(attention.shape,attention)\n",
    "    for a, b in z:\n",
    "        decoded_word = a[1:-1]\n",
    "        expected_word = b \n",
    "    input_word = test_inputs[random_indexes[i]]\n",
    "    print(len(input_word),input_word)\n",
    "    print(len(decoded_word),decoded_word)\n",
    "    attention = attention[:len(decoded_word),:len(input_word)]\n",
    "    data = data_string2(attention,decoded_word,input_word)\n",
    "    print(data)\n",
    "    heatmap = TextualHeatmap(facet_titles = ['Vis'], show_meta=True)\n",
    "    heatmap.set_data(data)\n",
    "    heatmap.highlight(159)"
   ]
  },
  {
   "cell_type": "code",
   "execution_count": 65,
   "metadata": {},
   "outputs": [
    {
     "output_type": "stream",
     "name": "stderr",
     "text": [
      "C:\\Users\\HP\\AppData\\Local\\Programs\\Python\\Python37\\lib\\site-packages\\tensorflow\\python\\data\\ops\\dataset_ops.py:3504: UserWarning: Even though the tf.config.experimental_run_functions_eagerly option is set, this option does not apply to tf.data functions. tf.data functions are still traced and executed as graphs.\n",
      "  \"Even though the tf.config.experimental_run_functions_eagerly \"\n",
      "6 darjee\n",
      "6 డార్జీ\n",
      "[[{'token': 'డ', 'meta': ['d', 'a'], 'heat': [1.0]}, {'token': ' ', 'format': False}, {'token': 'ా', 'meta': ['r', 'j', 'd', 'a'], 'heat': [1.0]}, {'token': ' ', 'format': False}, {'token': 'ర', 'meta': ['r', 'j'], 'heat': [1.0]}, {'token': ' ', 'format': False}, {'token': '్', 'meta': ['e'], 'heat': [1.0]}, {'token': ' ', 'format': False}, {'token': 'జ', 'meta': ['e', 'j'], 'heat': [1.0]}, {'token': ' ', 'format': False}, {'token': 'ీ', 'meta': ['e'], 'heat': [1.0]}, {'token': ' ', 'format': False}]]\n"
     ]
    },
    {
     "output_type": "display_data",
     "data": {
      "text/plain": "<IPython.core.display.HTML object>",
      "text/html": "<style>.textual-heatmap .facet {\n  display: grid;\n  grid-template-columns: 1fr 60px;\n  grid-template-rows: 40px auto;\n  grid-template-areas:\n    \"meta-content .\"\n    \"token-content facet-title\";\n  margin-bottom: 0.5em;\n}\n\n.textual-heatmap .facet.hide-meta-content {\n  grid-template-rows: auto;\n  grid-template-areas:\n    \"token-content facet-title\";\n}\n\n.textual-heatmap .facet .token-content {\n  grid-area: token-content;\n\n  font-family: monospace;\n  padding: 0.5em;\n  box-sizing: border-box;\n  background: #365d8d;\n  color: white;\n  line-height: 1.4em;\n  border-radius: 0 0 0 5px;\n}\n\n.textual-heatmap .facet.hide-meta-content .token-content {\n    border-radius: 5px 0 0 5px;\n}\n\n.textual-heatmap .facet .token-content span {\n  border-bottom: 0.2em solid transparent;\n  white-space: pre-wrap;\n}\n\n.textual-heatmap .facet .token-content span.selected {\n  border-bottom-color: white;\n}\n\n.textual-heatmap .facet .meta-content {\n  grid-area: meta-content;\n  display: grid;\n  grid-template-columns: repeat(auto-fit, minmax(0px, 1fr));\n  grid-column-gap: 2px;\n  align-items: center;\n}\n\n.textual-heatmap .facet.hide-meta-content .meta-content {\n    display: none;\n}\n\n.textual-heatmap .facet .meta-content .meta-content-item {\n  display: flex;\n  justify-content: center;\n  align-items: center;\n  padding: 0 5px;\n  height: 39px;\n  background: #F3F3F3;\n  border: 1px solid #E0E0E0;\n  color: black;\n  border-bottom: none;\n  text-overflow: ellipsis;\n  overflow: hidden;\n}\n\n.textual-heatmap .facet .meta-content .meta-content-item:first-of-type {\n    border-radius: 5px 0 0 0;\n}\n\n.textual-heatmap .facet .meta-content .meta-content-item:last-of-type {\n    border-radius: 0 5px 0 0;\n}\n\n.textual-heatmap .facet .meta-content .meta-content-item:first-of-type:last-of-type {\n    border-radius: 5px 5px 0 0;\n}\n\n.textual-heatmap .facet .facet-title {\n  grid-area: facet-title;\n\n  display: flex;\n  max-width: 60px;\n  background: #EEEEEE;\n  justify-content: center;\n  color: #555555;\n  border-radius: 0 5px 5px 0;\n  border: 1px solid #E0E0E0;\n  border-left: none;\n}\n\n.textual-heatmap .facet .facet-title span {\n  align-self: center;\n  display: inline-block;\n  transform-origin: center center;\n  line-height: 1em;\n  text-align: center;\n}\n\n.textual-heatmap .facet.rotate-facet-title .facet-title span {\n  transform: translate(0, 0) rotate(90deg);\n}</style><script>;(function () {\n    'use strict';\n\n    function viridisSubset(ratio) {\n        const colormap = [\n            '#365d8d', '#355e8d', '#355f8d', '#34608d', '#34618d',\n            '#33628d', '#33638d', '#32648e', '#32658e', '#31668e',\n            '#31678e', '#31688e', '#30698e', '#306a8e', '#2f6b8e',\n            '#2f6c8e', '#2e6d8e', '#2e6e8e', '#2e6f8e', '#2d708e',\n            '#2d718e', '#2c718e', '#2c728e', '#2c738e', '#2b748e',\n            '#2b758e', '#2a768e', '#2a778e', '#2a788e', '#29798e',\n            '#297a8e', '#297b8e', '#287c8e', '#287d8e', '#277e8e',\n            '#277f8e', '#27808e', '#26818e', '#26828e', '#26828e',\n            '#25838e', '#25848e', '#25858e', '#24868e', '#24878e',\n            '#23888e', '#23898e', '#238a8d', '#228b8d', '#228c8d',\n            '#228d8d', '#218e8d', '#218f8d', '#21908d', '#21918c',\n            '#20928c', '#20928c', '#20938c', '#1f948c', '#1f958b',\n            '#1f968b', '#1f978b', '#1f988b', '#1f998a', '#1f9a8a',\n            '#1e9b8a', '#1e9c89', '#1e9d89', '#1f9e89', '#1f9f88',\n            '#1fa088', '#1fa188', '#1fa187', '#1fa287', '#20a386',\n            '#20a486', '#21a585', '#21a685', '#22a785', '#22a884',\n            '#23a983', '#24aa83', '#25ab82', '#25ac82', '#26ad81',\n            '#27ad81', '#28ae80', '#29af7f', '#2ab07f', '#2cb17e',\n            '#2db27d', '#2eb37c', '#2fb47c', '#31b57b', '#32b67a',\n            '#34b679', '#35b779'\n        ];\n        const n = colormap.length - 1;\n        return colormap[Math.max(0, Math.min(n, Math.floor(ratio * n)))];\n    }\n\n    class TextualHeatmap {\n        constructor(settings) {\n            this.container = document.getElementById(settings.id);\n            this.container.style.width = settings.width + 'px';\n            this.facets = settings.facetTitles\n                .map((facetName) => new TextualHeatmapFacet(settings, this.container, facetName));\n\n            for (let i = 0; i < this.facets.length; i++) {\n                this.facets[i].onmouseover = this.highlight.bind(this);\n            }\n        }\n\n        setData(data) {\n            for (let i = 0; i < this.facets.length; i++) {\n                this.facets[i].setData(data[i]);\n            }\n        }\n\n        highlight(index) {\n            for (let i = 0; i < this.facets.length; i++) {\n                this.facets[i].highlight(index);\n            }\n        }\n    }\n\n    class TextualHeatmapFacet {\n        constructor(settings, root, facetName) {\n            this.settings = settings;\n            this.highlightIndex = null;\n            this.nonFormatData = [];\n            this.heatIndexToNodeElement = [];\n            this.root = root;\n            this.onmouseover = null;\n\n            this.facet = document.createElement('div');\n            this.facet.classList.add('facet');\n            this.facet.classList.toggle('hide-meta-content', !settings.showMeta);\n            this.facet.classList.toggle('rotate-facet-title', settings.rotateFacetTitles);\n            this.root.appendChild(this.facet);\n\n            this.meta = document.createElement('div');\n            this.meta.classList.add('meta-content');\n            this.facet.appendChild(this.meta);\n\n            const item = document.createElement('div');\n            item.classList.add('meta-content-item');\n            this.meta.appendChild(item);\n\n            this.content = document.createElement('div');\n            this.content.classList.add('token-content');\n            this.facet.appendChild(this.content);\n\n            this.title = document.createElement('div');\n            this.title.classList.add('facet-title');\n            const titleSpan = document.createElement('span');\n            titleSpan.appendChild(document.createTextNode(facetName));\n            this.title.appendChild(titleSpan);\n            this.facet.appendChild(this.title);\n        }\n\n        setData(data) {\n            this.nonFormatData = [];\n            this.heatIndexToNodeElement = []\n\n            while (this.content.childNodes.length > 0) {\n                this.content.removeChild(this.content.firstChild);\n            }\n\n            for (let i = 0; i < data.length; i++) {\n                const tokenNode = document.createElement('span');\n                const heatIndex = this.heatIndexToNodeElement.length;\n                tokenNode.appendChild(document.createTextNode(data[i].token));\n                if (this.settings.interactive && !data[i].format) {\n                    tokenNode.addEventListener('mouseover', () => this.onmouseover(heatIndex), false);\n                    this.heatIndexToNodeElement.push(tokenNode)\n                    this.nonFormatData.push(data[i])\n                }\n                this.content.appendChild(tokenNode);\n            }\n\n            if (this.highlightIndex !== null) {\n                this.highlight(this.highlightIndex);\n            }\n        }\n\n        highlight(index) {\n            this.highlightIndex = index;\n\n            for (let i = 0; i < this.heatIndexToNodeElement.length; i++) {\n                this.heatIndexToNodeElement[i].style.backgroundColor = viridisSubset(this.nonFormatData[index].heat[i]);\n                this.heatIndexToNodeElement[i].classList.toggle('selected', i === index);\n            }\n\n            if (this.settings.showMeta) {\n                while (this.meta.childNodes.length > 0) {\n                    this.meta.removeChild(this.meta.firstChild);\n                }\n\n                for (let i = 0; i < this.nonFormatData[index].meta.length; i++) {\n                    const item = document.createElement('div');\n                    item.classList.add('meta-content-item');\n                    item.appendChild(document.createTextNode(this.nonFormatData[index].meta[i]));\n                    this.meta.appendChild(item);\n                }\n\n                if (this.nonFormatData[index].meta.length === 0) {\n                    const item = document.createElement('div');\n                    item.classList.add('meta-content-item');\n                    this.meta.appendChild(item);\n                }\n            }\n        }\n    }\n\n    window.setupTextualHeatmap = function (settings) {\n        document.getElementById(settings.id).instance = new TextualHeatmap(settings);\n    };\n\n    window.setDataTextualHeatmap = function (settings, data) {\n        document.getElementById(settings.id).instance.setData(data);\n    };\n\n    window.highlightTextualHeatmap = function (settings, index) {\n        document.getElementById(settings.id).instance.highlight(index);\n    };\n})();</script><div id=\"abaae1e1-7c02-4b05-b5f1-f4c7ba03f0e1\" class=\"textual-heatmap\"></div><script>  window.setupTextualHeatmap({\"id\": \"abaae1e1-7c02-4b05-b5f1-f4c7ba03f0e1\", \"width\": 600, \"showMeta\": true, \"facetTitles\": [\"Vis\"], \"rotateFacetTitles\": false, \"interactive\": true});</script>"
     },
     "metadata": {}
    },
    {
     "output_type": "display_data",
     "data": {
      "text/plain": "<IPython.core.display.Javascript object>",
      "application/javascript": "void(0);"
     },
     "metadata": {}
    },
    {
     "output_type": "display_data",
     "data": {
      "text/plain": "<IPython.core.display.Javascript object>",
      "application/javascript": "void(0);"
     },
     "metadata": {}
    },
    {
     "output_type": "stream",
     "name": "stdout",
     "text": [
      "8 heeroyin\n8 హీరోయిన్\n[[{'token': 'హ', 'meta': ['h', 'e'], 'heat': [1.0]}, {'token': ' ', 'format': False}, {'token': 'ీ', 'meta': ['e', 'h', 'r', 'e'], 'heat': [1.0]}, {'token': ' ', 'format': False}, {'token': 'ర', 'meta': ['r', 'o'], 'heat': [1.0]}, {'token': ' ', 'format': False}, {'token': 'ో', 'meta': ['y'], 'heat': [1.0]}, {'token': ' ', 'format': False}, {'token': 'య', 'meta': ['y', 'i', 'n'], 'heat': [1.0]}, {'token': ' ', 'format': False}, {'token': 'ి', 'meta': ['n'], 'heat': [1.0]}, {'token': ' ', 'format': False}, {'token': 'న', 'meta': ['n'], 'heat': [1.0]}, {'token': ' ', 'format': False}, {'token': '్', 'meta': [], 'heat': [1.0]}, {'token': ' ', 'format': False}]]\n"
     ]
    },
    {
     "output_type": "display_data",
     "data": {
      "text/plain": "<IPython.core.display.HTML object>",
      "text/html": "<style>.textual-heatmap .facet {\n  display: grid;\n  grid-template-columns: 1fr 60px;\n  grid-template-rows: 40px auto;\n  grid-template-areas:\n    \"meta-content .\"\n    \"token-content facet-title\";\n  margin-bottom: 0.5em;\n}\n\n.textual-heatmap .facet.hide-meta-content {\n  grid-template-rows: auto;\n  grid-template-areas:\n    \"token-content facet-title\";\n}\n\n.textual-heatmap .facet .token-content {\n  grid-area: token-content;\n\n  font-family: monospace;\n  padding: 0.5em;\n  box-sizing: border-box;\n  background: #365d8d;\n  color: white;\n  line-height: 1.4em;\n  border-radius: 0 0 0 5px;\n}\n\n.textual-heatmap .facet.hide-meta-content .token-content {\n    border-radius: 5px 0 0 5px;\n}\n\n.textual-heatmap .facet .token-content span {\n  border-bottom: 0.2em solid transparent;\n  white-space: pre-wrap;\n}\n\n.textual-heatmap .facet .token-content span.selected {\n  border-bottom-color: white;\n}\n\n.textual-heatmap .facet .meta-content {\n  grid-area: meta-content;\n  display: grid;\n  grid-template-columns: repeat(auto-fit, minmax(0px, 1fr));\n  grid-column-gap: 2px;\n  align-items: center;\n}\n\n.textual-heatmap .facet.hide-meta-content .meta-content {\n    display: none;\n}\n\n.textual-heatmap .facet .meta-content .meta-content-item {\n  display: flex;\n  justify-content: center;\n  align-items: center;\n  padding: 0 5px;\n  height: 39px;\n  background: #F3F3F3;\n  border: 1px solid #E0E0E0;\n  color: black;\n  border-bottom: none;\n  text-overflow: ellipsis;\n  overflow: hidden;\n}\n\n.textual-heatmap .facet .meta-content .meta-content-item:first-of-type {\n    border-radius: 5px 0 0 0;\n}\n\n.textual-heatmap .facet .meta-content .meta-content-item:last-of-type {\n    border-radius: 0 5px 0 0;\n}\n\n.textual-heatmap .facet .meta-content .meta-content-item:first-of-type:last-of-type {\n    border-radius: 5px 5px 0 0;\n}\n\n.textual-heatmap .facet .facet-title {\n  grid-area: facet-title;\n\n  display: flex;\n  max-width: 60px;\n  background: #EEEEEE;\n  justify-content: center;\n  color: #555555;\n  border-radius: 0 5px 5px 0;\n  border: 1px solid #E0E0E0;\n  border-left: none;\n}\n\n.textual-heatmap .facet .facet-title span {\n  align-self: center;\n  display: inline-block;\n  transform-origin: center center;\n  line-height: 1em;\n  text-align: center;\n}\n\n.textual-heatmap .facet.rotate-facet-title .facet-title span {\n  transform: translate(0, 0) rotate(90deg);\n}</style><script>;(function () {\n    'use strict';\n\n    function viridisSubset(ratio) {\n        const colormap = [\n            '#365d8d', '#355e8d', '#355f8d', '#34608d', '#34618d',\n            '#33628d', '#33638d', '#32648e', '#32658e', '#31668e',\n            '#31678e', '#31688e', '#30698e', '#306a8e', '#2f6b8e',\n            '#2f6c8e', '#2e6d8e', '#2e6e8e', '#2e6f8e', '#2d708e',\n            '#2d718e', '#2c718e', '#2c728e', '#2c738e', '#2b748e',\n            '#2b758e', '#2a768e', '#2a778e', '#2a788e', '#29798e',\n            '#297a8e', '#297b8e', '#287c8e', '#287d8e', '#277e8e',\n            '#277f8e', '#27808e', '#26818e', '#26828e', '#26828e',\n            '#25838e', '#25848e', '#25858e', '#24868e', '#24878e',\n            '#23888e', '#23898e', '#238a8d', '#228b8d', '#228c8d',\n            '#228d8d', '#218e8d', '#218f8d', '#21908d', '#21918c',\n            '#20928c', '#20928c', '#20938c', '#1f948c', '#1f958b',\n            '#1f968b', '#1f978b', '#1f988b', '#1f998a', '#1f9a8a',\n            '#1e9b8a', '#1e9c89', '#1e9d89', '#1f9e89', '#1f9f88',\n            '#1fa088', '#1fa188', '#1fa187', '#1fa287', '#20a386',\n            '#20a486', '#21a585', '#21a685', '#22a785', '#22a884',\n            '#23a983', '#24aa83', '#25ab82', '#25ac82', '#26ad81',\n            '#27ad81', '#28ae80', '#29af7f', '#2ab07f', '#2cb17e',\n            '#2db27d', '#2eb37c', '#2fb47c', '#31b57b', '#32b67a',\n            '#34b679', '#35b779'\n        ];\n        const n = colormap.length - 1;\n        return colormap[Math.max(0, Math.min(n, Math.floor(ratio * n)))];\n    }\n\n    class TextualHeatmap {\n        constructor(settings) {\n            this.container = document.getElementById(settings.id);\n            this.container.style.width = settings.width + 'px';\n            this.facets = settings.facetTitles\n                .map((facetName) => new TextualHeatmapFacet(settings, this.container, facetName));\n\n            for (let i = 0; i < this.facets.length; i++) {\n                this.facets[i].onmouseover = this.highlight.bind(this);\n            }\n        }\n\n        setData(data) {\n            for (let i = 0; i < this.facets.length; i++) {\n                this.facets[i].setData(data[i]);\n            }\n        }\n\n        highlight(index) {\n            for (let i = 0; i < this.facets.length; i++) {\n                this.facets[i].highlight(index);\n            }\n        }\n    }\n\n    class TextualHeatmapFacet {\n        constructor(settings, root, facetName) {\n            this.settings = settings;\n            this.highlightIndex = null;\n            this.nonFormatData = [];\n            this.heatIndexToNodeElement = [];\n            this.root = root;\n            this.onmouseover = null;\n\n            this.facet = document.createElement('div');\n            this.facet.classList.add('facet');\n            this.facet.classList.toggle('hide-meta-content', !settings.showMeta);\n            this.facet.classList.toggle('rotate-facet-title', settings.rotateFacetTitles);\n            this.root.appendChild(this.facet);\n\n            this.meta = document.createElement('div');\n            this.meta.classList.add('meta-content');\n            this.facet.appendChild(this.meta);\n\n            const item = document.createElement('div');\n            item.classList.add('meta-content-item');\n            this.meta.appendChild(item);\n\n            this.content = document.createElement('div');\n            this.content.classList.add('token-content');\n            this.facet.appendChild(this.content);\n\n            this.title = document.createElement('div');\n            this.title.classList.add('facet-title');\n            const titleSpan = document.createElement('span');\n            titleSpan.appendChild(document.createTextNode(facetName));\n            this.title.appendChild(titleSpan);\n            this.facet.appendChild(this.title);\n        }\n\n        setData(data) {\n            this.nonFormatData = [];\n            this.heatIndexToNodeElement = []\n\n            while (this.content.childNodes.length > 0) {\n                this.content.removeChild(this.content.firstChild);\n            }\n\n            for (let i = 0; i < data.length; i++) {\n                const tokenNode = document.createElement('span');\n                const heatIndex = this.heatIndexToNodeElement.length;\n                tokenNode.appendChild(document.createTextNode(data[i].token));\n                if (this.settings.interactive && !data[i].format) {\n                    tokenNode.addEventListener('mouseover', () => this.onmouseover(heatIndex), false);\n                    this.heatIndexToNodeElement.push(tokenNode)\n                    this.nonFormatData.push(data[i])\n                }\n                this.content.appendChild(tokenNode);\n            }\n\n            if (this.highlightIndex !== null) {\n                this.highlight(this.highlightIndex);\n            }\n        }\n\n        highlight(index) {\n            this.highlightIndex = index;\n\n            for (let i = 0; i < this.heatIndexToNodeElement.length; i++) {\n                this.heatIndexToNodeElement[i].style.backgroundColor = viridisSubset(this.nonFormatData[index].heat[i]);\n                this.heatIndexToNodeElement[i].classList.toggle('selected', i === index);\n            }\n\n            if (this.settings.showMeta) {\n                while (this.meta.childNodes.length > 0) {\n                    this.meta.removeChild(this.meta.firstChild);\n                }\n\n                for (let i = 0; i < this.nonFormatData[index].meta.length; i++) {\n                    const item = document.createElement('div');\n                    item.classList.add('meta-content-item');\n                    item.appendChild(document.createTextNode(this.nonFormatData[index].meta[i]));\n                    this.meta.appendChild(item);\n                }\n\n                if (this.nonFormatData[index].meta.length === 0) {\n                    const item = document.createElement('div');\n                    item.classList.add('meta-content-item');\n                    this.meta.appendChild(item);\n                }\n            }\n        }\n    }\n\n    window.setupTextualHeatmap = function (settings) {\n        document.getElementById(settings.id).instance = new TextualHeatmap(settings);\n    };\n\n    window.setDataTextualHeatmap = function (settings, data) {\n        document.getElementById(settings.id).instance.setData(data);\n    };\n\n    window.highlightTextualHeatmap = function (settings, index) {\n        document.getElementById(settings.id).instance.highlight(index);\n    };\n})();</script><div id=\"a5f6b80a-6b20-445a-8bd3-f1e79fcfedfb\" class=\"textual-heatmap\"></div><script>  window.setupTextualHeatmap({\"id\": \"a5f6b80a-6b20-445a-8bd3-f1e79fcfedfb\", \"width\": 600, \"showMeta\": true, \"facetTitles\": [\"Vis\"], \"rotateFacetTitles\": false, \"interactive\": true});</script>"
     },
     "metadata": {}
    },
    {
     "output_type": "display_data",
     "data": {
      "text/plain": "<IPython.core.display.Javascript object>",
      "application/javascript": "void(0);"
     },
     "metadata": {}
    },
    {
     "output_type": "display_data",
     "data": {
      "text/plain": "<IPython.core.display.Javascript object>",
      "application/javascript": "void(0);"
     },
     "metadata": {}
    },
    {
     "output_type": "stream",
     "name": "stdout",
     "text": [
      "9 dopideeki\n8 దొపిదీకి\n[[{'token': 'ద', 'meta': ['d'], 'heat': [1.0]}, {'token': ' ', 'format': False}, {'token': 'ొ', 'meta': ['p', 'i'], 'heat': [1.0]}, {'token': ' ', 'format': False}, {'token': 'ప', 'meta': ['p', 'i'], 'heat': [1.0]}, {'token': ' ', 'format': False}, {'token': 'ి', 'meta': ['d', 'i', 'e'], 'heat': [1.0]}, {'token': ' ', 'format': False}, {'token': 'ద', 'meta': ['e', 'd'], 'heat': [1.0]}, {'token': ' ', 'format': False}, {'token': 'ీ', 'meta': ['e', 'k', 'i'], 'heat': [1.0]}, {'token': ' ', 'format': False}, {'token': 'క', 'meta': ['i', 'k'], 'heat': [1.0]}, {'token': ' ', 'format': False}, {'token': 'ి', 'meta': [], 'heat': [1.0]}, {'token': ' ', 'format': False}]]\n"
     ]
    },
    {
     "output_type": "display_data",
     "data": {
      "text/plain": "<IPython.core.display.HTML object>",
      "text/html": "<style>.textual-heatmap .facet {\n  display: grid;\n  grid-template-columns: 1fr 60px;\n  grid-template-rows: 40px auto;\n  grid-template-areas:\n    \"meta-content .\"\n    \"token-content facet-title\";\n  margin-bottom: 0.5em;\n}\n\n.textual-heatmap .facet.hide-meta-content {\n  grid-template-rows: auto;\n  grid-template-areas:\n    \"token-content facet-title\";\n}\n\n.textual-heatmap .facet .token-content {\n  grid-area: token-content;\n\n  font-family: monospace;\n  padding: 0.5em;\n  box-sizing: border-box;\n  background: #365d8d;\n  color: white;\n  line-height: 1.4em;\n  border-radius: 0 0 0 5px;\n}\n\n.textual-heatmap .facet.hide-meta-content .token-content {\n    border-radius: 5px 0 0 5px;\n}\n\n.textual-heatmap .facet .token-content span {\n  border-bottom: 0.2em solid transparent;\n  white-space: pre-wrap;\n}\n\n.textual-heatmap .facet .token-content span.selected {\n  border-bottom-color: white;\n}\n\n.textual-heatmap .facet .meta-content {\n  grid-area: meta-content;\n  display: grid;\n  grid-template-columns: repeat(auto-fit, minmax(0px, 1fr));\n  grid-column-gap: 2px;\n  align-items: center;\n}\n\n.textual-heatmap .facet.hide-meta-content .meta-content {\n    display: none;\n}\n\n.textual-heatmap .facet .meta-content .meta-content-item {\n  display: flex;\n  justify-content: center;\n  align-items: center;\n  padding: 0 5px;\n  height: 39px;\n  background: #F3F3F3;\n  border: 1px solid #E0E0E0;\n  color: black;\n  border-bottom: none;\n  text-overflow: ellipsis;\n  overflow: hidden;\n}\n\n.textual-heatmap .facet .meta-content .meta-content-item:first-of-type {\n    border-radius: 5px 0 0 0;\n}\n\n.textual-heatmap .facet .meta-content .meta-content-item:last-of-type {\n    border-radius: 0 5px 0 0;\n}\n\n.textual-heatmap .facet .meta-content .meta-content-item:first-of-type:last-of-type {\n    border-radius: 5px 5px 0 0;\n}\n\n.textual-heatmap .facet .facet-title {\n  grid-area: facet-title;\n\n  display: flex;\n  max-width: 60px;\n  background: #EEEEEE;\n  justify-content: center;\n  color: #555555;\n  border-radius: 0 5px 5px 0;\n  border: 1px solid #E0E0E0;\n  border-left: none;\n}\n\n.textual-heatmap .facet .facet-title span {\n  align-self: center;\n  display: inline-block;\n  transform-origin: center center;\n  line-height: 1em;\n  text-align: center;\n}\n\n.textual-heatmap .facet.rotate-facet-title .facet-title span {\n  transform: translate(0, 0) rotate(90deg);\n}</style><script>;(function () {\n    'use strict';\n\n    function viridisSubset(ratio) {\n        const colormap = [\n            '#365d8d', '#355e8d', '#355f8d', '#34608d', '#34618d',\n            '#33628d', '#33638d', '#32648e', '#32658e', '#31668e',\n            '#31678e', '#31688e', '#30698e', '#306a8e', '#2f6b8e',\n            '#2f6c8e', '#2e6d8e', '#2e6e8e', '#2e6f8e', '#2d708e',\n            '#2d718e', '#2c718e', '#2c728e', '#2c738e', '#2b748e',\n            '#2b758e', '#2a768e', '#2a778e', '#2a788e', '#29798e',\n            '#297a8e', '#297b8e', '#287c8e', '#287d8e', '#277e8e',\n            '#277f8e', '#27808e', '#26818e', '#26828e', '#26828e',\n            '#25838e', '#25848e', '#25858e', '#24868e', '#24878e',\n            '#23888e', '#23898e', '#238a8d', '#228b8d', '#228c8d',\n            '#228d8d', '#218e8d', '#218f8d', '#21908d', '#21918c',\n            '#20928c', '#20928c', '#20938c', '#1f948c', '#1f958b',\n            '#1f968b', '#1f978b', '#1f988b', '#1f998a', '#1f9a8a',\n            '#1e9b8a', '#1e9c89', '#1e9d89', '#1f9e89', '#1f9f88',\n            '#1fa088', '#1fa188', '#1fa187', '#1fa287', '#20a386',\n            '#20a486', '#21a585', '#21a685', '#22a785', '#22a884',\n            '#23a983', '#24aa83', '#25ab82', '#25ac82', '#26ad81',\n            '#27ad81', '#28ae80', '#29af7f', '#2ab07f', '#2cb17e',\n            '#2db27d', '#2eb37c', '#2fb47c', '#31b57b', '#32b67a',\n            '#34b679', '#35b779'\n        ];\n        const n = colormap.length - 1;\n        return colormap[Math.max(0, Math.min(n, Math.floor(ratio * n)))];\n    }\n\n    class TextualHeatmap {\n        constructor(settings) {\n            this.container = document.getElementById(settings.id);\n            this.container.style.width = settings.width + 'px';\n            this.facets = settings.facetTitles\n                .map((facetName) => new TextualHeatmapFacet(settings, this.container, facetName));\n\n            for (let i = 0; i < this.facets.length; i++) {\n                this.facets[i].onmouseover = this.highlight.bind(this);\n            }\n        }\n\n        setData(data) {\n            for (let i = 0; i < this.facets.length; i++) {\n                this.facets[i].setData(data[i]);\n            }\n        }\n\n        highlight(index) {\n            for (let i = 0; i < this.facets.length; i++) {\n                this.facets[i].highlight(index);\n            }\n        }\n    }\n\n    class TextualHeatmapFacet {\n        constructor(settings, root, facetName) {\n            this.settings = settings;\n            this.highlightIndex = null;\n            this.nonFormatData = [];\n            this.heatIndexToNodeElement = [];\n            this.root = root;\n            this.onmouseover = null;\n\n            this.facet = document.createElement('div');\n            this.facet.classList.add('facet');\n            this.facet.classList.toggle('hide-meta-content', !settings.showMeta);\n            this.facet.classList.toggle('rotate-facet-title', settings.rotateFacetTitles);\n            this.root.appendChild(this.facet);\n\n            this.meta = document.createElement('div');\n            this.meta.classList.add('meta-content');\n            this.facet.appendChild(this.meta);\n\n            const item = document.createElement('div');\n            item.classList.add('meta-content-item');\n            this.meta.appendChild(item);\n\n            this.content = document.createElement('div');\n            this.content.classList.add('token-content');\n            this.facet.appendChild(this.content);\n\n            this.title = document.createElement('div');\n            this.title.classList.add('facet-title');\n            const titleSpan = document.createElement('span');\n            titleSpan.appendChild(document.createTextNode(facetName));\n            this.title.appendChild(titleSpan);\n            this.facet.appendChild(this.title);\n        }\n\n        setData(data) {\n            this.nonFormatData = [];\n            this.heatIndexToNodeElement = []\n\n            while (this.content.childNodes.length > 0) {\n                this.content.removeChild(this.content.firstChild);\n            }\n\n            for (let i = 0; i < data.length; i++) {\n                const tokenNode = document.createElement('span');\n                const heatIndex = this.heatIndexToNodeElement.length;\n                tokenNode.appendChild(document.createTextNode(data[i].token));\n                if (this.settings.interactive && !data[i].format) {\n                    tokenNode.addEventListener('mouseover', () => this.onmouseover(heatIndex), false);\n                    this.heatIndexToNodeElement.push(tokenNode)\n                    this.nonFormatData.push(data[i])\n                }\n                this.content.appendChild(tokenNode);\n            }\n\n            if (this.highlightIndex !== null) {\n                this.highlight(this.highlightIndex);\n            }\n        }\n\n        highlight(index) {\n            this.highlightIndex = index;\n\n            for (let i = 0; i < this.heatIndexToNodeElement.length; i++) {\n                this.heatIndexToNodeElement[i].style.backgroundColor = viridisSubset(this.nonFormatData[index].heat[i]);\n                this.heatIndexToNodeElement[i].classList.toggle('selected', i === index);\n            }\n\n            if (this.settings.showMeta) {\n                while (this.meta.childNodes.length > 0) {\n                    this.meta.removeChild(this.meta.firstChild);\n                }\n\n                for (let i = 0; i < this.nonFormatData[index].meta.length; i++) {\n                    const item = document.createElement('div');\n                    item.classList.add('meta-content-item');\n                    item.appendChild(document.createTextNode(this.nonFormatData[index].meta[i]));\n                    this.meta.appendChild(item);\n                }\n\n                if (this.nonFormatData[index].meta.length === 0) {\n                    const item = document.createElement('div');\n                    item.classList.add('meta-content-item');\n                    this.meta.appendChild(item);\n                }\n            }\n        }\n    }\n\n    window.setupTextualHeatmap = function (settings) {\n        document.getElementById(settings.id).instance = new TextualHeatmap(settings);\n    };\n\n    window.setDataTextualHeatmap = function (settings, data) {\n        document.getElementById(settings.id).instance.setData(data);\n    };\n\n    window.highlightTextualHeatmap = function (settings, index) {\n        document.getElementById(settings.id).instance.highlight(index);\n    };\n})();</script><div id=\"c14a9c45-7e75-451b-8d01-4f3d124f3da6\" class=\"textual-heatmap\"></div><script>  window.setupTextualHeatmap({\"id\": \"c14a9c45-7e75-451b-8d01-4f3d124f3da6\", \"width\": 600, \"showMeta\": true, \"facetTitles\": [\"Vis\"], \"rotateFacetTitles\": false, \"interactive\": true});</script>"
     },
     "metadata": {}
    },
    {
     "output_type": "display_data",
     "data": {
      "text/plain": "<IPython.core.display.Javascript object>",
      "application/javascript": "void(0);"
     },
     "metadata": {}
    },
    {
     "output_type": "display_data",
     "data": {
      "text/plain": "<IPython.core.display.Javascript object>",
      "application/javascript": "void(0);"
     },
     "metadata": {}
    },
    {
     "output_type": "stream",
     "name": "stdout",
     "text": [
      "10 gouthamudu\n7 గౌతముడు\n[[{'token': 'గ', 'meta': ['g', 'o'], 'heat': [1.0]}, {'token': ' ', 'format': False}, {'token': 'ౌ', 'meta': ['u'], 'heat': [1.0]}, {'token': ' ', 'format': False}, {'token': 'త', 'meta': ['h'], 'heat': [1.0]}, {'token': ' ', 'format': False}, {'token': 'మ', 'meta': ['u', 'm'], 'heat': [1.0]}, {'token': ' ', 'format': False}, {'token': 'ు', 'meta': ['d'], 'heat': [1.0]}, {'token': ' ', 'format': False}, {'token': 'డ', 'meta': ['u', 'd'], 'heat': [1.0]}, {'token': ' ', 'format': False}, {'token': 'ు', 'meta': [], 'heat': [1.0]}, {'token': ' ', 'format': False}]]\n"
     ]
    },
    {
     "output_type": "display_data",
     "data": {
      "text/plain": "<IPython.core.display.HTML object>",
      "text/html": "<style>.textual-heatmap .facet {\n  display: grid;\n  grid-template-columns: 1fr 60px;\n  grid-template-rows: 40px auto;\n  grid-template-areas:\n    \"meta-content .\"\n    \"token-content facet-title\";\n  margin-bottom: 0.5em;\n}\n\n.textual-heatmap .facet.hide-meta-content {\n  grid-template-rows: auto;\n  grid-template-areas:\n    \"token-content facet-title\";\n}\n\n.textual-heatmap .facet .token-content {\n  grid-area: token-content;\n\n  font-family: monospace;\n  padding: 0.5em;\n  box-sizing: border-box;\n  background: #365d8d;\n  color: white;\n  line-height: 1.4em;\n  border-radius: 0 0 0 5px;\n}\n\n.textual-heatmap .facet.hide-meta-content .token-content {\n    border-radius: 5px 0 0 5px;\n}\n\n.textual-heatmap .facet .token-content span {\n  border-bottom: 0.2em solid transparent;\n  white-space: pre-wrap;\n}\n\n.textual-heatmap .facet .token-content span.selected {\n  border-bottom-color: white;\n}\n\n.textual-heatmap .facet .meta-content {\n  grid-area: meta-content;\n  display: grid;\n  grid-template-columns: repeat(auto-fit, minmax(0px, 1fr));\n  grid-column-gap: 2px;\n  align-items: center;\n}\n\n.textual-heatmap .facet.hide-meta-content .meta-content {\n    display: none;\n}\n\n.textual-heatmap .facet .meta-content .meta-content-item {\n  display: flex;\n  justify-content: center;\n  align-items: center;\n  padding: 0 5px;\n  height: 39px;\n  background: #F3F3F3;\n  border: 1px solid #E0E0E0;\n  color: black;\n  border-bottom: none;\n  text-overflow: ellipsis;\n  overflow: hidden;\n}\n\n.textual-heatmap .facet .meta-content .meta-content-item:first-of-type {\n    border-radius: 5px 0 0 0;\n}\n\n.textual-heatmap .facet .meta-content .meta-content-item:last-of-type {\n    border-radius: 0 5px 0 0;\n}\n\n.textual-heatmap .facet .meta-content .meta-content-item:first-of-type:last-of-type {\n    border-radius: 5px 5px 0 0;\n}\n\n.textual-heatmap .facet .facet-title {\n  grid-area: facet-title;\n\n  display: flex;\n  max-width: 60px;\n  background: #EEEEEE;\n  justify-content: center;\n  color: #555555;\n  border-radius: 0 5px 5px 0;\n  border: 1px solid #E0E0E0;\n  border-left: none;\n}\n\n.textual-heatmap .facet .facet-title span {\n  align-self: center;\n  display: inline-block;\n  transform-origin: center center;\n  line-height: 1em;\n  text-align: center;\n}\n\n.textual-heatmap .facet.rotate-facet-title .facet-title span {\n  transform: translate(0, 0) rotate(90deg);\n}</style><script>;(function () {\n    'use strict';\n\n    function viridisSubset(ratio) {\n        const colormap = [\n            '#365d8d', '#355e8d', '#355f8d', '#34608d', '#34618d',\n            '#33628d', '#33638d', '#32648e', '#32658e', '#31668e',\n            '#31678e', '#31688e', '#30698e', '#306a8e', '#2f6b8e',\n            '#2f6c8e', '#2e6d8e', '#2e6e8e', '#2e6f8e', '#2d708e',\n            '#2d718e', '#2c718e', '#2c728e', '#2c738e', '#2b748e',\n            '#2b758e', '#2a768e', '#2a778e', '#2a788e', '#29798e',\n            '#297a8e', '#297b8e', '#287c8e', '#287d8e', '#277e8e',\n            '#277f8e', '#27808e', '#26818e', '#26828e', '#26828e',\n            '#25838e', '#25848e', '#25858e', '#24868e', '#24878e',\n            '#23888e', '#23898e', '#238a8d', '#228b8d', '#228c8d',\n            '#228d8d', '#218e8d', '#218f8d', '#21908d', '#21918c',\n            '#20928c', '#20928c', '#20938c', '#1f948c', '#1f958b',\n            '#1f968b', '#1f978b', '#1f988b', '#1f998a', '#1f9a8a',\n            '#1e9b8a', '#1e9c89', '#1e9d89', '#1f9e89', '#1f9f88',\n            '#1fa088', '#1fa188', '#1fa187', '#1fa287', '#20a386',\n            '#20a486', '#21a585', '#21a685', '#22a785', '#22a884',\n            '#23a983', '#24aa83', '#25ab82', '#25ac82', '#26ad81',\n            '#27ad81', '#28ae80', '#29af7f', '#2ab07f', '#2cb17e',\n            '#2db27d', '#2eb37c', '#2fb47c', '#31b57b', '#32b67a',\n            '#34b679', '#35b779'\n        ];\n        const n = colormap.length - 1;\n        return colormap[Math.max(0, Math.min(n, Math.floor(ratio * n)))];\n    }\n\n    class TextualHeatmap {\n        constructor(settings) {\n            this.container = document.getElementById(settings.id);\n            this.container.style.width = settings.width + 'px';\n            this.facets = settings.facetTitles\n                .map((facetName) => new TextualHeatmapFacet(settings, this.container, facetName));\n\n            for (let i = 0; i < this.facets.length; i++) {\n                this.facets[i].onmouseover = this.highlight.bind(this);\n            }\n        }\n\n        setData(data) {\n            for (let i = 0; i < this.facets.length; i++) {\n                this.facets[i].setData(data[i]);\n            }\n        }\n\n        highlight(index) {\n            for (let i = 0; i < this.facets.length; i++) {\n                this.facets[i].highlight(index);\n            }\n        }\n    }\n\n    class TextualHeatmapFacet {\n        constructor(settings, root, facetName) {\n            this.settings = settings;\n            this.highlightIndex = null;\n            this.nonFormatData = [];\n            this.heatIndexToNodeElement = [];\n            this.root = root;\n            this.onmouseover = null;\n\n            this.facet = document.createElement('div');\n            this.facet.classList.add('facet');\n            this.facet.classList.toggle('hide-meta-content', !settings.showMeta);\n            this.facet.classList.toggle('rotate-facet-title', settings.rotateFacetTitles);\n            this.root.appendChild(this.facet);\n\n            this.meta = document.createElement('div');\n            this.meta.classList.add('meta-content');\n            this.facet.appendChild(this.meta);\n\n            const item = document.createElement('div');\n            item.classList.add('meta-content-item');\n            this.meta.appendChild(item);\n\n            this.content = document.createElement('div');\n            this.content.classList.add('token-content');\n            this.facet.appendChild(this.content);\n\n            this.title = document.createElement('div');\n            this.title.classList.add('facet-title');\n            const titleSpan = document.createElement('span');\n            titleSpan.appendChild(document.createTextNode(facetName));\n            this.title.appendChild(titleSpan);\n            this.facet.appendChild(this.title);\n        }\n\n        setData(data) {\n            this.nonFormatData = [];\n            this.heatIndexToNodeElement = []\n\n            while (this.content.childNodes.length > 0) {\n                this.content.removeChild(this.content.firstChild);\n            }\n\n            for (let i = 0; i < data.length; i++) {\n                const tokenNode = document.createElement('span');\n                const heatIndex = this.heatIndexToNodeElement.length;\n                tokenNode.appendChild(document.createTextNode(data[i].token));\n                if (this.settings.interactive && !data[i].format) {\n                    tokenNode.addEventListener('mouseover', () => this.onmouseover(heatIndex), false);\n                    this.heatIndexToNodeElement.push(tokenNode)\n                    this.nonFormatData.push(data[i])\n                }\n                this.content.appendChild(tokenNode);\n            }\n\n            if (this.highlightIndex !== null) {\n                this.highlight(this.highlightIndex);\n            }\n        }\n\n        highlight(index) {\n            this.highlightIndex = index;\n\n            for (let i = 0; i < this.heatIndexToNodeElement.length; i++) {\n                this.heatIndexToNodeElement[i].style.backgroundColor = viridisSubset(this.nonFormatData[index].heat[i]);\n                this.heatIndexToNodeElement[i].classList.toggle('selected', i === index);\n            }\n\n            if (this.settings.showMeta) {\n                while (this.meta.childNodes.length > 0) {\n                    this.meta.removeChild(this.meta.firstChild);\n                }\n\n                for (let i = 0; i < this.nonFormatData[index].meta.length; i++) {\n                    const item = document.createElement('div');\n                    item.classList.add('meta-content-item');\n                    item.appendChild(document.createTextNode(this.nonFormatData[index].meta[i]));\n                    this.meta.appendChild(item);\n                }\n\n                if (this.nonFormatData[index].meta.length === 0) {\n                    const item = document.createElement('div');\n                    item.classList.add('meta-content-item');\n                    this.meta.appendChild(item);\n                }\n            }\n        }\n    }\n\n    window.setupTextualHeatmap = function (settings) {\n        document.getElementById(settings.id).instance = new TextualHeatmap(settings);\n    };\n\n    window.setDataTextualHeatmap = function (settings, data) {\n        document.getElementById(settings.id).instance.setData(data);\n    };\n\n    window.highlightTextualHeatmap = function (settings, index) {\n        document.getElementById(settings.id).instance.highlight(index);\n    };\n})();</script><div id=\"1d4708ab-98dc-4143-b794-7af97d9e29a1\" class=\"textual-heatmap\"></div><script>  window.setupTextualHeatmap({\"id\": \"1d4708ab-98dc-4143-b794-7af97d9e29a1\", \"width\": 600, \"showMeta\": true, \"facetTitles\": [\"Vis\"], \"rotateFacetTitles\": false, \"interactive\": true});</script>"
     },
     "metadata": {}
    },
    {
     "output_type": "display_data",
     "data": {
      "text/plain": "<IPython.core.display.Javascript object>",
      "application/javascript": "void(0);"
     },
     "metadata": {}
    },
    {
     "output_type": "display_data",
     "data": {
      "text/plain": "<IPython.core.display.Javascript object>",
      "application/javascript": "void(0);"
     },
     "metadata": {}
    },
    {
     "output_type": "stream",
     "name": "stdout",
     "text": [
      "13 sheershikaloo\n9 శీర్షికలో\n[[{'token': 'శ', 'meta': ['h', 'e'], 'heat': [1.0]}, {'token': ' ', 'format': False}, {'token': 'ీ', 'meta': ['e', 's'], 'heat': [1.0]}, {'token': ' ', 'format': False}, {'token': 'ర', 'meta': ['r', 's'], 'heat': [1.0]}, {'token': ' ', 'format': False}, {'token': '్', 'meta': ['h', 'i'], 'heat': [1.0]}, {'token': ' ', 'format': False}, {'token': 'ష', 'meta': ['h'], 'heat': [1.0]}, {'token': ' ', 'format': False}, {'token': 'ి', 'meta': ['k', 'l', 'i'], 'heat': [1.0]}, {'token': ' ', 'format': False}, {'token': 'క', 'meta': ['a', 'k'], 'heat': [1.0]}, {'token': ' ', 'format': False}, {'token': 'ల', 'meta': ['l'], 'heat': [1.0]}, {'token': ' ', 'format': False}, {'token': 'ో', 'meta': ['o'], 'heat': [1.0]}, {'token': ' ', 'format': False}]]\n"
     ]
    },
    {
     "output_type": "display_data",
     "data": {
      "text/plain": "<IPython.core.display.HTML object>",
      "text/html": "<style>.textual-heatmap .facet {\n  display: grid;\n  grid-template-columns: 1fr 60px;\n  grid-template-rows: 40px auto;\n  grid-template-areas:\n    \"meta-content .\"\n    \"token-content facet-title\";\n  margin-bottom: 0.5em;\n}\n\n.textual-heatmap .facet.hide-meta-content {\n  grid-template-rows: auto;\n  grid-template-areas:\n    \"token-content facet-title\";\n}\n\n.textual-heatmap .facet .token-content {\n  grid-area: token-content;\n\n  font-family: monospace;\n  padding: 0.5em;\n  box-sizing: border-box;\n  background: #365d8d;\n  color: white;\n  line-height: 1.4em;\n  border-radius: 0 0 0 5px;\n}\n\n.textual-heatmap .facet.hide-meta-content .token-content {\n    border-radius: 5px 0 0 5px;\n}\n\n.textual-heatmap .facet .token-content span {\n  border-bottom: 0.2em solid transparent;\n  white-space: pre-wrap;\n}\n\n.textual-heatmap .facet .token-content span.selected {\n  border-bottom-color: white;\n}\n\n.textual-heatmap .facet .meta-content {\n  grid-area: meta-content;\n  display: grid;\n  grid-template-columns: repeat(auto-fit, minmax(0px, 1fr));\n  grid-column-gap: 2px;\n  align-items: center;\n}\n\n.textual-heatmap .facet.hide-meta-content .meta-content {\n    display: none;\n}\n\n.textual-heatmap .facet .meta-content .meta-content-item {\n  display: flex;\n  justify-content: center;\n  align-items: center;\n  padding: 0 5px;\n  height: 39px;\n  background: #F3F3F3;\n  border: 1px solid #E0E0E0;\n  color: black;\n  border-bottom: none;\n  text-overflow: ellipsis;\n  overflow: hidden;\n}\n\n.textual-heatmap .facet .meta-content .meta-content-item:first-of-type {\n    border-radius: 5px 0 0 0;\n}\n\n.textual-heatmap .facet .meta-content .meta-content-item:last-of-type {\n    border-radius: 0 5px 0 0;\n}\n\n.textual-heatmap .facet .meta-content .meta-content-item:first-of-type:last-of-type {\n    border-radius: 5px 5px 0 0;\n}\n\n.textual-heatmap .facet .facet-title {\n  grid-area: facet-title;\n\n  display: flex;\n  max-width: 60px;\n  background: #EEEEEE;\n  justify-content: center;\n  color: #555555;\n  border-radius: 0 5px 5px 0;\n  border: 1px solid #E0E0E0;\n  border-left: none;\n}\n\n.textual-heatmap .facet .facet-title span {\n  align-self: center;\n  display: inline-block;\n  transform-origin: center center;\n  line-height: 1em;\n  text-align: center;\n}\n\n.textual-heatmap .facet.rotate-facet-title .facet-title span {\n  transform: translate(0, 0) rotate(90deg);\n}</style><script>;(function () {\n    'use strict';\n\n    function viridisSubset(ratio) {\n        const colormap = [\n            '#365d8d', '#355e8d', '#355f8d', '#34608d', '#34618d',\n            '#33628d', '#33638d', '#32648e', '#32658e', '#31668e',\n            '#31678e', '#31688e', '#30698e', '#306a8e', '#2f6b8e',\n            '#2f6c8e', '#2e6d8e', '#2e6e8e', '#2e6f8e', '#2d708e',\n            '#2d718e', '#2c718e', '#2c728e', '#2c738e', '#2b748e',\n            '#2b758e', '#2a768e', '#2a778e', '#2a788e', '#29798e',\n            '#297a8e', '#297b8e', '#287c8e', '#287d8e', '#277e8e',\n            '#277f8e', '#27808e', '#26818e', '#26828e', '#26828e',\n            '#25838e', '#25848e', '#25858e', '#24868e', '#24878e',\n            '#23888e', '#23898e', '#238a8d', '#228b8d', '#228c8d',\n            '#228d8d', '#218e8d', '#218f8d', '#21908d', '#21918c',\n            '#20928c', '#20928c', '#20938c', '#1f948c', '#1f958b',\n            '#1f968b', '#1f978b', '#1f988b', '#1f998a', '#1f9a8a',\n            '#1e9b8a', '#1e9c89', '#1e9d89', '#1f9e89', '#1f9f88',\n            '#1fa088', '#1fa188', '#1fa187', '#1fa287', '#20a386',\n            '#20a486', '#21a585', '#21a685', '#22a785', '#22a884',\n            '#23a983', '#24aa83', '#25ab82', '#25ac82', '#26ad81',\n            '#27ad81', '#28ae80', '#29af7f', '#2ab07f', '#2cb17e',\n            '#2db27d', '#2eb37c', '#2fb47c', '#31b57b', '#32b67a',\n            '#34b679', '#35b779'\n        ];\n        const n = colormap.length - 1;\n        return colormap[Math.max(0, Math.min(n, Math.floor(ratio * n)))];\n    }\n\n    class TextualHeatmap {\n        constructor(settings) {\n            this.container = document.getElementById(settings.id);\n            this.container.style.width = settings.width + 'px';\n            this.facets = settings.facetTitles\n                .map((facetName) => new TextualHeatmapFacet(settings, this.container, facetName));\n\n            for (let i = 0; i < this.facets.length; i++) {\n                this.facets[i].onmouseover = this.highlight.bind(this);\n            }\n        }\n\n        setData(data) {\n            for (let i = 0; i < this.facets.length; i++) {\n                this.facets[i].setData(data[i]);\n            }\n        }\n\n        highlight(index) {\n            for (let i = 0; i < this.facets.length; i++) {\n                this.facets[i].highlight(index);\n            }\n        }\n    }\n\n    class TextualHeatmapFacet {\n        constructor(settings, root, facetName) {\n            this.settings = settings;\n            this.highlightIndex = null;\n            this.nonFormatData = [];\n            this.heatIndexToNodeElement = [];\n            this.root = root;\n            this.onmouseover = null;\n\n            this.facet = document.createElement('div');\n            this.facet.classList.add('facet');\n            this.facet.classList.toggle('hide-meta-content', !settings.showMeta);\n            this.facet.classList.toggle('rotate-facet-title', settings.rotateFacetTitles);\n            this.root.appendChild(this.facet);\n\n            this.meta = document.createElement('div');\n            this.meta.classList.add('meta-content');\n            this.facet.appendChild(this.meta);\n\n            const item = document.createElement('div');\n            item.classList.add('meta-content-item');\n            this.meta.appendChild(item);\n\n            this.content = document.createElement('div');\n            this.content.classList.add('token-content');\n            this.facet.appendChild(this.content);\n\n            this.title = document.createElement('div');\n            this.title.classList.add('facet-title');\n            const titleSpan = document.createElement('span');\n            titleSpan.appendChild(document.createTextNode(facetName));\n            this.title.appendChild(titleSpan);\n            this.facet.appendChild(this.title);\n        }\n\n        setData(data) {\n            this.nonFormatData = [];\n            this.heatIndexToNodeElement = []\n\n            while (this.content.childNodes.length > 0) {\n                this.content.removeChild(this.content.firstChild);\n            }\n\n            for (let i = 0; i < data.length; i++) {\n                const tokenNode = document.createElement('span');\n                const heatIndex = this.heatIndexToNodeElement.length;\n                tokenNode.appendChild(document.createTextNode(data[i].token));\n                if (this.settings.interactive && !data[i].format) {\n                    tokenNode.addEventListener('mouseover', () => this.onmouseover(heatIndex), false);\n                    this.heatIndexToNodeElement.push(tokenNode)\n                    this.nonFormatData.push(data[i])\n                }\n                this.content.appendChild(tokenNode);\n            }\n\n            if (this.highlightIndex !== null) {\n                this.highlight(this.highlightIndex);\n            }\n        }\n\n        highlight(index) {\n            this.highlightIndex = index;\n\n            for (let i = 0; i < this.heatIndexToNodeElement.length; i++) {\n                this.heatIndexToNodeElement[i].style.backgroundColor = viridisSubset(this.nonFormatData[index].heat[i]);\n                this.heatIndexToNodeElement[i].classList.toggle('selected', i === index);\n            }\n\n            if (this.settings.showMeta) {\n                while (this.meta.childNodes.length > 0) {\n                    this.meta.removeChild(this.meta.firstChild);\n                }\n\n                for (let i = 0; i < this.nonFormatData[index].meta.length; i++) {\n                    const item = document.createElement('div');\n                    item.classList.add('meta-content-item');\n                    item.appendChild(document.createTextNode(this.nonFormatData[index].meta[i]));\n                    this.meta.appendChild(item);\n                }\n\n                if (this.nonFormatData[index].meta.length === 0) {\n                    const item = document.createElement('div');\n                    item.classList.add('meta-content-item');\n                    this.meta.appendChild(item);\n                }\n            }\n        }\n    }\n\n    window.setupTextualHeatmap = function (settings) {\n        document.getElementById(settings.id).instance = new TextualHeatmap(settings);\n    };\n\n    window.setDataTextualHeatmap = function (settings, data) {\n        document.getElementById(settings.id).instance.setData(data);\n    };\n\n    window.highlightTextualHeatmap = function (settings, index) {\n        document.getElementById(settings.id).instance.highlight(index);\n    };\n})();</script><div id=\"0b898a78-e436-4c3f-8564-31226ad919fd\" class=\"textual-heatmap\"></div><script>  window.setupTextualHeatmap({\"id\": \"0b898a78-e436-4c3f-8564-31226ad919fd\", \"width\": 600, \"showMeta\": true, \"facetTitles\": [\"Vis\"], \"rotateFacetTitles\": false, \"interactive\": true});</script>"
     },
     "metadata": {}
    },
    {
     "output_type": "display_data",
     "data": {
      "text/plain": "<IPython.core.display.Javascript object>",
      "application/javascript": "void(0);"
     },
     "metadata": {}
    },
    {
     "output_type": "display_data",
     "data": {
      "text/plain": "<IPython.core.display.Javascript object>",
      "application/javascript": "void(0);"
     },
     "metadata": {}
    }
   ],
   "source": [
    "# coding: utf-8\n",
    "from matplotlib.font_manager import FontProperties\n",
    "\n",
    "random_indexes = []\n",
    "# outputs = []\n",
    "# inputs = []\n",
    "for i in range(9):\n",
    "    a = np.random.randint(0,len(test_outputs))\n",
    "    random_indexes.append(a)\n",
    "# fig = plt.figure(figsize = (15,15))\n",
    "x = 1\n",
    "for i in range(5):\n",
    "    accruracy , z, attention = beam_evaluate_single(test_input_tensor,test_outputs,random_indexes[i],1,enc_model,dec_model,'LSTM')\n",
    "    # print(attention)\n",
    "    attention = np.asarray(np.asarray(attention)[:,0,:])\n",
    "    s = attention.shape\n",
    "    attention = attention.reshape(s[0],s[2])[:,:s[0]]\n",
    "    # plt.subplot(3,3,x)\n",
    "    # print(attention.shape,attention)\n",
    "    for a, b in z:\n",
    "        decoded_word = a[1:-1]\n",
    "        expected_word = b \n",
    "    input_word = test_inputs[random_indexes[i]]\n",
    "    print(len(input_word),input_word)\n",
    "    print(len(decoded_word),decoded_word)\n",
    "    attention = attention[:len(decoded_word),:len(input_word)]\n",
    "    data = data_string1(attention,decoded_word,input_word)\n",
    "    print(data)\n",
    "    heatmap = TextualHeatmap(facet_titles = ['Vis'], show_meta=True)\n",
    "    heatmap.set_data(data)\n",
    "    heatmap.highlight(159)"
   ]
  },
  {
   "cell_type": "code",
   "execution_count": null,
   "metadata": {},
   "outputs": [],
   "source": []
  }
 ],
 "metadata": {
  "kernelspec": {
   "name": "python370jvsc74a57bd0e2fb31f127fed1e79f709faf34890f85681c06e7e30d28a328e5c7500cdf6725",
   "display_name": "Python 3.7.0 64-bit"
  },
  "language_info": {
   "codemirror_mode": {
    "name": "ipython",
    "version": 3
   },
   "file_extension": ".py",
   "mimetype": "text/x-python",
   "name": "python",
   "nbconvert_exporter": "python",
   "pygments_lexer": "ipython3",
   "version": "3.7.0"
  }
 },
 "nbformat": 4,
 "nbformat_minor": 5
}