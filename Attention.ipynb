{
 "cells": [
  {
   "cell_type": "code",
   "execution_count": 3,
   "id": "3927e7bc",
   "metadata": {},
   "outputs": [
    {
     "output_type": "stream",
     "name": "stdout",
     "text": [
      "2.4.1\n"
     ]
    }
   ],
   "source": [
    "import numpy as np\n",
    "import tensorflow as tf\n",
    "from tensorflow import keras\n",
    "import matplotlib.pyplot as plt\n",
    "print(tf.__version__)"
   ]
  },
  {
   "cell_type": "code",
   "execution_count": 4,
   "id": "8e5007e0",
   "metadata": {},
   "outputs": [],
   "source": [
    "import os"
   ]
  },
  {
   "cell_type": "code",
   "execution_count": 5,
   "id": "58285d60",
   "metadata": {},
   "outputs": [],
   "source": [
    "dataset_path = os.getcwd() + os.sep + 'te' + os.sep + 'lexicons'\n",
    "train_path = dataset_path + os.sep + 'te.translit.sampled.train.tsv'\n",
    "valid_path = dataset_path + os.sep + 'te.translit.sampled.dev.tsv'\n",
    "test_path = dataset_path + os.sep + 'te.translit.sampled.test.tsv'"
   ]
  },
  {
   "cell_type": "code",
   "execution_count": 6,
   "id": "6901b847",
   "metadata": {},
   "outputs": [],
   "source": [
    "train_inputs = []\n",
    "train_outputs = []\n",
    "valid_inputs = []\n",
    "valid_outputs = []\n",
    "test_inputs = []\n",
    "test_outputs = []\n",
    "input_chars = set()\n",
    "output_chars = set()"
   ]
  },
  {
   "cell_type": "code",
   "execution_count": 7,
   "id": "dad91d5d",
   "metadata": {},
   "outputs": [],
   "source": [
    "include_all = True"
   ]
  },
  {
   "cell_type": "code",
   "execution_count": 8,
   "id": "748bb090",
   "metadata": {},
   "outputs": [],
   "source": [
    "with open(train_path, \"r\", encoding=\"utf-8\") as f:\n",
    "    lines = f.read().split(\"\\n\")\n",
    "for line in lines[: (len(lines) - 1 )]:\n",
    "    out,inp,a = line.split('\\t')\n",
    "#     if not include_all and a!=1:\n",
    "#         continue\n",
    "    # We use \"tab\" as the \"start sequence\" character\n",
    "    # for the targets, and \"\\n\" as \"end sequence\" character.\n",
    "#     print(out,out[-1],inp,inp[-1])\n",
    "    out = \"\\t\" + out + \"\\n\"\n",
    "    train_inputs.append(inp)\n",
    "    train_outputs.append(out)\n",
    "    for char in inp:\n",
    "        if char not in input_chars:\n",
    "            input_chars.add(char)\n",
    "    for char in out:\n",
    "        if char not in output_chars:\n",
    "            output_chars.add(char)"
   ]
  },
  {
   "cell_type": "code",
   "execution_count": 9,
   "id": "f77599cd",
   "metadata": {},
   "outputs": [
    {
     "output_type": "execute_result",
     "data": {
      "text/plain": [
       "58550"
      ]
     },
     "metadata": {},
     "execution_count": 9
    }
   ],
   "source": [
    "len(train_inputs)"
   ]
  },
  {
   "cell_type": "code",
   "execution_count": 10,
   "id": "97d3b91d",
   "metadata": {},
   "outputs": [],
   "source": [
    "with open(valid_path, \"r\", encoding=\"utf-8\") as f:\n",
    "    lines = f.read().split(\"\\n\")\n",
    "for line in lines[: (len(lines) - 1 )]:\n",
    "    out,inp,a = line.split('\\t')\n",
    "    if not include_all and a!=1:\n",
    "        continue\n",
    "    # We use \"tab\" as the \"start sequence\" character\n",
    "    # for the targets, and \"\\n\" as \"end sequence\" character.\n",
    "#     print(out,out[-1],inp,inp[-1])\n",
    "    out = \"\\t\" + out + \"\\n\"\n",
    "    valid_inputs.append(inp)\n",
    "    valid_outputs.append(out)\n",
    "#     for char in inp:\n",
    "#         if char not in input_chars:\n",
    "#             input_chars.add(char)\n",
    "#     for char in out:\n",
    "#         if char not in output_chars:\n",
    "#             output_chars.add(char)"
   ]
  },
  {
   "cell_type": "code",
   "execution_count": 11,
   "id": "56668b9a",
   "metadata": {},
   "outputs": [],
   "source": [
    "with open(test_path, \"r\", encoding=\"utf-8\") as f:\n",
    "    lines = f.read().split(\"\\n\")\n",
    "for line in lines[: (len(lines) - 1 )]:\n",
    "    out,inp,a = line.split('\\t')\n",
    "    if not include_all and a!=1:\n",
    "        continue\n",
    "    # We use \"tab\" as the \"start sequence\" character\n",
    "    # for the targets, and \"\\n\" as \"end sequence\" character.\n",
    "#     print(out,out[-1],inp,inp[-1])\n",
    "    out = \"\\t\" + out + \"\\n\"\n",
    "    test_inputs.append(inp)\n",
    "    test_outputs.append(out)\n",
    "#     for char in inp:\n",
    "#         if char not in input_chars:\n",
    "#             input_chars.add(char)\n",
    "#     for char in out:\n",
    "#         if char not in output_chars:\n",
    "#             output_chars.add(char)"
   ]
  },
  {
   "cell_type": "code",
   "execution_count": 12,
   "id": "0e91aed0",
   "metadata": {},
   "outputs": [
    {
     "output_type": "stream",
     "name": "stdout",
     "text": [
      "['a', 'b', 'c', 'd', 'e', 'f', 'g', 'h', 'i', 'j', 'k', 'l', 'm', 'n', 'o', 'p', 'q', 'r', 's', 't', 'u', 'v', 'w', 'x', 'y', 'z']\n"
     ]
    }
   ],
   "source": [
    "input_chars = sorted(list(input_chars))\n",
    "print(input_chars)\n",
    "num_input_chars = len(input_chars)"
   ]
  },
  {
   "cell_type": "code",
   "execution_count": 13,
   "id": "9618b73d",
   "metadata": {},
   "outputs": [
    {
     "output_type": "stream",
     "name": "stdout",
     "text": [
      "['\\t', '\\n', 'ం', 'ః', 'అ', 'ఆ', 'ఇ', 'ఈ', 'ఉ', 'ఊ', 'ఋ', 'ఎ', 'ఏ', 'ఐ', 'ఒ', 'ఓ', 'ఔ', 'క', 'ఖ', 'గ', 'ఘ', 'చ', 'ఛ', 'జ', 'ఝ', 'ఞ', 'ట', 'ఠ', 'డ', 'ఢ', 'ణ', 'త', 'థ', 'ద', 'ధ', 'న', 'ప', 'ఫ', 'బ', 'భ', 'మ', 'య', 'ర', 'ఱ', 'ల', 'ళ', 'వ', 'శ', 'ష', 'స', 'హ', 'ా', 'ి', 'ీ', 'ు', 'ూ', 'ృ', 'ె', 'ే', 'ై', 'ొ', 'ో', 'ౌ', '్', '\\u200c']\n"
     ]
    }
   ],
   "source": [
    "output_chars = sorted(list(output_chars))\n",
    "print(output_chars)\n",
    "num_output_chars = len(output_chars)"
   ]
  },
  {
   "cell_type": "code",
   "execution_count": 14,
   "id": "aacbd5e9",
   "metadata": {},
   "outputs": [
    {
     "output_type": "stream",
     "name": "stdout",
     "text": [
      "25 21 23\n22\n"
     ]
    }
   ],
   "source": [
    "train_size = len(train_inputs)\n",
    "max_input_size = max([len(txt) for txt in train_inputs])\n",
    "max_valid_input_size = max([len(txt) for txt in valid_inputs])\n",
    "max_test_input_size = max([len(txt) for txt in test_inputs])\n",
    "print(max_input_size,max_valid_input_size,max_test_input_size)\n",
    "max_output_size = max([len(txt) for txt in  train_outputs])\n",
    "print(max_output_size)"
   ]
  },
  {
   "cell_type": "code",
   "execution_count": 15,
   "id": "56a8b966",
   "metadata": {},
   "outputs": [
    {
     "output_type": "stream",
     "name": "stdout",
     "text": [
      "{'a': 1, 'b': 2, 'c': 3, 'd': 4, 'e': 5, 'f': 6, 'g': 7, 'h': 8, 'i': 9, 'j': 10, 'k': 11, 'l': 12, 'm': 13, 'n': 14, 'o': 15, 'p': 16, 'q': 17, 'r': 18, 's': 19, 't': 20, 'u': 21, 'v': 22, 'w': 23, 'x': 24, 'y': 25, 'z': 26}\n"
     ]
    }
   ],
   "source": [
    "input_index = dict([(char, i+1) for i, char in enumerate(input_chars)])\n",
    "output_index = dict([(char, i+1) for i, char in enumerate(output_chars)])\n",
    "print(input_index)"
   ]
  },
  {
   "cell_type": "code",
   "execution_count": 16,
   "id": "ba93c41e",
   "metadata": {},
   "outputs": [
    {
     "output_type": "stream",
     "name": "stdout",
     "text": [
      "{'\\t': 1, '\\n': 2, 'ం': 3, 'ః': 4, 'అ': 5, 'ఆ': 6, 'ఇ': 7, 'ఈ': 8, 'ఉ': 9, 'ఊ': 10, 'ఋ': 11, 'ఎ': 12, 'ఏ': 13, 'ఐ': 14, 'ఒ': 15, 'ఓ': 16, 'ఔ': 17, 'క': 18, 'ఖ': 19, 'గ': 20, 'ఘ': 21, 'చ': 22, 'ఛ': 23, 'జ': 24, 'ఝ': 25, 'ఞ': 26, 'ట': 27, 'ఠ': 28, 'డ': 29, 'ఢ': 30, 'ణ': 31, 'త': 32, 'థ': 33, 'ద': 34, 'ధ': 35, 'న': 36, 'ప': 37, 'ఫ': 38, 'బ': 39, 'భ': 40, 'మ': 41, 'య': 42, 'ర': 43, 'ఱ': 44, 'ల': 45, 'ళ': 46, 'వ': 47, 'శ': 48, 'ష': 49, 'స': 50, 'హ': 51, 'ా': 52, 'ి': 53, 'ీ': 54, 'ు': 55, 'ూ': 56, 'ృ': 57, 'ె': 58, 'ే': 59, 'ై': 60, 'ొ': 61, 'ో': 62, 'ౌ': 63, '్': 64, '\\u200c': 65}\n"
     ]
    }
   ],
   "source": [
    "print(output_index)"
   ]
  },
  {
   "cell_type": "code",
   "execution_count": 17,
   "id": "7f8f0e4e",
   "metadata": {},
   "outputs": [],
   "source": [
    "#### Enoding in indexes of characters in the set\n",
    "def encode_index(inputs,index):\n",
    "    data = []\n",
    "    for i in range(len(inputs)):\n",
    "        a = np.zeros(len(inputs[i]))\n",
    "        j = 0\n",
    "        for char in inputs[i]:\n",
    "            a[j] = index[char]\n",
    "            j += 1\n",
    "        data.append(a)\n",
    "    data = np.asarray(data).astype(np.ndarray)\n",
    "    return data\n",
    "    "
   ]
  },
  {
   "cell_type": "code",
   "execution_count": 18,
   "id": "f9d8d4b1",
   "metadata": {},
   "outputs": [],
   "source": [
    "# input_data = []\n",
    "# for i in range(train_size):\n",
    "#     a = np.zeros(len(train_inputs[i]))\n",
    "#     j = 0\n",
    "#     for char in train_inputs[i]:\n",
    "#         a[j] = input_index[char]\n",
    "#         j += 1\n",
    "#     input_data.append(a)\n",
    "# input_data = np.asarray(input_data).astype(np.ndarray)"
   ]
  },
  {
   "cell_type": "code",
   "execution_count": 19,
   "id": "093d2dae",
   "metadata": {},
   "outputs": [
    {
     "output_type": "stream",
     "name": "stderr",
     "text": [
      "C:\\Users\\HP\\AppData\\Local\\Programs\\Python\\Python37\\lib\\site-packages\\numpy\\core\\_asarray.py:83: VisibleDeprecationWarning: Creating an ndarray from ragged nested sequences (which is a list-or-tuple of lists-or-tuples-or ndarrays with different lengths or shapes) is deprecated. If you meant to do this, you must specify 'dtype=object' when creating the ndarray\n  return array(a, dtype, copy=False, order=order)\n"
     ]
    }
   ],
   "source": [
    "input_data = encode_index(train_inputs,input_index)\n",
    "input_tensor = tf.ragged.constant(input_data).to_tensor()"
   ]
  },
  {
   "cell_type": "code",
   "execution_count": 20,
   "id": "afe035ea",
   "metadata": {},
   "outputs": [],
   "source": [
    "val_input_data = encode_index(valid_inputs,input_index)\n",
    "val_input_tensor = tf.ragged.constant(val_input_data).to_tensor()"
   ]
  },
  {
   "cell_type": "code",
   "execution_count": 21,
   "id": "7e45a4eb",
   "metadata": {},
   "outputs": [],
   "source": [
    "test_input_data = encode_index(test_inputs,input_index)\n",
    "test_input_tensor = tf.ragged.constant(test_input_data).to_tensor()"
   ]
  },
  {
   "cell_type": "code",
   "execution_count": 22,
   "id": "953483ed",
   "metadata": {},
   "outputs": [
    {
     "output_type": "stream",
     "name": "stdout",
     "text": [
      "58550\n"
     ]
    }
   ],
   "source": [
    "print(len(input_data))"
   ]
  },
  {
   "cell_type": "code",
   "execution_count": 23,
   "id": "350640cc",
   "metadata": {},
   "outputs": [],
   "source": [
    "max_val__input_size = max([len(txt) for txt in valid_inputs])\n",
    "max_val_output_size = max([len(txt) for txt in  valid_outputs])\n",
    "max_test_input_size = max([len(txt) for txt in test_inputs])\n",
    "max_test_output_size = max([len(txt) for txt in  test_outputs])"
   ]
  },
  {
   "cell_type": "code",
   "execution_count": 24,
   "id": "7b26ab00",
   "metadata": {},
   "outputs": [],
   "source": [
    "decoder_input_data = np.zeros(\n",
    "    (len(train_inputs), max_output_size,num_output_chars+1), dtype=\"float32\"\n",
    ")\n",
    "decoder_output_data = np.zeros(\n",
    "    (len(train_inputs), max_output_size,num_output_chars+1), dtype=\"float32\"\n",
    ")\n",
    "for i,target_text in enumerate(train_outputs):\n",
    "    for t, char in enumerate(target_text):\n",
    "        # decoder_target_data is ahead of decoder_input_data by one timestep\n",
    "        decoder_input_data[i, t, output_index[char]] = 1.0\n",
    "        if t > 0:\n",
    "            # decoder_target_data will be ahead by one timestep\n",
    "            # and will not include the start character.\n",
    "            decoder_output_data[i, t - 1, output_index[char]] = 1.0\n",
    "#     decoder_input_data[i, t + 1 :, output_index[\" \"]] = 1.0\n",
    "#     decoder_output_data[i, t:, output_index[\" \"]] = 1.0\n",
    "# print(decoder_input_data[0])\n",
    "decoder_input_data = np.argmax(decoder_input_data,axis=2).astype(dtype='float32')\n",
    "# decoder_output_data = np.argmax(decoder_output_data,axis=2).astype(dtype='float32')\n",
    "# decoder_input_data = tf.convert_to_tensor(decoder_input_data)\n",
    "# decoder_output_data = tf.convert_to_tensor(decoder_output_data) "
   ]
  },
  {
   "cell_type": "code",
   "execution_count": 25,
   "id": "8681f530",
   "metadata": {},
   "outputs": [
    {
     "output_type": "stream",
     "name": "stdout",
     "text": [
      "[ 1.  5.  3. 18. 53. 32.  2.  0.  0.  0.  0.  0.  0.  0.  0.  0.  0.  0.\n  0.  0.  0.  0.]\n[ 1. 13. 11.  9. 20.  1.]\n"
     ]
    }
   ],
   "source": [
    "print(decoder_input_data[0])\n",
    "print(input_data[0])"
   ]
  },
  {
   "cell_type": "code",
   "execution_count": 26,
   "id": "d32549f6",
   "metadata": {},
   "outputs": [],
   "source": [
    "decoder_val_input_data = np.zeros(\n",
    "    (len(valid_inputs), max_val_output_size,num_output_chars+1), dtype=\"float32\"\n",
    ")\n",
    "decoder_val_output_data = np.zeros(\n",
    "    (len(valid_inputs), max_val_output_size,num_output_chars+1), dtype=\"float32\"\n",
    ")\n",
    "for i,target_text in enumerate(valid_outputs):\n",
    "    for t, char in enumerate(target_text):\n",
    "        # decoder_target_data is ahead of decoder_input_data by one timestep\n",
    "        decoder_val_input_data[i, t, output_index[char]] = 1.0\n",
    "        if t > 0:\n",
    "            # decoder_target_data will be ahead by one timestep\n",
    "            # and will not include the start character.\n",
    "            decoder_val_output_data[i, t - 1, output_index[char]] = 1.0\n",
    "#     decoder_input_data[i, t + 1 :, output_index[\" \"]] = 1.0\n",
    "#     decoder_output_data[i, t:, output_index[\" \"]] = 1.0\n",
    "decoder_val_input_data = np.argmax(decoder_val_input_data,axis=2).astype(dtype='float32')\n",
    "# decoder_val_output_data = np.argmax(decoder_val_output_data,axis=2).astype(dtype='float32')\n",
    "# decoder_val_input_data = tf.convert_to_tensor(decoder_val_input_data)\n",
    "# decoder_val_output_data = tf.convert_to_tensor(decoder_val_output_data) "
   ]
  },
  {
   "cell_type": "code",
   "execution_count": 27,
   "id": "52f20581",
   "metadata": {},
   "outputs": [],
   "source": [
    "decoder_test_input_data = np.zeros(\n",
    "    (len(test_inputs), max_test_output_size,num_output_chars+1), dtype=\"float32\"\n",
    ")\n",
    "decoder_test_output_data = np.zeros(\n",
    "    (len(test_inputs), max_test_output_size,num_output_chars+1), dtype=\"float32\"\n",
    ")\n",
    "for i,target_text in enumerate(test_outputs):\n",
    "    for t, char in enumerate(target_text):\n",
    "        # decoder_target_data is ahead of decoder_input_data by one timestep\n",
    "        decoder_test_input_data[i, t, output_index[char]] = 1.0\n",
    "        if t > 0:\n",
    "            # decoder_target_data will be ahead by one timestep\n",
    "            # and will not include the start character.\n",
    "            decoder_test_output_data[i, t - 1, output_index[char]] = 1.0\n",
    "#     decoder_input_data[i, t + 1 :, output_index[\" \"]] = 1.0\n",
    "#     decoder_output_data[i, t:, output_index[\" \"]] = 1.0\n",
    "decoder_test_input_data = np.argmax(decoder_test_input_data,axis=2).astype(dtype='float32')\n",
    "# decoder_test_output_data = np.argmax(decoder_test_output_data,axis=2).astype(dtype='float32')\n",
    "# decoder_test_input_data = tf.convert_to_tensor(decoder_test_input_data)\n",
    "# decoder_test_output_data = tf.convert_to_tensor(decoder_test_output_data) "
   ]
  },
  {
   "cell_type": "code",
   "execution_count": 28,
   "id": "e50801eb",
   "metadata": {},
   "outputs": [],
   "source": [
    "# charinput = tf.keras.Input(shape=(None,),name=\"input\")\n",
    "# embedding = tf.keras.layers.Embedding(num_input_chars,input_embed_size, name=\"embedding\")(charinput)"
   ]
  },
  {
   "cell_type": "code",
   "execution_count": 29,
   "id": "13b5339e",
   "metadata": {},
   "outputs": [],
   "source": [
    "# model = tf.keras.Model(charinput,embedding)"
   ]
  },
  {
   "cell_type": "code",
   "execution_count": 30,
   "id": "5b7e8616",
   "metadata": {},
   "outputs": [],
   "source": [
    "# model.compile(\"rmsprop\",\"mse\")"
   ]
  },
  {
   "cell_type": "code",
   "execution_count": 31,
   "id": "745cffc6",
   "metadata": {},
   "outputs": [],
   "source": [
    "# out = model.predict(input_data[0])\n",
    "# print(out)"
   ]
  },
  {
   "cell_type": "code",
   "execution_count": 32,
   "id": "66469fb3",
   "metadata": {},
   "outputs": [],
   "source": [
    "# import tensorflow.keras.backend as K\n",
    "\n",
    "# x = K.placeholder(shape=(None, None, 2))\n",
    "# y = K.placeholder(shape=(2, 2))\n",
    "\n",
    "# print(K.dot(x, y))"
   ]
  },
  {
   "cell_type": "markdown",
   "id": "8751cf97",
   "metadata": {},
   "source": [
    "# Adding Attention"
   ]
  },
  {
   "cell_type": "code",
   "execution_count": 33,
   "id": "aa2157e9",
   "metadata": {},
   "outputs": [],
   "source": [
    "from tensorflow.python.keras.layers import Layer\n",
    "from tensorflow.python.keras import backend as K\n",
    "\n",
    "\n",
    "class AttentionLayer(Layer):\n",
    "    \"\"\"\n",
    "    This class implements Bahdanau attention (https://arxiv.org/pdf/1409.0473.pdf).\n",
    "    There are three sets of weights introduced W_a, U_a, and V_a\n",
    "     \"\"\"\n",
    "\n",
    "    def __init__(self, **kwargs):\n",
    "        super(AttentionLayer, self).__init__(**kwargs)\n",
    "\n",
    "    def build(self, input_shape):\n",
    "        assert isinstance(input_shape, list)\n",
    "        # Create a trainable weight variable for this layer.\n",
    "\n",
    "        self.W_a = self.add_weight(name='W_a',\n",
    "                                   shape=tf.TensorShape((input_shape[0][2], input_shape[0][2])),\n",
    "                                   initializer='uniform',\n",
    "                                   trainable=True)\n",
    "        self.U_a = self.add_weight(name='U_a',\n",
    "                                   shape=tf.TensorShape((input_shape[1][2], input_shape[0][2])),\n",
    "                                   initializer='uniform',\n",
    "                                   trainable=True)\n",
    "        self.V_a = self.add_weight(name='V_a',\n",
    "                                   shape=tf.TensorShape((input_shape[0][2], 1)),\n",
    "                                   initializer='uniform',\n",
    "                                   trainable=True)\n",
    "\n",
    "        super(AttentionLayer, self).build(input_shape)  # Be sure to call this at the end\n",
    "\n",
    "    def call(self, inputs, verbose=False):\n",
    "        \"\"\"\n",
    "        inputs: [encoder_output_sequence, decoder_output_sequence]\n",
    "        \"\"\"\n",
    "        assert type(inputs) == list\n",
    "        encoder_out_seq, decoder_out_seq = inputs\n",
    "        if verbose:\n",
    "            print('encoder_out_seq>', encoder_out_seq.shape)\n",
    "            print('decoder_out_seq>', decoder_out_seq.shape)\n",
    "\n",
    "        def energy_step(inputs, states):\n",
    "            \"\"\" Step function for computing energy for a single decoder state\n",
    "            inputs: (batchsize * 1 * de_in_dim)\n",
    "            states: (batchsize * 1 * de_latent_dim)\n",
    "            \"\"\"\n",
    "            \n",
    "\n",
    "            assert_msg = \"States must be an iterable. Got {} of type {}\".format(states, type(states))\n",
    "            assert isinstance(states, list) or isinstance(states, tuple), assert_msg\n",
    "\n",
    "            \"\"\" Some parameters required for shaping tensors\"\"\"\n",
    "            en_seq_len, en_hidden = encoder_out_seq.shape[1], encoder_out_seq.shape[2]\n",
    "            de_hidden = inputs.shape[-1]\n",
    "\n",
    "            \"\"\" Computing S.Wa where S=[s0, s1, ..., si]\"\"\"\n",
    "            # <= batch size * en_seq_len * latent_dim\n",
    "            W_a_dot_s = K.dot(encoder_out_seq, self.W_a)\n",
    "\n",
    "            \"\"\" Computing hj.Ua \"\"\"\n",
    "            U_a_dot_h = K.expand_dims(K.dot(inputs, self.U_a), 1)  # <= batch_size, 1, latent_dim\n",
    "            if verbose:\n",
    "                print('Ua.h>', U_a_dot_h.shape)\n",
    "\n",
    "            \"\"\" tanh(S.Wa + hj.Ua) \"\"\"\n",
    "            # <= batch_size*en_seq_len, latent_dim\n",
    "            Ws_plus_Uh = K.tanh(W_a_dot_s + U_a_dot_h)\n",
    "            if verbose:\n",
    "                print('Ws+Uh>', Ws_plus_Uh.shape)\n",
    "\n",
    "            \"\"\" softmax(va.tanh(S.Wa + hj.Ua)) \"\"\"\n",
    "            # <= batch_size, en_seq_len\n",
    "            e_i = K.squeeze(K.dot(Ws_plus_Uh, self.V_a), axis=-1)\n",
    "            # <= batch_size, en_seq_len\n",
    "            e_i = K.softmax(e_i)\n",
    "\n",
    "            if verbose:\n",
    "                print('ei>', e_i.shape)\n",
    "\n",
    "            return e_i, [e_i]\n",
    "\n",
    "        def context_step(inputs, states):\n",
    "            \"\"\" Step function for computing ci using ei \"\"\"\n",
    "\n",
    "            assert_msg = \"States must be an iterable. Got {} of type {}\".format(states, type(states))\n",
    "            assert isinstance(states, list) or isinstance(states, tuple), assert_msg\n",
    "\n",
    "            # <= batch_size, hidden_size\n",
    "            c_i = K.sum(encoder_out_seq * K.expand_dims(inputs, -1), axis=1)\n",
    "            if verbose:\n",
    "                print('ci>', c_i.shape)\n",
    "            return c_i, [c_i]\n",
    "\n",
    "        fake_state_c = K.sum(encoder_out_seq, axis=1)\n",
    "        fake_state_e = K.sum(encoder_out_seq, axis=2)  # <= (batch_size, enc_seq_len, latent_dim\n",
    "\n",
    "        \"\"\" Computing energy outputs \"\"\"\n",
    "        # e_outputs => (batch_size, de_seq_len, en_seq_len)\n",
    "        last_out, e_outputs, _ = K.rnn(\n",
    "            energy_step, decoder_out_seq, [fake_state_e],\n",
    "        )\n",
    "\n",
    "        \"\"\" Computing context vectors \"\"\"\n",
    "        last_out, c_outputs, _ = K.rnn(\n",
    "            context_step, e_outputs, [fake_state_c],\n",
    "        )\n",
    "\n",
    "        return c_outputs, e_outputs\n",
    "\n",
    "    def compute_output_shape(self, input_shape):\n",
    "        \"\"\" Outputs produced by the layer \"\"\"\n",
    "        return [\n",
    "            tf.TensorShape((input_shape[1][0], input_shape[1][1], input_shape[1][2])),\n",
    "            tf.TensorShape((input_shape[1][0], input_shape[1][1], input_shape[0][1]))\n",
    "        ]"
   ]
  },
  {
   "cell_type": "markdown",
   "id": "eb688c59",
   "metadata": {},
   "source": [
    "# Sample Model"
   ]
  },
  {
   "cell_type": "code",
   "execution_count": 34,
   "id": "b62a425f",
   "metadata": {},
   "outputs": [],
   "source": [
    "def get_sample_model(input_embed_size , hidden_size):\n",
    "    charinput = tf.keras.Input(shape=(None,),dtype='float32',name=\"input\")\n",
    "    embedding = tf.keras.layers.Embedding(num_input_chars+1,input_embed_size, name=\"embedding\")(charinput)\n",
    "    \n",
    "    encoder = tf.keras.layers.LSTM(hidden_size, return_state=True,return_sequences=True )\n",
    "    encoder_outputs, state_h, state_c = encoder(embedding)\n",
    "    encoder_states = [state_h, state_c]\n",
    "    \n",
    "    decoder_inputs = tf.keras.Input(shape=(None,),name=\"decoder_input\")\n",
    "    decoder_embedding = tf.keras.layers.Embedding(num_output_chars + 1,64, name=\"decoder_embedding\",mask_zero=True)(decoder_inputs)\n",
    "    \n",
    "    decoder_lstm = tf.keras.layers.LSTM(hidden_size, return_sequences=True, return_state=True)\n",
    "    decoder_outputs, _, _ = decoder_lstm(decoder_embedding, initial_state=encoder_states)\n",
    "    print(encoder_outputs.shape)\n",
    "    # Attention layer\n",
    "    attn_layer = AttentionLayer(name='attention_layer')\n",
    "    attn_out, attn_states = attn_layer([encoder_outputs, decoder_outputs])\n",
    "\n",
    "    # Concat attention input and decoder GRU output\n",
    "    decoder_concat_input = tf.keras.layers.Concatenate(axis=-1, name='concat_layer')([decoder_outputs, attn_out])\n",
    "\n",
    "    # Dense layer\n",
    "    decoder_dense = tf.keras.layers.Dense(num_output_chars + 1, activation=\"softmax\")\n",
    "    dense_time = tf.keras.layers.TimeDistributed(decoder_dense, name='time_distributed_layer')\n",
    "#     decoder_pred = dense_time(decoder_concat_input)\n",
    "    \n",
    "    decoder_outputs = dense_time(decoder_concat_input)\n",
    "    \n",
    "    model = tf.keras.Model([charinput,decoder_inputs],decoder_outputs)\n",
    "    \n",
    "    encoder_states_attn = [encoder_outputs,state_h,state_c]\n",
    "    encoder_model = tf.keras.Model(charinput, encoder_states_attn)\n",
    "    # define inference decoder\n",
    "#     decoder_inf_out, decoder_inf_state = decoder_gru(decoder_inf_inputs, initial_state=decoder_init_state)\n",
    "#     attn_inf_out, attn_inf_states = attn_layer([encoder_inf_states, decoder_inf_out])\n",
    "#     decoder_inf_concat = Concatenate(axis=-1, name='concat')([decoder_inf_out, attn_inf_out])\n",
    "#     decoder_inf_pred = TimeDistributed(dense)(decoder_inf_concat)\n",
    "#     decoder_model = Model(inputs=[encoder_inf_states, decoder_init_state, decoder_inf_inputs],\n",
    "#                           outputs=[decoder_inf_pred, attn_inf_states, decoder_inf_state])\n",
    "    \n",
    "    decoder_state_input_h = tf.keras.Input(shape=(hidden_size,))\n",
    "    decoder_state_input_c = tf.keras.Input(shape=(hidden_size,))\n",
    "    decoder_states_inputs = [decoder_state_input_h, decoder_state_input_c]\n",
    "    \n",
    "    encoder_inf_states = tf.keras.Input(shape=(None,hidden_size), name='encoder_inf_states')\n",
    "    decoder_outputs, state_h, state_c = decoder_lstm(decoder_embedding, initial_state=decoder_states_inputs)\n",
    "    attn_inf_out, attn_inf_states = attn_layer([encoder_inf_states, decoder_outputs])\n",
    "    decoder_inf_concat = tf.keras.layers.Concatenate(axis=-1, name='concat')([decoder_outputs, attn_inf_out])\n",
    "    decoder_outputs = tf.keras.layers.TimeDistributed(decoder_dense)(decoder_inf_concat)\n",
    "    decoder_states = [state_h, state_c]\n",
    "    \n",
    "    decoder_model = tf.keras.Model([decoder_inputs] + [encoder_inf_states,decoder_state_input_h,decoder_state_input_c]\n",
    "                                   , [decoder_outputs] + decoder_states + [attn_inf_states])\n",
    "    return model, encoder_model, decoder_model"
   ]
  },
  {
   "cell_type": "code",
   "execution_count": 35,
   "id": "d476dc6f",
   "metadata": {},
   "outputs": [
    {
     "output_type": "stream",
     "name": "stdout",
     "text": [
      "(None, None, 128)\n"
     ]
    }
   ],
   "source": [
    "sample_model, enc_model, dec_model = get_sample_model(16,128)"
   ]
  },
  {
   "cell_type": "code",
   "execution_count": 36,
   "id": "c71b19bb",
   "metadata": {},
   "outputs": [
    {
     "output_type": "stream",
     "name": "stdout",
     "text": [
      "Model: \"model\"\n__________________________________________________________________________________________________\nLayer (type)                    Output Shape         Param #     Connected to                     \n==================================================================================================\ninput (InputLayer)              [(None, None)]       0                                            \n__________________________________________________________________________________________________\ndecoder_input (InputLayer)      [(None, None)]       0                                            \n__________________________________________________________________________________________________\nembedding (Embedding)           (None, None, 16)     432         input[0][0]                      \n__________________________________________________________________________________________________\ndecoder_embedding (Embedding)   (None, None, 64)     4224        decoder_input[0][0]              \n__________________________________________________________________________________________________\nlstm (LSTM)                     [(None, None, 128),  74240       embedding[0][0]                  \n__________________________________________________________________________________________________\nlstm_1 (LSTM)                   [(None, None, 128),  98816       decoder_embedding[0][0]          \n                                                                 lstm[0][1]                       \n                                                                 lstm[0][2]                       \n__________________________________________________________________________________________________\nattention_layer (AttentionLayer ((None, None, 128),  32896       lstm[0][0]                       \n                                                                 lstm_1[0][0]                     \n__________________________________________________________________________________________________\nconcat_layer (Concatenate)      (None, None, 256)    0           lstm_1[0][0]                     \n                                                                 attention_layer[0][0]            \n__________________________________________________________________________________________________\ntime_distributed_layer (TimeDis (None, None, 66)     16962       concat_layer[0][0]               \n==================================================================================================\nTotal params: 227,570\nTrainable params: 227,570\nNon-trainable params: 0\n__________________________________________________________________________________________________\n"
     ]
    }
   ],
   "source": [
    "sample_model.compile(\n",
    "    optimizer=\"adam\", loss=\"categorical_crossentropy\", metrics=[\"accuracy\"]\n",
    ")\n",
    "sample_model.summary()"
   ]
  },
  {
   "cell_type": "code",
   "execution_count": 37,
   "id": "6cc12abf",
   "metadata": {},
   "outputs": [],
   "source": [
    "reverse_input_char_index = dict((i, char) for char, i in input_index.items())\n",
    "reverse_target_char_index = dict((i, char) for char, i in output_index.items())\n",
    "reverse_target_char_index[0] = ' '\n",
    "\n",
    "def decode_sequence(input_seq):\n",
    "    sz  = input_seq.shape[0]\n",
    "    states_value = enc_model.predict(input_seq)\n",
    "    target_seq = np.zeros((sz,1,num_output_chars+1))\n",
    "    for i in range(sz):\n",
    "        target_seq[i, 0, output_index[\"\\t\"]] = 1.0\n",
    "    target_seq = np.argmax(target_seq,axis=2).astype('float32')\n",
    "    decoded_seqs = [\"\" for i in range(sz)]\n",
    "    j = 0\n",
    "    while j < max_output_size:\n",
    "        output_tokens, h, c, attn = dec_model.predict([target_seq] + states_value)\n",
    "\n",
    "#         print(output_tokens)\n",
    "        sampled_token_index = np.argmax(output_tokens[:, -1, :],axis=1)\n",
    "        target_seq = np.zeros((sz, 1, num_output_chars+1))\n",
    "        for i in range(sz):\n",
    "            sampled_char = reverse_target_char_index[sampled_token_index[i]]\n",
    "            decoded_seqs[i] += sampled_char\n",
    "            target_seq[i, 0, sampled_token_index[i]] = 1.0\n",
    "        target_seq = np.argmax(target_seq,axis=2).astype('float32')\n",
    "        # Update states\n",
    "        states_value[1] = h\n",
    "        states_value[2] = c\n",
    "        j+=1\n",
    "    output = [ (\"\\t\"+st.split('\\n')[0]+\"\\n\") for st in decoded_seqs]\n",
    "    return output"
   ]
  },
  {
   "cell_type": "code",
   "execution_count": 38,
   "id": "b557dfb0",
   "metadata": {},
   "outputs": [],
   "source": [
    "# input_tensor = input_tensor.to_tensor()\n",
    "# dec_model.run_eagerly = True"
   ]
  },
  {
   "cell_type": "code",
   "execution_count": 39,
   "id": "60cea938",
   "metadata": {},
   "outputs": [],
   "source": [
    "# for seqid in range(10):\n",
    "#     input_seq = input_tensor[seqid:seqid+1]\n",
    "# #     print(input_seq.shape,input_tensor.shape)\n",
    "#     decoded_sentence = decode_sequence(input_seq)\n",
    "#     print(\"-\")\n",
    "#     print(\"Input sentence:\", train_inputs[seqid])\n",
    "#     print(\"Decoded sentence:\", decoded_sentence)"
   ]
  },
  {
   "cell_type": "code",
   "execution_count": 40,
   "id": "962dfe8e",
   "metadata": {},
   "outputs": [
    {
     "output_type": "execute_result",
     "data": {
      "text/plain": [
       "<tf.Tensor: shape=(1, 25), dtype=float64, numpy=\n",
       "array([[ 1., 13., 11.,  9., 20.,  1.,  0.,  0.,  0.,  0.,  0.,  0.,  0.,\n",
       "         0.,  0.,  0.,  0.,  0.,  0.,  0.,  0.,  0.,  0.,  0.,  0.]])>"
      ]
     },
     "metadata": {},
     "execution_count": 40
    }
   ],
   "source": [
    "tf.config.run_functions_eagerly(True)\n",
    "input_tensor[0:1]"
   ]
  },
  {
   "cell_type": "code",
   "execution_count": 41,
   "id": "83f42ba0",
   "metadata": {},
   "outputs": [
    {
     "output_type": "stream",
     "name": "stderr",
     "text": [
      "C:\\Users\\HP\\AppData\\Local\\Programs\\Python\\Python37\\lib\\site-packages\\tensorflow\\python\\data\\ops\\dataset_ops.py:3504: UserWarning: Even though the tf.config.experimental_run_functions_eagerly option is set, this option does not apply to tf.data functions. tf.data functions are still traced and executed as graphs.\n",
      "  \"Even though the tf.config.experimental_run_functions_eagerly \"\n",
      "Epoch 1/5\n",
      "915/915 [==============================] - 762s 833ms/step - loss: 1.1497 - accuracy: 0.2233 - val_loss: 0.8439 - val_accuracy: 0.3532\n",
      "Epoch 2/5\n",
      "915/915 [==============================] - 748s 818ms/step - loss: 0.6351 - accuracy: 0.4875 - val_loss: 0.3446 - val_accuracy: 0.6688\n",
      "Epoch 3/5\n",
      "915/915 [==============================] - 744s 813ms/step - loss: 0.2892 - accuracy: 0.7126 - val_loss: 0.2474 - val_accuracy: 0.7238\n",
      "Epoch 4/5\n",
      "915/915 [==============================] - 662s 723ms/step - loss: 0.1848 - accuracy: 0.7785 - val_loss: 0.1617 - val_accuracy: 0.7836\n",
      "Epoch 5/5\n",
      "915/915 [==============================] - 637s 696ms/step - loss: 0.1407 - accuracy: 0.8076 - val_loss: 0.1492 - val_accuracy: 0.7918\n"
     ]
    },
    {
     "output_type": "execute_result",
     "data": {
      "text/plain": [
       "<tensorflow.python.keras.callbacks.History at 0x201e9e75320>"
      ]
     },
     "metadata": {},
     "execution_count": 41
    }
   ],
   "source": [
    "sample_model.fit(\n",
    "    [input_tensor,decoder_input_data],\n",
    "    decoder_output_data,\n",
    "    batch_size=64,\n",
    "    epochs=5,\n",
    "    validation_data=([val_input_tensor,decoder_val_input_data],decoder_val_output_data),\n",
    "    shuffle=True,\n",
    "    verbose=True,\n",
    ")"
   ]
  },
  {
   "cell_type": "code",
   "execution_count": 40,
   "id": "7b5d9d88",
   "metadata": {},
   "outputs": [],
   "source": [
    "# def evaluate(data_tensor,data_output,k):\n",
    "#     crct = 0\n",
    "#     input_seq = data_tensor[:k]\n",
    "# #     print(input_seq.shape,input_tensor.shape)\n",
    "#     decoded_sentences = decode_sequence(input_seq)\n",
    "#     sts = data_output[:k]\n",
    "#     crct += np.sum(np.array(sts) == np.array(decoded_sentences))\n",
    "# #         print(crct/(seqid+1))\n",
    "# #         for st,d in zip(sts,decoded_sentences):\n",
    "# #             print(st+\"_o\")\n",
    "# #             print(d+\"_o\")\n",
    "#     return crct/k,zip(decoded_sentences,sts)"
   ]
  },
  {
   "cell_type": "code",
   "execution_count": 41,
   "id": "42d57cc3",
   "metadata": {},
   "outputs": [],
   "source": [
    "# a, b = evaluate(test_input_tensor,test_outputs,len(test_outputs))"
   ]
  },
  {
   "cell_type": "code",
   "execution_count": 42,
   "id": "6acc5440",
   "metadata": {},
   "outputs": [
    {
     "output_type": "stream",
     "name": "stderr",
     "text": [
      "WARNING:absl:Found untraced functions such as lstm_cell_layer_call_fn, lstm_cell_layer_call_and_return_conditional_losses, lstm_cell_1_layer_call_fn, lstm_cell_1_layer_call_and_return_conditional_losses, lstm_cell_layer_call_fn while saving (showing 5 of 10). These functions will not be directly callable after loading.\n",
      "WARNING:absl:Found untraced functions such as lstm_cell_layer_call_fn, lstm_cell_layer_call_and_return_conditional_losses, lstm_cell_1_layer_call_fn, lstm_cell_1_layer_call_and_return_conditional_losses, lstm_cell_layer_call_fn while saving (showing 5 of 10). These functions will not be directly callable after loading.\n",
      "INFO:tensorflow:Assets written to: sample_attention\\model\\assets\n",
      "INFO:tensorflow:Assets written to: sample_attention\\model\\assets\n",
      "WARNING:absl:Found untraced functions such as lstm_cell_layer_call_fn, lstm_cell_layer_call_and_return_conditional_losses, lstm_cell_layer_call_fn, lstm_cell_layer_call_and_return_conditional_losses, lstm_cell_layer_call_and_return_conditional_losses while saving (showing 5 of 5). These functions will not be directly callable after loading.\n",
      "WARNING:absl:Found untraced functions such as lstm_cell_layer_call_fn, lstm_cell_layer_call_and_return_conditional_losses, lstm_cell_layer_call_fn, lstm_cell_layer_call_and_return_conditional_losses, lstm_cell_layer_call_and_return_conditional_losses while saving (showing 5 of 5). These functions will not be directly callable after loading.\n",
      "INFO:tensorflow:Assets written to: sample_attention\\enc\\assets\n",
      "INFO:tensorflow:Assets written to: sample_attention\\enc\\assets\n",
      "WARNING:absl:Found untraced functions such as lstm_cell_1_layer_call_fn, lstm_cell_1_layer_call_and_return_conditional_losses, lstm_cell_1_layer_call_fn, lstm_cell_1_layer_call_and_return_conditional_losses, lstm_cell_1_layer_call_and_return_conditional_losses while saving (showing 5 of 5). These functions will not be directly callable after loading.\n",
      "WARNING:absl:Found untraced functions such as lstm_cell_1_layer_call_fn, lstm_cell_1_layer_call_and_return_conditional_losses, lstm_cell_1_layer_call_fn, lstm_cell_1_layer_call_and_return_conditional_losses, lstm_cell_1_layer_call_and_return_conditional_losses while saving (showing 5 of 5). These functions will not be directly callable after loading.\n",
      "INFO:tensorflow:Assets written to: sample_attention\\dec\\assets\n",
      "INFO:tensorflow:Assets written to: sample_attention\\dec\\assets\n"
     ]
    }
   ],
   "source": [
    "sample_model.save('sample_attention'+os.sep+'model')\n",
    "enc_model.save('sample_attention'+os.sep+'enc')\n",
    "dec_model.save('sample_attention'+os.sep+'dec')"
   ]
  },
  {
   "cell_type": "markdown",
   "id": "530a59bc",
   "metadata": {},
   "source": [
    "# Beam Search"
   ]
  },
  {
   "cell_type": "code",
   "execution_count": 43,
   "id": "20e8929e",
   "metadata": {},
   "outputs": [],
   "source": [
    "# def beam_search(outputs, k, output_words, reverse_index):\n",
    "#     for i in range(len(outputs)):\n",
    "#         seqs = beam_search_decoder(outputs[i],k)\n",
    "import math\n",
    "reverse_input_char_index = dict((i, char) for char, i in input_index.items())\n",
    "reverse_target_char_index = dict((i, char) for char, i in output_index.items())\n",
    "reverse_target_char_index[0] = ' '\n",
    "\n",
    "def beam_decode(input_seq, beam_size, enc_model, dec_model, cell_type):\n",
    "    sz  = input_seq.shape[0]\n",
    "    attention = []\n",
    "    states_value = enc_model.predict(input_seq)\n",
    "    \n",
    "    target_seq = np.zeros((sz,1,num_output_chars+1))\n",
    "    \n",
    "    for i in range(sz):\n",
    "        target_seq[i, 0, output_index[\"\\t\"]] = 1.0\n",
    "    \n",
    "    target_seq = np.argmax(target_seq,axis=2).astype('float32')\n",
    "    # print(\"check1\")\n",
    "    decoded_seqs = [\"\" for i in range(sz)]\n",
    "    if cell_type == 'LSTM':\n",
    "        output_tokens, h, c, attn = dec_model.predict([target_seq] + states_value)\n",
    "        states = [states_value[0],h,c]\n",
    "        attention.append(attn)\n",
    "    if cell_type == 'GRU' or cell_type == 'RNN':\n",
    "        output_tokens, h, attn = dec_model.predict([target_seq] + states_value)\n",
    "        states = [states_value[0],h]\n",
    "        attention.append(attn)\n",
    "    # print(\"check2\")\n",
    "    \n",
    "    sequences = []\n",
    "    for i in range(sz):\n",
    "        sequences.append([])\n",
    "#     beam_decoded \n",
    "    sampled_token_beam = np.argpartition(output_tokens[:, -1, :], -beam_size ,axis=1)[:,-beam_size:]\n",
    "    sampled_token_indexes = np.argmax(output_tokens[:, -1, :],axis=1)\n",
    "#     print(sampled_token_beam.shape,sampled_token_indexes.shape)\n",
    "    for i in range(sz):\n",
    "        allcandidates = list()\n",
    "        for j in range(beam_size):\n",
    "            allcandidates.append(\n",
    "                    [ [ sampled_token_beam[i][j] ],\n",
    "                        -np.log( \n",
    "                        output_tokens[i][-1][sampled_token_beam[i][j]]),\n",
    "                        states ,\n",
    "                        False])\n",
    "        ordered = sorted(allcandidates, key=lambda tup:tup[1])\n",
    "        sequences[i] = ordered[:beam_size]\n",
    "        \n",
    "    \n",
    "    \n",
    "    # print(\"check3\")\n",
    "    target_seq = np.zeros((sz, beam_size, num_output_chars+1))\n",
    "#     states_beam = []\n",
    "    for i in range(sz):\n",
    "        for j in range(beam_size): \n",
    "#             sampled_char = reverse_target_char_index[sequences[i][j][0][-1]]\n",
    "#             decoded_seqs[i]\n",
    "#             print(j,sequences[i][j][0][-1]\n",
    "            target_seq[i, j, sequences[i][j][0][-1]] = 1.0\n",
    "    target_seq = np.argmax(target_seq,axis=2).astype('float32')\n",
    "#     enc_out = states_value[0]\n",
    "    \n",
    "#     for i in range(beam_size):\n",
    "#         a = []\n",
    "# #         a.append(enc_out)\n",
    "#         a.append(h)\n",
    "#         a.append(c)\n",
    "#         states_beam.append(a)\n",
    "#     states_value[1] = h\n",
    "#     states_value[2] = c\n",
    "#     a = []\n",
    "#     for j in range(beam_size):\n",
    "#         st = \"\"\n",
    "#         for ind in sequences[0][j][0]:\n",
    "#             st += reverse_target_char_index[ind]\n",
    "#         a.append( (\"\\t\"+st+\"\\n\",sequences[0][j][1]) )\n",
    "#     print(a)\n",
    "#     print()\n",
    "    it = 1\n",
    "    while it < max_output_size:\n",
    "        allcandidates = [list() for i in range(sz)]\n",
    "        for k in range(len(sequences[i])):\n",
    "#             print(target_seq.shape)\n",
    "#             print(target_seq[:,k],sequences[i][k][2])\n",
    "            if cell_type == 'LSTM':\n",
    "                output_tokens, h, c, attn = dec_model.predict(\n",
    "                [target_seq[:,k]] + \n",
    "                sequences[i][k][2])\n",
    "                states = [states_value[0],h,c]\n",
    "                attention.append(attn)\n",
    "            if cell_type == 'GRU' or cell_type == 'RNN':\n",
    "                output_tokens, h, attn = dec_model.predict(\n",
    "                [target_seq[:,k]] + \n",
    "                sequences[i][k][2])\n",
    "                states = [states_value[0],h]\n",
    "                attention.append(attn)\n",
    "            sampled_token_beam = np.argpartition(output_tokens[:, -1, :], -beam_size ,axis=1)[:,-beam_size:]\n",
    "            sampled_token_indexes = np.argmax(output_tokens[:, -1, :],axis=1)\n",
    "            \n",
    "#             print(output_tokens)\n",
    "#             print(sampled_token_beam.shape,sampled_token_indexes.shape)\n",
    "            for i in range(sz):\n",
    "                    if sequences[i][k][3]:\n",
    "                        allcandidates[i].append(\n",
    "                                [ sequences[i][k][0]+[ sampled_token_beam[i][j] ],\n",
    "                                 sequences[i][k][1],\n",
    "                                           states, True ])\n",
    "                        continue\n",
    "                    for j in range(beam_size):\n",
    "                        if reverse_target_char_index[sampled_token_beam[i][j]]=='\\n':\n",
    "                            allcandidates[i].append(\n",
    "                                [ sequences[i][k][0]+[ sampled_token_beam[i][j] ],\n",
    "                                 sequences[i][k][1]-np.log( \n",
    "                                     output_tokens[i][-1][sampled_token_beam[i][j]]),\n",
    "                                           states, True ])\n",
    "                        else:\n",
    "                            allcandidates[i].append(\n",
    "                            [ sequences[i][k][0]+[ sampled_token_beam[i][j] ],\n",
    "                             sequences[i][k][1]-np.log( \n",
    "                                 output_tokens[i][-1][sampled_token_beam[i][j]]),\n",
    "                                       states, False ])\n",
    "        for i in range(sz):\n",
    "            ordered = sorted(allcandidates[i], key=lambda tup:tup[1])\n",
    "            sequences[i] = ordered[:beam_size]\n",
    "#         for i in range(sz):\n",
    "#             print(\"all\")\n",
    "#             a = []\n",
    "#             for j in range(len(allcandidates[i])):\n",
    "#                 st = \"\"\n",
    "#                 for ind in allcandidates[i][j][0]:\n",
    "#                     st += reverse_target_char_index[ind]\n",
    "#                 a.append( (\"\\t\"+st+\"\\n\",allcandidates[i][j][1]) )\n",
    "#             print(a)\n",
    "#             print()\n",
    "#             print(\"seq\")\n",
    "#             a = []\n",
    "#             for j in range(beam_size):\n",
    "#                 st = \"\"\n",
    "#                 for ind in sequences[i][j][0]:\n",
    "#                     st += reverse_target_char_index[ind]\n",
    "#                 a.append( (\"\\t\"+st+\"\\n\",sequences[i][j][1]) )\n",
    "#             print(a)\n",
    "#             print()\n",
    "        target_seq = np.zeros((sz, beam_size, num_output_chars+1))\n",
    "        for i in range(sz):\n",
    "            for j in range(beam_size): \n",
    "                target_seq[i, j, sequences[i][j][0][-1]] = 1.0\n",
    "        target_seq = np.argmax(target_seq,axis=2).astype('float32')\n",
    "        it+=1\n",
    "#     output = [ (\"\\t\"+st.split('\\n')[0]+\"\\n\") for st in decoded_seqs]\n",
    "    output = []\n",
    "    for i in range(sz):\n",
    "        st = \"\"\n",
    "        for ind in sequences[i][0][0]:\n",
    "            st += reverse_target_char_index[ind]\n",
    "        output.append(\"\\t\"+st.split('\\n')[0]+\"\\n\")\n",
    "    # print(output,attention)\n",
    "    return output , attention\n",
    "        "
   ]
  },
  {
   "cell_type": "code",
   "execution_count": 44,
   "id": "e0075b56",
   "metadata": {},
   "outputs": [],
   "source": [
    "# input_seq = test_input_tensor[:100]\n",
    "#     print(input_seq.shape,input_tensor.shape\n",
    "# beam_decode(input_seq,1)\n",
    "def beam_evaluate(data_tensor,data_output,k,beam_size,enc_model, dec_model, cell_type):\n",
    "    crct = 0\n",
    "    input_seq = data_tensor[:k]\n",
    "    decoded_sentences, attention = beam_decode(input_seq,beam_size,enc_model, dec_model, cell_type)\n",
    "    sts = data_output[:k]\n",
    "    crct += np.sum(np.array(sts) == np.array(decoded_sentences))\n",
    "    return crct/k,zip(decoded_sentences,sts),attention"
   ]
  },
  {
   "cell_type": "code",
   "execution_count": 45,
   "id": "540c2082",
   "metadata": {},
   "outputs": [
    {
     "output_type": "stream",
     "name": "stderr",
     "text": [
      "C:\\Users\\HP\\AppData\\Local\\Programs\\Python\\Python37\\lib\\site-packages\\tensorflow\\python\\data\\ops\\dataset_ops.py:3504: UserWarning: Even though the tf.config.experimental_run_functions_eagerly option is set, this option does not apply to tf.data functions. tf.data functions are still traced and executed as graphs.\n  \"Even though the tf.config.experimental_run_functions_eagerly \"\n"
     ]
    }
   ],
   "source": [
    "a1, b1, attention = beam_evaluate(test_input_tensor,test_outputs,len(test_outputs),1,enc_model,dec_model,'LSTM')"
   ]
  },
  {
   "cell_type": "code",
   "execution_count": 46,
   "id": "4883fc02",
   "metadata": {},
   "outputs": [
    {
     "output_type": "stream",
     "name": "stdout",
     "text": [
      "0.43065947450843917\n"
     ]
    }
   ],
   "source": [
    "print(a1)"
   ]
  },
  {
   "source": [
    "# Attention color map"
   ],
   "cell_type": "markdown",
   "metadata": {}
  },
  {
   "cell_type": "code",
   "execution_count": 47,
   "metadata": {},
   "outputs": [],
   "source": [
    "def beam_evaluate_single(data_tensor,data_output,index,beam_size,enc_model, dec_model, cell_type):\n",
    "    crct = 0\n",
    "    input_seq = data_tensor[index:index+1]\n",
    "    decoded_sentences, attention = beam_decode(input_seq,beam_size,enc_model, dec_model, cell_type)\n",
    "    sts = data_output[index:index+1]\n",
    "    crct += np.sum(np.array(sts) == np.array(decoded_sentences))\n",
    "    return crct,zip(decoded_sentences,sts),attention"
   ]
  },
  {
   "cell_type": "code",
   "execution_count": 48,
   "metadata": {
    "tags": []
   },
   "outputs": [
    {
     "output_type": "stream",
     "name": "stderr",
     "text": [
      "C:\\Users\\HP\\AppData\\Local\\Programs\\Python\\Python37\\lib\\site-packages\\tensorflow\\python\\data\\ops\\dataset_ops.py:3504: UserWarning: Even though the tf.config.experimental_run_functions_eagerly option is set, this option does not apply to tf.data functions. tf.data functions are still traced and executed as graphs.\n",
      "  \"Even though the tf.config.experimental_run_functions_eagerly \"\n",
      "7 leduraa\n",
      "6 లేదురా\n",
      "[[9.98921990e-01 4.54131841e-05 1.16934469e-04 8.47654675e-08\n",
      "  2.74757980e-07 5.15948573e-09 3.99187217e-09]\n",
      " [1.46400509e-02 7.71279156e-01 1.68045893e-01 5.80324465e-03\n",
      "  1.00304116e-03 5.98653105e-06 1.00777538e-06]\n",
      " [1.33696172e-04 1.58236595e-03 9.83869731e-01 2.15673051e-03\n",
      "  9.05839202e-04 1.29495747e-05 1.52284670e-07]\n",
      " [2.34735126e-06 1.07973676e-04 3.13636474e-03 9.18699741e-01\n",
      "  5.07494733e-02 4.82322066e-04 1.67051025e-04]\n",
      " [1.03252723e-05 2.11997649e-05 3.80757637e-02 1.08259238e-01\n",
      "  7.03788847e-02 5.84979355e-03 4.10754670e-04]\n",
      " [6.82338941e-05 1.01996402e-05 4.99223417e-04 6.44434337e-03\n",
      "  1.83224306e-03 1.76105388e-02 8.44837248e-01]]\n",
      "8 muuseeki\n",
      "6 మూసీకి\n",
      "[[9.9116969e-01 5.9599457e-03 8.0643978e-04 5.1539522e-05 4.0120150e-07\n",
      "  7.6434794e-08 1.6995719e-07 5.8857420e-08]\n",
      " [2.4551074e-03 2.7724254e-01 5.5203927e-01 1.4927003e-01 6.1441814e-03\n",
      "  2.5857080e-04 4.1906867e-05 1.0733213e-06]\n",
      " [1.2643063e-03 4.9232088e-02 2.0677561e-02 8.0058944e-01 2.8334597e-02\n",
      "  1.2315871e-03 1.3113196e-03 2.9894604e-06]\n",
      " [9.7968950e-06 8.0708810e-04 3.1048600e-03 6.6877650e-03 3.6267936e-01\n",
      "  5.6212211e-01 4.0871762e-02 7.8207761e-04]\n",
      " [1.5156281e-06 1.1735010e-06 1.2316377e-06 5.1426097e-05 1.8844057e-03\n",
      "  4.9587004e-03 9.5269316e-01 6.6901841e-03]\n",
      " [4.2150905e-06 9.6678541e-06 1.4775637e-05 5.8690416e-06 1.7263708e-04\n",
      "  3.5285989e-03 1.9472629e-02 8.1096625e-01]]\n",
      "8 vayistuu\n",
      "7 వయిస్తూ\n",
      "[[8.8788182e-01 1.6527826e-03 2.5939429e-03 5.2029609e-06 1.3630294e-05\n",
      "  2.9392875e-05 1.8094743e-06 2.0607181e-06]\n",
      " [1.3556004e-02 1.6725229e-02 8.9513755e-01 7.7104582e-03 1.1934688e-03\n",
      "  2.8164373e-04 1.6173522e-05 3.9048696e-06]\n",
      " [3.6491689e-05 5.4824515e-05 2.7440025e-02 7.6223534e-01 1.0585905e-01\n",
      "  6.2831393e-03 2.9493886e-04 4.9748724e-05]\n",
      " [9.9278823e-06 3.9307329e-06 4.1638702e-04 2.1082882e-02 3.6550027e-01\n",
      "  4.7493637e-01 2.9378044e-04 4.3565815e-05]\n",
      " [3.7822654e-06 8.3648001e-07 1.6412750e-05 7.9815323e-03 5.1903348e-02\n",
      "  8.0644530e-01 3.6424309e-02 4.6669180e-03]\n",
      " [2.5724177e-07 3.3890839e-08 2.9676153e-06 4.4984199e-04 4.0175929e-03\n",
      "  9.8728871e-01 2.8559967e-04 3.5844561e-05]\n",
      " [4.0867299e-08 1.5362843e-08 6.0913990e-08 9.1684399e-07 2.0042997e-05\n",
      "  5.5632270e-03 4.5868120e-01 4.6116024e-01]]\n",
      "8 raayitho\n",
      "6 రాయితో\n",
      "[[3.18239219e-02 1.38964073e-03 5.37808286e-04 6.86924206e-04\n",
      "  1.42332574e-05 4.15512506e-04 2.30019039e-04 3.74787960e-05]\n",
      " [2.19288711e-02 3.46824117e-02 6.84289694e-01 1.80867523e-01\n",
      "  4.34772857e-03 1.19267928e-03 4.25594597e-04 2.32595885e-05]\n",
      " [9.73312824e-04 2.15861551e-03 3.83310206e-02 8.48807037e-01\n",
      "  1.21145351e-02 8.64780415e-03 4.21477621e-03 3.01218897e-05]\n",
      " [3.53252540e-06 1.11858390e-05 3.67089198e-03 5.20042293e-02\n",
      "  7.56844759e-01 1.02206834e-01 4.16964293e-02 1.63100194e-03]\n",
      " [1.35783964e-07 7.80407902e-07 5.19093646e-06 7.60768715e-04\n",
      "  1.09695075e-02 9.16898191e-01 6.07129745e-02 2.55073828e-04]\n",
      " [5.57314159e-08 4.62811123e-08 9.64920332e-07 2.95567634e-06\n",
      "  1.09202613e-03 3.25801857e-02 8.05913359e-02 6.82965696e-01]]\n",
      "5 noomu\n",
      "4 నూము\n",
      "[[9.84365344e-01 4.97673079e-03 5.10756718e-03 2.92823592e-04\n",
      "  3.56517177e-07]\n",
      " [4.92385007e-04 1.13610022e-01 8.70361269e-01 1.43985637e-02\n",
      "  8.74003945e-06]\n",
      " [2.37078546e-03 7.77321728e-03 3.77476774e-02 9.27414417e-01\n",
      "  1.20548815e-04]\n",
      " [1.02933018e-05 1.20683259e-03 1.40841110e-02 2.45727077e-01\n",
      "  4.73204821e-01]]\n",
      "5 poedu\n",
      "4 పోడు\n",
      "[[1.4982229e-01 1.1269678e-02 2.2524709e-03 3.7735754e-03 7.6078446e-05]\n",
      " [4.3578180e-03 6.1836606e-01 3.2988206e-01 2.5796760e-02 4.8261081e-04]\n",
      " [1.8926326e-03 9.0229567e-03 4.3704361e-02 8.7943983e-01 4.7356825e-04]\n",
      " [2.7818260e-06 6.7198928e-04 4.4265431e-03 1.5249212e-02 7.2583503e-01]]\n",
      "8 mamdugaa\n",
      "6 మందుగా\n",
      "[[9.9852508e-01 3.1493721e-05 7.4243289e-05 1.5701514e-04 1.3987332e-07\n",
      "  5.2139569e-07 4.2666645e-08 5.5191261e-08]\n",
      " [9.5052524e-03 3.9963633e-02 5.4196942e-01 3.7258890e-01 2.4516543e-04\n",
      "  6.6650304e-04 1.6777429e-06 1.6388593e-06]\n",
      " [3.7786845e-05 1.8396353e-05 2.5475699e-02 9.5812255e-01 8.4804189e-05\n",
      "  1.3005523e-03 1.0157167e-06 2.2874093e-07]\n",
      " [1.8034057e-06 6.1008512e-07 1.2295631e-03 3.2488406e-02 7.6630938e-01\n",
      "  1.7567304e-01 3.4448568e-04 2.2186480e-04]\n",
      " [1.2438096e-07 2.7178171e-08 1.0928972e-05 6.3081984e-03 4.3705618e-03\n",
      "  9.7588617e-01 1.6775234e-04 1.6251433e-05]\n",
      " [1.3409568e-06 1.1720179e-07 6.6455090e-05 3.7817477e-04 1.2980254e-02\n",
      "  2.8991910e-02 2.4075294e-02 8.1983262e-01]]\n",
      "14 cheppavalasina\n",
      "10 చెప్పవలసిన\n",
      "[[4.96493012e-01 4.96910810e-01 1.60532235e-03 1.09251007e-04\n",
      "  3.46794441e-05 7.68735831e-08 1.57074453e-07 1.18521918e-07\n",
      "  1.14650527e-06 2.11333213e-06 4.54181782e-06 1.05063555e-06\n",
      "  3.13753389e-06 2.01101102e-06]\n",
      " [2.88284617e-03 6.47265511e-03 8.42682004e-01 1.21340677e-01\n",
      "  6.14152011e-03 3.28512506e-05 6.34434473e-05 2.60186607e-06\n",
      "  4.12230111e-05 5.59840328e-06 9.52333085e-06 2.13812723e-06\n",
      "  1.56973965e-05 8.16720603e-06]\n",
      " [3.86664906e-04 5.22384827e-04 4.36572358e-03 4.88563091e-01\n",
      "  3.33078802e-01 6.82788261e-04 7.93723913e-04 1.76751164e-05\n",
      "  2.53195962e-04 6.78816359e-05 7.19407253e-05 1.52159646e-05\n",
      "  1.00575846e-04 2.25529857e-05]\n",
      " [5.23089475e-05 5.10968712e-05 2.44619761e-04 5.61810005e-03\n",
      "  7.14007616e-01 4.05825898e-02 1.59203783e-01 2.70172779e-04\n",
      "  3.49975354e-03 1.14021277e-04 3.18437145e-04 3.69712834e-05\n",
      "  1.13582166e-04 5.33218508e-06]\n",
      " [1.39142692e-04 1.56645387e-04 1.18964897e-04 1.83974244e-02\n",
      "  8.38230550e-01 7.72961928e-03 2.37296354e-02 3.04065907e-05\n",
      "  4.93147585e-04 8.05452873e-05 7.82315765e-05 1.12209509e-05\n",
      "  3.48965514e-05 3.78617369e-06]\n",
      " [3.02032845e-06 2.94757001e-06 4.25437293e-06 4.15335016e-05\n",
      "  1.21874735e-02 8.51811562e-03 9.20997262e-01 7.34164985e-03\n",
      "  3.80110890e-02 3.46888904e-04 1.17040577e-03 1.37264751e-05\n",
      "  1.49825064e-05 5.98824897e-07]\n",
      " [1.79985662e-07 1.43094354e-07 1.73782055e-07 1.05950835e-06\n",
      "  3.47638047e-06 9.75559601e-07 1.46010250e-04 4.46307613e-03\n",
      "  9.30239558e-01 2.60852673e-03 5.58339097e-02 1.68272562e-03\n",
      "  1.10390734e-04 2.12360010e-06]\n",
      " [5.94526490e-08 7.55626814e-08 9.76909504e-08 1.60442269e-07\n",
      "  3.60100756e-07 1.45175775e-07 3.00437205e-06 1.63485296e-04\n",
      "  1.11591751e-02 2.47454494e-02 8.59032691e-01 2.08385233e-02\n",
      "  2.58437917e-03 1.93744825e-04]\n",
      " [8.30450233e-08 8.89035050e-08 1.01388167e-07 3.48859231e-07\n",
      "  1.67558335e-06 3.82394703e-08 3.61550832e-07 9.69469397e-07\n",
      "  1.99083076e-03 1.38561645e-05 1.46560546e-03 8.80584836e-01\n",
      "  9.47656408e-02 6.40556216e-04]\n",
      " [7.49942259e-08 1.17242756e-07 6.30224761e-08 1.30679169e-07\n",
      "  4.51349223e-07 8.58908180e-08 1.52117263e-06 1.01479816e-06\n",
      "  9.64002567e-04 1.77330203e-05 2.67095235e-03 1.22862339e-01\n",
      "  8.53564382e-01 2.38124421e-03]]\n",
      "10 sienyaanni\n",
      "12 సియియాన్నిని\n",
      "[[5.59744656e-01 1.06560916e-03 6.90518282e-05 2.34966501e-04\n",
      "  2.17970592e-04 3.10527776e-06 9.14671637e-06 3.48650137e-05\n",
      "  1.02213475e-04 5.08132289e-05]\n",
      " [1.18951695e-02 6.46039844e-01 2.94505805e-01 1.55985700e-02\n",
      "  2.86115101e-03 2.98178702e-06 5.33237016e-06 2.43522736e-05\n",
      "  1.72292293e-05 1.47508956e-06]\n",
      " [2.79355701e-03 6.22254200e-02 1.03336349e-01 5.70902050e-01\n",
      "  1.79062039e-01 1.62296674e-05 2.74152126e-06 4.02006990e-05\n",
      "  3.64240987e-05 4.34773301e-06]\n",
      " [2.51869296e-05 2.81238295e-02 1.99282005e-01 6.24628127e-01\n",
      "  1.20822877e-01 6.54359872e-04 2.20788148e-04 3.37934907e-04\n",
      "  4.34396643e-05 1.29426417e-06]\n",
      " [2.42077107e-07 3.81420177e-05 1.89997198e-04 5.91310382e-01\n",
      "  4.04127568e-01 1.68948493e-04 1.76255489e-05 1.28261934e-04\n",
      "  3.07142436e-05 3.15020969e-07]\n",
      " [8.53081701e-07 2.94433321e-05 4.73115797e-04 2.07907796e-01\n",
      "  1.80144146e-01 4.80559915e-02 3.39711338e-01 1.69998437e-01\n",
      "  5.29312808e-03 3.21973457e-05]\n",
      " [1.23635985e-07 3.20749587e-06 2.03433265e-05 5.85036911e-02\n",
      "  1.88218713e-01 1.04641868e-02 4.26898263e-02 6.27627611e-01\n",
      "  1.67397112e-02 6.76437412e-05]\n",
      " [1.42886307e-07 6.31972341e-07 1.40075008e-06 3.71079732e-05\n",
      "  2.10502441e-03 1.11106073e-03 9.81662795e-02 2.73366541e-01\n",
      "  4.15753365e-01 1.21629452e-02]\n",
      " [6.53525163e-08 1.88531345e-07 6.62509137e-07 5.60234359e-04\n",
      "  2.72813905e-02 1.04427466e-03 1.79671554e-03 2.65237719e-01\n",
      "  6.07371449e-01 1.57196994e-03]\n",
      " [4.47004567e-08 9.01321258e-08 1.26475470e-07 1.17710442e-06\n",
      "  1.00375664e-05 2.52243217e-06 6.60103455e-04 9.50387120e-03\n",
      "  2.37894282e-01 5.21535635e-01]\n",
      " [1.20458722e-07 1.76361795e-07 1.67679403e-07 3.62469996e-06\n",
      "  2.03433246e-05 2.38889720e-06 7.38185281e-06 2.32754974e-03\n",
      "  5.14218867e-01 1.49955228e-01]\n",
      " [1.04317863e-07 1.33382983e-07 1.56919427e-07 3.88556771e-07\n",
      "  3.01105206e-06 7.44347858e-07 7.71307259e-06 5.96810423e-05\n",
      "  7.24131986e-03 7.61861682e-01]]\n",
      "C:\\Users\\HP\\AppData\\Local\\Programs\\Python\\Python37\\lib\\site-packages\\matplotlib\\textpath.py:74: RuntimeWarning: Glyph 108 missing from current font.\n",
      "  font.set_text(s, 0.0, flags=LOAD_NO_HINTING)\n",
      "C:\\Users\\HP\\AppData\\Local\\Programs\\Python\\Python37\\lib\\site-packages\\matplotlib\\textpath.py:74: RuntimeWarning: Glyph 112 missing from current font.\n",
      "  font.set_text(s, 0.0, flags=LOAD_NO_HINTING)\n",
      "C:\\Users\\HP\\AppData\\Local\\Programs\\Python\\Python37\\lib\\site-packages\\matplotlib\\backends\\backend_agg.py:238: RuntimeWarning: Glyph 108 missing from current font.\n",
      "  font.set_text(s, 0.0, flags=flags)\n",
      "C:\\Users\\HP\\AppData\\Local\\Programs\\Python\\Python37\\lib\\site-packages\\matplotlib\\backends\\backend_agg.py:238: RuntimeWarning: Glyph 112 missing from current font.\n",
      "  font.set_text(s, 0.0, flags=flags)\n"
     ]
    },
    {
     "output_type": "display_data",
     "data": {
      "text/plain": "<Figure size 1080x1080 with 9 Axes>",
      "image/svg+xml": "<?xml version=\"1.0\" encoding=\"utf-8\" standalone=\"no\"?>\r\n<!DOCTYPE svg PUBLIC \"-//W3C//DTD SVG 1.1//EN\"\r\n  \"http://www.w3.org/Graphics/SVG/1.1/DTD/svg11.dtd\">\r\n<!-- Created with matplotlib (https://matplotlib.org/) -->\r\n<svg height=\"834.268566pt\" version=\"1.1\" viewBox=\"0 0 880.073125 834.268566\" width=\"880.073125pt\" xmlns=\"http://www.w3.org/2000/svg\" xmlns:xlink=\"http://www.w3.org/1999/xlink\">\r\n <metadata>\r\n  <rdf:RDF xmlns:cc=\"http://creativecommons.org/ns#\" xmlns:dc=\"http://purl.org/dc/elements/1.1/\" xmlns:rdf=\"http://www.w3.org/1999/02/22-rdf-syntax-ns#\">\r\n   <cc:Work>\r\n    <dc:type rdf:resource=\"http://purl.org/dc/dcmitype/StillImage\"/>\r\n    <dc:date>2021-05-17T14:50:57.461697</dc:date>\r\n    <dc:format>image/svg+xml</dc:format>\r\n    <dc:creator>\r\n     <cc:Agent>\r\n      <dc:title>Matplotlib v3.3.4, https://matplotlib.org/</dc:title>\r\n     </cc:Agent>\r\n    </dc:creator>\r\n   </cc:Work>\r\n  </rdf:RDF>\r\n </metadata>\r\n <defs>\r\n  <style type=\"text/css\">*{stroke-linecap:butt;stroke-linejoin:round;}</style>\r\n </defs>\r\n <g id=\"figure_1\">\r\n  <g id=\"patch_1\">\r\n   <path d=\"M 0 834.268566 \r\nL 880.073125 834.268566 \r\nL 880.073125 0 \r\nL 0 0 \r\nz\r\n\" style=\"fill:none;\"/>\r\n  </g>\r\n  <g id=\"axes_1\">\r\n   <g id=\"patch_2\">\r\n    <path d=\"M 35.873125 220.406408 \r\nL 282.049596 220.406408 \r\nL 282.049596 9.398004 \r\nL 35.873125 9.398004 \r\nz\r\n\" style=\"fill:#ffffff;\"/>\r\n   </g>\r\n   <g clip-path=\"url(#p4688466ad9)\">\r\n    <image height=\"212\" id=\"imagee4bf03b318\" transform=\"scale(1 -1)translate(0 -212)\" width=\"247\" x=\"35.873125\" xlink:href=\"data:image/png;base64,\r\niVBORw0KGgoAAAANSUhEUgAAAPcAAADUCAYAAABAtLXLAAADGklEQVR4nO3VsW0bQRRF0R1rE6YsgQ2o/1Q1qAsGDBgwITCKvAAj24ExxMU5FTxg5uKPbdvmxtsbY6yecJjzfb7Mvu+rJ7z4/v5ePeHwa/UA4P8QN0SJG6LEDVHihihxQ5S4IUrcECVuiBI3RIkbosQNUeKGKHFDlLghStwQJW6IEjdEiRuixA1R4oYocUOUuCFK3BAlbogSN0SJG6LEDVHihihxQ5S4IUrcECVuiBI3RI1t2+bqEe/odDqtnvDifD6vnnB4PB6rJxxut9vqCS/mfJ+cXG6IEjdEiRuixA1R4oYocUOUuCFK3BAlbogSN0SJG6LEDVHihihxQ5S4IUrcECVuiBI3RIkbosQNUeKGKHFDlLghStwQJW6IEjdEiRuixA1R4oYocUOUuCFK3BAlbogSN0SJG6LGtm1z9Qj+7Hq9rp5wuFwuqycc7vf76glvy+WGKHFDlLghStwQJW6IEjdEiRuixA1R4oYocUOUuCFK3BAlbogSN0SJG6LEDVHihihxQ5S4IUrcECVuiBI3RIkbosQNUeKGKHFDlLghStwQJW6IEjdEiRuixA1R4oYocUPUvnrAu3o+n6snvNh3T8W/cbkhStwQJW6IEjdEiRuixA1R4oYocUOUuCFK3BAlbogSN0SJG6LEDVHihihxQ5S4IUrcECVuiBI3RIkbosQNUeKGKHFDlLghStwQJW6IEjdEiRuixA1R4oYocUOUuCFK3BC1f3x8rN5w+Pr6Wj3h8Pn5uXrCizHG6gmHOefqCfwFlxuixA1R4oYocUOUuCFK3BAlbogSN0SJG6LEDVHihihxQ5S4IUrcECVuiBI3RIkbosQNUeKGKHFDlLghStwQJW6IEjdEiRuixA1R4oYocUOUuCFK3BAlbogSN0SJG6LEDVHihqgx55yrR/w2xlg9ATJcbogSN0SJG6LEDVHihihxQ5S4IUrcECVuiBI3RIkbosQNUeKGKHFDlLghStwQJW6IEjdEiRuixA1R4oYocUOUuCFK3BAlbogSN0SJG6LEDVHihihxQ5S4IUrcECVuiBI3RP0Alr8mCUMiL5EAAAAASUVORK5CYII=\" y=\"-8.406408\"/>\r\n   </g>\r\n   <g id=\"matplotlib.axis_1\">\r\n    <g id=\"xtick_1\">\r\n     <g id=\"line2d_1\">\r\n      <defs>\r\n       <path d=\"M 0 0 \r\nL 0 3.5 \r\n\" id=\"mfcb646803b\" style=\"stroke:#000000;stroke-width:0.8;\"/>\r\n      </defs>\r\n      <g>\r\n       <use style=\"stroke:#000000;stroke-width:0.8;\" x=\"53.457159\" xlink:href=\"#mfcb646803b\" y=\"220.406408\"/>\r\n      </g>\r\n     </g>\r\n     <g id=\"text_1\">\r\n      <!-- l -->\r\n      <g transform=\"translate(52.068096 235.004845)scale(0.1 -0.1)\">\r\n       <defs>\r\n        <path d=\"M 9.421875 75.984375 \r\nL 18.40625 75.984375 \r\nL 18.40625 0 \r\nL 9.421875 0 \r\nz\r\n\" id=\"DejaVuSans-108\"/>\r\n       </defs>\r\n       <use xlink:href=\"#DejaVuSans-108\"/>\r\n      </g>\r\n     </g>\r\n    </g>\r\n    <g id=\"xtick_2\">\r\n     <g id=\"line2d_2\">\r\n      <g>\r\n       <use style=\"stroke:#000000;stroke-width:0.8;\" x=\"88.625226\" xlink:href=\"#mfcb646803b\" y=\"220.406408\"/>\r\n      </g>\r\n     </g>\r\n     <g id=\"text_2\">\r\n      <!-- e -->\r\n      <g transform=\"translate(85.548663 235.004845)scale(0.1 -0.1)\">\r\n       <defs>\r\n        <path d=\"M 56.203125 29.59375 \r\nL 56.203125 25.203125 \r\nL 14.890625 25.203125 \r\nQ 15.484375 15.921875 20.484375 11.0625 \r\nQ 25.484375 6.203125 34.421875 6.203125 \r\nQ 39.59375 6.203125 44.453125 7.46875 \r\nQ 49.3125 8.734375 54.109375 11.28125 \r\nL 54.109375 2.78125 \r\nQ 49.265625 0.734375 44.1875 -0.34375 \r\nQ 39.109375 -1.421875 33.890625 -1.421875 \r\nQ 20.796875 -1.421875 13.15625 6.1875 \r\nQ 5.515625 13.8125 5.515625 26.8125 \r\nQ 5.515625 40.234375 12.765625 48.109375 \r\nQ 20.015625 56 32.328125 56 \r\nQ 43.359375 56 49.78125 48.890625 \r\nQ 56.203125 41.796875 56.203125 29.59375 \r\nz\r\nM 47.21875 32.234375 \r\nQ 47.125 39.59375 43.09375 43.984375 \r\nQ 39.0625 48.390625 32.421875 48.390625 \r\nQ 24.90625 48.390625 20.390625 44.140625 \r\nQ 15.875 39.890625 15.1875 32.171875 \r\nz\r\n\" id=\"DejaVuSans-101\"/>\r\n       </defs>\r\n       <use xlink:href=\"#DejaVuSans-101\"/>\r\n      </g>\r\n     </g>\r\n    </g>\r\n    <g id=\"xtick_3\">\r\n     <g id=\"line2d_3\">\r\n      <g>\r\n       <use style=\"stroke:#000000;stroke-width:0.8;\" x=\"123.793293\" xlink:href=\"#mfcb646803b\" y=\"220.406408\"/>\r\n      </g>\r\n     </g>\r\n     <g id=\"text_3\">\r\n      <!-- d -->\r\n      <g transform=\"translate(120.619074 235.004845)scale(0.1 -0.1)\">\r\n       <defs>\r\n        <path d=\"M 45.40625 46.390625 \r\nL 45.40625 75.984375 \r\nL 54.390625 75.984375 \r\nL 54.390625 0 \r\nL 45.40625 0 \r\nL 45.40625 8.203125 \r\nQ 42.578125 3.328125 38.25 0.953125 \r\nQ 33.9375 -1.421875 27.875 -1.421875 \r\nQ 17.96875 -1.421875 11.734375 6.484375 \r\nQ 5.515625 14.40625 5.515625 27.296875 \r\nQ 5.515625 40.1875 11.734375 48.09375 \r\nQ 17.96875 56 27.875 56 \r\nQ 33.9375 56 38.25 53.625 \r\nQ 42.578125 51.265625 45.40625 46.390625 \r\nz\r\nM 14.796875 27.296875 \r\nQ 14.796875 17.390625 18.875 11.75 \r\nQ 22.953125 6.109375 30.078125 6.109375 \r\nQ 37.203125 6.109375 41.296875 11.75 \r\nQ 45.40625 17.390625 45.40625 27.296875 \r\nQ 45.40625 37.203125 41.296875 42.84375 \r\nQ 37.203125 48.484375 30.078125 48.484375 \r\nQ 22.953125 48.484375 18.875 42.84375 \r\nQ 14.796875 37.203125 14.796875 27.296875 \r\nz\r\n\" id=\"DejaVuSans-100\"/>\r\n       </defs>\r\n       <use xlink:href=\"#DejaVuSans-100\"/>\r\n      </g>\r\n     </g>\r\n    </g>\r\n    <g id=\"xtick_4\">\r\n     <g id=\"line2d_4\">\r\n      <g>\r\n       <use style=\"stroke:#000000;stroke-width:0.8;\" x=\"158.96136\" xlink:href=\"#mfcb646803b\" y=\"220.406408\"/>\r\n      </g>\r\n     </g>\r\n     <g id=\"text_4\">\r\n      <!-- u -->\r\n      <g transform=\"translate(155.79261 235.004845)scale(0.1 -0.1)\">\r\n       <defs>\r\n        <path d=\"M 8.5 21.578125 \r\nL 8.5 54.6875 \r\nL 17.484375 54.6875 \r\nL 17.484375 21.921875 \r\nQ 17.484375 14.15625 20.5 10.265625 \r\nQ 23.53125 6.390625 29.59375 6.390625 \r\nQ 36.859375 6.390625 41.078125 11.03125 \r\nQ 45.3125 15.671875 45.3125 23.6875 \r\nL 45.3125 54.6875 \r\nL 54.296875 54.6875 \r\nL 54.296875 0 \r\nL 45.3125 0 \r\nL 45.3125 8.40625 \r\nQ 42.046875 3.421875 37.71875 1 \r\nQ 33.40625 -1.421875 27.6875 -1.421875 \r\nQ 18.265625 -1.421875 13.375 4.4375 \r\nQ 8.5 10.296875 8.5 21.578125 \r\nz\r\nM 31.109375 56 \r\nz\r\n\" id=\"DejaVuSans-117\"/>\r\n       </defs>\r\n       <use xlink:href=\"#DejaVuSans-117\"/>\r\n      </g>\r\n     </g>\r\n    </g>\r\n    <g id=\"xtick_5\">\r\n     <g id=\"line2d_5\">\r\n      <g>\r\n       <use style=\"stroke:#000000;stroke-width:0.8;\" x=\"194.129428\" xlink:href=\"#mfcb646803b\" y=\"220.406408\"/>\r\n      </g>\r\n     </g>\r\n     <g id=\"text_5\">\r\n      <!-- r -->\r\n      <g transform=\"translate(192.073959 235.004845)scale(0.1 -0.1)\">\r\n       <defs>\r\n        <path d=\"M 41.109375 46.296875 \r\nQ 39.59375 47.171875 37.8125 47.578125 \r\nQ 36.03125 48 33.890625 48 \r\nQ 26.265625 48 22.1875 43.046875 \r\nQ 18.109375 38.09375 18.109375 28.8125 \r\nL 18.109375 0 \r\nL 9.078125 0 \r\nL 9.078125 54.6875 \r\nL 18.109375 54.6875 \r\nL 18.109375 46.1875 \r\nQ 20.953125 51.171875 25.484375 53.578125 \r\nQ 30.03125 56 36.53125 56 \r\nQ 37.453125 56 38.578125 55.875 \r\nQ 39.703125 55.765625 41.0625 55.515625 \r\nz\r\n\" id=\"DejaVuSans-114\"/>\r\n       </defs>\r\n       <use xlink:href=\"#DejaVuSans-114\"/>\r\n      </g>\r\n     </g>\r\n    </g>\r\n    <g id=\"xtick_6\">\r\n     <g id=\"line2d_6\">\r\n      <g>\r\n       <use style=\"stroke:#000000;stroke-width:0.8;\" x=\"229.297495\" xlink:href=\"#mfcb646803b\" y=\"220.406408\"/>\r\n      </g>\r\n     </g>\r\n     <g id=\"text_6\">\r\n      <!-- a -->\r\n      <g transform=\"translate(226.233432 235.004845)scale(0.1 -0.1)\">\r\n       <defs>\r\n        <path d=\"M 34.28125 27.484375 \r\nQ 23.390625 27.484375 19.1875 25 \r\nQ 14.984375 22.515625 14.984375 16.5 \r\nQ 14.984375 11.71875 18.140625 8.90625 \r\nQ 21.296875 6.109375 26.703125 6.109375 \r\nQ 34.1875 6.109375 38.703125 11.40625 \r\nQ 43.21875 16.703125 43.21875 25.484375 \r\nL 43.21875 27.484375 \r\nz\r\nM 52.203125 31.203125 \r\nL 52.203125 0 \r\nL 43.21875 0 \r\nL 43.21875 8.296875 \r\nQ 40.140625 3.328125 35.546875 0.953125 \r\nQ 30.953125 -1.421875 24.3125 -1.421875 \r\nQ 15.921875 -1.421875 10.953125 3.296875 \r\nQ 6 8.015625 6 15.921875 \r\nQ 6 25.140625 12.171875 29.828125 \r\nQ 18.359375 34.515625 30.609375 34.515625 \r\nL 43.21875 34.515625 \r\nL 43.21875 35.40625 \r\nQ 43.21875 41.609375 39.140625 45 \r\nQ 35.0625 48.390625 27.6875 48.390625 \r\nQ 23 48.390625 18.546875 47.265625 \r\nQ 14.109375 46.140625 10.015625 43.890625 \r\nL 10.015625 52.203125 \r\nQ 14.9375 54.109375 19.578125 55.046875 \r\nQ 24.21875 56 28.609375 56 \r\nQ 40.484375 56 46.34375 49.84375 \r\nQ 52.203125 43.703125 52.203125 31.203125 \r\nz\r\n\" id=\"DejaVuSans-97\"/>\r\n       </defs>\r\n       <use xlink:href=\"#DejaVuSans-97\"/>\r\n      </g>\r\n     </g>\r\n    </g>\r\n    <g id=\"xtick_7\">\r\n     <g id=\"line2d_7\">\r\n      <g>\r\n       <use style=\"stroke:#000000;stroke-width:0.8;\" x=\"264.465562\" xlink:href=\"#mfcb646803b\" y=\"220.406408\"/>\r\n      </g>\r\n     </g>\r\n     <g id=\"text_7\">\r\n      <!-- a -->\r\n      <g transform=\"translate(261.401499 235.004845)scale(0.1 -0.1)\">\r\n       <use xlink:href=\"#DejaVuSans-97\"/>\r\n      </g>\r\n     </g>\r\n    </g>\r\n   </g>\r\n   <g id=\"matplotlib.axis_2\">\r\n    <g id=\"ytick_1\">\r\n     <g id=\"line2d_8\">\r\n      <defs>\r\n       <path d=\"M 0 0 \r\nL -3.5 0 \r\n\" id=\"m48029d163c\" style=\"stroke:#000000;stroke-width:0.8;\"/>\r\n      </defs>\r\n      <g>\r\n       <use style=\"stroke:#000000;stroke-width:0.8;\" x=\"35.873125\" xlink:href=\"#m48029d163c\" y=\"26.982038\"/>\r\n      </g>\r\n     </g>\r\n     <g id=\"text_8\">\r\n      <!-- ల -->\r\n      <g transform=\"translate(18.430313 32.976882)scale(0.18 -0.18)\">\r\n       <defs>\r\n        <path d=\"M 15.046875 35.75 \r\nQ 15.046875 33.015625 16.890625 31.203125 \r\nQ 18.75 29.390625 21.390625 29.390625 \r\nQ 24.03125 29.390625 25.875 31.203125 \r\nQ 27.734375 33.015625 27.734375 35.75 \r\nQ 27.734375 38.375 25.875 40.234375 \r\nQ 24.03125 42.09375 21.390625 42.09375 \r\nQ 18.75 42.09375 16.890625 40.234375 \r\nQ 15.046875 38.375 15.046875 35.75 \r\nz\r\nM 29.109375 6.453125 \r\nQ 36.921875 6.453125 42.578125 12.015625 \r\nQ 48.25 17.578125 48.25 25.484375 \r\nQ 48.25 31.0625 45.3125 35.453125 \r\nQ 42.390625 39.84375 37.703125 41.609375 \r\nL 39.84375 47.859375 \r\nQ 46.484375 45.40625 50.53125 39.25 \r\nQ 54.59375 33.109375 54.59375 25.484375 \r\nQ 54.59375 14.9375 47.125 7.46875 \r\nQ 39.65625 0 29.109375 0 \r\nQ 18.453125 0 10.9375 7.46875 \r\nQ 3.421875 14.9375 3.421875 25.484375 \r\nQ 3.421875 34.578125 8.6875 40.921875 \r\nQ 13.96875 47.265625 21.390625 47.265625 \r\nQ 26.171875 47.265625 29.59375 43.84375 \r\nQ 33.015625 40.4375 33.015625 35.75 \r\nQ 33.015625 31.0625 29.59375 27.6875 \r\nQ 26.171875 24.3125 21.390625 24.3125 \r\nQ 17.484375 24.3125 14.546875 26.609375 \r\nQ 11.625 28.90625 11.03125 32.421875 \r\nL 10.640625 32.421875 \r\nQ 10.25 31.453125 10.046875 29.6875 \r\nQ 9.859375 27.9375 9.859375 25.484375 \r\nQ 9.859375 17.578125 15.46875 12.015625 \r\nQ 21.09375 6.453125 29.109375 6.453125 \r\nz\r\n\" id=\"Lohit-Telugu-3122\"/>\r\n       </defs>\r\n       <use xlink:href=\"#Lohit-Telugu-3122\"/>\r\n      </g>\r\n     </g>\r\n    </g>\r\n    <g id=\"ytick_2\">\r\n     <g id=\"line2d_9\">\r\n      <g>\r\n       <use style=\"stroke:#000000;stroke-width:0.8;\" x=\"35.873125\" xlink:href=\"#m48029d163c\" y=\"62.150105\"/>\r\n      </g>\r\n     </g>\r\n     <g id=\"text_9\">\r\n      <!-- ే -->\r\n      <g transform=\"translate(28.873125 68.144949)scale(0.18 -0.18)\">\r\n       <defs>\r\n        <path d=\"M -32.515625 64.15625 \r\nL -5.859375 64.15625 \r\nL -2.4375 63.765625 \r\nL -2.15625 64.15625 \r\nQ -3.328125 65.328125 -4 66.84375 \r\nQ -4.6875 68.359375 -4.6875 70.015625 \r\nQ -4.6875 74.03125 -1.703125 76.765625 \r\nQ 1.265625 79.5 5.375 79.5 \r\nQ 9.859375 79.5 13.03125 76.125 \r\nQ 16.21875 72.75 16.21875 67.96875 \r\nL 11.03125 67.96875 \r\nQ 11.03125 70.609375 9.5625 72.515625 \r\nQ 8.109375 74.421875 6.15625 74.421875 \r\nQ 4 74.421875 2.53125 72.90625 \r\nQ 1.078125 71.390625 1.078125 69.34375 \r\nQ 1.078125 67.875 2.59375 66.453125 \r\nQ 4.109375 65.046875 6.546875 64.15625 \r\nQ 10.640625 62.703125 13.125 59.71875 \r\nQ 15.625 56.734375 15.625 53.328125 \r\nQ 15.625 48.828125 12.34375 45.65625 \r\nQ 9.078125 42.484375 4.5 42.484375 \r\nL -14.9375 42.484375 \r\nL -14.9375 48.921875 \r\nL 5.375 48.921875 \r\nQ 6.9375 48.921875 8.109375 50.1875 \r\nQ 9.28125 51.46875 9.28125 53.328125 \r\nQ 9.28125 55.171875 8.109375 56.4375 \r\nQ 6.9375 57.71875 5.28125 57.71875 \r\nL -32.515625 57.71875 \r\nL -32.515625 64.15625 \r\nz\r\n\" id=\"Lohit-Telugu-3143\"/>\r\n       </defs>\r\n       <use xlink:href=\"#Lohit-Telugu-3143\"/>\r\n      </g>\r\n     </g>\r\n    </g>\r\n    <g id=\"ytick_3\">\r\n     <g id=\"line2d_10\">\r\n      <g>\r\n       <use style=\"stroke:#000000;stroke-width:0.8;\" x=\"35.873125\" xlink:href=\"#m48029d163c\" y=\"97.318172\"/>\r\n      </g>\r\n     </g>\r\n     <g id=\"text_10\">\r\n      <!-- ద -->\r\n      <g transform=\"translate(17.535938 103.329891)scale(0.18 -0.18)\">\r\n       <defs>\r\n        <path d=\"M 9.859375 19.140625 \r\nQ 9.859375 13.875 12.453125 10.15625 \r\nQ 15.046875 6.453125 18.84375 6.453125 \r\nQ 23.140625 6.453125 26.171875 10.15625 \r\nQ 29.203125 13.875 29.203125 19.140625 \r\nL 33.984375 19.140625 \r\nQ 33.984375 13.875 37.015625 10.15625 \r\nQ 40.046875 6.453125 44.34375 6.453125 \r\nQ 48.046875 6.453125 50.6875 10.15625 \r\nQ 53.328125 13.875 53.328125 19.140625 \r\nQ 53.328125 28.21875 46.96875 34.5625 \r\nQ 40.625 40.921875 31.640625 40.921875 \r\nQ 22.5625 40.921875 16.203125 34.5625 \r\nQ 9.859375 28.21875 9.859375 19.140625 \r\nz\r\nM 3.421875 19.140625 \r\nQ 3.421875 28.328125 9.125 35.640625 \r\nQ 14.84375 42.96875 23.921875 45.515625 \r\nQ 20.90625 48.140625 19.28125 52.09375 \r\nQ 17.671875 56.0625 17.671875 60.75 \r\nL 22.75 60.75 \r\nQ 22.75 55.375 25.4375 51.65625 \r\nQ 28.125 47.953125 31.84375 47.953125 \r\nQ 33.203125 47.953125 34.859375 48.875 \r\nQ 36.53125 49.8125 38.09375 51.375 \r\nL 54.203125 66.796875 \r\nL 57.515625 63.484375 \r\nL 39.84375 45.703125 \r\nQ 48.640625 43.171875 54.109375 35.796875 \r\nQ 59.578125 28.421875 59.578125 19.140625 \r\nQ 59.578125 11.234375 54.890625 5.609375 \r\nQ 50.203125 0 43.453125 0 \r\nQ 39.546875 0 36.328125 2.09375 \r\nQ 33.109375 4.203125 31.84375 7.71875 \r\nL 31.34375 7.625 \r\nQ 30.078125 4.109375 26.65625 2.046875 \r\nQ 23.25 0 18.84375 0 \r\nQ 12.40625 0 7.90625 5.609375 \r\nQ 3.421875 11.234375 3.421875 19.140625 \r\nz\r\n\" id=\"Lohit-Telugu-3110\"/>\r\n       </defs>\r\n       <use xlink:href=\"#Lohit-Telugu-3110\"/>\r\n      </g>\r\n     </g>\r\n    </g>\r\n    <g id=\"ytick_4\">\r\n     <g id=\"line2d_11\">\r\n      <g>\r\n       <use style=\"stroke:#000000;stroke-width:0.8;\" x=\"35.873125\" xlink:href=\"#m48029d163c\" y=\"132.486239\"/>\r\n      </g>\r\n     </g>\r\n     <g id=\"text_11\">\r\n      <!-- ు -->\r\n      <g transform=\"translate(22.404375 138.481083)scale(0.18 -0.18)\">\r\n       <defs>\r\n        <path d=\"M -6.734375 13.875 \r\nL -5.375 21.875 \r\nQ -3.609375 15.046875 1.46875 10.75 \r\nQ 6.546875 6.453125 12.796875 6.453125 \r\nQ 18.0625 6.453125 21.765625 11.328125 \r\nQ 25.484375 16.21875 25.484375 23.140625 \r\nQ 25.484375 30.671875 20.890625 35.984375 \r\nQ 16.3125 41.3125 9.765625 41.3125 \r\nL 11.234375 47.65625 \r\nQ 20.125 47.65625 26.3125 40.421875 \r\nQ 32.515625 33.203125 32.515625 22.953125 \r\nQ 32.515625 13.484375 26.5625 6.734375 \r\nQ 20.609375 0 12.015625 0 \r\nQ 5.375 0 0.140625 3.859375 \r\nQ -5.078125 7.71875 -6.734375 13.875 \r\nz\r\n\" id=\"Lohit-Telugu-3137\"/>\r\n       </defs>\r\n       <use xlink:href=\"#Lohit-Telugu-3137\"/>\r\n      </g>\r\n     </g>\r\n    </g>\r\n    <g id=\"ytick_5\">\r\n     <g id=\"line2d_12\">\r\n      <g>\r\n       <use style=\"stroke:#000000;stroke-width:0.8;\" x=\"35.873125\" xlink:href=\"#m48029d163c\" y=\"167.654307\"/>\r\n      </g>\r\n     </g>\r\n     <g id=\"text_12\">\r\n      <!-- ర -->\r\n      <g transform=\"translate(19.380938 173.666025)scale(0.18 -0.18)\">\r\n       <defs>\r\n        <path d=\"M 9.671875 23.640625 \r\nQ 9.671875 16.5 14.546875 11.46875 \r\nQ 19.4375 6.453125 26.375 6.453125 \r\nQ 33.203125 6.453125 38.03125 11.46875 \r\nQ 42.875 16.5 42.875 23.640625 \r\nQ 42.875 30.859375 38.03125 35.890625 \r\nQ 33.203125 40.921875 26.375 40.921875 \r\nQ 19.4375 40.921875 14.546875 35.890625 \r\nQ 9.671875 30.859375 9.671875 23.640625 \r\nz\r\nM 3.328125 23.640625 \r\nQ 3.328125 30.953125 7.625 36.859375 \r\nQ 11.921875 42.78125 18.84375 45.125 \r\nQ 15.71875 47.75 13.953125 51.796875 \r\nQ 12.203125 55.859375 12.203125 60.75 \r\nL 17.28125 60.75 \r\nQ 17.28125 55.375 19.96875 51.65625 \r\nQ 22.65625 47.953125 26.375 47.953125 \r\nQ 27.734375 47.953125 29.390625 48.875 \r\nQ 31.0625 49.8125 32.625 51.375 \r\nL 48.734375 66.796875 \r\nL 52.046875 63.484375 \r\nL 33.796875 45.125 \r\nQ 40.828125 42.78125 45.125 36.671875 \r\nQ 49.421875 30.5625 49.421875 22.953125 \r\nQ 49.421875 13.484375 42.625 6.734375 \r\nQ 35.84375 0 26.375 0 \r\nQ 16.796875 0 10.0625 6.9375 \r\nQ 3.328125 13.875 3.328125 23.640625 \r\nz\r\n\" id=\"Lohit-Telugu-3120\"/>\r\n       </defs>\r\n       <use xlink:href=\"#Lohit-Telugu-3120\"/>\r\n      </g>\r\n     </g>\r\n    </g>\r\n    <g id=\"ytick_6\">\r\n     <g id=\"line2d_13\">\r\n      <g>\r\n       <use style=\"stroke:#000000;stroke-width:0.8;\" x=\"35.873125\" xlink:href=\"#m48029d163c\" y=\"202.822374\"/>\r\n      </g>\r\n     </g>\r\n     <g id=\"text_13\">\r\n      <!-- ా -->\r\n      <g transform=\"translate(18.309375 208.817218)scale(0.18 -0.18)\">\r\n       <defs>\r\n        <path d=\"M 35.84375 36.140625 \r\nQ 35.84375 38.09375 36.375 39.75 \r\nQ 36.921875 41.40625 37.796875 42.484375 \r\nL 37.59375 43.171875 \r\nL 32.515625 42.484375 \r\nL -26.65625 42.484375 \r\nL -26.65625 48.921875 \r\nL 44.734375 48.921875 \r\nQ 50.59375 48.921875 54.734375 45.15625 \r\nQ 58.890625 41.40625 58.890625 36.140625 \r\nQ 58.890625 31.34375 55.515625 27.921875 \r\nQ 52.15625 24.515625 47.359375 24.515625 \r\nQ 42.578125 24.515625 39.203125 27.921875 \r\nQ 35.84375 31.34375 35.84375 36.140625 \r\nz\r\nM 41.015625 36.140625 \r\nQ 41.015625 33.40625 42.875 31.59375 \r\nQ 44.734375 29.78125 47.359375 29.78125 \r\nQ 50 29.78125 51.90625 31.59375 \r\nQ 53.8125 33.40625 53.8125 36.140625 \r\nQ 53.8125 38.765625 51.90625 40.625 \r\nQ 50 42.484375 47.359375 42.484375 \r\nQ 44.734375 42.484375 42.875 40.625 \r\nQ 41.015625 38.765625 41.015625 36.140625 \r\nz\r\n\" id=\"Lohit-Telugu-3134\"/>\r\n       </defs>\r\n       <use xlink:href=\"#Lohit-Telugu-3134\"/>\r\n      </g>\r\n     </g>\r\n    </g>\r\n   </g>\r\n   <g id=\"patch_3\">\r\n    <path d=\"M 35.873125 220.406408 \r\nL 35.873125 9.398004 \r\n\" style=\"fill:none;stroke:#000000;stroke-linecap:square;stroke-linejoin:miter;stroke-width:0.8;\"/>\r\n   </g>\r\n   <g id=\"patch_4\">\r\n    <path d=\"M 282.049596 220.406408 \r\nL 282.049596 9.398004 \r\n\" style=\"fill:none;stroke:#000000;stroke-linecap:square;stroke-linejoin:miter;stroke-width:0.8;\"/>\r\n   </g>\r\n   <g id=\"patch_5\">\r\n    <path d=\"M 35.873125 220.406408 \r\nL 282.049596 220.406408 \r\n\" style=\"fill:none;stroke:#000000;stroke-linecap:square;stroke-linejoin:miter;stroke-width:0.8;\"/>\r\n   </g>\r\n   <g id=\"patch_6\">\r\n    <path d=\"M 35.873125 9.398004 \r\nL 282.049596 9.398004 \r\n\" style=\"fill:none;stroke:#000000;stroke-linecap:square;stroke-linejoin:miter;stroke-width:0.8;\"/>\r\n   </g>\r\n  </g>\r\n  <g id=\"axes_2\">\r\n   <g id=\"patch_7\">\r\n    <path d=\"M 331.28489 207.218382 \r\nL 577.46136 207.218382 \r\nL 577.46136 22.586029 \r\nL 331.28489 22.586029 \r\nz\r\n\" style=\"fill:#ffffff;\"/>\r\n   </g>\r\n   <g clip-path=\"url(#p1bdad42f50)\">\r\n    <image height=\"185\" id=\"image23f1d6abaf\" transform=\"scale(1 -1)translate(0 -185)\" width=\"247\" x=\"331.28489\" xlink:href=\"data:image/png;base64,\r\niVBORw0KGgoAAAANSUhEUgAAAPcAAAC5CAYAAAD03qlPAAACvUlEQVR4nO3dsW1qURRFwfssE0FIKU4QBdACgRtGoh0CnLxfxfeRlmca2IC0OOHd1lr7grDD4TC2/Xw+x7Y/xpaB/0rcECVuiBI3RIkbosQNUeKGKHFDlLghStwQJW6IEjdEiRuixA1R4oYocUOUuCFK3BAlbogSN0SJG6LEDVHihihxQ5S4IUrcECVuiBI3RIkbosQNUdvyhC+/YNu2se3X6zW2fTwex7ZdbogSN0SJG6LEDVHihihxQ5S4IUrcECVuiBI3RIkbosQNUeKGKHFDlLghStwQJW6IEjdEiRuixA1R4oYocUOUuCFK3BAlbogSN0SJG6LEDVHihihxQ9Tn9Af4i6aes/3+/h7ZXWutr6+vse3z+Ty2ve9zL2S73BAlbogSN0SJG6LEDVHihihxQ5S4IUrcECVuiBI3RIkbosQNUeKGKHFDlLghStwQJW6IEjdEiRuixA1R4oYocUOUuCFK3BAlbogSN0SJG6LEDVHihqhtrTX2xujpdJqaXu/3e2z78XiM7F4ul5HdtWZ/77/K5YYocUOUuCFK3BAlbogSN0SJG6LEDVHihihxQ5S4IUrcECVuiBI3RIkbosQNUeKGKHFDlLghStwQJW6IEjdEiRuixA1R4oYocUOUuCFK3BAlboj6nBy/Xq9j27fbbWz7fr+P7P78/IzsMsPlhihxQ5S4IUrcECVuiBI3RIkbosQNUeKGKHFDlLghStwQJW6IEjdEiRuixA1R4oYocUOUuCFK3BAlbogSN0SJG6LEDVHihihxQ5S4IUrcECVuiBI3RG37vu9T4x8fc/8tg18bfoXLDVHihihxQ5S4IUrcECVuiBI3RIkbosQNUeKGKHFDlLghStwQJW6IEjdEiRuixA1R4oYocUOUuCFK3BAlbogSN0SJG6LEDVHihihxQ5S4IUrcECVuiPoHQyYkTZLQAe8AAAAASUVORK5CYII=\" y=\"-22.218382\"/>\r\n   </g>\r\n   <g id=\"matplotlib.axis_3\">\r\n    <g id=\"xtick_8\">\r\n     <g id=\"line2d_14\">\r\n      <g>\r\n       <use style=\"stroke:#000000;stroke-width:0.8;\" x=\"346.670919\" xlink:href=\"#mfcb646803b\" y=\"207.218382\"/>\r\n      </g>\r\n     </g>\r\n     <g id=\"text_14\">\r\n      <!-- m -->\r\n      <g transform=\"translate(341.800607 221.81682)scale(0.1 -0.1)\">\r\n       <defs>\r\n        <path d=\"M 52 44.1875 \r\nQ 55.375 50.25 60.0625 53.125 \r\nQ 64.75 56 71.09375 56 \r\nQ 79.640625 56 84.28125 50.015625 \r\nQ 88.921875 44.046875 88.921875 33.015625 \r\nL 88.921875 0 \r\nL 79.890625 0 \r\nL 79.890625 32.71875 \r\nQ 79.890625 40.578125 77.09375 44.375 \r\nQ 74.3125 48.1875 68.609375 48.1875 \r\nQ 61.625 48.1875 57.5625 43.546875 \r\nQ 53.515625 38.921875 53.515625 30.90625 \r\nL 53.515625 0 \r\nL 44.484375 0 \r\nL 44.484375 32.71875 \r\nQ 44.484375 40.625 41.703125 44.40625 \r\nQ 38.921875 48.1875 33.109375 48.1875 \r\nQ 26.21875 48.1875 22.15625 43.53125 \r\nQ 18.109375 38.875 18.109375 30.90625 \r\nL 18.109375 0 \r\nL 9.078125 0 \r\nL 9.078125 54.6875 \r\nL 18.109375 54.6875 \r\nL 18.109375 46.1875 \r\nQ 21.1875 51.21875 25.484375 53.609375 \r\nQ 29.78125 56 35.6875 56 \r\nQ 41.65625 56 45.828125 52.96875 \r\nQ 50 49.953125 52 44.1875 \r\nz\r\n\" id=\"DejaVuSans-109\"/>\r\n       </defs>\r\n       <use xlink:href=\"#DejaVuSans-109\"/>\r\n      </g>\r\n     </g>\r\n    </g>\r\n    <g id=\"xtick_9\">\r\n     <g id=\"line2d_15\">\r\n      <g>\r\n       <use style=\"stroke:#000000;stroke-width:0.8;\" x=\"377.442978\" xlink:href=\"#mfcb646803b\" y=\"207.218382\"/>\r\n      </g>\r\n     </g>\r\n     <g id=\"text_15\">\r\n      <!-- u -->\r\n      <g transform=\"translate(374.274228 221.81682)scale(0.1 -0.1)\">\r\n       <use xlink:href=\"#DejaVuSans-117\"/>\r\n      </g>\r\n     </g>\r\n    </g>\r\n    <g id=\"xtick_10\">\r\n     <g id=\"line2d_16\">\r\n      <g>\r\n       <use style=\"stroke:#000000;stroke-width:0.8;\" x=\"408.215037\" xlink:href=\"#mfcb646803b\" y=\"207.218382\"/>\r\n      </g>\r\n     </g>\r\n     <g id=\"text_16\">\r\n      <!-- u -->\r\n      <g transform=\"translate(405.046287 221.81682)scale(0.1 -0.1)\">\r\n       <use xlink:href=\"#DejaVuSans-117\"/>\r\n      </g>\r\n     </g>\r\n    </g>\r\n    <g id=\"xtick_11\">\r\n     <g id=\"line2d_17\">\r\n      <g>\r\n       <use style=\"stroke:#000000;stroke-width:0.8;\" x=\"438.987096\" xlink:href=\"#mfcb646803b\" y=\"207.218382\"/>\r\n      </g>\r\n     </g>\r\n     <g id=\"text_17\">\r\n      <!-- s -->\r\n      <g transform=\"translate(436.382408 221.81682)scale(0.1 -0.1)\">\r\n       <defs>\r\n        <path d=\"M 44.28125 53.078125 \r\nL 44.28125 44.578125 \r\nQ 40.484375 46.53125 36.375 47.5 \r\nQ 32.28125 48.484375 27.875 48.484375 \r\nQ 21.1875 48.484375 17.84375 46.4375 \r\nQ 14.5 44.390625 14.5 40.28125 \r\nQ 14.5 37.15625 16.890625 35.375 \r\nQ 19.28125 33.59375 26.515625 31.984375 \r\nL 29.59375 31.296875 \r\nQ 39.15625 29.25 43.1875 25.515625 \r\nQ 47.21875 21.78125 47.21875 15.09375 \r\nQ 47.21875 7.46875 41.1875 3.015625 \r\nQ 35.15625 -1.421875 24.609375 -1.421875 \r\nQ 20.21875 -1.421875 15.453125 -0.5625 \r\nQ 10.6875 0.296875 5.421875 2 \r\nL 5.421875 11.28125 \r\nQ 10.40625 8.6875 15.234375 7.390625 \r\nQ 20.0625 6.109375 24.8125 6.109375 \r\nQ 31.15625 6.109375 34.5625 8.28125 \r\nQ 37.984375 10.453125 37.984375 14.40625 \r\nQ 37.984375 18.0625 35.515625 20.015625 \r\nQ 33.0625 21.96875 24.703125 23.78125 \r\nL 21.578125 24.515625 \r\nQ 13.234375 26.265625 9.515625 29.90625 \r\nQ 5.8125 33.546875 5.8125 39.890625 \r\nQ 5.8125 47.609375 11.28125 51.796875 \r\nQ 16.75 56 26.8125 56 \r\nQ 31.78125 56 36.171875 55.265625 \r\nQ 40.578125 54.546875 44.28125 53.078125 \r\nz\r\n\" id=\"DejaVuSans-115\"/>\r\n       </defs>\r\n       <use xlink:href=\"#DejaVuSans-115\"/>\r\n      </g>\r\n     </g>\r\n    </g>\r\n    <g id=\"xtick_12\">\r\n     <g id=\"line2d_18\">\r\n      <g>\r\n       <use style=\"stroke:#000000;stroke-width:0.8;\" x=\"469.759154\" xlink:href=\"#mfcb646803b\" y=\"207.218382\"/>\r\n      </g>\r\n     </g>\r\n     <g id=\"text_18\">\r\n      <!-- e -->\r\n      <g transform=\"translate(466.682592 221.81682)scale(0.1 -0.1)\">\r\n       <use xlink:href=\"#DejaVuSans-101\"/>\r\n      </g>\r\n     </g>\r\n    </g>\r\n    <g id=\"xtick_13\">\r\n     <g id=\"line2d_19\">\r\n      <g>\r\n       <use style=\"stroke:#000000;stroke-width:0.8;\" x=\"500.531213\" xlink:href=\"#mfcb646803b\" y=\"207.218382\"/>\r\n      </g>\r\n     </g>\r\n     <g id=\"text_19\">\r\n      <!-- e -->\r\n      <g transform=\"translate(497.454651 221.81682)scale(0.1 -0.1)\">\r\n       <use xlink:href=\"#DejaVuSans-101\"/>\r\n      </g>\r\n     </g>\r\n    </g>\r\n    <g id=\"xtick_14\">\r\n     <g id=\"line2d_20\">\r\n      <g>\r\n       <use style=\"stroke:#000000;stroke-width:0.8;\" x=\"531.303272\" xlink:href=\"#mfcb646803b\" y=\"207.218382\"/>\r\n      </g>\r\n     </g>\r\n     <g id=\"text_20\">\r\n      <!-- k -->\r\n      <g transform=\"translate(528.40796 221.81682)scale(0.1 -0.1)\">\r\n       <defs>\r\n        <path d=\"M 9.078125 75.984375 \r\nL 18.109375 75.984375 \r\nL 18.109375 31.109375 \r\nL 44.921875 54.6875 \r\nL 56.390625 54.6875 \r\nL 27.390625 29.109375 \r\nL 57.625 0 \r\nL 45.90625 0 \r\nL 18.109375 26.703125 \r\nL 18.109375 0 \r\nL 9.078125 0 \r\nz\r\n\" id=\"DejaVuSans-107\"/>\r\n       </defs>\r\n       <use xlink:href=\"#DejaVuSans-107\"/>\r\n      </g>\r\n     </g>\r\n    </g>\r\n    <g id=\"xtick_15\">\r\n     <g id=\"line2d_21\">\r\n      <g>\r\n       <use style=\"stroke:#000000;stroke-width:0.8;\" x=\"562.075331\" xlink:href=\"#mfcb646803b\" y=\"207.218382\"/>\r\n      </g>\r\n     </g>\r\n     <g id=\"text_21\">\r\n      <!-- i -->\r\n      <g transform=\"translate(560.686268 221.81682)scale(0.1 -0.1)\">\r\n       <defs>\r\n        <path d=\"M 9.421875 54.6875 \r\nL 18.40625 54.6875 \r\nL 18.40625 0 \r\nL 9.421875 0 \r\nz\r\nM 9.421875 75.984375 \r\nL 18.40625 75.984375 \r\nL 18.40625 64.59375 \r\nL 9.421875 64.59375 \r\nz\r\n\" id=\"DejaVuSans-105\"/>\r\n       </defs>\r\n       <use xlink:href=\"#DejaVuSans-105\"/>\r\n      </g>\r\n     </g>\r\n    </g>\r\n   </g>\r\n   <g id=\"matplotlib.axis_4\">\r\n    <g id=\"ytick_7\">\r\n     <g id=\"line2d_22\">\r\n      <g>\r\n       <use style=\"stroke:#000000;stroke-width:0.8;\" x=\"331.28489\" xlink:href=\"#m48029d163c\" y=\"37.972059\"/>\r\n      </g>\r\n     </g>\r\n     <g id=\"text_22\">\r\n      <!-- మ -->\r\n      <g transform=\"translate(307.480202 43.966903)scale(0.18 -0.18)\">\r\n       <defs>\r\n        <path d=\"M 7.421875 11.53125 \r\nQ 7.421875 8.890625 9.28125 6.984375 \r\nQ 11.140625 5.078125 13.875 5.078125 \r\nQ 16.5 5.078125 18.3125 6.984375 \r\nQ 20.125 8.890625 20.125 11.53125 \r\nQ 20.125 14.265625 18.3125 16.0625 \r\nQ 16.5 17.875 13.875 17.875 \r\nQ 11.140625 17.875 9.28125 16.0625 \r\nQ 7.421875 14.265625 7.421875 11.53125 \r\nz\r\nM 2.25 11.53125 \r\nQ 2.25 16.21875 5.65625 19.578125 \r\nQ 9.078125 22.953125 13.875 22.953125 \r\nQ 17.875 22.953125 21.09375 20.265625 \r\nQ 24.3125 17.578125 25.390625 13.28125 \r\nQ 26.171875 10.25 29 8.34375 \r\nQ 31.84375 6.453125 35.453125 6.453125 \r\nQ 40.046875 6.453125 43.171875 11.328125 \r\nQ 46.296875 16.21875 46.296875 23.140625 \r\nQ 46.296875 31.25 40.96875 36.953125 \r\nQ 35.640625 42.671875 28.03125 42.671875 \r\nL 21.09375 42.671875 \r\nQ 15.4375 42.671875 11.328125 46.828125 \r\nQ 7.234375 50.984375 7.234375 56.84375 \r\nL 12.3125 56.84375 \r\nQ 12.3125 52.9375 15.046875 50.203125 \r\nQ 17.78125 47.46875 21.484375 47.46875 \r\nQ 22.859375 47.46875 24.46875 48.34375 \r\nQ 26.078125 49.21875 27.734375 50.875 \r\nL 43.84375 66.21875 \r\nL 47.078125 62.984375 \r\nL 31.640625 47.65625 \r\nQ 40.71875 46.390625 46.71875 39.40625 \r\nQ 52.734375 32.421875 52.734375 23.140625 \r\nL 52.546875 20.125 \r\nQ 54.6875 13.96875 59.515625 10.203125 \r\nQ 64.359375 6.453125 70.125 6.453125 \r\nQ 75.484375 6.453125 79.1875 11.328125 \r\nQ 82.90625 16.21875 82.90625 23.140625 \r\nQ 82.90625 30.671875 78.265625 35.984375 \r\nQ 73.640625 41.3125 67.1875 41.3125 \r\nL 68.65625 47.65625 \r\nQ 77.640625 46.875 83.78125 39.75 \r\nQ 89.9375 32.625 89.9375 22.953125 \r\nQ 89.9375 13.484375 83.9375 6.734375 \r\nQ 77.9375 0 69.4375 0 \r\nQ 63.875 0 58.890625 3.265625 \r\nQ 53.90625 6.546875 50.984375 12.203125 \r\nQ 49.03125 6.734375 44.734375 3.359375 \r\nQ 40.4375 0 35.453125 0 \r\nQ 32.03125 0 29.046875 1.796875 \r\nQ 26.078125 3.609375 24.3125 6.640625 \r\nL 24.03125 6.453125 \r\nQ 22.953125 3.609375 20.171875 1.796875 \r\nQ 17.390625 0 13.875 0 \r\nQ 9.078125 0 5.65625 3.421875 \r\nQ 2.25 6.84375 2.25 11.53125 \r\nz\r\n\" id=\"Lohit-Telugu-3118\"/>\r\n       </defs>\r\n       <use xlink:href=\"#Lohit-Telugu-3118\"/>\r\n      </g>\r\n     </g>\r\n    </g>\r\n    <g id=\"ytick_8\">\r\n     <g id=\"line2d_23\">\r\n      <g>\r\n       <use style=\"stroke:#000000;stroke-width:0.8;\" x=\"331.28489\" xlink:href=\"#m48029d163c\" y=\"68.744118\"/>\r\n      </g>\r\n     </g>\r\n     <g id=\"text_23\">\r\n      <!-- ూ -->\r\n      <g transform=\"translate(311.558327 74.738961)scale(0.18 -0.18)\">\r\n       <defs>\r\n        <path d=\"M 50.78125 37.015625 \r\nQ 50.78125 34.375 52.640625 32.515625 \r\nQ 54.5 30.671875 57.125 30.671875 \r\nQ 59.765625 30.671875 61.671875 32.515625 \r\nQ 63.578125 34.375 63.578125 37.015625 \r\nQ 63.578125 39.65625 61.671875 41.546875 \r\nQ 59.765625 43.453125 57.125 43.453125 \r\nQ 54.5 43.453125 52.640625 41.546875 \r\nQ 50.78125 39.65625 50.78125 37.015625 \r\nz\r\nM 10.25 49.8125 \r\nL 54.6875 49.8125 \r\nQ 60.546875 49.8125 64.640625 46.09375 \r\nQ 68.75 42.390625 68.75 37.015625 \r\nQ 68.75 32.234375 65.328125 28.859375 \r\nQ 61.921875 25.484375 57.125 25.484375 \r\nQ 52.34375 25.484375 49.015625 28.859375 \r\nQ 45.703125 32.234375 45.703125 37.015625 \r\nQ 45.703125 38.578125 46.390625 40.234375 \r\nQ 47.078125 41.890625 48.34375 43.453125 \r\nL 48.046875 43.84375 \r\nL 23.734375 43.84375 \r\nL 23.4375 43.453125 \r\nQ 27.15625 40.828125 29.203125 35.40625 \r\nQ 31.25 29.984375 31.25 22.953125 \r\nQ 31.25 13.484375 25.484375 6.734375 \r\nQ 19.734375 0 11.53125 0 \r\nQ 4.78125 0 -0.34375 4.296875 \r\nQ -5.46875 8.59375 -6.640625 15.140625 \r\nL -6.640625 21.875 \r\nQ -5.46875 15.140625 -0.28125 10.796875 \r\nQ 4.890625 6.453125 11.53125 6.453125 \r\nQ 17.390625 6.453125 21.484375 11.28125 \r\nQ 25.59375 16.109375 25.59375 22.953125 \r\nQ 25.59375 31.640625 21.09375 37.796875 \r\nQ 16.609375 43.953125 10.25 43.953125 \r\nL 10.25 49.8125 \r\nz\r\n\" id=\"Lohit-Telugu-3138\"/>\r\n       </defs>\r\n       <use xlink:href=\"#Lohit-Telugu-3138\"/>\r\n      </g>\r\n     </g>\r\n    </g>\r\n    <g id=\"ytick_9\">\r\n     <g id=\"line2d_24\">\r\n      <g>\r\n       <use style=\"stroke:#000000;stroke-width:0.8;\" x=\"331.28489\" xlink:href=\"#m48029d163c\" y=\"99.516176\"/>\r\n      </g>\r\n     </g>\r\n     <g id=\"text_24\">\r\n      <!-- స -->\r\n      <g transform=\"translate(313.91239 105.546176)scale(0.18 -0.18)\">\r\n       <defs>\r\n        <path d=\"M 37.203125 6.453125 \r\nQ 41.40625 6.453125 44.4375 11.28125 \r\nQ 47.46875 16.109375 47.46875 22.953125 \r\nQ 47.46875 30.5625 42.96875 35.9375 \r\nQ 38.484375 41.3125 32.125 41.3125 \r\nL 34.765625 47.859375 \r\nQ 42.671875 47.859375 48.1875 40.578125 \r\nQ 53.71875 33.296875 53.71875 22.953125 \r\nQ 53.71875 13.484375 48.875 6.734375 \r\nQ 44.046875 0 37.203125 0 \r\nQ 31.453125 0 27.25 3.609375 \r\nQ 23.046875 7.234375 22.5625 12.5 \r\nQ 22.265625 15.828125 20.40625 18.171875 \r\nQ 18.5625 20.515625 16.21875 20.515625 \r\nQ 13.1875 20.515625 11.125 17.828125 \r\nQ 9.078125 15.140625 9.078125 11.421875 \r\nQ 9.078125 9.46875 10.25 6.984375 \r\nQ 11.421875 4.5 13.671875 1.859375 \r\nL 7.8125 -0.984375 \r\nQ 5.28125 2.046875 3.953125 5.21875 \r\nQ 2.640625 8.40625 2.640625 11.421875 \r\nQ 2.640625 17.78125 6.59375 22.265625 \r\nQ 10.546875 26.765625 16.21875 26.765625 \r\nQ 20.90625 26.765625 24.359375 23.4375 \r\nQ 27.828125 20.125 28.328125 15.140625 \r\nQ 28.609375 11.421875 31.203125 8.9375 \r\nQ 33.796875 6.453125 37.203125 6.453125 \r\nz\r\nM 1.46875 61.921875 \r\nL 6.453125 61.921875 \r\nQ 6.453125 57.125 8.734375 53.703125 \r\nQ 11.03125 50.296875 14.265625 50.296875 \r\nQ 15.828125 50.296875 17.578125 50.921875 \r\nQ 19.34375 51.5625 21.09375 52.734375 \r\nL 42.09375 67 \r\nL 45.125 62.703125 \r\nL 23.734375 48.046875 \r\nQ 21.296875 46.390625 18.890625 45.5 \r\nQ 16.5 44.625 14.265625 44.625 \r\nQ 8.890625 44.625 5.171875 49.65625 \r\nQ 1.46875 54.6875 1.46875 61.921875 \r\nz\r\n\" id=\"Lohit-Telugu-3128\"/>\r\n       </defs>\r\n       <use xlink:href=\"#Lohit-Telugu-3128\"/>\r\n      </g>\r\n     </g>\r\n    </g>\r\n    <g id=\"ytick_10\">\r\n     <g id=\"line2d_25\">\r\n      <g>\r\n       <use style=\"stroke:#000000;stroke-width:0.8;\" x=\"331.28489\" xlink:href=\"#m48029d163c\" y=\"130.288235\"/>\r\n      </g>\r\n     </g>\r\n     <g id=\"text_25\">\r\n      <!-- ీ -->\r\n      <g transform=\"translate(324.28489 136.283079)scale(0.18 -0.18)\">\r\n       <defs>\r\n        <path d=\"M -10.546875 51.5625 \r\nQ -8.59375 50.09375 -5.859375 49.265625 \r\nQ -3.125 48.4375 0.203125 48.4375 \r\nQ 4.59375 48.4375 7.71875 51.078125 \r\nQ 10.84375 53.71875 10.84375 57.515625 \r\nL 10.359375 58.015625 \r\nQ 8.6875 56.25 6.046875 55.265625 \r\nQ 3.421875 54.296875 0.203125 54.296875 \r\nQ -5.953125 54.296875 -10.296875 57.328125 \r\nQ -14.65625 60.359375 -14.65625 64.546875 \r\nQ -14.65625 67.09375 -12.796875 69.28125 \r\nQ -10.9375 71.484375 -7.90625 72.359375 \r\nL -7.90625 72.859375 \r\nQ -10.25 73.640625 -11.671875 75.53125 \r\nQ -13.09375 77.4375 -13.09375 79.890625 \r\nQ -13.09375 84.078125 -9.1875 87.0625 \r\nQ -5.28125 90.046875 0.203125 90.046875 \r\nQ 6.25 90.046875 10.453125 86.578125 \r\nQ 14.65625 83.109375 14.15625 78.515625 \r\nL 7.234375 78.515625 \r\nQ 7.234375 81.15625 5.125 83 \r\nQ 3.03125 84.859375 0.203125 84.859375 \r\nQ -2.546875 84.859375 -4.5 83.390625 \r\nQ -6.453125 81.9375 -6.453125 79.890625 \r\nQ -6.453125 78.03125 -4.4375 76.515625 \r\nQ -2.4375 75 0.484375 74.609375 \r\nQ 7.515625 73.640625 12.15625 69.28125 \r\nQ 16.796875 64.9375 16.796875 59.375 \r\nQ 16.796875 52.546875 11.90625 47.65625 \r\nQ 7.03125 42.78125 0.203125 42.78125 \r\nQ -3.03125 42.78125 -6.5 43.5625 \r\nQ -9.96875 44.34375 -13.578125 45.90625 \r\nL -10.546875 51.5625 \r\nz\r\nM -8.203125 64.546875 \r\nQ -8.203125 62.40625 -5.703125 60.984375 \r\nQ -3.21875 59.578125 0.203125 59.578125 \r\nQ 3.328125 59.578125 5.515625 60.984375 \r\nQ 7.71875 62.40625 7.71875 64.546875 \r\nQ 7.71875 66.609375 5.515625 68.109375 \r\nQ 3.328125 69.625 0.203125 69.625 \r\nQ -3.21875 69.625 -5.703125 68.109375 \r\nQ -8.203125 66.609375 -8.203125 64.546875 \r\nz\r\n\" id=\"Lohit-Telugu-3136\"/>\r\n       </defs>\r\n       <use xlink:href=\"#Lohit-Telugu-3136\"/>\r\n      </g>\r\n     </g>\r\n    </g>\r\n    <g id=\"ytick_11\">\r\n     <g id=\"line2d_26\">\r\n      <g>\r\n       <use style=\"stroke:#000000;stroke-width:0.8;\" x=\"331.28489\" xlink:href=\"#m48029d163c\" y=\"161.060294\"/>\r\n      </g>\r\n     </g>\r\n     <g id=\"text_26\">\r\n      <!-- క -->\r\n      <g transform=\"translate(315.28489 167.055138)scale(0.18 -0.18)\">\r\n       <defs>\r\n        <path d=\"M 11.53125 34.578125 \r\nQ 11.53125 31.640625 15.234375 29.59375 \r\nQ 18.953125 27.546875 24.3125 27.546875 \r\nQ 32.234375 27.546875 37.890625 23.578125 \r\nQ 43.5625 19.625 43.5625 14.0625 \r\nQ 43.5625 8.203125 37.75 4.09375 \r\nQ 31.9375 0 23.640625 0 \r\nQ 17.09375 0 11.28125 2.640625 \r\nQ 5.46875 5.28125 1.46875 10.0625 \r\nL 5.859375 14.453125 \r\nQ 9.078125 10.640625 13.765625 8.546875 \r\nQ 18.453125 6.453125 23.640625 6.453125 \r\nQ 29.296875 6.453125 33.25 8.640625 \r\nQ 37.203125 10.84375 37.203125 14.0625 \r\nQ 37.203125 17.484375 32.859375 19.921875 \r\nQ 28.515625 22.359375 22.46875 22.359375 \r\nQ 15.234375 22.359375 10.203125 25.921875 \r\nQ 5.171875 29.5 5.171875 34.578125 \r\nQ 5.171875 37.703125 7.5625 40.625 \r\nQ 9.96875 43.5625 13.875 45.3125 \r\nQ 11.53125 47.859375 10.203125 51.515625 \r\nQ 8.890625 55.171875 8.890625 59.375 \r\nL 13.875 59.375 \r\nQ 13.875 54.296875 16.65625 50.6875 \r\nQ 19.4375 47.078125 23.34375 47.078125 \r\nQ 24.8125 47.078125 26.375 47.859375 \r\nQ 27.9375 48.640625 29.390625 50.09375 \r\nL 45.40625 65.4375 \r\nL 48.734375 62.203125 \r\nL 32.515625 45.796875 \r\nQ 35.15625 45.015625 37.40625 43.796875 \r\nQ 39.65625 42.578125 41.609375 41.015625 \r\nL 38.484375 35.359375 \r\nQ 35.25 38.09375 31.296875 39.5 \r\nQ 27.34375 40.921875 23.140625 40.921875 \r\nQ 18.359375 40.921875 14.9375 39.0625 \r\nQ 11.53125 37.203125 11.53125 34.578125 \r\nz\r\n\" id=\"Lohit-Telugu-3093\"/>\r\n       </defs>\r\n       <use xlink:href=\"#Lohit-Telugu-3093\"/>\r\n      </g>\r\n     </g>\r\n    </g>\r\n    <g id=\"ytick_12\">\r\n     <g id=\"line2d_27\">\r\n      <g>\r\n       <use style=\"stroke:#000000;stroke-width:0.8;\" x=\"331.28489\" xlink:href=\"#m48029d163c\" y=\"191.832353\"/>\r\n      </g>\r\n     </g>\r\n     <g id=\"text_27\">\r\n      <!-- ి -->\r\n      <g transform=\"translate(324.28489 197.827197)scale(0.18 -0.18)\">\r\n       <defs>\r\n        <path d=\"M -9.96875 50.875 \r\nQ -7.625 49.421875 -5.125 48.640625 \r\nQ -2.640625 47.859375 -0.203125 47.859375 \r\nQ 4.59375 47.859375 8 50.6875 \r\nQ 11.421875 53.515625 11.421875 57.515625 \r\nL 10.75 57.71875 \r\nQ 9.28125 55.765625 6.6875 54.734375 \r\nQ 4.109375 53.71875 0.78125 53.71875 \r\nQ -5.375 53.71875 -9.71875 56.6875 \r\nQ -14.0625 59.671875 -14.0625 63.875 \r\nQ -14.0625 68.453125 -9.671875 71.625 \r\nQ -5.28125 74.8125 0.984375 74.8125 \r\nQ 8.015625 73.734375 12.703125 69.390625 \r\nQ 17.390625 65.046875 17.390625 59.375 \r\nQ 17.390625 52.546875 12.25 47.65625 \r\nQ 7.125 42.78125 -0.203125 42.78125 \r\nQ -4 42.78125 -7.265625 43.75 \r\nQ -10.546875 44.734375 -12.984375 46.6875 \r\nL -9.96875 50.875 \r\nz\r\nM -7.625 64.546875 \r\nQ -7.625 61.921875 -5.125 60.0625 \r\nQ -2.640625 58.203125 0.78125 58.203125 \r\nQ 3.90625 58.203125 6.09375 59.859375 \r\nQ 8.296875 61.53125 8.296875 63.875 \r\nQ 8.296875 66.21875 6.09375 67.921875 \r\nQ 3.90625 69.625 0.78125 69.625 \r\nQ -2.640625 69.625 -5.125 68.109375 \r\nQ -7.625 66.609375 -7.625 64.546875 \r\nz\r\n\" id=\"Lohit-Telugu-3135\"/>\r\n       </defs>\r\n       <use xlink:href=\"#Lohit-Telugu-3135\"/>\r\n      </g>\r\n     </g>\r\n    </g>\r\n   </g>\r\n   <g id=\"patch_8\">\r\n    <path d=\"M 331.28489 207.218382 \r\nL 331.28489 22.586029 \r\n\" style=\"fill:none;stroke:#000000;stroke-linecap:square;stroke-linejoin:miter;stroke-width:0.8;\"/>\r\n   </g>\r\n   <g id=\"patch_9\">\r\n    <path d=\"M 577.46136 207.218382 \r\nL 577.46136 22.586029 \r\n\" style=\"fill:none;stroke:#000000;stroke-linecap:square;stroke-linejoin:miter;stroke-width:0.8;\"/>\r\n   </g>\r\n   <g id=\"patch_10\">\r\n    <path d=\"M 331.28489 207.218382 \r\nL 577.46136 207.218382 \r\n\" style=\"fill:none;stroke:#000000;stroke-linecap:square;stroke-linejoin:miter;stroke-width:0.8;\"/>\r\n   </g>\r\n   <g id=\"patch_11\">\r\n    <path d=\"M 331.28489 22.586029 \r\nL 577.46136 22.586029 \r\n\" style=\"fill:none;stroke:#000000;stroke-linecap:square;stroke-linejoin:miter;stroke-width:0.8;\"/>\r\n   </g>\r\n  </g>\r\n  <g id=\"axes_3\">\r\n   <g id=\"patch_12\">\r\n    <path d=\"M 626.696654 222.604412 \r\nL 872.873125 222.604412 \r\nL 872.873125 7.2 \r\nL 626.696654 7.2 \r\nz\r\n\" style=\"fill:#ffffff;\"/>\r\n   </g>\r\n   <g clip-path=\"url(#pd813b89169)\">\r\n    <image height=\"216\" id=\"image6d019a1d62\" transform=\"scale(1 -1)translate(0 -216)\" width=\"247\" x=\"626.696654\" xlink:href=\"data:image/png;base64,\r\niVBORw0KGgoAAAANSUhEUgAAAPcAAADYCAYAAAA3dnWwAAADLElEQVR4nO3d0U1qURRF0XPlJcRQAXbFj53YlEVYBDWQ2wJ8iVX4djIdo4EFIZP9eba11nPBL9u2bWz74+NjbHvye7+MLQO/StwQJW6IEjdEiRuixA1R4oYocUOUuCFK3BAlbogSN0SJG6LEDVHihihxQ5S4IUrcECVuiBI3RIkbosQNUeKGKHFDlLghStwQJW6IEjdEiRuixA1R/6Y/AP/P5HOy39/fY9uT33uSyw1R4oYocUOUuCFK3BAlbogSN0SJG6LEDVHihihxQ5S4IUrcECVuiBI3RIkbosQNUeKGKHFDlLghStwQJW6IEjdEiRuixA1R4oYocUOUuCFK3BAlbojyhO+Al5eZ/9TT6TSyu9Za1+t1bPv19XVs+/F4jG273BAlbogSN0SJG6LEDVHihihxQ5S4IUrcECVuiBI3RIkbosQNUeKGKHFDlLghStwQJW6IEjdEiRuixA1R4oYocUOUuCFK3BAlbogSN0SJG6LEDVHihihP+A44HA4ju5fLZWR3rbU+Pz/Htu/3+9j2JJcbosQNUeKGKHFDlLghStwQJW6IEjdEiRuixA1R4oYocUOUuCFK3BAlbogSN0SJG6LEDVHihihxQ5S4IUrcECVuiBI3RIkbosQNUeKGKHFDlLgh6s++8nk8Hse2v76+Rnbf399Hdtdaa9/3se2/yuWGKHFDlLghStwQJW6IEjdEiRuixA1R4oYocUOUuCFK3BAlbogSN0SJG6LEDVHihihxQ5S4IUrcECVuiBI3RIkbosQNUeKGKHFDlLghStwQJW6IEjdEbYfD4Tk2vm1T0+t2u41tn8/nkd3nc+ynZoDLDVHihihxQ5S4IUrcECVuiBI3RIkbosQNUeKGKHFDlLghStwQJW6IEjdEiRuixA1R4oYocUOUuCFK3BAlbogSN0SJG6LEDVHihihxQ5S4IUrcECVuiNr2fR971/Xt7W1qGvJcbogSN0SJG6LEDVHihihxQ5S4IUrcECVuiBI3RIkbosQNUeKGKHFDlLghStwQJW6IEjdEiRuixA1R4oYocUOUuCFK3BAlbogSN0SJG6LEDVHihihxQ9QPTw4jmqwtqiwAAAAASUVORK5CYII=\" y=\"-6.604412\"/>\r\n   </g>\r\n   <g id=\"matplotlib.axis_5\">\r\n    <g id=\"xtick_16\">\r\n     <g id=\"line2d_28\">\r\n      <g>\r\n       <use style=\"stroke:#000000;stroke-width:0.8;\" x=\"642.082684\" xlink:href=\"#mfcb646803b\" y=\"222.604412\"/>\r\n      </g>\r\n     </g>\r\n     <g id=\"text_28\">\r\n      <!-- v -->\r\n      <g transform=\"translate(639.123309 237.202849)scale(0.1 -0.1)\">\r\n       <defs>\r\n        <path d=\"M 2.984375 54.6875 \r\nL 12.5 54.6875 \r\nL 29.59375 8.796875 \r\nL 46.6875 54.6875 \r\nL 56.203125 54.6875 \r\nL 35.6875 0 \r\nL 23.484375 0 \r\nz\r\n\" id=\"DejaVuSans-118\"/>\r\n       </defs>\r\n       <use xlink:href=\"#DejaVuSans-118\"/>\r\n      </g>\r\n     </g>\r\n    </g>\r\n    <g id=\"xtick_17\">\r\n     <g id=\"line2d_29\">\r\n      <g>\r\n       <use style=\"stroke:#000000;stroke-width:0.8;\" x=\"672.854743\" xlink:href=\"#mfcb646803b\" y=\"222.604412\"/>\r\n      </g>\r\n     </g>\r\n     <g id=\"text_29\">\r\n      <!-- a -->\r\n      <g transform=\"translate(669.79068 237.202849)scale(0.1 -0.1)\">\r\n       <use xlink:href=\"#DejaVuSans-97\"/>\r\n      </g>\r\n     </g>\r\n    </g>\r\n    <g id=\"xtick_18\">\r\n     <g id=\"line2d_30\">\r\n      <g>\r\n       <use style=\"stroke:#000000;stroke-width:0.8;\" x=\"703.626801\" xlink:href=\"#mfcb646803b\" y=\"222.604412\"/>\r\n      </g>\r\n     </g>\r\n     <g id=\"text_30\">\r\n      <!-- y -->\r\n      <g transform=\"translate(700.667426 237.202849)scale(0.1 -0.1)\">\r\n       <defs>\r\n        <path d=\"M 32.171875 -5.078125 \r\nQ 28.375 -14.84375 24.75 -17.8125 \r\nQ 21.140625 -20.796875 15.09375 -20.796875 \r\nL 7.90625 -20.796875 \r\nL 7.90625 -13.28125 \r\nL 13.1875 -13.28125 \r\nQ 16.890625 -13.28125 18.9375 -11.515625 \r\nQ 21 -9.765625 23.484375 -3.21875 \r\nL 25.09375 0.875 \r\nL 2.984375 54.6875 \r\nL 12.5 54.6875 \r\nL 29.59375 11.921875 \r\nL 46.6875 54.6875 \r\nL 56.203125 54.6875 \r\nz\r\n\" id=\"DejaVuSans-121\"/>\r\n       </defs>\r\n       <use xlink:href=\"#DejaVuSans-121\"/>\r\n      </g>\r\n     </g>\r\n    </g>\r\n    <g id=\"xtick_19\">\r\n     <g id=\"line2d_31\">\r\n      <g>\r\n       <use style=\"stroke:#000000;stroke-width:0.8;\" x=\"734.39886\" xlink:href=\"#mfcb646803b\" y=\"222.604412\"/>\r\n      </g>\r\n     </g>\r\n     <g id=\"text_31\">\r\n      <!-- i -->\r\n      <g transform=\"translate(733.009798 237.202849)scale(0.1 -0.1)\">\r\n       <use xlink:href=\"#DejaVuSans-105\"/>\r\n      </g>\r\n     </g>\r\n    </g>\r\n    <g id=\"xtick_20\">\r\n     <g id=\"line2d_32\">\r\n      <g>\r\n       <use style=\"stroke:#000000;stroke-width:0.8;\" x=\"765.170919\" xlink:href=\"#mfcb646803b\" y=\"222.604412\"/>\r\n      </g>\r\n     </g>\r\n     <g id=\"text_32\">\r\n      <!-- s -->\r\n      <g transform=\"translate(762.566232 237.202849)scale(0.1 -0.1)\">\r\n       <use xlink:href=\"#DejaVuSans-115\"/>\r\n      </g>\r\n     </g>\r\n    </g>\r\n    <g id=\"xtick_21\">\r\n     <g id=\"line2d_33\">\r\n      <g>\r\n       <use style=\"stroke:#000000;stroke-width:0.8;\" x=\"795.942978\" xlink:href=\"#mfcb646803b\" y=\"222.604412\"/>\r\n      </g>\r\n     </g>\r\n     <g id=\"text_33\">\r\n      <!-- t -->\r\n      <g transform=\"translate(793.982822 237.202849)scale(0.1 -0.1)\">\r\n       <defs>\r\n        <path d=\"M 18.3125 70.21875 \r\nL 18.3125 54.6875 \r\nL 36.8125 54.6875 \r\nL 36.8125 47.703125 \r\nL 18.3125 47.703125 \r\nL 18.3125 18.015625 \r\nQ 18.3125 11.328125 20.140625 9.421875 \r\nQ 21.96875 7.515625 27.59375 7.515625 \r\nL 36.8125 7.515625 \r\nL 36.8125 0 \r\nL 27.59375 0 \r\nQ 17.1875 0 13.234375 3.875 \r\nQ 9.28125 7.765625 9.28125 18.015625 \r\nL 9.28125 47.703125 \r\nL 2.6875 47.703125 \r\nL 2.6875 54.6875 \r\nL 9.28125 54.6875 \r\nL 9.28125 70.21875 \r\nz\r\n\" id=\"DejaVuSans-116\"/>\r\n       </defs>\r\n       <use xlink:href=\"#DejaVuSans-116\"/>\r\n      </g>\r\n     </g>\r\n    </g>\r\n    <g id=\"xtick_22\">\r\n     <g id=\"line2d_34\">\r\n      <g>\r\n       <use style=\"stroke:#000000;stroke-width:0.8;\" x=\"826.715037\" xlink:href=\"#mfcb646803b\" y=\"222.604412\"/>\r\n      </g>\r\n     </g>\r\n     <g id=\"text_34\">\r\n      <!-- u -->\r\n      <g transform=\"translate(823.546287 237.202849)scale(0.1 -0.1)\">\r\n       <use xlink:href=\"#DejaVuSans-117\"/>\r\n      </g>\r\n     </g>\r\n    </g>\r\n    <g id=\"xtick_23\">\r\n     <g id=\"line2d_35\">\r\n      <g>\r\n       <use style=\"stroke:#000000;stroke-width:0.8;\" x=\"857.487096\" xlink:href=\"#mfcb646803b\" y=\"222.604412\"/>\r\n      </g>\r\n     </g>\r\n     <g id=\"text_35\">\r\n      <!-- u -->\r\n      <g transform=\"translate(854.318346 237.202849)scale(0.1 -0.1)\">\r\n       <use xlink:href=\"#DejaVuSans-117\"/>\r\n      </g>\r\n     </g>\r\n    </g>\r\n   </g>\r\n   <g id=\"matplotlib.axis_6\">\r\n    <g id=\"ytick_13\">\r\n     <g id=\"line2d_36\">\r\n      <g>\r\n       <use style=\"stroke:#000000;stroke-width:0.8;\" x=\"626.696654\" xlink:href=\"#m48029d163c\" y=\"22.586029\"/>\r\n      </g>\r\n     </g>\r\n     <g id=\"text_36\">\r\n      <!-- వ -->\r\n      <g transform=\"translate(609.571654 28.580873)scale(0.18 -0.18)\">\r\n       <defs>\r\n        <path d=\"M 7.421875 11.53125 \r\nQ 7.421875 8.890625 9.28125 6.984375 \r\nQ 11.140625 5.078125 13.875 5.078125 \r\nQ 16.5 5.078125 18.3125 6.984375 \r\nQ 20.125 8.890625 20.125 11.53125 \r\nQ 20.125 14.265625 18.3125 16.0625 \r\nQ 16.5 17.875 13.875 17.875 \r\nQ 11.140625 17.875 9.28125 16.0625 \r\nQ 7.421875 14.265625 7.421875 11.53125 \r\nz\r\nM 2.25 11.53125 \r\nQ 2.25 16.21875 5.65625 19.578125 \r\nQ 9.078125 22.953125 13.875 22.953125 \r\nQ 17.875 22.953125 21.09375 20.265625 \r\nQ 24.3125 17.578125 25.390625 13.28125 \r\nQ 26.171875 10.25 29 8.34375 \r\nQ 31.84375 6.453125 35.453125 6.453125 \r\nQ 40.046875 6.453125 43.171875 11.328125 \r\nQ 46.296875 16.21875 46.296875 23.140625 \r\nQ 46.296875 31.25 40.96875 36.953125 \r\nQ 35.640625 42.671875 28.03125 42.671875 \r\nL 21.484375 42.671875 \r\nQ 15.625 42.671875 11.421875 46.828125 \r\nQ 7.234375 50.984375 7.234375 56.84375 \r\nL 12.3125 56.84375 \r\nQ 12.3125 52.9375 15.046875 50.203125 \r\nQ 17.78125 47.46875 21.484375 47.46875 \r\nQ 22.859375 47.46875 24.46875 48.34375 \r\nQ 26.078125 49.21875 27.734375 50.875 \r\nL 43.84375 66.21875 \r\nL 47.078125 62.984375 \r\nL 31.15625 47.65625 \r\nQ 40.4375 46.484375 46.578125 39.5 \r\nQ 52.734375 32.515625 52.734375 23.140625 \r\nQ 52.734375 13.484375 47.703125 6.734375 \r\nQ 42.671875 0 35.453125 0 \r\nQ 32.03125 0 29.046875 1.796875 \r\nQ 26.078125 3.609375 24.3125 6.640625 \r\nL 24.03125 6.453125 \r\nQ 22.953125 3.609375 20.171875 1.796875 \r\nQ 17.390625 0 13.875 0 \r\nQ 9.078125 0 5.65625 3.421875 \r\nQ 2.25 6.84375 2.25 11.53125 \r\nz\r\n\" id=\"Lohit-Telugu-3125\"/>\r\n       </defs>\r\n       <use xlink:href=\"#Lohit-Telugu-3125\"/>\r\n      </g>\r\n     </g>\r\n    </g>\r\n    <g id=\"ytick_14\">\r\n     <g id=\"line2d_37\">\r\n      <g>\r\n       <use style=\"stroke:#000000;stroke-width:0.8;\" x=\"626.696654\" xlink:href=\"#m48029d163c\" y=\"53.358088\"/>\r\n      </g>\r\n     </g>\r\n     <g id=\"text_37\">\r\n      <!-- య -->\r\n      <g transform=\"translate(598.023529 59.369807)scale(0.18 -0.18)\">\r\n       <defs>\r\n        <path d=\"M 9.671875 22.953125 \r\nQ 9.671875 16.109375 14.546875 11.28125 \r\nQ 19.4375 6.453125 26.375 6.453125 \r\nQ 33.203125 6.453125 38.03125 11.28125 \r\nQ 42.875 16.109375 42.875 22.953125 \r\nQ 42.875 30.375 38.03125 35.640625 \r\nQ 33.203125 40.921875 26.375 40.921875 \r\nQ 19.4375 40.921875 14.546875 35.640625 \r\nQ 9.671875 30.375 9.671875 22.953125 \r\nz\r\nM 73.640625 23.734375 \r\nQ 73.640625 31.453125 68.75 36.96875 \r\nQ 63.875 42.484375 57.125 42.484375 \r\nQ 51.171875 42.484375 46.96875 47.796875 \r\nQ 42.78125 53.125 42.78125 60.75 \r\nL 47.859375 60.75 \r\nQ 47.859375 55.375 50.53125 51.65625 \r\nQ 53.21875 47.953125 56.9375 47.953125 \r\nQ 58.296875 47.953125 59.90625 48.875 \r\nQ 61.53125 49.8125 63.1875 51.375 \r\nL 79.296875 66.796875 \r\nL 82.625 63.484375 \r\nL 65.4375 46.296875 \r\nQ 72.359375 43.5625 76.515625 37.40625 \r\nQ 80.671875 31.25 80.671875 23.734375 \r\nL 80.28125 18.5625 \r\nQ 82.625 13.09375 87.203125 9.765625 \r\nQ 91.796875 6.453125 97.078125 6.453125 \r\nQ 102.4375 6.453125 106.140625 11.328125 \r\nQ 109.859375 16.21875 109.859375 23.140625 \r\nQ 109.859375 30.671875 105.21875 35.984375 \r\nQ 100.59375 41.3125 94.140625 41.3125 \r\nL 95.609375 47.65625 \r\nQ 104.5 47.65625 110.6875 40.421875 \r\nQ 116.890625 33.203125 116.890625 22.953125 \r\nQ 116.890625 13.484375 110.890625 6.734375 \r\nQ 104.890625 0 96.390625 0 \r\nQ 90.234375 0 85.25 3.359375 \r\nQ 80.28125 6.734375 78.21875 12.203125 \r\nQ 75.59375 6.640625 70.90625 3.3125 \r\nQ 66.21875 0 60.84375 0 \r\nQ 55.859375 0 51.65625 2.390625 \r\nQ 47.46875 4.78125 45.015625 8.890625 \r\nL 44.234375 8.890625 \r\nQ 41.21875 4.6875 36.46875 2.34375 \r\nQ 31.734375 0 26.375 0 \r\nQ 16.796875 0 10.0625 6.734375 \r\nQ 3.328125 13.484375 3.328125 22.953125 \r\nQ 3.328125 33.015625 10.0625 40.140625 \r\nQ 16.796875 47.265625 26.375 47.265625 \r\nQ 35.84375 47.265625 42.625 40.140625 \r\nQ 49.421875 33.015625 49.421875 22.953125 \r\nQ 49.421875 20.3125 49.078125 18.109375 \r\nQ 48.734375 15.921875 48.25 14.359375 \r\nQ 50.296875 10.75 53.703125 8.59375 \r\nQ 57.125 6.453125 60.84375 6.453125 \r\nQ 66.21875 6.453125 69.921875 11.53125 \r\nQ 73.640625 16.609375 73.640625 23.734375 \r\nz\r\n\" id=\"Lohit-Telugu-3119\"/>\r\n       </defs>\r\n       <use xlink:href=\"#Lohit-Telugu-3119\"/>\r\n      </g>\r\n     </g>\r\n    </g>\r\n    <g id=\"ytick_15\">\r\n     <g id=\"line2d_38\">\r\n      <g>\r\n       <use style=\"stroke:#000000;stroke-width:0.8;\" x=\"626.696654\" xlink:href=\"#m48029d163c\" y=\"84.130147\"/>\r\n      </g>\r\n     </g>\r\n     <g id=\"text_38\">\r\n      <!-- ి -->\r\n      <g transform=\"translate(619.696654 90.124991)scale(0.18 -0.18)\">\r\n       <use xlink:href=\"#Lohit-Telugu-3135\"/>\r\n      </g>\r\n     </g>\r\n    </g>\r\n    <g id=\"ytick_16\">\r\n     <g id=\"line2d_39\">\r\n      <g>\r\n       <use style=\"stroke:#000000;stroke-width:0.8;\" x=\"626.696654\" xlink:href=\"#m48029d163c\" y=\"114.902206\"/>\r\n      </g>\r\n     </g>\r\n     <g id=\"text_39\">\r\n      <!-- స -->\r\n      <g transform=\"translate(609.324154 120.932206)scale(0.18 -0.18)\">\r\n       <use xlink:href=\"#Lohit-Telugu-3128\"/>\r\n      </g>\r\n     </g>\r\n    </g>\r\n    <g id=\"ytick_17\">\r\n     <g id=\"line2d_40\">\r\n      <g>\r\n       <use style=\"stroke:#000000;stroke-width:0.8;\" x=\"626.696654\" xlink:href=\"#m48029d163c\" y=\"145.674265\"/>\r\n      </g>\r\n     </g>\r\n     <g id=\"text_40\">\r\n      <!-- ్ -->\r\n      <g transform=\"translate(619.696654 151.669108)scale(0.18 -0.18)\">\r\n       <defs>\r\n        <path d=\"M 22.953125 43.453125 \r\nL 12.703125 43.453125 \r\nQ 8.40625 44.234375 5.515625 47.109375 \r\nQ 2.640625 50 2.640625 53.71875 \r\nQ 2.640625 55.953125 3.703125 57.90625 \r\nQ 4.78125 59.859375 6.640625 60.9375 \r\nL 6.640625 61.328125 \r\nQ 4.78125 62.703125 3.703125 64.703125 \r\nQ 2.640625 66.703125 2.640625 68.953125 \r\nQ 2.640625 73.640625 6.046875 77.046875 \r\nQ 9.46875 80.46875 14.265625 80.46875 \r\nL 43.0625 80.46875 \r\nL 43.0625 74.125 \r\nL 14.359375 74.125 \r\nQ 12.203125 74.125 10.640625 72.609375 \r\nQ 9.078125 71.09375 9.078125 68.953125 \r\nQ 9.078125 66.796875 10.203125 65.328125 \r\nQ 11.328125 63.875 12.890625 63.875 \r\nL 26.765625 63.875 \r\nL 26.765625 57.515625 \r\nL 13.09375 57.515625 \r\nQ 11.421875 57.515625 10.25 56.390625 \r\nQ 9.078125 55.28125 9.078125 53.71875 \r\nQ 9.078125 52.046875 10.203125 50.921875 \r\nQ 11.328125 49.8125 12.890625 49.8125 \r\nL 22.953125 49.8125 \r\nL 22.953125 43.453125 \r\nz\r\n\" id=\"Lohit-Telugu-3149\"/>\r\n       </defs>\r\n       <use xlink:href=\"#Lohit-Telugu-3149\"/>\r\n      </g>\r\n     </g>\r\n    </g>\r\n    <g id=\"ytick_18\">\r\n     <g id=\"line2d_41\">\r\n      <g>\r\n       <use style=\"stroke:#000000;stroke-width:0.8;\" x=\"626.696654\" xlink:href=\"#m48029d163c\" y=\"176.446324\"/>\r\n      </g>\r\n     </g>\r\n     <g id=\"text_41\">\r\n      <!-- త -->\r\n      <g transform=\"translate(608.199154 182.441167)scale(0.18 -0.18)\">\r\n       <defs>\r\n        <path d=\"M 9.578125 29.390625 \r\nQ 9.578125 26.765625 11.46875 24.859375 \r\nQ 13.375 22.953125 16.109375 22.953125 \r\nQ 18.75 22.953125 20.609375 24.859375 \r\nQ 22.46875 26.765625 22.46875 29.390625 \r\nQ 22.46875 32.03125 20.609375 33.890625 \r\nQ 18.75 35.75 16.109375 35.75 \r\nQ 13.375 35.75 11.46875 33.890625 \r\nQ 9.578125 32.03125 9.578125 29.390625 \r\nz\r\nM 41.609375 29.390625 \r\nQ 41.609375 26.765625 43.453125 24.859375 \r\nQ 45.3125 22.953125 47.953125 22.953125 \r\nQ 50.59375 22.953125 52.4375 24.859375 \r\nQ 54.296875 26.765625 54.296875 29.390625 \r\nQ 54.296875 32.03125 52.4375 33.890625 \r\nQ 50.59375 35.75 47.953125 35.75 \r\nQ 45.3125 35.75 43.453125 33.890625 \r\nQ 41.609375 32.03125 41.609375 29.390625 \r\nz\r\nM 17.484375 56.84375 \r\nL 22.5625 56.84375 \r\nQ 22.5625 52.9375 25.25 50.203125 \r\nQ 27.9375 47.46875 31.734375 47.46875 \r\nQ 33.015625 47.46875 34.671875 48.34375 \r\nQ 36.328125 49.21875 37.984375 50.875 \r\nL 54.109375 66.21875 \r\nL 57.328125 62.984375 \r\nL 41.015625 46.6875 \r\nQ 49.703125 44.53125 55.21875 38.96875 \r\nQ 60.75 33.40625 60.75 26.765625 \r\nQ 60.75 14.65625 52.734375 7.328125 \r\nQ 44.734375 0 31.34375 0 \r\nQ 18.5625 0 10.890625 6.9375 \r\nQ 3.21875 13.875 3.21875 25.484375 \r\nQ 3.21875 31.84375 6.984375 36.375 \r\nQ 10.75 40.921875 16.109375 40.921875 \r\nQ 20.796875 40.921875 24.171875 37.546875 \r\nQ 27.546875 34.1875 27.546875 29.390625 \r\nQ 27.546875 24.609375 24.171875 21.234375 \r\nQ 20.796875 17.875 16.109375 17.875 \r\nQ 14.453125 17.875 13.1875 18.21875 \r\nQ 11.921875 18.5625 11.140625 19.234375 \r\nL 10.453125 19.140625 \r\nQ 10.453125 13.375 16.15625 9.90625 \r\nQ 21.875 6.453125 31.34375 6.453125 \r\nQ 41.21875 6.453125 47.078125 9.90625 \r\nQ 52.9375 13.375 52.9375 19.140625 \r\nL 52.4375 19.234375 \r\nQ 51.859375 18.5625 50.6875 18.21875 \r\nQ 49.515625 17.875 47.953125 17.875 \r\nQ 43.171875 17.875 39.796875 21.234375 \r\nQ 36.421875 24.609375 36.421875 29.390625 \r\nQ 36.421875 33.203125 39.15625 36.03125 \r\nQ 41.890625 38.875 45.90625 39.265625 \r\nL 45.90625 39.65625 \r\nQ 43.359375 41.109375 39.796875 41.796875 \r\nQ 36.234375 42.484375 32.03125 42.484375 \r\nQ 25.984375 42.484375 21.734375 46.734375 \r\nQ 17.484375 50.984375 17.484375 56.84375 \r\nz\r\n\" id=\"Lohit-Telugu-3108\"/>\r\n       </defs>\r\n       <use xlink:href=\"#Lohit-Telugu-3108\"/>\r\n      </g>\r\n     </g>\r\n    </g>\r\n    <g id=\"ytick_19\">\r\n     <g id=\"line2d_42\">\r\n      <g>\r\n       <use style=\"stroke:#000000;stroke-width:0.8;\" x=\"626.696654\" xlink:href=\"#m48029d163c\" y=\"207.218382\"/>\r\n      </g>\r\n     </g>\r\n     <g id=\"text_42\">\r\n      <!-- ూ -->\r\n      <g transform=\"translate(606.970092 213.213226)scale(0.18 -0.18)\">\r\n       <use xlink:href=\"#Lohit-Telugu-3138\"/>\r\n      </g>\r\n     </g>\r\n    </g>\r\n   </g>\r\n   <g id=\"patch_13\">\r\n    <path d=\"M 626.696654 222.604412 \r\nL 626.696654 7.2 \r\n\" style=\"fill:none;stroke:#000000;stroke-linecap:square;stroke-linejoin:miter;stroke-width:0.8;\"/>\r\n   </g>\r\n   <g id=\"patch_14\">\r\n    <path d=\"M 872.873125 222.604412 \r\nL 872.873125 7.2 \r\n\" style=\"fill:none;stroke:#000000;stroke-linecap:square;stroke-linejoin:miter;stroke-width:0.8;\"/>\r\n   </g>\r\n   <g id=\"patch_15\">\r\n    <path d=\"M 626.696654 222.604412 \r\nL 872.873125 222.604412 \r\n\" style=\"fill:none;stroke:#000000;stroke-linecap:square;stroke-linejoin:miter;stroke-width:0.8;\"/>\r\n   </g>\r\n   <g id=\"patch_16\">\r\n    <path d=\"M 626.696654 7.2 \r\nL 872.873125 7.2 \r\n\" style=\"fill:none;stroke:#000000;stroke-linecap:square;stroke-linejoin:miter;stroke-width:0.8;\"/>\r\n   </g>\r\n  </g>\r\n  <g id=\"axes_4\">\r\n   <g id=\"patch_17\">\r\n    <path d=\"M 35.873125 495.006618 \r\nL 282.049596 495.006618 \r\nL 282.049596 310.374265 \r\nL 35.873125 310.374265 \r\nz\r\n\" style=\"fill:#ffffff;\"/>\r\n   </g>\r\n   <g clip-path=\"url(#pcdd84eeb77)\">\r\n    <image height=\"185\" id=\"imagec161f12e37\" transform=\"scale(1 -1)translate(0 -185)\" width=\"247\" x=\"35.873125\" xlink:href=\"data:image/png;base64,\r\niVBORw0KGgoAAAANSUhEUgAAAPcAAAC5CAYAAAD03qlPAAAC0klEQVR4nO3dsW0qURRF0TcfyzJIBI4cuR3X6gYogUaogBAJZH4V1pW212rgTDBbN3zbWuu54Jft9/ux7ePxOLb9/f09tv1vbBn4VeKGKHFDlLghStwQJW6IEjdEiRuixA1R4oYocUOUuCFK3BAlbogSN0SJG6LEDVHihihxQ5S4IUrcECVuiBI3RIkbosQNUeKGKHFDlLghStwQJW6I2pYnfP+M3W43tv14PMa239/fx7av1+vYtssNUeKGKHFDlLghStwQJW6IEjdEiRuixA1R4oYocUOUuCFK3BAlbogSN0SJG6LEDVHihihxQ5S4IUrcECVuiBI3RIkbosQNUeKGKHFDlLghStwQJW6Iepn+gCnbto1tH4/Hkd3z+Tyyu9Zan5+fY9v3+31se5LLDVHihihxQ5S4IUrcECVuiBI3RIkbosQNUeKGKHFDlLghStwQJW6IEjdEiRuixA1R4oYocUOUuCFK3BAlbogSN0SJG6LEDVHihihxQ5S4IUrcECVuiNrWWs/pj5hwOBzGti+Xy8jux8fHyO5aaz2fc7/ZX912uSFK3BAlbogSN0SJG6LEDVHihihxQ5S4IUrcECVuiBI3RIkbosQNUeKGKHFDlLghStwQJW6IEjdEiRuixA1R4oYocUOUuCFK3BAlbogSN0SJG6JeXl9fx8Z3u93Y9ul0Gtv++voa2f35+RnZXWv2tcu/yuWGKHFDlLghStwQJW6IEjdEiRuixA1R4oYocUOUuCFK3BAlbogSN0SJG6LEDVHihihxQ5S4IUrcECVuiBI3RIkbosQNUeKGKHFDlLghStwQJW6IEjdEbW9vb2Nvq95ut6lpyHO5IUrcECVuiBI3RIkbosQNUeKGKHFDlLghStwQJW6IEjdEiRuixA1R4oYocUOUuCFK3BAlbogSN0SJG6LEDVHihihxQ5S4IUrcECVuiBI3RIkbosQNUf8Bi+MrbaPu5kAAAAAASUVORK5CYII=\" y=\"-310.006618\"/>\r\n   </g>\r\n   <g id=\"matplotlib.axis_7\">\r\n    <g id=\"xtick_24\">\r\n     <g id=\"line2d_43\">\r\n      <g>\r\n       <use style=\"stroke:#000000;stroke-width:0.8;\" x=\"51.259154\" xlink:href=\"#mfcb646803b\" y=\"495.006618\"/>\r\n      </g>\r\n     </g>\r\n     <g id=\"text_43\">\r\n      <!-- r -->\r\n      <g transform=\"translate(49.203686 509.605055)scale(0.1 -0.1)\">\r\n       <use xlink:href=\"#DejaVuSans-114\"/>\r\n      </g>\r\n     </g>\r\n    </g>\r\n    <g id=\"xtick_25\">\r\n     <g id=\"line2d_44\">\r\n      <g>\r\n       <use style=\"stroke:#000000;stroke-width:0.8;\" x=\"82.031213\" xlink:href=\"#mfcb646803b\" y=\"495.006618\"/>\r\n      </g>\r\n     </g>\r\n     <g id=\"text_44\">\r\n      <!-- a -->\r\n      <g transform=\"translate(78.967151 509.605055)scale(0.1 -0.1)\">\r\n       <use xlink:href=\"#DejaVuSans-97\"/>\r\n      </g>\r\n     </g>\r\n    </g>\r\n    <g id=\"xtick_26\">\r\n     <g id=\"line2d_45\">\r\n      <g>\r\n       <use style=\"stroke:#000000;stroke-width:0.8;\" x=\"112.803272\" xlink:href=\"#mfcb646803b\" y=\"495.006618\"/>\r\n      </g>\r\n     </g>\r\n     <g id=\"text_45\">\r\n      <!-- a -->\r\n      <g transform=\"translate(109.73921 509.605055)scale(0.1 -0.1)\">\r\n       <use xlink:href=\"#DejaVuSans-97\"/>\r\n      </g>\r\n     </g>\r\n    </g>\r\n    <g id=\"xtick_27\">\r\n     <g id=\"line2d_46\">\r\n      <g>\r\n       <use style=\"stroke:#000000;stroke-width:0.8;\" x=\"143.575331\" xlink:href=\"#mfcb646803b\" y=\"495.006618\"/>\r\n      </g>\r\n     </g>\r\n     <g id=\"text_46\">\r\n      <!-- y -->\r\n      <g transform=\"translate(140.615956 509.605055)scale(0.1 -0.1)\">\r\n       <use xlink:href=\"#DejaVuSans-121\"/>\r\n      </g>\r\n     </g>\r\n    </g>\r\n    <g id=\"xtick_28\">\r\n     <g id=\"line2d_47\">\r\n      <g>\r\n       <use style=\"stroke:#000000;stroke-width:0.8;\" x=\"174.34739\" xlink:href=\"#mfcb646803b\" y=\"495.006618\"/>\r\n      </g>\r\n     </g>\r\n     <g id=\"text_47\">\r\n      <!-- i -->\r\n      <g transform=\"translate(172.958327 509.605055)scale(0.1 -0.1)\">\r\n       <use xlink:href=\"#DejaVuSans-105\"/>\r\n      </g>\r\n     </g>\r\n    </g>\r\n    <g id=\"xtick_29\">\r\n     <g id=\"line2d_48\">\r\n      <g>\r\n       <use style=\"stroke:#000000;stroke-width:0.8;\" x=\"205.119449\" xlink:href=\"#mfcb646803b\" y=\"495.006618\"/>\r\n      </g>\r\n     </g>\r\n     <g id=\"text_48\">\r\n      <!-- t -->\r\n      <g transform=\"translate(203.159292 509.605055)scale(0.1 -0.1)\">\r\n       <use xlink:href=\"#DejaVuSans-116\"/>\r\n      </g>\r\n     </g>\r\n    </g>\r\n    <g id=\"xtick_30\">\r\n     <g id=\"line2d_49\">\r\n      <g>\r\n       <use style=\"stroke:#000000;stroke-width:0.8;\" x=\"235.891507\" xlink:href=\"#mfcb646803b\" y=\"495.006618\"/>\r\n      </g>\r\n     </g>\r\n     <g id=\"text_49\">\r\n      <!-- h -->\r\n      <g transform=\"translate(232.722757 509.605055)scale(0.1 -0.1)\">\r\n       <defs>\r\n        <path d=\"M 54.890625 33.015625 \r\nL 54.890625 0 \r\nL 45.90625 0 \r\nL 45.90625 32.71875 \r\nQ 45.90625 40.484375 42.875 44.328125 \r\nQ 39.84375 48.1875 33.796875 48.1875 \r\nQ 26.515625 48.1875 22.3125 43.546875 \r\nQ 18.109375 38.921875 18.109375 30.90625 \r\nL 18.109375 0 \r\nL 9.078125 0 \r\nL 9.078125 75.984375 \r\nL 18.109375 75.984375 \r\nL 18.109375 46.1875 \r\nQ 21.34375 51.125 25.703125 53.5625 \r\nQ 30.078125 56 35.796875 56 \r\nQ 45.21875 56 50.046875 50.171875 \r\nQ 54.890625 44.34375 54.890625 33.015625 \r\nz\r\n\" id=\"DejaVuSans-104\"/>\r\n       </defs>\r\n       <use xlink:href=\"#DejaVuSans-104\"/>\r\n      </g>\r\n     </g>\r\n    </g>\r\n    <g id=\"xtick_31\">\r\n     <g id=\"line2d_50\">\r\n      <g>\r\n       <use style=\"stroke:#000000;stroke-width:0.8;\" x=\"266.663566\" xlink:href=\"#mfcb646803b\" y=\"495.006618\"/>\r\n      </g>\r\n     </g>\r\n     <g id=\"text_50\">\r\n      <!-- o -->\r\n      <g transform=\"translate(263.604191 509.605055)scale(0.1 -0.1)\">\r\n       <defs>\r\n        <path d=\"M 30.609375 48.390625 \r\nQ 23.390625 48.390625 19.1875 42.75 \r\nQ 14.984375 37.109375 14.984375 27.296875 \r\nQ 14.984375 17.484375 19.15625 11.84375 \r\nQ 23.34375 6.203125 30.609375 6.203125 \r\nQ 37.796875 6.203125 41.984375 11.859375 \r\nQ 46.1875 17.53125 46.1875 27.296875 \r\nQ 46.1875 37.015625 41.984375 42.703125 \r\nQ 37.796875 48.390625 30.609375 48.390625 \r\nz\r\nM 30.609375 56 \r\nQ 42.328125 56 49.015625 48.375 \r\nQ 55.71875 40.765625 55.71875 27.296875 \r\nQ 55.71875 13.875 49.015625 6.21875 \r\nQ 42.328125 -1.421875 30.609375 -1.421875 \r\nQ 18.84375 -1.421875 12.171875 6.21875 \r\nQ 5.515625 13.875 5.515625 27.296875 \r\nQ 5.515625 40.765625 12.171875 48.375 \r\nQ 18.84375 56 30.609375 56 \r\nz\r\n\" id=\"DejaVuSans-111\"/>\r\n       </defs>\r\n       <use xlink:href=\"#DejaVuSans-111\"/>\r\n      </g>\r\n     </g>\r\n    </g>\r\n   </g>\r\n   <g id=\"matplotlib.axis_8\">\r\n    <g id=\"ytick_20\">\r\n     <g id=\"line2d_51\">\r\n      <g>\r\n       <use style=\"stroke:#000000;stroke-width:0.8;\" x=\"35.873125\" xlink:href=\"#m48029d163c\" y=\"325.760294\"/>\r\n      </g>\r\n     </g>\r\n     <g id=\"text_51\">\r\n      <!-- ర -->\r\n      <g transform=\"translate(19.380938 331.772013)scale(0.18 -0.18)\">\r\n       <use xlink:href=\"#Lohit-Telugu-3120\"/>\r\n      </g>\r\n     </g>\r\n    </g>\r\n    <g id=\"ytick_21\">\r\n     <g id=\"line2d_52\">\r\n      <g>\r\n       <use style=\"stroke:#000000;stroke-width:0.8;\" x=\"35.873125\" xlink:href=\"#m48029d163c\" y=\"356.532353\"/>\r\n      </g>\r\n     </g>\r\n     <g id=\"text_52\">\r\n      <!-- ా -->\r\n      <g transform=\"translate(18.309375 362.527197)scale(0.18 -0.18)\">\r\n       <use xlink:href=\"#Lohit-Telugu-3134\"/>\r\n      </g>\r\n     </g>\r\n    </g>\r\n    <g id=\"ytick_22\">\r\n     <g id=\"line2d_53\">\r\n      <g>\r\n       <use style=\"stroke:#000000;stroke-width:0.8;\" x=\"35.873125\" xlink:href=\"#m48029d163c\" y=\"387.304412\"/>\r\n      </g>\r\n     </g>\r\n     <g id=\"text_53\">\r\n      <!-- య -->\r\n      <g transform=\"translate(7.2 393.316131)scale(0.18 -0.18)\">\r\n       <use xlink:href=\"#Lohit-Telugu-3119\"/>\r\n      </g>\r\n     </g>\r\n    </g>\r\n    <g id=\"ytick_23\">\r\n     <g id=\"line2d_54\">\r\n      <g>\r\n       <use style=\"stroke:#000000;stroke-width:0.8;\" x=\"35.873125\" xlink:href=\"#m48029d163c\" y=\"418.076471\"/>\r\n      </g>\r\n     </g>\r\n     <g id=\"text_54\">\r\n      <!-- ి -->\r\n      <g transform=\"translate(28.873125 424.071314)scale(0.18 -0.18)\">\r\n       <use xlink:href=\"#Lohit-Telugu-3135\"/>\r\n      </g>\r\n     </g>\r\n    </g>\r\n    <g id=\"ytick_24\">\r\n     <g id=\"line2d_55\">\r\n      <g>\r\n       <use style=\"stroke:#000000;stroke-width:0.8;\" x=\"35.873125\" xlink:href=\"#m48029d163c\" y=\"448.848529\"/>\r\n      </g>\r\n     </g>\r\n     <g id=\"text_55\">\r\n      <!-- త -->\r\n      <g transform=\"translate(17.375625 454.843373)scale(0.18 -0.18)\">\r\n       <use xlink:href=\"#Lohit-Telugu-3108\"/>\r\n      </g>\r\n     </g>\r\n    </g>\r\n    <g id=\"ytick_25\">\r\n     <g id=\"line2d_56\">\r\n      <g>\r\n       <use style=\"stroke:#000000;stroke-width:0.8;\" x=\"35.873125\" xlink:href=\"#m48029d163c\" y=\"479.620588\"/>\r\n      </g>\r\n     </g>\r\n     <g id=\"text_56\">\r\n      <!-- ో -->\r\n      <g transform=\"translate(18.73125 485.615432)scale(0.18 -0.18)\">\r\n       <defs>\r\n        <path d=\"M 33.40625 54.890625 \r\nQ 33.40625 56.84375 33.9375 58.5 \r\nQ 34.46875 60.15625 35.453125 61.328125 \r\nL 35.15625 61.71875 \r\nL 31.34375 61.328125 \r\nL 26.953125 61.328125 \r\nQ 22.859375 61.328125 19.875 59.421875 \r\nQ 16.890625 57.515625 16.890625 54.890625 \r\nL 10.84375 54.890625 \r\nQ 10.84375 57.515625 7.46875 59.421875 \r\nQ 4.109375 61.328125 -0.6875 61.328125 \r\nQ -5.859375 61.328125 -9.46875 59.28125 \r\nQ -13.09375 57.234375 -13.09375 54.203125 \r\nQ -13.09375 51.5625 -10.796875 49.703125 \r\nQ -8.5 47.859375 -5.28125 47.859375 \r\nL 1.375 47.859375 \r\nL 1.375 42.484375 \r\nL -5.28125 42.484375 \r\nQ -11.140625 42.484375 -15.328125 45.953125 \r\nQ -19.53125 49.421875 -19.53125 54.203125 \r\nQ -19.53125 59.859375 -14.015625 63.8125 \r\nQ -8.5 67.78125 -0.78125 67.78125 \r\nQ 4.296875 67.78125 8.15625 66.546875 \r\nQ 12.015625 65.328125 13.875 63.09375 \r\nQ 15.828125 65.328125 17.96875 66.546875 \r\nQ 20.125 67.78125 22.171875 67.78125 \r\nL 33.796875 67.78125 \r\nL 37.015625 67.390625 \r\nL 37.3125 67.78125 \r\nQ 36.140625 68.75 35.453125 70.40625 \r\nQ 34.765625 72.078125 34.765625 74.125 \r\nQ 34.765625 77.828125 37.9375 80.421875 \r\nQ 41.109375 83.015625 45.515625 83.015625 \r\nQ 50 83.015625 53.03125 79.546875 \r\nQ 56.0625 76.078125 55.671875 71.484375 \r\nL 50.484375 71.484375 \r\nQ 50.6875 74.03125 49.21875 75.984375 \r\nQ 47.75 77.9375 45.515625 77.9375 \r\nQ 43.453125 77.9375 41.9375 76.609375 \r\nQ 40.4375 75.296875 40.4375 73.4375 \r\nQ 40.4375 71.296875 41.796875 69.625 \r\nQ 43.171875 67.96875 45.125 67.578125 \r\nQ 50 66.703125 53.21875 63.140625 \r\nQ 56.453125 59.578125 56.453125 54.890625 \r\nQ 56.453125 50.203125 53.03125 46.828125 \r\nQ 49.609375 43.453125 44.828125 43.453125 \r\nQ 40.140625 43.453125 36.765625 46.828125 \r\nQ 33.40625 50.203125 33.40625 54.890625 \r\nz\r\nM 38.484375 54.890625 \r\nQ 38.484375 52.15625 40.328125 50.296875 \r\nQ 42.1875 48.4375 44.828125 48.4375 \r\nQ 47.5625 48.4375 49.46875 50.296875 \r\nQ 51.375 52.15625 51.375 54.890625 \r\nQ 51.375 57.515625 49.46875 59.421875 \r\nQ 47.5625 61.328125 44.828125 61.328125 \r\nQ 42.1875 61.328125 40.328125 59.421875 \r\nQ 38.484375 57.515625 38.484375 54.890625 \r\nz\r\n\" id=\"Lohit-Telugu-3147\"/>\r\n       </defs>\r\n       <use xlink:href=\"#Lohit-Telugu-3147\"/>\r\n      </g>\r\n     </g>\r\n    </g>\r\n   </g>\r\n   <g id=\"patch_18\">\r\n    <path d=\"M 35.873125 495.006618 \r\nL 35.873125 310.374265 \r\n\" style=\"fill:none;stroke:#000000;stroke-linecap:square;stroke-linejoin:miter;stroke-width:0.8;\"/>\r\n   </g>\r\n   <g id=\"patch_19\">\r\n    <path d=\"M 282.049596 495.006618 \r\nL 282.049596 310.374265 \r\n\" style=\"fill:none;stroke:#000000;stroke-linecap:square;stroke-linejoin:miter;stroke-width:0.8;\"/>\r\n   </g>\r\n   <g id=\"patch_20\">\r\n    <path d=\"M 35.873125 495.006618 \r\nL 282.049596 495.006618 \r\n\" style=\"fill:none;stroke:#000000;stroke-linecap:square;stroke-linejoin:miter;stroke-width:0.8;\"/>\r\n   </g>\r\n   <g id=\"patch_21\">\r\n    <path d=\"M 35.873125 310.374265 \r\nL 282.049596 310.374265 \r\n\" style=\"fill:none;stroke:#000000;stroke-linecap:square;stroke-linejoin:miter;stroke-width:0.8;\"/>\r\n   </g>\r\n  </g>\r\n  <g id=\"axes_5\">\r\n   <g id=\"patch_22\">\r\n    <path d=\"M 331.28489 501.161029 \r\nL 577.46136 501.161029 \r\nL 577.46136 304.219853 \r\nL 331.28489 304.219853 \r\nz\r\n\" style=\"fill:#ffffff;\"/>\r\n   </g>\r\n   <g clip-path=\"url(#pe4fbb61c5f)\">\r\n    <image height=\"197\" id=\"imagebf7b98d5de\" transform=\"scale(1 -1)translate(0 -197)\" width=\"247\" x=\"331.28489\" xlink:href=\"data:image/png;base64,\r\niVBORw0KGgoAAAANSUhEUgAAAPcAAADFCAYAAACIPmT1AAACs0lEQVR4nO3VsY0CMQBFQbOcRIhESivb/vZCF3vJZYTmZPQ0U8G35Gdfxhjn4Ctcr9fVE6bt+756wrTCGcYYY1s9APgf4oYocUOUuCFK3BAlbogSN0SJG6LEDVHihihxQ5S4IUrcECVuiBI3RIkbosQNUeKGKHFDlLghStwQJW6IEjdEiRuixA1R4oYocUOUuCFK3BAlbogSN0SJG6LEDVHihihxQ5S4IUrcECVuiBI3RIkbosQNUeKGKHFDlLghStwQJW6IEjdEiRuiLmOMc/WIWdvWeKNut9vqCdNer9fqCdPu9/vqCR/RqAJ4I26IEjdEiRuixA1R4oYocUOUuCFK3BAlbogSN0SJG6LEDVHihihxQ5S4IUrcECVuiBI3RIkbosQNUeKGKHFDlLghStwQJW6IEjdEiRuixA1R4oYocUOUuCFK3BAlbogSN0SJG6LEDVHihihxQ5S4IUrcECVuiBI3RIkbosQNUeKGKHFDlLghStwQ9bN6wCc8n8/VEz7iOI7VE6Y9Ho/VE/jj54YocUOUuCFK3BAlbogSN0SJG6LEDVHihihxQ5S4IUrcECVuiBI3RIkbosQNUeKGKHFDlLghStwQJW6IEjdEiRuixA1R4oYocUOUuCFK3BAlbogSN0SJG6LEDVHihihxQ5S4IUrcECVuiBI3RIkbosQNUeKGKHFDlLghStwQJW6IEjdEiRuixA1Rl/M8z9UjZm2bN+pbBK5ThiogStwQJW6IEjdEiRuixA1R4oYocUOUuCFK3BAlbogSN0SJG6LEDVHihihxQ5S4IUrcECVuiBI3RIkbosQNUeKGKHFDlLghStwQJW6IEjdEiRuixA1R4oYocUOUuCFK3BAlbogSN0SJG6LEDVHihihxQ5S4IUrcECVuiBI3RIkbosQNUeKGKHFD1C8JLBHO0f28RAAAAABJRU5ErkJggg==\" y=\"-304.161029\"/>\r\n   </g>\r\n   <g id=\"matplotlib.axis_9\">\r\n    <g id=\"xtick_32\">\r\n     <g id=\"line2d_57\">\r\n      <g>\r\n       <use style=\"stroke:#000000;stroke-width:0.8;\" x=\"355.902537\" xlink:href=\"#mfcb646803b\" y=\"501.161029\"/>\r\n      </g>\r\n     </g>\r\n     <g id=\"text_57\">\r\n      <!-- n -->\r\n      <g transform=\"translate(352.733787 515.759467)scale(0.1 -0.1)\">\r\n       <defs>\r\n        <path d=\"M 54.890625 33.015625 \r\nL 54.890625 0 \r\nL 45.90625 0 \r\nL 45.90625 32.71875 \r\nQ 45.90625 40.484375 42.875 44.328125 \r\nQ 39.84375 48.1875 33.796875 48.1875 \r\nQ 26.515625 48.1875 22.3125 43.546875 \r\nQ 18.109375 38.921875 18.109375 30.90625 \r\nL 18.109375 0 \r\nL 9.078125 0 \r\nL 9.078125 54.6875 \r\nL 18.109375 54.6875 \r\nL 18.109375 46.1875 \r\nQ 21.34375 51.125 25.703125 53.5625 \r\nQ 30.078125 56 35.796875 56 \r\nQ 45.21875 56 50.046875 50.171875 \r\nQ 54.890625 44.34375 54.890625 33.015625 \r\nz\r\n\" id=\"DejaVuSans-110\"/>\r\n       </defs>\r\n       <use xlink:href=\"#DejaVuSans-110\"/>\r\n      </g>\r\n     </g>\r\n    </g>\r\n    <g id=\"xtick_33\">\r\n     <g id=\"line2d_58\">\r\n      <g>\r\n       <use style=\"stroke:#000000;stroke-width:0.8;\" x=\"405.137831\" xlink:href=\"#mfcb646803b\" y=\"501.161029\"/>\r\n      </g>\r\n     </g>\r\n     <g id=\"text_58\">\r\n      <!-- o -->\r\n      <g transform=\"translate(402.078456 515.759467)scale(0.1 -0.1)\">\r\n       <use xlink:href=\"#DejaVuSans-111\"/>\r\n      </g>\r\n     </g>\r\n    </g>\r\n    <g id=\"xtick_34\">\r\n     <g id=\"line2d_59\">\r\n      <g>\r\n       <use style=\"stroke:#000000;stroke-width:0.8;\" x=\"454.373125\" xlink:href=\"#mfcb646803b\" y=\"501.161029\"/>\r\n      </g>\r\n     </g>\r\n     <g id=\"text_59\">\r\n      <!-- o -->\r\n      <g transform=\"translate(451.31375 515.759467)scale(0.1 -0.1)\">\r\n       <use xlink:href=\"#DejaVuSans-111\"/>\r\n      </g>\r\n     </g>\r\n    </g>\r\n    <g id=\"xtick_35\">\r\n     <g id=\"line2d_60\">\r\n      <g>\r\n       <use style=\"stroke:#000000;stroke-width:0.8;\" x=\"503.608419\" xlink:href=\"#mfcb646803b\" y=\"501.161029\"/>\r\n      </g>\r\n     </g>\r\n     <g id=\"text_60\">\r\n      <!-- m -->\r\n      <g transform=\"translate(498.738107 515.759467)scale(0.1 -0.1)\">\r\n       <use xlink:href=\"#DejaVuSans-109\"/>\r\n      </g>\r\n     </g>\r\n    </g>\r\n    <g id=\"xtick_36\">\r\n     <g id=\"line2d_61\">\r\n      <g>\r\n       <use style=\"stroke:#000000;stroke-width:0.8;\" x=\"552.843713\" xlink:href=\"#mfcb646803b\" y=\"501.161029\"/>\r\n      </g>\r\n     </g>\r\n     <g id=\"text_61\">\r\n      <!-- u -->\r\n      <g transform=\"translate(549.674963 515.759467)scale(0.1 -0.1)\">\r\n       <use xlink:href=\"#DejaVuSans-117\"/>\r\n      </g>\r\n     </g>\r\n    </g>\r\n   </g>\r\n   <g id=\"matplotlib.axis_10\">\r\n    <g id=\"ytick_26\">\r\n     <g id=\"line2d_62\">\r\n      <g>\r\n       <use style=\"stroke:#000000;stroke-width:0.8;\" x=\"331.28489\" xlink:href=\"#m48029d163c\" y=\"328.8375\"/>\r\n      </g>\r\n     </g>\r\n     <g id=\"text_62\">\r\n      <!-- న -->\r\n      <g transform=\"translate(313.63114 334.814062)scale(0.18 -0.18)\">\r\n       <defs>\r\n        <path d=\"M 38.484375 6.453125 \r\nQ 43.0625 6.453125 46.234375 11.46875 \r\nQ 49.421875 16.5 49.421875 23.640625 \r\nQ 49.421875 31.453125 43.265625 36.96875 \r\nQ 37.109375 42.484375 28.421875 42.484375 \r\nL 19.734375 42.484375 \r\nQ 13.875 42.484375 9.765625 46.734375 \r\nQ 5.671875 50.984375 5.671875 56.84375 \r\nL 10.75 56.84375 \r\nQ 10.75 52.9375 13.484375 50.203125 \r\nQ 16.21875 47.46875 19.921875 47.46875 \r\nQ 21.296875 47.46875 22.90625 48.34375 \r\nQ 24.515625 49.21875 26.171875 50.875 \r\nL 42.28125 66.21875 \r\nL 45.515625 62.984375 \r\nL 30.171875 47.859375 \r\nQ 40.921875 47.265625 48.34375 40.28125 \r\nQ 55.765625 33.296875 55.765625 23.640625 \r\nQ 55.765625 13.875 50.734375 6.9375 \r\nQ 45.703125 0 38.484375 0 \r\nQ 33.015625 0 28.90625 3.359375 \r\nQ 24.8125 6.734375 23.921875 11.8125 \r\nQ 23.25 15.53125 20.90625 18.015625 \r\nQ 18.5625 20.515625 15.53125 20.515625 \r\nQ 12.890625 20.515625 10.984375 17.828125 \r\nQ 9.078125 15.140625 9.078125 11.421875 \r\nQ 9.078125 9.96875 10.046875 7.5625 \r\nQ 11.03125 5.171875 12.890625 1.859375 \r\nL 7.234375 -0.203125 \r\nQ 4.984375 3.609375 3.8125 6.59375 \r\nQ 2.640625 9.578125 2.640625 11.421875 \r\nQ 2.640625 17.78125 6.4375 22.265625 \r\nQ 10.25 26.765625 15.53125 26.765625 \r\nQ 20.796875 26.765625 24.65625 23.4375 \r\nQ 28.515625 20.125 29 15.140625 \r\nQ 29.296875 11.421875 32.03125 8.9375 \r\nQ 34.765625 6.453125 38.484375 6.453125 \r\nz\r\n\" id=\"Lohit-Telugu-3112\"/>\r\n       </defs>\r\n       <use xlink:href=\"#Lohit-Telugu-3112\"/>\r\n      </g>\r\n     </g>\r\n    </g>\r\n    <g id=\"ytick_27\">\r\n     <g id=\"line2d_63\">\r\n      <g>\r\n       <use style=\"stroke:#000000;stroke-width:0.8;\" x=\"331.28489\" xlink:href=\"#m48029d163c\" y=\"378.072794\"/>\r\n      </g>\r\n     </g>\r\n     <g id=\"text_63\">\r\n      <!-- ూ -->\r\n      <g transform=\"translate(311.558327 384.067638)scale(0.18 -0.18)\">\r\n       <use xlink:href=\"#Lohit-Telugu-3138\"/>\r\n      </g>\r\n     </g>\r\n    </g>\r\n    <g id=\"ytick_28\">\r\n     <g id=\"line2d_64\">\r\n      <g>\r\n       <use style=\"stroke:#000000;stroke-width:0.8;\" x=\"331.28489\" xlink:href=\"#m48029d163c\" y=\"427.308088\"/>\r\n      </g>\r\n     </g>\r\n     <g id=\"text_64\">\r\n      <!-- మ -->\r\n      <g transform=\"translate(307.480202 433.302932)scale(0.18 -0.18)\">\r\n       <use xlink:href=\"#Lohit-Telugu-3118\"/>\r\n      </g>\r\n     </g>\r\n    </g>\r\n    <g id=\"ytick_29\">\r\n     <g id=\"line2d_65\">\r\n      <g>\r\n       <use style=\"stroke:#000000;stroke-width:0.8;\" x=\"331.28489\" xlink:href=\"#m48029d163c\" y=\"476.543382\"/>\r\n      </g>\r\n     </g>\r\n     <g id=\"text_65\">\r\n      <!-- ు -->\r\n      <g transform=\"translate(317.81614 482.538226)scale(0.18 -0.18)\">\r\n       <use xlink:href=\"#Lohit-Telugu-3137\"/>\r\n      </g>\r\n     </g>\r\n    </g>\r\n   </g>\r\n   <g id=\"patch_23\">\r\n    <path d=\"M 331.28489 501.161029 \r\nL 331.28489 304.219853 \r\n\" style=\"fill:none;stroke:#000000;stroke-linecap:square;stroke-linejoin:miter;stroke-width:0.8;\"/>\r\n   </g>\r\n   <g id=\"patch_24\">\r\n    <path d=\"M 577.46136 501.161029 \r\nL 577.46136 304.219853 \r\n\" style=\"fill:none;stroke:#000000;stroke-linecap:square;stroke-linejoin:miter;stroke-width:0.8;\"/>\r\n   </g>\r\n   <g id=\"patch_25\">\r\n    <path d=\"M 331.28489 501.161029 \r\nL 577.46136 501.161029 \r\n\" style=\"fill:none;stroke:#000000;stroke-linecap:square;stroke-linejoin:miter;stroke-width:0.8;\"/>\r\n   </g>\r\n   <g id=\"patch_26\">\r\n    <path d=\"M 331.28489 304.219853 \r\nL 577.46136 304.219853 \r\n\" style=\"fill:none;stroke:#000000;stroke-linecap:square;stroke-linejoin:miter;stroke-width:0.8;\"/>\r\n   </g>\r\n  </g>\r\n  <g id=\"axes_6\">\r\n   <g id=\"patch_27\">\r\n    <path d=\"M 626.696654 501.161029 \r\nL 872.873125 501.161029 \r\nL 872.873125 304.219853 \r\nL 626.696654 304.219853 \r\nz\r\n\" style=\"fill:#ffffff;\"/>\r\n   </g>\r\n   <g clip-path=\"url(#p40258a228d)\">\r\n    <image height=\"197\" id=\"imaged1c4e85453\" transform=\"scale(1 -1)translate(0 -197)\" width=\"247\" x=\"626.696654\" xlink:href=\"data:image/png;base64,\r\niVBORw0KGgoAAAANSUhEUgAAAPcAAADFCAYAAACIPmT1AAACxUlEQVR4nO3VsXECQRBFwVvAoEiF2DGIBJc8sCnkyJO5p1rpVXcE33kzY9u2z8afMMZYPWHa8XhcPWHa4/FYPWEXh9UDgN8hbogSN0SJG6LEDVHihihxQ5S4IUrcECVuiBI3RIkbosQNUeKGKHFDlLghStwQJW6IEjdEiRuixA1R4oYocUOUuCFK3BAlbogSN0SJG6LEDVHihihxQ5S4IUrcECVuiBI3RIkbosQNUeKGKHFDlLghStwQJW6IEjdEiRuixA1R4oYocUOUuCHqtHrAHg6Hxo26XC6rJ0x7vV6rJ0wbY6yesItGFcAP4oYocUOUuCFK3BAlbogSN0SJG6LEDVHihihxQ5S4IUrcECVuiBI3RIkbosQNUeKGKHFDlLghStwQJW6IEjdEiRuixA1R4oYocUOUuCFK3BAlbogSN0SJG6LEDVHihihxQ5S4IUrcECVuiBI3RIkbosQNUeKGKHFDlLghStwQJW6IEjdEiRuixA1RpzHG6g3T7vf76gm7uN1uqydMO5/PqyfwzeeGKHFDlLghStwQJW6IEjdEiRuixA1R4oYocUOUuCFK3BAlbogSN0SJG6LEDVHihihxQ5S4IUrcECVuiBI3RIkbosQNUeKGKHFDlLghStwQJW6IEjdEiRuixA1R4oYocUOUuCFK3BAlbogSN0SJG6LEDVHihihxQ5S4IUrcECVuiBI3RIkbosQNUeN6vX5Wj5j1fD5XT9jF+/1ePWHaGGP1hGmfz79PYts2nxuyxA1R4oYocUOUuCFK3BAlbogSN0SJG6LEDVHihihxQ5S4IUrcECVuiBI3RIkbosQNUeKGKHFDlLghStwQJW6IEjdEiRuixA1R4oYocUOUuCFK3BAlbogSN0SJG6LEDVHihihxQ5S4IUrcECVuiBI3RIkbosQNUeKGKHFDlLghStwQJW6IEjdEfQFLUBY5WvyR1gAAAABJRU5ErkJggg==\" y=\"-304.161029\"/>\r\n   </g>\r\n   <g id=\"matplotlib.axis_11\">\r\n    <g id=\"xtick_37\">\r\n     <g id=\"line2d_66\">\r\n      <g>\r\n       <use style=\"stroke:#000000;stroke-width:0.8;\" x=\"651.314301\" xlink:href=\"#mfcb646803b\" y=\"501.161029\"/>\r\n      </g>\r\n     </g>\r\n     <g id=\"text_66\">\r\n      <!-- p -->\r\n      <g transform=\"translate(648.140083 515.759467)scale(0.1 -0.1)\">\r\n       <defs>\r\n        <path d=\"M 18.109375 8.203125 \r\nL 18.109375 -20.796875 \r\nL 9.078125 -20.796875 \r\nL 9.078125 54.6875 \r\nL 18.109375 54.6875 \r\nL 18.109375 46.390625 \r\nQ 20.953125 51.265625 25.265625 53.625 \r\nQ 29.59375 56 35.59375 56 \r\nQ 45.5625 56 51.78125 48.09375 \r\nQ 58.015625 40.1875 58.015625 27.296875 \r\nQ 58.015625 14.40625 51.78125 6.484375 \r\nQ 45.5625 -1.421875 35.59375 -1.421875 \r\nQ 29.59375 -1.421875 25.265625 0.953125 \r\nQ 20.953125 3.328125 18.109375 8.203125 \r\nz\r\nM 48.6875 27.296875 \r\nQ 48.6875 37.203125 44.609375 42.84375 \r\nQ 40.53125 48.484375 33.40625 48.484375 \r\nQ 26.265625 48.484375 22.1875 42.84375 \r\nQ 18.109375 37.203125 18.109375 27.296875 \r\nQ 18.109375 17.390625 22.1875 11.75 \r\nQ 26.265625 6.109375 33.40625 6.109375 \r\nQ 40.53125 6.109375 44.609375 11.75 \r\nQ 48.6875 17.390625 48.6875 27.296875 \r\nz\r\n\" id=\"DejaVuSans-112\"/>\r\n       </defs>\r\n       <use xlink:href=\"#DejaVuSans-112\"/>\r\n      </g>\r\n     </g>\r\n    </g>\r\n    <g id=\"xtick_38\">\r\n     <g id=\"line2d_67\">\r\n      <g>\r\n       <use style=\"stroke:#000000;stroke-width:0.8;\" x=\"700.549596\" xlink:href=\"#mfcb646803b\" y=\"501.161029\"/>\r\n      </g>\r\n     </g>\r\n     <g id=\"text_67\">\r\n      <!-- o -->\r\n      <g transform=\"translate(697.490221 515.759467)scale(0.1 -0.1)\">\r\n       <use xlink:href=\"#DejaVuSans-111\"/>\r\n      </g>\r\n     </g>\r\n    </g>\r\n    <g id=\"xtick_39\">\r\n     <g id=\"line2d_68\">\r\n      <g>\r\n       <use style=\"stroke:#000000;stroke-width:0.8;\" x=\"749.78489\" xlink:href=\"#mfcb646803b\" y=\"501.161029\"/>\r\n      </g>\r\n     </g>\r\n     <g id=\"text_68\">\r\n      <!-- e -->\r\n      <g transform=\"translate(746.708327 515.759467)scale(0.1 -0.1)\">\r\n       <use xlink:href=\"#DejaVuSans-101\"/>\r\n      </g>\r\n     </g>\r\n    </g>\r\n    <g id=\"xtick_40\">\r\n     <g id=\"line2d_69\">\r\n      <g>\r\n       <use style=\"stroke:#000000;stroke-width:0.8;\" x=\"799.020184\" xlink:href=\"#mfcb646803b\" y=\"501.161029\"/>\r\n      </g>\r\n     </g>\r\n     <g id=\"text_69\">\r\n      <!-- d -->\r\n      <g transform=\"translate(795.845965 515.759467)scale(0.1 -0.1)\">\r\n       <use xlink:href=\"#DejaVuSans-100\"/>\r\n      </g>\r\n     </g>\r\n    </g>\r\n    <g id=\"xtick_41\">\r\n     <g id=\"line2d_70\">\r\n      <g>\r\n       <use style=\"stroke:#000000;stroke-width:0.8;\" x=\"848.255478\" xlink:href=\"#mfcb646803b\" y=\"501.161029\"/>\r\n      </g>\r\n     </g>\r\n     <g id=\"text_70\">\r\n      <!-- u -->\r\n      <g transform=\"translate(845.086728 515.759467)scale(0.1 -0.1)\">\r\n       <use xlink:href=\"#DejaVuSans-117\"/>\r\n      </g>\r\n     </g>\r\n    </g>\r\n   </g>\r\n   <g id=\"matplotlib.axis_12\">\r\n    <g id=\"ytick_30\">\r\n     <g id=\"line2d_71\">\r\n      <g>\r\n       <use style=\"stroke:#000000;stroke-width:0.8;\" x=\"626.696654\" xlink:href=\"#m48029d163c\" y=\"328.8375\"/>\r\n      </g>\r\n     </g>\r\n     <g id=\"text_71\">\r\n      <!-- ప -->\r\n      <g transform=\"translate(609.641967 334.8675)scale(0.18 -0.18)\">\r\n       <defs>\r\n        <path d=\"M 7.421875 11.53125 \r\nQ 7.421875 8.890625 9.28125 6.984375 \r\nQ 11.140625 5.078125 13.875 5.078125 \r\nQ 16.5 5.078125 18.3125 6.984375 \r\nQ 20.125 8.890625 20.125 11.53125 \r\nQ 20.125 14.265625 18.3125 16.0625 \r\nQ 16.5 17.875 13.875 17.875 \r\nQ 11.140625 17.875 9.28125 16.0625 \r\nQ 7.421875 14.265625 7.421875 11.53125 \r\nz\r\nM 35.453125 6.453125 \r\nQ 40.046875 6.453125 43.171875 11.328125 \r\nQ 46.296875 16.21875 46.296875 23.140625 \r\nQ 46.296875 31.34375 41.75 37.109375 \r\nQ 37.203125 42.875 30.765625 42.875 \r\nL 33.015625 48.4375 \r\nQ 40.828125 48.4375 46.4375 41.015625 \r\nQ 52.046875 33.59375 52.046875 23.140625 \r\nQ 52.046875 13.484375 47.21875 6.734375 \r\nQ 42.390625 0 35.453125 0 \r\nQ 32.234375 0 29.296875 1.796875 \r\nQ 26.375 3.609375 24.515625 6.640625 \r\nL 23.921875 6.453125 \r\nQ 22.859375 3.609375 20.0625 1.796875 \r\nQ 17.28125 0 13.875 0 \r\nQ 9.078125 0 5.65625 3.421875 \r\nQ 2.25 6.84375 2.25 11.53125 \r\nQ 2.25 16.21875 5.65625 19.578125 \r\nQ 9.078125 22.953125 13.875 22.953125 \r\nQ 17.96875 22.953125 21.390625 20.359375 \r\nQ 24.8125 17.78125 26.375 13.484375 \r\nQ 27.546875 10.25 30.078125 8.34375 \r\nQ 32.625 6.453125 35.453125 6.453125 \r\nz\r\nM 1.078125 61.921875 \r\nL 5.953125 61.921875 \r\nQ 5.953125 57.125 8.25 53.703125 \r\nQ 10.546875 50.296875 13.875 50.296875 \r\nQ 15.4375 50.296875 17.1875 50.921875 \r\nQ 18.953125 51.5625 20.703125 52.734375 \r\nL 41.703125 67 \r\nL 44.734375 62.703125 \r\nL 23.34375 48.046875 \r\nQ 20.90625 46.390625 18.5 45.5 \r\nQ 16.109375 44.625 13.875 44.625 \r\nQ 8.5 44.625 4.78125 49.65625 \r\nQ 1.078125 54.6875 1.078125 61.921875 \r\nz\r\n\" id=\"Lohit-Telugu-3114\"/>\r\n       </defs>\r\n       <use xlink:href=\"#Lohit-Telugu-3114\"/>\r\n      </g>\r\n     </g>\r\n    </g>\r\n    <g id=\"ytick_31\">\r\n     <g id=\"line2d_72\">\r\n      <g>\r\n       <use style=\"stroke:#000000;stroke-width:0.8;\" x=\"626.696654\" xlink:href=\"#m48029d163c\" y=\"378.072794\"/>\r\n      </g>\r\n     </g>\r\n     <g id=\"text_72\">\r\n      <!-- ో -->\r\n      <g transform=\"translate(609.554779 384.067638)scale(0.18 -0.18)\">\r\n       <use xlink:href=\"#Lohit-Telugu-3147\"/>\r\n      </g>\r\n     </g>\r\n    </g>\r\n    <g id=\"ytick_32\">\r\n     <g id=\"line2d_73\">\r\n      <g>\r\n       <use style=\"stroke:#000000;stroke-width:0.8;\" x=\"626.696654\" xlink:href=\"#m48029d163c\" y=\"427.308088\"/>\r\n      </g>\r\n     </g>\r\n     <g id=\"text_73\">\r\n      <!-- డ -->\r\n      <g transform=\"translate(607.884154 433.319807)scale(0.18 -0.18)\">\r\n       <defs>\r\n        <path d=\"M 45.703125 15.234375 \r\nQ 45.703125 12.59375 47.5625 10.734375 \r\nQ 49.421875 8.890625 52.046875 8.890625 \r\nQ 54.6875 8.890625 56.546875 10.734375 \r\nQ 58.40625 12.59375 58.40625 15.234375 \r\nQ 58.40625 17.875 56.546875 19.78125 \r\nQ 54.6875 21.6875 52.046875 21.6875 \r\nQ 49.421875 21.6875 47.5625 19.78125 \r\nQ 45.703125 17.875 45.703125 15.234375 \r\nz\r\nM 3.421875 20.515625 \r\nQ 3.421875 29.203125 9.171875 36.421875 \r\nQ 14.9375 43.65625 24.125 46.484375 \r\nQ 21.6875 49.03125 20.3125 52.734375 \r\nQ 18.953125 56.453125 18.953125 60.75 \r\nL 24.03125 60.75 \r\nQ 24.03125 55.375 26.765625 51.65625 \r\nQ 29.5 47.953125 33.203125 47.953125 \r\nQ 34.578125 47.953125 36.1875 48.875 \r\nQ 37.796875 49.8125 39.453125 51.375 \r\nL 55.5625 66.796875 \r\nL 59.578125 62.203125 \r\nL 42.484375 47.078125 \r\nQ 46.96875 46.296875 50.734375 44.734375 \r\nQ 54.5 43.171875 57.328125 40.921875 \r\nL 53.90625 35.75 \r\nQ 50.59375 38.484375 45.171875 40.046875 \r\nQ 39.75 41.609375 33.015625 41.609375 \r\nQ 23.34375 41.609375 16.59375 35.40625 \r\nQ 9.859375 29.203125 9.859375 20.515625 \r\nQ 9.859375 14.65625 12.84375 10.546875 \r\nQ 15.828125 6.453125 20.125 6.453125 \r\nQ 24.515625 6.453125 27.59375 10.15625 \r\nQ 30.671875 13.875 30.671875 19.140625 \r\nL 35.359375 19.140625 \r\nQ 35.359375 13.578125 37.984375 9.625 \r\nQ 40.625 5.671875 44.34375 5.671875 \r\nL 47.078125 5.671875 \r\nL 47.078125 6.0625 \r\nQ 44.4375 7.03125 42.828125 9.5625 \r\nQ 41.21875 12.109375 41.21875 15.234375 \r\nQ 41.21875 19.734375 44.34375 22.953125 \r\nQ 47.46875 26.171875 52.046875 26.171875 \r\nQ 56.84375 26.171875 60.15625 22.796875 \r\nQ 63.484375 19.4375 63.484375 14.75 \r\nQ 63.484375 8.6875 58.453125 4.34375 \r\nQ 53.421875 0 46.296875 0 \r\nQ 42.28125 0 38.765625 2.046875 \r\nQ 35.25 4.109375 33.203125 7.625 \r\nL 32.8125 7.421875 \r\nQ 30.859375 4 27.25 2 \r\nQ 23.640625 0 19.53125 0 \r\nQ 12.890625 0 8.15625 5.953125 \r\nQ 3.421875 11.921875 3.421875 20.515625 \r\nz\r\n\" id=\"Lohit-Telugu-3105\"/>\r\n       </defs>\r\n       <use xlink:href=\"#Lohit-Telugu-3105\"/>\r\n      </g>\r\n     </g>\r\n    </g>\r\n    <g id=\"ytick_33\">\r\n     <g id=\"line2d_74\">\r\n      <g>\r\n       <use style=\"stroke:#000000;stroke-width:0.8;\" x=\"626.696654\" xlink:href=\"#m48029d163c\" y=\"476.543382\"/>\r\n      </g>\r\n     </g>\r\n     <g id=\"text_74\">\r\n      <!-- ు -->\r\n      <g transform=\"translate(613.227904 482.538226)scale(0.18 -0.18)\">\r\n       <use xlink:href=\"#Lohit-Telugu-3137\"/>\r\n      </g>\r\n     </g>\r\n    </g>\r\n   </g>\r\n   <g id=\"patch_28\">\r\n    <path d=\"M 626.696654 501.161029 \r\nL 626.696654 304.219853 \r\n\" style=\"fill:none;stroke:#000000;stroke-linecap:square;stroke-linejoin:miter;stroke-width:0.8;\"/>\r\n   </g>\r\n   <g id=\"patch_29\">\r\n    <path d=\"M 872.873125 501.161029 \r\nL 872.873125 304.219853 \r\n\" style=\"fill:none;stroke:#000000;stroke-linecap:square;stroke-linejoin:miter;stroke-width:0.8;\"/>\r\n   </g>\r\n   <g id=\"patch_30\">\r\n    <path d=\"M 626.696654 501.161029 \r\nL 872.873125 501.161029 \r\n\" style=\"fill:none;stroke:#000000;stroke-linecap:square;stroke-linejoin:miter;stroke-width:0.8;\"/>\r\n   </g>\r\n   <g id=\"patch_31\">\r\n    <path d=\"M 626.696654 304.219853 \r\nL 872.873125 304.219853 \r\n\" style=\"fill:none;stroke:#000000;stroke-linecap:square;stroke-linejoin:miter;stroke-width:0.8;\"/>\r\n   </g>\r\n  </g>\r\n  <g id=\"axes_7\">\r\n   <g id=\"patch_32\">\r\n    <path d=\"M 35.873125 782.794853 \r\nL 282.049596 782.794853 \r\nL 282.049596 598.1625 \r\nL 35.873125 598.1625 \r\nz\r\n\" style=\"fill:#ffffff;\"/>\r\n   </g>\r\n   <g clip-path=\"url(#p028cf6a010)\">\r\n    <image height=\"185\" id=\"imagec66a7855f0\" transform=\"scale(1 -1)translate(0 -185)\" width=\"247\" x=\"35.873125\" xlink:href=\"data:image/png;base64,\r\niVBORw0KGgoAAAANSUhEUgAAAPcAAAC5CAYAAAD03qlPAAACrklEQVR4nO3dwa0iQRAFwR5AgIQ3mIUV+IUL+MKZ06wV+0tKIhx4fZhUHWdba+2Ln3A8Hse2T6fT2Pa+z33i7/d7bPswtgz8V+KGKHFDlLghStwQJW6IEjdEiRuixA1R4oYocUOUuCFK3BAlbogSN0SJG6LEDVHihihxQ5S4IUrcECVuiBI3RIkbosQNUeKGKHFDlLghStwQJW6I2pZf+P65bdumn/Dnvt/v2Pb5fB7bnuRyQ5S4IUrcECVuiBI3RIkbosQNUeKGKHFDlLghStwQJW6IEjdEiRuixA1R4oYocUOUuCFK3BAlbogSN0SJG6LEDVHihihxQ5S4IUrcECVuiBI3RIkbok7TD/hFl8tlZPf1eo3srrXW/X4f2/5VLjdEiRuixA1R4oYocUOUuCFK3BAlbogSN0SJG6LEDVHihihxQ5S4IUrcECVuiBI3RIkbosQNUeKGKHFDlLghStwQJW6IEjdEiRuixA1R4oYocUOUuCFqW2vt04+YcD6fx7Y/n8/I7u12G9llhssNUeKGKHFDlLghStwQJW6IEjdEiRuixA1R4oYocUOUuCFK3BAlbogSN0SJG6LEDVHihihxQ5S4IUrcECVuiBI3RIkbosQNUeKGKHFDlLghStwQdToc5vq+Xq9j28/nc2z78XiMbfM7XG6IEjdEiRuixA1R4oYocUOUuCFK3BAlbogSN0SJG6LEDVHihihxQ5S4IUrcECVuiBI3RIkbosQNUeKGKHFDlLghStwQJW6IEjdEiRuixA1R4oYocUPUtu/7Pja+bVPTkOdyQ5S4IUrcECVuiBI3RIkbosQNUeKGKHFDlLghStwQJW6IEjdEiRuixA1R4oYocUOUuCFK3BAlbogSN0SJG6LEDVHihihxQ5S4IUrcECVuiBI3RIkbov4BWV8ZnbVxiVIAAAAASUVORK5CYII=\" y=\"-597.794853\"/>\r\n   </g>\r\n   <g id=\"matplotlib.axis_13\">\r\n    <g id=\"xtick_42\">\r\n     <g id=\"line2d_75\">\r\n      <g>\r\n       <use style=\"stroke:#000000;stroke-width:0.8;\" x=\"51.259154\" xlink:href=\"#mfcb646803b\" y=\"782.794853\"/>\r\n      </g>\r\n     </g>\r\n     <g id=\"text_75\">\r\n      <!-- m -->\r\n      <g transform=\"translate(46.388842 797.39329)scale(0.1 -0.1)\">\r\n       <use xlink:href=\"#DejaVuSans-109\"/>\r\n      </g>\r\n     </g>\r\n    </g>\r\n    <g id=\"xtick_43\">\r\n     <g id=\"line2d_76\">\r\n      <g>\r\n       <use style=\"stroke:#000000;stroke-width:0.8;\" x=\"82.031213\" xlink:href=\"#mfcb646803b\" y=\"782.794853\"/>\r\n      </g>\r\n     </g>\r\n     <g id=\"text_76\">\r\n      <!-- a -->\r\n      <g transform=\"translate(78.967151 797.39329)scale(0.1 -0.1)\">\r\n       <use xlink:href=\"#DejaVuSans-97\"/>\r\n      </g>\r\n     </g>\r\n    </g>\r\n    <g id=\"xtick_44\">\r\n     <g id=\"line2d_77\">\r\n      <g>\r\n       <use style=\"stroke:#000000;stroke-width:0.8;\" x=\"112.803272\" xlink:href=\"#mfcb646803b\" y=\"782.794853\"/>\r\n      </g>\r\n     </g>\r\n     <g id=\"text_77\">\r\n      <!-- m -->\r\n      <g transform=\"translate(107.93296 797.39329)scale(0.1 -0.1)\">\r\n       <use xlink:href=\"#DejaVuSans-109\"/>\r\n      </g>\r\n     </g>\r\n    </g>\r\n    <g id=\"xtick_45\">\r\n     <g id=\"line2d_78\">\r\n      <g>\r\n       <use style=\"stroke:#000000;stroke-width:0.8;\" x=\"143.575331\" xlink:href=\"#mfcb646803b\" y=\"782.794853\"/>\r\n      </g>\r\n     </g>\r\n     <g id=\"text_78\">\r\n      <!-- d -->\r\n      <g transform=\"translate(140.401112 797.39329)scale(0.1 -0.1)\">\r\n       <use xlink:href=\"#DejaVuSans-100\"/>\r\n      </g>\r\n     </g>\r\n    </g>\r\n    <g id=\"xtick_46\">\r\n     <g id=\"line2d_79\">\r\n      <g>\r\n       <use style=\"stroke:#000000;stroke-width:0.8;\" x=\"174.34739\" xlink:href=\"#mfcb646803b\" y=\"782.794853\"/>\r\n      </g>\r\n     </g>\r\n     <g id=\"text_79\">\r\n      <!-- u -->\r\n      <g transform=\"translate(171.17864 797.39329)scale(0.1 -0.1)\">\r\n       <use xlink:href=\"#DejaVuSans-117\"/>\r\n      </g>\r\n     </g>\r\n    </g>\r\n    <g id=\"xtick_47\">\r\n     <g id=\"line2d_80\">\r\n      <g>\r\n       <use style=\"stroke:#000000;stroke-width:0.8;\" x=\"205.119449\" xlink:href=\"#mfcb646803b\" y=\"782.794853\"/>\r\n      </g>\r\n     </g>\r\n     <g id=\"text_80\">\r\n      <!-- g -->\r\n      <g transform=\"translate(201.94523 797.39329)scale(0.1 -0.1)\">\r\n       <defs>\r\n        <path d=\"M 45.40625 27.984375 \r\nQ 45.40625 37.75 41.375 43.109375 \r\nQ 37.359375 48.484375 30.078125 48.484375 \r\nQ 22.859375 48.484375 18.828125 43.109375 \r\nQ 14.796875 37.75 14.796875 27.984375 \r\nQ 14.796875 18.265625 18.828125 12.890625 \r\nQ 22.859375 7.515625 30.078125 7.515625 \r\nQ 37.359375 7.515625 41.375 12.890625 \r\nQ 45.40625 18.265625 45.40625 27.984375 \r\nz\r\nM 54.390625 6.78125 \r\nQ 54.390625 -7.171875 48.1875 -13.984375 \r\nQ 42 -20.796875 29.203125 -20.796875 \r\nQ 24.46875 -20.796875 20.265625 -20.09375 \r\nQ 16.0625 -19.390625 12.109375 -17.921875 \r\nL 12.109375 -9.1875 \r\nQ 16.0625 -11.328125 19.921875 -12.34375 \r\nQ 23.78125 -13.375 27.78125 -13.375 \r\nQ 36.625 -13.375 41.015625 -8.765625 \r\nQ 45.40625 -4.15625 45.40625 5.171875 \r\nL 45.40625 9.625 \r\nQ 42.625 4.78125 38.28125 2.390625 \r\nQ 33.9375 0 27.875 0 \r\nQ 17.828125 0 11.671875 7.65625 \r\nQ 5.515625 15.328125 5.515625 27.984375 \r\nQ 5.515625 40.671875 11.671875 48.328125 \r\nQ 17.828125 56 27.875 56 \r\nQ 33.9375 56 38.28125 53.609375 \r\nQ 42.625 51.21875 45.40625 46.390625 \r\nL 45.40625 54.6875 \r\nL 54.390625 54.6875 \r\nz\r\n\" id=\"DejaVuSans-103\"/>\r\n       </defs>\r\n       <use xlink:href=\"#DejaVuSans-103\"/>\r\n      </g>\r\n     </g>\r\n    </g>\r\n    <g id=\"xtick_48\">\r\n     <g id=\"line2d_81\">\r\n      <g>\r\n       <use style=\"stroke:#000000;stroke-width:0.8;\" x=\"235.891507\" xlink:href=\"#mfcb646803b\" y=\"782.794853\"/>\r\n      </g>\r\n     </g>\r\n     <g id=\"text_81\">\r\n      <!-- a -->\r\n      <g transform=\"translate(232.827445 797.39329)scale(0.1 -0.1)\">\r\n       <use xlink:href=\"#DejaVuSans-97\"/>\r\n      </g>\r\n     </g>\r\n    </g>\r\n    <g id=\"xtick_49\">\r\n     <g id=\"line2d_82\">\r\n      <g>\r\n       <use style=\"stroke:#000000;stroke-width:0.8;\" x=\"266.663566\" xlink:href=\"#mfcb646803b\" y=\"782.794853\"/>\r\n      </g>\r\n     </g>\r\n     <g id=\"text_82\">\r\n      <!-- a -->\r\n      <g transform=\"translate(263.599504 797.39329)scale(0.1 -0.1)\">\r\n       <use xlink:href=\"#DejaVuSans-97\"/>\r\n      </g>\r\n     </g>\r\n    </g>\r\n   </g>\r\n   <g id=\"matplotlib.axis_14\">\r\n    <g id=\"ytick_34\">\r\n     <g id=\"line2d_83\">\r\n      <g>\r\n       <use style=\"stroke:#000000;stroke-width:0.8;\" x=\"35.873125\" xlink:href=\"#m48029d163c\" y=\"613.548529\"/>\r\n      </g>\r\n     </g>\r\n     <g id=\"text_83\">\r\n      <!-- మ -->\r\n      <g transform=\"translate(12.068438 619.543373)scale(0.18 -0.18)\">\r\n       <use xlink:href=\"#Lohit-Telugu-3118\"/>\r\n      </g>\r\n     </g>\r\n    </g>\r\n    <g id=\"ytick_35\">\r\n     <g id=\"line2d_84\">\r\n      <g>\r\n       <use style=\"stroke:#000000;stroke-width:0.8;\" x=\"35.873125\" xlink:href=\"#m48029d163c\" y=\"644.320588\"/>\r\n      </g>\r\n     </g>\r\n     <g id=\"text_84\">\r\n      <!-- ం -->\r\n      <g transform=\"translate(19.380938 650.315432)scale(0.18 -0.18)\">\r\n       <defs>\r\n        <path d=\"M 3.328125 22.953125 \r\nQ 3.328125 32.515625 10.0625 39.203125 \r\nQ 16.796875 45.90625 26.375 45.90625 \r\nQ 35.84375 45.90625 42.625 39.203125 \r\nQ 49.421875 32.515625 49.421875 22.953125 \r\nQ 49.421875 13.484375 42.625 6.734375 \r\nQ 35.84375 0 26.375 0 \r\nQ 16.796875 0 10.0625 6.734375 \r\nQ 3.328125 13.484375 3.328125 22.953125 \r\nz\r\nM 9.671875 22.953125 \r\nQ 9.671875 16.109375 14.546875 11.28125 \r\nQ 19.4375 6.453125 26.375 6.453125 \r\nQ 33.203125 6.453125 38.03125 11.28125 \r\nQ 42.875 16.109375 42.875 22.953125 \r\nQ 42.875 29.890625 38.03125 34.765625 \r\nQ 33.203125 39.65625 26.375 39.65625 \r\nQ 19.4375 39.65625 14.546875 34.765625 \r\nQ 9.671875 29.890625 9.671875 22.953125 \r\nz\r\n\" id=\"Lohit-Telugu-3074\"/>\r\n       </defs>\r\n       <use xlink:href=\"#Lohit-Telugu-3074\"/>\r\n      </g>\r\n     </g>\r\n    </g>\r\n    <g id=\"ytick_36\">\r\n     <g id=\"line2d_85\">\r\n      <g>\r\n       <use style=\"stroke:#000000;stroke-width:0.8;\" x=\"35.873125\" xlink:href=\"#m48029d163c\" y=\"675.092647\"/>\r\n      </g>\r\n     </g>\r\n     <g id=\"text_85\">\r\n      <!-- ద -->\r\n      <g transform=\"translate(17.535938 681.104366)scale(0.18 -0.18)\">\r\n       <use xlink:href=\"#Lohit-Telugu-3110\"/>\r\n      </g>\r\n     </g>\r\n    </g>\r\n    <g id=\"ytick_37\">\r\n     <g id=\"line2d_86\">\r\n      <g>\r\n       <use style=\"stroke:#000000;stroke-width:0.8;\" x=\"35.873125\" xlink:href=\"#m48029d163c\" y=\"705.864706\"/>\r\n      </g>\r\n     </g>\r\n     <g id=\"text_86\">\r\n      <!-- ు -->\r\n      <g transform=\"translate(22.404375 711.85955)scale(0.18 -0.18)\">\r\n       <use xlink:href=\"#Lohit-Telugu-3137\"/>\r\n      </g>\r\n     </g>\r\n    </g>\r\n    <g id=\"ytick_38\">\r\n     <g id=\"line2d_87\">\r\n      <g>\r\n       <use style=\"stroke:#000000;stroke-width:0.8;\" x=\"35.873125\" xlink:href=\"#m48029d163c\" y=\"736.636765\"/>\r\n      </g>\r\n     </g>\r\n     <g id=\"text_87\">\r\n      <!-- గ -->\r\n      <g transform=\"translate(19.749375 742.648483)scale(0.18 -0.18)\">\r\n       <defs>\r\n        <path d=\"M 3.609375 0 \r\nQ 3.609375 15.921875 7.375 27.78125 \r\nQ 11.140625 39.65625 18.0625 45.015625 \r\nQ 14.75 47.46875 12.9375 51.5625 \r\nQ 11.140625 55.671875 11.140625 60.75 \r\nL 16.21875 60.75 \r\nQ 16.21875 55.375 18.890625 51.65625 \r\nQ 21.578125 47.953125 25.390625 47.953125 \r\nQ 26.765625 47.953125 28.375 48.875 \r\nQ 29.984375 49.8125 31.640625 51.375 \r\nL 47.65625 66.796875 \r\nL 50.984375 63.484375 \r\nL 32.625 45.125 \r\nQ 39.546875 39.84375 43.3125 27.921875 \r\nQ 47.078125 16.015625 47.078125 0 \r\nL 40.828125 0 \r\nQ 40.828125 17 36.328125 28.953125 \r\nQ 31.84375 40.921875 25.390625 40.921875 \r\nQ 18.953125 40.921875 14.453125 28.953125 \r\nQ 9.96875 17 9.96875 0 \r\nL 3.609375 0 \r\nz\r\n\" id=\"Lohit-Telugu-3095\"/>\r\n       </defs>\r\n       <use xlink:href=\"#Lohit-Telugu-3095\"/>\r\n      </g>\r\n     </g>\r\n    </g>\r\n    <g id=\"ytick_39\">\r\n     <g id=\"line2d_88\">\r\n      <g>\r\n       <use style=\"stroke:#000000;stroke-width:0.8;\" x=\"35.873125\" xlink:href=\"#m48029d163c\" y=\"767.408824\"/>\r\n      </g>\r\n     </g>\r\n     <g id=\"text_88\">\r\n      <!-- ా -->\r\n      <g transform=\"translate(18.309375 773.403667)scale(0.18 -0.18)\">\r\n       <use xlink:href=\"#Lohit-Telugu-3134\"/>\r\n      </g>\r\n     </g>\r\n    </g>\r\n   </g>\r\n   <g id=\"patch_33\">\r\n    <path d=\"M 35.873125 782.794853 \r\nL 35.873125 598.1625 \r\n\" style=\"fill:none;stroke:#000000;stroke-linecap:square;stroke-linejoin:miter;stroke-width:0.8;\"/>\r\n   </g>\r\n   <g id=\"patch_34\">\r\n    <path d=\"M 282.049596 782.794853 \r\nL 282.049596 598.1625 \r\n\" style=\"fill:none;stroke:#000000;stroke-linecap:square;stroke-linejoin:miter;stroke-width:0.8;\"/>\r\n   </g>\r\n   <g id=\"patch_35\">\r\n    <path d=\"M 35.873125 782.794853 \r\nL 282.049596 782.794853 \r\n\" style=\"fill:none;stroke:#000000;stroke-linecap:square;stroke-linejoin:miter;stroke-width:0.8;\"/>\r\n   </g>\r\n   <g id=\"patch_36\">\r\n    <path d=\"M 35.873125 598.1625 \r\nL 282.049596 598.1625 \r\n\" style=\"fill:none;stroke:#000000;stroke-linecap:square;stroke-linejoin:miter;stroke-width:0.8;\"/>\r\n   </g>\r\n  </g>\r\n  <g id=\"axes_8\">\r\n   <g id=\"patch_37\">\r\n    <path d=\"M 331.28489 778.398845 \r\nL 577.46136 778.398845 \r\nL 577.46136 602.558508 \r\nL 331.28489 602.558508 \r\nz\r\n\" style=\"fill:#ffffff;\"/>\r\n   </g>\r\n   <g clip-path=\"url(#p6265ecba7b)\">\r\n    <image height=\"176\" id=\"image51739de3cf\" transform=\"scale(1 -1)translate(0 -176)\" width=\"247\" x=\"331.28489\" xlink:href=\"data:image/png;base64,\r\niVBORw0KGgoAAAANSUhEUgAAAPcAAACwCAYAAADT0fiHAAADNElEQVR4nO3cMUpsWRhG0XO7StDIQBAEgwqdggMUnIiTMTc0qKRyDQws0Rd1R03Dow6vdPdaA/j4ubA52V3GGF8D/uc2m82UncfHx4M3Li8vJ1wyxl9TVoBvR9wQJW6IEjdEiRuixA1R4oYocUOUuCFK3BAlbogSN0SJG6LEDVHihihxQ5S4IWoZ/sQC4/X1dcrOzc3NwRu73W7CJV5uyBI3RIkbosQNUeKGKHFDlLghStwQJW6IEjdEiRuixA1R4oYocUOUuCFK3BC1PvYB/Dyr1erb7Mz6scHFxcWUnf1+P2VnBi83RIkbosQNUeKGKHFDlLghStwQJW6IEjdEiRuixA1R4oYocUOUuCFK3BAlbogSN0QtY4yvYx/Bn7Esy5Sdz8/PKTsz7jk/P59wyRgvLy9Tdr4TLzdEiRuixA1R4oYocUOUuCFK3BAlbogSN0SJG6LEDVHihihxQ5S4IUrcECVuiPKzhv+wWq0O3vj6mvN59/v9wRsnJycTLhnj9PR0ys7b29uUHf6dlxuixA1R4oYocUOUuCFK3BAlbogSN0SJG6LEDVHihihxQ5S4IUrcECVuiBI3RIkbopJ/Ypn1x5HtdnvwxvX19YRLxliv1wdvvL+/T7iEn8LLDVHihihxQ5S4IUrcECVuiBI3RIkbosQNUeKGKHFDlLghStwQJW6IEjdEiRuixA1Rh//e4xv6+PiYsvP8/HzwxtnZ2YRLxthsNgdvPD09HX4IP4aXG6LEDVHihihxQ5S4IUrcECVuiBI3RIkbosQNUeKGKHFDlLghStwQJW6IEjdELWOMr2Mf8bdlWabs3N3dTdmZ8XODh4eHCZfA7/NyQ5S4IUrcECVuiBI3RIkbosQNUeKGKHFDlLghStwQJW6IEjdEiRuixA1R4oYocUPUetbQjL+o7Ha7CZeMcXt7O2Vnu91O2YFj8HJDlLghStwQJW6IEjdEiRuixA1R4oYocUOUuCFK3BAlbogSN0SJG6LEDVHihqj1/f39sW/4x9XV1bFPgAwvN0SJG6LEDVHihihxQ5S4IUrcECVuiBI3RIkbosQNUeKGKHFDlLghStwQJW6IEjdE/QL69EG2JK6r5gAAAABJRU5ErkJggg==\" y=\"-602.398845\"/>\r\n   </g>\r\n   <g id=\"matplotlib.axis_15\">\r\n    <g id=\"xtick_50\">\r\n     <g id=\"line2d_89\">\r\n      <g>\r\n       <use style=\"stroke:#000000;stroke-width:0.8;\" x=\"340.076907\" xlink:href=\"#mfcb646803b\" y=\"778.398845\"/>\r\n      </g>\r\n     </g>\r\n     <g id=\"text_89\">\r\n      <!-- c -->\r\n      <g transform=\"translate(337.327688 792.997282)scale(0.1 -0.1)\">\r\n       <defs>\r\n        <path d=\"M 48.78125 52.59375 \r\nL 48.78125 44.1875 \r\nQ 44.96875 46.296875 41.140625 47.34375 \r\nQ 37.3125 48.390625 33.40625 48.390625 \r\nQ 24.65625 48.390625 19.8125 42.84375 \r\nQ 14.984375 37.3125 14.984375 27.296875 \r\nQ 14.984375 17.28125 19.8125 11.734375 \r\nQ 24.65625 6.203125 33.40625 6.203125 \r\nQ 37.3125 6.203125 41.140625 7.25 \r\nQ 44.96875 8.296875 48.78125 10.40625 \r\nL 48.78125 2.09375 \r\nQ 45.015625 0.34375 40.984375 -0.53125 \r\nQ 36.96875 -1.421875 32.421875 -1.421875 \r\nQ 20.0625 -1.421875 12.78125 6.34375 \r\nQ 5.515625 14.109375 5.515625 27.296875 \r\nQ 5.515625 40.671875 12.859375 48.328125 \r\nQ 20.21875 56 33.015625 56 \r\nQ 37.15625 56 41.109375 55.140625 \r\nQ 45.0625 54.296875 48.78125 52.59375 \r\nz\r\n\" id=\"DejaVuSans-99\"/>\r\n       </defs>\r\n       <use xlink:href=\"#DejaVuSans-99\"/>\r\n      </g>\r\n     </g>\r\n    </g>\r\n    <g id=\"xtick_51\">\r\n     <g id=\"line2d_90\">\r\n      <g>\r\n       <use style=\"stroke:#000000;stroke-width:0.8;\" x=\"357.66094\" xlink:href=\"#mfcb646803b\" y=\"778.398845\"/>\r\n      </g>\r\n     </g>\r\n     <g id=\"text_90\">\r\n      <!-- h -->\r\n      <g transform=\"translate(354.49219 792.997282)scale(0.1 -0.1)\">\r\n       <use xlink:href=\"#DejaVuSans-104\"/>\r\n      </g>\r\n     </g>\r\n    </g>\r\n    <g id=\"xtick_52\">\r\n     <g id=\"line2d_91\">\r\n      <g>\r\n       <use style=\"stroke:#000000;stroke-width:0.8;\" x=\"375.244974\" xlink:href=\"#mfcb646803b\" y=\"778.398845\"/>\r\n      </g>\r\n     </g>\r\n     <g id=\"text_91\">\r\n      <!-- e -->\r\n      <g transform=\"translate(372.168411 792.997282)scale(0.1 -0.1)\">\r\n       <use xlink:href=\"#DejaVuSans-101\"/>\r\n      </g>\r\n     </g>\r\n    </g>\r\n    <g id=\"xtick_53\">\r\n     <g id=\"line2d_92\">\r\n      <g>\r\n       <use style=\"stroke:#000000;stroke-width:0.8;\" x=\"392.829007\" xlink:href=\"#mfcb646803b\" y=\"778.398845\"/>\r\n      </g>\r\n     </g>\r\n     <g id=\"text_92\">\r\n      <!-- p -->\r\n      <g transform=\"translate(389.654789 792.997282)scale(0.1 -0.1)\">\r\n       <use xlink:href=\"#DejaVuSans-112\"/>\r\n      </g>\r\n     </g>\r\n    </g>\r\n    <g id=\"xtick_54\">\r\n     <g id=\"line2d_93\">\r\n      <g>\r\n       <use style=\"stroke:#000000;stroke-width:0.8;\" x=\"410.413041\" xlink:href=\"#mfcb646803b\" y=\"778.398845\"/>\r\n      </g>\r\n     </g>\r\n     <g id=\"text_93\">\r\n      <!-- p -->\r\n      <g transform=\"translate(407.238822 792.997282)scale(0.1 -0.1)\">\r\n       <use xlink:href=\"#DejaVuSans-112\"/>\r\n      </g>\r\n     </g>\r\n    </g>\r\n    <g id=\"xtick_55\">\r\n     <g id=\"line2d_94\">\r\n      <g>\r\n       <use style=\"stroke:#000000;stroke-width:0.8;\" x=\"427.997075\" xlink:href=\"#mfcb646803b\" y=\"778.398845\"/>\r\n      </g>\r\n     </g>\r\n     <g id=\"text_94\">\r\n      <!-- a -->\r\n      <g transform=\"translate(424.933012 792.997282)scale(0.1 -0.1)\">\r\n       <use xlink:href=\"#DejaVuSans-97\"/>\r\n      </g>\r\n     </g>\r\n    </g>\r\n    <g id=\"xtick_56\">\r\n     <g id=\"line2d_95\">\r\n      <g>\r\n       <use style=\"stroke:#000000;stroke-width:0.8;\" x=\"445.581108\" xlink:href=\"#mfcb646803b\" y=\"778.398845\"/>\r\n      </g>\r\n     </g>\r\n     <g id=\"text_95\">\r\n      <!-- v -->\r\n      <g transform=\"translate(442.621733 792.997282)scale(0.1 -0.1)\">\r\n       <use xlink:href=\"#DejaVuSans-118\"/>\r\n      </g>\r\n     </g>\r\n    </g>\r\n    <g id=\"xtick_57\">\r\n     <g id=\"line2d_96\">\r\n      <g>\r\n       <use style=\"stroke:#000000;stroke-width:0.8;\" x=\"463.165142\" xlink:href=\"#mfcb646803b\" y=\"778.398845\"/>\r\n      </g>\r\n     </g>\r\n     <g id=\"text_96\">\r\n      <!-- a -->\r\n      <g transform=\"translate(460.101079 792.997282)scale(0.1 -0.1)\">\r\n       <use xlink:href=\"#DejaVuSans-97\"/>\r\n      </g>\r\n     </g>\r\n    </g>\r\n    <g id=\"xtick_58\">\r\n     <g id=\"line2d_97\">\r\n      <g>\r\n       <use style=\"stroke:#000000;stroke-width:0.8;\" x=\"480.749175\" xlink:href=\"#mfcb646803b\" y=\"778.398845\"/>\r\n      </g>\r\n     </g>\r\n     <g id=\"text_97\">\r\n      <!-- l -->\r\n      <g transform=\"translate(479.360113 792.997282)scale(0.1 -0.1)\">\r\n       <use xlink:href=\"#DejaVuSans-108\"/>\r\n      </g>\r\n     </g>\r\n    </g>\r\n    <g id=\"xtick_59\">\r\n     <g id=\"line2d_98\">\r\n      <g>\r\n       <use style=\"stroke:#000000;stroke-width:0.8;\" x=\"498.333209\" xlink:href=\"#mfcb646803b\" y=\"778.398845\"/>\r\n      </g>\r\n     </g>\r\n     <g id=\"text_98\">\r\n      <!-- a -->\r\n      <g transform=\"translate(495.269147 792.997282)scale(0.1 -0.1)\">\r\n       <use xlink:href=\"#DejaVuSans-97\"/>\r\n      </g>\r\n     </g>\r\n    </g>\r\n    <g id=\"xtick_60\">\r\n     <g id=\"line2d_99\">\r\n      <g>\r\n       <use style=\"stroke:#000000;stroke-width:0.8;\" x=\"515.917243\" xlink:href=\"#mfcb646803b\" y=\"778.398845\"/>\r\n      </g>\r\n     </g>\r\n     <g id=\"text_99\">\r\n      <!-- s -->\r\n      <g transform=\"translate(513.312555 792.997282)scale(0.1 -0.1)\">\r\n       <use xlink:href=\"#DejaVuSans-115\"/>\r\n      </g>\r\n     </g>\r\n    </g>\r\n    <g id=\"xtick_61\">\r\n     <g id=\"line2d_100\">\r\n      <g>\r\n       <use style=\"stroke:#000000;stroke-width:0.8;\" x=\"533.501276\" xlink:href=\"#mfcb646803b\" y=\"778.398845\"/>\r\n      </g>\r\n     </g>\r\n     <g id=\"text_100\">\r\n      <!-- i -->\r\n      <g transform=\"translate(532.112214 792.997282)scale(0.1 -0.1)\">\r\n       <use xlink:href=\"#DejaVuSans-105\"/>\r\n      </g>\r\n     </g>\r\n    </g>\r\n    <g id=\"xtick_62\">\r\n     <g id=\"line2d_101\">\r\n      <g>\r\n       <use style=\"stroke:#000000;stroke-width:0.8;\" x=\"551.08531\" xlink:href=\"#mfcb646803b\" y=\"778.398845\"/>\r\n      </g>\r\n     </g>\r\n     <g id=\"text_101\">\r\n      <!-- n -->\r\n      <g transform=\"translate(547.91656 792.997282)scale(0.1 -0.1)\">\r\n       <use xlink:href=\"#DejaVuSans-110\"/>\r\n      </g>\r\n     </g>\r\n    </g>\r\n    <g id=\"xtick_63\">\r\n     <g id=\"line2d_102\">\r\n      <g>\r\n       <use style=\"stroke:#000000;stroke-width:0.8;\" x=\"568.669343\" xlink:href=\"#mfcb646803b\" y=\"778.398845\"/>\r\n      </g>\r\n     </g>\r\n     <g id=\"text_102\">\r\n      <!-- a -->\r\n      <g transform=\"translate(565.605281 792.997282)scale(0.1 -0.1)\">\r\n       <use xlink:href=\"#DejaVuSans-97\"/>\r\n      </g>\r\n     </g>\r\n    </g>\r\n   </g>\r\n   <g id=\"matplotlib.axis_16\">\r\n    <g id=\"ytick_40\">\r\n     <g id=\"line2d_103\">\r\n      <g>\r\n       <use style=\"stroke:#000000;stroke-width:0.8;\" x=\"331.28489\" xlink:href=\"#m48029d163c\" y=\"611.350525\"/>\r\n      </g>\r\n     </g>\r\n     <g id=\"text_103\">\r\n      <!-- చ -->\r\n      <g transform=\"translate(313.03489 617.345369)scale(0.18 -0.18)\">\r\n       <defs>\r\n        <path d=\"M 41.796875 0 \r\nQ 38.671875 0 36.125 1.609375 \r\nQ 33.59375 3.21875 32.625 5.859375 \r\nL 32.125 5.671875 \r\nQ 31.15625 3.125 28.5625 1.5625 \r\nQ 25.984375 0 22.75 0 \r\nQ 17.390625 0 13.671875 3.703125 \r\nQ 9.96875 7.421875 9.96875 12.703125 \r\nQ 9.96875 14.265625 10.453125 15.765625 \r\nQ 10.9375 17.28125 11.921875 18.453125 \r\nL 11.234375 19.140625 \r\nL 0.984375 19.140625 \r\nL 0.984375 25.484375 \r\nL 21.390625 25.484375 \r\nL 21.390625 21.09375 \r\nQ 19.140625 20.21875 17.71875 17.96875 \r\nQ 16.3125 15.71875 16.3125 12.703125 \r\nQ 16.3125 10.0625 18.21875 8.25 \r\nQ 20.125 6.453125 22.75 6.453125 \r\nQ 25.390625 6.453125 27.25 8.25 \r\nQ 29.109375 10.0625 29.109375 12.703125 \r\nL 29.109375 16.609375 \r\nL 35.453125 16.609375 \r\nL 35.453125 12.703125 \r\nQ 35.453125 10.0625 37.296875 8.25 \r\nQ 39.15625 6.453125 41.796875 6.453125 \r\nQ 46.296875 6.453125 49.515625 11.140625 \r\nQ 52.734375 15.828125 52.734375 22.46875 \r\nQ 52.734375 30.765625 46.78125 36.71875 \r\nQ 40.828125 42.671875 32.421875 42.671875 \r\nL 30.28125 42.671875 \r\nQ 24.421875 42.671875 20.265625 46.828125 \r\nQ 16.109375 50.984375 16.109375 56.84375 \r\nL 21.09375 56.84375 \r\nQ 21.09375 53.125 23.78125 50.390625 \r\nQ 26.46875 47.65625 30.375 47.46875 \r\nQ 31.640625 47.46875 33.25 48.34375 \r\nQ 34.859375 49.21875 36.53125 50.875 \r\nL 52.546875 66.21875 \r\nL 55.953125 62.984375 \r\nL 39.15625 47.078125 \r\nQ 47.859375 44.921875 53.46875 37.984375 \r\nQ 59.078125 31.0625 59.078125 22.46875 \r\nQ 59.078125 13.09375 54.046875 6.546875 \r\nQ 49.03125 0 41.796875 0 \r\nz\r\n\" id=\"Lohit-Telugu-3098\"/>\r\n       </defs>\r\n       <use xlink:href=\"#Lohit-Telugu-3098\"/>\r\n      </g>\r\n     </g>\r\n    </g>\r\n    <g id=\"ytick_41\">\r\n     <g id=\"line2d_104\">\r\n      <g>\r\n       <use style=\"stroke:#000000;stroke-width:0.8;\" x=\"331.28489\" xlink:href=\"#m48029d163c\" y=\"628.934559\"/>\r\n      </g>\r\n     </g>\r\n     <g id=\"text_104\">\r\n      <!-- ె -->\r\n      <g transform=\"translate(324.28489 634.929403)scale(0.18 -0.18)\">\r\n       <defs>\r\n        <path d=\"M -32.515625 64.359375 \r\nL 4.890625 64.359375 \r\nQ 9.28125 64.359375 12.453125 61.234375 \r\nQ 15.625 58.109375 15.625 53.71875 \r\nQ 15.625 49.125 12.34375 45.890625 \r\nQ 9.078125 42.671875 4.5 42.671875 \r\nL -7.515625 42.671875 \r\nL -7.515625 49.125 \r\nL 5.375 49.125 \r\nQ 6.9375 49.125 8.109375 50.4375 \r\nQ 9.28125 51.765625 9.28125 53.71875 \r\nQ 9.28125 55.46875 8.109375 56.734375 \r\nQ 6.9375 58.015625 5.28125 58.015625 \r\nL -32.515625 58.015625 \r\nL -32.515625 64.359375 \r\nz\r\n\" id=\"Lohit-Telugu-3142\"/>\r\n       </defs>\r\n       <use xlink:href=\"#Lohit-Telugu-3142\"/>\r\n      </g>\r\n     </g>\r\n    </g>\r\n    <g id=\"ytick_42\">\r\n     <g id=\"line2d_105\">\r\n      <g>\r\n       <use style=\"stroke:#000000;stroke-width:0.8;\" x=\"331.28489\" xlink:href=\"#m48029d163c\" y=\"646.518592\"/>\r\n      </g>\r\n     </g>\r\n     <g id=\"text_105\">\r\n      <!-- ప -->\r\n      <g transform=\"translate(314.230202 652.548592)scale(0.18 -0.18)\">\r\n       <use xlink:href=\"#Lohit-Telugu-3114\"/>\r\n      </g>\r\n     </g>\r\n    </g>\r\n    <g id=\"ytick_43\">\r\n     <g id=\"line2d_106\">\r\n      <g>\r\n       <use style=\"stroke:#000000;stroke-width:0.8;\" x=\"331.28489\" xlink:href=\"#m48029d163c\" y=\"664.102626\"/>\r\n      </g>\r\n     </g>\r\n     <g id=\"text_106\">\r\n      <!-- ్ -->\r\n      <g transform=\"translate(324.28489 670.09747)scale(0.18 -0.18)\">\r\n       <use xlink:href=\"#Lohit-Telugu-3149\"/>\r\n      </g>\r\n     </g>\r\n    </g>\r\n    <g id=\"ytick_44\">\r\n     <g id=\"line2d_107\">\r\n      <g>\r\n       <use style=\"stroke:#000000;stroke-width:0.8;\" x=\"331.28489\" xlink:href=\"#m48029d163c\" y=\"681.68666\"/>\r\n      </g>\r\n     </g>\r\n     <g id=\"text_107\">\r\n      <!-- ప -->\r\n      <g transform=\"translate(314.230202 687.71666)scale(0.18 -0.18)\">\r\n       <use xlink:href=\"#Lohit-Telugu-3114\"/>\r\n      </g>\r\n     </g>\r\n    </g>\r\n    <g id=\"ytick_45\">\r\n     <g id=\"line2d_108\">\r\n      <g>\r\n       <use style=\"stroke:#000000;stroke-width:0.8;\" x=\"331.28489\" xlink:href=\"#m48029d163c\" y=\"699.270693\"/>\r\n      </g>\r\n     </g>\r\n     <g id=\"text_108\">\r\n      <!-- వ -->\r\n      <g transform=\"translate(314.15989 705.265537)scale(0.18 -0.18)\">\r\n       <use xlink:href=\"#Lohit-Telugu-3125\"/>\r\n      </g>\r\n     </g>\r\n    </g>\r\n    <g id=\"ytick_46\">\r\n     <g id=\"line2d_109\">\r\n      <g>\r\n       <use style=\"stroke:#000000;stroke-width:0.8;\" x=\"331.28489\" xlink:href=\"#m48029d163c\" y=\"716.854727\"/>\r\n      </g>\r\n     </g>\r\n     <g id=\"text_109\">\r\n      <!-- ల -->\r\n      <g transform=\"translate(313.842077 722.849571)scale(0.18 -0.18)\">\r\n       <use xlink:href=\"#Lohit-Telugu-3122\"/>\r\n      </g>\r\n     </g>\r\n    </g>\r\n    <g id=\"ytick_47\">\r\n     <g id=\"line2d_110\">\r\n      <g>\r\n       <use style=\"stroke:#000000;stroke-width:0.8;\" x=\"331.28489\" xlink:href=\"#m48029d163c\" y=\"734.438761\"/>\r\n      </g>\r\n     </g>\r\n     <g id=\"text_110\">\r\n      <!-- స -->\r\n      <g transform=\"translate(313.91239 740.468761)scale(0.18 -0.18)\">\r\n       <use xlink:href=\"#Lohit-Telugu-3128\"/>\r\n      </g>\r\n     </g>\r\n    </g>\r\n    <g id=\"ytick_48\">\r\n     <g id=\"line2d_111\">\r\n      <g>\r\n       <use style=\"stroke:#000000;stroke-width:0.8;\" x=\"331.28489\" xlink:href=\"#m48029d163c\" y=\"752.022794\"/>\r\n      </g>\r\n     </g>\r\n     <g id=\"text_111\">\r\n      <!-- ి -->\r\n      <g transform=\"translate(324.28489 758.017638)scale(0.18 -0.18)\">\r\n       <use xlink:href=\"#Lohit-Telugu-3135\"/>\r\n      </g>\r\n     </g>\r\n    </g>\r\n    <g id=\"ytick_49\">\r\n     <g id=\"line2d_112\">\r\n      <g>\r\n       <use style=\"stroke:#000000;stroke-width:0.8;\" x=\"331.28489\" xlink:href=\"#m48029d163c\" y=\"769.606828\"/>\r\n      </g>\r\n     </g>\r\n     <g id=\"text_112\">\r\n      <!-- న -->\r\n      <g transform=\"translate(313.63114 775.58339)scale(0.18 -0.18)\">\r\n       <use xlink:href=\"#Lohit-Telugu-3112\"/>\r\n      </g>\r\n     </g>\r\n    </g>\r\n   </g>\r\n   <g id=\"patch_38\">\r\n    <path d=\"M 331.28489 778.398845 \r\nL 331.28489 602.558508 \r\n\" style=\"fill:none;stroke:#000000;stroke-linecap:square;stroke-linejoin:miter;stroke-width:0.8;\"/>\r\n   </g>\r\n   <g id=\"patch_39\">\r\n    <path d=\"M 577.46136 778.398845 \r\nL 577.46136 602.558508 \r\n\" style=\"fill:none;stroke:#000000;stroke-linecap:square;stroke-linejoin:miter;stroke-width:0.8;\"/>\r\n   </g>\r\n   <g id=\"patch_40\">\r\n    <path d=\"M 331.28489 778.398845 \r\nL 577.46136 778.398845 \r\n\" style=\"fill:none;stroke:#000000;stroke-linecap:square;stroke-linejoin:miter;stroke-width:0.8;\"/>\r\n   </g>\r\n   <g id=\"patch_41\">\r\n    <path d=\"M 331.28489 602.558508 \r\nL 577.46136 602.558508 \r\n\" style=\"fill:none;stroke:#000000;stroke-linecap:square;stroke-linejoin:miter;stroke-width:0.8;\"/>\r\n   </g>\r\n  </g>\r\n  <g id=\"axes_9\">\r\n   <g id=\"patch_42\">\r\n    <path d=\"M 649.858419 810.390441 \r\nL 849.71136 810.390441 \r\nL 849.71136 570.566912 \r\nL 649.858419 570.566912 \r\nz\r\n\" style=\"fill:#ffffff;\"/>\r\n   </g>\r\n   <g clip-path=\"url(#p39c16d35fb)\">\r\n    <image height=\"240\" id=\"image78546ce612\" transform=\"scale(1 -1)translate(0 -240)\" width=\"200\" x=\"649.858419\" xlink:href=\"data:image/png;base64,\r\niVBORw0KGgoAAAANSUhEUgAAAMgAAADwCAYAAABFcSteAAADr0lEQVR4nO3dPS51CxiG4e2n2REVA9BpVLbCCFRqNY0JqMzANLRmoJIvwTxMQKtAvjODOznx5pDjugbwZBX73m+1stYWi8XfBXyT9fX10b3Pz8/Rvdmng/8ZgUAQCASBQBAIBIFAEAgEgUAQCASBQBAIBIFAEAgEgUAQCASBQBAIBIFAEAiEze9+AH63u7u70b3VajW654JAEAgEgUAQCASBQBAIBIFAEAgEgUAQCASBQBAIBIFAEAgEgUAQCASBQBAIBIFAWFv4Tjr/wsbGxuje6enp6N75+fnongsCQSAQBAJBIBAEAkEgEAQCQSAQBAJBIBAEAkEgEAQCQSAQBAJBIBAEAkEgEAQCwXfSv2i5XI7uvb29je5NOzs7G927uroa3Ts6Ohrdc0EgCASCQCAIBIJAIAgEgkAgCASCQCAIBIJAIAgEgkAgCASCQCAIBIJAIAgEgkAgeCf9i376O+R7e3uje+vrs/+pDw8Po3ubm7M/aRcEgkAgCASCQCAIBIJAIAgEgkAgCASCQCAIBIJAIAgEgkAgCASCQCAIBIJAIAgEwtpisfj73Q/xX9rZ2RndOzg4GN17fHwc3dva2hrdm36+1Wo1uvf+/j6654JAEAgEgUAQCASBQBAIBIFAEAgEgUAQCASBQBAIBIFAEAgEgUAQCASBQBAIBIFA+HXfST88PBzdm/5O+vb29ujexcXF6N7l5eXo3sfHx+jeNBcEgkAgCASCQCAIBIJAIAgEgkAgCASCQCAIBIJAIAgEgkAgCASCQCAIBIJAIAgEwq/7Tvrz8/Po3p8/f0b3rq+vR/f4GhcEgkAgCASCQCAIBIJAIAgEgkAgCASCQCAIBIJAIAgEgkAgCASCQCAIBIJAIAgEwvh30pfL5eje8fHx6N7W1tbo3u3t7egeP4sLAkEgEAQCQSAQBAJBIBAEAkEgEAQCQSAQBAJBIBAEAkEgEAQCQSAQBAJBIBAEAmH8nfTpd75fXl5G915fX0f3dnd3R/f4WVwQCAKBIBAIAoEgEAgCgSAQCAKBIBAIAoEgEAgCgSAQCAKBIBAIAoEgEAgCgSAQCJsbGxujg09PT6N7Nzc3o3snJyeje+/v76N7/CwuCASBQBAIBIFAEAgEgUAQCASBQBAIBIFAEAgEgUAQCASBQBAIBIFAEAgEgUAQCITN+/v70cH9/f3RPfhOLggEgUAQCASBQBAIBIFAEAgEgUAQCASBQBAIBIFAEAgEgUAQCASBQBAIBIFAEAiEfwBlekPkdjJbhAAAAABJRU5ErkJggg==\" y=\"-570.390441\"/>\r\n   </g>\r\n   <g id=\"matplotlib.axis_17\">\r\n    <g id=\"xtick_64\">\r\n     <g id=\"line2d_113\">\r\n      <g>\r\n       <use style=\"stroke:#000000;stroke-width:0.8;\" x=\"659.851066\" xlink:href=\"#mfcb646803b\" y=\"810.390441\"/>\r\n      </g>\r\n     </g>\r\n     <g id=\"text_113\">\r\n      <!-- s -->\r\n      <g transform=\"translate(657.246379 824.988879)scale(0.1 -0.1)\">\r\n       <use xlink:href=\"#DejaVuSans-115\"/>\r\n      </g>\r\n     </g>\r\n    </g>\r\n    <g id=\"xtick_65\">\r\n     <g id=\"line2d_114\">\r\n      <g>\r\n       <use style=\"stroke:#000000;stroke-width:0.8;\" x=\"679.83636\" xlink:href=\"#mfcb646803b\" y=\"810.390441\"/>\r\n      </g>\r\n     </g>\r\n     <g id=\"text_114\">\r\n      <!-- i -->\r\n      <g transform=\"translate(678.447298 824.988879)scale(0.1 -0.1)\">\r\n       <use xlink:href=\"#DejaVuSans-105\"/>\r\n      </g>\r\n     </g>\r\n    </g>\r\n    <g id=\"xtick_66\">\r\n     <g id=\"line2d_115\">\r\n      <g>\r\n       <use style=\"stroke:#000000;stroke-width:0.8;\" x=\"699.821654\" xlink:href=\"#mfcb646803b\" y=\"810.390441\"/>\r\n      </g>\r\n     </g>\r\n     <g id=\"text_115\">\r\n      <!-- e -->\r\n      <g transform=\"translate(696.745092 824.988879)scale(0.1 -0.1)\">\r\n       <use xlink:href=\"#DejaVuSans-101\"/>\r\n      </g>\r\n     </g>\r\n    </g>\r\n    <g id=\"xtick_67\">\r\n     <g id=\"line2d_116\">\r\n      <g>\r\n       <use style=\"stroke:#000000;stroke-width:0.8;\" x=\"719.806949\" xlink:href=\"#mfcb646803b\" y=\"810.390441\"/>\r\n      </g>\r\n     </g>\r\n     <g id=\"text_116\">\r\n      <!-- n -->\r\n      <g transform=\"translate(716.638199 824.988879)scale(0.1 -0.1)\">\r\n       <use xlink:href=\"#DejaVuSans-110\"/>\r\n      </g>\r\n     </g>\r\n    </g>\r\n    <g id=\"xtick_68\">\r\n     <g id=\"line2d_117\">\r\n      <g>\r\n       <use style=\"stroke:#000000;stroke-width:0.8;\" x=\"739.792243\" xlink:href=\"#mfcb646803b\" y=\"810.390441\"/>\r\n      </g>\r\n     </g>\r\n     <g id=\"text_117\">\r\n      <!-- y -->\r\n      <g transform=\"translate(736.832868 824.988879)scale(0.1 -0.1)\">\r\n       <use xlink:href=\"#DejaVuSans-121\"/>\r\n      </g>\r\n     </g>\r\n    </g>\r\n    <g id=\"xtick_69\">\r\n     <g id=\"line2d_118\">\r\n      <g>\r\n       <use style=\"stroke:#000000;stroke-width:0.8;\" x=\"759.777537\" xlink:href=\"#mfcb646803b\" y=\"810.390441\"/>\r\n      </g>\r\n     </g>\r\n     <g id=\"text_118\">\r\n      <!-- a -->\r\n      <g transform=\"translate(756.713474 824.988879)scale(0.1 -0.1)\">\r\n       <use xlink:href=\"#DejaVuSans-97\"/>\r\n      </g>\r\n     </g>\r\n    </g>\r\n    <g id=\"xtick_70\">\r\n     <g id=\"line2d_119\">\r\n      <g>\r\n       <use style=\"stroke:#000000;stroke-width:0.8;\" x=\"779.762831\" xlink:href=\"#mfcb646803b\" y=\"810.390441\"/>\r\n      </g>\r\n     </g>\r\n     <g id=\"text_119\">\r\n      <!-- a -->\r\n      <g transform=\"translate(776.698768 824.988879)scale(0.1 -0.1)\">\r\n       <use xlink:href=\"#DejaVuSans-97\"/>\r\n      </g>\r\n     </g>\r\n    </g>\r\n    <g id=\"xtick_71\">\r\n     <g id=\"line2d_120\">\r\n      <g>\r\n       <use style=\"stroke:#000000;stroke-width:0.8;\" x=\"799.748125\" xlink:href=\"#mfcb646803b\" y=\"810.390441\"/>\r\n      </g>\r\n     </g>\r\n     <g id=\"text_120\">\r\n      <!-- n -->\r\n      <g transform=\"translate(796.579375 824.988879)scale(0.1 -0.1)\">\r\n       <use xlink:href=\"#DejaVuSans-110\"/>\r\n      </g>\r\n     </g>\r\n    </g>\r\n    <g id=\"xtick_72\">\r\n     <g id=\"line2d_121\">\r\n      <g>\r\n       <use style=\"stroke:#000000;stroke-width:0.8;\" x=\"819.733419\" xlink:href=\"#mfcb646803b\" y=\"810.390441\"/>\r\n      </g>\r\n     </g>\r\n     <g id=\"text_121\">\r\n      <!-- n -->\r\n      <g transform=\"translate(816.564669 824.988879)scale(0.1 -0.1)\">\r\n       <use xlink:href=\"#DejaVuSans-110\"/>\r\n      </g>\r\n     </g>\r\n    </g>\r\n    <g id=\"xtick_73\">\r\n     <g id=\"line2d_122\">\r\n      <g>\r\n       <use style=\"stroke:#000000;stroke-width:0.8;\" x=\"839.718713\" xlink:href=\"#mfcb646803b\" y=\"810.390441\"/>\r\n      </g>\r\n     </g>\r\n     <g id=\"text_122\">\r\n      <!-- i -->\r\n      <g transform=\"translate(838.329651 824.988879)scale(0.1 -0.1)\">\r\n       <use xlink:href=\"#DejaVuSans-105\"/>\r\n      </g>\r\n     </g>\r\n    </g>\r\n   </g>\r\n   <g id=\"matplotlib.axis_18\">\r\n    <g id=\"ytick_50\">\r\n     <g id=\"line2d_123\">\r\n      <g>\r\n       <use style=\"stroke:#000000;stroke-width:0.8;\" x=\"649.858419\" xlink:href=\"#m48029d163c\" y=\"580.559559\"/>\r\n      </g>\r\n     </g>\r\n     <g id=\"text_123\">\r\n      <!-- స -->\r\n      <g transform=\"translate(632.485919 586.589559)scale(0.18 -0.18)\">\r\n       <use xlink:href=\"#Lohit-Telugu-3128\"/>\r\n      </g>\r\n     </g>\r\n    </g>\r\n    <g id=\"ytick_51\">\r\n     <g id=\"line2d_124\">\r\n      <g>\r\n       <use style=\"stroke:#000000;stroke-width:0.8;\" x=\"649.858419\" xlink:href=\"#m48029d163c\" y=\"600.544853\"/>\r\n      </g>\r\n     </g>\r\n     <g id=\"text_124\">\r\n      <!-- ి -->\r\n      <g transform=\"translate(642.858419 606.539697)scale(0.18 -0.18)\">\r\n       <use xlink:href=\"#Lohit-Telugu-3135\"/>\r\n      </g>\r\n     </g>\r\n    </g>\r\n    <g id=\"ytick_52\">\r\n     <g id=\"line2d_125\">\r\n      <g>\r\n       <use style=\"stroke:#000000;stroke-width:0.8;\" x=\"649.858419\" xlink:href=\"#m48029d163c\" y=\"620.530147\"/>\r\n      </g>\r\n     </g>\r\n     <g id=\"text_125\">\r\n      <!-- య -->\r\n      <g transform=\"translate(621.185294 626.541866)scale(0.18 -0.18)\">\r\n       <use xlink:href=\"#Lohit-Telugu-3119\"/>\r\n      </g>\r\n     </g>\r\n    </g>\r\n    <g id=\"ytick_53\">\r\n     <g id=\"line2d_126\">\r\n      <g>\r\n       <use style=\"stroke:#000000;stroke-width:0.8;\" x=\"649.858419\" xlink:href=\"#m48029d163c\" y=\"640.515441\"/>\r\n      </g>\r\n     </g>\r\n     <g id=\"text_126\">\r\n      <!-- ి -->\r\n      <g transform=\"translate(642.858419 646.510285)scale(0.18 -0.18)\">\r\n       <use xlink:href=\"#Lohit-Telugu-3135\"/>\r\n      </g>\r\n     </g>\r\n    </g>\r\n    <g id=\"ytick_54\">\r\n     <g id=\"line2d_127\">\r\n      <g>\r\n       <use style=\"stroke:#000000;stroke-width:0.8;\" x=\"649.858419\" xlink:href=\"#m48029d163c\" y=\"660.500735\"/>\r\n      </g>\r\n     </g>\r\n     <g id=\"text_127\">\r\n      <!-- య -->\r\n      <g transform=\"translate(621.185294 666.512454)scale(0.18 -0.18)\">\r\n       <use xlink:href=\"#Lohit-Telugu-3119\"/>\r\n      </g>\r\n     </g>\r\n    </g>\r\n    <g id=\"ytick_55\">\r\n     <g id=\"line2d_128\">\r\n      <g>\r\n       <use style=\"stroke:#000000;stroke-width:0.8;\" x=\"649.858419\" xlink:href=\"#m48029d163c\" y=\"680.486029\"/>\r\n      </g>\r\n     </g>\r\n     <g id=\"text_128\">\r\n      <!-- ా -->\r\n      <g transform=\"translate(632.294669 686.480873)scale(0.18 -0.18)\">\r\n       <use xlink:href=\"#Lohit-Telugu-3134\"/>\r\n      </g>\r\n     </g>\r\n    </g>\r\n    <g id=\"ytick_56\">\r\n     <g id=\"line2d_129\">\r\n      <g>\r\n       <use style=\"stroke:#000000;stroke-width:0.8;\" x=\"649.858419\" xlink:href=\"#m48029d163c\" y=\"700.471324\"/>\r\n      </g>\r\n     </g>\r\n     <g id=\"text_129\">\r\n      <!-- న -->\r\n      <g transform=\"translate(632.204669 706.447886)scale(0.18 -0.18)\">\r\n       <use xlink:href=\"#Lohit-Telugu-3112\"/>\r\n      </g>\r\n     </g>\r\n    </g>\r\n    <g id=\"ytick_57\">\r\n     <g id=\"line2d_130\">\r\n      <g>\r\n       <use style=\"stroke:#000000;stroke-width:0.8;\" x=\"649.858419\" xlink:href=\"#m48029d163c\" y=\"720.456618\"/>\r\n      </g>\r\n     </g>\r\n     <g id=\"text_130\">\r\n      <!-- ్ -->\r\n      <g transform=\"translate(642.858419 726.451461)scale(0.18 -0.18)\">\r\n       <use xlink:href=\"#Lohit-Telugu-3149\"/>\r\n      </g>\r\n     </g>\r\n    </g>\r\n    <g id=\"ytick_58\">\r\n     <g id=\"line2d_131\">\r\n      <g>\r\n       <use style=\"stroke:#000000;stroke-width:0.8;\" x=\"649.858419\" xlink:href=\"#m48029d163c\" y=\"740.441912\"/>\r\n      </g>\r\n     </g>\r\n     <g id=\"text_131\">\r\n      <!-- న -->\r\n      <g transform=\"translate(632.204669 746.418474)scale(0.18 -0.18)\">\r\n       <use xlink:href=\"#Lohit-Telugu-3112\"/>\r\n      </g>\r\n     </g>\r\n    </g>\r\n    <g id=\"ytick_59\">\r\n     <g id=\"line2d_132\">\r\n      <g>\r\n       <use style=\"stroke:#000000;stroke-width:0.8;\" x=\"649.858419\" xlink:href=\"#m48029d163c\" y=\"760.427206\"/>\r\n      </g>\r\n     </g>\r\n     <g id=\"text_132\">\r\n      <!-- ి -->\r\n      <g transform=\"translate(642.858419 766.42205)scale(0.18 -0.18)\">\r\n       <use xlink:href=\"#Lohit-Telugu-3135\"/>\r\n      </g>\r\n     </g>\r\n    </g>\r\n    <g id=\"ytick_60\">\r\n     <g id=\"line2d_133\">\r\n      <g>\r\n       <use style=\"stroke:#000000;stroke-width:0.8;\" x=\"649.858419\" xlink:href=\"#m48029d163c\" y=\"780.4125\"/>\r\n      </g>\r\n     </g>\r\n     <g id=\"text_133\">\r\n      <!-- న -->\r\n      <g transform=\"translate(632.204669 786.389062)scale(0.18 -0.18)\">\r\n       <use xlink:href=\"#Lohit-Telugu-3112\"/>\r\n      </g>\r\n     </g>\r\n    </g>\r\n    <g id=\"ytick_61\">\r\n     <g id=\"line2d_134\">\r\n      <g>\r\n       <use style=\"stroke:#000000;stroke-width:0.8;\" x=\"649.858419\" xlink:href=\"#m48029d163c\" y=\"800.397794\"/>\r\n      </g>\r\n     </g>\r\n     <g id=\"text_134\">\r\n      <!-- ి -->\r\n      <g transform=\"translate(642.858419 806.392638)scale(0.18 -0.18)\">\r\n       <use xlink:href=\"#Lohit-Telugu-3135\"/>\r\n      </g>\r\n     </g>\r\n    </g>\r\n   </g>\r\n   <g id=\"patch_43\">\r\n    <path d=\"M 649.858419 810.390441 \r\nL 649.858419 570.566912 \r\n\" style=\"fill:none;stroke:#000000;stroke-linecap:square;stroke-linejoin:miter;stroke-width:0.8;\"/>\r\n   </g>\r\n   <g id=\"patch_44\">\r\n    <path d=\"M 849.71136 810.390441 \r\nL 849.71136 570.566912 \r\n\" style=\"fill:none;stroke:#000000;stroke-linecap:square;stroke-linejoin:miter;stroke-width:0.8;\"/>\r\n   </g>\r\n   <g id=\"patch_45\">\r\n    <path d=\"M 649.858419 810.390441 \r\nL 849.71136 810.390441 \r\n\" style=\"fill:none;stroke:#000000;stroke-linecap:square;stroke-linejoin:miter;stroke-width:0.8;\"/>\r\n   </g>\r\n   <g id=\"patch_46\">\r\n    <path d=\"M 649.858419 570.566912 \r\nL 849.71136 570.566912 \r\n\" style=\"fill:none;stroke:#000000;stroke-linecap:square;stroke-linejoin:miter;stroke-width:0.8;\"/>\r\n   </g>\r\n  </g>\r\n </g>\r\n <defs>\r\n  <clipPath id=\"p4688466ad9\">\r\n   <rect height=\"211.008403\" width=\"246.176471\" x=\"35.873125\" y=\"9.398004\"/>\r\n  </clipPath>\r\n  <clipPath id=\"p1bdad42f50\">\r\n   <rect height=\"184.632353\" width=\"246.176471\" x=\"331.28489\" y=\"22.586029\"/>\r\n  </clipPath>\r\n  <clipPath id=\"pd813b89169\">\r\n   <rect height=\"215.404412\" width=\"246.176471\" x=\"626.696654\" y=\"7.2\"/>\r\n  </clipPath>\r\n  <clipPath id=\"pcdd84eeb77\">\r\n   <rect height=\"184.632353\" width=\"246.176471\" x=\"35.873125\" y=\"310.374265\"/>\r\n  </clipPath>\r\n  <clipPath id=\"pe4fbb61c5f\">\r\n   <rect height=\"196.941176\" width=\"246.176471\" x=\"331.28489\" y=\"304.219853\"/>\r\n  </clipPath>\r\n  <clipPath id=\"p40258a228d\">\r\n   <rect height=\"196.941176\" width=\"246.176471\" x=\"626.696654\" y=\"304.219853\"/>\r\n  </clipPath>\r\n  <clipPath id=\"p028cf6a010\">\r\n   <rect height=\"184.632353\" width=\"246.176471\" x=\"35.873125\" y=\"598.1625\"/>\r\n  </clipPath>\r\n  <clipPath id=\"p6265ecba7b\">\r\n   <rect height=\"175.840336\" width=\"246.176471\" x=\"331.28489\" y=\"602.558508\"/>\r\n  </clipPath>\r\n  <clipPath id=\"p39c16d35fb\">\r\n   <rect height=\"239.823529\" width=\"199.852941\" x=\"649.858419\" y=\"570.566912\"/>\r\n  </clipPath>\r\n </defs>\r\n</svg>\r\n",
      "image/png": "[encoded data removed]"
     },
     "metadata": {
      "needs_background": "light"
     }
    }
   ],
   "source": [
    "# coding: utf-8\n",
    "from matplotlib.font_manager import FontProperties\n",
    "\n",
    "random_indexes = []\n",
    "# outputs = []\n",
    "# inputs = []\n",
    "for i in range(9):\n",
    "    a = np.random.randint(0,len(test_outputs))\n",
    "    random_indexes.append(a)\n",
    "fig = plt.figure(figsize = (15,15))\n",
    "x = 1\n",
    "for i in range(9):\n",
    "    accruracy , z, attention = beam_evaluate_single(test_input_tensor,test_outputs,random_indexes[i],1,enc_model,dec_model,'LSTM')\n",
    "    # print(attention)\n",
    "    attention = np.asarray(np.asarray(attention)[:,0,:])\n",
    "    s = attention.shape\n",
    "    attention = attention.reshape(s[0],s[2])[:,:s[0]]\n",
    "    plt.subplot(3,3,x)\n",
    "    # print(attention.shape,attention)\n",
    "    for a, b in z:\n",
    "        decoded_word = a[1:-1]\n",
    "        expected_word = b \n",
    "    input_word = test_inputs[random_indexes[i]]\n",
    "    print(len(input_word),input_word)\n",
    "    print(len(decoded_word),decoded_word)\n",
    "    attention = attention[:len(decoded_word),:len(input_word)]\n",
    "    print(attention)\n",
    "    plt.imshow(attention,cmap='gray')\n",
    "    font_prop = FontProperties(fname='Lohit-Telugu.ttf', size=18)\n",
    "   \n",
    "    # plt.xlim(len(input_word))\n",
    "    # plt.ylim(len(input_word))\n",
    "    labels = []\n",
    "    for s in decoded_word:\n",
    "        labels.append(s)\n",
    "\n",
    "    plt.yticks(range(len(labels)),labels,fontproperties = font_prop)\n",
    "    plt.xticks(range(len(input_word)),input_word)\n",
    "    x+=1\n",
    "    \n",
    "    \n",
    "\n"
   ]
  },
  {
   "source": [
    "# Visualization"
   ],
   "cell_type": "markdown",
   "metadata": {}
  },
  {
   "cell_type": "code",
   "execution_count": 52,
   "metadata": {},
   "outputs": [],
   "source": [
    "from textualheatmap import TextualHeatmap"
   ]
  },
  {
   "cell_type": "code",
   "execution_count": 136,
   "metadata": {},
   "outputs": [
    {
     "output_type": "stream",
     "name": "stdout",
     "text": [
      "\"\n"
     ]
    }
   ],
   "source": [
    "import math\n",
    "def data_string1(attention,output,input):\n",
    "    ## attention shape len(output) x len(input)  \n",
    "    data = []\n",
    "    dic_list = []\n",
    "    for i in range(len(output)):\n",
    "        l = []\n",
    "        a = []\n",
    "        for j in range(len(input)):\n",
    "            a.append((-math.log(attention[i][j]),input[j]))\n",
    "        a.sort()\n",
    "        m = []\n",
    "        for j in range(4):\n",
    "            if a[j][0] <= 3:\n",
    "                m.append(a[j][1])\n",
    "        d = dict()\n",
    "        d[\"token\"] =  output[i]\n",
    "        d[\"meta\"] = m\n",
    "        d[\"heat\"] = [1.0]\n",
    "        d1 = dict()\n",
    "        d1[\"token\"] = ' '\n",
    "        d1[\"format\"] = False\n",
    "        dic_list.append(d)\n",
    "        dic_list.append(d1)\n",
    "    data.append(dic_list)\n",
    "    return data\n",
    "    "
   ]
  },
  {
   "cell_type": "code",
   "execution_count": 83,
   "metadata": {},
   "outputs": [
    {
     "output_type": "stream",
     "name": "stdout",
     "text": [
      "{'\\t': 1, '\\n': 2, 'ం': 3, 'ః': 4, 'అ': 5, 'ఆ': 6, 'ఇ': 7, 'ఈ': 8, 'ఉ': 9, 'ఊ': 10, 'ఋ': 11, 'ఎ': 12, 'ఏ': 13, 'ఐ': 14, 'ఒ': 15, 'ఓ': 16, 'ఔ': 17, 'క': 18, 'ఖ': 19, 'గ': 20, 'ఘ': 21, 'చ': 22, 'ఛ': 23, 'జ': 24, 'ఝ': 25, 'ఞ': 26, 'ట': 27, 'ఠ': 28, 'డ': 29, 'ఢ': 30, 'ణ': 31, 'త': 32, 'థ': 33, 'ద': 34, 'ధ': 35, 'న': 36, 'ప': 37, 'ఫ': 38, 'బ': 39, 'భ': 40, 'మ': 41, 'య': 42, 'ర': 43, 'ఱ': 44, 'ల': 45, 'ళ': 46, 'వ': 47, 'శ': 48, 'ష': 49, 'స': 50, 'హ': 51, 'ా': 52, 'ి': 53, 'ీ': 54, 'ు': 55, 'ూ': 56, 'ృ': 57, 'ె': 58, 'ే': 59, 'ై': 60, 'ొ': 61, 'ో': 62, 'ౌ': 63, '్': 64, '\\u200c': 65}\n"
     ]
    }
   ],
   "source": [
    "print(output_index)"
   ]
  },
  {
   "cell_type": "code",
   "execution_count": 92,
   "metadata": {},
   "outputs": [],
   "source": [
    "\n",
    "def data_string2(attention,output,input):\n",
    "    ## attention shape len(output) x len(input)  \n",
    "    data = []\n",
    "    dic_list = []\n",
    "    i = 0\n",
    "    while i < (len(output)):\n",
    "        token = output[i]\n",
    "        a = []\n",
    "        for j in range(len(input)):\n",
    "            a.append((-math.log(attention[i][j]),input[j]))\n",
    "        a.sort()\n",
    "        m = []\n",
    "        \n",
    "        mst = \"Core: \"\n",
    "        for j in range(4):\n",
    "            if a[j][0] <= 3:\n",
    "                mst = mst + a[j][1] + \" \"\n",
    "        m.append(mst)\n",
    "        while(  ( (i+1)<len(output) ) and ( output_index[output[i+1]] < 5 or output_index[output[i+1]] > 51) ):\n",
    "            i+=1\n",
    "            token += output[i]\n",
    "            a = []\n",
    "            for j in range(len(input)):\n",
    "                a.append((-math.log(attention[i][j]),input[j]))\n",
    "            a.sort()\n",
    "            mst = output[i] + \": \"\n",
    "            for j in range(4):\n",
    "                if a[j][0] <= 3:\n",
    "                    mst = mst + a[j][1] + \" \"\n",
    "            m.append(mst)\n",
    "\n",
    "        d = dict()\n",
    "        d[\"token\"] =  token\n",
    "        d[\"meta\"] = m\n",
    "        d[\"heat\"] = [1.0]\n",
    "        d1 = dict()\n",
    "        d1[\"token\"] = ' '\n",
    "        d1[\"format\"] = True\n",
    "        dic_list.append(d)\n",
    "        i+=1\n",
    "        dic_list.append(d1)\n",
    "    data.append(dic_list)\n",
    "    return data\n",
    "\n"
   ]
  },
  {
   "cell_type": "code",
   "execution_count": 93,
   "metadata": {},
   "outputs": [
    {
     "output_type": "stream",
     "name": "stderr",
     "text": [
      "C:\\Users\\HP\\AppData\\Local\\Programs\\Python\\Python37\\lib\\site-packages\\tensorflow\\python\\data\\ops\\dataset_ops.py:3504: UserWarning: Even though the tf.config.experimental_run_functions_eagerly option is set, this option does not apply to tf.data functions. tf.data functions are still traced and executed as graphs.\n",
      "  \"Even though the tf.config.experimental_run_functions_eagerly \"\n",
      "7 karakhi\n",
      "4 కరకీ\n",
      "[[{'token': 'క', 'meta': ['Core: k '], 'heat': [1.0]}, {'token': ' ', 'format': True}, {'token': 'ర', 'meta': ['Core: r a k '], 'heat': [1.0]}, {'token': ' ', 'format': True}, {'token': 'కీ', 'meta': ['Core: k ', 'ీ: i '], 'heat': [1.0]}, {'token': ' ', 'format': True}]]\n"
     ]
    },
    {
     "output_type": "display_data",
     "data": {
      "text/plain": "<IPython.core.display.HTML object>",
      "text/html": "<style>.textual-heatmap .facet {\n  display: grid;\n  grid-template-columns: 1fr 60px;\n  grid-template-rows: 40px auto;\n  grid-template-areas:\n    \"meta-content .\"\n    \"token-content facet-title\";\n  margin-bottom: 0.5em;\n}\n\n.textual-heatmap .facet.hide-meta-content {\n  grid-template-rows: auto;\n  grid-template-areas:\n    \"token-content facet-title\";\n}\n\n.textual-heatmap .facet .token-content {\n  grid-area: token-content;\n\n  font-family: monospace;\n  padding: 0.5em;\n  box-sizing: border-box;\n  background: #365d8d;\n  color: white;\n  line-height: 1.4em;\n  border-radius: 0 0 0 5px;\n}\n\n.textual-heatmap .facet.hide-meta-content .token-content {\n    border-radius: 5px 0 0 5px;\n}\n\n.textual-heatmap .facet .token-content span {\n  border-bottom: 0.2em solid transparent;\n  white-space: pre-wrap;\n}\n\n.textual-heatmap .facet .token-content span.selected {\n  border-bottom-color: white;\n}\n\n.textual-heatmap .facet .meta-content {\n  grid-area: meta-content;\n  display: grid;\n  grid-template-columns: repeat(auto-fit, minmax(0px, 1fr));\n  grid-column-gap: 2px;\n  align-items: center;\n}\n\n.textual-heatmap .facet.hide-meta-content .meta-content {\n    display: none;\n}\n\n.textual-heatmap .facet .meta-content .meta-content-item {\n  display: flex;\n  justify-content: center;\n  align-items: center;\n  padding: 0 5px;\n  height: 39px;\n  background: #F3F3F3;\n  border: 1px solid #E0E0E0;\n  color: black;\n  border-bottom: none;\n  text-overflow: ellipsis;\n  overflow: hidden;\n}\n\n.textual-heatmap .facet .meta-content .meta-content-item:first-of-type {\n    border-radius: 5px 0 0 0;\n}\n\n.textual-heatmap .facet .meta-content .meta-content-item:last-of-type {\n    border-radius: 0 5px 0 0;\n}\n\n.textual-heatmap .facet .meta-content .meta-content-item:first-of-type:last-of-type {\n    border-radius: 5px 5px 0 0;\n}\n\n.textual-heatmap .facet .facet-title {\n  grid-area: facet-title;\n\n  display: flex;\n  max-width: 60px;\n  background: #EEEEEE;\n  justify-content: center;\n  color: #555555;\n  border-radius: 0 5px 5px 0;\n  border: 1px solid #E0E0E0;\n  border-left: none;\n}\n\n.textual-heatmap .facet .facet-title span {\n  align-self: center;\n  display: inline-block;\n  transform-origin: center center;\n  line-height: 1em;\n  text-align: center;\n}\n\n.textual-heatmap .facet.rotate-facet-title .facet-title span {\n  transform: translate(0, 0) rotate(90deg);\n}</style><script>;(function () {\n    'use strict';\n\n    function viridisSubset(ratio) {\n        const colormap = [\n            '#365d8d', '#355e8d', '#355f8d', '#34608d', '#34618d',\n            '#33628d', '#33638d', '#32648e', '#32658e', '#31668e',\n            '#31678e', '#31688e', '#30698e', '#306a8e', '#2f6b8e',\n            '#2f6c8e', '#2e6d8e', '#2e6e8e', '#2e6f8e', '#2d708e',\n            '#2d718e', '#2c718e', '#2c728e', '#2c738e', '#2b748e',\n            '#2b758e', '#2a768e', '#2a778e', '#2a788e', '#29798e',\n            '#297a8e', '#297b8e', '#287c8e', '#287d8e', '#277e8e',\n            '#277f8e', '#27808e', '#26818e', '#26828e', '#26828e',\n            '#25838e', '#25848e', '#25858e', '#24868e', '#24878e',\n            '#23888e', '#23898e', '#238a8d', '#228b8d', '#228c8d',\n            '#228d8d', '#218e8d', '#218f8d', '#21908d', '#21918c',\n            '#20928c', '#20928c', '#20938c', '#1f948c', '#1f958b',\n            '#1f968b', '#1f978b', '#1f988b', '#1f998a', '#1f9a8a',\n            '#1e9b8a', '#1e9c89', '#1e9d89', '#1f9e89', '#1f9f88',\n            '#1fa088', '#1fa188', '#1fa187', '#1fa287', '#20a386',\n            '#20a486', '#21a585', '#21a685', '#22a785', '#22a884',\n            '#23a983', '#24aa83', '#25ab82', '#25ac82', '#26ad81',\n            '#27ad81', '#28ae80', '#29af7f', '#2ab07f', '#2cb17e',\n            '#2db27d', '#2eb37c', '#2fb47c', '#31b57b', '#32b67a',\n            '#34b679', '#35b779'\n        ];\n        const n = colormap.length - 1;\n        return colormap[Math.max(0, Math.min(n, Math.floor(ratio * n)))];\n    }\n\n    class TextualHeatmap {\n        constructor(settings) {\n            this.container = document.getElementById(settings.id);\n            this.container.style.width = settings.width + 'px';\n            this.facets = settings.facetTitles\n                .map((facetName) => new TextualHeatmapFacet(settings, this.container, facetName));\n\n            for (let i = 0; i < this.facets.length; i++) {\n                this.facets[i].onmouseover = this.highlight.bind(this);\n            }\n        }\n\n        setData(data) {\n            for (let i = 0; i < this.facets.length; i++) {\n                this.facets[i].setData(data[i]);\n            }\n        }\n\n        highlight(index) {\n            for (let i = 0; i < this.facets.length; i++) {\n                this.facets[i].highlight(index);\n            }\n        }\n    }\n\n    class TextualHeatmapFacet {\n        constructor(settings, root, facetName) {\n            this.settings = settings;\n            this.highlightIndex = null;\n            this.nonFormatData = [];\n            this.heatIndexToNodeElement = [];\n            this.root = root;\n            this.onmouseover = null;\n\n            this.facet = document.createElement('div');\n            this.facet.classList.add('facet');\n            this.facet.classList.toggle('hide-meta-content', !settings.showMeta);\n            this.facet.classList.toggle('rotate-facet-title', settings.rotateFacetTitles);\n            this.root.appendChild(this.facet);\n\n            this.meta = document.createElement('div');\n            this.meta.classList.add('meta-content');\n            this.facet.appendChild(this.meta);\n\n            const item = document.createElement('div');\n            item.classList.add('meta-content-item');\n            this.meta.appendChild(item);\n\n            this.content = document.createElement('div');\n            this.content.classList.add('token-content');\n            this.facet.appendChild(this.content);\n\n            this.title = document.createElement('div');\n            this.title.classList.add('facet-title');\n            const titleSpan = document.createElement('span');\n            titleSpan.appendChild(document.createTextNode(facetName));\n            this.title.appendChild(titleSpan);\n            this.facet.appendChild(this.title);\n        }\n\n        setData(data) {\n            this.nonFormatData = [];\n            this.heatIndexToNodeElement = []\n\n            while (this.content.childNodes.length > 0) {\n                this.content.removeChild(this.content.firstChild);\n            }\n\n            for (let i = 0; i < data.length; i++) {\n                const tokenNode = document.createElement('span');\n                const heatIndex = this.heatIndexToNodeElement.length;\n                tokenNode.appendChild(document.createTextNode(data[i].token));\n                if (this.settings.interactive && !data[i].format) {\n                    tokenNode.addEventListener('mouseover', () => this.onmouseover(heatIndex), false);\n                    this.heatIndexToNodeElement.push(tokenNode)\n                    this.nonFormatData.push(data[i])\n                }\n                this.content.appendChild(tokenNode);\n            }\n\n            if (this.highlightIndex !== null) {\n                this.highlight(this.highlightIndex);\n            }\n        }\n\n        highlight(index) {\n            this.highlightIndex = index;\n\n            for (let i = 0; i < this.heatIndexToNodeElement.length; i++) {\n                this.heatIndexToNodeElement[i].style.backgroundColor = viridisSubset(this.nonFormatData[index].heat[i]);\n                this.heatIndexToNodeElement[i].classList.toggle('selected', i === index);\n            }\n\n            if (this.settings.showMeta) {\n                while (this.meta.childNodes.length > 0) {\n                    this.meta.removeChild(this.meta.firstChild);\n                }\n\n                for (let i = 0; i < this.nonFormatData[index].meta.length; i++) {\n                    const item = document.createElement('div');\n                    item.classList.add('meta-content-item');\n                    item.appendChild(document.createTextNode(this.nonFormatData[index].meta[i]));\n                    this.meta.appendChild(item);\n                }\n\n                if (this.nonFormatData[index].meta.length === 0) {\n                    const item = document.createElement('div');\n                    item.classList.add('meta-content-item');\n                    this.meta.appendChild(item);\n                }\n            }\n        }\n    }\n\n    window.setupTextualHeatmap = function (settings) {\n        document.getElementById(settings.id).instance = new TextualHeatmap(settings);\n    };\n\n    window.setDataTextualHeatmap = function (settings, data) {\n        document.getElementById(settings.id).instance.setData(data);\n    };\n\n    window.highlightTextualHeatmap = function (settings, index) {\n        document.getElementById(settings.id).instance.highlight(index);\n    };\n})();</script><div id=\"43fc6880-367c-422d-8ff7-54d08815e43f\" class=\"textual-heatmap\"></div><script>  window.setupTextualHeatmap({\"id\": \"43fc6880-367c-422d-8ff7-54d08815e43f\", \"width\": 600, \"showMeta\": true, \"facetTitles\": [\"Vis\"], \"rotateFacetTitles\": false, \"interactive\": true});</script>"
     },
     "metadata": {}
    },
    {
     "output_type": "display_data",
     "data": {
      "text/plain": "<IPython.core.display.HTML object>",
      "text/html": "<script>  window.setDataTextualHeatmap({\"id\": \"43fc6880-367c-422d-8ff7-54d08815e43f\", \"width\": 600, \"showMeta\": true, \"facetTitles\": [\"Vis\"], \"rotateFacetTitles\": false, \"interactive\": true}, [[{\"token\": \"\\u0c15\", \"meta\": [\"Core: k \"], \"heat\": [1.0]}, {\"token\": \" \", \"format\": true}, {\"token\": \"\\u0c30\", \"meta\": [\"Core: r a k \"], \"heat\": [1.0]}, {\"token\": \" \", \"format\": true}, {\"token\": \"\\u0c15\\u0c40\", \"meta\": [\"Core: k \", \"\\u0c40: i \"], \"heat\": [1.0]}, {\"token\": \" \", \"format\": true}]]);</script>"
     },
     "metadata": {}
    },
    {
     "output_type": "display_data",
     "data": {
      "text/plain": "<IPython.core.display.HTML object>",
      "text/html": "<script>  window.highlightTextualHeatmap({\"id\": \"43fc6880-367c-422d-8ff7-54d08815e43f\", \"width\": 600, \"showMeta\": true, \"facetTitles\": [\"Vis\"], \"rotateFacetTitles\": false, \"interactive\": true}, 159);</script>"
     },
     "metadata": {}
    }
   ],
   "source": [
    "# coding: utf-8\n",
    "from matplotlib.font_manager import FontProperties\n",
    "\n",
    "random_indexes = []\n",
    "# outputs = []\n",
    "# inputs = []\n",
    "for i in range(9):\n",
    "    a = np.random.randint(0,len(test_outputs))\n",
    "    random_indexes.append(a)\n",
    "fig = plt.figure(figsize = (15,15))\n",
    "x = 1\n",
    "for i in range(1):\n",
    "    accruracy , z, attention = beam_evaluate_single(test_input_tensor,test_outputs,random_indexes[i],1,enc_model,dec_model,'LSTM')\n",
    "    # print(attention)\n",
    "    attention = np.asarray(np.asarray(attention)[:,0,:])\n",
    "    s = attention.shape\n",
    "    attention = attention.reshape(s[0],s[2])[:,:s[0]]\n",
    "    # plt.subplot(3,3,x)\n",
    "    # print(attention.shape,attention)\n",
    "    for a, b in z:\n",
    "        decoded_word = a[1:-1]\n",
    "        expected_word = b \n",
    "    input_word = test_inputs[random_indexes[i]]\n",
    "    print(len(input_word),input_word)\n",
    "    print(len(decoded_word),decoded_word)\n",
    "    attention = attention[:len(decoded_word),:len(input_word)]\n",
    "    data = data_string2(attention,decoded_word,input_word)\n",
    "    print(data)\n",
    "    heatmap = TextualHeatmap(facet_titles = ['Vis'], show_meta=True)\n",
    "    heatmap.set_data(data)\n",
    "    heatmap.highlight(159)\n",
    "    \n",
    "    \n",
    "\n"
   ]
  },
  {
   "cell_type": "code",
   "execution_count": null,
   "metadata": {},
   "outputs": [],
   "source": []
  },
  {
   "cell_type": "code",
   "execution_count": 124,
   "metadata": {},
   "outputs": [],
   "source": [
    "\n",
    "# get html element\n",
    "def cstr(s, color='black'):\n",
    "\tif s == ' ':\n",
    "\t\treturn \"<text style=color:#000;padding-left:10px;background-color:{}> </text>\".format(color, s)\n",
    "\telse:\n",
    "\t\treturn \"<text style=color:#000;background-color:{}>{} </text>\".format(color, s)\n",
    "\t\n",
    "# print html\n",
    "def print_color(t):\n",
    "\tdisplay(html_print(''.join([cstr(ti, color=ci) for ti,ci in t])))\n",
    "\n",
    "# get appropriate color for value\n",
    "def get_clr(value):\n",
    "\tcolors = ['#85c2e1', '#89c4e2', '#95cae5', '#99cce6', '#a1d0e8'\n",
    "\t\t'#b2d9ec', '#baddee', '#c2e1f0', '#eff7fb', '#f9e8e8',\n",
    "\t\t'#f9e8e8', '#f9d4d4', '#f9bdbd', '#f8a8a8', '#f68f8f',\n",
    "\t\t'#f47676', '#f45f5f', '#f34343', '#f33b3b', '#f42e2e']\n",
    "\tvalue = int((value * 100) / 5)\n",
    "\treturn colors[value]\n",
    "\n",
    "# sigmoid function\n",
    "def sigmoid(x):\n",
    "\tz = 1/(1 + np.exp(-x)) \n",
    "\treturn z"
   ]
  },
  {
   "cell_type": "code",
   "execution_count": null,
   "metadata": {},
   "outputs": [],
   "source": [
    "\n",
    "def visualize(output_values, result_list, cell_no):\n",
    "\tprint(\"\\nCell Number:\", cell_no, \"\\n\")\n",
    "\ttext_colours = []\n",
    "\tfor i in range(len(output_values)):\n",
    "\t\ttext = (result_list[i], get_clr(output_values[i][cell_no]))\n",
    "\t\ttext_colours.append(text)\n",
    "\tprint_color(text_colours)\n"
   ]
  },
  {
   "cell_type": "code",
   "execution_count": null,
   "metadata": {},
   "outputs": [],
   "source": []
  },
  {
   "cell_type": "markdown",
   "id": "d420bcfd",
   "metadata": {},
   "source": [
    "# Wandb Sweep"
   ]
  },
  {
   "cell_type": "code",
   "execution_count": 94,
   "id": "10baf71d",
   "metadata": {},
   "outputs": [
    {
     "name": "stderr",
     "output_type": "stream",
     "text": [
      "wandb: WARNING If you're specifying your api key in code, ensure this code is not shared publically.\n",
      "wandb: WARNING Consider setting the WANDB_API_KEY environment variable, or running `wandb login` from the command line.\n",
      "wandb: Appending key for api.wandb.ai to your netrc file: C:\\Users\\HP/.netrc\n"
     ]
    },
    {
     "data": {
      "text/plain": [
       "True"
      ]
     },
     "execution_count": 94,
     "metadata": {},
     "output_type": "execute_result"
    }
   ],
   "source": [
    "import wandb\n",
    "from wandb.keras import WandbCallback\n",
    "wandb.login(key=\"866040d7d81f67025d43e7d50ecd83d54b6cf977\", relogin=False)"
   ]
  },
  {
   "cell_type": "code",
   "execution_count": 95,
   "id": "093bcd65",
   "metadata": {},
   "outputs": [],
   "source": [
    "sweep_config = {\n",
    "    'method': 'grid', #grid, random\n",
    "    'metric': {\n",
    "      'name': 'val_accuracy',\n",
    "      'goal': 'maximize'   \n",
    "    },\n",
    "    'parameters': {\n",
    "         'beam_size' : {\n",
    "            'values' : [1]\n",
    "        },\n",
    "        'input_embed_size': {\n",
    "            'values' : [32]\n",
    "        },\n",
    "        'hidden_size' : {\n",
    "            'values' : [64]\n",
    "        },\n",
    "        'cell_type' : {\n",
    "            'values' : ['GRU','LSTM','RNN']\n",
    "        },\n",
    "        'dropout' : {\n",
    "            'values' : [0]\n",
    "        },\n",
    "       \n",
    "    }\n",
    "}"
   ]
  },
  {
   "cell_type": "code",
   "execution_count": 97,
   "id": "eab47e14",
   "metadata": {},
   "outputs": [
    {
     "name": "stdout",
     "output_type": "stream",
     "text": [
      "Create sweep with ID: fee428b2\n",
      "Sweep URL: https://wandb.ai/mooizz/Rec_dakhashina/sweeps/fee428b2\n"
     ]
    }
   ],
   "source": [
    "sweep_id = wandb.sweep(sweep_config, entity=\"mooizz\",project=\"Rec_dakhashina\")"
   ]
  },
  {
   "cell_type": "code",
   "execution_count": 98,
   "id": "3bc7ce33",
   "metadata": {},
   "outputs": [],
   "source": [
    "def get_Model(input_embed_size , hidden_size, cell_type, dropout):\n",
    "    charinput = tf.keras.Input(shape=(None,),dtype='float32',name=\"input\")\n",
    "    embedding = tf.keras.layers.Embedding(num_input_chars+1,input_embed_size, name=\"embedding\")(charinput)\n",
    "    \n",
    "    if cell_type == 'LSTM':\n",
    "        encoder = tf.keras.layers.LSTM(hidden_size, return_sequences=True, return_state=True )\n",
    "        encoder_outputs, state_h, state_c = encoder(embedding)\n",
    "        encoder_states = [state_h, state_c]\n",
    "    if cell_type == 'RNN':\n",
    "        encoder = tf.keras.layers.SimpleRNN(hidden_size, return_sequences=True, return_state=True )\n",
    "        encoder_outputs, rnn_state = encoder(embedding)\n",
    "    if cell_type == 'GRU':\n",
    "        encoder = tf.keras.layers.GRU(hidden_size, return_sequences=True, return_state=True )\n",
    "        encoder_outputs, gru_state = encoder(embedding)\n",
    "        \n",
    "    \n",
    "    decoder_inputs = tf.keras.Input(shape=(None,),name=\"decoder_input\")\n",
    "    decoder_embedding = tf.keras.layers.Embedding(num_output_chars + 1,64, name=\"decoder_embedding\",mask_zero=True)(decoder_inputs)\n",
    "    \n",
    "    if cell_type == 'LSTM':\n",
    "        decoder_lstm = tf.keras.layers.LSTM(hidden_size, return_sequences=True, return_state=True)\n",
    "        decoder_outputs, _, _ = decoder_lstm(decoder_embedding, initial_state=encoder_states)\n",
    "    if cell_type == 'RNN':\n",
    "        decoder_rnn = tf.keras.layers.SimpleRNN(hidden_size, return_sequences=True, return_state=True)\n",
    "        decoder_outputs, _ = decoder_rnn(decoder_embedding, initial_state=rnn_state)\n",
    "    if cell_type == 'GRU':\n",
    "        decoder_gru = tf.keras.layers.GRU(hidden_size, return_sequences=True, return_state=True)\n",
    "        decoder_outputs, _ = decoder_gru(decoder_embedding, initial_state=gru_state)\n",
    "    \n",
    "    print(encoder_outputs.shape)\n",
    "    # Attention layer\n",
    "    attn_layer = AttentionLayer(name='attention_layer')\n",
    "    attn_out, attn_states = attn_layer([encoder_outputs, decoder_outputs])\n",
    "\n",
    "    # Concat attention input and decoder GRU output\n",
    "    decoder_concat_input = tf.keras.layers.Concatenate(axis=-1, name='concat_layer')([decoder_outputs, attn_out])\n",
    "\n",
    "    # Dense layer\n",
    "    decoder_dense = tf.keras.layers.Dense(num_output_chars + 1, activation=\"softmax\")\n",
    "    dense_time = tf.keras.layers.TimeDistributed(decoder_dense, name='time_distributed_layer')\n",
    "#     decoder_pred = dense_time(decoder_concat_input)\n",
    "    \n",
    "    decoder_outputs = dense_time(decoder_concat_input)\n",
    "    \n",
    "    model = tf.keras.Model([charinput,decoder_inputs],decoder_outputs)\n",
    "    \n",
    "    \n",
    "    if cell_type == 'LSTM':\n",
    "        encoder_states_attn = [encoder_outputs,state_h,state_c]\n",
    "        encoder_model = tf.keras.Model(charinput, encoder_states_attn)\n",
    "        # define inference decoder\n",
    "    #     decoder_inf_out, decoder_inf_state = decoder_gru(decoder_inf_inputs, initial_state=decoder_init_state)\n",
    "    #     attn_inf_out, attn_inf_states = attn_layer([encoder_inf_states, decoder_inf_out])\n",
    "    #     decoder_inf_concat = Concatenate(axis=-1, name='concat')([decoder_inf_out, attn_inf_out])\n",
    "    #     decoder_inf_pred = TimeDistributed(dense)(decoder_inf_concat)\n",
    "    #     decoder_model = Model(inputs=[encoder_inf_states, decoder_init_state, decoder_inf_inputs],\n",
    "    #                           outputs=[decoder_inf_pred, attn_inf_states, decoder_inf_state])\n",
    "\n",
    "        decoder_state_input_h = tf.keras.Input(shape=(hidden_size,))\n",
    "        decoder_state_input_c = tf.keras.Input(shape=(hidden_size,))\n",
    "        decoder_states_inputs = [decoder_state_input_h, decoder_state_input_c]\n",
    "\n",
    "        encoder_inf_states = tf.keras.Input(shape=(None,hidden_size), name='encoder_inf_states')\n",
    "        decoder_outputs, state_h, state_c = decoder_lstm(decoder_embedding, initial_state=decoder_states_inputs)\n",
    "        attn_inf_out, attn_inf_states = attn_layer([encoder_inf_states, decoder_outputs])\n",
    "        decoder_inf_concat = tf.keras.layers.Concatenate(axis=-1, name='concat')([decoder_outputs, attn_inf_out])\n",
    "        decoder_outputs = tf.keras.layers.TimeDistributed(decoder_dense)(decoder_inf_concat)\n",
    "        decoder_states = [state_h, state_c]\n",
    "\n",
    "        decoder_model = tf.keras.Model([decoder_inputs] + [encoder_inf_states,decoder_state_input_h,decoder_state_input_c]\n",
    "                                       , [decoder_outputs] + decoder_states + [attn_inf_states])\n",
    "    if cell_type == 'GRU':\n",
    "        encoder_states_attn = [encoder_outputs,gru_state]\n",
    "        \n",
    "        encoder_model = tf.keras.Model(charinput, encoder_states_attn)\n",
    "        decoder_state_input_h = tf.keras.Input(shape=(hidden_size,))\n",
    "#         decoder_state_input_c = tf.keras.Input(shape=(hidden_size,))\n",
    "#         decoder_states_inputs = [decoder_state_input_h, decoder_state_input_c]\n",
    "\n",
    "        encoder_inf_states = tf.keras.Input(shape=(None,hidden_size), name='encoder_inf_states')\n",
    "        \n",
    "        decoder_outputs, state_h = decoder_gru(decoder_embedding, initial_state=decoder_state_input_h)\n",
    "        attn_inf_out, attn_inf_states = attn_layer([encoder_inf_states, decoder_outputs])\n",
    "        decoder_inf_concat = tf.keras.layers.Concatenate(axis=-1, name='concat')([decoder_outputs, attn_inf_out])\n",
    "        decoder_outputs = tf.keras.layers.TimeDistributed(decoder_dense)(decoder_inf_concat)\n",
    "#         decoder_states = [state_h, state_c]\n",
    "\n",
    "        decoder_model = tf.keras.Model([decoder_inputs] + [encoder_inf_states,decoder_state_input_h]\n",
    "                                       , [decoder_outputs] + [state_h] + [attn_inf_states])\n",
    "    if cell_type == 'RNN':\n",
    "        encoder_states_attn = [encoder_outputs,rnn_state]\n",
    "        \n",
    "        encoder_model = tf.keras.Model(charinput, encoder_states_attn)\n",
    "        decoder_state_input_h = tf.keras.Input(shape=(hidden_size,))\n",
    "#         decoder_state_input_c = tf.keras.Input(shape=(hidden_size,))\n",
    "#         decoder_states_inputs = [decoder_state_input_h, decoder_state_input_c]\n",
    "\n",
    "        encoder_inf_states = tf.keras.Input(shape=(None,hidden_size), name='encoder_inf_states')\n",
    "        \n",
    "        decoder_outputs, state_h = decoder_rnn(decoder_embedding, initial_state=decoder_state_input_h)\n",
    "        attn_inf_out, attn_inf_states = attn_layer([encoder_inf_states, decoder_outputs])\n",
    "        decoder_inf_concat = tf.keras.layers.Concatenate(axis=-1, name='concat')([decoder_outputs, attn_inf_out])\n",
    "        decoder_outputs = tf.keras.layers.TimeDistributed(decoder_dense)(decoder_inf_concat)\n",
    "#         decoder_states = [state_h, state_c]\n",
    "\n",
    "        decoder_model = tf.keras.Model([decoder_inputs] + [encoder_inf_states,decoder_state_input_h]\n",
    "                                       , [decoder_outputs] + [state_h] + [attn_inf_states])\n",
    "        \n",
    "    return model, encoder_model, decoder_model"
   ]
  },
  {
   "cell_type": "code",
   "execution_count": 99,
   "id": "52f0d7dd",
   "metadata": {},
   "outputs": [],
   "source": [
    "def train():\n",
    "    config_defaults = {\n",
    "        'epochs' : 1,\n",
    "        'batch_size' : 64,\n",
    "        'optimizer' : 'adam',\n",
    "        'beam_size' : 1,\n",
    "        'input_embed_size': 32,\n",
    "        'hidden_size' : 256,\n",
    "        'cell_type' : 'LSTM',\n",
    "        'dropout' : 0,\n",
    "    }\n",
    "    wandb.init(config=config_defaults)\n",
    "    config = wandb.config\n",
    "    model, enc_model, dec_model = get_Model(config.input_embed_size,config.hidden_size,\n",
    "                     config.cell_type,\n",
    "                     config.dropout)\n",
    "    model.compile(\n",
    "    optimizer=\"adam\", loss=\"categorical_crossentropy\", metrics=[\"accuracy\"]\n",
    "    )\n",
    "#     sample_model.summary()\n",
    "    EarlyStopCB = tf.keras.callbacks.EarlyStopping(patience=30, monitor='val_accuracy',\n",
    "                                                  restore_best_weights=True)\n",
    "    tf.config.run_functions_eagerly(True)\n",
    "#     model.fit(\n",
    "#         [input_tensor,decoder_input_data],\n",
    "#         decoder_output_data,\n",
    "#         batch_size=config.batch_size,\n",
    "#         epochs=config.epochs,\n",
    "#         validation_data=(\n",
    "#             [val_input_tensor,decoder_val_input_data],\n",
    "#             decoder_val_output_data\n",
    "#         ),\n",
    "#         shuffle=True,\n",
    "#         callbacks=[WandbCallback(), EarlyStopCB])\n",
    "#     beam_acc , _ = beam_evaluate(test_input_tensor,test_outputs,10,config.beam_size,\n",
    "#                                 enc_model,\n",
    "#                                 dec_model,\n",
    "#                                 config.cell_type)\n",
    "    print(\"Testing\")\n",
    "#     wandb.log({'Test_Acc' : beam_acc})\n",
    "    model.save('models'+os.sep+str(sweep_id)+os.sep+wandb.run.name)"
   ]
  },
  {
   "cell_type": "code",
   "execution_count": 100,
   "id": "0e625837",
   "metadata": {},
   "outputs": [
    {
     "name": "stderr",
     "output_type": "stream",
     "text": [
      "500 response executing GraphQL.\n",
      "{\"errors\":[{\"message\":\"Invalid hyperparameter service response\",\"path\":[\"agentHeartbeat\"]}],\"data\":{\"agentHeartbeat\":null}}\n",
      "wandb: ERROR Error while calling W&B API: Invalid hyperparameter service response (<Response [500]>)\n",
      "wandb: Agent Starting Run: tmb435kr with config:\n",
      "wandb: \tbeam_size: 1\n",
      "wandb: \tcell_type: GRU\n",
      "wandb: \tdropout: 0\n",
      "wandb: \thidden_size: 64\n",
      "wandb: \tinput_embed_size: 32\n",
      "wandb: wandb version 0.10.30 is available!  To upgrade, please run:\n",
      "wandb:  $ pip install wandb --upgrade\n"
     ]
    },
    {
     "data": {
      "text/html": [
       "\n",
       "                Tracking run with wandb version 0.10.21<br/>\n",
       "                Syncing run <strong style=\"color:#cdcd00\">swept-sweep-1</strong> to <a href=\"https://wandb.ai\" target=\"_blank\">Weights & Biases</a> <a href=\"https://docs.wandb.com/integrations/jupyter.html\" target=\"_blank\">(Documentation)</a>.<br/>\n",
       "                Project page: <a href=\"https://wandb.ai/mooizz/Rec_dakhashina\" target=\"_blank\">https://wandb.ai/mooizz/Rec_dakhashina</a><br/>\n",
       "                Sweep page: <a href=\"https://wandb.ai/mooizz/Rec_dakhashina/sweeps/fee428b2\" target=\"_blank\">https://wandb.ai/mooizz/Rec_dakhashina/sweeps/fee428b2</a><br/>\n",
       "Run page: <a href=\"https://wandb.ai/mooizz/Rec_dakhashina/runs/tmb435kr\" target=\"_blank\">https://wandb.ai/mooizz/Rec_dakhashina/runs/tmb435kr</a><br/>\n",
       "                Run data is saved locally in <code>C:\\Users\\HP\\Documents\\DL\\RecurrentNetwork\\wandb\\run-20210515_234658-tmb435kr</code><br/><br/>\n",
       "            "
      ],
      "text/plain": [
       "<IPython.core.display.HTML object>"
      ]
     },
     "metadata": {},
     "output_type": "display_data"
    },
    {
     "name": "stdout",
     "output_type": "stream",
     "text": [
      "(None, None, 64)\n",
      "Testing\n"
     ]
    },
    {
     "name": "stderr",
     "output_type": "stream",
     "text": [
      "wandb: ERROR Error while calling W&B API: Invalid hyperparameter service response (<Response [500]>)\n",
      "wandb: ERROR Error while calling W&B API: Invalid hyperparameter service response (<Response [500]>)\n",
      "wandb: ERROR Error while calling W&B API: Invalid hyperparameter service response (<Response [500]>)\n",
      "WARNING:absl:Found untraced functions such as gru_cell_layer_call_fn, gru_cell_layer_call_and_return_conditional_losses, gru_cell_1_layer_call_fn, gru_cell_1_layer_call_and_return_conditional_losses, gru_cell_layer_call_fn while saving (showing 5 of 10). These functions will not be directly callable after loading.\n",
      "WARNING:absl:Found untraced functions such as gru_cell_layer_call_fn, gru_cell_layer_call_and_return_conditional_losses, gru_cell_1_layer_call_fn, gru_cell_1_layer_call_and_return_conditional_losses, gru_cell_layer_call_fn while saving (showing 5 of 10). These functions will not be directly callable after loading.\n"
     ]
    },
    {
     "name": "stdout",
     "output_type": "stream",
     "text": [
      "INFO:tensorflow:Assets written to: models\\fee428b2\\swept-sweep-1\\assets\n"
     ]
    },
    {
     "name": "stderr",
     "output_type": "stream",
     "text": [
      "INFO:tensorflow:Assets written to: models\\fee428b2\\swept-sweep-1\\assets\n"
     ]
    },
    {
     "data": {
      "text/html": [
       "<br/>Waiting for W&B process to finish, PID 26336<br/>Program ended successfully."
      ],
      "text/plain": [
       "<IPython.core.display.HTML object>"
      ]
     },
     "metadata": {},
     "output_type": "display_data"
    },
    {
     "data": {
      "application/vnd.jupyter.widget-view+json": {
       "model_id": "",
       "version_major": 2,
       "version_minor": 0
      },
      "text/plain": [
       "VBox(children=(Label(value=' 0.00MB of 0.00MB uploaded (0.00MB deduped)\\r'), FloatProgress(value=1.0, max=1.0)…"
      ]
     },
     "metadata": {},
     "output_type": "display_data"
    },
    {
     "data": {
      "text/html": [
       "Find user logs for this run at: <code>C:\\Users\\HP\\Documents\\DL\\RecurrentNetwork\\wandb\\run-20210515_234658-tmb435kr\\logs\\debug.log</code>"
      ],
      "text/plain": [
       "<IPython.core.display.HTML object>"
      ]
     },
     "metadata": {},
     "output_type": "display_data"
    },
    {
     "data": {
      "text/html": [
       "Find internal logs for this run at: <code>C:\\Users\\HP\\Documents\\DL\\RecurrentNetwork\\wandb\\run-20210515_234658-tmb435kr\\logs\\debug-internal.log</code>"
      ],
      "text/plain": [
       "<IPython.core.display.HTML object>"
      ]
     },
     "metadata": {},
     "output_type": "display_data"
    },
    {
     "data": {
      "text/html": [
       "Synced 5 W&B file(s), 0 media file(s), 0 artifact file(s) and 0 other file(s)"
      ],
      "text/plain": [
       "<IPython.core.display.HTML object>"
      ]
     },
     "metadata": {},
     "output_type": "display_data"
    },
    {
     "data": {
      "text/html": [
       "\n",
       "                    <br/>Synced <strong style=\"color:#cdcd00\">swept-sweep-1</strong>: <a href=\"https://wandb.ai/mooizz/Rec_dakhashina/runs/tmb435kr\" target=\"_blank\">https://wandb.ai/mooizz/Rec_dakhashina/runs/tmb435kr</a><br/>\n",
       "                "
      ],
      "text/plain": [
       "<IPython.core.display.HTML object>"
      ]
     },
     "metadata": {},
     "output_type": "display_data"
    },
    {
     "name": "stderr",
     "output_type": "stream",
     "text": [
      "wandb: Ctrl + C detected. Stopping sweep.\n"
     ]
    }
   ],
   "source": [
    "wandb.agent(sweep_id, train)"
   ]
  },
  {
   "cell_type": "code",
   "execution_count": null,
   "id": "b54546f6",
   "metadata": {},
   "outputs": [],
   "source": []
  }
 ],
 "metadata": {
  "kernelspec": {
   "name": "python370jvsc74a57bd0e2fb31f127fed1e79f709faf34890f85681c06e7e30d28a328e5c7500cdf6725",
   "display_name": "Python 3.7.0 64-bit"
  },
  "language_info": {
   "codemirror_mode": {
    "name": "ipython",
    "version": 3
   },
   "file_extension": ".py",
   "mimetype": "text/x-python",
   "name": "python",
   "nbconvert_exporter": "python",
   "pygments_lexer": "ipython3",
   "version": "3.7.0"
  }
 },
 "nbformat": 4,
 "nbformat_minor": 5
}