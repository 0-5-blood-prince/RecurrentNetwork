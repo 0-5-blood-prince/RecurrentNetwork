{
 "cells": [
  {
   "cell_type": "code",
   "execution_count": 1,
   "id": "3927e7bc",
   "metadata": {},
   "outputs": [],
   "source": [
    "import numpy as np\n",
    "import tensorflow as tf\n",
    "from tensorflow import keras"
   ]
  },
  {
   "cell_type": "code",
   "execution_count": 2,
   "id": "8e5007e0",
   "metadata": {},
   "outputs": [],
   "source": [
    "import os\n",
    "# %config IPCompleter.greedy=True\n",
    "# For limiting GPU VRAM used by process\n",
    "\n",
    "gpus = tf.config.experimental.list_physical_devices('GPU')\n",
    "if gpus:\n",
    "  try:\n",
    "    tf.config.experimental.set_virtual_device_configuration(gpus[0],\n",
    "                                                            [tf.config.experimental.VirtualDeviceConfiguration(memory_limit=7500)])\n",
    "  except RuntimeError as e:\n",
    "    print(e)\n",
    "    \n",
    "config = tf.compat.v1.ConfigProto()\n",
    "config.gpu_options.allow_growth = True\n",
    "sess = tf.compat.v1.Session(config=config)"
   ]
  },
  {
   "cell_type": "code",
   "execution_count": 3,
   "id": "58285d60",
   "metadata": {},
   "outputs": [],
   "source": [
    "dataset_path = os.getcwd() + os.sep + 'te' + os.sep + 'lexicons'\n",
    "train_path = dataset_path + os.sep + 'te.translit.sampled.train.tsv'\n",
    "valid_path = dataset_path + os.sep + 'te.translit.sampled.dev.tsv'\n",
    "test_path = dataset_path + os.sep + 'te.translit.sampled.test.tsv'"
   ]
  },
  {
   "cell_type": "code",
   "execution_count": 4,
   "id": "6901b847",
   "metadata": {},
   "outputs": [],
   "source": [
    "train_inputs = []\n",
    "train_outputs = []\n",
    "valid_inputs = []\n",
    "valid_outputs = []\n",
    "test_inputs = []\n",
    "test_outputs = []\n",
    "input_chars = set()\n",
    "output_chars = set()"
   ]
  },
  {
   "cell_type": "code",
   "execution_count": 5,
   "id": "dad91d5d",
   "metadata": {},
   "outputs": [],
   "source": [
    "include_all = True"
   ]
  },
  {
   "cell_type": "code",
   "execution_count": 6,
   "id": "748bb090",
   "metadata": {},
   "outputs": [],
   "source": [
    "with open(train_path, \"r\", encoding=\"utf-8\") as f:\n",
    "    lines = f.read().split(\"\\n\")\n",
    "for line in lines[: (len(lines) - 1 )]:\n",
    "    out,inp,a = line.split('\\t')\n",
    "#     if not include_all and a!=1:\n",
    "#         continue\n",
    "    # We use \"tab\" as the \"start sequence\" character\n",
    "    # for the targets, and \"\\n\" as \"end sequence\" character.\n",
    "#     print(out,out[-1],inp,inp[-1])\n",
    "    out = \"\\t\" + out + \"\\n\"\n",
    "    train_inputs.append(inp)\n",
    "    train_outputs.append(out)\n",
    "    for char in inp:\n",
    "        if char not in input_chars:\n",
    "            input_chars.add(char)\n",
    "    for char in out:\n",
    "        if char not in output_chars:\n",
    "            output_chars.add(char)"
   ]
  },
  {
   "cell_type": "code",
   "execution_count": 7,
   "id": "f77599cd",
   "metadata": {},
   "outputs": [
    {
     "data": {
      "text/plain": [
       "58550"
      ]
     },
     "execution_count": 7,
     "metadata": {},
     "output_type": "execute_result"
    }
   ],
   "source": [
    "len(train_inputs)"
   ]
  },
  {
   "cell_type": "code",
   "execution_count": 8,
   "id": "97d3b91d",
   "metadata": {},
   "outputs": [],
   "source": [
    "with open(valid_path, \"r\", encoding=\"utf-8\") as f:\n",
    "    lines = f.read().split(\"\\n\")\n",
    "for line in lines[: (len(lines) - 1 )]:\n",
    "    out,inp,a = line.split('\\t')\n",
    "    if not include_all and a!=1:\n",
    "        continue\n",
    "    # We use \"tab\" as the \"start sequence\" character\n",
    "    # for the targets, and \"\\n\" as \"end sequence\" character.\n",
    "#     print(out,out[-1],inp,inp[-1])\n",
    "    out = \"\\t\" + out + \"\\n\"\n",
    "    valid_inputs.append(inp)\n",
    "    valid_outputs.append(out)\n",
    "#     for char in inp:\n",
    "#         if char not in input_chars:\n",
    "#             input_chars.add(char)\n",
    "#     for char in out:\n",
    "#         if char not in output_chars:\n",
    "#             output_chars.add(char)"
   ]
  },
  {
   "cell_type": "code",
   "execution_count": 9,
   "id": "56668b9a",
   "metadata": {},
   "outputs": [],
   "source": [
    "with open(test_path, \"r\", encoding=\"utf-8\") as f:\n",
    "    lines = f.read().split(\"\\n\")\n",
    "for line in lines[: (len(lines) - 1 )]:\n",
    "    out,inp,a = line.split('\\t')\n",
    "    if not include_all and a!=1:\n",
    "        continue\n",
    "    # We use \"tab\" as the \"start sequence\" character\n",
    "    # for the targets, and \"\\n\" as \"end sequence\" character.\n",
    "#     print(out,out[-1],inp,inp[-1])\n",
    "    out = \"\\t\" + out + \"\\n\"\n",
    "    test_inputs.append(inp)\n",
    "    test_outputs.append(out)\n",
    "#     for char in inp:\n",
    "#         if char not in input_chars:\n",
    "#             input_chars.add(char)\n",
    "#     for char in out:\n",
    "#         if char not in output_chars:\n",
    "#             output_chars.add(char)"
   ]
  },
  {
   "cell_type": "code",
   "execution_count": 10,
   "id": "0e91aed0",
   "metadata": {},
   "outputs": [
    {
     "name": "stdout",
     "output_type": "stream",
     "text": [
      "['a', 'b', 'c', 'd', 'e', 'f', 'g', 'h', 'i', 'j', 'k', 'l', 'm', 'n', 'o', 'p', 'q', 'r', 's', 't', 'u', 'v', 'w', 'x', 'y', 'z']\n"
     ]
    }
   ],
   "source": [
    "input_chars = sorted(list(input_chars))\n",
    "print(input_chars)\n",
    "num_input_chars = len(input_chars)"
   ]
  },
  {
   "cell_type": "code",
   "execution_count": 11,
   "id": "9618b73d",
   "metadata": {},
   "outputs": [
    {
     "name": "stdout",
     "output_type": "stream",
     "text": [
      "['\\t', '\\n', 'ం', 'ః', 'అ', 'ఆ', 'ఇ', 'ఈ', 'ఉ', 'ఊ', 'ఋ', 'ఎ', 'ఏ', 'ఐ', 'ఒ', 'ఓ', 'ఔ', 'క', 'ఖ', 'గ', 'ఘ', 'చ', 'ఛ', 'జ', 'ఝ', 'ఞ', 'ట', 'ఠ', 'డ', 'ఢ', 'ణ', 'త', 'థ', 'ద', 'ధ', 'న', 'ప', 'ఫ', 'బ', 'భ', 'మ', 'య', 'ర', 'ఱ', 'ల', 'ళ', 'వ', 'శ', 'ష', 'స', 'హ', 'ా', 'ి', 'ీ', 'ు', 'ూ', 'ృ', 'ె', 'ే', 'ై', 'ొ', 'ో', 'ౌ', '్', '\\u200c']\n"
     ]
    }
   ],
   "source": [
    "output_chars = sorted(list(output_chars))\n",
    "print(output_chars)\n",
    "num_output_chars = len(output_chars)"
   ]
  },
  {
   "cell_type": "code",
   "execution_count": 12,
   "id": "aacbd5e9",
   "metadata": {},
   "outputs": [
    {
     "name": "stdout",
     "output_type": "stream",
     "text": [
      "25\n",
      "22\n"
     ]
    }
   ],
   "source": [
    "train_size = len(train_inputs)\n",
    "max_input_size = max([len(txt) for txt in train_inputs])\n",
    "print(max_input_size)\n",
    "max_output_size = max([len(txt) for txt in  train_outputs])\n",
    "print(max_output_size)"
   ]
  },
  {
   "cell_type": "code",
   "execution_count": 13,
   "id": "56a8b966",
   "metadata": {},
   "outputs": [],
   "source": [
    "input_index = dict([(char, i) for i, char in enumerate(input_chars)])\n",
    "output_index = dict([(char, i+1) for i, char in enumerate(output_chars)])\n"
   ]
  },
  {
   "cell_type": "code",
   "execution_count": 14,
   "id": "ba93c41e",
   "metadata": {},
   "outputs": [
    {
     "name": "stdout",
     "output_type": "stream",
     "text": [
      "{'\\t': 1, '\\n': 2, 'ం': 3, 'ః': 4, 'అ': 5, 'ఆ': 6, 'ఇ': 7, 'ఈ': 8, 'ఉ': 9, 'ఊ': 10, 'ఋ': 11, 'ఎ': 12, 'ఏ': 13, 'ఐ': 14, 'ఒ': 15, 'ఓ': 16, 'ఔ': 17, 'క': 18, 'ఖ': 19, 'గ': 20, 'ఘ': 21, 'చ': 22, 'ఛ': 23, 'జ': 24, 'ఝ': 25, 'ఞ': 26, 'ట': 27, 'ఠ': 28, 'డ': 29, 'ఢ': 30, 'ణ': 31, 'త': 32, 'థ': 33, 'ద': 34, 'ధ': 35, 'న': 36, 'ప': 37, 'ఫ': 38, 'బ': 39, 'భ': 40, 'మ': 41, 'య': 42, 'ర': 43, 'ఱ': 44, 'ల': 45, 'ళ': 46, 'వ': 47, 'శ': 48, 'ష': 49, 'స': 50, 'హ': 51, 'ా': 52, 'ి': 53, 'ీ': 54, 'ు': 55, 'ూ': 56, 'ృ': 57, 'ె': 58, 'ే': 59, 'ై': 60, 'ొ': 61, 'ో': 62, 'ౌ': 63, '్': 64, '\\u200c': 65}\n"
     ]
    }
   ],
   "source": [
    "print(output_index)"
   ]
  },
  {
   "cell_type": "code",
   "execution_count": 15,
   "id": "7f8f0e4e",
   "metadata": {},
   "outputs": [],
   "source": [
    "#### Enoding in indexes of characters in the set\n",
    "def encode_index(inputs,index):\n",
    "    data = []\n",
    "    for i in range(len(inputs)):\n",
    "        a = np.zeros(len(inputs[i]))\n",
    "        j = 0\n",
    "        for char in inputs[i]:\n",
    "            a[j] = index[char]\n",
    "            j += 1\n",
    "        data.append(a)\n",
    "    data = np.asarray(data).astype(np.ndarray)\n",
    "    return data\n",
    "    "
   ]
  },
  {
   "cell_type": "code",
   "execution_count": 16,
   "id": "f9d8d4b1",
   "metadata": {},
   "outputs": [],
   "source": [
    "# input_data = []\n",
    "# for i in range(train_size):\n",
    "#     a = np.zeros(len(train_inputs[i]))\n",
    "#     j = 0\n",
    "#     for char in train_inputs[i]:\n",
    "#         a[j] = input_index[char]\n",
    "#         j += 1\n",
    "#     input_data.append(a)\n",
    "# input_data = np.asarray(input_data).astype(np.ndarray)"
   ]
  },
  {
   "cell_type": "code",
   "execution_count": 17,
   "id": "093d2dae",
   "metadata": {},
   "outputs": [
    {
     "name": "stderr",
     "output_type": "stream",
     "text": [
      "C:\\Users\\Jaitesh\\.conda\\envs\\tf2.4\\lib\\site-packages\\numpy\\core\\_asarray.py:83: VisibleDeprecationWarning: Creating an ndarray from ragged nested sequences (which is a list-or-tuple of lists-or-tuples-or ndarrays with different lengths or shapes) is deprecated. If you meant to do this, you must specify 'dtype=object' when creating the ndarray\n",
      "  return array(a, dtype, copy=False, order=order)\n"
     ]
    }
   ],
   "source": [
    "input_data = encode_index(train_inputs,input_index)\n",
    "input_tensor = tf.ragged.constant(input_data)"
   ]
  },
  {
   "cell_type": "code",
   "execution_count": 18,
   "id": "afe035ea",
   "metadata": {},
   "outputs": [],
   "source": [
    "val_input_data = encode_index(valid_inputs,input_index)\n",
    "val_input_tensor = tf.ragged.constant(val_input_data)"
   ]
  },
  {
   "cell_type": "code",
   "execution_count": 19,
   "id": "7e45a4eb",
   "metadata": {},
   "outputs": [],
   "source": [
    "test_input_data = encode_index(test_inputs,input_index)\n",
    "test_input_tensor = tf.ragged.constant(test_input_data)"
   ]
  },
  {
   "cell_type": "code",
   "execution_count": 20,
   "id": "953483ed",
   "metadata": {},
   "outputs": [
    {
     "name": "stdout",
     "output_type": "stream",
     "text": [
      "58550\n"
     ]
    }
   ],
   "source": [
    "print(len(input_data))"
   ]
  },
  {
   "cell_type": "code",
   "execution_count": 21,
   "id": "350640cc",
   "metadata": {},
   "outputs": [],
   "source": [
    "max_val__input_size = max([len(txt) for txt in valid_inputs])\n",
    "max_val_output_size = max([len(txt) for txt in  valid_outputs])\n",
    "max_test_input_size = max([len(txt) for txt in test_inputs])\n",
    "max_test_output_size = max([len(txt) for txt in  test_outputs])"
   ]
  },
  {
   "cell_type": "code",
   "execution_count": 22,
   "id": "7b26ab00",
   "metadata": {},
   "outputs": [],
   "source": [
    "decoder_input_data = np.zeros(\n",
    "    (len(train_inputs), max_output_size,num_output_chars+1), dtype=\"float32\"\n",
    ")\n",
    "decoder_output_data = np.zeros(\n",
    "    (len(train_inputs), max_output_size,num_output_chars+1), dtype=\"float32\"\n",
    ")\n",
    "for i,target_text in enumerate(train_outputs):\n",
    "    for t, char in enumerate(target_text):\n",
    "        # decoder_target_data is ahead of decoder_input_data by one timestep\n",
    "        decoder_input_data[i, t, output_index[char]] = 1.0\n",
    "        if t > 0:\n",
    "            # decoder_target_data will be ahead by one timestep\n",
    "            # and will not include the start character.\n",
    "            decoder_output_data[i, t - 1, output_index[char]] = 1.0\n",
    "#     decoder_input_data[i, t + 1 :, output_index[\" \"]] = 1.0\n",
    "#     decoder_output_data[i, t:, output_index[\" \"]] = 1.0\n",
    "# print(decoder_input_data[0])\n",
    "decoder_input_data = np.argmax(decoder_input_data,axis=2).astype(dtype='float32')\n",
    "# decoder_output_data = np.argmax(decoder_output_data,axis=2).astype(dtype='float32')\n",
    "# decoder_input_data = tf.convert_to_tensor(decoder_input_data)\n",
    "# decoder_output_data = tf.convert_to_tensor(decoder_output_data) "
   ]
  },
  {
   "cell_type": "code",
   "execution_count": 23,
   "id": "8681f530",
   "metadata": {},
   "outputs": [
    {
     "data": {
      "text/plain": [
       "array([ 1.,  5.,  3., 18., 53., 32.,  2.,  0.,  0.,  0.,  0.,  0.,  0.,\n",
       "        0.,  0.,  0.,  0.,  0.,  0.,  0.,  0.,  0.], dtype=float32)"
      ]
     },
     "execution_count": 23,
     "metadata": {},
     "output_type": "execute_result"
    }
   ],
   "source": [
    "decoder_input_data[0]"
   ]
  },
  {
   "cell_type": "code",
   "execution_count": 24,
   "id": "d32549f6",
   "metadata": {},
   "outputs": [],
   "source": [
    "decoder_val_input_data = np.zeros(\n",
    "    (len(valid_inputs), max_val_output_size,num_output_chars+1), dtype=\"float32\"\n",
    ")\n",
    "decoder_val_output_data = np.zeros(\n",
    "    (len(valid_inputs), max_val_output_size,num_output_chars+1), dtype=\"float32\"\n",
    ")\n",
    "for i,target_text in enumerate(valid_outputs):\n",
    "    for t, char in enumerate(target_text):\n",
    "        # decoder_target_data is ahead of decoder_input_data by one timestep\n",
    "        decoder_val_input_data[i, t, output_index[char]] = 1.0\n",
    "        if t > 0:\n",
    "            # decoder_target_data will be ahead by one timestep\n",
    "            # and will not include the start character.\n",
    "            decoder_val_output_data[i, t - 1, output_index[char]] = 1.0\n",
    "#     decoder_input_data[i, t + 1 :, output_index[\" \"]] = 1.0\n",
    "#     decoder_output_data[i, t:, output_index[\" \"]] = 1.0\n",
    "decoder_val_input_data = np.argmax(decoder_val_input_data,axis=2).astype(dtype='float32')\n",
    "# decoder_val_output_data = np.argmax(decoder_val_output_data,axis=2).astype(dtype='float32')\n",
    "# decoder_val_input_data = tf.convert_to_tensor(decoder_val_input_data)\n",
    "# decoder_val_output_data = tf.convert_to_tensor(decoder_val_output_data) "
   ]
  },
  {
   "cell_type": "code",
   "execution_count": 25,
   "id": "52f20581",
   "metadata": {},
   "outputs": [],
   "source": [
    "decoder_test_input_data = np.zeros(\n",
    "    (len(test_inputs), max_test_output_size,num_output_chars+1), dtype=\"float32\"\n",
    ")\n",
    "decoder_test_output_data = np.zeros(\n",
    "    (len(test_inputs), max_test_output_size,num_output_chars+1), dtype=\"float32\"\n",
    ")\n",
    "for i,target_text in enumerate(test_outputs):\n",
    "    for t, char in enumerate(target_text):\n",
    "        # decoder_target_data is ahead of decoder_input_data by one timestep\n",
    "        decoder_test_input_data[i, t, output_index[char]] = 1.0\n",
    "        if t > 0:\n",
    "            # decoder_target_data will be ahead by one timestep\n",
    "            # and will not include the start character.\n",
    "            decoder_test_output_data[i, t - 1, output_index[char]] = 1.0\n",
    "#     decoder_input_data[i, t + 1 :, output_index[\" \"]] = 1.0\n",
    "#     decoder_output_data[i, t:, output_index[\" \"]] = 1.0\n",
    "decoder_test_input_data = np.argmax(decoder_test_input_data,axis=2).astype(dtype='float32')\n",
    "# decoder_test_output_data = np.argmax(decoder_test_output_data,axis=2).astype(dtype='float32')\n",
    "# decoder_test_input_data = tf.convert_to_tensor(decoder_test_input_data)\n",
    "# decoder_test_output_data = tf.convert_to_tensor(decoder_test_output_data) "
   ]
  },
  {
   "cell_type": "code",
   "execution_count": 26,
   "id": "e50801eb",
   "metadata": {},
   "outputs": [],
   "source": [
    "# charinput = tf.keras.Input(shape=(None,),name=\"input\")\n",
    "# embedding = tf.keras.layers.Embedding(num_input_chars,input_embed_size, name=\"embedding\")(charinput)"
   ]
  },
  {
   "cell_type": "code",
   "execution_count": 27,
   "id": "13b5339e",
   "metadata": {},
   "outputs": [],
   "source": [
    "# model = tf.keras.Model(charinput,embedding)"
   ]
  },
  {
   "cell_type": "code",
   "execution_count": 28,
   "id": "5b7e8616",
   "metadata": {},
   "outputs": [],
   "source": [
    "# model.compile(\"rmsprop\",\"mse\")"
   ]
  },
  {
   "cell_type": "code",
   "execution_count": 29,
   "id": "745cffc6",
   "metadata": {},
   "outputs": [],
   "source": [
    "# out = model.predict(input_data[0])\n",
    "# print(out)"
   ]
  },
  {
   "cell_type": "markdown",
   "id": "eb688c59",
   "metadata": {},
   "source": [
    "# Sample Model"
   ]
  },
  {
   "cell_type": "code",
   "execution_count": 30,
   "id": "b62a425f",
   "metadata": {},
   "outputs": [],
   "source": [
    "def get_sample_model(input_embed_size , hidden_size):\n",
    "    charinput = tf.keras.Input(shape=(None,),name=\"input\")\n",
    "    embedding = tf.keras.layers.Embedding(num_input_chars,input_embed_size, name=\"embedding\")(charinput)\n",
    "    \n",
    "    encoder = tf.keras.layers.LSTM(hidden_size, return_state=True )\n",
    "    encoder_outputs, state_h, state_c = encoder(embedding)\n",
    "    encoder_states = [state_h, state_c]\n",
    "    \n",
    "    decoder_inputs = tf.keras.Input(shape=(None,),name=\"decoder_input\")\n",
    "    decoder_embedding = tf.keras.layers.Embedding(num_output_chars + 1,64, name=\"decoder_embedding\",mask_zero=True)(decoder_inputs)\n",
    "    \n",
    "    decoder_lstm = tf.keras.layers.LSTM(hidden_size, return_sequences=True, return_state=True)\n",
    "    decoder_outputs, _, _ = decoder_lstm(decoder_embedding, initial_state=encoder_states)\n",
    "    decoder_dense = tf.keras.layers.Dense(num_output_chars + 1, activation=\"softmax\")\n",
    "    decoder_outputs = decoder_dense(decoder_outputs)\n",
    "    model = tf.keras.Model([charinput,decoder_inputs],decoder_outputs)\n",
    "    \n",
    "    encoder_model = tf.keras.Model(charinput, encoder_states)\n",
    "    # define inference decoder\n",
    "    decoder_state_input_h = tf.keras.Input(shape=(hidden_size,))\n",
    "    decoder_state_input_c = tf.keras.Input(shape=(hidden_size,))\n",
    "    decoder_states_inputs = [decoder_state_input_h, decoder_state_input_c]\n",
    "    decoder_outputs, state_h, state_c = decoder_lstm(decoder_embedding, initial_state=decoder_states_inputs)\n",
    "    decoder_states = [state_h, state_c]\n",
    "    decoder_outputs = decoder_dense(decoder_outputs)\n",
    "    decoder_model = tf.keras.Model([decoder_inputs] + decoder_states_inputs, [decoder_outputs] + decoder_states)\n",
    "    return model, encoder_model, decoder_model"
   ]
  },
  {
   "cell_type": "code",
   "execution_count": 31,
   "id": "d476dc6f",
   "metadata": {},
   "outputs": [],
   "source": [
    "# sample_model, enc_model, dec_model = get_sample_model(32,256)"
   ]
  },
  {
   "cell_type": "code",
   "execution_count": 32,
   "id": "c71b19bb",
   "metadata": {},
   "outputs": [],
   "source": [
    "# sample_model.compile(\n",
    "#     optimizer=\"adam\", loss=\"categorical_crossentropy\", metrics=[\"accuracy\"]\n",
    "# )\n",
    "# sample_model.summary()"
   ]
  },
  {
   "cell_type": "code",
   "execution_count": 33,
   "id": "6cc12abf",
   "metadata": {},
   "outputs": [],
   "source": [
    "reverse_input_char_index = dict((i, char) for char, i in input_index.items())\n",
    "reverse_target_char_index = dict((i, char) for char, i in output_index.items())\n",
    "reverse_target_char_index[0] = ' '\n",
    "\n",
    "def decode_single_sequence(input_seq):\n",
    "    states_value = enc_model.predict(input_seq)\n",
    "    target_seq = np.zeros((1, 1, num_output_chars+1))\n",
    "    target_seq[0, 0, output_index[\"\\t\"]] = 1.0\n",
    "    target_seq = np.argmax(target_seq,axis=2).astype('float32')\n",
    "    stop_condition = False\n",
    "    decoded_sentence = \"\"\n",
    "    while not stop_condition:\n",
    "        output_tokens, h, c = dec_model.predict([target_seq] + states_value)\n",
    "\n",
    "#         print(output_tokens)\n",
    "        sampled_token_index = np.argmax(output_tokens[0, -1, :])\n",
    "#         print(sampled_token_index)\n",
    "        sampled_char = reverse_target_char_index[sampled_token_index]\n",
    "        decoded_sentence += sampled_char\n",
    "#         print(sampled_char)\n",
    "        # Exit condition: either hit max length\n",
    "        # or find stop character.\n",
    "        if sampled_char == \"\\n\" or sampled_char == ' ' or len(decoded_sentence) > max_output_size:\n",
    "            stop_condition = True\n",
    "\n",
    "        # Update the target sequence (of length 1).\n",
    "        target_seq = np.zeros((1, 1, num_output_chars+1))\n",
    "        target_seq[0, 0, sampled_token_index] = 1.0\n",
    "        target_seq = np.argmax(target_seq,axis=2).astype('float32')\n",
    "        # Update states\n",
    "        states_value = [h, c]\n",
    "    return decoded_sentence\n",
    "def decode_sequence(input_seq):\n",
    "    sz  = input_seq.shape[0]\n",
    "    states_value = enc_model.predict(input_seq)\n",
    "    target_seq = np.zeros((sz,1,num_output_chars+1))\n",
    "    for i in range(sz):\n",
    "        target_seq[i, 0, output_index[\"\\t\"]] = 1.0\n",
    "    target_seq = np.argmax(target_seq,axis=2).astype('float32')\n",
    "    decoded_seqs = [\"\" for i in range(sz)]\n",
    "    j = 0\n",
    "    while j < max_output_size:\n",
    "        output_tokens, h, c = dec_model.predict([target_seq] + states_value)\n",
    "\n",
    "#         print(output_tokens)\n",
    "        sampled_token_index = np.argmax(output_tokens[:, -1, :],axis=1)\n",
    "        target_seq = np.zeros((sz, 1, num_output_chars+1))\n",
    "        for i in range(sz):\n",
    "            sampled_char = reverse_target_char_index[sampled_token_index[i]]\n",
    "            decoded_seqs[i] += sampled_char\n",
    "            target_seq[i, 0, sampled_token_index[i]] = 1.0\n",
    "        target_seq = np.argmax(target_seq,axis=2).astype('float32')\n",
    "        # Update states\n",
    "        states_value = [h,c]\n",
    "        j+=1\n",
    "    output = [ (\"\\t\"+st.split('\\n')[0]+\"\\n\") for st in decoded_seqs]\n",
    "    return output"
   ]
  },
  {
   "cell_type": "code",
   "execution_count": 34,
   "id": "60cea938",
   "metadata": {},
   "outputs": [],
   "source": [
    "# for seqid in range(5):\n",
    "#     input_seq = input_tensor[seqid:seqid+1]\n",
    "# #     print(input_seq.shape,input_tensor.shape)\n",
    "#     decoded_sentence = decode_single_sequence(input_seq)\n",
    "#     print(\"-\")\n",
    "#     print(\"Input sentence:\", train_inputs[seqid])\n",
    "#     print(\"Decoded sentence:\", decoded_sentence)"
   ]
  },
  {
   "cell_type": "code",
   "execution_count": 35,
   "id": "962dfe8e",
   "metadata": {},
   "outputs": [],
   "source": [
    "# tf.config.run_functions_eagerly(True)\n"
   ]
  },
  {
   "cell_type": "code",
   "execution_count": 36,
   "id": "83f42ba0",
   "metadata": {},
   "outputs": [],
   "source": [
    "# sample_model.fit(\n",
    "#     [input_tensor,decoder_input_data],\n",
    "#     decoder_output_data,\n",
    "#     batch_size=64,\n",
    "#     epochs=10,\n",
    "#     validation_data=([val_input_tensor,decoder_val_input_data],decoder_val_output_data),\n",
    "#     shuffle=True,\n",
    "# )"
   ]
  },
  {
   "cell_type": "code",
   "execution_count": 37,
   "id": "7b5d9d88",
   "metadata": {},
   "outputs": [],
   "source": [
    "def evaluate(data_tensor,data_output,k):\n",
    "    crct = 0\n",
    "    input_seq = data_tensor[:k]\n",
    "#     print(input_seq.shape,input_tensor.shape)\n",
    "    decoded_sentences = decode_sequence(input_seq)\n",
    "    sts = data_output[:k]\n",
    "    crct += np.sum(np.array(sts) == np.array(decoded_sentences))\n",
    "#         print(crct/(seqid+1))\n",
    "#         for st,d in zip(sts,decoded_sentences):\n",
    "#             print(st+\"_o\")\n",
    "#             print(d+\"_o\")\n",
    "    return crct/k,zip(decoded_sentences,sts)"
   ]
  },
  {
   "cell_type": "markdown",
   "id": "21e4762d",
   "metadata": {},
   "source": [
    "# Beam Implementation"
   ]
  },
  {
   "cell_type": "code",
   "execution_count": 38,
   "id": "8d06a555",
   "metadata": {},
   "outputs": [],
   "source": [
    "# def beam_search(outputs, k, output_words, reverse_index):\n",
    "#     for i in range(len(outputs)):\n",
    "#         seqs = beam_search_decoder(outputs[i],k)\n",
    "import math\n",
    "reverse_input_char_index = dict((i, char) for char, i in input_index.items())\n",
    "reverse_target_char_index = dict((i, char) for char, i in output_index.items())\n",
    "reverse_target_char_index[0] = ' '\n",
    "\n",
    "def beam_decode(input_seq, beam_size, enc_model, dec_model, cell_type):\n",
    "    sz  = input_seq.shape[0]\n",
    "    \n",
    "    states_value = enc_model.predict(input_seq)\n",
    "    \n",
    "    target_seq = np.zeros((sz,1,num_output_chars+1))\n",
    "    \n",
    "    for i in range(sz):\n",
    "        target_seq[i, 0, output_index[\"\\t\"]] = 1.0\n",
    "    \n",
    "    target_seq = np.argmax(target_seq,axis=2).astype('float32')\n",
    "\n",
    "    decoded_seqs = [\"\" for i in range(sz)]\n",
    "    if cell_type == 'LSTM':\n",
    "        l = dec_model.predict([target_seq] + states_value)\n",
    "        output_tokens = l[0]\n",
    "        states = l[1:]\n",
    "    if cell_type == 'GRU' or cell_type == 'RNN':\n",
    "        l = dec_model.predict([target_seq] + states_value)\n",
    "        output_tokens = l[0] \n",
    "        states = l[1:]\n",
    "    \n",
    "    \n",
    "    sequences = []\n",
    "    for i in range(sz):\n",
    "        sequences.append([])\n",
    "#     beam_decoded \n",
    "    sampled_token_beam = np.argpartition(output_tokens[:, -1, :], -beam_size ,axis=1)[:,-beam_size:]\n",
    "    sampled_token_indexes = np.argmax(output_tokens[:, -1, :],axis=1)\n",
    "#     print(sampled_token_beam.shape,sampled_token_indexes.shape)\n",
    "    for i in range(sz):\n",
    "        allcandidates = list()\n",
    "        for j in range(beam_size):\n",
    "            allcandidates.append(\n",
    "                    [ [ sampled_token_beam[i][j] ],\n",
    "                        -np.log( \n",
    "                        output_tokens[i][-1][sampled_token_beam[i][j]]),\n",
    "                        states ,\n",
    "                        False])\n",
    "        ordered = sorted(allcandidates, key=lambda tup:tup[1])\n",
    "        sequences[i] = ordered[:beam_size]\n",
    "        \n",
    "    \n",
    "    \n",
    "    target_seq = np.zeros((sz, beam_size, num_output_chars+1))\n",
    "#     states_beam = []\n",
    "    for i in range(sz):\n",
    "        for j in range(beam_size): \n",
    "#             sampled_char = reverse_target_char_index[sequences[i][j][0][-1]]\n",
    "#             decoded_seqs[i]\n",
    "#             print(j,sequences[i][j][0][-1]\n",
    "            target_seq[i, j, sequences[i][j][0][-1]] = 1.0\n",
    "    target_seq = np.argmax(target_seq,axis=2).astype('float32')\n",
    "#     enc_out = states_value[0]\n",
    "    \n",
    "#     for i in range(beam_size):\n",
    "#         a = []\n",
    "# #         a.append(enc_out)\n",
    "#         a.append(h)\n",
    "#         a.append(c)\n",
    "#         states_beam.append(a)\n",
    "#     states_value[1] = h\n",
    "#     states_value[2] = c\n",
    "#     a = []\n",
    "#     for j in range(beam_size):\n",
    "#         st = \"\"\n",
    "#         for ind in sequences[0][j][0]:\n",
    "#             st += reverse_target_char_index[ind]\n",
    "#         a.append( (\"\\t\"+st+\"\\n\",sequences[0][j][1]) )\n",
    "#     print(a)\n",
    "#     print()\n",
    "    it = 1\n",
    "    while it < max_output_size:\n",
    "        allcandidates = [list() for i in range(sz)]\n",
    "        for k in range(len(sequences[i])):\n",
    "#             print(target_seq.shape)\n",
    "#             print(target_seq[:,k],sequences[i][k][2])\n",
    "            if cell_type == 'LSTM':\n",
    "                l = dec_model.predict(\n",
    "                [target_seq[:,k]] + \n",
    "                sequences[i][k][2])\n",
    "                output_tokens = l[0]\n",
    "                states = l[1:]\n",
    "            if cell_type == 'GRU' or cell_type == 'RNN':\n",
    "                l = dec_model.predict(\n",
    "                [target_seq[:,k]] + \n",
    "                sequences[i][k][2])\n",
    "                output_tokens = l[0]\n",
    "                states = l[1:]\n",
    "            sampled_token_beam = np.argpartition(output_tokens[:, -1, :], -beam_size ,axis=1)[:,-beam_size:]\n",
    "            sampled_token_indexes = np.argmax(output_tokens[:, -1, :],axis=1)\n",
    "            \n",
    "#             print(output_tokens)\n",
    "#             print(sampled_token_beam.shape,sampled_token_indexes.shape)\n",
    "            for i in range(sz):\n",
    "                    if sequences[i][k][3]:\n",
    "                        allcandidates[i].append(\n",
    "                                [ sequences[i][k][0]+[ sampled_token_beam[i][j] ],\n",
    "                                 sequences[i][k][1],\n",
    "                                           states, True ])\n",
    "                        continue\n",
    "                    for j in range(beam_size):\n",
    "                        if reverse_target_char_index[sampled_token_beam[i][j]]=='\\n':\n",
    "                            allcandidates[i].append(\n",
    "                                [ sequences[i][k][0]+[ sampled_token_beam[i][j] ],\n",
    "                                 sequences[i][k][1]-np.log( \n",
    "                                     output_tokens[i][-1][sampled_token_beam[i][j]]),\n",
    "                                           states, True ])\n",
    "                        else:\n",
    "                            allcandidates[i].append(\n",
    "                            [ sequences[i][k][0]+[ sampled_token_beam[i][j] ],\n",
    "                             sequences[i][k][1]-np.log( \n",
    "                                 output_tokens[i][-1][sampled_token_beam[i][j]]),\n",
    "                                       states, False ])\n",
    "        for i in range(sz):\n",
    "            ordered = sorted(allcandidates[i], key=lambda tup:tup[1])\n",
    "            sequences[i] = ordered[:beam_size]\n",
    "#         for i in range(sz):\n",
    "#             print(\"all\")\n",
    "#             a = []\n",
    "#             for j in range(len(allcandidates[i])):\n",
    "#                 st = \"\"\n",
    "#                 for ind in allcandidates[i][j][0]:\n",
    "#                     st += reverse_target_char_index[ind]\n",
    "#                 a.append( (\"\\t\"+st+\"\\n\",allcandidates[i][j][1]) )\n",
    "#             print(a)\n",
    "#             print()\n",
    "#             print(\"seq\")\n",
    "#             a = []\n",
    "#             for j in range(beam_size):\n",
    "#                 st = \"\"\n",
    "#                 for ind in sequences[i][j][0]:\n",
    "#                     st += reverse_target_char_index[ind]\n",
    "#                 a.append( (\"\\t\"+st+\"\\n\",sequences[i][j][1]) )\n",
    "#             print(a)\n",
    "#             print()\n",
    "        target_seq = np.zeros((sz, beam_size, num_output_chars+1))\n",
    "        for i in range(sz):\n",
    "            for j in range(beam_size): \n",
    "                target_seq[i, j, sequences[i][j][0][-1]] = 1.0\n",
    "        target_seq = np.argmax(target_seq,axis=2).astype('float32')\n",
    "        it+=1\n",
    "#     output = [ (\"\\t\"+st.split('\\n')[0]+\"\\n\") for st in decoded_seqs]\n",
    "    output = []\n",
    "    for i in range(sz):\n",
    "        st = \"\"\n",
    "        for ind in sequences[i][0][0]:\n",
    "            st += reverse_target_char_index[ind]\n",
    "        output.append(\"\\t\"+st.split('\\n')[0]+\"\\n\")\n",
    "            \n",
    "    return output\n",
    "        "
   ]
  },
  {
   "cell_type": "code",
   "execution_count": 39,
   "id": "6bd34f4d",
   "metadata": {},
   "outputs": [],
   "source": [
    "\n",
    "def beam_evaluate(data_tensor,data_output,k,beam_size,enc_model, dec_model, cell_type):\n",
    "    crct = 0\n",
    "    input_seq = data_tensor[:k]\n",
    "    decoded_sentences = beam_decode(input_seq,beam_size,enc_model, dec_model, cell_type)\n",
    "    sts = data_output[:k]\n",
    "    crct += np.sum(np.array(sts) == np.array(decoded_sentences))\n",
    "    return crct/k,zip(decoded_sentences,sts)"
   ]
  },
  {
   "cell_type": "code",
   "execution_count": 40,
   "id": "028b6217",
   "metadata": {},
   "outputs": [],
   "source": [
    "# a1, b1 = beam_evaluate(test_input_tensor,test_outputs,100,1,enc_model,dec_model,'LSTM')\n",
    "\n",
    "# a2, b2 = evaluate(test_input_tensor,test_outputs,100)\n",
    "# # print(a1,a2)\n",
    "# # for ((l,m),(n,o)) in zip(b1,b2):\n",
    "# #     print(l,m,n)"
   ]
  },
  {
   "cell_type": "markdown",
   "id": "38febd90",
   "metadata": {},
   "source": [
    "# Wandb Sweep"
   ]
  },
  {
   "cell_type": "code",
   "execution_count": 41,
   "id": "10baf71d",
   "metadata": {},
   "outputs": [
    {
     "name": "stderr",
     "output_type": "stream",
     "text": [
      "wandb: Currently logged in as: mooizz (use `wandb login --relogin` to force relogin)\n",
      "wandb: WARNING If you're specifying your api key in code, ensure this code is not shared publically.\n",
      "wandb: WARNING Consider setting the WANDB_API_KEY environment variable, or running `wandb login` from the command line.\n",
      "wandb: Appending key for api.wandb.ai to your netrc file: C:\\Users\\Jaitesh/.netrc\n"
     ]
    },
    {
     "data": {
      "text/plain": [
       "True"
      ]
     },
     "execution_count": 41,
     "metadata": {},
     "output_type": "execute_result"
    }
   ],
   "source": [
    "import wandb\n",
    "from wandb.keras import WandbCallback\n",
    "wandb.login(key=\"866040d7d81f67025d43e7d50ecd83d54b6cf977\", relogin=False)"
   ]
  },
  {
   "cell_type": "code",
   "execution_count": 42,
   "id": "093bcd65",
   "metadata": {},
   "outputs": [],
   "source": [
    "sweep_config = {\n",
    "    'method': 'bayes', #grid, random\n",
    "    'metric': {\n",
    "      'name': 'val_word_accuracy',\n",
    "      'goal': 'maximize'   \n",
    "    },\n",
    "    'parameters': {\n",
    "         'beam_size' : {\n",
    "            'values' : [1, 2 ,3]\n",
    "        },\n",
    "        'input_embed_size': {\n",
    "            'values' : [16,32]\n",
    "        },\n",
    "        'hidden_size' : {\n",
    "            'values' : [64, 128, 256]\n",
    "        },\n",
    "        'cell_type' : {\n",
    "            'values' : ['GRU','LSTM','RNN']\n",
    "        },\n",
    "        'num_hidden_layers' : {\n",
    "            'values' : [1, 2, 3]\n",
    "        },\n",
    "        'dropout' : {\n",
    "            'values' : [0, 0.2]\n",
    "        },\n",
    "       \n",
    "    }\n",
    "}"
   ]
  },
  {
   "cell_type": "code",
   "execution_count": 43,
   "id": "eab47e14",
   "metadata": {},
   "outputs": [],
   "source": [
    "# sweep_id = wandb.sweep(sweep_config, entity=\"mooizz\",project=\"Rec_dakhashina\")"
   ]
  },
  {
   "cell_type": "code",
   "execution_count": 44,
   "id": "a1d5c919",
   "metadata": {},
   "outputs": [],
   "source": [
    "from keras.models import Model\n",
    "from keras.layers import Input, LSTM, RNN, GRU, Dense, SimpleRNN, Embedding"
   ]
  },
  {
   "cell_type": "code",
   "execution_count": 45,
   "id": "0dc63506",
   "metadata": {},
   "outputs": [],
   "source": [
    "def get_Model_v2(input_embed_size, hidden_size, cell_type, num_decoder_layers, num_encoder_layers, dropout, decoder_embed_size = 64):\n",
    "    assert(num_encoder_layers == num_decoder_layers)\n",
    "    charinput = Input(shape=(None,),name=\"input\")\n",
    "    embedding = Embedding(num_input_chars,input_embed_size, name=\"embedding\")(charinput)    \n",
    "    \n",
    "    if cell_type == 'LSTM':\n",
    "        hl = []\n",
    "        cl = []\n",
    "        encoder_states = []\n",
    "        e_outputs, htemp, ctemp = LSTM(hidden_size, return_sequences=True,\n",
    "                                        return_state=True, dropout=dropout)(embedding)\n",
    "        hl.append(htemp)\n",
    "        cl.append(ctemp)\n",
    "        encoder_states.append(htemp)\n",
    "        encoder_states.append(ctemp)\n",
    "        for hln_iter in range(num_encoder_layers-1):\n",
    "            e_outputs, htemp, ctemp = LSTM(hidden_size, return_sequences=True,\n",
    "                                            return_state=True, dropout=dropout)(e_outputs)\n",
    "            hl.append(htemp)\n",
    "            cl.append(ctemp)\n",
    "            encoder_states.append(htemp)\n",
    "            encoder_states.append(ctemp)\n",
    "    if cell_type == 'RNN':\n",
    "        rnn_states = []\n",
    "        encoder_states = []\n",
    "        e_outputs, htemp = SimpleRNN(hidden_size, return_sequences=True,\n",
    "                                        return_state=True, dropout=dropout)(embedding)\n",
    "        rnn_states.append(htemp)\n",
    "        encoder_states.append(htemp)\n",
    "        for hln_iter in range(num_encoder_layers-1):\n",
    "            e_outputs, htemp = SimpleRNN(hidden_size, return_sequences=True,\n",
    "                                            return_state=True, dropout=dropout)(e_outputs)\n",
    "            rnn_states.append(htemp)\n",
    "            encoder_states.append(htemp)\n",
    "    if cell_type == 'GRU':\n",
    "        gru_states = []\n",
    "        encoder_states = []\n",
    "        e_outputs, htemp = GRU(hidden_size, return_sequences=True,\n",
    "                                        return_state=True, dropout=dropout)(embedding)\n",
    "        gru_states.append(htemp)\n",
    "        encoder_states.append(htemp)\n",
    "        for hln_iter in range(num_encoder_layers-1):\n",
    "            e_outputs, htemp = GRU(hidden_size, return_sequences=True,\n",
    "                                            return_state=True, dropout=dropout)(e_outputs)\n",
    "            gru_states.append(htemp)\n",
    "            encoder_states.append(htemp)\n",
    "        \n",
    "    \n",
    "    decoder_inputs = Input(shape=(None,),name=\"decoder_input\")\n",
    "    decoder_embedding = Embedding(num_output_chars + 1, decoder_embed_size, name=\"decoder_embedding\",mask_zero=True)(decoder_inputs)\n",
    "    \n",
    "\n",
    "    if cell_type == 'LSTM':\n",
    "        d_out_layers = []\n",
    "        out_layer = LSTM(hidden_size, return_sequences=True,\n",
    "                                            return_state=True, dropout=dropout)\n",
    "        d_out_layers.append(out_layer)\n",
    "        d_outputs, _, _ = out_layer(decoder_embedding, initial_state=[hl[0], cl[0]]) \n",
    "        for hln_iter in range(num_decoder_layers-1):\n",
    "            out_layer = LSTM(hidden_size, return_sequences=True,\n",
    "                                            return_state=True, dropout=dropout)\n",
    "            d_out_layers.append(out_layer)\n",
    "            d_outputs, _, _ = out_layer(d_outputs, initial_state=[hl[hln_iter+1], cl[hln_iter+1]])\n",
    "\n",
    "    if cell_type == 'RNN':\n",
    "        d_out_layers = []\n",
    "        out_layer = SimpleRNN(hidden_size, return_sequences=True,\n",
    "                                            return_state=True, dropout=dropout)\n",
    "        d_out_layers.append(out_layer)\n",
    "        d_outputs, _ = out_layer(decoder_embedding, initial_state=rnn_states[0]) \n",
    "        for hln_iter in range(num_decoder_layers-1):\n",
    "            out_layer = SimpleRNN(hidden_size, return_sequences=True,\n",
    "                                            return_state=True, dropout=dropout)\n",
    "            d_out_layers.append(out_layer)\n",
    "            d_outputs, _ = out_layer(d_outputs, initial_state=rnn_states[hln_iter+1])\n",
    "\n",
    "    if cell_type == 'GRU':\n",
    "        d_out_layers = []\n",
    "        out_layer = GRU(hidden_size, return_sequences=True,\n",
    "                                            return_state=True, dropout=dropout)\n",
    "        d_out_layers.append(out_layer)\n",
    "        d_outputs, _ = out_layer(decoder_embedding, initial_state=gru_states[0]) \n",
    "        for hln_iter in range(num_decoder_layers-1):\n",
    "            out_layer = GRU(hidden_size, return_sequences=True,\n",
    "                                            return_state=True, dropout=dropout)\n",
    "            d_out_layers.append(out_layer)\n",
    "            d_outputs, _ = out_layer(d_outputs, initial_state=gru_states[hln_iter+1])\n",
    "\n",
    "\n",
    "    decoder_dense = Dense(num_output_chars + 1, activation=\"softmax\")\n",
    "    decoder_outputs = decoder_dense(d_outputs)\n",
    "    \n",
    "    model = tf.keras.Model([charinput,decoder_inputs],decoder_outputs)\n",
    "\n",
    "    ########2nd\n",
    "\n",
    "    if cell_type == 'LSTM':\n",
    "        encoder_model = tf.keras.Model(charinput, encoder_states)\n",
    "        decoder_state_input_h = []\n",
    "        decoder_state_input_c = []\n",
    "        decoder_state_inputs = []\n",
    "        for _ in range(num_decoder_layers):\n",
    "            decoder_state_input_h.append(Input(shape=(hidden_size)))\n",
    "            decoder_state_input_c.append(Input(shape=(hidden_size)))\n",
    "            decoder_state_inputs.append(decoder_state_input_h[-1])\n",
    "            decoder_state_inputs.append(decoder_state_input_c[-1])\n",
    "        \n",
    "        decoder_states = []\n",
    "        decoder_outputs, dhtemp, dctemp = d_out_layers[0](decoder_embedding, initial_state=decoder_state_inputs[:2])\n",
    "        decoder_states.append(dhtemp)\n",
    "        decoder_states.append(dctemp)\n",
    "        for i in range(num_decoder_layers-1):\n",
    "            decoder_outputs, dhtemp, dctemp = d_out_layers[i+1](decoder_outputs, initial_state=decoder_state_inputs[2*(i+1):2*(i+2)])\n",
    "            decoder_states.append(dhtemp)\n",
    "            decoder_states.append(dctemp)\n",
    "\n",
    "        decoder_outputs = decoder_dense(decoder_outputs)\n",
    "        decoder_model = Model([decoder_inputs] + decoder_state_inputs, [decoder_outputs] + decoder_states)\n",
    "\n",
    "    if cell_type == 'GRU':\n",
    "        encoder_model = tf.keras.Model(charinput, encoder_states)\n",
    "        decoder_state_input_gru = []\n",
    "        for _ in range(num_decoder_layers):\n",
    "            decoder_state_input_gru.append(Input(shape=(hidden_size)))\n",
    "        \n",
    "        decoder_states = []\n",
    "        decoder_outputs, dhtemp = d_out_layers[0](decoder_embedding, initial_state=decoder_state_input_gru[0])\n",
    "        decoder_states.append(dhtemp)\n",
    "        for i in range(num_decoder_layers-1):\n",
    "            decoder_outputs, dhtemp = d_out_layers[i+1](decoder_outputs, initial_state=decoder_state_input_gru[i+1])\n",
    "            decoder_states.append(dhtemp)\n",
    "\n",
    "        decoder_outputs = decoder_dense(decoder_outputs)\n",
    "        decoder_model = Model([decoder_inputs] + decoder_state_input_gru, [decoder_outputs] + decoder_states)\n",
    "\n",
    "    if cell_type == 'RNN':\n",
    "        encoder_model = tf.keras.Model(charinput, encoder_states)\n",
    "        decoder_state_input_rnn = []\n",
    "        for _ in range(num_decoder_layers):\n",
    "            decoder_state_input_rnn.append(Input(shape=(hidden_size)))\n",
    "        \n",
    "        decoder_states = []\n",
    "        decoder_outputs, dhtemp = d_out_layers[0](decoder_embedding, initial_state=decoder_state_input_rnn[0])\n",
    "        decoder_states.append(dhtemp)\n",
    "        for i in range(num_decoder_layers-1):\n",
    "            decoder_outputs, dhtemp = d_out_layers[i+1](decoder_outputs, initial_state=decoder_state_input_rnn[i+1])\n",
    "            decoder_states.append(dhtemp)\n",
    "\n",
    "        decoder_outputs = decoder_dense(decoder_outputs)\n",
    "        decoder_model = Model([decoder_inputs] + decoder_state_input_rnn, [decoder_outputs] + decoder_states)          \n",
    "        \n",
    "    return model, encoder_model, decoder_model"
   ]
  },
  {
   "cell_type": "code",
   "execution_count": 46,
   "id": "46ff61cb",
   "metadata": {},
   "outputs": [],
   "source": [
    "def train():\n",
    "    config_defaults = {\n",
    "        'epochs' : 10,\n",
    "        'batch_size' : 64,\n",
    "        'optimizer' : 'adam',\n",
    "        'beam_size' : 1,\n",
    "        'input_embed_size': 32,\n",
    "        'hidden_size' : 256,\n",
    "        'cell_type' : 'LSTM',\n",
    "        'num_hidden_layers' : 1,\n",
    "        'dropout' : 0,\n",
    "    }\n",
    "    wandb.init(config=config_defaults)\n",
    "\n",
    "    config = wandb.config\n",
    "    model, enc_model, dec_model = get_Model_v2(config.input_embed_size,config.hidden_size,\n",
    "                     config.cell_type,\n",
    "                     config.num_hidden_layers,\n",
    "                     config.num_hidden_layers,\n",
    "                     config.dropout)\n",
    "    model.compile(\n",
    "    optimizer=\"adam\", loss=\"categorical_crossentropy\", metrics=[\"accuracy\"]\n",
    "    )\n",
    "#     sample_model.summary()\n",
    "    EarlyStopCB = tf.keras.callbacks.EarlyStopping(patience=30, monitor='val_accuracy',\n",
    "                                                  restore_best_weights=True)\n",
    "    tf.config.run_functions_eagerly(True)\n",
    "    model.fit(\n",
    "        [input_tensor,decoder_input_data],\n",
    "        decoder_output_data,\n",
    "        batch_size=config.batch_size,\n",
    "        epochs=config.epochs,\n",
    "        validation_data=(\n",
    "            [val_input_tensor,decoder_val_input_data],\n",
    "            decoder_val_output_data\n",
    "        ),\n",
    "        shuffle=True,\n",
    "        callbacks=[WandbCallback(), EarlyStopCB])\n",
    "    beam_acc , _ = beam_evaluate(val_input_tensor,valid_outputs,len(valid_outputs),config.beam_size,\n",
    "                                enc_model,\n",
    "                                dec_model,\n",
    "                                config.cell_type)\n",
    "    wandb.log({'val_word_accuracy' : beam_acc})\n",
    "#     model.save('models'+os.sep+str(sweep_id)+os.sep+wandb.run.name)"
   ]
  },
  {
   "cell_type": "code",
   "execution_count": null,
   "id": "9aab0ded",
   "metadata": {},
   "outputs": [
    {
     "name": "stderr",
     "output_type": "stream",
     "text": [
      "wandb: Agent Starting Run: qhzy1tya with config:\n",
      "wandb: \tbeam_size: 2\n",
      "wandb: \tcell_type: RNN\n",
      "wandb: \tdropout: 0.2\n",
      "wandb: \thidden_size: 64\n",
      "wandb: \tinput_embed_size: 32\n",
      "wandb: \tnum_hidden_layers: 3\n"
     ]
    },
    {
     "data": {
      "text/html": [
       "\n",
       "                Tracking run with wandb version 0.10.30<br/>\n",
       "                Syncing run <strong style=\"color:#cdcd00\">clean-sweep-3</strong> to <a href=\"https://wandb.ai\" target=\"_blank\">Weights & Biases</a> <a href=\"https://docs.wandb.com/integrations/jupyter.html\" target=\"_blank\">(Documentation)</a>.<br/>\n",
       "                Project page: <a href=\"https://wandb.ai/mooizz/Rec_dakhashina\" target=\"_blank\">https://wandb.ai/mooizz/Rec_dakhashina</a><br/>\n",
       "                Sweep page: <a href=\"https://wandb.ai/mooizz/Rec_dakhashina/sweeps/qsllfslr\" target=\"_blank\">https://wandb.ai/mooizz/Rec_dakhashina/sweeps/qsllfslr</a><br/>\n",
       "Run page: <a href=\"https://wandb.ai/mooizz/Rec_dakhashina/runs/qhzy1tya\" target=\"_blank\">https://wandb.ai/mooizz/Rec_dakhashina/runs/qhzy1tya</a><br/>\n",
       "                Run data is saved locally in <code>C:\\Users\\Jaitesh\\Desktop\\Courses\\DL\\RecurrentNetwork\\wandb\\run-20210520_114514-qhzy1tya</code><br/><br/>\n",
       "            "
      ],
      "text/plain": [
       "<IPython.core.display.HTML object>"
      ]
     },
     "metadata": {},
     "output_type": "display_data"
    },
    {
     "name": "stdout",
     "output_type": "stream",
     "text": [
      "Epoch 1/10\n",
      "915/915 [==============================] - 239s 260ms/step - loss: 1.1177 - accuracy: 0.2433 - val_loss: 0.7374 - val_accuracy: 0.4330\n",
      "Epoch 2/10\n",
      "915/915 [==============================] - 243s 265ms/step - loss: 0.7705 - accuracy: 0.4202 - val_loss: 0.6377 - val_accuracy: 0.4850\n",
      "Epoch 3/10\n",
      "915/915 [==============================] - 518s 566ms/step - loss: 0.6990 - accuracy: 0.4580 - val_loss: 0.5920 - val_accuracy: 0.5104\n",
      "Epoch 4/10\n",
      "915/915 [==============================] - 471s 515ms/step - loss: 0.6616 - accuracy: 0.4787 - val_loss: 0.5573 - val_accuracy: 0.5329\n",
      "Epoch 5/10\n",
      "915/915 [==============================] - 443s 483ms/step - loss: 0.6342 - accuracy: 0.4928 - val_loss: 0.5351 - val_accuracy: 0.5415\n",
      "Epoch 6/10\n",
      "915/915 [==============================] - 475s 519ms/step - loss: 0.6156 - accuracy: 0.5021 - val_loss: 0.5118 - val_accuracy: 0.5551\n",
      "Epoch 7/10\n",
      "915/915 [==============================] - 415s 453ms/step - loss: 0.5925 - accuracy: 0.5130 - val_loss: 0.5060 - val_accuracy: 0.5570\n",
      "Epoch 8/10\n",
      "915/915 [==============================] - 421s 460ms/step - loss: 0.5835 - accuracy: 0.5184 - val_loss: 0.4820 - val_accuracy: 0.5708\n",
      "Epoch 9/10\n",
      "915/915 [==============================] - 357s 390ms/step - loss: 0.5693 - accuracy: 0.5262 - val_loss: 0.4792 - val_accuracy: 0.5725\n",
      "Epoch 10/10\n",
      "915/915 [==============================] - 411s 450ms/step - loss: 0.5602 - accuracy: 0.5326 - val_loss: 0.4544 - val_accuracy: 0.5868\n"
     ]
    },
    {
     "name": "stderr",
     "output_type": "stream",
     "text": [
      "C:\\Users\\Jaitesh\\.conda\\envs\\tf2.4\\lib\\site-packages\\tensorflow\\python\\data\\ops\\dataset_ops.py:3503: UserWarning: Even though the tf.config.experimental_run_functions_eagerly option is set, this option does not apply to tf.data functions. tf.data functions are still traced and executed as graphs.\n",
      "  warnings.warn(\n"
     ]
    },
    {
     "data": {
      "text/html": [
       "<br/>Waiting for W&B process to finish, PID 20344<br/>Program ended successfully."
      ],
      "text/plain": [
       "<IPython.core.display.HTML object>"
      ]
     },
     "metadata": {},
     "output_type": "display_data"
    },
    {
     "data": {
      "application/vnd.jupyter.widget-view+json": {
       "model_id": "",
       "version_major": 2,
       "version_minor": 0
      },
      "text/plain": [
       "VBox(children=(Label(value=' 0.75MB of 0.75MB uploaded (0.00MB deduped)\\r'), FloatProgress(value=1.0, max=1.0)…"
      ]
     },
     "metadata": {},
     "output_type": "display_data"
    },
    {
     "data": {
      "text/html": [
       "Find user logs for this run at: <code>C:\\Users\\Jaitesh\\Desktop\\Courses\\DL\\RecurrentNetwork\\wandb\\run-20210520_114514-qhzy1tya\\logs\\debug.log</code>"
      ],
      "text/plain": [
       "<IPython.core.display.HTML object>"
      ]
     },
     "metadata": {},
     "output_type": "display_data"
    },
    {
     "data": {
      "text/html": [
       "Find internal logs for this run at: <code>C:\\Users\\Jaitesh\\Desktop\\Courses\\DL\\RecurrentNetwork\\wandb\\run-20210520_114514-qhzy1tya\\logs\\debug-internal.log</code>"
      ],
      "text/plain": [
       "<IPython.core.display.HTML object>"
      ]
     },
     "metadata": {},
     "output_type": "display_data"
    },
    {
     "data": {
      "text/html": [
       "<h3>Run summary:</h3><br/><style>\n",
       "    table.wandb td:nth-child(1) { padding: 0 10px; text-align: right }\n",
       "    </style><table class=\"wandb\">\n",
       "<tr><td>epoch</td><td>9</td></tr><tr><td>loss</td><td>0.55914</td></tr><tr><td>accuracy</td><td>0.53264</td></tr><tr><td>val_loss</td><td>0.4544</td></tr><tr><td>val_accuracy</td><td>0.58675</td></tr><tr><td>_runtime</td><td>4181</td></tr><tr><td>_timestamp</td><td>1621495495</td></tr><tr><td>_step</td><td>10</td></tr><tr><td>best_val_loss</td><td>0.4544</td></tr><tr><td>best_epoch</td><td>9</td></tr><tr><td>val_word_accuracy</td><td>0.03308</td></tr></table>"
      ],
      "text/plain": [
       "<IPython.core.display.HTML object>"
      ]
     },
     "metadata": {},
     "output_type": "display_data"
    },
    {
     "data": {
      "text/html": [
       "<h3>Run history:</h3><br/><style>\n",
       "    table.wandb td:nth-child(1) { padding: 0 10px; text-align: right }\n",
       "    </style><table class=\"wandb\">\n",
       "<tr><td>epoch</td><td>▁▂▃▃▄▅▆▆▇█</td></tr><tr><td>loss</td><td>█▄▃▃▂▂▂▁▁▁</td></tr><tr><td>accuracy</td><td>▁▅▆▆▇▇▇███</td></tr><tr><td>val_loss</td><td>█▆▄▄▃▂▂▂▂▁</td></tr><tr><td>val_accuracy</td><td>▁▃▅▆▆▇▇▇▇█</td></tr><tr><td>_runtime</td><td>▁▁▂▃▄▅▆▆▇██</td></tr><tr><td>_timestamp</td><td>▁▁▂▃▄▅▆▆▇██</td></tr><tr><td>_step</td><td>▁▂▂▃▄▅▅▆▇▇█</td></tr><tr><td>val_word_accuracy</td><td>▁</td></tr></table><br/>"
      ],
      "text/plain": [
       "<IPython.core.display.HTML object>"
      ]
     },
     "metadata": {},
     "output_type": "display_data"
    },
    {
     "data": {
      "text/html": [
       "Synced 5 W&B file(s), 1 media file(s), 0 artifact file(s) and 1 other file(s)"
      ],
      "text/plain": [
       "<IPython.core.display.HTML object>"
      ]
     },
     "metadata": {},
     "output_type": "display_data"
    },
    {
     "data": {
      "text/html": [
       "\n",
       "                    <br/>Synced <strong style=\"color:#cdcd00\">clean-sweep-3</strong>: <a href=\"https://wandb.ai/mooizz/Rec_dakhashina/runs/qhzy1tya\" target=\"_blank\">https://wandb.ai/mooizz/Rec_dakhashina/runs/qhzy1tya</a><br/>\n",
       "                "
      ],
      "text/plain": [
       "<IPython.core.display.HTML object>"
      ]
     },
     "metadata": {},
     "output_type": "display_data"
    },
    {
     "name": "stderr",
     "output_type": "stream",
     "text": [
      "wandb: Agent Starting Run: ji103vrn with config:\n",
      "wandb: \tbeam_size: 3\n",
      "wandb: \tcell_type: LSTM\n",
      "wandb: \tdropout: 0.2\n",
      "wandb: \thidden_size: 256\n",
      "wandb: \tinput_embed_size: 16\n",
      "wandb: \tnum_hidden_layers: 3\n"
     ]
    },
    {
     "data": {
      "text/html": [
       "\n",
       "                Tracking run with wandb version 0.10.30<br/>\n",
       "                Syncing run <strong style=\"color:#cdcd00\">pretty-sweep-4</strong> to <a href=\"https://wandb.ai\" target=\"_blank\">Weights & Biases</a> <a href=\"https://docs.wandb.com/integrations/jupyter.html\" target=\"_blank\">(Documentation)</a>.<br/>\n",
       "                Project page: <a href=\"https://wandb.ai/mooizz/Rec_dakhashina\" target=\"_blank\">https://wandb.ai/mooizz/Rec_dakhashina</a><br/>\n",
       "                Sweep page: <a href=\"https://wandb.ai/mooizz/Rec_dakhashina/sweeps/qsllfslr\" target=\"_blank\">https://wandb.ai/mooizz/Rec_dakhashina/sweeps/qsllfslr</a><br/>\n",
       "Run page: <a href=\"https://wandb.ai/mooizz/Rec_dakhashina/runs/ji103vrn\" target=\"_blank\">https://wandb.ai/mooizz/Rec_dakhashina/runs/ji103vrn</a><br/>\n",
       "                Run data is saved locally in <code>C:\\Users\\Jaitesh\\Desktop\\Courses\\DL\\RecurrentNetwork\\wandb\\run-20210520_125500-ji103vrn</code><br/><br/>\n",
       "            "
      ],
      "text/plain": [
       "<IPython.core.display.HTML object>"
      ]
     },
     "metadata": {},
     "output_type": "display_data"
    },
    {
     "name": "stdout",
     "output_type": "stream",
     "text": [
      "Epoch 1/10\n",
      "915/915 [==============================] - 399s 434ms/step - loss: 1.1600 - accuracy: 0.2207 - val_loss: 0.5849 - val_accuracy: 0.5217\n",
      "Epoch 2/10\n",
      "915/915 [==============================] - 423s 462ms/step - loss: 0.5449 - accuracy: 0.5495 - val_loss: 0.3329 - val_accuracy: 0.6738\n",
      "Epoch 3/10\n",
      "915/915 [==============================] - 495s 541ms/step - loss: 0.3241 - accuracy: 0.6878 - val_loss: 0.2230 - val_accuracy: 0.7466\n",
      "Epoch 4/10\n",
      "915/915 [==============================] - 597s 652ms/step - loss: 0.2177 - accuracy: 0.7582 - val_loss: 0.1824 - val_accuracy: 0.7725\n",
      "Epoch 5/10\n",
      "915/915 [==============================] - 196s 214ms/step - loss: 0.1631 - accuracy: 0.7926 - val_loss: 0.1585 - val_accuracy: 0.7889\n",
      "Epoch 6/10\n",
      "915/915 [==============================] - 191s 209ms/step - loss: 0.1294 - accuracy: 0.8140 - val_loss: 0.1479 - val_accuracy: 0.7956\n",
      "Epoch 7/10\n",
      "915/915 [==============================] - 191s 208ms/step - loss: 0.1065 - accuracy: 0.8292 - val_loss: 0.1432 - val_accuracy: 0.8014\n",
      "Epoch 8/10\n",
      "915/915 [==============================] - 193s 210ms/step - loss: 0.0909 - accuracy: 0.8389 - val_loss: 0.1424 - val_accuracy: 0.8031\n",
      "Epoch 9/10\n",
      "915/915 [==============================] - 194s 212ms/step - loss: 0.0769 - accuracy: 0.8480 - val_loss: 0.1406 - val_accuracy: 0.8068\n",
      "Epoch 10/10\n",
      "915/915 [==============================] - 193s 211ms/step - loss: 0.0681 - accuracy: 0.8538 - val_loss: 0.1368 - val_accuracy: 0.8104\n"
     ]
    },
    {
     "data": {
      "text/html": [
       "<br/>Waiting for W&B process to finish, PID 23660<br/>Program ended successfully."
      ],
      "text/plain": [
       "<IPython.core.display.HTML object>"
      ]
     },
     "metadata": {},
     "output_type": "display_data"
    },
    {
     "data": {
      "application/vnd.jupyter.widget-view+json": {
       "model_id": "",
       "version_major": 2,
       "version_minor": 0
      },
      "text/plain": [
       "VBox(children=(Label(value=' 31.36MB of 31.36MB uploaded (0.00MB deduped)\\r'), FloatProgress(value=1.0, max=1.…"
      ]
     },
     "metadata": {},
     "output_type": "display_data"
    },
    {
     "data": {
      "text/html": [
       "Find user logs for this run at: <code>C:\\Users\\Jaitesh\\Desktop\\Courses\\DL\\RecurrentNetwork\\wandb\\run-20210520_125500-ji103vrn\\logs\\debug.log</code>"
      ],
      "text/plain": [
       "<IPython.core.display.HTML object>"
      ]
     },
     "metadata": {},
     "output_type": "display_data"
    },
    {
     "data": {
      "text/html": [
       "Find internal logs for this run at: <code>C:\\Users\\Jaitesh\\Desktop\\Courses\\DL\\RecurrentNetwork\\wandb\\run-20210520_125500-ji103vrn\\logs\\debug-internal.log</code>"
      ],
      "text/plain": [
       "<IPython.core.display.HTML object>"
      ]
     },
     "metadata": {},
     "output_type": "display_data"
    },
    {
     "data": {
      "text/html": [
       "<h3>Run summary:</h3><br/><style>\n",
       "    table.wandb td:nth-child(1) { padding: 0 10px; text-align: right }\n",
       "    </style><table class=\"wandb\">\n",
       "<tr><td>epoch</td><td>9</td></tr><tr><td>loss</td><td>0.06955</td></tr><tr><td>accuracy</td><td>0.85278</td></tr><tr><td>val_loss</td><td>0.13679</td></tr><tr><td>val_accuracy</td><td>0.81035</td></tr><tr><td>_runtime</td><td>3231</td></tr><tr><td>_timestamp</td><td>1621498731</td></tr><tr><td>_step</td><td>10</td></tr><tr><td>best_val_loss</td><td>0.13679</td></tr><tr><td>best_epoch</td><td>9</td></tr><tr><td>val_word_accuracy</td><td>0.49217</td></tr></table>"
      ],
      "text/plain": [
       "<IPython.core.display.HTML object>"
      ]
     },
     "metadata": {},
     "output_type": "display_data"
    },
    {
     "data": {
      "text/html": [
       "<h3>Run history:</h3><br/><style>\n",
       "    table.wandb td:nth-child(1) { padding: 0 10px; text-align: right }\n",
       "    </style><table class=\"wandb\">\n",
       "<tr><td>epoch</td><td>▁▂▃▃▄▅▆▆▇█</td></tr><tr><td>loss</td><td>█▄▃▂▂▁▁▁▁▁</td></tr><tr><td>accuracy</td><td>▁▅▆▇▇█████</td></tr><tr><td>val_loss</td><td>█▄▂▂▁▁▁▁▁▁</td></tr><tr><td>val_accuracy</td><td>▁▅▆▇▇█████</td></tr><tr><td>_runtime</td><td>▁▂▃▅▅▆▆▇▇██</td></tr><tr><td>_timestamp</td><td>▁▂▃▅▅▆▆▇▇██</td></tr><tr><td>_step</td><td>▁▂▂▃▄▅▅▆▇▇█</td></tr><tr><td>val_word_accuracy</td><td>▁</td></tr></table><br/>"
      ],
      "text/plain": [
       "<IPython.core.display.HTML object>"
      ]
     },
     "metadata": {},
     "output_type": "display_data"
    },
    {
     "data": {
      "text/html": [
       "Synced 5 W&B file(s), 1 media file(s), 0 artifact file(s) and 1 other file(s)"
      ],
      "text/plain": [
       "<IPython.core.display.HTML object>"
      ]
     },
     "metadata": {},
     "output_type": "display_data"
    },
    {
     "data": {
      "text/html": [
       "\n",
       "                    <br/>Synced <strong style=\"color:#cdcd00\">pretty-sweep-4</strong>: <a href=\"https://wandb.ai/mooizz/Rec_dakhashina/runs/ji103vrn\" target=\"_blank\">https://wandb.ai/mooizz/Rec_dakhashina/runs/ji103vrn</a><br/>\n",
       "                "
      ],
      "text/plain": [
       "<IPython.core.display.HTML object>"
      ]
     },
     "metadata": {},
     "output_type": "display_data"
    },
    {
     "name": "stderr",
     "output_type": "stream",
     "text": [
      "wandb: Agent Starting Run: l807tkcz with config:\n",
      "wandb: \tbeam_size: 3\n",
      "wandb: \tcell_type: RNN\n",
      "wandb: \tdropout: 0.2\n",
      "wandb: \thidden_size: 256\n",
      "wandb: \tinput_embed_size: 16\n",
      "wandb: \tnum_hidden_layers: 3\n"
     ]
    },
    {
     "data": {
      "text/html": [
       "\n",
       "                Tracking run with wandb version 0.10.30<br/>\n",
       "                Syncing run <strong style=\"color:#cdcd00\">solar-sweep-5</strong> to <a href=\"https://wandb.ai\" target=\"_blank\">Weights & Biases</a> <a href=\"https://docs.wandb.com/integrations/jupyter.html\" target=\"_blank\">(Documentation)</a>.<br/>\n",
       "                Project page: <a href=\"https://wandb.ai/mooizz/Rec_dakhashina\" target=\"_blank\">https://wandb.ai/mooizz/Rec_dakhashina</a><br/>\n",
       "                Sweep page: <a href=\"https://wandb.ai/mooizz/Rec_dakhashina/sweeps/qsllfslr\" target=\"_blank\">https://wandb.ai/mooizz/Rec_dakhashina/sweeps/qsllfslr</a><br/>\n",
       "Run page: <a href=\"https://wandb.ai/mooizz/Rec_dakhashina/runs/l807tkcz\" target=\"_blank\">https://wandb.ai/mooizz/Rec_dakhashina/runs/l807tkcz</a><br/>\n",
       "                Run data is saved locally in <code>C:\\Users\\Jaitesh\\Desktop\\Courses\\DL\\RecurrentNetwork\\wandb\\run-20210520_134859-l807tkcz</code><br/><br/>\n",
       "            "
      ],
      "text/plain": [
       "<IPython.core.display.HTML object>"
      ]
     },
     "metadata": {},
     "output_type": "display_data"
    },
    {
     "name": "stdout",
     "output_type": "stream",
     "text": [
      "Epoch 1/10\n",
      "915/915 [==============================] - 233s 255ms/step - loss: 0.9848 - accuracy: 0.3118 - val_loss: 0.6076 - val_accuracy: 0.5100\n",
      "Epoch 2/10\n",
      "915/915 [==============================] - 239s 261ms/step - loss: 0.6278 - accuracy: 0.5045 - val_loss: 0.5136 - val_accuracy: 0.5639\n",
      "Epoch 3/10\n",
      "915/915 [==============================] - 240s 262ms/step - loss: 0.5484 - accuracy: 0.5495 - val_loss: 0.4636 - val_accuracy: 0.5925\n",
      "Epoch 4/10\n",
      "915/915 [==============================] - 248s 270ms/step - loss: 0.4959 - accuracy: 0.5784 - val_loss: 0.4397 - val_accuracy: 0.6063\n",
      "Epoch 5/10\n",
      "915/915 [==============================] - 250s 273ms/step - loss: 0.4611 - accuracy: 0.5998 - val_loss: 0.4090 - val_accuracy: 0.6245\n",
      "Epoch 6/10\n",
      "915/915 [==============================] - 250s 273ms/step - loss: 0.4352 - accuracy: 0.6146 - val_loss: 0.3954 - val_accuracy: 0.6313\n",
      "Epoch 7/10\n",
      "915/915 [==============================] - 247s 269ms/step - loss: 0.4186 - accuracy: 0.6241 - val_loss: 0.3745 - val_accuracy: 0.6478\n",
      "Epoch 8/10\n",
      "915/915 [==============================] - 248s 271ms/step - loss: 0.3968 - accuracy: 0.6374 - val_loss: 0.3593 - val_accuracy: 0.6543\n",
      "Epoch 9/10\n",
      "915/915 [==============================] - 247s 270ms/step - loss: 0.3777 - accuracy: 0.6491 - val_loss: 0.3489 - val_accuracy: 0.6596\n",
      "Epoch 10/10\n",
      "915/915 [==============================] - 249s 272ms/step - loss: 0.3688 - accuracy: 0.6545 - val_loss: 0.3466 - val_accuracy: 0.6645\n"
     ]
    },
    {
     "data": {
      "text/html": [
       "<br/>Waiting for W&B process to finish, PID 34400<br/>Program ended successfully."
      ],
      "text/plain": [
       "<IPython.core.display.HTML object>"
      ]
     },
     "metadata": {},
     "output_type": "display_data"
    },
    {
     "data": {
      "application/vnd.jupyter.widget-view+json": {
       "model_id": "",
       "version_major": 2,
       "version_minor": 0
      },
      "text/plain": [
       "VBox(children=(Label(value=' 8.10MB of 8.10MB uploaded (0.00MB deduped)\\r'), FloatProgress(value=1.0, max=1.0)…"
      ]
     },
     "metadata": {},
     "output_type": "display_data"
    },
    {
     "data": {
      "text/html": [
       "Find user logs for this run at: <code>C:\\Users\\Jaitesh\\Desktop\\Courses\\DL\\RecurrentNetwork\\wandb\\run-20210520_134859-l807tkcz\\logs\\debug.log</code>"
      ],
      "text/plain": [
       "<IPython.core.display.HTML object>"
      ]
     },
     "metadata": {},
     "output_type": "display_data"
    },
    {
     "data": {
      "text/html": [
       "Find internal logs for this run at: <code>C:\\Users\\Jaitesh\\Desktop\\Courses\\DL\\RecurrentNetwork\\wandb\\run-20210520_134859-l807tkcz\\logs\\debug-internal.log</code>"
      ],
      "text/plain": [
       "<IPython.core.display.HTML object>"
      ]
     },
     "metadata": {},
     "output_type": "display_data"
    },
    {
     "data": {
      "text/html": [
       "<h3>Run summary:</h3><br/><style>\n",
       "    table.wandb td:nth-child(1) { padding: 0 10px; text-align: right }\n",
       "    </style><table class=\"wandb\">\n",
       "<tr><td>epoch</td><td>9</td></tr><tr><td>loss</td><td>0.36881</td></tr><tr><td>accuracy</td><td>0.65471</td></tr><tr><td>val_loss</td><td>0.34657</td></tr><tr><td>val_accuracy</td><td>0.6645</td></tr><tr><td>_runtime</td><td>2579</td></tr><tr><td>_timestamp</td><td>1621501318</td></tr><tr><td>_step</td><td>10</td></tr><tr><td>best_val_loss</td><td>0.34657</td></tr><tr><td>best_epoch</td><td>9</td></tr><tr><td>val_word_accuracy</td><td>0.11913</td></tr></table>"
      ],
      "text/plain": [
       "<IPython.core.display.HTML object>"
      ]
     },
     "metadata": {},
     "output_type": "display_data"
    },
    {
     "data": {
      "text/html": [
       "<h3>Run history:</h3><br/><style>\n",
       "    table.wandb td:nth-child(1) { padding: 0 10px; text-align: right }\n",
       "    </style><table class=\"wandb\">\n",
       "<tr><td>epoch</td><td>▁▂▃▃▄▅▆▆▇█</td></tr><tr><td>loss</td><td>█▅▄▃▂▂▂▁▁▁</td></tr><tr><td>accuracy</td><td>▁▄▅▆▇▇▇███</td></tr><tr><td>val_loss</td><td>█▅▄▃▃▂▂▁▁▁</td></tr><tr><td>val_accuracy</td><td>▁▃▅▅▆▆▇███</td></tr><tr><td>_runtime</td><td>▁▂▂▃▄▅▅▆▇██</td></tr><tr><td>_timestamp</td><td>▁▂▂▃▄▅▅▆▇██</td></tr><tr><td>_step</td><td>▁▂▂▃▄▅▅▆▇▇█</td></tr><tr><td>val_word_accuracy</td><td>▁</td></tr></table><br/>"
      ],
      "text/plain": [
       "<IPython.core.display.HTML object>"
      ]
     },
     "metadata": {},
     "output_type": "display_data"
    },
    {
     "data": {
      "text/html": [
       "Synced 5 W&B file(s), 1 media file(s), 0 artifact file(s) and 1 other file(s)"
      ],
      "text/plain": [
       "<IPython.core.display.HTML object>"
      ]
     },
     "metadata": {},
     "output_type": "display_data"
    },
    {
     "data": {
      "text/html": [
       "\n",
       "                    <br/>Synced <strong style=\"color:#cdcd00\">solar-sweep-5</strong>: <a href=\"https://wandb.ai/mooizz/Rec_dakhashina/runs/l807tkcz\" target=\"_blank\">https://wandb.ai/mooizz/Rec_dakhashina/runs/l807tkcz</a><br/>\n",
       "                "
      ],
      "text/plain": [
       "<IPython.core.display.HTML object>"
      ]
     },
     "metadata": {},
     "output_type": "display_data"
    },
    {
     "name": "stderr",
     "output_type": "stream",
     "text": [
      "wandb: Agent Starting Run: d75hrree with config:\n",
      "wandb: \tbeam_size: 3\n",
      "wandb: \tcell_type: LSTM\n",
      "wandb: \tdropout: 0.2\n",
      "wandb: \thidden_size: 256\n",
      "wandb: \tinput_embed_size: 32\n",
      "wandb: \tnum_hidden_layers: 3\n"
     ]
    },
    {
     "data": {
      "text/html": [
       "\n",
       "                Tracking run with wandb version 0.10.30<br/>\n",
       "                Syncing run <strong style=\"color:#cdcd00\">generous-sweep-6</strong> to <a href=\"https://wandb.ai\" target=\"_blank\">Weights & Biases</a> <a href=\"https://docs.wandb.com/integrations/jupyter.html\" target=\"_blank\">(Documentation)</a>.<br/>\n",
       "                Project page: <a href=\"https://wandb.ai/mooizz/Rec_dakhashina\" target=\"_blank\">https://wandb.ai/mooizz/Rec_dakhashina</a><br/>\n",
       "                Sweep page: <a href=\"https://wandb.ai/mooizz/Rec_dakhashina/sweeps/qsllfslr\" target=\"_blank\">https://wandb.ai/mooizz/Rec_dakhashina/sweeps/qsllfslr</a><br/>\n",
       "Run page: <a href=\"https://wandb.ai/mooizz/Rec_dakhashina/runs/d75hrree\" target=\"_blank\">https://wandb.ai/mooizz/Rec_dakhashina/runs/d75hrree</a><br/>\n",
       "                Run data is saved locally in <code>C:\\Users\\Jaitesh\\Desktop\\Courses\\DL\\RecurrentNetwork\\wandb\\run-20210520_143206-d75hrree</code><br/><br/>\n",
       "            "
      ],
      "text/plain": [
       "<IPython.core.display.HTML object>"
      ]
     },
     "metadata": {},
     "output_type": "display_data"
    },
    {
     "name": "stdout",
     "output_type": "stream",
     "text": [
      "Epoch 1/10\n",
      "915/915 [==============================] - 204s 222ms/step - loss: 1.1486 - accuracy: 0.2287 - val_loss: 0.5350 - val_accuracy: 0.5461\n",
      "Epoch 2/10\n",
      "915/915 [==============================] - 207s 226ms/step - loss: 0.4974 - accuracy: 0.5768 - val_loss: 0.2867 - val_accuracy: 0.7017\n",
      "Epoch 3/10\n",
      "915/915 [==============================] - 208s 227ms/step - loss: 0.2823 - accuracy: 0.7132 - val_loss: 0.2004 - val_accuracy: 0.7579\n",
      "Epoch 4/10\n",
      "915/915 [==============================] - 207s 226ms/step - loss: 0.1873 - accuracy: 0.7765 - val_loss: 0.1603 - val_accuracy: 0.7871\n",
      "Epoch 5/10\n",
      "915/915 [==============================] - 205s 224ms/step - loss: 0.1385 - accuracy: 0.8092 - val_loss: 0.1420 - val_accuracy: 0.7990\n",
      "Epoch 6/10\n",
      "915/915 [==============================] - 208s 227ms/step - loss: 0.1105 - accuracy: 0.8259 - val_loss: 0.1323 - val_accuracy: 0.8062\n",
      "Epoch 7/10\n",
      "915/915 [==============================] - 209s 228ms/step - loss: 0.0913 - accuracy: 0.8392 - val_loss: 0.1247 - val_accuracy: 0.8127\n",
      "Epoch 8/10\n",
      "915/915 [==============================] - 209s 228ms/step - loss: 0.0783 - accuracy: 0.8468 - val_loss: 0.1274 - val_accuracy: 0.8135\n",
      "Epoch 9/10\n",
      "915/915 [==============================] - 208s 227ms/step - loss: 0.0679 - accuracy: 0.8547 - val_loss: 0.1253 - val_accuracy: 0.8146\n",
      "Epoch 10/10\n",
      "915/915 [==============================] - 208s 227ms/step - loss: 0.0605 - accuracy: 0.8584 - val_loss: 0.1276 - val_accuracy: 0.8137\n"
     ]
    },
    {
     "data": {
      "text/html": [
       "<br/>Waiting for W&B process to finish, PID 35044<br/>Program ended successfully."
      ],
      "text/plain": [
       "<IPython.core.display.HTML object>"
      ]
     },
     "metadata": {},
     "output_type": "display_data"
    },
    {
     "data": {
      "application/vnd.jupyter.widget-view+json": {
       "model_id": "",
       "version_major": 2,
       "version_minor": 0
      },
      "text/plain": [
       "VBox(children=(Label(value=' 31.55MB of 31.55MB uploaded (0.00MB deduped)\\r'), FloatProgress(value=1.0, max=1.…"
      ]
     },
     "metadata": {},
     "output_type": "display_data"
    },
    {
     "data": {
      "text/html": [
       "Find user logs for this run at: <code>C:\\Users\\Jaitesh\\Desktop\\Courses\\DL\\RecurrentNetwork\\wandb\\run-20210520_143206-d75hrree\\logs\\debug.log</code>"
      ],
      "text/plain": [
       "<IPython.core.display.HTML object>"
      ]
     },
     "metadata": {},
     "output_type": "display_data"
    },
    {
     "data": {
      "text/html": [
       "Find internal logs for this run at: <code>C:\\Users\\Jaitesh\\Desktop\\Courses\\DL\\RecurrentNetwork\\wandb\\run-20210520_143206-d75hrree\\logs\\debug-internal.log</code>"
      ],
      "text/plain": [
       "<IPython.core.display.HTML object>"
      ]
     },
     "metadata": {},
     "output_type": "display_data"
    },
    {
     "data": {
      "text/html": [
       "<h3>Run summary:</h3><br/><style>\n",
       "    table.wandb td:nth-child(1) { padding: 0 10px; text-align: right }\n",
       "    </style><table class=\"wandb\">\n",
       "<tr><td>epoch</td><td>9</td></tr><tr><td>loss</td><td>0.06113</td></tr><tr><td>accuracy</td><td>0.85812</td></tr><tr><td>val_loss</td><td>0.12757</td></tr><tr><td>val_accuracy</td><td>0.81373</td></tr><tr><td>_runtime</td><td>2239</td></tr><tr><td>_timestamp</td><td>1621503565</td></tr><tr><td>_step</td><td>10</td></tr><tr><td>best_val_loss</td><td>0.12469</td></tr><tr><td>best_epoch</td><td>6</td></tr><tr><td>val_word_accuracy</td><td>0.41598</td></tr></table>"
      ],
      "text/plain": [
       "<IPython.core.display.HTML object>"
      ]
     },
     "metadata": {},
     "output_type": "display_data"
    },
    {
     "data": {
      "text/html": [
       "<h3>Run history:</h3><br/><style>\n",
       "    table.wandb td:nth-child(1) { padding: 0 10px; text-align: right }\n",
       "    </style><table class=\"wandb\">\n",
       "<tr><td>epoch</td><td>▁▂▃▃▄▅▆▆▇█</td></tr><tr><td>loss</td><td>█▄▃▂▂▁▁▁▁▁</td></tr><tr><td>accuracy</td><td>▁▅▆▇▇█████</td></tr><tr><td>val_loss</td><td>█▄▂▂▁▁▁▁▁▁</td></tr><tr><td>val_accuracy</td><td>▁▅▇▇██████</td></tr><tr><td>_runtime</td><td>▁▂▂▃▄▅▅▆▇▇█</td></tr><tr><td>_timestamp</td><td>▁▂▂▃▄▅▅▆▇▇█</td></tr><tr><td>_step</td><td>▁▂▂▃▄▅▅▆▇▇█</td></tr><tr><td>val_word_accuracy</td><td>▁</td></tr></table><br/>"
      ],
      "text/plain": [
       "<IPython.core.display.HTML object>"
      ]
     },
     "metadata": {},
     "output_type": "display_data"
    },
    {
     "data": {
      "text/html": [
       "Synced 5 W&B file(s), 1 media file(s), 0 artifact file(s) and 1 other file(s)"
      ],
      "text/plain": [
       "<IPython.core.display.HTML object>"
      ]
     },
     "metadata": {},
     "output_type": "display_data"
    },
    {
     "data": {
      "text/html": [
       "\n",
       "                    <br/>Synced <strong style=\"color:#cdcd00\">generous-sweep-6</strong>: <a href=\"https://wandb.ai/mooizz/Rec_dakhashina/runs/d75hrree\" target=\"_blank\">https://wandb.ai/mooizz/Rec_dakhashina/runs/d75hrree</a><br/>\n",
       "                "
      ],
      "text/plain": [
       "<IPython.core.display.HTML object>"
      ]
     },
     "metadata": {},
     "output_type": "display_data"
    },
    {
     "name": "stderr",
     "output_type": "stream",
     "text": [
      "wandb: Agent Starting Run: o1v0fbej with config:\n",
      "wandb: \tbeam_size: 1\n",
      "wandb: \tcell_type: LSTM\n",
      "wandb: \tdropout: 0.2\n",
      "wandb: \thidden_size: 64\n",
      "wandb: \tinput_embed_size: 16\n",
      "wandb: \tnum_hidden_layers: 2\n"
     ]
    },
    {
     "data": {
      "text/html": [
       "\n",
       "                Tracking run with wandb version 0.10.30<br/>\n",
       "                Syncing run <strong style=\"color:#cdcd00\">silver-sweep-7</strong> to <a href=\"https://wandb.ai\" target=\"_blank\">Weights & Biases</a> <a href=\"https://docs.wandb.com/integrations/jupyter.html\" target=\"_blank\">(Documentation)</a>.<br/>\n",
       "                Project page: <a href=\"https://wandb.ai/mooizz/Rec_dakhashina\" target=\"_blank\">https://wandb.ai/mooizz/Rec_dakhashina</a><br/>\n",
       "                Sweep page: <a href=\"https://wandb.ai/mooizz/Rec_dakhashina/sweeps/qsllfslr\" target=\"_blank\">https://wandb.ai/mooizz/Rec_dakhashina/sweeps/qsllfslr</a><br/>\n",
       "Run page: <a href=\"https://wandb.ai/mooizz/Rec_dakhashina/runs/o1v0fbej\" target=\"_blank\">https://wandb.ai/mooizz/Rec_dakhashina/runs/o1v0fbej</a><br/>\n",
       "                Run data is saved locally in <code>C:\\Users\\Jaitesh\\Desktop\\Courses\\DL\\RecurrentNetwork\\wandb\\run-20210520_150936-o1v0fbej</code><br/><br/>\n",
       "            "
      ],
      "text/plain": [
       "<IPython.core.display.HTML object>"
      ]
     },
     "metadata": {},
     "output_type": "display_data"
    },
    {
     "name": "stdout",
     "output_type": "stream",
     "text": [
      "Epoch 1/10\n",
      "915/915 [==============================] - 145s 158ms/step - loss: 1.2579 - accuracy: 0.1735 - val_loss: 0.9388 - val_accuracy: 0.3056\n",
      "Epoch 2/10\n",
      "915/915 [==============================] - 145s 158ms/step - loss: 0.9299 - accuracy: 0.3243 - val_loss: 0.7661 - val_accuracy: 0.4103\n",
      "Epoch 3/10\n",
      "915/915 [==============================] - 143s 156ms/step - loss: 0.7761 - accuracy: 0.4146 - val_loss: 0.6259 - val_accuracy: 0.5001\n",
      "Epoch 4/10\n",
      "915/915 [==============================] - 135s 148ms/step - loss: 0.6544 - accuracy: 0.4932 - val_loss: 0.5170 - val_accuracy: 0.5679\n",
      "Epoch 5/10\n",
      "915/915 [==============================] - 134s 146ms/step - loss: 0.5585 - accuracy: 0.5472 - val_loss: 0.4446 - val_accuracy: 0.6093\n",
      "Epoch 6/10\n",
      "915/915 [==============================] - 133s 146ms/step - loss: 0.4932 - accuracy: 0.5855 - val_loss: 0.3922 - val_accuracy: 0.6392\n",
      "Epoch 7/10\n",
      "915/915 [==============================] - 133s 146ms/step - loss: 0.4405 - accuracy: 0.6158 - val_loss: 0.3501 - val_accuracy: 0.6655\n",
      "Epoch 8/10\n",
      "915/915 [==============================] - 140s 153ms/step - loss: 0.4011 - accuracy: 0.6401 - val_loss: 0.3185 - val_accuracy: 0.6847\n",
      "Epoch 9/10\n",
      "915/915 [==============================] - 215s 235ms/step - loss: 0.3707 - accuracy: 0.6606 - val_loss: 0.2937 - val_accuracy: 0.7024\n",
      "Epoch 10/10\n",
      "915/915 [==============================] - 251s 275ms/step - loss: 0.3466 - accuracy: 0.6748 - val_loss: 0.2713 - val_accuracy: 0.7167\n"
     ]
    },
    {
     "data": {
      "text/html": [
       "<br/>Waiting for W&B process to finish, PID 13936<br/>Program ended successfully."
      ],
      "text/plain": [
       "<IPython.core.display.HTML object>"
      ]
     },
     "metadata": {},
     "output_type": "display_data"
    },
    {
     "data": {
      "application/vnd.jupyter.widget-view+json": {
       "model_id": "",
       "version_major": 2,
       "version_minor": 0
      },
      "text/plain": [
       "VBox(children=(Label(value=' 1.55MB of 1.55MB uploaded (0.00MB deduped)\\r'), FloatProgress(value=1.0, max=1.0)…"
      ]
     },
     "metadata": {},
     "output_type": "display_data"
    },
    {
     "data": {
      "text/html": [
       "Find user logs for this run at: <code>C:\\Users\\Jaitesh\\Desktop\\Courses\\DL\\RecurrentNetwork\\wandb\\run-20210520_150936-o1v0fbej\\logs\\debug.log</code>"
      ],
      "text/plain": [
       "<IPython.core.display.HTML object>"
      ]
     },
     "metadata": {},
     "output_type": "display_data"
    },
    {
     "data": {
      "text/html": [
       "Find internal logs for this run at: <code>C:\\Users\\Jaitesh\\Desktop\\Courses\\DL\\RecurrentNetwork\\wandb\\run-20210520_150936-o1v0fbej\\logs\\debug-internal.log</code>"
      ],
      "text/plain": [
       "<IPython.core.display.HTML object>"
      ]
     },
     "metadata": {},
     "output_type": "display_data"
    },
    {
     "data": {
      "text/html": [
       "<h3>Run summary:</h3><br/><style>\n",
       "    table.wandb td:nth-child(1) { padding: 0 10px; text-align: right }\n",
       "    </style><table class=\"wandb\">\n",
       "<tr><td>epoch</td><td>9</td></tr><tr><td>loss</td><td>0.34086</td></tr><tr><td>accuracy</td><td>0.6795</td></tr><tr><td>val_loss</td><td>0.27131</td></tr><tr><td>val_accuracy</td><td>0.71674</td></tr><tr><td>_runtime</td><td>1663</td></tr><tr><td>_timestamp</td><td>1621505239</td></tr><tr><td>_step</td><td>10</td></tr><tr><td>best_val_loss</td><td>0.27131</td></tr><tr><td>best_epoch</td><td>9</td></tr><tr><td>val_word_accuracy</td><td>0.18582</td></tr></table>"
      ],
      "text/plain": [
       "<IPython.core.display.HTML object>"
      ]
     },
     "metadata": {},
     "output_type": "display_data"
    },
    {
     "data": {
      "text/html": [
       "<h3>Run history:</h3><br/><style>\n",
       "    table.wandb td:nth-child(1) { padding: 0 10px; text-align: right }\n",
       "    </style><table class=\"wandb\">\n",
       "<tr><td>epoch</td><td>▁▂▃▃▄▅▆▆▇█</td></tr><tr><td>loss</td><td>█▆▅▄▃▂▂▁▁▁</td></tr><tr><td>accuracy</td><td>▁▃▄▅▆▇▇▇██</td></tr><tr><td>val_loss</td><td>█▆▅▄▃▂▂▁▁▁</td></tr><tr><td>val_accuracy</td><td>▁▃▄▅▆▇▇▇██</td></tr><tr><td>_runtime</td><td>▁▂▂▃▄▄▅▅▆██</td></tr><tr><td>_timestamp</td><td>▁▂▂▃▄▄▅▅▆██</td></tr><tr><td>_step</td><td>▁▂▂▃▄▅▅▆▇▇█</td></tr><tr><td>val_word_accuracy</td><td>▁</td></tr></table><br/>"
      ],
      "text/plain": [
       "<IPython.core.display.HTML object>"
      ]
     },
     "metadata": {},
     "output_type": "display_data"
    },
    {
     "data": {
      "text/html": [
       "Synced 5 W&B file(s), 1 media file(s), 0 artifact file(s) and 1 other file(s)"
      ],
      "text/plain": [
       "<IPython.core.display.HTML object>"
      ]
     },
     "metadata": {},
     "output_type": "display_data"
    },
    {
     "data": {
      "text/html": [
       "\n",
       "                    <br/>Synced <strong style=\"color:#cdcd00\">silver-sweep-7</strong>: <a href=\"https://wandb.ai/mooizz/Rec_dakhashina/runs/o1v0fbej\" target=\"_blank\">https://wandb.ai/mooizz/Rec_dakhashina/runs/o1v0fbej</a><br/>\n",
       "                "
      ],
      "text/plain": [
       "<IPython.core.display.HTML object>"
      ]
     },
     "metadata": {},
     "output_type": "display_data"
    },
    {
     "name": "stderr",
     "output_type": "stream",
     "text": [
      "wandb: Agent Starting Run: 3j8516wy with config:\n",
      "wandb: \tbeam_size: 1\n",
      "wandb: \tcell_type: RNN\n",
      "wandb: \tdropout: 0.2\n",
      "wandb: \thidden_size: 256\n",
      "wandb: \tinput_embed_size: 16\n",
      "wandb: \tnum_hidden_layers: 1\n"
     ]
    },
    {
     "data": {
      "text/html": [
       "\n",
       "                Tracking run with wandb version 0.10.30<br/>\n",
       "                Syncing run <strong style=\"color:#cdcd00\">confused-sweep-8</strong> to <a href=\"https://wandb.ai\" target=\"_blank\">Weights & Biases</a> <a href=\"https://docs.wandb.com/integrations/jupyter.html\" target=\"_blank\">(Documentation)</a>.<br/>\n",
       "                Project page: <a href=\"https://wandb.ai/mooizz/Rec_dakhashina\" target=\"_blank\">https://wandb.ai/mooizz/Rec_dakhashina</a><br/>\n",
       "                Sweep page: <a href=\"https://wandb.ai/mooizz/Rec_dakhashina/sweeps/qsllfslr\" target=\"_blank\">https://wandb.ai/mooizz/Rec_dakhashina/sweeps/qsllfslr</a><br/>\n",
       "Run page: <a href=\"https://wandb.ai/mooizz/Rec_dakhashina/runs/3j8516wy\" target=\"_blank\">https://wandb.ai/mooizz/Rec_dakhashina/runs/3j8516wy</a><br/>\n",
       "                Run data is saved locally in <code>C:\\Users\\Jaitesh\\Desktop\\Courses\\DL\\RecurrentNetwork\\wandb\\run-20210520_153723-3j8516wy</code><br/><br/>\n",
       "            "
      ],
      "text/plain": [
       "<IPython.core.display.HTML object>"
      ]
     },
     "metadata": {},
     "output_type": "display_data"
    },
    {
     "name": "stdout",
     "output_type": "stream",
     "text": [
      "Epoch 1/10\n",
      "915/915 [==============================] - 145s 158ms/step - loss: 1.1307 - accuracy: 0.2209 - val_loss: 0.8742 - val_accuracy: 0.3365\n",
      "Epoch 2/10\n",
      "915/915 [==============================] - 120s 131ms/step - loss: 0.8902 - accuracy: 0.3379 - val_loss: 0.8244 - val_accuracy: 0.3697\n",
      "Epoch 3/10\n",
      "915/915 [==============================] - 122s 133ms/step - loss: 0.8105 - accuracy: 0.3828 - val_loss: 0.7769 - val_accuracy: 0.3922\n",
      "Epoch 4/10\n",
      "915/915 [==============================] - 141s 154ms/step - loss: 0.7691 - accuracy: 0.4056 - val_loss: 0.7482 - val_accuracy: 0.4107\n",
      "Epoch 5/10\n",
      "915/915 [==============================] - 104s 114ms/step - loss: 0.7233 - accuracy: 0.4344 - val_loss: 0.7254 - val_accuracy: 0.4238\n",
      "Epoch 6/10\n",
      "915/915 [==============================] - 86s 94ms/step - loss: 0.7112 - accuracy: 0.4433 - val_loss: 0.7206 - val_accuracy: 0.4307\n",
      "Epoch 7/10\n",
      "915/915 [==============================] - 87s 95ms/step - loss: 0.6815 - accuracy: 0.4603 - val_loss: 0.7243 - val_accuracy: 0.4314\n",
      "Epoch 8/10\n",
      "915/915 [==============================] - 87s 95ms/step - loss: 0.6645 - accuracy: 0.4702 - val_loss: 0.7094 - val_accuracy: 0.4420\n",
      "Epoch 9/10\n",
      "915/915 [==============================] - 87s 95ms/step - loss: 0.6534 - accuracy: 0.4754 - val_loss: 0.6952 - val_accuracy: 0.4434\n",
      "Epoch 10/10\n",
      "915/915 [==============================] - 86s 94ms/step - loss: 0.6536 - accuracy: 0.4774 - val_loss: 0.7212 - val_accuracy: 0.4324\n"
     ]
    },
    {
     "data": {
      "text/html": [
       "<br/>Waiting for W&B process to finish, PID 36248<br/>Program failed with code 1.  Press ctrl-c to abort syncing."
      ],
      "text/plain": [
       "<IPython.core.display.HTML object>"
      ]
     },
     "metadata": {},
     "output_type": "display_data"
    },
    {
     "data": {
      "application/vnd.jupyter.widget-view+json": {
       "model_id": "",
       "version_major": 2,
       "version_minor": 0
      },
      "text/plain": [
       "VBox(children=(Label(value=' 2.04MB of 2.04MB uploaded (0.00MB deduped)\\r'), FloatProgress(value=1.0, max=1.0)…"
      ]
     },
     "metadata": {},
     "output_type": "display_data"
    },
    {
     "data": {
      "text/html": [
       "Find user logs for this run at: <code>C:\\Users\\Jaitesh\\Desktop\\Courses\\DL\\RecurrentNetwork\\wandb\\run-20210520_153723-3j8516wy\\logs\\debug.log</code>"
      ],
      "text/plain": [
       "<IPython.core.display.HTML object>"
      ]
     },
     "metadata": {},
     "output_type": "display_data"
    },
    {
     "data": {
      "text/html": [
       "Find internal logs for this run at: <code>C:\\Users\\Jaitesh\\Desktop\\Courses\\DL\\RecurrentNetwork\\wandb\\run-20210520_153723-3j8516wy\\logs\\debug-internal.log</code>"
      ],
      "text/plain": [
       "<IPython.core.display.HTML object>"
      ]
     },
     "metadata": {},
     "output_type": "display_data"
    },
    {
     "data": {
      "text/html": [
       "<h3>Run summary:</h3><br/><style>\n",
       "    table.wandb td:nth-child(1) { padding: 0 10px; text-align: right }\n",
       "    </style><table class=\"wandb\">\n",
       "<tr><td>epoch</td><td>9</td></tr><tr><td>loss</td><td>0.65445</td></tr><tr><td>accuracy</td><td>0.4766</td></tr><tr><td>val_loss</td><td>0.72121</td></tr><tr><td>val_accuracy</td><td>0.43243</td></tr><tr><td>_runtime</td><td>1071</td></tr><tr><td>_timestamp</td><td>1621506314</td></tr><tr><td>_step</td><td>9</td></tr><tr><td>best_val_loss</td><td>0.69524</td></tr><tr><td>best_epoch</td><td>8</td></tr></table>"
      ],
      "text/plain": [
       "<IPython.core.display.HTML object>"
      ]
     },
     "metadata": {},
     "output_type": "display_data"
    },
    {
     "data": {
      "text/html": [
       "<h3>Run history:</h3><br/><style>\n",
       "    table.wandb td:nth-child(1) { padding: 0 10px; text-align: right }\n",
       "    </style><table class=\"wandb\">\n",
       "<tr><td>epoch</td><td>▁▂▃▃▄▅▆▆▇█</td></tr><tr><td>loss</td><td>█▅▄▃▂▂▂▁▁▁</td></tr><tr><td>accuracy</td><td>▁▄▅▆▇▇▇███</td></tr><tr><td>val_loss</td><td>█▆▄▃▂▂▂▂▁▂</td></tr><tr><td>val_accuracy</td><td>▁▃▅▆▇▇▇██▇</td></tr><tr><td>_runtime</td><td>▁▂▃▄▅▅▆▇▇█</td></tr><tr><td>_timestamp</td><td>▁▂▃▄▅▅▆▇▇█</td></tr><tr><td>_step</td><td>▁▂▃▃▄▅▆▆▇█</td></tr></table><br/>"
      ],
      "text/plain": [
       "<IPython.core.display.HTML object>"
      ]
     },
     "metadata": {},
     "output_type": "display_data"
    },
    {
     "data": {
      "text/html": [
       "Synced 5 W&B file(s), 1 media file(s), 0 artifact file(s) and 1 other file(s)"
      ],
      "text/plain": [
       "<IPython.core.display.HTML object>"
      ]
     },
     "metadata": {},
     "output_type": "display_data"
    },
    {
     "data": {
      "text/html": [
       "\n",
       "                    <br/>Synced <strong style=\"color:#cdcd00\">confused-sweep-8</strong>: <a href=\"https://wandb.ai/mooizz/Rec_dakhashina/runs/3j8516wy\" target=\"_blank\">https://wandb.ai/mooizz/Rec_dakhashina/runs/3j8516wy</a><br/>\n",
       "                "
      ],
      "text/plain": [
       "<IPython.core.display.HTML object>"
      ]
     },
     "metadata": {},
     "output_type": "display_data"
    },
    {
     "name": "stderr",
     "output_type": "stream",
     "text": [
      "Run 3j8516wy errored: ValueError('Layer model_2 expects 2 input(s), but it received 1 input tensors. Inputs received: [<tf.Tensor: shape=(1, 5683, 256), dtype=float32, numpy=\\narray([[[1.9999998e+00, 6.7985296e-02, 1.5618563e-01, ...,\\n         1.1011417e+00, 1.9999940e+00, 4.8611820e-02],\\n        [1.9999998e+00, 1.5131074e-01, 1.1441231e-01, ...,\\n         1.0832253e+00, 1.9999957e+00, 2.2667170e-02],\\n        [1.9999998e+00, 1.8726516e-01, 1.4551163e-02, ...,\\n         1.9252095e+00, 1.9999998e+00, 5.7880282e-03],\\n        ...,\\n        [1.9999998e+00, 1.8541539e-01, 2.3841858e-07, ...,\\n         4.6169758e-04, 1.9999998e+00, 1.4865398e-04],\\n        [1.9999998e+00, 1.5480143e-01, 2.3841858e-07, ...,\\n         4.5889616e-04, 1.9999998e+00, 1.5658140e-04],\\n        [1.9999998e+00, 1.7641264e-01, 2.3841858e-07, ...,\\n         4.5996904e-04, 1.9999998e+00, 1.4835596e-04]]], dtype=float32)>]')\n",
      "wandb: ERROR Run 3j8516wy errored: ValueError('Layer model_2 expects 2 input(s), but it received 1 input tensors. Inputs received: [<tf.Tensor: shape=(1, 5683, 256), dtype=float32, numpy=\\narray([[[1.9999998e+00, 6.7985296e-02, 1.5618563e-01, ...,\\n         1.1011417e+00, 1.9999940e+00, 4.8611820e-02],\\n        [1.9999998e+00, 1.5131074e-01, 1.1441231e-01, ...,\\n         1.0832253e+00, 1.9999957e+00, 2.2667170e-02],\\n        [1.9999998e+00, 1.8726516e-01, 1.4551163e-02, ...,\\n         1.9252095e+00, 1.9999998e+00, 5.7880282e-03],\\n        ...,\\n        [1.9999998e+00, 1.8541539e-01, 2.3841858e-07, ...,\\n         4.6169758e-04, 1.9999998e+00, 1.4865398e-04],\\n        [1.9999998e+00, 1.5480143e-01, 2.3841858e-07, ...,\\n         4.5889616e-04, 1.9999998e+00, 1.5658140e-04],\\n        [1.9999998e+00, 1.7641264e-01, 2.3841858e-07, ...,\\n         4.5996904e-04, 1.9999998e+00, 1.4835596e-04]]], dtype=float32)>]')\n",
      "wandb: Agent Starting Run: yj3rwn83 with config:\n",
      "wandb: \tbeam_size: 3\n",
      "wandb: \tcell_type: LSTM\n",
      "wandb: \tdropout: 0\n",
      "wandb: \thidden_size: 64\n",
      "wandb: \tinput_embed_size: 16\n",
      "wandb: \tnum_hidden_layers: 2\n"
     ]
    },
    {
     "data": {
      "text/html": [
       "\n",
       "                Tracking run with wandb version 0.10.30<br/>\n",
       "                Syncing run <strong style=\"color:#cdcd00\">upbeat-sweep-9</strong> to <a href=\"https://wandb.ai\" target=\"_blank\">Weights & Biases</a> <a href=\"https://docs.wandb.com/integrations/jupyter.html\" target=\"_blank\">(Documentation)</a>.<br/>\n",
       "                Project page: <a href=\"https://wandb.ai/mooizz/Rec_dakhashina\" target=\"_blank\">https://wandb.ai/mooizz/Rec_dakhashina</a><br/>\n",
       "                Sweep page: <a href=\"https://wandb.ai/mooizz/Rec_dakhashina/sweeps/qsllfslr\" target=\"_blank\">https://wandb.ai/mooizz/Rec_dakhashina/sweeps/qsllfslr</a><br/>\n",
       "Run page: <a href=\"https://wandb.ai/mooizz/Rec_dakhashina/runs/yj3rwn83\" target=\"_blank\">https://wandb.ai/mooizz/Rec_dakhashina/runs/yj3rwn83</a><br/>\n",
       "                Run data is saved locally in <code>C:\\Users\\Jaitesh\\Desktop\\Courses\\DL\\RecurrentNetwork\\wandb\\run-20210520_155526-yj3rwn83</code><br/><br/>\n",
       "            "
      ],
      "text/plain": [
       "<IPython.core.display.HTML object>"
      ]
     },
     "metadata": {},
     "output_type": "display_data"
    },
    {
     "name": "stdout",
     "output_type": "stream",
     "text": [
      "Epoch 1/10\n",
      "915/915 [==============================] - 124s 135ms/step - loss: 1.2607 - accuracy: 0.1778 - val_loss: 0.9076 - val_accuracy: 0.3361\n",
      "Epoch 2/10\n",
      "915/915 [==============================] - 123s 134ms/step - loss: 0.8710 - accuracy: 0.3643 - val_loss: 0.7233 - val_accuracy: 0.4428\n",
      "Epoch 3/10\n",
      "915/915 [==============================] - 124s 135ms/step - loss: 0.6999 - accuracy: 0.4669 - val_loss: 0.5897 - val_accuracy: 0.5201\n",
      "Epoch 4/10\n",
      "915/915 [==============================] - 123s 135ms/step - loss: 0.5646 - accuracy: 0.5474 - val_loss: 0.4761 - val_accuracy: 0.5873\n",
      "Epoch 5/10\n",
      "915/915 [==============================] - 125s 136ms/step - loss: 0.4572 - accuracy: 0.6101 - val_loss: 0.3933 - val_accuracy: 0.6338\n",
      "Epoch 6/10\n",
      "915/915 [==============================] - 126s 138ms/step - loss: 0.3780 - accuracy: 0.6579 - val_loss: 0.3360 - val_accuracy: 0.6718\n",
      "Epoch 7/10\n",
      "915/915 [==============================] - 126s 138ms/step - loss: 0.3240 - accuracy: 0.6917 - val_loss: 0.2910 - val_accuracy: 0.7014\n",
      "Epoch 8/10\n",
      "915/915 [==============================] - 125s 137ms/step - loss: 0.2810 - accuracy: 0.7202 - val_loss: 0.2623 - val_accuracy: 0.7224\n",
      "Epoch 9/10\n",
      "915/915 [==============================] - 127s 139ms/step - loss: 0.2487 - accuracy: 0.7407 - val_loss: 0.2401 - val_accuracy: 0.7377\n",
      "Epoch 10/10\n",
      "915/915 [==============================] - 127s 139ms/step - loss: 0.2300 - accuracy: 0.7524 - val_loss: 0.2239 - val_accuracy: 0.7458\n"
     ]
    },
    {
     "data": {
      "text/html": [
       "<br/>Waiting for W&B process to finish, PID 34080<br/>Program ended successfully."
      ],
      "text/plain": [
       "<IPython.core.display.HTML object>"
      ]
     },
     "metadata": {},
     "output_type": "display_data"
    },
    {
     "data": {
      "application/vnd.jupyter.widget-view+json": {
       "model_id": "",
       "version_major": 2,
       "version_minor": 0
      },
      "text/plain": [
       "VBox(children=(Label(value=' 1.55MB of 1.55MB uploaded (0.00MB deduped)\\r'), FloatProgress(value=1.0, max=1.0)…"
      ]
     },
     "metadata": {},
     "output_type": "display_data"
    },
    {
     "data": {
      "text/html": [
       "Find user logs for this run at: <code>C:\\Users\\Jaitesh\\Desktop\\Courses\\DL\\RecurrentNetwork\\wandb\\run-20210520_155526-yj3rwn83\\logs\\debug.log</code>"
      ],
      "text/plain": [
       "<IPython.core.display.HTML object>"
      ]
     },
     "metadata": {},
     "output_type": "display_data"
    },
    {
     "data": {
      "text/html": [
       "Find internal logs for this run at: <code>C:\\Users\\Jaitesh\\Desktop\\Courses\\DL\\RecurrentNetwork\\wandb\\run-20210520_155526-yj3rwn83\\logs\\debug-internal.log</code>"
      ],
      "text/plain": [
       "<IPython.core.display.HTML object>"
      ]
     },
     "metadata": {},
     "output_type": "display_data"
    },
    {
     "data": {
      "text/html": [
       "<h3>Run summary:</h3><br/><style>\n",
       "    table.wandb td:nth-child(1) { padding: 0 10px; text-align: right }\n",
       "    </style><table class=\"wandb\">\n",
       "<tr><td>epoch</td><td>9</td></tr><tr><td>loss</td><td>0.22633</td></tr><tr><td>accuracy</td><td>0.75556</td></tr><tr><td>val_loss</td><td>0.22389</td></tr><tr><td>val_accuracy</td><td>0.74584</td></tr><tr><td>_runtime</td><td>1362</td></tr><tr><td>_timestamp</td><td>1621507688</td></tr><tr><td>_step</td><td>10</td></tr><tr><td>best_val_loss</td><td>0.22389</td></tr><tr><td>best_epoch</td><td>9</td></tr><tr><td>val_word_accuracy</td><td>0.15133</td></tr></table>"
      ],
      "text/plain": [
       "<IPython.core.display.HTML object>"
      ]
     },
     "metadata": {},
     "output_type": "display_data"
    },
    {
     "data": {
      "text/html": [
       "<h3>Run history:</h3><br/><style>\n",
       "    table.wandb td:nth-child(1) { padding: 0 10px; text-align: right }\n",
       "    </style><table class=\"wandb\">\n",
       "<tr><td>epoch</td><td>▁▂▃▃▄▅▆▆▇█</td></tr><tr><td>loss</td><td>█▆▄▃▃▂▂▁▁▁</td></tr><tr><td>accuracy</td><td>▁▃▄▅▆▇▇███</td></tr><tr><td>val_loss</td><td>█▆▅▄▃▂▂▁▁▁</td></tr><tr><td>val_accuracy</td><td>▁▃▄▅▆▇▇███</td></tr><tr><td>_runtime</td><td>▁▂▂▃▄▅▅▆▇▇█</td></tr><tr><td>_timestamp</td><td>▁▂▂▃▄▅▅▆▇▇█</td></tr><tr><td>_step</td><td>▁▂▂▃▄▅▅▆▇▇█</td></tr><tr><td>val_word_accuracy</td><td>▁</td></tr></table><br/>"
      ],
      "text/plain": [
       "<IPython.core.display.HTML object>"
      ]
     },
     "metadata": {},
     "output_type": "display_data"
    },
    {
     "data": {
      "text/html": [
       "Synced 5 W&B file(s), 1 media file(s), 0 artifact file(s) and 1 other file(s)"
      ],
      "text/plain": [
       "<IPython.core.display.HTML object>"
      ]
     },
     "metadata": {},
     "output_type": "display_data"
    },
    {
     "data": {
      "text/html": [
       "\n",
       "                    <br/>Synced <strong style=\"color:#cdcd00\">upbeat-sweep-9</strong>: <a href=\"https://wandb.ai/mooizz/Rec_dakhashina/runs/yj3rwn83\" target=\"_blank\">https://wandb.ai/mooizz/Rec_dakhashina/runs/yj3rwn83</a><br/>\n",
       "                "
      ],
      "text/plain": [
       "<IPython.core.display.HTML object>"
      ]
     },
     "metadata": {},
     "output_type": "display_data"
    },
    {
     "name": "stderr",
     "output_type": "stream",
     "text": [
      "wandb: Agent Starting Run: emtjtkem with config:\n",
      "wandb: \tbeam_size: 3\n",
      "wandb: \tcell_type: RNN\n",
      "wandb: \tdropout: 0\n",
      "wandb: \thidden_size: 256\n",
      "wandb: \tinput_embed_size: 16\n",
      "wandb: \tnum_hidden_layers: 3\n"
     ]
    },
    {
     "data": {
      "text/html": [
       "\n",
       "                Tracking run with wandb version 0.10.30<br/>\n",
       "                Syncing run <strong style=\"color:#cdcd00\">laced-sweep-10</strong> to <a href=\"https://wandb.ai\" target=\"_blank\">Weights & Biases</a> <a href=\"https://docs.wandb.com/integrations/jupyter.html\" target=\"_blank\">(Documentation)</a>.<br/>\n",
       "                Project page: <a href=\"https://wandb.ai/mooizz/Rec_dakhashina\" target=\"_blank\">https://wandb.ai/mooizz/Rec_dakhashina</a><br/>\n",
       "                Sweep page: <a href=\"https://wandb.ai/mooizz/Rec_dakhashina/sweeps/qsllfslr\" target=\"_blank\">https://wandb.ai/mooizz/Rec_dakhashina/sweeps/qsllfslr</a><br/>\n",
       "Run page: <a href=\"https://wandb.ai/mooizz/Rec_dakhashina/runs/emtjtkem\" target=\"_blank\">https://wandb.ai/mooizz/Rec_dakhashina/runs/emtjtkem</a><br/>\n",
       "                Run data is saved locally in <code>C:\\Users\\Jaitesh\\Desktop\\Courses\\DL\\RecurrentNetwork\\wandb\\run-20210520_161813-emtjtkem</code><br/><br/>\n",
       "            "
      ],
      "text/plain": [
       "<IPython.core.display.HTML object>"
      ]
     },
     "metadata": {},
     "output_type": "display_data"
    },
    {
     "name": "stdout",
     "output_type": "stream",
     "text": [
      "Epoch 1/10\n",
      "915/915 [==============================] - 229s 250ms/step - loss: 0.9126 - accuracy: 0.3524 - val_loss: 0.4848 - val_accuracy: 0.5734\n",
      "Epoch 2/10\n",
      "915/915 [==============================] - 229s 250ms/step - loss: 0.4415 - accuracy: 0.6110 - val_loss: 0.3725 - val_accuracy: 0.6445\n",
      "Epoch 3/10\n",
      "915/915 [==============================] - 229s 250ms/step - loss: 0.3313 - accuracy: 0.6786 - val_loss: 0.3335 - val_accuracy: 0.6694\n",
      "Epoch 4/10\n",
      "915/915 [==============================] - 229s 250ms/step - loss: 0.2830 - accuracy: 0.7095 - val_loss: 0.3465 - val_accuracy: 0.6610\n",
      "Epoch 5/10\n",
      "915/915 [==============================] - 232s 253ms/step - loss: 0.2643 - accuracy: 0.7217 - val_loss: 0.3087 - val_accuracy: 0.6868\n",
      "Epoch 6/10\n",
      "915/915 [==============================] - 222s 242ms/step - loss: 0.2314 - accuracy: 0.7412 - val_loss: 0.3069 - val_accuracy: 0.6873\n",
      "Epoch 7/10\n",
      "915/915 [==============================] - 223s 243ms/step - loss: 0.2127 - accuracy: 0.7545 - val_loss: 0.2989 - val_accuracy: 0.6953\n",
      "Epoch 8/10\n",
      "915/915 [==============================] - 224s 245ms/step - loss: 0.1995 - accuracy: 0.7635 - val_loss: 0.3254 - val_accuracy: 0.6821\n",
      "Epoch 9/10\n",
      "915/915 [==============================] - 223s 244ms/step - loss: 0.2029 - accuracy: 0.7606 - val_loss: 0.2950 - val_accuracy: 0.7023\n",
      "Epoch 10/10\n",
      "915/915 [==============================] - 223s 244ms/step - loss: 0.1848 - accuracy: 0.7727 - val_loss: 0.3021 - val_accuracy: 0.7008\n"
     ]
    },
    {
     "data": {
      "text/html": [
       "<br/>Waiting for W&B process to finish, PID 27764<br/>Program ended successfully."
      ],
      "text/plain": [
       "<IPython.core.display.HTML object>"
      ]
     },
     "metadata": {},
     "output_type": "display_data"
    },
    {
     "data": {
      "application/vnd.jupyter.widget-view+json": {
       "model_id": "",
       "version_major": 2,
       "version_minor": 0
      },
      "text/plain": [
       "VBox(children=(Label(value=' 8.10MB of 8.10MB uploaded (0.00MB deduped)\\r'), FloatProgress(value=1.0, max=1.0)…"
      ]
     },
     "metadata": {},
     "output_type": "display_data"
    },
    {
     "data": {
      "text/html": [
       "Find user logs for this run at: <code>C:\\Users\\Jaitesh\\Desktop\\Courses\\DL\\RecurrentNetwork\\wandb\\run-20210520_161813-emtjtkem\\logs\\debug.log</code>"
      ],
      "text/plain": [
       "<IPython.core.display.HTML object>"
      ]
     },
     "metadata": {},
     "output_type": "display_data"
    },
    {
     "data": {
      "text/html": [
       "Find internal logs for this run at: <code>C:\\Users\\Jaitesh\\Desktop\\Courses\\DL\\RecurrentNetwork\\wandb\\run-20210520_161813-emtjtkem\\logs\\debug-internal.log</code>"
      ],
      "text/plain": [
       "<IPython.core.display.HTML object>"
      ]
     },
     "metadata": {},
     "output_type": "display_data"
    },
    {
     "data": {
      "text/html": [
       "<h3>Run summary:</h3><br/><style>\n",
       "    table.wandb td:nth-child(1) { padding: 0 10px; text-align: right }\n",
       "    </style><table class=\"wandb\">\n",
       "<tr><td>epoch</td><td>9</td></tr><tr><td>loss</td><td>0.19044</td></tr><tr><td>accuracy</td><td>0.76907</td></tr><tr><td>val_loss</td><td>0.30211</td></tr><tr><td>val_accuracy</td><td>0.7008</td></tr><tr><td>_runtime</td><td>2381</td></tr><tr><td>_timestamp</td><td>1621510074</td></tr><tr><td>_step</td><td>10</td></tr><tr><td>best_val_loss</td><td>0.29499</td></tr><tr><td>best_epoch</td><td>8</td></tr><tr><td>val_word_accuracy</td><td>0.18318</td></tr></table>"
      ],
      "text/plain": [
       "<IPython.core.display.HTML object>"
      ]
     },
     "metadata": {},
     "output_type": "display_data"
    },
    {
     "data": {
      "text/html": [
       "<h3>Run history:</h3><br/><style>\n",
       "    table.wandb td:nth-child(1) { padding: 0 10px; text-align: right }\n",
       "    </style><table class=\"wandb\">\n",
       "<tr><td>epoch</td><td>▁▂▃▃▄▅▆▆▇█</td></tr><tr><td>loss</td><td>█▄▃▂▂▂▁▁▁▁</td></tr><tr><td>accuracy</td><td>▁▅▆▇▇▇████</td></tr><tr><td>val_loss</td><td>█▄▂▃▂▁▁▂▁▁</td></tr><tr><td>val_accuracy</td><td>▁▅▆▆▇▇█▇██</td></tr><tr><td>_runtime</td><td>▁▂▂▃▄▅▅▆▇██</td></tr><tr><td>_timestamp</td><td>▁▂▂▃▄▅▅▆▇██</td></tr><tr><td>_step</td><td>▁▂▂▃▄▅▅▆▇▇█</td></tr><tr><td>val_word_accuracy</td><td>▁</td></tr></table><br/>"
      ],
      "text/plain": [
       "<IPython.core.display.HTML object>"
      ]
     },
     "metadata": {},
     "output_type": "display_data"
    },
    {
     "data": {
      "text/html": [
       "Synced 5 W&B file(s), 1 media file(s), 0 artifact file(s) and 1 other file(s)"
      ],
      "text/plain": [
       "<IPython.core.display.HTML object>"
      ]
     },
     "metadata": {},
     "output_type": "display_data"
    },
    {
     "data": {
      "text/html": [
       "\n",
       "                    <br/>Synced <strong style=\"color:#cdcd00\">laced-sweep-10</strong>: <a href=\"https://wandb.ai/mooizz/Rec_dakhashina/runs/emtjtkem\" target=\"_blank\">https://wandb.ai/mooizz/Rec_dakhashina/runs/emtjtkem</a><br/>\n",
       "                "
      ],
      "text/plain": [
       "<IPython.core.display.HTML object>"
      ]
     },
     "metadata": {},
     "output_type": "display_data"
    },
    {
     "name": "stderr",
     "output_type": "stream",
     "text": [
      "wandb: Agent Starting Run: kbbybyax with config:\n",
      "wandb: \tbeam_size: 1\n",
      "wandb: \tcell_type: LSTM\n",
      "wandb: \tdropout: 0.2\n",
      "wandb: \thidden_size: 128\n",
      "wandb: \tinput_embed_size: 16\n",
      "wandb: \tnum_hidden_layers: 1\n"
     ]
    },
    {
     "data": {
      "text/html": [
       "\n",
       "                Tracking run with wandb version 0.10.30<br/>\n",
       "                Syncing run <strong style=\"color:#cdcd00\">true-sweep-11</strong> to <a href=\"https://wandb.ai\" target=\"_blank\">Weights & Biases</a> <a href=\"https://docs.wandb.com/integrations/jupyter.html\" target=\"_blank\">(Documentation)</a>.<br/>\n",
       "                Project page: <a href=\"https://wandb.ai/mooizz/Rec_dakhashina\" target=\"_blank\">https://wandb.ai/mooizz/Rec_dakhashina</a><br/>\n",
       "                Sweep page: <a href=\"https://wandb.ai/mooizz/Rec_dakhashina/sweeps/qsllfslr\" target=\"_blank\">https://wandb.ai/mooizz/Rec_dakhashina/sweeps/qsllfslr</a><br/>\n",
       "Run page: <a href=\"https://wandb.ai/mooizz/Rec_dakhashina/runs/kbbybyax\" target=\"_blank\">https://wandb.ai/mooizz/Rec_dakhashina/runs/kbbybyax</a><br/>\n",
       "                Run data is saved locally in <code>C:\\Users\\Jaitesh\\Desktop\\Courses\\DL\\RecurrentNetwork\\wandb\\run-20210520_165800-kbbybyax</code><br/><br/>\n",
       "            "
      ],
      "text/plain": [
       "<IPython.core.display.HTML object>"
      ]
     },
     "metadata": {},
     "output_type": "display_data"
    },
    {
     "name": "stdout",
     "output_type": "stream",
     "text": [
      "Epoch 1/10\n",
      "915/915 [==============================] - 73s 79ms/step - loss: 1.1757 - accuracy: 0.2106 - val_loss: 0.8272 - val_accuracy: 0.3823\n",
      "Epoch 2/10\n",
      "915/915 [==============================] - 69s 75ms/step - loss: 0.7891 - accuracy: 0.4086 - val_loss: 0.5977 - val_accuracy: 0.5155\n",
      "Epoch 3/10\n",
      "915/915 [==============================] - 70s 76ms/step - loss: 0.5905 - accuracy: 0.5259 - val_loss: 0.4649 - val_accuracy: 0.5925\n",
      "Epoch 4/10\n",
      "915/915 [==============================] - 71s 77ms/step - loss: 0.4725 - accuracy: 0.5988 - val_loss: 0.3765 - val_accuracy: 0.6463\n",
      "Epoch 5/10\n",
      "915/915 [==============================] - 72s 79ms/step - loss: 0.3940 - accuracy: 0.6476 - val_loss: 0.3152 - val_accuracy: 0.6910\n",
      "Epoch 6/10\n",
      "915/915 [==============================] - 75s 82ms/step - loss: 0.3391 - accuracy: 0.6831 - val_loss: 0.2745 - val_accuracy: 0.7164\n",
      "Epoch 7/10\n",
      "915/915 [==============================] - 73s 79ms/step - loss: 0.2991 - accuracy: 0.7084 - val_loss: 0.2492 - val_accuracy: 0.7309\n",
      "Epoch 8/10\n",
      "915/915 [==============================] - 71s 78ms/step - loss: 0.2677 - accuracy: 0.7282 - val_loss: 0.2310 - val_accuracy: 0.7440\n",
      "Epoch 9/10\n",
      "915/915 [==============================] - 71s 78ms/step - loss: 0.2460 - accuracy: 0.7412 - val_loss: 0.2141 - val_accuracy: 0.7541\n",
      "Epoch 10/10\n",
      "915/915 [==============================] - 71s 78ms/step - loss: 0.2241 - accuracy: 0.7545 - val_loss: 0.1996 - val_accuracy: 0.7640\n"
     ]
    },
    {
     "data": {
      "text/html": [
       "<br/>Waiting for W&B process to finish, PID 10584<br/>Program ended successfully."
      ],
      "text/plain": [
       "<IPython.core.display.HTML object>"
      ]
     },
     "metadata": {},
     "output_type": "display_data"
    },
    {
     "data": {
      "application/vnd.jupyter.widget-view+json": {
       "model_id": "",
       "version_major": 2,
       "version_minor": 0
      },
      "text/plain": [
       "VBox(children=(Label(value=' 2.19MB of 2.19MB uploaded (0.00MB deduped)\\r'), FloatProgress(value=1.0, max=1.0)…"
      ]
     },
     "metadata": {},
     "output_type": "display_data"
    },
    {
     "data": {
      "text/html": [
       "Find user logs for this run at: <code>C:\\Users\\Jaitesh\\Desktop\\Courses\\DL\\RecurrentNetwork\\wandb\\run-20210520_165800-kbbybyax\\logs\\debug.log</code>"
      ],
      "text/plain": [
       "<IPython.core.display.HTML object>"
      ]
     },
     "metadata": {},
     "output_type": "display_data"
    },
    {
     "data": {
      "text/html": [
       "Find internal logs for this run at: <code>C:\\Users\\Jaitesh\\Desktop\\Courses\\DL\\RecurrentNetwork\\wandb\\run-20210520_165800-kbbybyax\\logs\\debug-internal.log</code>"
      ],
      "text/plain": [
       "<IPython.core.display.HTML object>"
      ]
     },
     "metadata": {},
     "output_type": "display_data"
    },
    {
     "data": {
      "text/html": [
       "<h3>Run summary:</h3><br/><style>\n",
       "    table.wandb td:nth-child(1) { padding: 0 10px; text-align: right }\n",
       "    </style><table class=\"wandb\">\n",
       "<tr><td>epoch</td><td>9</td></tr><tr><td>loss</td><td>0.22288</td></tr><tr><td>accuracy</td><td>0.75574</td></tr><tr><td>val_loss</td><td>0.19958</td></tr><tr><td>val_accuracy</td><td>0.76404</td></tr><tr><td>_runtime</td><td>745</td></tr><tr><td>_timestamp</td><td>1621510825</td></tr><tr><td>_step</td><td>10</td></tr><tr><td>best_val_loss</td><td>0.19958</td></tr><tr><td>best_epoch</td><td>9</td></tr><tr><td>val_word_accuracy</td><td>0.32764</td></tr></table>"
      ],
      "text/plain": [
       "<IPython.core.display.HTML object>"
      ]
     },
     "metadata": {},
     "output_type": "display_data"
    },
    {
     "data": {
      "text/html": [
       "<h3>Run history:</h3><br/><style>\n",
       "    table.wandb td:nth-child(1) { padding: 0 10px; text-align: right }\n",
       "    </style><table class=\"wandb\">\n",
       "<tr><td>epoch</td><td>▁▂▃▃▄▅▆▆▇█</td></tr><tr><td>loss</td><td>█▅▄▃▂▂▂▁▁▁</td></tr><tr><td>accuracy</td><td>▁▃▅▆▇▇▇███</td></tr><tr><td>val_loss</td><td>█▅▄▃▂▂▂▁▁▁</td></tr><tr><td>val_accuracy</td><td>▁▃▅▆▇▇▇███</td></tr><tr><td>_runtime</td><td>▁▂▂▃▄▅▆▆▇██</td></tr><tr><td>_timestamp</td><td>▁▂▂▃▄▅▆▆▇██</td></tr><tr><td>_step</td><td>▁▂▂▃▄▅▅▆▇▇█</td></tr><tr><td>val_word_accuracy</td><td>▁</td></tr></table><br/>"
      ],
      "text/plain": [
       "<IPython.core.display.HTML object>"
      ]
     },
     "metadata": {},
     "output_type": "display_data"
    },
    {
     "data": {
      "text/html": [
       "Synced 5 W&B file(s), 1 media file(s), 0 artifact file(s) and 1 other file(s)"
      ],
      "text/plain": [
       "<IPython.core.display.HTML object>"
      ]
     },
     "metadata": {},
     "output_type": "display_data"
    },
    {
     "data": {
      "text/html": [
       "\n",
       "                    <br/>Synced <strong style=\"color:#cdcd00\">true-sweep-11</strong>: <a href=\"https://wandb.ai/mooizz/Rec_dakhashina/runs/kbbybyax\" target=\"_blank\">https://wandb.ai/mooizz/Rec_dakhashina/runs/kbbybyax</a><br/>\n",
       "                "
      ],
      "text/plain": [
       "<IPython.core.display.HTML object>"
      ]
     },
     "metadata": {},
     "output_type": "display_data"
    },
    {
     "name": "stderr",
     "output_type": "stream",
     "text": [
      "wandb: Agent Starting Run: rjnluc8g with config:\n",
      "wandb: \tbeam_size: 3\n",
      "wandb: \tcell_type: LSTM\n",
      "wandb: \tdropout: 0.2\n",
      "wandb: \thidden_size: 64\n",
      "wandb: \tinput_embed_size: 16\n",
      "wandb: \tnum_hidden_layers: 3\n"
     ]
    },
    {
     "data": {
      "text/html": [
       "\n",
       "                Tracking run with wandb version 0.10.30<br/>\n",
       "                Syncing run <strong style=\"color:#cdcd00\">iconic-sweep-12</strong> to <a href=\"https://wandb.ai\" target=\"_blank\">Weights & Biases</a> <a href=\"https://docs.wandb.com/integrations/jupyter.html\" target=\"_blank\">(Documentation)</a>.<br/>\n",
       "                Project page: <a href=\"https://wandb.ai/mooizz/Rec_dakhashina\" target=\"_blank\">https://wandb.ai/mooizz/Rec_dakhashina</a><br/>\n",
       "                Sweep page: <a href=\"https://wandb.ai/mooizz/Rec_dakhashina/sweeps/qsllfslr\" target=\"_blank\">https://wandb.ai/mooizz/Rec_dakhashina/sweeps/qsllfslr</a><br/>\n",
       "Run page: <a href=\"https://wandb.ai/mooizz/Rec_dakhashina/runs/rjnluc8g\" target=\"_blank\">https://wandb.ai/mooizz/Rec_dakhashina/runs/rjnluc8g</a><br/>\n",
       "                Run data is saved locally in <code>C:\\Users\\Jaitesh\\Desktop\\Courses\\DL\\RecurrentNetwork\\wandb\\run-20210520_171030-rjnluc8g</code><br/><br/>\n",
       "            "
      ],
      "text/plain": [
       "<IPython.core.display.HTML object>"
      ]
     },
     "metadata": {},
     "output_type": "display_data"
    },
    {
     "name": "stdout",
     "output_type": "stream",
     "text": [
      "Epoch 1/10\n",
      "915/915 [==============================] - 179s 196ms/step - loss: 1.2851 - accuracy: 0.1682 - val_loss: 0.9267 - val_accuracy: 0.3131\n",
      "Epoch 2/10\n",
      "915/915 [==============================] - 180s 197ms/step - loss: 0.9084 - accuracy: 0.3302 - val_loss: 0.7344 - val_accuracy: 0.4166\n",
      "Epoch 3/10\n",
      "915/915 [==============================] - 180s 197ms/step - loss: 0.7543 - accuracy: 0.4139 - val_loss: 0.6155 - val_accuracy: 0.4880\n",
      "Epoch 4/10\n",
      "915/915 [==============================] - 196s 214ms/step - loss: 0.6502 - accuracy: 0.4777 - val_loss: 0.5241 - val_accuracy: 0.5499\n",
      "Epoch 5/10\n",
      "915/915 [==============================] - 194s 212ms/step - loss: 0.5696 - accuracy: 0.5288 - val_loss: 0.4660 - val_accuracy: 0.5867\n",
      "Epoch 6/10\n",
      "915/915 [==============================] - 193s 211ms/step - loss: 0.5061 - accuracy: 0.5683 - val_loss: 0.4056 - val_accuracy: 0.6228\n",
      "Epoch 7/10\n",
      "915/915 [==============================] - 193s 211ms/step - loss: 0.4515 - accuracy: 0.6042 - val_loss: 0.3642 - val_accuracy: 0.6513\n",
      "Epoch 8/10\n",
      "915/915 [==============================] - 194s 212ms/step - loss: 0.4081 - accuracy: 0.6313 - val_loss: 0.3237 - val_accuracy: 0.6789\n",
      "Epoch 9/10\n",
      "915/915 [==============================] - 193s 211ms/step - loss: 0.3732 - accuracy: 0.6549 - val_loss: 0.2914 - val_accuracy: 0.7014\n",
      "Epoch 10/10\n",
      "915/915 [==============================] - 192s 210ms/step - loss: 0.3437 - accuracy: 0.6738 - val_loss: 0.2698 - val_accuracy: 0.7162\n"
     ]
    },
    {
     "data": {
      "text/html": [
       "<br/>Waiting for W&B process to finish, PID 33096<br/>Program ended successfully."
      ],
      "text/plain": [
       "<IPython.core.display.HTML object>"
      ]
     },
     "metadata": {},
     "output_type": "display_data"
    },
    {
     "data": {
      "application/vnd.jupyter.widget-view+json": {
       "model_id": "",
       "version_major": 2,
       "version_minor": 0
      },
      "text/plain": [
       "VBox(children=(Label(value=' 2.33MB of 2.33MB uploaded (0.00MB deduped)\\r'), FloatProgress(value=1.0, max=1.0)…"
      ]
     },
     "metadata": {},
     "output_type": "display_data"
    },
    {
     "data": {
      "text/html": [
       "Find user logs for this run at: <code>C:\\Users\\Jaitesh\\Desktop\\Courses\\DL\\RecurrentNetwork\\wandb\\run-20210520_171030-rjnluc8g\\logs\\debug.log</code>"
      ],
      "text/plain": [
       "<IPython.core.display.HTML object>"
      ]
     },
     "metadata": {},
     "output_type": "display_data"
    },
    {
     "data": {
      "text/html": [
       "Find internal logs for this run at: <code>C:\\Users\\Jaitesh\\Desktop\\Courses\\DL\\RecurrentNetwork\\wandb\\run-20210520_171030-rjnluc8g\\logs\\debug-internal.log</code>"
      ],
      "text/plain": [
       "<IPython.core.display.HTML object>"
      ]
     },
     "metadata": {},
     "output_type": "display_data"
    },
    {
     "data": {
      "text/html": [
       "<h3>Run summary:</h3><br/><style>\n",
       "    table.wandb td:nth-child(1) { padding: 0 10px; text-align: right }\n",
       "    </style><table class=\"wandb\">\n",
       "<tr><td>epoch</td><td>9</td></tr><tr><td>loss</td><td>0.33603</td></tr><tr><td>accuracy</td><td>0.67901</td></tr><tr><td>val_loss</td><td>0.26979</td></tr><tr><td>val_accuracy</td><td>0.71622</td></tr><tr><td>_runtime</td><td>2049</td></tr><tr><td>_timestamp</td><td>1621512879</td></tr><tr><td>_step</td><td>10</td></tr><tr><td>best_val_loss</td><td>0.26979</td></tr><tr><td>best_epoch</td><td>9</td></tr><tr><td>val_word_accuracy</td><td>0.15977</td></tr></table>"
      ],
      "text/plain": [
       "<IPython.core.display.HTML object>"
      ]
     },
     "metadata": {},
     "output_type": "display_data"
    },
    {
     "data": {
      "text/html": [
       "<h3>Run history:</h3><br/><style>\n",
       "    table.wandb td:nth-child(1) { padding: 0 10px; text-align: right }\n",
       "    </style><table class=\"wandb\">\n",
       "<tr><td>epoch</td><td>▁▂▃▃▄▅▆▆▇█</td></tr><tr><td>loss</td><td>█▅▄▃▃▂▂▂▁▁</td></tr><tr><td>accuracy</td><td>▁▃▄▅▆▆▇▇██</td></tr><tr><td>val_loss</td><td>█▆▅▄▃▂▂▂▁▁</td></tr><tr><td>val_accuracy</td><td>▁▃▄▅▆▆▇▇██</td></tr><tr><td>_runtime</td><td>▁▂▂▃▄▅▅▆▇▇█</td></tr><tr><td>_timestamp</td><td>▁▂▂▃▄▅▅▆▇▇█</td></tr><tr><td>_step</td><td>▁▂▂▃▄▅▅▆▇▇█</td></tr><tr><td>val_word_accuracy</td><td>▁</td></tr></table><br/>"
      ],
      "text/plain": [
       "<IPython.core.display.HTML object>"
      ]
     },
     "metadata": {},
     "output_type": "display_data"
    },
    {
     "data": {
      "text/html": [
       "Synced 5 W&B file(s), 1 media file(s), 0 artifact file(s) and 1 other file(s)"
      ],
      "text/plain": [
       "<IPython.core.display.HTML object>"
      ]
     },
     "metadata": {},
     "output_type": "display_data"
    },
    {
     "data": {
      "text/html": [
       "\n",
       "                    <br/>Synced <strong style=\"color:#cdcd00\">iconic-sweep-12</strong>: <a href=\"https://wandb.ai/mooizz/Rec_dakhashina/runs/rjnluc8g\" target=\"_blank\">https://wandb.ai/mooizz/Rec_dakhashina/runs/rjnluc8g</a><br/>\n",
       "                "
      ],
      "text/plain": [
       "<IPython.core.display.HTML object>"
      ]
     },
     "metadata": {},
     "output_type": "display_data"
    },
    {
     "name": "stderr",
     "output_type": "stream",
     "text": [
      "wandb: Agent Starting Run: ysxj5mg4 with config:\n",
      "wandb: \tbeam_size: 3\n",
      "wandb: \tcell_type: LSTM\n",
      "wandb: \tdropout: 0\n",
      "wandb: \thidden_size: 128\n",
      "wandb: \tinput_embed_size: 16\n",
      "wandb: \tnum_hidden_layers: 1\n"
     ]
    },
    {
     "data": {
      "text/html": [
       "\n",
       "                Tracking run with wandb version 0.10.30<br/>\n",
       "                Syncing run <strong style=\"color:#cdcd00\">confused-sweep-13</strong> to <a href=\"https://wandb.ai\" target=\"_blank\">Weights & Biases</a> <a href=\"https://docs.wandb.com/integrations/jupyter.html\" target=\"_blank\">(Documentation)</a>.<br/>\n",
       "                Project page: <a href=\"https://wandb.ai/mooizz/Rec_dakhashina\" target=\"_blank\">https://wandb.ai/mooizz/Rec_dakhashina</a><br/>\n",
       "                Sweep page: <a href=\"https://wandb.ai/mooizz/Rec_dakhashina/sweeps/qsllfslr\" target=\"_blank\">https://wandb.ai/mooizz/Rec_dakhashina/sweeps/qsllfslr</a><br/>\n",
       "Run page: <a href=\"https://wandb.ai/mooizz/Rec_dakhashina/runs/ysxj5mg4\" target=\"_blank\">https://wandb.ai/mooizz/Rec_dakhashina/runs/ysxj5mg4</a><br/>\n",
       "                Run data is saved locally in <code>C:\\Users\\Jaitesh\\Desktop\\Courses\\DL\\RecurrentNetwork\\wandb\\run-20210520_174445-ysxj5mg4</code><br/><br/>\n",
       "            "
      ],
      "text/plain": [
       "<IPython.core.display.HTML object>"
      ]
     },
     "metadata": {},
     "output_type": "display_data"
    },
    {
     "name": "stdout",
     "output_type": "stream",
     "text": [
      "Epoch 1/10\n",
      "915/915 [==============================] - 66s 72ms/step - loss: 1.1659 - accuracy: 0.2191 - val_loss: 0.7793 - val_accuracy: 0.4156\n",
      "Epoch 2/10\n",
      "915/915 [==============================] - 66s 72ms/step - loss: 0.7155 - accuracy: 0.4560 - val_loss: 0.5233 - val_accuracy: 0.5634\n",
      "Epoch 3/10\n",
      "915/915 [==============================] - 69s 76ms/step - loss: 0.4854 - accuracy: 0.5948 - val_loss: 0.3807 - val_accuracy: 0.6460\n",
      "Epoch 4/10\n",
      "915/915 [==============================] - 67s 73ms/step - loss: 0.3571 - accuracy: 0.6735 - val_loss: 0.2999 - val_accuracy: 0.6949\n",
      "Epoch 5/10\n",
      "915/915 [==============================] - 69s 76ms/step - loss: 0.2779 - accuracy: 0.7243 - val_loss: 0.2505 - val_accuracy: 0.7309\n",
      "Epoch 6/10\n",
      "915/915 [==============================] - 70s 76ms/step - loss: 0.2332 - accuracy: 0.7530 - val_loss: 0.2212 - val_accuracy: 0.7501\n",
      "Epoch 7/10\n",
      "915/915 [==============================] - 67s 73ms/step - loss: 0.2010 - accuracy: 0.7734 - val_loss: 0.2081 - val_accuracy: 0.7551\n",
      "Epoch 8/10\n",
      "915/915 [==============================] - 66s 72ms/step - loss: 0.1787 - accuracy: 0.7867 - val_loss: 0.1961 - val_accuracy: 0.7666\n",
      "Epoch 9/10\n",
      "915/915 [==============================] - 65s 70ms/step - loss: 0.1637 - accuracy: 0.7962 - val_loss: 0.1886 - val_accuracy: 0.7703\n",
      "Epoch 10/10\n",
      "915/915 [==============================] - 65s 70ms/step - loss: 0.1500 - accuracy: 0.8050 - val_loss: 0.1854 - val_accuracy: 0.7719\n"
     ]
    },
    {
     "data": {
      "text/html": [
       "<br/>Waiting for W&B process to finish, PID 19852<br/>Program ended successfully."
      ],
      "text/plain": [
       "<IPython.core.display.HTML object>"
      ]
     },
     "metadata": {},
     "output_type": "display_data"
    },
    {
     "data": {
      "application/vnd.jupyter.widget-view+json": {
       "model_id": "",
       "version_major": 2,
       "version_minor": 0
      },
      "text/plain": [
       "VBox(children=(Label(value=' 2.19MB of 2.19MB uploaded (0.00MB deduped)\\r'), FloatProgress(value=1.0, max=1.0)…"
      ]
     },
     "metadata": {},
     "output_type": "display_data"
    },
    {
     "data": {
      "text/html": [
       "Find user logs for this run at: <code>C:\\Users\\Jaitesh\\Desktop\\Courses\\DL\\RecurrentNetwork\\wandb\\run-20210520_174445-ysxj5mg4\\logs\\debug.log</code>"
      ],
      "text/plain": [
       "<IPython.core.display.HTML object>"
      ]
     },
     "metadata": {},
     "output_type": "display_data"
    },
    {
     "data": {
      "text/html": [
       "Find internal logs for this run at: <code>C:\\Users\\Jaitesh\\Desktop\\Courses\\DL\\RecurrentNetwork\\wandb\\run-20210520_174445-ysxj5mg4\\logs\\debug-internal.log</code>"
      ],
      "text/plain": [
       "<IPython.core.display.HTML object>"
      ]
     },
     "metadata": {},
     "output_type": "display_data"
    },
    {
     "data": {
      "text/html": [
       "<h3>Run summary:</h3><br/><style>\n",
       "    table.wandb td:nth-child(1) { padding: 0 10px; text-align: right }\n",
       "    </style><table class=\"wandb\">\n",
       "<tr><td>epoch</td><td>9</td></tr><tr><td>loss</td><td>0.14848</td></tr><tr><td>accuracy</td><td>0.80614</td></tr><tr><td>val_loss</td><td>0.18539</td></tr><tr><td>val_accuracy</td><td>0.77194</td></tr><tr><td>_runtime</td><td>735</td></tr><tr><td>_timestamp</td><td>1621513620</td></tr><tr><td>_step</td><td>10</td></tr><tr><td>best_val_loss</td><td>0.18539</td></tr><tr><td>best_epoch</td><td>9</td></tr><tr><td>val_word_accuracy</td><td>0.35457</td></tr></table>"
      ],
      "text/plain": [
       "<IPython.core.display.HTML object>"
      ]
     },
     "metadata": {},
     "output_type": "display_data"
    },
    {
     "data": {
      "text/html": [
       "<h3>Run history:</h3><br/><style>\n",
       "    table.wandb td:nth-child(1) { padding: 0 10px; text-align: right }\n",
       "    </style><table class=\"wandb\">\n",
       "<tr><td>epoch</td><td>▁▂▃▃▄▅▆▆▇█</td></tr><tr><td>loss</td><td>█▅▃▃▂▂▁▁▁▁</td></tr><tr><td>accuracy</td><td>▁▄▅▆▇▇████</td></tr><tr><td>val_loss</td><td>█▅▃▂▂▁▁▁▁▁</td></tr><tr><td>val_accuracy</td><td>▁▄▆▆▇█████</td></tr><tr><td>_runtime</td><td>▁▂▂▃▄▅▅▆▇▇█</td></tr><tr><td>_timestamp</td><td>▁▂▂▃▄▅▅▆▇▇█</td></tr><tr><td>_step</td><td>▁▂▂▃▄▅▅▆▇▇█</td></tr><tr><td>val_word_accuracy</td><td>▁</td></tr></table><br/>"
      ],
      "text/plain": [
       "<IPython.core.display.HTML object>"
      ]
     },
     "metadata": {},
     "output_type": "display_data"
    },
    {
     "data": {
      "text/html": [
       "Synced 5 W&B file(s), 1 media file(s), 0 artifact file(s) and 1 other file(s)"
      ],
      "text/plain": [
       "<IPython.core.display.HTML object>"
      ]
     },
     "metadata": {},
     "output_type": "display_data"
    },
    {
     "data": {
      "text/html": [
       "\n",
       "                    <br/>Synced <strong style=\"color:#cdcd00\">confused-sweep-13</strong>: <a href=\"https://wandb.ai/mooizz/Rec_dakhashina/runs/ysxj5mg4\" target=\"_blank\">https://wandb.ai/mooizz/Rec_dakhashina/runs/ysxj5mg4</a><br/>\n",
       "                "
      ],
      "text/plain": [
       "<IPython.core.display.HTML object>"
      ]
     },
     "metadata": {},
     "output_type": "display_data"
    },
    {
     "name": "stderr",
     "output_type": "stream",
     "text": [
      "wandb: Agent Starting Run: wy3fk0ff with config:\n",
      "wandb: \tbeam_size: 3\n",
      "wandb: \tcell_type: RNN\n",
      "wandb: \tdropout: 0\n",
      "wandb: \thidden_size: 256\n",
      "wandb: \tinput_embed_size: 16\n",
      "wandb: \tnum_hidden_layers: 3\n"
     ]
    },
    {
     "data": {
      "text/html": [
       "\n",
       "                Tracking run with wandb version 0.10.30<br/>\n",
       "                Syncing run <strong style=\"color:#cdcd00\">stoic-sweep-14</strong> to <a href=\"https://wandb.ai\" target=\"_blank\">Weights & Biases</a> <a href=\"https://docs.wandb.com/integrations/jupyter.html\" target=\"_blank\">(Documentation)</a>.<br/>\n",
       "                Project page: <a href=\"https://wandb.ai/mooizz/Rec_dakhashina\" target=\"_blank\">https://wandb.ai/mooizz/Rec_dakhashina</a><br/>\n",
       "                Sweep page: <a href=\"https://wandb.ai/mooizz/Rec_dakhashina/sweeps/qsllfslr\" target=\"_blank\">https://wandb.ai/mooizz/Rec_dakhashina/sweeps/qsllfslr</a><br/>\n",
       "Run page: <a href=\"https://wandb.ai/mooizz/Rec_dakhashina/runs/wy3fk0ff\" target=\"_blank\">https://wandb.ai/mooizz/Rec_dakhashina/runs/wy3fk0ff</a><br/>\n",
       "                Run data is saved locally in <code>C:\\Users\\Jaitesh\\Desktop\\Courses\\DL\\RecurrentNetwork\\wandb\\run-20210520_175705-wy3fk0ff</code><br/><br/>\n",
       "            "
      ],
      "text/plain": [
       "<IPython.core.display.HTML object>"
      ]
     },
     "metadata": {},
     "output_type": "display_data"
    },
    {
     "name": "stdout",
     "output_type": "stream",
     "text": [
      "Epoch 1/10\n",
      "915/915 [==============================] - 230s 251ms/step - loss: 0.8831 - accuracy: 0.3718 - val_loss: 0.4590 - val_accuracy: 0.5948\n",
      "Epoch 2/10\n",
      "915/915 [==============================] - 226s 247ms/step - loss: 0.4122 - accuracy: 0.6307 - val_loss: 0.3502 - val_accuracy: 0.6602\n",
      "Epoch 3/10\n",
      "915/915 [==============================] - 224s 244ms/step - loss: 0.3148 - accuracy: 0.6900 - val_loss: 0.3214 - val_accuracy: 0.6747\n",
      "Epoch 4/10\n",
      "915/915 [==============================] - 224s 245ms/step - loss: 0.2594 - accuracy: 0.7250 - val_loss: 0.3024 - val_accuracy: 0.6888\n",
      "Epoch 5/10\n",
      "915/915 [==============================] - 225s 245ms/step - loss: 0.2303 - accuracy: 0.7438 - val_loss: 0.2940 - val_accuracy: 0.6974\n",
      "Epoch 6/10\n",
      "915/915 [==============================] - 221s 241ms/step - loss: 0.2055 - accuracy: 0.7595 - val_loss: 0.2985 - val_accuracy: 0.6969\n",
      "Epoch 7/10\n",
      "915/915 [==============================] - 224s 244ms/step - loss: 0.2048 - accuracy: 0.7603 - val_loss: 0.2807 - val_accuracy: 0.7111\n",
      "Epoch 8/10\n",
      "915/915 [==============================] - 224s 245ms/step - loss: 0.1788 - accuracy: 0.7777 - val_loss: 0.2951 - val_accuracy: 0.7044\n",
      "Epoch 9/10\n",
      "915/915 [==============================] - 222s 243ms/step - loss: 0.1748 - accuracy: 0.7800 - val_loss: 0.2909 - val_accuracy: 0.7101\n",
      "Epoch 10/10\n",
      "915/915 [==============================] - 226s 247ms/step - loss: 0.1685 - accuracy: 0.7839 - val_loss: 0.2916 - val_accuracy: 0.7125\n"
     ]
    },
    {
     "data": {
      "text/html": [
       "<br/>Waiting for W&B process to finish, PID 36760<br/>Program ended successfully."
      ],
      "text/plain": [
       "<IPython.core.display.HTML object>"
      ]
     },
     "metadata": {},
     "output_type": "display_data"
    },
    {
     "data": {
      "application/vnd.jupyter.widget-view+json": {
       "model_id": "",
       "version_major": 2,
       "version_minor": 0
      },
      "text/plain": [
       "VBox(children=(Label(value=' 8.10MB of 8.10MB uploaded (0.00MB deduped)\\r'), FloatProgress(value=1.0, max=1.0)…"
      ]
     },
     "metadata": {},
     "output_type": "display_data"
    },
    {
     "data": {
      "text/html": [
       "Find user logs for this run at: <code>C:\\Users\\Jaitesh\\Desktop\\Courses\\DL\\RecurrentNetwork\\wandb\\run-20210520_175705-wy3fk0ff\\logs\\debug.log</code>"
      ],
      "text/plain": [
       "<IPython.core.display.HTML object>"
      ]
     },
     "metadata": {},
     "output_type": "display_data"
    },
    {
     "data": {
      "text/html": [
       "Find internal logs for this run at: <code>C:\\Users\\Jaitesh\\Desktop\\Courses\\DL\\RecurrentNetwork\\wandb\\run-20210520_175705-wy3fk0ff\\logs\\debug-internal.log</code>"
      ],
      "text/plain": [
       "<IPython.core.display.HTML object>"
      ]
     },
     "metadata": {},
     "output_type": "display_data"
    },
    {
     "data": {
      "text/html": [
       "<h3>Run summary:</h3><br/><style>\n",
       "    table.wandb td:nth-child(1) { padding: 0 10px; text-align: right }\n",
       "    </style><table class=\"wandb\">\n",
       "<tr><td>epoch</td><td>9</td></tr><tr><td>loss</td><td>0.17207</td></tr><tr><td>accuracy</td><td>0.7819</td></tr><tr><td>val_loss</td><td>0.29162</td></tr><tr><td>val_accuracy</td><td>0.71253</td></tr><tr><td>_runtime</td><td>2364</td></tr><tr><td>_timestamp</td><td>1621515989</td></tr><tr><td>_step</td><td>10</td></tr><tr><td>best_val_loss</td><td>0.28065</td></tr><tr><td>best_epoch</td><td>6</td></tr><tr><td>val_word_accuracy</td><td>0.22101</td></tr></table>"
      ],
      "text/plain": [
       "<IPython.core.display.HTML object>"
      ]
     },
     "metadata": {},
     "output_type": "display_data"
    },
    {
     "data": {
      "text/html": [
       "<h3>Run history:</h3><br/><style>\n",
       "    table.wandb td:nth-child(1) { padding: 0 10px; text-align: right }\n",
       "    </style><table class=\"wandb\">\n",
       "<tr><td>epoch</td><td>▁▂▃▃▄▅▆▆▇█</td></tr><tr><td>loss</td><td>█▄▃▂▂▁▁▁▁▁</td></tr><tr><td>accuracy</td><td>▁▅▆▇▇▇████</td></tr><tr><td>val_loss</td><td>█▄▃▂▂▂▁▂▁▁</td></tr><tr><td>val_accuracy</td><td>▁▅▆▇▇▇████</td></tr><tr><td>_runtime</td><td>▁▂▂▃▄▅▅▆▇██</td></tr><tr><td>_timestamp</td><td>▁▂▂▃▄▅▅▆▇██</td></tr><tr><td>_step</td><td>▁▂▂▃▄▅▅▆▇▇█</td></tr><tr><td>val_word_accuracy</td><td>▁</td></tr></table><br/>"
      ],
      "text/plain": [
       "<IPython.core.display.HTML object>"
      ]
     },
     "metadata": {},
     "output_type": "display_data"
    },
    {
     "data": {
      "text/html": [
       "Synced 5 W&B file(s), 1 media file(s), 0 artifact file(s) and 1 other file(s)"
      ],
      "text/plain": [
       "<IPython.core.display.HTML object>"
      ]
     },
     "metadata": {},
     "output_type": "display_data"
    },
    {
     "data": {
      "text/html": [
       "\n",
       "                    <br/>Synced <strong style=\"color:#cdcd00\">stoic-sweep-14</strong>: <a href=\"https://wandb.ai/mooizz/Rec_dakhashina/runs/wy3fk0ff\" target=\"_blank\">https://wandb.ai/mooizz/Rec_dakhashina/runs/wy3fk0ff</a><br/>\n",
       "                "
      ],
      "text/plain": [
       "<IPython.core.display.HTML object>"
      ]
     },
     "metadata": {},
     "output_type": "display_data"
    },
    {
     "name": "stderr",
     "output_type": "stream",
     "text": [
      "wandb: Agent Starting Run: 95ejbpuz with config:\n",
      "wandb: \tbeam_size: 3\n",
      "wandb: \tcell_type: LSTM\n",
      "wandb: \tdropout: 0\n",
      "wandb: \thidden_size: 128\n",
      "wandb: \tinput_embed_size: 32\n",
      "wandb: \tnum_hidden_layers: 1\n"
     ]
    },
    {
     "data": {
      "text/html": [
       "\n",
       "                Tracking run with wandb version 0.10.30<br/>\n",
       "                Syncing run <strong style=\"color:#cdcd00\">olive-sweep-15</strong> to <a href=\"https://wandb.ai\" target=\"_blank\">Weights & Biases</a> <a href=\"https://docs.wandb.com/integrations/jupyter.html\" target=\"_blank\">(Documentation)</a>.<br/>\n",
       "                Project page: <a href=\"https://wandb.ai/mooizz/Rec_dakhashina\" target=\"_blank\">https://wandb.ai/mooizz/Rec_dakhashina</a><br/>\n",
       "                Sweep page: <a href=\"https://wandb.ai/mooizz/Rec_dakhashina/sweeps/qsllfslr\" target=\"_blank\">https://wandb.ai/mooizz/Rec_dakhashina/sweeps/qsllfslr</a><br/>\n",
       "Run page: <a href=\"https://wandb.ai/mooizz/Rec_dakhashina/runs/95ejbpuz\" target=\"_blank\">https://wandb.ai/mooizz/Rec_dakhashina/runs/95ejbpuz</a><br/>\n",
       "                Run data is saved locally in <code>C:\\Users\\Jaitesh\\Desktop\\Courses\\DL\\RecurrentNetwork\\wandb\\run-20210520_183635-95ejbpuz</code><br/><br/>\n",
       "            "
      ],
      "text/plain": [
       "<IPython.core.display.HTML object>"
      ]
     },
     "metadata": {},
     "output_type": "display_data"
    },
    {
     "name": "stdout",
     "output_type": "stream",
     "text": [
      "Epoch 1/10\n",
      "915/915 [==============================] - 71s 77ms/step - loss: 1.1625 - accuracy: 0.2226 - val_loss: 0.7111 - val_accuracy: 0.4588\n",
      "Epoch 2/10\n",
      "915/915 [==============================] - 72s 79ms/step - loss: 0.6345 - accuracy: 0.5075 - val_loss: 0.4241 - val_accuracy: 0.6198\n",
      "Epoch 3/10\n",
      "915/915 [==============================] - 71s 78ms/step - loss: 0.3900 - accuracy: 0.6544 - val_loss: 0.2990 - val_accuracy: 0.7003\n",
      "Epoch 4/10\n",
      "915/915 [==============================] - 71s 78ms/step - loss: 0.2826 - accuracy: 0.7228 - val_loss: 0.2446 - val_accuracy: 0.7341\n",
      "Epoch 5/10\n",
      "915/915 [==============================] - 72s 79ms/step - loss: 0.2289 - accuracy: 0.7565 - val_loss: 0.2110 - val_accuracy: 0.7538\n",
      "Epoch 6/10\n",
      "915/915 [==============================] - 71s 78ms/step - loss: 0.1953 - accuracy: 0.7774 - val_loss: 0.1959 - val_accuracy: 0.7639\n",
      "Epoch 7/10\n",
      "915/915 [==============================] - 71s 78ms/step - loss: 0.1727 - accuracy: 0.7914 - val_loss: 0.1804 - val_accuracy: 0.7757\n",
      "Epoch 8/10\n",
      "915/915 [==============================] - 71s 78ms/step - loss: 0.1548 - accuracy: 0.8021 - val_loss: 0.1831 - val_accuracy: 0.7711\n",
      "Epoch 9/10\n",
      "915/915 [==============================] - 71s 78ms/step - loss: 0.1415 - accuracy: 0.8107 - val_loss: 0.1652 - val_accuracy: 0.7822\n",
      "Epoch 10/10\n",
      "915/915 [==============================] - 71s 78ms/step - loss: 0.1304 - accuracy: 0.8167 - val_loss: 0.1660 - val_accuracy: 0.7834\n"
     ]
    },
    {
     "data": {
      "text/html": [
       "<br/>Waiting for W&B process to finish, PID 26880<br/>Program ended successfully."
      ],
      "text/plain": [
       "<IPython.core.display.HTML object>"
      ]
     },
     "metadata": {},
     "output_type": "display_data"
    },
    {
     "data": {
      "application/vnd.jupyter.widget-view+json": {
       "model_id": "",
       "version_major": 2,
       "version_minor": 0
      },
      "text/plain": [
       "VBox(children=(Label(value=' 2.29MB of 2.29MB uploaded (0.00MB deduped)\\r'), FloatProgress(value=1.0, max=1.0)…"
      ]
     },
     "metadata": {},
     "output_type": "display_data"
    },
    {
     "data": {
      "text/html": [
       "Find user logs for this run at: <code>C:\\Users\\Jaitesh\\Desktop\\Courses\\DL\\RecurrentNetwork\\wandb\\run-20210520_183635-95ejbpuz\\logs\\debug.log</code>"
      ],
      "text/plain": [
       "<IPython.core.display.HTML object>"
      ]
     },
     "metadata": {},
     "output_type": "display_data"
    },
    {
     "data": {
      "text/html": [
       "Find internal logs for this run at: <code>C:\\Users\\Jaitesh\\Desktop\\Courses\\DL\\RecurrentNetwork\\wandb\\run-20210520_183635-95ejbpuz\\logs\\debug-internal.log</code>"
      ],
      "text/plain": [
       "<IPython.core.display.HTML object>"
      ]
     },
     "metadata": {},
     "output_type": "display_data"
    },
    {
     "data": {
      "text/html": [
       "<h3>Run summary:</h3><br/><style>\n",
       "    table.wandb td:nth-child(1) { padding: 0 10px; text-align: right }\n",
       "    </style><table class=\"wandb\">\n",
       "<tr><td>epoch</td><td>9</td></tr><tr><td>loss</td><td>0.13058</td></tr><tr><td>accuracy</td><td>0.81722</td></tr><tr><td>val_loss</td><td>0.16596</td></tr><tr><td>val_accuracy</td><td>0.78343</td></tr><tr><td>_runtime</td><td>784</td></tr><tr><td>_timestamp</td><td>1621516779</td></tr><tr><td>_step</td><td>10</td></tr><tr><td>best_val_loss</td><td>0.16517</td></tr><tr><td>best_epoch</td><td>8</td></tr><tr><td>val_word_accuracy</td><td>0.38624</td></tr></table>"
      ],
      "text/plain": [
       "<IPython.core.display.HTML object>"
      ]
     },
     "metadata": {},
     "output_type": "display_data"
    },
    {
     "data": {
      "text/html": [
       "<h3>Run history:</h3><br/><style>\n",
       "    table.wandb td:nth-child(1) { padding: 0 10px; text-align: right }\n",
       "    </style><table class=\"wandb\">\n",
       "<tr><td>epoch</td><td>▁▂▃▃▄▅▆▆▇█</td></tr><tr><td>loss</td><td>█▄▃▂▂▁▁▁▁▁</td></tr><tr><td>accuracy</td><td>▁▄▆▇▇▇████</td></tr><tr><td>val_loss</td><td>█▄▃▂▂▁▁▁▁▁</td></tr><tr><td>val_accuracy</td><td>▁▄▆▇▇█████</td></tr><tr><td>_runtime</td><td>▁▂▂▃▄▅▅▆▇▇█</td></tr><tr><td>_timestamp</td><td>▁▂▂▃▄▅▅▆▇▇█</td></tr><tr><td>_step</td><td>▁▂▂▃▄▅▅▆▇▇█</td></tr><tr><td>val_word_accuracy</td><td>▁</td></tr></table><br/>"
      ],
      "text/plain": [
       "<IPython.core.display.HTML object>"
      ]
     },
     "metadata": {},
     "output_type": "display_data"
    },
    {
     "data": {
      "text/html": [
       "Synced 5 W&B file(s), 1 media file(s), 0 artifact file(s) and 1 other file(s)"
      ],
      "text/plain": [
       "<IPython.core.display.HTML object>"
      ]
     },
     "metadata": {},
     "output_type": "display_data"
    },
    {
     "data": {
      "text/html": [
       "\n",
       "                    <br/>Synced <strong style=\"color:#cdcd00\">olive-sweep-15</strong>: <a href=\"https://wandb.ai/mooizz/Rec_dakhashina/runs/95ejbpuz\" target=\"_blank\">https://wandb.ai/mooizz/Rec_dakhashina/runs/95ejbpuz</a><br/>\n",
       "                "
      ],
      "text/plain": [
       "<IPython.core.display.HTML object>"
      ]
     },
     "metadata": {},
     "output_type": "display_data"
    },
    {
     "name": "stderr",
     "output_type": "stream",
     "text": [
      "wandb: Sweep Agent: Waiting for job.\n",
      "wandb: Job received.\n",
      "wandb: Agent Starting Run: ctj5h5vs with config:\n",
      "wandb: \tbeam_size: 2\n",
      "wandb: \tcell_type: RNN\n",
      "wandb: \tdropout: 0\n",
      "wandb: \thidden_size: 64\n",
      "wandb: \tinput_embed_size: 32\n",
      "wandb: \tnum_hidden_layers: 1\n"
     ]
    },
    {
     "data": {
      "text/html": [
       "\n",
       "                Tracking run with wandb version 0.10.30<br/>\n",
       "                Syncing run <strong style=\"color:#cdcd00\">toasty-sweep-16</strong> to <a href=\"https://wandb.ai\" target=\"_blank\">Weights & Biases</a> <a href=\"https://docs.wandb.com/integrations/jupyter.html\" target=\"_blank\">(Documentation)</a>.<br/>\n",
       "                Project page: <a href=\"https://wandb.ai/mooizz/Rec_dakhashina\" target=\"_blank\">https://wandb.ai/mooizz/Rec_dakhashina</a><br/>\n",
       "                Sweep page: <a href=\"https://wandb.ai/mooizz/Rec_dakhashina/sweeps/qsllfslr\" target=\"_blank\">https://wandb.ai/mooizz/Rec_dakhashina/sweeps/qsllfslr</a><br/>\n",
       "Run page: <a href=\"https://wandb.ai/mooizz/Rec_dakhashina/runs/ctj5h5vs\" target=\"_blank\">https://wandb.ai/mooizz/Rec_dakhashina/runs/ctj5h5vs</a><br/>\n",
       "                Run data is saved locally in <code>C:\\Users\\Jaitesh\\Desktop\\Courses\\DL\\RecurrentNetwork\\wandb\\run-20210520_185000-ctj5h5vs</code><br/><br/>\n",
       "            "
      ],
      "text/plain": [
       "<IPython.core.display.HTML object>"
      ]
     },
     "metadata": {},
     "output_type": "display_data"
    },
    {
     "name": "stdout",
     "output_type": "stream",
     "text": [
      "Epoch 1/10\n",
      "915/915 [==============================] - 87s 95ms/step - loss: 1.1634 - accuracy: 0.2199 - val_loss: 0.9067 - val_accuracy: 0.3291\n",
      "Epoch 2/10\n",
      "915/915 [==============================] - 86s 94ms/step - loss: 0.9050 - accuracy: 0.3376 - val_loss: 0.8388 - val_accuracy: 0.37120s - loss: 0.9052 \n",
      "Epoch 3/10\n",
      "915/915 [==============================] - 86s 94ms/step - loss: 0.8319 - accuracy: 0.3837 - val_loss: 0.7991 - val_accuracy: 0.3977\n",
      "Epoch 4/10\n",
      "915/915 [==============================] - 86s 94ms/step - loss: 0.7929 - accuracy: 0.4082 - val_loss: 0.7739 - val_accuracy: 0.4168\n",
      "Epoch 5/10\n",
      "915/915 [==============================] - 86s 94ms/step - loss: 0.7649 - accuracy: 0.4243 - val_loss: 0.7573 - val_accuracy: 0.4263\n",
      "Epoch 6/10\n",
      "915/915 [==============================] - 87s 95ms/step - loss: 0.7455 - accuracy: 0.4345 - val_loss: 0.7405 - val_accuracy: 0.4342\n",
      "Epoch 7/10\n",
      "915/915 [==============================] - 87s 95ms/step - loss: 0.7300 - accuracy: 0.4448 - val_loss: 0.7329 - val_accuracy: 0.4381\n",
      "Epoch 8/10\n",
      "915/915 [==============================] - 87s 94ms/step - loss: 0.7169 - accuracy: 0.4511 - val_loss: 0.7204 - val_accuracy: 0.4428\n",
      "Epoch 9/10\n",
      "915/915 [==============================] - 87s 95ms/step - loss: 0.7075 - accuracy: 0.4561 - val_loss: 0.7111 - val_accuracy: 0.4497\n",
      "Epoch 10/10\n",
      "915/915 [==============================] - 87s 95ms/step - loss: 0.6955 - accuracy: 0.4635 - val_loss: 0.7057 - val_accuracy: 0.4523\n"
     ]
    },
    {
     "data": {
      "text/html": [
       "<br/>Waiting for W&B process to finish, PID 27712<br/>Program failed with code 1.  Press ctrl-c to abort syncing."
      ],
      "text/plain": [
       "<IPython.core.display.HTML object>"
      ]
     },
     "metadata": {},
     "output_type": "display_data"
    },
    {
     "data": {
      "application/vnd.jupyter.widget-view+json": {
       "model_id": "",
       "version_major": 2,
       "version_minor": 0
      },
      "text/plain": [
       "VBox(children=(Label(value=' 0.33MB of 0.33MB uploaded (0.00MB deduped)\\r'), FloatProgress(value=1.0, max=1.0)…"
      ]
     },
     "metadata": {},
     "output_type": "display_data"
    },
    {
     "data": {
      "text/html": [
       "Find user logs for this run at: <code>C:\\Users\\Jaitesh\\Desktop\\Courses\\DL\\RecurrentNetwork\\wandb\\run-20210520_185000-ctj5h5vs\\logs\\debug.log</code>"
      ],
      "text/plain": [
       "<IPython.core.display.HTML object>"
      ]
     },
     "metadata": {},
     "output_type": "display_data"
    },
    {
     "data": {
      "text/html": [
       "Find internal logs for this run at: <code>C:\\Users\\Jaitesh\\Desktop\\Courses\\DL\\RecurrentNetwork\\wandb\\run-20210520_185000-ctj5h5vs\\logs\\debug-internal.log</code>"
      ],
      "text/plain": [
       "<IPython.core.display.HTML object>"
      ]
     },
     "metadata": {},
     "output_type": "display_data"
    },
    {
     "data": {
      "text/html": [
       "<h3>Run summary:</h3><br/><style>\n",
       "    table.wandb td:nth-child(1) { padding: 0 10px; text-align: right }\n",
       "    </style><table class=\"wandb\">\n",
       "<tr><td>epoch</td><td>9</td></tr><tr><td>loss</td><td>0.69308</td></tr><tr><td>accuracy</td><td>0.46501</td></tr><tr><td>val_loss</td><td>0.70566</td></tr><tr><td>val_accuracy</td><td>0.45227</td></tr><tr><td>_runtime</td><td>870</td></tr><tr><td>_timestamp</td><td>1621517670</td></tr><tr><td>_step</td><td>9</td></tr><tr><td>best_val_loss</td><td>0.70566</td></tr><tr><td>best_epoch</td><td>9</td></tr></table>"
      ],
      "text/plain": [
       "<IPython.core.display.HTML object>"
      ]
     },
     "metadata": {},
     "output_type": "display_data"
    },
    {
     "data": {
      "text/html": [
       "<h3>Run history:</h3><br/><style>\n",
       "    table.wandb td:nth-child(1) { padding: 0 10px; text-align: right }\n",
       "    </style><table class=\"wandb\">\n",
       "<tr><td>epoch</td><td>▁▂▃▃▄▅▆▆▇█</td></tr><tr><td>loss</td><td>█▅▄▃▂▂▂▁▁▁</td></tr><tr><td>accuracy</td><td>▁▄▅▆▇▇▇███</td></tr><tr><td>val_loss</td><td>█▆▄▃▃▂▂▂▁▁</td></tr><tr><td>val_accuracy</td><td>▁▃▅▆▇▇▇▇██</td></tr><tr><td>_runtime</td><td>▁▂▃▃▄▅▆▆▇█</td></tr><tr><td>_timestamp</td><td>▁▂▃▃▄▅▆▆▇█</td></tr><tr><td>_step</td><td>▁▂▃▃▄▅▆▆▇█</td></tr></table><br/>"
      ],
      "text/plain": [
       "<IPython.core.display.HTML object>"
      ]
     },
     "metadata": {},
     "output_type": "display_data"
    },
    {
     "data": {
      "text/html": [
       "Synced 5 W&B file(s), 1 media file(s), 0 artifact file(s) and 1 other file(s)"
      ],
      "text/plain": [
       "<IPython.core.display.HTML object>"
      ]
     },
     "metadata": {},
     "output_type": "display_data"
    },
    {
     "data": {
      "text/html": [
       "\n",
       "                    <br/>Synced <strong style=\"color:#cdcd00\">toasty-sweep-16</strong>: <a href=\"https://wandb.ai/mooizz/Rec_dakhashina/runs/ctj5h5vs\" target=\"_blank\">https://wandb.ai/mooizz/Rec_dakhashina/runs/ctj5h5vs</a><br/>\n",
       "                "
      ],
      "text/plain": [
       "<IPython.core.display.HTML object>"
      ]
     },
     "metadata": {},
     "output_type": "display_data"
    },
    {
     "name": "stderr",
     "output_type": "stream",
     "text": [
      "Run ctj5h5vs errored: ValueError('Layer model_2 expects 2 input(s), but it received 1 input tensors. Inputs received: [<tf.Tensor: shape=(1, 5683, 64), dtype=float32, numpy=\\narray([[[1.821042  , 0.8365084 , 1.0051454 , ..., 0.02152371,\\n         1.9936523 , 0.68204236],\\n        [1.8289256 , 0.41307187, 1.6580634 , ..., 0.44160134,\\n         1.9899341 , 0.68103653],\\n        [1.8853003 , 1.5647914 , 0.8078265 , ..., 0.00447625,\\n         1.9995476 , 0.43663305],\\n        ...,\\n        [1.3693285 , 0.7379951 , 0.08407372, ..., 0.00269192,\\n         1.9905937 , 1.8223171 ],\\n        [1.338457  , 0.7284463 , 0.08183938, ..., 0.00240868,\\n         1.9891922 , 1.8067912 ],\\n        [1.3145291 , 0.7966283 , 0.07268566, ..., 0.00218236,\\n         1.9888995 , 1.8366071 ]]], dtype=float32)>]')\n",
      "wandb: ERROR Run ctj5h5vs errored: ValueError('Layer model_2 expects 2 input(s), but it received 1 input tensors. Inputs received: [<tf.Tensor: shape=(1, 5683, 64), dtype=float32, numpy=\\narray([[[1.821042  , 0.8365084 , 1.0051454 , ..., 0.02152371,\\n         1.9936523 , 0.68204236],\\n        [1.8289256 , 0.41307187, 1.6580634 , ..., 0.44160134,\\n         1.9899341 , 0.68103653],\\n        [1.8853003 , 1.5647914 , 0.8078265 , ..., 0.00447625,\\n         1.9995476 , 0.43663305],\\n        ...,\\n        [1.3693285 , 0.7379951 , 0.08407372, ..., 0.00269192,\\n         1.9905937 , 1.8223171 ],\\n        [1.338457  , 0.7284463 , 0.08183938, ..., 0.00240868,\\n         1.9891922 , 1.8067912 ],\\n        [1.3145291 , 0.7966283 , 0.07268566, ..., 0.00218236,\\n         1.9888995 , 1.8366071 ]]], dtype=float32)>]')\n",
      "wandb: Agent Starting Run: hnjvl1ud with config:\n",
      "wandb: \tbeam_size: 1\n",
      "wandb: \tcell_type: GRU\n",
      "wandb: \tdropout: 0.2\n",
      "wandb: \thidden_size: 64\n",
      "wandb: \tinput_embed_size: 32\n",
      "wandb: \tnum_hidden_layers: 3\n"
     ]
    },
    {
     "data": {
      "text/html": [
       "\n",
       "                Tracking run with wandb version 0.10.30<br/>\n",
       "                Syncing run <strong style=\"color:#cdcd00\">glowing-sweep-17</strong> to <a href=\"https://wandb.ai\" target=\"_blank\">Weights & Biases</a> <a href=\"https://docs.wandb.com/integrations/jupyter.html\" target=\"_blank\">(Documentation)</a>.<br/>\n",
       "                Project page: <a href=\"https://wandb.ai/mooizz/Rec_dakhashina\" target=\"_blank\">https://wandb.ai/mooizz/Rec_dakhashina</a><br/>\n",
       "                Sweep page: <a href=\"https://wandb.ai/mooizz/Rec_dakhashina/sweeps/qsllfslr\" target=\"_blank\">https://wandb.ai/mooizz/Rec_dakhashina/sweeps/qsllfslr</a><br/>\n",
       "Run page: <a href=\"https://wandb.ai/mooizz/Rec_dakhashina/runs/hnjvl1ud\" target=\"_blank\">https://wandb.ai/mooizz/Rec_dakhashina/runs/hnjvl1ud</a><br/>\n",
       "                Run data is saved locally in <code>C:\\Users\\Jaitesh\\Desktop\\Courses\\DL\\RecurrentNetwork\\wandb\\run-20210520_190445-hnjvl1ud</code><br/><br/>\n",
       "            "
      ],
      "text/plain": [
       "<IPython.core.display.HTML object>"
      ]
     },
     "metadata": {},
     "output_type": "display_data"
    },
    {
     "name": "stdout",
     "output_type": "stream",
     "text": [
      "Epoch 1/10\n",
      "915/915 [==============================] - 218s 238ms/step - loss: 1.2083 - accuracy: 0.1980 - val_loss: 0.8651 - val_accuracy: 0.3483\n",
      "Epoch 2/10\n",
      "915/915 [==============================] - 214s 234ms/step - loss: 0.8572 - accuracy: 0.3612 - val_loss: 0.6866 - val_accuracy: 0.4639\n",
      "Epoch 3/10\n",
      "915/915 [==============================] - 213s 233ms/step - loss: 0.6993 - accuracy: 0.4572 - val_loss: 0.5450 - val_accuracy: 0.5427\n",
      "Epoch 4/10\n",
      "915/915 [==============================] - 209s 228ms/step - loss: 0.5780 - accuracy: 0.5311 - val_loss: 0.4476 - val_accuracy: 0.6018\n",
      "Epoch 5/10\n",
      "915/915 [==============================] - 207s 226ms/step - loss: 0.4904 - accuracy: 0.5841 - val_loss: 0.3845 - val_accuracy: 0.6430\n",
      "Epoch 6/10\n",
      "915/915 [==============================] - 208s 227ms/step - loss: 0.4311 - accuracy: 0.6241 - val_loss: 0.3333 - val_accuracy: 0.6759\n",
      "Epoch 7/10\n",
      "915/915 [==============================] - 207s 226ms/step - loss: 0.3800 - accuracy: 0.6530 - val_loss: 0.2944 - val_accuracy: 0.7002\n",
      "Epoch 8/10\n",
      "915/915 [==============================] - 206s 225ms/step - loss: 0.3447 - accuracy: 0.6763 - val_loss: 0.2636 - val_accuracy: 0.7222\n",
      "Epoch 9/10\n",
      "915/915 [==============================] - 207s 226ms/step - loss: 0.3116 - accuracy: 0.6990 - val_loss: 0.2392 - val_accuracy: 0.7364\n",
      "Epoch 10/10\n",
      "915/915 [==============================] - 207s 226ms/step - loss: 0.2864 - accuracy: 0.7150 - val_loss: 0.2215 - val_accuracy: 0.7503\n"
     ]
    },
    {
     "data": {
      "text/html": [
       "<br/>Waiting for W&B process to finish, PID 34288<br/>Program ended successfully."
      ],
      "text/plain": [
       "<IPython.core.display.HTML object>"
      ]
     },
     "metadata": {},
     "output_type": "display_data"
    },
    {
     "data": {
      "application/vnd.jupyter.widget-view+json": {
       "model_id": "",
       "version_major": 2,
       "version_minor": 0
      },
      "text/plain": [
       "VBox(children=(Label(value=' 1.86MB of 1.86MB uploaded (0.00MB deduped)\\r'), FloatProgress(value=1.0, max=1.0)…"
      ]
     },
     "metadata": {},
     "output_type": "display_data"
    },
    {
     "data": {
      "text/html": [
       "Find user logs for this run at: <code>C:\\Users\\Jaitesh\\Desktop\\Courses\\DL\\RecurrentNetwork\\wandb\\run-20210520_190445-hnjvl1ud\\logs\\debug.log</code>"
      ],
      "text/plain": [
       "<IPython.core.display.HTML object>"
      ]
     },
     "metadata": {},
     "output_type": "display_data"
    },
    {
     "data": {
      "text/html": [
       "Find internal logs for this run at: <code>C:\\Users\\Jaitesh\\Desktop\\Courses\\DL\\RecurrentNetwork\\wandb\\run-20210520_190445-hnjvl1ud\\logs\\debug-internal.log</code>"
      ],
      "text/plain": [
       "<IPython.core.display.HTML object>"
      ]
     },
     "metadata": {},
     "output_type": "display_data"
    },
    {
     "data": {
      "text/html": [
       "<h3>Run summary:</h3><br/><style>\n",
       "    table.wandb td:nth-child(1) { padding: 0 10px; text-align: right }\n",
       "    </style><table class=\"wandb\">\n",
       "<tr><td>epoch</td><td>9</td></tr><tr><td>loss</td><td>0.28049</td></tr><tr><td>accuracy</td><td>0.71842</td></tr><tr><td>val_loss</td><td>0.22147</td></tr><tr><td>val_accuracy</td><td>0.75026</td></tr><tr><td>_runtime</td><td>2160</td></tr><tr><td>_timestamp</td><td>1621519845</td></tr><tr><td>_step</td><td>10</td></tr><tr><td>best_val_loss</td><td>0.22147</td></tr><tr><td>best_epoch</td><td>9</td></tr><tr><td>val_word_accuracy</td><td>0.2657</td></tr></table>"
      ],
      "text/plain": [
       "<IPython.core.display.HTML object>"
      ]
     },
     "metadata": {},
     "output_type": "display_data"
    },
    {
     "data": {
      "text/html": [
       "<h3>Run history:</h3><br/><style>\n",
       "    table.wandb td:nth-child(1) { padding: 0 10px; text-align: right }\n",
       "    </style><table class=\"wandb\">\n",
       "<tr><td>epoch</td><td>▁▂▃▃▄▅▆▆▇█</td></tr><tr><td>loss</td><td>█▆▄▃▃▂▂▂▁▁</td></tr><tr><td>accuracy</td><td>▁▃▄▅▆▇▇▇██</td></tr><tr><td>val_loss</td><td>█▆▅▃▃▂▂▁▁▁</td></tr><tr><td>val_accuracy</td><td>▁▃▄▅▆▇▇███</td></tr><tr><td>_runtime</td><td>▁▂▃▃▄▅▆▆▇██</td></tr><tr><td>_timestamp</td><td>▁▂▃▃▄▅▆▆▇██</td></tr><tr><td>_step</td><td>▁▂▂▃▄▅▅▆▇▇█</td></tr><tr><td>val_word_accuracy</td><td>▁</td></tr></table><br/>"
      ],
      "text/plain": [
       "<IPython.core.display.HTML object>"
      ]
     },
     "metadata": {},
     "output_type": "display_data"
    },
    {
     "data": {
      "text/html": [
       "Synced 5 W&B file(s), 1 media file(s), 0 artifact file(s) and 1 other file(s)"
      ],
      "text/plain": [
       "<IPython.core.display.HTML object>"
      ]
     },
     "metadata": {},
     "output_type": "display_data"
    },
    {
     "data": {
      "text/html": [
       "\n",
       "                    <br/>Synced <strong style=\"color:#cdcd00\">glowing-sweep-17</strong>: <a href=\"https://wandb.ai/mooizz/Rec_dakhashina/runs/hnjvl1ud\" target=\"_blank\">https://wandb.ai/mooizz/Rec_dakhashina/runs/hnjvl1ud</a><br/>\n",
       "                "
      ],
      "text/plain": [
       "<IPython.core.display.HTML object>"
      ]
     },
     "metadata": {},
     "output_type": "display_data"
    },
    {
     "name": "stderr",
     "output_type": "stream",
     "text": [
      "wandb: Agent Starting Run: gw3ak27q with config:\n",
      "wandb: \tbeam_size: 1\n",
      "wandb: \tcell_type: GRU\n",
      "wandb: \tdropout: 0\n",
      "wandb: \thidden_size: 64\n",
      "wandb: \tinput_embed_size: 16\n",
      "wandb: \tnum_hidden_layers: 1\n"
     ]
    },
    {
     "data": {
      "text/html": [
       "\n",
       "                Tracking run with wandb version 0.10.30<br/>\n",
       "                Syncing run <strong style=\"color:#cdcd00\">eager-sweep-18</strong> to <a href=\"https://wandb.ai\" target=\"_blank\">Weights & Biases</a> <a href=\"https://docs.wandb.com/integrations/jupyter.html\" target=\"_blank\">(Documentation)</a>.<br/>\n",
       "                Project page: <a href=\"https://wandb.ai/mooizz/Rec_dakhashina\" target=\"_blank\">https://wandb.ai/mooizz/Rec_dakhashina</a><br/>\n",
       "                Sweep page: <a href=\"https://wandb.ai/mooizz/Rec_dakhashina/sweeps/qsllfslr\" target=\"_blank\">https://wandb.ai/mooizz/Rec_dakhashina/sweeps/qsllfslr</a><br/>\n",
       "Run page: <a href=\"https://wandb.ai/mooizz/Rec_dakhashina/runs/gw3ak27q\" target=\"_blank\">https://wandb.ai/mooizz/Rec_dakhashina/runs/gw3ak27q</a><br/>\n",
       "                Run data is saved locally in <code>C:\\Users\\Jaitesh\\Desktop\\Courses\\DL\\RecurrentNetwork\\wandb\\run-20210520_194055-gw3ak27q</code><br/><br/>\n",
       "            "
      ],
      "text/plain": [
       "<IPython.core.display.HTML object>"
      ]
     },
     "metadata": {},
     "output_type": "display_data"
    },
    {
     "name": "stdout",
     "output_type": "stream",
     "text": [
      "Epoch 1/10\n",
      "915/915 [==============================] - 69s 75ms/step - loss: 1.1956 - accuracy: 0.2067 - val_loss: 0.9193 - val_accuracy: 0.3267\n",
      "Epoch 2/10\n",
      "915/915 [==============================] - 70s 77ms/step - loss: 0.8978 - accuracy: 0.3418 - val_loss: 0.8115 - val_accuracy: 0.3862\n",
      "Epoch 3/10\n",
      "915/915 [==============================] - 69s 76ms/step - loss: 0.7879 - accuracy: 0.4050 - val_loss: 0.7280 - val_accuracy: 0.4352\n",
      "Epoch 4/10\n",
      "915/915 [==============================] - 73s 80ms/step - loss: 0.7023 - accuracy: 0.4558 - val_loss: 0.6447 - val_accuracy: 0.4850\n",
      "Epoch 5/10\n",
      "915/915 [==============================] - 70s 77ms/step - loss: 0.6239 - accuracy: 0.5058 - val_loss: 0.5823 - val_accuracy: 0.5203\n",
      "Epoch 6/10\n",
      "915/915 [==============================] - 68s 75ms/step - loss: 0.5585 - accuracy: 0.5450 - val_loss: 0.5290 - val_accuracy: 0.5540\n",
      "Epoch 7/10\n",
      "915/915 [==============================] - 67s 73ms/step - loss: 0.5089 - accuracy: 0.5761 - val_loss: 0.4883 - val_accuracy: 0.5807\n",
      "Epoch 8/10\n",
      "915/915 [==============================] - 68s 74ms/step - loss: 0.4676 - accuracy: 0.6033 - val_loss: 0.4514 - val_accuracy: 0.6028\n",
      "Epoch 9/10\n",
      "915/915 [==============================] - 67s 73ms/step - loss: 0.4289 - accuracy: 0.6251 - val_loss: 0.4247 - val_accuracy: 0.6189\n",
      "Epoch 10/10\n",
      "915/915 [==============================] - 67s 73ms/step - loss: 0.3953 - accuracy: 0.6463 - val_loss: 0.3887 - val_accuracy: 0.6400\n"
     ]
    },
    {
     "data": {
      "text/html": [
       "<br/>Waiting for W&B process to finish, PID 34980<br/>Program failed with code 1.  Press ctrl-c to abort syncing."
      ],
      "text/plain": [
       "<IPython.core.display.HTML object>"
      ]
     },
     "metadata": {},
     "output_type": "display_data"
    },
    {
     "data": {
      "application/vnd.jupyter.widget-view+json": {
       "model_id": "",
       "version_major": 2,
       "version_minor": 0
      },
      "text/plain": [
       "VBox(children=(Label(value=' 0.63MB of 0.63MB uploaded (0.00MB deduped)\\r'), FloatProgress(value=1.0, max=1.0)…"
      ]
     },
     "metadata": {},
     "output_type": "display_data"
    },
    {
     "data": {
      "text/html": [
       "Find user logs for this run at: <code>C:\\Users\\Jaitesh\\Desktop\\Courses\\DL\\RecurrentNetwork\\wandb\\run-20210520_194055-gw3ak27q\\logs\\debug.log</code>"
      ],
      "text/plain": [
       "<IPython.core.display.HTML object>"
      ]
     },
     "metadata": {},
     "output_type": "display_data"
    },
    {
     "data": {
      "text/html": [
       "Find internal logs for this run at: <code>C:\\Users\\Jaitesh\\Desktop\\Courses\\DL\\RecurrentNetwork\\wandb\\run-20210520_194055-gw3ak27q\\logs\\debug-internal.log</code>"
      ],
      "text/plain": [
       "<IPython.core.display.HTML object>"
      ]
     },
     "metadata": {},
     "output_type": "display_data"
    },
    {
     "data": {
      "text/html": [
       "<h3>Run summary:</h3><br/><style>\n",
       "    table.wandb td:nth-child(1) { padding: 0 10px; text-align: right }\n",
       "    </style><table class=\"wandb\">\n",
       "<tr><td>epoch</td><td>9</td></tr><tr><td>loss</td><td>0.3899</td></tr><tr><td>accuracy</td><td>0.64944</td></tr><tr><td>val_loss</td><td>0.38868</td></tr><tr><td>val_accuracy</td><td>0.64002</td></tr><tr><td>_runtime</td><td>695</td></tr><tr><td>_timestamp</td><td>1621520550</td></tr><tr><td>_step</td><td>9</td></tr><tr><td>best_val_loss</td><td>0.38868</td></tr><tr><td>best_epoch</td><td>9</td></tr></table>"
      ],
      "text/plain": [
       "<IPython.core.display.HTML object>"
      ]
     },
     "metadata": {},
     "output_type": "display_data"
    },
    {
     "data": {
      "text/html": [
       "<h3>Run history:</h3><br/><style>\n",
       "    table.wandb td:nth-child(1) { padding: 0 10px; text-align: right }\n",
       "    </style><table class=\"wandb\">\n",
       "<tr><td>epoch</td><td>▁▂▃▃▄▅▆▆▇█</td></tr><tr><td>loss</td><td>█▆▅▄▃▃▂▂▁▁</td></tr><tr><td>accuracy</td><td>▁▃▄▅▆▆▇▇██</td></tr><tr><td>val_loss</td><td>█▇▅▄▄▃▂▂▁▁</td></tr><tr><td>val_accuracy</td><td>▁▂▃▅▅▆▇▇██</td></tr><tr><td>_runtime</td><td>▁▂▃▃▄▅▆▆▇█</td></tr><tr><td>_timestamp</td><td>▁▂▃▃▄▅▆▆▇█</td></tr><tr><td>_step</td><td>▁▂▃▃▄▅▆▆▇█</td></tr></table><br/>"
      ],
      "text/plain": [
       "<IPython.core.display.HTML object>"
      ]
     },
     "metadata": {},
     "output_type": "display_data"
    },
    {
     "data": {
      "text/html": [
       "Synced 5 W&B file(s), 1 media file(s), 0 artifact file(s) and 1 other file(s)"
      ],
      "text/plain": [
       "<IPython.core.display.HTML object>"
      ]
     },
     "metadata": {},
     "output_type": "display_data"
    },
    {
     "data": {
      "text/html": [
       "\n",
       "                    <br/>Synced <strong style=\"color:#cdcd00\">eager-sweep-18</strong>: <a href=\"https://wandb.ai/mooizz/Rec_dakhashina/runs/gw3ak27q\" target=\"_blank\">https://wandb.ai/mooizz/Rec_dakhashina/runs/gw3ak27q</a><br/>\n",
       "                "
      ],
      "text/plain": [
       "<IPython.core.display.HTML object>"
      ]
     },
     "metadata": {},
     "output_type": "display_data"
    },
    {
     "name": "stderr",
     "output_type": "stream",
     "text": [
      "Run gw3ak27q errored: ValueError('Layer model_2 expects 2 input(s), but it received 1 input tensors. Inputs received: [<tf.Tensor: shape=(1, 5683, 64), dtype=float32, numpy=\\narray([[[0.5965537 , 0.70451826, 1.0520122 , ..., 1.9713657 ,\\n         0.7417288 , 0.51667184],\\n        [0.6206449 , 0.9878473 , 1.1065133 , ..., 1.9633237 ,\\n         0.99450165, 0.34481353],\\n        [0.4307683 , 0.72340816, 1.4807289 , ..., 1.9962276 ,\\n         0.8731511 , 0.27273995],\\n        ...,\\n        [0.8223995 , 0.8911724 , 1.4307868 , ..., 1.9980197 ,\\n         1.6384444 , 1.3306001 ],\\n        [0.8314328 , 1.4124658 , 1.4729568 , ..., 1.9978261 ,\\n         1.686892  , 1.2350366 ],\\n        [0.85714734, 1.4144787 , 1.3912349 , ..., 1.998105  ,\\n         1.7088742 , 1.2392203 ]]], dtype=float32)>]')\n",
      "wandb: ERROR Run gw3ak27q errored: ValueError('Layer model_2 expects 2 input(s), but it received 1 input tensors. Inputs received: [<tf.Tensor: shape=(1, 5683, 64), dtype=float32, numpy=\\narray([[[0.5965537 , 0.70451826, 1.0520122 , ..., 1.9713657 ,\\n         0.7417288 , 0.51667184],\\n        [0.6206449 , 0.9878473 , 1.1065133 , ..., 1.9633237 ,\\n         0.99450165, 0.34481353],\\n        [0.4307683 , 0.72340816, 1.4807289 , ..., 1.9962276 ,\\n         0.8731511 , 0.27273995],\\n        ...,\\n        [0.8223995 , 0.8911724 , 1.4307868 , ..., 1.9980197 ,\\n         1.6384444 , 1.3306001 ],\\n        [0.8314328 , 1.4124658 , 1.4729568 , ..., 1.9978261 ,\\n         1.686892  , 1.2350366 ],\\n        [0.85714734, 1.4144787 , 1.3912349 , ..., 1.998105  ,\\n         1.7088742 , 1.2392203 ]]], dtype=float32)>]')\n",
      "wandb: Agent Starting Run: 9kex35bs with config:\n",
      "wandb: \tbeam_size: 1\n",
      "wandb: \tcell_type: GRU\n",
      "wandb: \tdropout: 0\n",
      "wandb: \thidden_size: 64\n",
      "wandb: \tinput_embed_size: 16\n",
      "wandb: \tnum_hidden_layers: 1\n"
     ]
    },
    {
     "data": {
      "text/html": [
       "\n",
       "                Tracking run with wandb version 0.10.30<br/>\n",
       "                Syncing run <strong style=\"color:#cdcd00\">twilight-sweep-19</strong> to <a href=\"https://wandb.ai\" target=\"_blank\">Weights & Biases</a> <a href=\"https://docs.wandb.com/integrations/jupyter.html\" target=\"_blank\">(Documentation)</a>.<br/>\n",
       "                Project page: <a href=\"https://wandb.ai/mooizz/Rec_dakhashina\" target=\"_blank\">https://wandb.ai/mooizz/Rec_dakhashina</a><br/>\n",
       "                Sweep page: <a href=\"https://wandb.ai/mooizz/Rec_dakhashina/sweeps/qsllfslr\" target=\"_blank\">https://wandb.ai/mooizz/Rec_dakhashina/sweeps/qsllfslr</a><br/>\n",
       "Run page: <a href=\"https://wandb.ai/mooizz/Rec_dakhashina/runs/9kex35bs\" target=\"_blank\">https://wandb.ai/mooizz/Rec_dakhashina/runs/9kex35bs</a><br/>\n",
       "                Run data is saved locally in <code>C:\\Users\\Jaitesh\\Desktop\\Courses\\DL\\RecurrentNetwork\\wandb\\run-20210520_195244-9kex35bs</code><br/><br/>\n",
       "            "
      ],
      "text/plain": [
       "<IPython.core.display.HTML object>"
      ]
     },
     "metadata": {},
     "output_type": "display_data"
    },
    {
     "name": "stdout",
     "output_type": "stream",
     "text": [
      "Epoch 1/10\n",
      "915/915 [==============================] - 67s 73ms/step - loss: 1.1953 - accuracy: 0.2112 - val_loss: 0.9310 - val_accuracy: 0.3141\n",
      "Epoch 2/10\n",
      "915/915 [==============================] - 71s 78ms/step - loss: 0.9118 - accuracy: 0.3325 - val_loss: 0.8391 - val_accuracy: 0.3664\n",
      "Epoch 3/10\n",
      "915/915 [==============================] - 72s 78ms/step - loss: 0.8220 - accuracy: 0.3820 - val_loss: 0.7713 - val_accuracy: 0.4093\n",
      "Epoch 4/10\n",
      "915/915 [==============================] - 72s 78ms/step - loss: 0.7538 - accuracy: 0.4269 - val_loss: 0.7133 - val_accuracy: 0.4435\n",
      "Epoch 5/10\n",
      "915/915 [==============================] - 69s 75ms/step - loss: 0.6928 - accuracy: 0.4644 - val_loss: 0.6598 - val_accuracy: 0.4750\n",
      "Epoch 6/10\n",
      "915/915 [==============================] - 69s 75ms/step - loss: 0.6337 - accuracy: 0.4991 - val_loss: 0.5990 - val_accuracy: 0.5062\n",
      "Epoch 7/10\n",
      "915/915 [==============================] - 68s 74ms/step - loss: 0.5729 - accuracy: 0.5350 - val_loss: 0.5472 - val_accuracy: 0.5389\n",
      "Epoch 8/10\n",
      "915/915 [==============================] - 68s 75ms/step - loss: 0.5256 - accuracy: 0.5638 - val_loss: 0.5056 - val_accuracy: 0.5621\n",
      "Epoch 9/10\n",
      "915/915 [==============================] - 70s 76ms/step - loss: 0.4828 - accuracy: 0.5891 - val_loss: 0.4749 - val_accuracy: 0.5809\n",
      "Epoch 10/10\n",
      "915/915 [==============================] - 72s 79ms/step - loss: 0.4478 - accuracy: 0.6102 - val_loss: 0.4401 - val_accuracy: 0.6044\n"
     ]
    },
    {
     "data": {
      "text/html": [
       "<br/>Waiting for W&B process to finish, PID 23112<br/>Program failed with code 1.  Press ctrl-c to abort syncing."
      ],
      "text/plain": [
       "<IPython.core.display.HTML object>"
      ]
     },
     "metadata": {},
     "output_type": "display_data"
    },
    {
     "data": {
      "application/vnd.jupyter.widget-view+json": {
       "model_id": "",
       "version_major": 2,
       "version_minor": 0
      },
      "text/plain": [
       "VBox(children=(Label(value=' 0.63MB of 0.63MB uploaded (0.00MB deduped)\\r'), FloatProgress(value=1.0, max=1.0)…"
      ]
     },
     "metadata": {},
     "output_type": "display_data"
    },
    {
     "data": {
      "text/html": [
       "Find user logs for this run at: <code>C:\\Users\\Jaitesh\\Desktop\\Courses\\DL\\RecurrentNetwork\\wandb\\run-20210520_195244-9kex35bs\\logs\\debug.log</code>"
      ],
      "text/plain": [
       "<IPython.core.display.HTML object>"
      ]
     },
     "metadata": {},
     "output_type": "display_data"
    },
    {
     "data": {
      "text/html": [
       "Find internal logs for this run at: <code>C:\\Users\\Jaitesh\\Desktop\\Courses\\DL\\RecurrentNetwork\\wandb\\run-20210520_195244-9kex35bs\\logs\\debug-internal.log</code>"
      ],
      "text/plain": [
       "<IPython.core.display.HTML object>"
      ]
     },
     "metadata": {},
     "output_type": "display_data"
    },
    {
     "data": {
      "text/html": [
       "<h3>Run summary:</h3><br/><style>\n",
       "    table.wandb td:nth-child(1) { padding: 0 10px; text-align: right }\n",
       "    </style><table class=\"wandb\">\n",
       "<tr><td>epoch</td><td>9</td></tr><tr><td>loss</td><td>0.44046</td></tr><tr><td>accuracy</td><td>0.61519</td></tr><tr><td>val_loss</td><td>0.44009</td></tr><tr><td>val_accuracy</td><td>0.60444</td></tr><tr><td>_runtime</td><td>705</td></tr><tr><td>_timestamp</td><td>1621521270</td></tr><tr><td>_step</td><td>9</td></tr><tr><td>best_val_loss</td><td>0.44009</td></tr><tr><td>best_epoch</td><td>9</td></tr></table>"
      ],
      "text/plain": [
       "<IPython.core.display.HTML object>"
      ]
     },
     "metadata": {},
     "output_type": "display_data"
    },
    {
     "data": {
      "text/html": [
       "<h3>Run history:</h3><br/><style>\n",
       "    table.wandb td:nth-child(1) { padding: 0 10px; text-align: right }\n",
       "    </style><table class=\"wandb\">\n",
       "<tr><td>epoch</td><td>▁▂▃▃▄▅▆▆▇█</td></tr><tr><td>loss</td><td>█▆▅▄▄▃▂▂▁▁</td></tr><tr><td>accuracy</td><td>▁▃▄▄▅▆▇▇██</td></tr><tr><td>val_loss</td><td>█▇▆▅▄▃▃▂▁▁</td></tr><tr><td>val_accuracy</td><td>▁▂▃▄▅▆▆▇▇█</td></tr><tr><td>_runtime</td><td>▁▂▃▃▄▅▆▆▇█</td></tr><tr><td>_timestamp</td><td>▁▂▃▃▄▅▆▆▇█</td></tr><tr><td>_step</td><td>▁▂▃▃▄▅▆▆▇█</td></tr></table><br/>"
      ],
      "text/plain": [
       "<IPython.core.display.HTML object>"
      ]
     },
     "metadata": {},
     "output_type": "display_data"
    },
    {
     "data": {
      "text/html": [
       "Synced 5 W&B file(s), 1 media file(s), 0 artifact file(s) and 1 other file(s)"
      ],
      "text/plain": [
       "<IPython.core.display.HTML object>"
      ]
     },
     "metadata": {},
     "output_type": "display_data"
    },
    {
     "data": {
      "text/html": [
       "\n",
       "                    <br/>Synced <strong style=\"color:#cdcd00\">twilight-sweep-19</strong>: <a href=\"https://wandb.ai/mooizz/Rec_dakhashina/runs/9kex35bs\" target=\"_blank\">https://wandb.ai/mooizz/Rec_dakhashina/runs/9kex35bs</a><br/>\n",
       "                "
      ],
      "text/plain": [
       "<IPython.core.display.HTML object>"
      ]
     },
     "metadata": {},
     "output_type": "display_data"
    },
    {
     "name": "stderr",
     "output_type": "stream",
     "text": [
      "Run 9kex35bs errored: ValueError('Layer model_2 expects 2 input(s), but it received 1 input tensors. Inputs received: [<tf.Tensor: shape=(1, 5683, 64), dtype=float32, numpy=\\narray([[[1.2581433 , 1.745116  , 0.9231166 , ..., 0.8892307 ,\\n         1.3120826 , 1.0723695 ],\\n        [1.169044  , 1.7230686 , 0.9726476 , ..., 0.9431375 ,\\n         1.3212488 , 1.1052711 ],\\n        [1.3606989 , 1.7866385 , 0.85719013, ..., 0.9501438 ,\\n         1.3217638 , 1.4320225 ],\\n        ...,\\n        [0.7935209 , 1.6927521 , 0.42333597, ..., 1.4786463 ,\\n         1.6420738 , 1.3521307 ],\\n        [0.86961025, 1.6456761 , 0.4371115 , ..., 1.5414785 ,\\n         1.5510821 , 1.4138    ],\\n        [0.7031333 , 1.6440543 , 0.4423195 , ..., 1.5675039 ,\\n         1.5511264 , 1.5710901 ]]], dtype=float32)>]')\n",
      "wandb: ERROR Run 9kex35bs errored: ValueError('Layer model_2 expects 2 input(s), but it received 1 input tensors. Inputs received: [<tf.Tensor: shape=(1, 5683, 64), dtype=float32, numpy=\\narray([[[1.2581433 , 1.745116  , 0.9231166 , ..., 0.8892307 ,\\n         1.3120826 , 1.0723695 ],\\n        [1.169044  , 1.7230686 , 0.9726476 , ..., 0.9431375 ,\\n         1.3212488 , 1.1052711 ],\\n        [1.3606989 , 1.7866385 , 0.85719013, ..., 0.9501438 ,\\n         1.3217638 , 1.4320225 ],\\n        ...,\\n        [0.7935209 , 1.6927521 , 0.42333597, ..., 1.4786463 ,\\n         1.6420738 , 1.3521307 ],\\n        [0.86961025, 1.6456761 , 0.4371115 , ..., 1.5414785 ,\\n         1.5510821 , 1.4138    ],\\n        [0.7031333 , 1.6440543 , 0.4423195 , ..., 1.5675039 ,\\n         1.5511264 , 1.5710901 ]]], dtype=float32)>]')\n",
      "wandb: Agent Starting Run: jf9alfpo with config:\n",
      "wandb: \tbeam_size: 1\n",
      "wandb: \tcell_type: GRU\n",
      "wandb: \tdropout: 0\n",
      "wandb: \thidden_size: 128\n",
      "wandb: \tinput_embed_size: 32\n",
      "wandb: \tnum_hidden_layers: 2\n"
     ]
    },
    {
     "data": {
      "text/html": [
       "\n",
       "                Tracking run with wandb version 0.10.30<br/>\n",
       "                Syncing run <strong style=\"color:#cdcd00\">stilted-sweep-20</strong> to <a href=\"https://wandb.ai\" target=\"_blank\">Weights & Biases</a> <a href=\"https://docs.wandb.com/integrations/jupyter.html\" target=\"_blank\">(Documentation)</a>.<br/>\n",
       "                Project page: <a href=\"https://wandb.ai/mooizz/Rec_dakhashina\" target=\"_blank\">https://wandb.ai/mooizz/Rec_dakhashina</a><br/>\n",
       "                Sweep page: <a href=\"https://wandb.ai/mooizz/Rec_dakhashina/sweeps/qsllfslr\" target=\"_blank\">https://wandb.ai/mooizz/Rec_dakhashina/sweeps/qsllfslr</a><br/>\n",
       "Run page: <a href=\"https://wandb.ai/mooizz/Rec_dakhashina/runs/jf9alfpo\" target=\"_blank\">https://wandb.ai/mooizz/Rec_dakhashina/runs/jf9alfpo</a><br/>\n",
       "                Run data is saved locally in <code>C:\\Users\\Jaitesh\\Desktop\\Courses\\DL\\RecurrentNetwork\\wandb\\run-20210520_200439-jf9alfpo</code><br/><br/>\n",
       "            "
      ],
      "text/plain": [
       "<IPython.core.display.HTML object>"
      ]
     },
     "metadata": {},
     "output_type": "display_data"
    },
    {
     "name": "stdout",
     "output_type": "stream",
     "text": [
      "Epoch 1/10\n",
      "915/915 [==============================] - 129s 141ms/step - loss: 1.1342 - accuracy: 0.2330 - val_loss: 0.7329 - val_accuracy: 0.4403\n",
      "Epoch 2/10\n",
      "915/915 [==============================] - 130s 142ms/step - loss: 0.6753 - accuracy: 0.4827 - val_loss: 0.4818 - val_accuracy: 0.5902\n",
      "Epoch 3/10\n",
      "915/915 [==============================] - 130s 142ms/step - loss: 0.4388 - accuracy: 0.6252 - val_loss: 0.3351 - val_accuracy: 0.6772\n",
      "Epoch 4/10\n",
      "915/915 [==============================] - 127s 138ms/step - loss: 0.2988 - accuracy: 0.7128 - val_loss: 0.2479 - val_accuracy: 0.7356\n",
      "Epoch 5/10\n",
      "915/915 [==============================] - 127s 139ms/step - loss: 0.2180 - accuracy: 0.7640 - val_loss: 0.2000 - val_accuracy: 0.7646\n",
      "Epoch 6/10\n",
      "915/915 [==============================] - 125s 137ms/step - loss: 0.1709 - accuracy: 0.7937 - val_loss: 0.1801 - val_accuracy: 0.7743\n",
      "Epoch 7/10\n",
      "915/915 [==============================] - 125s 136ms/step - loss: 0.1434 - accuracy: 0.8100 - val_loss: 0.1632 - val_accuracy: 0.7867\n",
      "Epoch 8/10\n",
      "915/915 [==============================] - 127s 139ms/step - loss: 0.1231 - accuracy: 0.8228 - val_loss: 0.1567 - val_accuracy: 0.7896\n",
      "Epoch 9/10\n",
      "915/915 [==============================] - 128s 140ms/step - loss: 0.1089 - accuracy: 0.8323 - val_loss: 0.1544 - val_accuracy: 0.7909\n",
      "Epoch 10/10\n",
      "915/915 [==============================] - 127s 139ms/step - loss: 0.0968 - accuracy: 0.8395 - val_loss: 0.1514 - val_accuracy: 0.7932\n"
     ]
    },
    {
     "data": {
      "text/html": [
       "<br/>Waiting for W&B process to finish, PID 23560<br/>Program ended successfully."
      ],
      "text/plain": [
       "<IPython.core.display.HTML object>"
      ]
     },
     "metadata": {},
     "output_type": "display_data"
    },
    {
     "data": {
      "application/vnd.jupyter.widget-view+json": {
       "model_id": "",
       "version_major": 2,
       "version_minor": 0
      },
      "text/plain": [
       "VBox(children=(Label(value=' 4.07MB of 4.07MB uploaded (0.00MB deduped)\\r'), FloatProgress(value=1.0, max=1.0)…"
      ]
     },
     "metadata": {},
     "output_type": "display_data"
    },
    {
     "data": {
      "text/html": [
       "Find user logs for this run at: <code>C:\\Users\\Jaitesh\\Desktop\\Courses\\DL\\RecurrentNetwork\\wandb\\run-20210520_200439-jf9alfpo\\logs\\debug.log</code>"
      ],
      "text/plain": [
       "<IPython.core.display.HTML object>"
      ]
     },
     "metadata": {},
     "output_type": "display_data"
    },
    {
     "data": {
      "text/html": [
       "Find internal logs for this run at: <code>C:\\Users\\Jaitesh\\Desktop\\Courses\\DL\\RecurrentNetwork\\wandb\\run-20210520_200439-jf9alfpo\\logs\\debug-internal.log</code>"
      ],
      "text/plain": [
       "<IPython.core.display.HTML object>"
      ]
     },
     "metadata": {},
     "output_type": "display_data"
    },
    {
     "data": {
      "text/html": [
       "<h3>Run summary:</h3><br/><style>\n",
       "    table.wandb td:nth-child(1) { padding: 0 10px; text-align: right }\n",
       "    </style><table class=\"wandb\">\n",
       "<tr><td>epoch</td><td>9</td></tr><tr><td>loss</td><td>0.09649</td></tr><tr><td>accuracy</td><td>0.83936</td></tr><tr><td>val_loss</td><td>0.15139</td></tr><tr><td>val_accuracy</td><td>0.7932</td></tr><tr><td>_runtime</td><td>1316</td></tr><tr><td>_timestamp</td><td>1621522595</td></tr><tr><td>_step</td><td>10</td></tr><tr><td>best_val_loss</td><td>0.15139</td></tr><tr><td>best_epoch</td><td>9</td></tr><tr><td>val_word_accuracy</td><td>0.41756</td></tr></table>"
      ],
      "text/plain": [
       "<IPython.core.display.HTML object>"
      ]
     },
     "metadata": {},
     "output_type": "display_data"
    },
    {
     "data": {
      "text/html": [
       "<h3>Run history:</h3><br/><style>\n",
       "    table.wandb td:nth-child(1) { padding: 0 10px; text-align: right }\n",
       "    </style><table class=\"wandb\">\n",
       "<tr><td>epoch</td><td>▁▂▃▃▄▅▆▆▇█</td></tr><tr><td>loss</td><td>█▅▃▂▂▂▁▁▁▁</td></tr><tr><td>accuracy</td><td>▁▄▅▇▇▇████</td></tr><tr><td>val_loss</td><td>█▅▃▂▂▁▁▁▁▁</td></tr><tr><td>val_accuracy</td><td>▁▄▆▇▇█████</td></tr><tr><td>_runtime</td><td>▁▂▃▃▄▅▆▆▇██</td></tr><tr><td>_timestamp</td><td>▁▂▃▃▄▅▆▆▇██</td></tr><tr><td>_step</td><td>▁▂▂▃▄▅▅▆▇▇█</td></tr><tr><td>val_word_accuracy</td><td>▁</td></tr></table><br/>"
      ],
      "text/plain": [
       "<IPython.core.display.HTML object>"
      ]
     },
     "metadata": {},
     "output_type": "display_data"
    },
    {
     "data": {
      "text/html": [
       "Synced 5 W&B file(s), 1 media file(s), 0 artifact file(s) and 1 other file(s)"
      ],
      "text/plain": [
       "<IPython.core.display.HTML object>"
      ]
     },
     "metadata": {},
     "output_type": "display_data"
    },
    {
     "data": {
      "text/html": [
       "\n",
       "                    <br/>Synced <strong style=\"color:#cdcd00\">stilted-sweep-20</strong>: <a href=\"https://wandb.ai/mooizz/Rec_dakhashina/runs/jf9alfpo\" target=\"_blank\">https://wandb.ai/mooizz/Rec_dakhashina/runs/jf9alfpo</a><br/>\n",
       "                "
      ],
      "text/plain": [
       "<IPython.core.display.HTML object>"
      ]
     },
     "metadata": {},
     "output_type": "display_data"
    },
    {
     "name": "stderr",
     "output_type": "stream",
     "text": [
      "wandb: Agent Starting Run: ifeiip2d with config:\n",
      "wandb: \tbeam_size: 1\n",
      "wandb: \tcell_type: RNN\n",
      "wandb: \tdropout: 0.2\n",
      "wandb: \thidden_size: 256\n",
      "wandb: \tinput_embed_size: 32\n",
      "wandb: \tnum_hidden_layers: 3\n"
     ]
    },
    {
     "data": {
      "text/html": [
       "\n",
       "                Tracking run with wandb version 0.10.30<br/>\n",
       "                Syncing run <strong style=\"color:#cdcd00\">sleek-sweep-21</strong> to <a href=\"https://wandb.ai\" target=\"_blank\">Weights & Biases</a> <a href=\"https://docs.wandb.com/integrations/jupyter.html\" target=\"_blank\">(Documentation)</a>.<br/>\n",
       "                Project page: <a href=\"https://wandb.ai/mooizz/Rec_dakhashina\" target=\"_blank\">https://wandb.ai/mooizz/Rec_dakhashina</a><br/>\n",
       "                Sweep page: <a href=\"https://wandb.ai/mooizz/Rec_dakhashina/sweeps/qsllfslr\" target=\"_blank\">https://wandb.ai/mooizz/Rec_dakhashina/sweeps/qsllfslr</a><br/>\n",
       "Run page: <a href=\"https://wandb.ai/mooizz/Rec_dakhashina/runs/ifeiip2d\" target=\"_blank\">https://wandb.ai/mooizz/Rec_dakhashina/runs/ifeiip2d</a><br/>\n",
       "                Run data is saved locally in <code>C:\\Users\\Jaitesh\\Desktop\\Courses\\DL\\RecurrentNetwork\\wandb\\run-20210520_202642-ifeiip2d</code><br/><br/>\n",
       "            "
      ],
      "text/plain": [
       "<IPython.core.display.HTML object>"
      ]
     },
     "metadata": {},
     "output_type": "display_data"
    },
    {
     "name": "stdout",
     "output_type": "stream",
     "text": [
      "Epoch 1/10\n",
      "915/915 [==============================] - 240s 262ms/step - loss: 0.9570 - accuracy: 0.3297 - val_loss: 0.5495 - val_accuracy: 0.5392\n",
      "Epoch 2/10\n",
      "915/915 [==============================] - 242s 264ms/step - loss: 0.5726 - accuracy: 0.5317 - val_loss: 0.4510 - val_accuracy: 0.5952\n",
      "Epoch 3/10\n",
      "915/915 [==============================] - 237s 259ms/step - loss: 0.4931 - accuracy: 0.5774 - val_loss: 0.4068 - val_accuracy: 0.6227\n",
      "Epoch 4/10\n",
      "915/915 [==============================] - 235s 257ms/step - loss: 0.4469 - accuracy: 0.6044 - val_loss: 0.3831 - val_accuracy: 0.6387\n",
      "Epoch 5/10\n",
      "915/915 [==============================] - 237s 259ms/step - loss: 0.4165 - accuracy: 0.6230 - val_loss: 0.3571 - val_accuracy: 0.6509\n",
      "Epoch 6/10\n",
      "915/915 [==============================] - 241s 264ms/step - loss: 0.3880 - accuracy: 0.6407 - val_loss: 0.3418 - val_accuracy: 0.6638\n",
      "Epoch 7/10\n",
      "915/915 [==============================] - 241s 263ms/step - loss: 0.3735 - accuracy: 0.6503 - val_loss: 0.3262 - val_accuracy: 0.6755\n",
      "Epoch 8/10\n",
      "915/915 [==============================] - 238s 260ms/step - loss: 0.3534 - accuracy: 0.6626 - val_loss: 0.3306 - val_accuracy: 0.6728\n",
      "Epoch 9/10\n",
      "915/915 [==============================] - 237s 259ms/step - loss: 0.3400 - accuracy: 0.6725 - val_loss: 0.3268 - val_accuracy: 0.6744\n",
      "Epoch 10/10\n",
      "915/915 [==============================] - 235s 257ms/step - loss: 0.3271 - accuracy: 0.6795 - val_loss: 0.3157 - val_accuracy: 0.6795\n"
     ]
    },
    {
     "data": {
      "text/html": [
       "<br/>Waiting for W&B process to finish, PID 36116<br/>Program ended successfully."
      ],
      "text/plain": [
       "<IPython.core.display.HTML object>"
      ]
     },
     "metadata": {},
     "output_type": "display_data"
    },
    {
     "data": {
      "application/vnd.jupyter.widget-view+json": {
       "model_id": "",
       "version_major": 2,
       "version_minor": 0
      },
      "text/plain": [
       "VBox(children=(Label(value=' 8.15MB of 8.15MB uploaded (0.00MB deduped)\\r'), FloatProgress(value=1.0, max=1.0)…"
      ]
     },
     "metadata": {},
     "output_type": "display_data"
    },
    {
     "data": {
      "text/html": [
       "Find user logs for this run at: <code>C:\\Users\\Jaitesh\\Desktop\\Courses\\DL\\RecurrentNetwork\\wandb\\run-20210520_202642-ifeiip2d\\logs\\debug.log</code>"
      ],
      "text/plain": [
       "<IPython.core.display.HTML object>"
      ]
     },
     "metadata": {},
     "output_type": "display_data"
    },
    {
     "data": {
      "text/html": [
       "Find internal logs for this run at: <code>C:\\Users\\Jaitesh\\Desktop\\Courses\\DL\\RecurrentNetwork\\wandb\\run-20210520_202642-ifeiip2d\\logs\\debug-internal.log</code>"
      ],
      "text/plain": [
       "<IPython.core.display.HTML object>"
      ]
     },
     "metadata": {},
     "output_type": "display_data"
    },
    {
     "data": {
      "text/html": [
       "<h3>Run summary:</h3><br/><style>\n",
       "    table.wandb td:nth-child(1) { padding: 0 10px; text-align: right }\n",
       "    </style><table class=\"wandb\">\n",
       "<tr><td>epoch</td><td>9</td></tr><tr><td>loss</td><td>0.32941</td></tr><tr><td>accuracy</td><td>0.67929</td></tr><tr><td>val_loss</td><td>0.31565</td></tr><tr><td>val_accuracy</td><td>0.67947</td></tr><tr><td>_runtime</td><td>2431</td></tr><tr><td>_timestamp</td><td>1621525033</td></tr><tr><td>_step</td><td>10</td></tr><tr><td>best_val_loss</td><td>0.31565</td></tr><tr><td>best_epoch</td><td>9</td></tr><tr><td>val_word_accuracy</td><td>0.14429</td></tr></table>"
      ],
      "text/plain": [
       "<IPython.core.display.HTML object>"
      ]
     },
     "metadata": {},
     "output_type": "display_data"
    },
    {
     "data": {
      "text/html": [
       "<h3>Run history:</h3><br/><style>\n",
       "    table.wandb td:nth-child(1) { padding: 0 10px; text-align: right }\n",
       "    </style><table class=\"wandb\">\n",
       "<tr><td>epoch</td><td>▁▂▃▃▄▅▆▆▇█</td></tr><tr><td>loss</td><td>█▄▃▃▂▂▂▁▁▁</td></tr><tr><td>accuracy</td><td>▁▄▅▆▇▇▇███</td></tr><tr><td>val_loss</td><td>█▅▄▃▂▂▁▁▁▁</td></tr><tr><td>val_accuracy</td><td>▁▄▅▆▇▇████</td></tr><tr><td>_runtime</td><td>▁▂▃▃▄▅▆▆▇██</td></tr><tr><td>_timestamp</td><td>▁▂▃▃▄▅▆▆▇██</td></tr><tr><td>_step</td><td>▁▂▂▃▄▅▅▆▇▇█</td></tr><tr><td>val_word_accuracy</td><td>▁</td></tr></table><br/>"
      ],
      "text/plain": [
       "<IPython.core.display.HTML object>"
      ]
     },
     "metadata": {},
     "output_type": "display_data"
    },
    {
     "data": {
      "text/html": [
       "Synced 5 W&B file(s), 1 media file(s), 0 artifact file(s) and 1 other file(s)"
      ],
      "text/plain": [
       "<IPython.core.display.HTML object>"
      ]
     },
     "metadata": {},
     "output_type": "display_data"
    },
    {
     "data": {
      "text/html": [
       "\n",
       "                    <br/>Synced <strong style=\"color:#cdcd00\">sleek-sweep-21</strong>: <a href=\"https://wandb.ai/mooizz/Rec_dakhashina/runs/ifeiip2d\" target=\"_blank\">https://wandb.ai/mooizz/Rec_dakhashina/runs/ifeiip2d</a><br/>\n",
       "                "
      ],
      "text/plain": [
       "<IPython.core.display.HTML object>"
      ]
     },
     "metadata": {},
     "output_type": "display_data"
    },
    {
     "name": "stderr",
     "output_type": "stream",
     "text": [
      "wandb: Sweep Agent: Waiting for job.\n",
      "wandb: Job received.\n",
      "wandb: Agent Starting Run: p2i8a23g with config:\n",
      "wandb: \tbeam_size: 2\n",
      "wandb: \tcell_type: RNN\n",
      "wandb: \tdropout: 0\n",
      "wandb: \thidden_size: 256\n",
      "wandb: \tinput_embed_size: 16\n",
      "wandb: \tnum_hidden_layers: 3\n"
     ]
    },
    {
     "data": {
      "text/html": [
       "\n",
       "                Tracking run with wandb version 0.10.30<br/>\n",
       "                Syncing run <strong style=\"color:#cdcd00\">magic-sweep-22</strong> to <a href=\"https://wandb.ai\" target=\"_blank\">Weights & Biases</a> <a href=\"https://docs.wandb.com/integrations/jupyter.html\" target=\"_blank\">(Documentation)</a>.<br/>\n",
       "                Project page: <a href=\"https://wandb.ai/mooizz/Rec_dakhashina\" target=\"_blank\">https://wandb.ai/mooizz/Rec_dakhashina</a><br/>\n",
       "                Sweep page: <a href=\"https://wandb.ai/mooizz/Rec_dakhashina/sweeps/qsllfslr\" target=\"_blank\">https://wandb.ai/mooizz/Rec_dakhashina/sweeps/qsllfslr</a><br/>\n",
       "Run page: <a href=\"https://wandb.ai/mooizz/Rec_dakhashina/runs/p2i8a23g\" target=\"_blank\">https://wandb.ai/mooizz/Rec_dakhashina/runs/p2i8a23g</a><br/>\n",
       "                Run data is saved locally in <code>C:\\Users\\Jaitesh\\Desktop\\Courses\\DL\\RecurrentNetwork\\wandb\\run-20210520_210738-p2i8a23g</code><br/><br/>\n",
       "            "
      ],
      "text/plain": [
       "<IPython.core.display.HTML object>"
      ]
     },
     "metadata": {},
     "output_type": "display_data"
    },
    {
     "name": "stdout",
     "output_type": "stream",
     "text": [
      "Epoch 1/10\n",
      "915/915 [==============================] - 228s 250ms/step - loss: 0.8939 - accuracy: 0.3607 - val_loss: 0.4527 - val_accuracy: 0.5936\n",
      "Epoch 2/10\n",
      "915/915 [==============================] - 228s 249ms/step - loss: 0.4144 - accuracy: 0.6273 - val_loss: 0.3621 - val_accuracy: 0.6481\n",
      "Epoch 3/10\n",
      "915/915 [==============================] - 231s 252ms/step - loss: 0.3149 - accuracy: 0.6885 - val_loss: 0.3293 - val_accuracy: 0.6702\n",
      "Epoch 4/10\n",
      "915/915 [==============================] - 229s 250ms/step - loss: 0.2653 - accuracy: 0.7200 - val_loss: 0.3017 - val_accuracy: 0.6869\n",
      "Epoch 5/10\n",
      "915/915 [==============================] - 231s 252ms/step - loss: 0.2348 - accuracy: 0.7405 - val_loss: 0.2818 - val_accuracy: 0.7026\n",
      "Epoch 6/10\n",
      "885/915 [============================>.] - ETA: 7s - loss: 0.2110 - accuracy: 0.7557"
     ]
    }
   ],
   "source": [
    "wandb.agent('qsllfslr', train, entity=\"mooizz\",project=\"Rec_dakhashina\")"
   ]
  },
  {
   "cell_type": "code",
   "execution_count": null,
   "id": "32263abd",
   "metadata": {},
   "outputs": [],
   "source": []
  }
 ],
 "metadata": {
  "kernelspec": {
   "display_name": "tf2.4",
   "language": "python",
   "name": "tf2.4"
  },
  "language_info": {
   "codemirror_mode": {
    "name": "ipython",
    "version": 3
   },
   "file_extension": ".py",
   "mimetype": "text/x-python",
   "name": "python",
   "nbconvert_exporter": "python",
   "pygments_lexer": "ipython3",
   "version": "3.8.8"
  }
 },
 "nbformat": 4,
 "nbformat_minor": 5
}
