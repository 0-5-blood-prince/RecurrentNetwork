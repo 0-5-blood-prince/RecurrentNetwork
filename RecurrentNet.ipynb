{
  "nbformat": 4,
  "nbformat_minor": 5,
  "metadata": {
    "kernelspec": {
      "name": "python370jvsc74a57bd0e2fb31f127fed1e79f709faf34890f85681c06e7e30d28a328e5c7500cdf6725",
      "display_name": "Python 3.7.0 64-bit"
    },
    "colab": {
      "name": "RecurentNet (1).ipynb",
      "provenance": [],
      "collapsed_sections": []
    },
    "accelerator": "GPU",
    "language_info": {
      "name": "python",
      "version": "3.7.0"
    },
    "widgets": {
      "application/vnd.jupyter.widget-state+json": {
        "9303fdaff9c24309955ee93cfe6885eb": {
          "model_module": "@jupyter-widgets/controls",
          "model_name": "VBoxModel",
          "state": {
            "_view_name": "VBoxView",
            "_dom_classes": [],
            "_model_name": "VBoxModel",
            "_view_module": "@jupyter-widgets/controls",
            "_model_module_version": "1.5.0",
            "_view_count": null,
            "_view_module_version": "1.5.0",
            "box_style": "",
            "layout": "IPY_MODEL_d82470e88337436298c9f2bd75c94b7d",
            "_model_module": "@jupyter-widgets/controls",
            "children": [
              "IPY_MODEL_3f3599f8aa03443b911858d0725de9db",
              "IPY_MODEL_58c68944d9754e62a564bf45f352e993"
            ]
          }
        },
        "d82470e88337436298c9f2bd75c94b7d": {
          "model_module": "@jupyter-widgets/base",
          "model_name": "LayoutModel",
          "state": {
            "_view_name": "LayoutView",
            "grid_template_rows": null,
            "right": null,
            "justify_content": null,
            "_view_module": "@jupyter-widgets/base",
            "overflow": null,
            "_model_module_version": "1.2.0",
            "_view_count": null,
            "flex_flow": null,
            "width": null,
            "min_width": null,
            "border": null,
            "align_items": null,
            "bottom": null,
            "_model_module": "@jupyter-widgets/base",
            "top": null,
            "grid_column": null,
            "overflow_y": null,
            "overflow_x": null,
            "grid_auto_flow": null,
            "grid_area": null,
            "grid_template_columns": null,
            "flex": null,
            "_model_name": "LayoutModel",
            "justify_items": null,
            "grid_row": null,
            "max_height": null,
            "align_content": null,
            "visibility": null,
            "align_self": null,
            "height": null,
            "min_height": null,
            "padding": null,
            "grid_auto_rows": null,
            "grid_gap": null,
            "max_width": null,
            "order": null,
            "_view_module_version": "1.2.0",
            "grid_template_areas": null,
            "object_position": null,
            "object_fit": null,
            "grid_auto_columns": null,
            "margin": null,
            "display": null,
            "left": null
          }
        },
        "3f3599f8aa03443b911858d0725de9db": {
          "model_module": "@jupyter-widgets/controls",
          "model_name": "LabelModel",
          "state": {
            "_view_name": "LabelView",
            "style": "IPY_MODEL_6b03e2bef1254c77a944223e457e5421",
            "_dom_classes": [],
            "description": "",
            "_model_name": "LabelModel",
            "placeholder": "​",
            "_view_module": "@jupyter-widgets/controls",
            "_model_module_version": "1.5.0",
            "value": " 0.76MB of 0.76MB uploaded (0.00MB deduped)\r",
            "_view_count": null,
            "_view_module_version": "1.5.0",
            "description_tooltip": null,
            "_model_module": "@jupyter-widgets/controls",
            "layout": "IPY_MODEL_4936ab4e76b64aa4bcc3c71d2562c940"
          }
        },
        "58c68944d9754e62a564bf45f352e993": {
          "model_module": "@jupyter-widgets/controls",
          "model_name": "FloatProgressModel",
          "state": {
            "_view_name": "ProgressView",
            "style": "IPY_MODEL_8dd9610fc0354196a638859b9d188eae",
            "_dom_classes": [],
            "description": "",
            "_model_name": "FloatProgressModel",
            "bar_style": "",
            "max": 1,
            "_view_module": "@jupyter-widgets/controls",
            "_model_module_version": "1.5.0",
            "value": 1,
            "_view_count": null,
            "_view_module_version": "1.5.0",
            "orientation": "horizontal",
            "min": 0,
            "description_tooltip": null,
            "_model_module": "@jupyter-widgets/controls",
            "layout": "IPY_MODEL_b81e26e5d5604d42ab3d4096e52c13bb"
          }
        },
        "6b03e2bef1254c77a944223e457e5421": {
          "model_module": "@jupyter-widgets/controls",
          "model_name": "DescriptionStyleModel",
          "state": {
            "_view_name": "StyleView",
            "_model_name": "DescriptionStyleModel",
            "description_width": "",
            "_view_module": "@jupyter-widgets/base",
            "_model_module_version": "1.5.0",
            "_view_count": null,
            "_view_module_version": "1.2.0",
            "_model_module": "@jupyter-widgets/controls"
          }
        },
        "4936ab4e76b64aa4bcc3c71d2562c940": {
          "model_module": "@jupyter-widgets/base",
          "model_name": "LayoutModel",
          "state": {
            "_view_name": "LayoutView",
            "grid_template_rows": null,
            "right": null,
            "justify_content": null,
            "_view_module": "@jupyter-widgets/base",
            "overflow": null,
            "_model_module_version": "1.2.0",
            "_view_count": null,
            "flex_flow": null,
            "width": null,
            "min_width": null,
            "border": null,
            "align_items": null,
            "bottom": null,
            "_model_module": "@jupyter-widgets/base",
            "top": null,
            "grid_column": null,
            "overflow_y": null,
            "overflow_x": null,
            "grid_auto_flow": null,
            "grid_area": null,
            "grid_template_columns": null,
            "flex": null,
            "_model_name": "LayoutModel",
            "justify_items": null,
            "grid_row": null,
            "max_height": null,
            "align_content": null,
            "visibility": null,
            "align_self": null,
            "height": null,
            "min_height": null,
            "padding": null,
            "grid_auto_rows": null,
            "grid_gap": null,
            "max_width": null,
            "order": null,
            "_view_module_version": "1.2.0",
            "grid_template_areas": null,
            "object_position": null,
            "object_fit": null,
            "grid_auto_columns": null,
            "margin": null,
            "display": null,
            "left": null
          }
        },
        "8dd9610fc0354196a638859b9d188eae": {
          "model_module": "@jupyter-widgets/controls",
          "model_name": "ProgressStyleModel",
          "state": {
            "_view_name": "StyleView",
            "_model_name": "ProgressStyleModel",
            "description_width": "",
            "_view_module": "@jupyter-widgets/base",
            "_model_module_version": "1.5.0",
            "_view_count": null,
            "_view_module_version": "1.2.0",
            "bar_color": null,
            "_model_module": "@jupyter-widgets/controls"
          }
        },
        "b81e26e5d5604d42ab3d4096e52c13bb": {
          "model_module": "@jupyter-widgets/base",
          "model_name": "LayoutModel",
          "state": {
            "_view_name": "LayoutView",
            "grid_template_rows": null,
            "right": null,
            "justify_content": null,
            "_view_module": "@jupyter-widgets/base",
            "overflow": null,
            "_model_module_version": "1.2.0",
            "_view_count": null,
            "flex_flow": null,
            "width": null,
            "min_width": null,
            "border": null,
            "align_items": null,
            "bottom": null,
            "_model_module": "@jupyter-widgets/base",
            "top": null,
            "grid_column": null,
            "overflow_y": null,
            "overflow_x": null,
            "grid_auto_flow": null,
            "grid_area": null,
            "grid_template_columns": null,
            "flex": null,
            "_model_name": "LayoutModel",
            "justify_items": null,
            "grid_row": null,
            "max_height": null,
            "align_content": null,
            "visibility": null,
            "align_self": null,
            "height": null,
            "min_height": null,
            "padding": null,
            "grid_auto_rows": null,
            "grid_gap": null,
            "max_width": null,
            "order": null,
            "_view_module_version": "1.2.0",
            "grid_template_areas": null,
            "object_position": null,
            "object_fit": null,
            "grid_auto_columns": null,
            "margin": null,
            "display": null,
            "left": null
          }
        },
        "57fbf68ef7f54bab96cd0885152a1a76": {
          "model_module": "@jupyter-widgets/controls",
          "model_name": "VBoxModel",
          "state": {
            "_view_name": "VBoxView",
            "_dom_classes": [],
            "_model_name": "VBoxModel",
            "_view_module": "@jupyter-widgets/controls",
            "_model_module_version": "1.5.0",
            "_view_count": null,
            "_view_module_version": "1.5.0",
            "box_style": "",
            "layout": "IPY_MODEL_db69c06622004555ab45792fc06e3c9d",
            "_model_module": "@jupyter-widgets/controls",
            "children": [
              "IPY_MODEL_323e927e692846cc99b964507ae97f18",
              "IPY_MODEL_a9a13b8aa98c4360bc9484acd836e063"
            ]
          }
        },
        "db69c06622004555ab45792fc06e3c9d": {
          "model_module": "@jupyter-widgets/base",
          "model_name": "LayoutModel",
          "state": {
            "_view_name": "LayoutView",
            "grid_template_rows": null,
            "right": null,
            "justify_content": null,
            "_view_module": "@jupyter-widgets/base",
            "overflow": null,
            "_model_module_version": "1.2.0",
            "_view_count": null,
            "flex_flow": null,
            "width": null,
            "min_width": null,
            "border": null,
            "align_items": null,
            "bottom": null,
            "_model_module": "@jupyter-widgets/base",
            "top": null,
            "grid_column": null,
            "overflow_y": null,
            "overflow_x": null,
            "grid_auto_flow": null,
            "grid_area": null,
            "grid_template_columns": null,
            "flex": null,
            "_model_name": "LayoutModel",
            "justify_items": null,
            "grid_row": null,
            "max_height": null,
            "align_content": null,
            "visibility": null,
            "align_self": null,
            "height": null,
            "min_height": null,
            "padding": null,
            "grid_auto_rows": null,
            "grid_gap": null,
            "max_width": null,
            "order": null,
            "_view_module_version": "1.2.0",
            "grid_template_areas": null,
            "object_position": null,
            "object_fit": null,
            "grid_auto_columns": null,
            "margin": null,
            "display": null,
            "left": null
          }
        },
        "323e927e692846cc99b964507ae97f18": {
          "model_module": "@jupyter-widgets/controls",
          "model_name": "LabelModel",
          "state": {
            "_view_name": "LabelView",
            "style": "IPY_MODEL_2cc19a8c8beb4ed0a8ae5d4e8f1dd5d0",
            "_dom_classes": [],
            "description": "",
            "_model_name": "LabelModel",
            "placeholder": "​",
            "_view_module": "@jupyter-widgets/controls",
            "_model_module_version": "1.5.0",
            "value": " 0.34MB of 0.34MB uploaded (0.00MB deduped)\r",
            "_view_count": null,
            "_view_module_version": "1.5.0",
            "description_tooltip": null,
            "_model_module": "@jupyter-widgets/controls",
            "layout": "IPY_MODEL_ef2f3d1ce18346f2bf300ce1ef4c8e6b"
          }
        },
        "a9a13b8aa98c4360bc9484acd836e063": {
          "model_module": "@jupyter-widgets/controls",
          "model_name": "FloatProgressModel",
          "state": {
            "_view_name": "ProgressView",
            "style": "IPY_MODEL_f15adb6236974dde82e82a4685877053",
            "_dom_classes": [],
            "description": "",
            "_model_name": "FloatProgressModel",
            "bar_style": "",
            "max": 1,
            "_view_module": "@jupyter-widgets/controls",
            "_model_module_version": "1.5.0",
            "value": 1,
            "_view_count": null,
            "_view_module_version": "1.5.0",
            "orientation": "horizontal",
            "min": 0,
            "description_tooltip": null,
            "_model_module": "@jupyter-widgets/controls",
            "layout": "IPY_MODEL_2592a39e62a14f5e9af1046cb995d20b"
          }
        },
        "2cc19a8c8beb4ed0a8ae5d4e8f1dd5d0": {
          "model_module": "@jupyter-widgets/controls",
          "model_name": "DescriptionStyleModel",
          "state": {
            "_view_name": "StyleView",
            "_model_name": "DescriptionStyleModel",
            "description_width": "",
            "_view_module": "@jupyter-widgets/base",
            "_model_module_version": "1.5.0",
            "_view_count": null,
            "_view_module_version": "1.2.0",
            "_model_module": "@jupyter-widgets/controls"
          }
        },
        "ef2f3d1ce18346f2bf300ce1ef4c8e6b": {
          "model_module": "@jupyter-widgets/base",
          "model_name": "LayoutModel",
          "state": {
            "_view_name": "LayoutView",
            "grid_template_rows": null,
            "right": null,
            "justify_content": null,
            "_view_module": "@jupyter-widgets/base",
            "overflow": null,
            "_model_module_version": "1.2.0",
            "_view_count": null,
            "flex_flow": null,
            "width": null,
            "min_width": null,
            "border": null,
            "align_items": null,
            "bottom": null,
            "_model_module": "@jupyter-widgets/base",
            "top": null,
            "grid_column": null,
            "overflow_y": null,
            "overflow_x": null,
            "grid_auto_flow": null,
            "grid_area": null,
            "grid_template_columns": null,
            "flex": null,
            "_model_name": "LayoutModel",
            "justify_items": null,
            "grid_row": null,
            "max_height": null,
            "align_content": null,
            "visibility": null,
            "align_self": null,
            "height": null,
            "min_height": null,
            "padding": null,
            "grid_auto_rows": null,
            "grid_gap": null,
            "max_width": null,
            "order": null,
            "_view_module_version": "1.2.0",
            "grid_template_areas": null,
            "object_position": null,
            "object_fit": null,
            "grid_auto_columns": null,
            "margin": null,
            "display": null,
            "left": null
          }
        },
        "f15adb6236974dde82e82a4685877053": {
          "model_module": "@jupyter-widgets/controls",
          "model_name": "ProgressStyleModel",
          "state": {
            "_view_name": "StyleView",
            "_model_name": "ProgressStyleModel",
            "description_width": "",
            "_view_module": "@jupyter-widgets/base",
            "_model_module_version": "1.5.0",
            "_view_count": null,
            "_view_module_version": "1.2.0",
            "bar_color": null,
            "_model_module": "@jupyter-widgets/controls"
          }
        },
        "2592a39e62a14f5e9af1046cb995d20b": {
          "model_module": "@jupyter-widgets/base",
          "model_name": "LayoutModel",
          "state": {
            "_view_name": "LayoutView",
            "grid_template_rows": null,
            "right": null,
            "justify_content": null,
            "_view_module": "@jupyter-widgets/base",
            "overflow": null,
            "_model_module_version": "1.2.0",
            "_view_count": null,
            "flex_flow": null,
            "width": null,
            "min_width": null,
            "border": null,
            "align_items": null,
            "bottom": null,
            "_model_module": "@jupyter-widgets/base",
            "top": null,
            "grid_column": null,
            "overflow_y": null,
            "overflow_x": null,
            "grid_auto_flow": null,
            "grid_area": null,
            "grid_template_columns": null,
            "flex": null,
            "_model_name": "LayoutModel",
            "justify_items": null,
            "grid_row": null,
            "max_height": null,
            "align_content": null,
            "visibility": null,
            "align_self": null,
            "height": null,
            "min_height": null,
            "padding": null,
            "grid_auto_rows": null,
            "grid_gap": null,
            "max_width": null,
            "order": null,
            "_view_module_version": "1.2.0",
            "grid_template_areas": null,
            "object_position": null,
            "object_fit": null,
            "grid_auto_columns": null,
            "margin": null,
            "display": null,
            "left": null
          }
        },
        "2e7c9c2ee16d41a8987355c91f9b4859": {
          "model_module": "@jupyter-widgets/controls",
          "model_name": "VBoxModel",
          "state": {
            "_view_name": "VBoxView",
            "_dom_classes": [],
            "_model_name": "VBoxModel",
            "_view_module": "@jupyter-widgets/controls",
            "_model_module_version": "1.5.0",
            "_view_count": null,
            "_view_module_version": "1.5.0",
            "box_style": "",
            "layout": "IPY_MODEL_ec9bb57e298b44daa8d202caa37c23e5",
            "_model_module": "@jupyter-widgets/controls",
            "children": [
              "IPY_MODEL_d187da65ec1e477cb9c1031c4695a2c4",
              "IPY_MODEL_95aff1d9b6db4108aadcd75c7c12a21b"
            ]
          }
        },
        "ec9bb57e298b44daa8d202caa37c23e5": {
          "model_module": "@jupyter-widgets/base",
          "model_name": "LayoutModel",
          "state": {
            "_view_name": "LayoutView",
            "grid_template_rows": null,
            "right": null,
            "justify_content": null,
            "_view_module": "@jupyter-widgets/base",
            "overflow": null,
            "_model_module_version": "1.2.0",
            "_view_count": null,
            "flex_flow": null,
            "width": null,
            "min_width": null,
            "border": null,
            "align_items": null,
            "bottom": null,
            "_model_module": "@jupyter-widgets/base",
            "top": null,
            "grid_column": null,
            "overflow_y": null,
            "overflow_x": null,
            "grid_auto_flow": null,
            "grid_area": null,
            "grid_template_columns": null,
            "flex": null,
            "_model_name": "LayoutModel",
            "justify_items": null,
            "grid_row": null,
            "max_height": null,
            "align_content": null,
            "visibility": null,
            "align_self": null,
            "height": null,
            "min_height": null,
            "padding": null,
            "grid_auto_rows": null,
            "grid_gap": null,
            "max_width": null,
            "order": null,
            "_view_module_version": "1.2.0",
            "grid_template_areas": null,
            "object_position": null,
            "object_fit": null,
            "grid_auto_columns": null,
            "margin": null,
            "display": null,
            "left": null
          }
        },
        "d187da65ec1e477cb9c1031c4695a2c4": {
          "model_module": "@jupyter-widgets/controls",
          "model_name": "LabelModel",
          "state": {
            "_view_name": "LabelView",
            "style": "IPY_MODEL_5818f71a6dd34c92ada2e9709f01d93c",
            "_dom_classes": [],
            "description": "",
            "_model_name": "LabelModel",
            "placeholder": "​",
            "_view_module": "@jupyter-widgets/controls",
            "_model_module_version": "1.5.0",
            "value": " 0.67MB of 0.67MB uploaded (0.00MB deduped)\r",
            "_view_count": null,
            "_view_module_version": "1.5.0",
            "description_tooltip": null,
            "_model_module": "@jupyter-widgets/controls",
            "layout": "IPY_MODEL_d3e819fbc0454cd9a4203c154655a817"
          }
        },
        "95aff1d9b6db4108aadcd75c7c12a21b": {
          "model_module": "@jupyter-widgets/controls",
          "model_name": "FloatProgressModel",
          "state": {
            "_view_name": "ProgressView",
            "style": "IPY_MODEL_4cb8bb4893a74a16b666e19c1a18f9f3",
            "_dom_classes": [],
            "description": "",
            "_model_name": "FloatProgressModel",
            "bar_style": "",
            "max": 1,
            "_view_module": "@jupyter-widgets/controls",
            "_model_module_version": "1.5.0",
            "value": 1,
            "_view_count": null,
            "_view_module_version": "1.5.0",
            "orientation": "horizontal",
            "min": 0,
            "description_tooltip": null,
            "_model_module": "@jupyter-widgets/controls",
            "layout": "IPY_MODEL_bd6693385128433fad89b7f14c590312"
          }
        },
        "5818f71a6dd34c92ada2e9709f01d93c": {
          "model_module": "@jupyter-widgets/controls",
          "model_name": "DescriptionStyleModel",
          "state": {
            "_view_name": "StyleView",
            "_model_name": "DescriptionStyleModel",
            "description_width": "",
            "_view_module": "@jupyter-widgets/base",
            "_model_module_version": "1.5.0",
            "_view_count": null,
            "_view_module_version": "1.2.0",
            "_model_module": "@jupyter-widgets/controls"
          }
        },
        "d3e819fbc0454cd9a4203c154655a817": {
          "model_module": "@jupyter-widgets/base",
          "model_name": "LayoutModel",
          "state": {
            "_view_name": "LayoutView",
            "grid_template_rows": null,
            "right": null,
            "justify_content": null,
            "_view_module": "@jupyter-widgets/base",
            "overflow": null,
            "_model_module_version": "1.2.0",
            "_view_count": null,
            "flex_flow": null,
            "width": null,
            "min_width": null,
            "border": null,
            "align_items": null,
            "bottom": null,
            "_model_module": "@jupyter-widgets/base",
            "top": null,
            "grid_column": null,
            "overflow_y": null,
            "overflow_x": null,
            "grid_auto_flow": null,
            "grid_area": null,
            "grid_template_columns": null,
            "flex": null,
            "_model_name": "LayoutModel",
            "justify_items": null,
            "grid_row": null,
            "max_height": null,
            "align_content": null,
            "visibility": null,
            "align_self": null,
            "height": null,
            "min_height": null,
            "padding": null,
            "grid_auto_rows": null,
            "grid_gap": null,
            "max_width": null,
            "order": null,
            "_view_module_version": "1.2.0",
            "grid_template_areas": null,
            "object_position": null,
            "object_fit": null,
            "grid_auto_columns": null,
            "margin": null,
            "display": null,
            "left": null
          }
        },
        "4cb8bb4893a74a16b666e19c1a18f9f3": {
          "model_module": "@jupyter-widgets/controls",
          "model_name": "ProgressStyleModel",
          "state": {
            "_view_name": "StyleView",
            "_model_name": "ProgressStyleModel",
            "description_width": "",
            "_view_module": "@jupyter-widgets/base",
            "_model_module_version": "1.5.0",
            "_view_count": null,
            "_view_module_version": "1.2.0",
            "bar_color": null,
            "_model_module": "@jupyter-widgets/controls"
          }
        },
        "bd6693385128433fad89b7f14c590312": {
          "model_module": "@jupyter-widgets/base",
          "model_name": "LayoutModel",
          "state": {
            "_view_name": "LayoutView",
            "grid_template_rows": null,
            "right": null,
            "justify_content": null,
            "_view_module": "@jupyter-widgets/base",
            "overflow": null,
            "_model_module_version": "1.2.0",
            "_view_count": null,
            "flex_flow": null,
            "width": null,
            "min_width": null,
            "border": null,
            "align_items": null,
            "bottom": null,
            "_model_module": "@jupyter-widgets/base",
            "top": null,
            "grid_column": null,
            "overflow_y": null,
            "overflow_x": null,
            "grid_auto_flow": null,
            "grid_area": null,
            "grid_template_columns": null,
            "flex": null,
            "_model_name": "LayoutModel",
            "justify_items": null,
            "grid_row": null,
            "max_height": null,
            "align_content": null,
            "visibility": null,
            "align_self": null,
            "height": null,
            "min_height": null,
            "padding": null,
            "grid_auto_rows": null,
            "grid_gap": null,
            "max_width": null,
            "order": null,
            "_view_module_version": "1.2.0",
            "grid_template_areas": null,
            "object_position": null,
            "object_fit": null,
            "grid_auto_columns": null,
            "margin": null,
            "display": null,
            "left": null
          }
        },
        "833dd3ad01f142a5a442a16507cba5f6": {
          "model_module": "@jupyter-widgets/controls",
          "model_name": "VBoxModel",
          "state": {
            "_view_name": "VBoxView",
            "_dom_classes": [],
            "_model_name": "VBoxModel",
            "_view_module": "@jupyter-widgets/controls",
            "_model_module_version": "1.5.0",
            "_view_count": null,
            "_view_module_version": "1.5.0",
            "box_style": "",
            "layout": "IPY_MODEL_9fdac0e9295d48d0b2d29372cd8b6d2d",
            "_model_module": "@jupyter-widgets/controls",
            "children": [
              "IPY_MODEL_7b3bc0f830514132b3374d5200649124",
              "IPY_MODEL_a1a890f988ec4cdf9ec7dfc8944e2e71"
            ]
          }
        },
        "9fdac0e9295d48d0b2d29372cd8b6d2d": {
          "model_module": "@jupyter-widgets/base",
          "model_name": "LayoutModel",
          "state": {
            "_view_name": "LayoutView",
            "grid_template_rows": null,
            "right": null,
            "justify_content": null,
            "_view_module": "@jupyter-widgets/base",
            "overflow": null,
            "_model_module_version": "1.2.0",
            "_view_count": null,
            "flex_flow": null,
            "width": null,
            "min_width": null,
            "border": null,
            "align_items": null,
            "bottom": null,
            "_model_module": "@jupyter-widgets/base",
            "top": null,
            "grid_column": null,
            "overflow_y": null,
            "overflow_x": null,
            "grid_auto_flow": null,
            "grid_area": null,
            "grid_template_columns": null,
            "flex": null,
            "_model_name": "LayoutModel",
            "justify_items": null,
            "grid_row": null,
            "max_height": null,
            "align_content": null,
            "visibility": null,
            "align_self": null,
            "height": null,
            "min_height": null,
            "padding": null,
            "grid_auto_rows": null,
            "grid_gap": null,
            "max_width": null,
            "order": null,
            "_view_module_version": "1.2.0",
            "grid_template_areas": null,
            "object_position": null,
            "object_fit": null,
            "grid_auto_columns": null,
            "margin": null,
            "display": null,
            "left": null
          }
        },
        "7b3bc0f830514132b3374d5200649124": {
          "model_module": "@jupyter-widgets/controls",
          "model_name": "LabelModel",
          "state": {
            "_view_name": "LabelView",
            "style": "IPY_MODEL_c7183451508544b58a7fba2184483fb9",
            "_dom_classes": [],
            "description": "",
            "_model_name": "LabelModel",
            "placeholder": "​",
            "_view_module": "@jupyter-widgets/controls",
            "_model_module_version": "1.5.0",
            "value": " 1.86MB of 1.86MB uploaded (0.00MB deduped)\r",
            "_view_count": null,
            "_view_module_version": "1.5.0",
            "description_tooltip": null,
            "_model_module": "@jupyter-widgets/controls",
            "layout": "IPY_MODEL_8e636e54d95440c396dbe4c4459cb7b9"
          }
        },
        "a1a890f988ec4cdf9ec7dfc8944e2e71": {
          "model_module": "@jupyter-widgets/controls",
          "model_name": "FloatProgressModel",
          "state": {
            "_view_name": "ProgressView",
            "style": "IPY_MODEL_fc4f390ca9e84fc3af84598421970b9a",
            "_dom_classes": [],
            "description": "",
            "_model_name": "FloatProgressModel",
            "bar_style": "",
            "max": 1,
            "_view_module": "@jupyter-widgets/controls",
            "_model_module_version": "1.5.0",
            "value": 1,
            "_view_count": null,
            "_view_module_version": "1.5.0",
            "orientation": "horizontal",
            "min": 0,
            "description_tooltip": null,
            "_model_module": "@jupyter-widgets/controls",
            "layout": "IPY_MODEL_2853b159b4324def8c1a26dff58086cf"
          }
        },
        "c7183451508544b58a7fba2184483fb9": {
          "model_module": "@jupyter-widgets/controls",
          "model_name": "DescriptionStyleModel",
          "state": {
            "_view_name": "StyleView",
            "_model_name": "DescriptionStyleModel",
            "description_width": "",
            "_view_module": "@jupyter-widgets/base",
            "_model_module_version": "1.5.0",
            "_view_count": null,
            "_view_module_version": "1.2.0",
            "_model_module": "@jupyter-widgets/controls"
          }
        },
        "8e636e54d95440c396dbe4c4459cb7b9": {
          "model_module": "@jupyter-widgets/base",
          "model_name": "LayoutModel",
          "state": {
            "_view_name": "LayoutView",
            "grid_template_rows": null,
            "right": null,
            "justify_content": null,
            "_view_module": "@jupyter-widgets/base",
            "overflow": null,
            "_model_module_version": "1.2.0",
            "_view_count": null,
            "flex_flow": null,
            "width": null,
            "min_width": null,
            "border": null,
            "align_items": null,
            "bottom": null,
            "_model_module": "@jupyter-widgets/base",
            "top": null,
            "grid_column": null,
            "overflow_y": null,
            "overflow_x": null,
            "grid_auto_flow": null,
            "grid_area": null,
            "grid_template_columns": null,
            "flex": null,
            "_model_name": "LayoutModel",
            "justify_items": null,
            "grid_row": null,
            "max_height": null,
            "align_content": null,
            "visibility": null,
            "align_self": null,
            "height": null,
            "min_height": null,
            "padding": null,
            "grid_auto_rows": null,
            "grid_gap": null,
            "max_width": null,
            "order": null,
            "_view_module_version": "1.2.0",
            "grid_template_areas": null,
            "object_position": null,
            "object_fit": null,
            "grid_auto_columns": null,
            "margin": null,
            "display": null,
            "left": null
          }
        },
        "fc4f390ca9e84fc3af84598421970b9a": {
          "model_module": "@jupyter-widgets/controls",
          "model_name": "ProgressStyleModel",
          "state": {
            "_view_name": "StyleView",
            "_model_name": "ProgressStyleModel",
            "description_width": "",
            "_view_module": "@jupyter-widgets/base",
            "_model_module_version": "1.5.0",
            "_view_count": null,
            "_view_module_version": "1.2.0",
            "bar_color": null,
            "_model_module": "@jupyter-widgets/controls"
          }
        },
        "2853b159b4324def8c1a26dff58086cf": {
          "model_module": "@jupyter-widgets/base",
          "model_name": "LayoutModel",
          "state": {
            "_view_name": "LayoutView",
            "grid_template_rows": null,
            "right": null,
            "justify_content": null,
            "_view_module": "@jupyter-widgets/base",
            "overflow": null,
            "_model_module_version": "1.2.0",
            "_view_count": null,
            "flex_flow": null,
            "width": null,
            "min_width": null,
            "border": null,
            "align_items": null,
            "bottom": null,
            "_model_module": "@jupyter-widgets/base",
            "top": null,
            "grid_column": null,
            "overflow_y": null,
            "overflow_x": null,
            "grid_auto_flow": null,
            "grid_area": null,
            "grid_template_columns": null,
            "flex": null,
            "_model_name": "LayoutModel",
            "justify_items": null,
            "grid_row": null,
            "max_height": null,
            "align_content": null,
            "visibility": null,
            "align_self": null,
            "height": null,
            "min_height": null,
            "padding": null,
            "grid_auto_rows": null,
            "grid_gap": null,
            "max_width": null,
            "order": null,
            "_view_module_version": "1.2.0",
            "grid_template_areas": null,
            "object_position": null,
            "object_fit": null,
            "grid_auto_columns": null,
            "margin": null,
            "display": null,
            "left": null
          }
        },
        "25db56b8179441e3897317e6a4b8c81d": {
          "model_module": "@jupyter-widgets/controls",
          "model_name": "VBoxModel",
          "state": {
            "_view_name": "VBoxView",
            "_dom_classes": [],
            "_model_name": "VBoxModel",
            "_view_module": "@jupyter-widgets/controls",
            "_model_module_version": "1.5.0",
            "_view_count": null,
            "_view_module_version": "1.5.0",
            "box_style": "",
            "layout": "IPY_MODEL_a1fc3553a32346c6bee0505ccc409781",
            "_model_module": "@jupyter-widgets/controls",
            "children": [
              "IPY_MODEL_1b3bceba031a4cbbb6c52658ae753a92",
              "IPY_MODEL_d49a5919f42f4f0ba2dc776f0c6ce3eb"
            ]
          }
        },
        "a1fc3553a32346c6bee0505ccc409781": {
          "model_module": "@jupyter-widgets/base",
          "model_name": "LayoutModel",
          "state": {
            "_view_name": "LayoutView",
            "grid_template_rows": null,
            "right": null,
            "justify_content": null,
            "_view_module": "@jupyter-widgets/base",
            "overflow": null,
            "_model_module_version": "1.2.0",
            "_view_count": null,
            "flex_flow": null,
            "width": null,
            "min_width": null,
            "border": null,
            "align_items": null,
            "bottom": null,
            "_model_module": "@jupyter-widgets/base",
            "top": null,
            "grid_column": null,
            "overflow_y": null,
            "overflow_x": null,
            "grid_auto_flow": null,
            "grid_area": null,
            "grid_template_columns": null,
            "flex": null,
            "_model_name": "LayoutModel",
            "justify_items": null,
            "grid_row": null,
            "max_height": null,
            "align_content": null,
            "visibility": null,
            "align_self": null,
            "height": null,
            "min_height": null,
            "padding": null,
            "grid_auto_rows": null,
            "grid_gap": null,
            "max_width": null,
            "order": null,
            "_view_module_version": "1.2.0",
            "grid_template_areas": null,
            "object_position": null,
            "object_fit": null,
            "grid_auto_columns": null,
            "margin": null,
            "display": null,
            "left": null
          }
        },
        "1b3bceba031a4cbbb6c52658ae753a92": {
          "model_module": "@jupyter-widgets/controls",
          "model_name": "LabelModel",
          "state": {
            "_view_name": "LabelView",
            "style": "IPY_MODEL_8c77ce8d488f49dc8baea1ea5638e673",
            "_dom_classes": [],
            "description": "",
            "_model_name": "LabelModel",
            "placeholder": "​",
            "_view_module": "@jupyter-widgets/controls",
            "_model_module_version": "1.5.0",
            "value": " 4.07MB of 4.07MB uploaded (0.00MB deduped)\r",
            "_view_count": null,
            "_view_module_version": "1.5.0",
            "description_tooltip": null,
            "_model_module": "@jupyter-widgets/controls",
            "layout": "IPY_MODEL_8d65b42d19de4515863e6c53b4db26de"
          }
        },
        "d49a5919f42f4f0ba2dc776f0c6ce3eb": {
          "model_module": "@jupyter-widgets/controls",
          "model_name": "FloatProgressModel",
          "state": {
            "_view_name": "ProgressView",
            "style": "IPY_MODEL_99af0fcc806d42d88267d3f08b0e73d2",
            "_dom_classes": [],
            "description": "",
            "_model_name": "FloatProgressModel",
            "bar_style": "",
            "max": 1,
            "_view_module": "@jupyter-widgets/controls",
            "_model_module_version": "1.5.0",
            "value": 1,
            "_view_count": null,
            "_view_module_version": "1.5.0",
            "orientation": "horizontal",
            "min": 0,
            "description_tooltip": null,
            "_model_module": "@jupyter-widgets/controls",
            "layout": "IPY_MODEL_659a315bf40543bb87f9f9b3d94e3f57"
          }
        },
        "8c77ce8d488f49dc8baea1ea5638e673": {
          "model_module": "@jupyter-widgets/controls",
          "model_name": "DescriptionStyleModel",
          "state": {
            "_view_name": "StyleView",
            "_model_name": "DescriptionStyleModel",
            "description_width": "",
            "_view_module": "@jupyter-widgets/base",
            "_model_module_version": "1.5.0",
            "_view_count": null,
            "_view_module_version": "1.2.0",
            "_model_module": "@jupyter-widgets/controls"
          }
        },
        "8d65b42d19de4515863e6c53b4db26de": {
          "model_module": "@jupyter-widgets/base",
          "model_name": "LayoutModel",
          "state": {
            "_view_name": "LayoutView",
            "grid_template_rows": null,
            "right": null,
            "justify_content": null,
            "_view_module": "@jupyter-widgets/base",
            "overflow": null,
            "_model_module_version": "1.2.0",
            "_view_count": null,
            "flex_flow": null,
            "width": null,
            "min_width": null,
            "border": null,
            "align_items": null,
            "bottom": null,
            "_model_module": "@jupyter-widgets/base",
            "top": null,
            "grid_column": null,
            "overflow_y": null,
            "overflow_x": null,
            "grid_auto_flow": null,
            "grid_area": null,
            "grid_template_columns": null,
            "flex": null,
            "_model_name": "LayoutModel",
            "justify_items": null,
            "grid_row": null,
            "max_height": null,
            "align_content": null,
            "visibility": null,
            "align_self": null,
            "height": null,
            "min_height": null,
            "padding": null,
            "grid_auto_rows": null,
            "grid_gap": null,
            "max_width": null,
            "order": null,
            "_view_module_version": "1.2.0",
            "grid_template_areas": null,
            "object_position": null,
            "object_fit": null,
            "grid_auto_columns": null,
            "margin": null,
            "display": null,
            "left": null
          }
        },
        "99af0fcc806d42d88267d3f08b0e73d2": {
          "model_module": "@jupyter-widgets/controls",
          "model_name": "ProgressStyleModel",
          "state": {
            "_view_name": "StyleView",
            "_model_name": "ProgressStyleModel",
            "description_width": "",
            "_view_module": "@jupyter-widgets/base",
            "_model_module_version": "1.5.0",
            "_view_count": null,
            "_view_module_version": "1.2.0",
            "bar_color": null,
            "_model_module": "@jupyter-widgets/controls"
          }
        },
        "659a315bf40543bb87f9f9b3d94e3f57": {
          "model_module": "@jupyter-widgets/base",
          "model_name": "LayoutModel",
          "state": {
            "_view_name": "LayoutView",
            "grid_template_rows": null,
            "right": null,
            "justify_content": null,
            "_view_module": "@jupyter-widgets/base",
            "overflow": null,
            "_model_module_version": "1.2.0",
            "_view_count": null,
            "flex_flow": null,
            "width": null,
            "min_width": null,
            "border": null,
            "align_items": null,
            "bottom": null,
            "_model_module": "@jupyter-widgets/base",
            "top": null,
            "grid_column": null,
            "overflow_y": null,
            "overflow_x": null,
            "grid_auto_flow": null,
            "grid_area": null,
            "grid_template_columns": null,
            "flex": null,
            "_model_name": "LayoutModel",
            "justify_items": null,
            "grid_row": null,
            "max_height": null,
            "align_content": null,
            "visibility": null,
            "align_self": null,
            "height": null,
            "min_height": null,
            "padding": null,
            "grid_auto_rows": null,
            "grid_gap": null,
            "max_width": null,
            "order": null,
            "_view_module_version": "1.2.0",
            "grid_template_areas": null,
            "object_position": null,
            "object_fit": null,
            "grid_auto_columns": null,
            "margin": null,
            "display": null,
            "left": null
          }
        },
        "465f0dd41fc947b79cb0ac44ef7b348e": {
          "model_module": "@jupyter-widgets/controls",
          "model_name": "VBoxModel",
          "state": {
            "_view_name": "VBoxView",
            "_dom_classes": [],
            "_model_name": "VBoxModel",
            "_view_module": "@jupyter-widgets/controls",
            "_model_module_version": "1.5.0",
            "_view_count": null,
            "_view_module_version": "1.5.0",
            "box_style": "",
            "layout": "IPY_MODEL_b4f9c8d938a34618bde5a10039d94ede",
            "_model_module": "@jupyter-widgets/controls",
            "children": [
              "IPY_MODEL_fdda9aee2a9444608f475cb47674fcf1",
              "IPY_MODEL_cea368e5ad2c4eb58b25105b34d47fc7"
            ]
          }
        },
        "b4f9c8d938a34618bde5a10039d94ede": {
          "model_module": "@jupyter-widgets/base",
          "model_name": "LayoutModel",
          "state": {
            "_view_name": "LayoutView",
            "grid_template_rows": null,
            "right": null,
            "justify_content": null,
            "_view_module": "@jupyter-widgets/base",
            "overflow": null,
            "_model_module_version": "1.2.0",
            "_view_count": null,
            "flex_flow": null,
            "width": null,
            "min_width": null,
            "border": null,
            "align_items": null,
            "bottom": null,
            "_model_module": "@jupyter-widgets/base",
            "top": null,
            "grid_column": null,
            "overflow_y": null,
            "overflow_x": null,
            "grid_auto_flow": null,
            "grid_area": null,
            "grid_template_columns": null,
            "flex": null,
            "_model_name": "LayoutModel",
            "justify_items": null,
            "grid_row": null,
            "max_height": null,
            "align_content": null,
            "visibility": null,
            "align_self": null,
            "height": null,
            "min_height": null,
            "padding": null,
            "grid_auto_rows": null,
            "grid_gap": null,
            "max_width": null,
            "order": null,
            "_view_module_version": "1.2.0",
            "grid_template_areas": null,
            "object_position": null,
            "object_fit": null,
            "grid_auto_columns": null,
            "margin": null,
            "display": null,
            "left": null
          }
        },
        "fdda9aee2a9444608f475cb47674fcf1": {
          "model_module": "@jupyter-widgets/controls",
          "model_name": "LabelModel",
          "state": {
            "_view_name": "LabelView",
            "style": "IPY_MODEL_6cf61114319e4a659b8d8488e3587527",
            "_dom_classes": [],
            "description": "",
            "_model_name": "LabelModel",
            "placeholder": "​",
            "_view_module": "@jupyter-widgets/controls",
            "_model_module_version": "1.5.0",
            "value": " 0.63MB of 0.63MB uploaded (0.00MB deduped)\r",
            "_view_count": null,
            "_view_module_version": "1.5.0",
            "description_tooltip": null,
            "_model_module": "@jupyter-widgets/controls",
            "layout": "IPY_MODEL_dc9773baf49147778f29e048bf76f02c"
          }
        },
        "cea368e5ad2c4eb58b25105b34d47fc7": {
          "model_module": "@jupyter-widgets/controls",
          "model_name": "FloatProgressModel",
          "state": {
            "_view_name": "ProgressView",
            "style": "IPY_MODEL_83f01bc804754de798bf0c3a1ba8bb81",
            "_dom_classes": [],
            "description": "",
            "_model_name": "FloatProgressModel",
            "bar_style": "",
            "max": 1,
            "_view_module": "@jupyter-widgets/controls",
            "_model_module_version": "1.5.0",
            "value": 1,
            "_view_count": null,
            "_view_module_version": "1.5.0",
            "orientation": "horizontal",
            "min": 0,
            "description_tooltip": null,
            "_model_module": "@jupyter-widgets/controls",
            "layout": "IPY_MODEL_1021dba8bfa6423789286a75c9d5bb0e"
          }
        },
        "6cf61114319e4a659b8d8488e3587527": {
          "model_module": "@jupyter-widgets/controls",
          "model_name": "DescriptionStyleModel",
          "state": {
            "_view_name": "StyleView",
            "_model_name": "DescriptionStyleModel",
            "description_width": "",
            "_view_module": "@jupyter-widgets/base",
            "_model_module_version": "1.5.0",
            "_view_count": null,
            "_view_module_version": "1.2.0",
            "_model_module": "@jupyter-widgets/controls"
          }
        },
        "dc9773baf49147778f29e048bf76f02c": {
          "model_module": "@jupyter-widgets/base",
          "model_name": "LayoutModel",
          "state": {
            "_view_name": "LayoutView",
            "grid_template_rows": null,
            "right": null,
            "justify_content": null,
            "_view_module": "@jupyter-widgets/base",
            "overflow": null,
            "_model_module_version": "1.2.0",
            "_view_count": null,
            "flex_flow": null,
            "width": null,
            "min_width": null,
            "border": null,
            "align_items": null,
            "bottom": null,
            "_model_module": "@jupyter-widgets/base",
            "top": null,
            "grid_column": null,
            "overflow_y": null,
            "overflow_x": null,
            "grid_auto_flow": null,
            "grid_area": null,
            "grid_template_columns": null,
            "flex": null,
            "_model_name": "LayoutModel",
            "justify_items": null,
            "grid_row": null,
            "max_height": null,
            "align_content": null,
            "visibility": null,
            "align_self": null,
            "height": null,
            "min_height": null,
            "padding": null,
            "grid_auto_rows": null,
            "grid_gap": null,
            "max_width": null,
            "order": null,
            "_view_module_version": "1.2.0",
            "grid_template_areas": null,
            "object_position": null,
            "object_fit": null,
            "grid_auto_columns": null,
            "margin": null,
            "display": null,
            "left": null
          }
        },
        "83f01bc804754de798bf0c3a1ba8bb81": {
          "model_module": "@jupyter-widgets/controls",
          "model_name": "ProgressStyleModel",
          "state": {
            "_view_name": "StyleView",
            "_model_name": "ProgressStyleModel",
            "description_width": "",
            "_view_module": "@jupyter-widgets/base",
            "_model_module_version": "1.5.0",
            "_view_count": null,
            "_view_module_version": "1.2.0",
            "bar_color": null,
            "_model_module": "@jupyter-widgets/controls"
          }
        },
        "1021dba8bfa6423789286a75c9d5bb0e": {
          "model_module": "@jupyter-widgets/base",
          "model_name": "LayoutModel",
          "state": {
            "_view_name": "LayoutView",
            "grid_template_rows": null,
            "right": null,
            "justify_content": null,
            "_view_module": "@jupyter-widgets/base",
            "overflow": null,
            "_model_module_version": "1.2.0",
            "_view_count": null,
            "flex_flow": null,
            "width": null,
            "min_width": null,
            "border": null,
            "align_items": null,
            "bottom": null,
            "_model_module": "@jupyter-widgets/base",
            "top": null,
            "grid_column": null,
            "overflow_y": null,
            "overflow_x": null,
            "grid_auto_flow": null,
            "grid_area": null,
            "grid_template_columns": null,
            "flex": null,
            "_model_name": "LayoutModel",
            "justify_items": null,
            "grid_row": null,
            "max_height": null,
            "align_content": null,
            "visibility": null,
            "align_self": null,
            "height": null,
            "min_height": null,
            "padding": null,
            "grid_auto_rows": null,
            "grid_gap": null,
            "max_width": null,
            "order": null,
            "_view_module_version": "1.2.0",
            "grid_template_areas": null,
            "object_position": null,
            "object_fit": null,
            "grid_auto_columns": null,
            "margin": null,
            "display": null,
            "left": null
          }
        }
      }
    }
  },
  "cells": [
    {
      "cell_type": "code",
      "metadata": {
        "id": "3927e7bc"
      },
      "source": [
        "import numpy as np\n",
        "import tensorflow as tf\n",
        "from tensorflow import keras"
      ],
      "id": "3927e7bc",
      "execution_count": null,
      "outputs": []
    },
    {
      "cell_type": "code",
      "metadata": {
        "id": "8e5007e0"
      },
      "source": [
        "import os"
      ],
      "id": "8e5007e0",
      "execution_count": null,
      "outputs": []
    },
    {
      "cell_type": "code",
      "metadata": {
        "id": "58285d60"
      },
      "source": [
        "dataset_path = os.getcwd() + os.sep + 'te' + os.sep + 'lexicons'\n",
        "train_path = dataset_path + os.sep + 'te.translit.sampled.train.tsv'\n",
        "valid_path = dataset_path + os.sep + 'te.translit.sampled.dev.tsv'\n",
        "test_path = dataset_path + os.sep + 'te.translit.sampled.test.tsv'"
      ],
      "id": "58285d60",
      "execution_count": null,
      "outputs": []
    },
    {
      "cell_type": "code",
      "metadata": {
        "id": "6901b847"
      },
      "source": [
        "train_inputs = []\n",
        "train_outputs = []\n",
        "valid_inputs = []\n",
        "valid_outputs = []\n",
        "test_inputs = []\n",
        "test_outputs = []\n",
        "input_chars = set()\n",
        "output_chars = set()"
      ],
      "id": "6901b847",
      "execution_count": null,
      "outputs": []
    },
    {
      "cell_type": "code",
      "metadata": {
        "id": "dad91d5d"
      },
      "source": [
        "include_all = True"
      ],
      "id": "dad91d5d",
      "execution_count": null,
      "outputs": []
    },
    {
      "cell_type": "code",
      "metadata": {
        "id": "748bb090"
      },
      "source": [
        "with open(train_path, \"r\", encoding=\"utf-8\") as f:\n",
        "    lines = f.read().split(\"\\n\")\n",
        "for line in lines[: (len(lines) - 1 )]:\n",
        "    out,inp,a = line.split('\\t')\n",
        "#     if not include_all and a!=1:\n",
        "#         continue\n",
        "    # We use \"tab\" as the \"start sequence\" character\n",
        "    # for the targets, and \"\\n\" as \"end sequence\" character.\n",
        "#     print(out,out[-1],inp,inp[-1])\n",
        "    out = \"\\t\" + out + \"\\n\"\n",
        "    train_inputs.append(inp)\n",
        "    train_outputs.append(out)\n",
        "    for char in inp:\n",
        "        if char not in input_chars:\n",
        "            input_chars.add(char)\n",
        "    for char in out:\n",
        "        if char not in output_chars:\n",
        "            output_chars.add(char)"
      ],
      "id": "748bb090",
      "execution_count": null,
      "outputs": []
    },
    {
      "cell_type": "code",
      "metadata": {
        "id": "97d3b91d"
      },
      "source": [
        "with open(valid_path, \"r\", encoding=\"utf-8\") as f:\n",
        "    lines = f.read().split(\"\\n\")\n",
        "for line in lines[: (len(lines) - 1 )]:\n",
        "    out,inp,a = line.split('\\t')\n",
        "    if not include_all and a!=1:\n",
        "        continue\n",
        "    # We use \"tab\" as the \"start sequence\" character\n",
        "    # for the targets, and \"\\n\" as \"end sequence\" character.\n",
        "#     print(out,out[-1],inp,inp[-1])\n",
        "    out = \"\\t\" + out + \"\\n\"\n",
        "    valid_inputs.append(inp)\n",
        "    valid_outputs.append(out)"
      ],
      "id": "97d3b91d",
      "execution_count": null,
      "outputs": []
    },
    {
      "cell_type": "code",
      "metadata": {
        "id": "56668b9a"
      },
      "source": [
        "with open(test_path, \"r\", encoding=\"utf-8\") as f:\n",
        "    lines = f.read().split(\"\\n\")\n",
        "for line in lines[: (len(lines) - 1 )]:\n",
        "    out,inp,a = line.split('\\t')\n",
        "    if not include_all and a!=1:\n",
        "        continue\n",
        "    # We use \"tab\" as the \"start sequence\" character\n",
        "    # for the targets, and \"\\n\" as \"end sequence\" character.\n",
        "#     print(out,out[-1],inp,inp[-1])\n",
        "    out = \"\\t\" + out + \"\\n\"\n",
        "    test_inputs.append(inp)\n",
        "    test_outputs.append(out)"
      ],
      "id": "56668b9a",
      "execution_count": null,
      "outputs": []
    },
    {
      "cell_type": "code",
      "metadata": {
        "colab": {
          "base_uri": "https://localhost:8080/"
        },
        "id": "0e91aed0",
        "outputId": "25c50a8b-72cb-489f-d1e0-a08d495312f6"
      },
      "source": [
        "input_chars = sorted(list(input_chars))\n",
        "print(input_chars)\n",
        "num_input_chars = len(input_chars)"
      ],
      "id": "0e91aed0",
      "execution_count": null,
      "outputs": []
    },
    {
      "cell_type": "code",
      "metadata": {
        "colab": {
          "base_uri": "https://localhost:8080/"
        },
        "id": "9618b73d",
        "outputId": "c9b790fc-6fab-4490-9d82-8d0fe533a697"
      },
      "source": [
        "output_chars = sorted(list(output_chars))\n",
        "print(output_chars)\n",
        "num_output_chars = len(output_chars)"
      ],
      "id": "9618b73d",
      "execution_count": null,
      "outputs": []
    },
    {
      "cell_type": "code",
      "metadata": {
        "colab": {
          "base_uri": "https://localhost:8080/"
        },
        "id": "aacbd5e9",
        "outputId": "1d7e8eb0-39ce-4d4d-9440-0620378b9049"
      },
      "source": [
        "train_size = len(train_inputs)\n",
        "max_input_size = max([len(txt) for txt in train_inputs])\n",
        "print(max_input_size)\n",
        "max_output_size = max([len(txt) for txt in  train_outputs])\n",
        "print(max_output_size)"
      ],
      "id": "aacbd5e9",
      "execution_count": null,
      "outputs": []
    },
    {
      "cell_type": "code",
      "metadata": {
        "id": "56a8b966"
      },
      "source": [
        "input_index = dict([(char, i) for i, char in enumerate(input_chars)])\n",
        "output_index = dict([(char, i+1) for i, char in enumerate(output_chars)])\n"
      ],
      "id": "56a8b966",
      "execution_count": null,
      "outputs": []
    },
    {
      "cell_type": "code",
      "metadata": {
        "colab": {
          "base_uri": "https://localhost:8080/"
        },
        "id": "ba93c41e",
        "outputId": "c262f58a-627b-47aa-ed35-4b1f74f19449"
      },
      "source": [
        "print(output_index)"
      ],
      "id": "ba93c41e",
      "execution_count": null,
      "outputs": []
    },
    {
      "cell_type": "code",
      "metadata": {
        "id": "7f8f0e4e"
      },
      "source": [
        "#### Enoding in indexes of characters in the set\n",
        "def encode_index(inputs,index):\n",
        "    data = []\n",
        "    for i in range(len(inputs)):\n",
        "        a = np.zeros(len(inputs[i]))\n",
        "        j = 0\n",
        "        for char in inputs[i]:\n",
        "            a[j] = index[char]\n",
        "            j += 1\n",
        "        data.append(a)\n",
        "    data = np.asarray(data).astype(np.ndarray)\n",
        "    return data\n",
        "    "
      ],
      "id": "7f8f0e4e",
      "execution_count": null,
      "outputs": []
    },
    {
      "cell_type": "code",
      "metadata": {
        "colab": {
          "base_uri": "https://localhost:8080/"
        },
        "id": "093d2dae",
        "outputId": "ba970d9f-6cca-4586-be97-ba17e23dbba1"
      },
      "source": [
        "input_data = encode_index(train_inputs,input_index)\n",
        "input_tensor = tf.ragged.constant(input_data)"
      ],
      "id": "093d2dae",
      "execution_count": null,
      "outputs": []
    },
    {
      "cell_type": "code",
      "metadata": {
        "colab": {
          "base_uri": "https://localhost:8080/"
        },
        "id": "afe035ea",
        "outputId": "e485dd40-b5c4-4016-e8a2-5a0ef957dd88"
      },
      "source": [
        "val_input_data = encode_index(valid_inputs,input_index)\n",
        "val_input_tensor = tf.ragged.constant(val_input_data)"
      ],
      "id": "afe035ea",
      "execution_count": null,
      "outputs": []
    },
    {
      "cell_type": "code",
      "metadata": {
        "colab": {
          "base_uri": "https://localhost:8080/"
        },
        "id": "7e45a4eb",
        "outputId": "9181d95e-8f73-44c2-df30-33b9a774a776"
      },
      "source": [
        "test_input_data = encode_index(test_inputs,input_index)\n",
        "test_input_tensor = tf.ragged.constant(test_input_data)"
      ],
      "id": "7e45a4eb",
      "execution_count": null,
      "outputs": []
    },
    {
      "cell_type": "code",
      "metadata": {
        "colab": {
          "base_uri": "https://localhost:8080/"
        },
        "id": "953483ed",
        "outputId": "17206bbb-25a4-4d21-f65d-1b6bc436f4bf"
      },
      "source": [
        "print(len(input_data))"
      ],
      "id": "953483ed",
      "execution_count": null,
      "outputs": []
    },
    {
      "cell_type": "code",
      "metadata": {
        "id": "350640cc"
      },
      "source": [
        "max_val__input_size = max([len(txt) for txt in valid_inputs])\n",
        "max_val_output_size = max([len(txt) for txt in  valid_outputs])\n",
        "max_test_input_size = max([len(txt) for txt in test_inputs])\n",
        "max_test_output_size = max([len(txt) for txt in  test_outputs])"
      ],
      "id": "350640cc",
      "execution_count": null,
      "outputs": []
    },
    {
      "cell_type": "code",
      "metadata": {
        "id": "7b26ab00"
      },
      "source": [
        "decoder_input_data = np.zeros(\n",
        "    (len(train_inputs), max_output_size,num_output_chars+1), dtype=\"float32\"\n",
        ")\n",
        "decoder_output_data = np.zeros(\n",
        "    (len(train_inputs), max_output_size,num_output_chars+1), dtype=\"float32\"\n",
        ")\n",
        "for i,target_text in enumerate(train_outputs):\n",
        "    for t, char in enumerate(target_text):\n",
        "        # decoder_target_data is ahead of decoder_input_data by one timestep\n",
        "        decoder_input_data[i, t, output_index[char]] = 1.0\n",
        "        if t > 0:\n",
        "            # decoder_target_data will be ahead by one timestep\n",
        "            # and will not include the start character.\n",
        "            decoder_output_data[i, t - 1, output_index[char]] = 1.0\n",
        "#     decoder_input_data[i, t + 1 :, output_index[\" \"]] = 1.0\n",
        "#     decoder_output_data[i, t:, output_index[\" \"]] = 1.0\n",
        "# print(decoder_input_data[0])\n",
        "decoder_input_data = np.argmax(decoder_input_data,axis=2).astype(dtype='float32')\n"
      ],
      "id": "7b26ab00",
      "execution_count": null,
      "outputs": []
    },
    {
      "cell_type": "code",
      "metadata": {
        "colab": {
          "base_uri": "https://localhost:8080/"
        },
        "id": "8681f530",
        "outputId": "f7210dfa-2c47-4ff2-f672-27e0f9730d12"
      },
      "source": [
        "decoder_input_data[0]"
      ],
      "id": "8681f530",
      "execution_count": null,
      "outputs": []
    },
    {
      "cell_type": "code",
      "metadata": {
        "id": "d32549f6"
      },
      "source": [
        "decoder_val_input_data = np.zeros(\n",
        "    (len(valid_inputs), max_val_output_size,num_output_chars+1), dtype=\"float32\"\n",
        ")\n",
        "decoder_val_output_data = np.zeros(\n",
        "    (len(valid_inputs), max_val_output_size,num_output_chars+1), dtype=\"float32\"\n",
        ")\n",
        "for i,target_text in enumerate(valid_outputs):\n",
        "    for t, char in enumerate(target_text):\n",
        "        # decoder_target_data is ahead of decoder_input_data by one timestep\n",
        "        decoder_val_input_data[i, t, output_index[char]] = 1.0\n",
        "        if t > 0:\n",
        "            # decoder_target_data will be ahead by one timestep\n",
        "            # and will not include the start character.\n",
        "            decoder_val_output_data[i, t - 1, output_index[char]] = 1.0\n",
        "#     decoder_input_data[i, t + 1 :, output_index[\" \"]] = 1.0\n",
        "#     decoder_output_data[i, t:, output_index[\" \"]] = 1.0\n",
        "decoder_val_input_data = np.argmax(decoder_val_input_data,axis=2).astype(dtype='float32')\n"
      ],
      "id": "d32549f6",
      "execution_count": null,
      "outputs": []
    },
    {
      "cell_type": "code",
      "metadata": {
        "id": "52f20581"
      },
      "source": [
        "decoder_test_input_data = np.zeros(\n",
        "    (len(test_inputs), max_test_output_size,num_output_chars+1), dtype=\"float32\"\n",
        ")\n",
        "decoder_test_output_data = np.zeros(\n",
        "    (len(test_inputs), max_test_output_size,num_output_chars+1), dtype=\"float32\"\n",
        ")\n",
        "for i,target_text in enumerate(test_outputs):\n",
        "    for t, char in enumerate(target_text):\n",
        "        # decoder_target_data is ahead of decoder_input_data by one timestep\n",
        "        decoder_test_input_data[i, t, output_index[char]] = 1.0\n",
        "        if t > 0:\n",
        "            # decoder_target_data will be ahead by one timestep\n",
        "            # and will not include the start character.\n",
        "            decoder_test_output_data[i, t - 1, output_index[char]] = 1.0\n",
        "#     decoder_input_data[i, t + 1 :, output_index[\" \"]] = 1.0\n",
        "#     decoder_output_data[i, t:, output_index[\" \"]] = 1.0\n",
        "decoder_test_input_data = np.argmax(decoder_test_input_data,axis=2).astype(dtype='float32')\n"
      ],
      "id": "52f20581",
      "execution_count": null,
      "outputs": []
    },
    {
      "cell_type": "markdown",
      "metadata": {
        "id": "eb688c59"
      },
      "source": [
        "# Sample Model"
      ],
      "id": "eb688c59"
    },
    {
      "cell_type": "code",
      "metadata": {
        "id": "b62a425f"
      },
      "source": [
        "# def get_sample_model(input_embed_size , hidden_size):\n",
        "#     charinput = tf.keras.Input(shape=(None,),name=\"input\")\n",
        "#     embedding = tf.keras.layers.Embedding(num_input_chars,input_embed_size, name=\"embedding\")(charinput)\n",
        "    \n",
        "#     encoder = tf.keras.layers.LSTM(hidden_size, return_state=True )\n",
        "#     encoder_outputs, state_h, state_c = encoder(embedding)\n",
        "#     encoder_states = [state_h, state_c]\n",
        "    \n",
        "#     decoder_inputs = tf.keras.Input(shape=(None,),name=\"decoder_input\")\n",
        "#     decoder_embedding = tf.keras.layers.Embedding(num_output_chars + 1,input_embed_size, name=\"decoder_embedding\",mask_zero=True)(decoder_inputs)\n",
        "    \n",
        "#     decoder_lstm = tf.keras.layers.LSTM(hidden_size, return_sequences=True, return_state=True)\n",
        "#     decoder_outputs, _, _ = decoder_lstm(decoder_embedding, initial_state=encoder_states)\n",
        "#     decoder_dense = tf.keras.layers.Dense(num_output_chars + 1, activation=\"softmax\")\n",
        "#     decoder_outputs = decoder_dense(decoder_outputs)\n",
        "#     model = tf.keras.Model([charinput,decoder_inputs],decoder_outputs)\n",
        "    \n",
        "#     encoder_model = tf.keras.Model(charinput, encoder_states)\n",
        "#     # define inference decoder\n",
        "#     decoder_state_input_h = tf.keras.Input(shape=(hidden_size,))\n",
        "#     decoder_state_input_c = tf.keras.Input(shape=(hidden_size,))\n",
        "#     decoder_states_inputs = [decoder_state_input_h, decoder_state_input_c]\n",
        "#     decoder_outputs, state_h, state_c = decoder_lstm(decoder_embedding, initial_state=decoder_states_inputs)\n",
        "#     decoder_states = [state_h, state_c]\n",
        "#     decoder_outputs = decoder_dense(decoder_outputs)\n",
        "#     decoder_model = tf.keras.Model([decoder_inputs] + decoder_states_inputs, [decoder_outputs] + decoder_states)\n",
        "#     return model, encoder_model, decoder_model"
      ],
      "id": "b62a425f",
      "execution_count": null,
      "outputs": []
    },
    {
      "cell_type": "code",
      "metadata": {
        "id": "d476dc6f"
      },
      "source": [
        "# sample_model, enc_model, dec_model = get_Model_v2(16,128,'RNN',1,1,0)"
      ],
      "id": "d476dc6f",
      "execution_count": null,
      "outputs": []
    },
    {
      "cell_type": "code",
      "metadata": {
        "id": "c71b19bb"
      },
      "source": [
        "# sample_model.compile(\n",
        "#     optimizer=\"adam\", loss=\"categorical_crossentropy\", metrics=[\"accuracy\"]\n",
        "# )\n",
        "# sample_model.summary()"
      ],
      "id": "c71b19bb",
      "execution_count": null,
      "outputs": []
    },
    {
      "cell_type": "code",
      "metadata": {
        "id": "6cc12abf"
      },
      "source": [
        "reverse_input_char_index = dict((i, char) for char, i in input_index.items())\n",
        "reverse_target_char_index = dict((i, char) for char, i in output_index.items())\n",
        "reverse_target_char_index[0] = ' '\n",
        "\n",
        "def decode_single_sequence(input_seq):\n",
        "    states_value = enc_model.predict(input_seq)\n",
        "    target_seq = np.zeros((1, 1, num_output_chars+1))\n",
        "    target_seq[0, 0, output_index[\"\\t\"]] = 1.0\n",
        "    target_seq = np.argmax(target_seq,axis=2).astype('float32')\n",
        "    stop_condition = False\n",
        "    decoded_sentence = \"\"\n",
        "    while not stop_condition:\n",
        "        output_tokens, h, c = dec_model.predict([target_seq] + states_value)\n",
        "\n",
        "#         print(output_tokens)\n",
        "        sampled_token_index = np.argmax(output_tokens[0, -1, :])\n",
        "#         print(sampled_token_index)\n",
        "        sampled_char = reverse_target_char_index[sampled_token_index]\n",
        "        decoded_sentence += sampled_char\n",
        "#         print(sampled_char)\n",
        "        # Exit condition: either hit max length\n",
        "        # or find stop character.\n",
        "        if sampled_char == \"\\n\" or sampled_char == ' ' or len(decoded_sentence) > max_output_size:\n",
        "            stop_condition = True\n",
        "\n",
        "        # Update the target sequence (of length 1).\n",
        "        target_seq = np.zeros((1, 1, num_output_chars+1))\n",
        "        target_seq[0, 0, sampled_token_index] = 1.0\n",
        "        target_seq = np.argmax(target_seq,axis=2).astype('float32')\n",
        "        # Update states\n",
        "        states_value = [h, c]\n",
        "    return decoded_sentence\n",
        "def decode_sequence(input_seq):\n",
        "    sz  = input_seq.shape[0]\n",
        "    states_value = enc_model.predict(input_seq)\n",
        "    target_seq = np.zeros((sz,1,num_output_chars+1))\n",
        "    for i in range(sz):\n",
        "        target_seq[i, 0, output_index[\"\\t\"]] = 1.0\n",
        "    target_seq = np.argmax(target_seq,axis=2).astype('float32')\n",
        "    decoded_seqs = [\"\" for i in range(sz)]\n",
        "    j = 0\n",
        "    while j < max_output_size:\n",
        "        output_tokens, h, c = dec_model.predict([target_seq] + states_value)\n",
        "\n",
        "#         print(output_tokens)\n",
        "        sampled_token_index = np.argmax(output_tokens[:, -1, :],axis=1)\n",
        "        target_seq = np.zeros((sz, 1, num_output_chars+1))\n",
        "        for i in range(sz):\n",
        "            sampled_char = reverse_target_char_index[sampled_token_index[i]]\n",
        "            decoded_seqs[i] += sampled_char\n",
        "            target_seq[i, 0, sampled_token_index[i]] = 1.0\n",
        "        target_seq = np.argmax(target_seq,axis=2).astype('float32')\n",
        "        # Update states\n",
        "        states_value = [h,c]\n",
        "        j+=1\n",
        "    output = [ (\"\\t\"+st.split('\\n')[0]+\"\\n\") for st in decoded_seqs]\n",
        "    return output"
      ],
      "id": "6cc12abf",
      "execution_count": null,
      "outputs": []
    },
    {
      "cell_type": "code",
      "metadata": {
        "id": "60cea938"
      },
      "source": [
        "# for seqid in range(5):\n",
        "#     input_seq = input_tensor[seqid:seqid+1]\n",
        "# #     print(input_seq.shape,input_tensor.shape)\n",
        "#     decoded_sentence = decode_single_sequence(input_seq)\n",
        "#     print(\"-\")\n",
        "#     print(\"Input sentence:\", train_inputs[seqid])\n",
        "#     print(\"Decoded sentence:\", decoded_sentence)"
      ],
      "id": "60cea938",
      "execution_count": null,
      "outputs": []
    },
    {
      "cell_type": "code",
      "metadata": {
        "id": "962dfe8e"
      },
      "source": [
        "# tf.config.run_functions_eagerly(True)\n"
      ],
      "id": "962dfe8e",
      "execution_count": null,
      "outputs": []
    },
    {
      "cell_type": "code",
      "metadata": {
        "id": "83f42ba0"
      },
      "source": [
        "# sample_model.fit(\n",
        "#     [input_tensor,decoder_input_data],\n",
        "#     decoder_output_data,\n",
        "#     batch_size=64,\n",
        "#     epochs=10,\n",
        "#     validation_data=([val_input_tensor,decoder_val_input_data],decoder_val_output_data),\n",
        "#     shuffle=True,\n",
        "# )"
      ],
      "id": "83f42ba0",
      "execution_count": null,
      "outputs": []
    },
    {
      "cell_type": "code",
      "metadata": {
        "id": "7b5d9d88"
      },
      "source": [
        "# def evaluate(data_tensor,data_output,k):\n",
        "#     crct = 0\n",
        "#     input_seq = data_tensor[:k]\n",
        "# #     print(input_seq.shape,input_tensor.shape)\n",
        "#     decoded_sentences = decode_sequence(input_seq)\n",
        "#     sts = data_output[:k]\n",
        "#     crct += np.sum(np.array(sts) == np.array(decoded_sentences))\n",
        "\n",
        "#     return crct/k,zip(decoded_sentences,sts)"
      ],
      "id": "7b5d9d88",
      "execution_count": null,
      "outputs": []
    },
    {
      "cell_type": "markdown",
      "metadata": {
        "id": "21e4762d"
      },
      "source": [
        "# Beam Implementation"
      ],
      "id": "21e4762d"
    },
    {
      "cell_type": "code",
      "metadata": {
        "id": "8d06a555"
      },
      "source": [
        "import math\n",
        "reverse_input_char_index = dict((i, char) for char, i in input_index.items())\n",
        "reverse_target_char_index = dict((i, char) for char, i in output_index.items())\n",
        "reverse_target_char_index[0] = ' '\n",
        "\n",
        "def beam_decode(input_seq, beam_size, enc_model, dec_model, cell_type):\n",
        "    sz  = input_seq.shape[0]\n",
        "    \n",
        "    states_value = enc_model.predict(input_seq)\n",
        "    \n",
        "    target_seq = np.zeros((sz,1,num_output_chars+1))\n",
        "    \n",
        "    for i in range(sz):\n",
        "        target_seq[i, 0, output_index[\"\\t\"]] = 1.0\n",
        "    \n",
        "    target_seq = np.argmax(target_seq,axis=2).astype('float32')\n",
        "\n",
        "    decoded_seqs = [\"\" for i in range(sz)]\n",
        "    if cell_type == 'LSTM':\n",
        "\n",
        "        l = dec_model.predict([target_seq] + states_value)\n",
        "        output_tokens = l[0]\n",
        "        states = l[1:]\n",
        "    if cell_type == 'GRU' or cell_type == 'RNN':\n",
        "        if type(states_value) == list:\n",
        "          l = dec_model.predict([target_seq] + states_value)\n",
        "        else:\n",
        "          l = dec_model.predict([target_seq] + [states_value])\n",
        "        output_tokens = l[0] \n",
        "        states = l[1:]\n",
        "    \n",
        "    \n",
        "    sequences = []\n",
        "    for i in range(sz):\n",
        "        sequences.append([])\n",
        "    sampled_token_beam = np.argpartition(output_tokens[:, -1, :], -beam_size ,axis=1)[:,-beam_size:]\n",
        "    sampled_token_indexes = np.argmax(output_tokens[:, -1, :],axis=1)\n",
        "    for i in range(sz):\n",
        "        allcandidates = list()\n",
        "        for j in range(beam_size):\n",
        "            allcandidates.append(\n",
        "                    [ [ sampled_token_beam[i][j] ],\n",
        "                        -np.log( \n",
        "                        output_tokens[i][-1][sampled_token_beam[i][j]]),\n",
        "                        states ,\n",
        "                        False])\n",
        "        ordered = sorted(allcandidates, key=lambda tup:tup[1])\n",
        "        sequences[i] = ordered[:beam_size]\n",
        "        \n",
        "    \n",
        "    \n",
        "    target_seq = np.zeros((sz, beam_size, num_output_chars+1))\n",
        "#     states_beam = []\n",
        "    for i in range(sz):\n",
        "        for j in range(beam_size): \n",
        "            target_seq[i, j, sequences[i][j][0][-1]] = 1.0\n",
        "    target_seq = np.argmax(target_seq,axis=2).astype('float32')\n",
        "\n",
        "    it = 1\n",
        "    while it < max_output_size:\n",
        "        allcandidates = [list() for i in range(sz)]\n",
        "        for k in range(len(sequences[i])):\n",
        "#             print(target_seq.shape)\n",
        "#             print(target_seq[:,k],sequences[i][k][2])\n",
        "            if cell_type == 'LSTM':\n",
        "                l = dec_model.predict(\n",
        "                [target_seq[:,k]] + \n",
        "                sequences[i][k][2])\n",
        "                output_tokens = l[0]\n",
        "                states = l[1:]\n",
        "            if cell_type == 'GRU' or cell_type == 'RNN':\n",
        "                l = dec_model.predict(\n",
        "                [target_seq[:,k]] + \n",
        "                sequences[i][k][2])\n",
        "                output_tokens = l[0]\n",
        "                states = l[1:]\n",
        "            sampled_token_beam = np.argpartition(output_tokens[:, -1, :], -beam_size ,axis=1)[:,-beam_size:]\n",
        "            sampled_token_indexes = np.argmax(output_tokens[:, -1, :],axis=1)\n",
        "            \n",
        "#             print(output_tokens)\n",
        "#             print(sampled_token_beam.shape,sampled_token_indexes.shape)\n",
        "            for i in range(sz):\n",
        "                    if sequences[i][k][3]:\n",
        "                        allcandidates[i].append(\n",
        "                                [ sequences[i][k][0]+[ sampled_token_beam[i][j] ],\n",
        "                                 sequences[i][k][1],\n",
        "                                           states, True ])\n",
        "                        continue\n",
        "                    for j in range(beam_size):\n",
        "                        if reverse_target_char_index[sampled_token_beam[i][j]]=='\\n':\n",
        "                            allcandidates[i].append(\n",
        "                                [ sequences[i][k][0]+[ sampled_token_beam[i][j] ],\n",
        "                                 sequences[i][k][1]-np.log( \n",
        "                                     output_tokens[i][-1][sampled_token_beam[i][j]]),\n",
        "                                           states, True ])\n",
        "                        else:\n",
        "                            allcandidates[i].append(\n",
        "                            [ sequences[i][k][0]+[ sampled_token_beam[i][j] ],\n",
        "                             sequences[i][k][1]-np.log( \n",
        "                                 output_tokens[i][-1][sampled_token_beam[i][j]]),\n",
        "                                       states, False ])\n",
        "        for i in range(sz):\n",
        "            ordered = sorted(allcandidates[i], key=lambda tup:tup[1])\n",
        "            sequences[i] = ordered[:beam_size]\n",
        "        target_seq = np.zeros((sz, beam_size, num_output_chars+1))\n",
        "        for i in range(sz):\n",
        "            for j in range(beam_size): \n",
        "                target_seq[i, j, sequences[i][j][0][-1]] = 1.0\n",
        "        target_seq = np.argmax(target_seq,axis=2).astype('float32')\n",
        "        it+=1\n",
        "#     output = [ (\"\\t\"+st.split('\\n')[0]+\"\\n\") for st in decoded_seqs]\n",
        "    output = []\n",
        "    for i in range(sz):\n",
        "        st = \"\"\n",
        "        for ind in sequences[i][0][0]:\n",
        "            st += reverse_target_char_index[ind]\n",
        "        output.append(\"\\t\"+st.split('\\n')[0]+\"\\n\")\n",
        "            \n",
        "    return output\n",
        "        "
      ],
      "id": "8d06a555",
      "execution_count": null,
      "outputs": []
    },
    {
      "cell_type": "code",
      "metadata": {
        "id": "6bd34f4d"
      },
      "source": [
        "\n",
        "def beam_evaluate(data_tensor,data_output,k,beam_size,enc_model, dec_model, cell_type):\n",
        "    crct = 0\n",
        "    input_seq = data_tensor[:k]\n",
        "    decoded_sentences = beam_decode(input_seq,beam_size,enc_model, dec_model, cell_type)\n",
        "    sts = data_output[:k]\n",
        "    crct += np.sum(np.array(sts) == np.array(decoded_sentences))\n",
        "    return crct/k,zip(decoded_sentences,sts)"
      ],
      "id": "6bd34f4d",
      "execution_count": null,
      "outputs": []
    },
    {
      "cell_type": "code",
      "metadata": {
        "id": "028b6217"
      },
      "source": [
        "# a1, b1 = beam_evaluate(test_input_tensor,test_outputs,100,1,enc_model,dec_model,'RNN')\n",
        "\n",
        "# a2, b2 = evaluate(test_input_tensor,test_outputs,100)\n",
        "# # print(a1,a2)\n",
        "# # for ((l,m),(n,o)) in zip(b1,b2):\n",
        "# #     print(l,m,n)"
      ],
      "id": "028b6217",
      "execution_count": null,
      "outputs": []
    },
    {
      "cell_type": "markdown",
      "metadata": {
        "id": "38febd90"
      },
      "source": [
        "# Wandb Sweep"
      ],
      "id": "38febd90"
    },
    {
      "cell_type": "code",
      "metadata": {
        "colab": {
          "base_uri": "https://localhost:8080/"
        },
        "id": "10baf71d",
        "outputId": "ed9533b4-e4b8-43d1-83dd-b5ba29707c2e"
      },
      "source": [
        "import wandb\n",
        "from wandb.keras import WandbCallback\n",
        "wandb.login(key=\"866040d7d81f67025d43e7d50ecd83d54b6cf977\", relogin=False)"
      ],
      "id": "10baf71d",
      "execution_count": null,
      "outputs": []
    },
    {
      "cell_type": "code",
      "metadata": {
        "id": "093bcd65"
      },
      "source": [
        "sweep_config = {\n",
        "    'method': 'random', #grid, random\n",
        "    'metric': {\n",
        "      'name': 'val_word_accuracy',\n",
        "      'goal': 'maximize'   \n",
        "    },\n",
        "    'parameters': {\n",
        "         'beam_size' : {\n",
        "            'values' : [2,3]\n",
        "        },\n",
        "        'input_embed_size': {\n",
        "            'values' : [16,32]\n",
        "        },\n",
        "        'hidden_size' : {\n",
        "            'values' : [64, 128, 256]\n",
        "        },\n",
        "        'cell_type' : {\n",
        "            'values' : ['GRU','LSTM','RNN']\n",
        "        },\n",
        "        'num_hidden_layers' : {\n",
        "            'values' : [1, 2, 3]\n",
        "        },\n",
        "        'dropout' : {\n",
        "            'values' : [0, 0.2]\n",
        "        },\n",
        "       \n",
        "    }\n",
        "}"
      ],
      "id": "093bcd65",
      "execution_count": null,
      "outputs": []
    },
    {
      "cell_type": "code",
      "metadata": {
        "colab": {
          "base_uri": "https://localhost:8080/"
        },
        "id": "eab47e14",
        "outputId": "96a23d64-4680-407a-9a2f-1778e8309c87"
      },
      "source": [
        "sweep_id = wandb.sweep(sweep_config, entity=\"mooizz\",project=\"Rec_dakhashina\")"
      ],
      "id": "eab47e14",
      "execution_count": null,
      "outputs": []
    },
    {
      "cell_type": "code",
      "metadata": {
        "id": "ne64LsTwhHRe"
      },
      "source": [
        "from keras.models import Model\n",
        "from keras.layers import Input, LSTM, RNN, GRU, Dense, SimpleRNN, Embedding"
      ],
      "id": "ne64LsTwhHRe",
      "execution_count": null,
      "outputs": []
    },
    {
      "cell_type": "code",
      "metadata": {
        "id": "nfrygwgDhHRf"
      },
      "source": [
        "def get_Model_v2(input_embed_size, hidden_size, cell_type, num_decoder_layers, num_encoder_layers, dropout):\n",
        "    assert(num_encoder_layers == num_decoder_layers)\n",
        "    charinput = Input(shape=(None,),name=\"input\")\n",
        "    embedding = Embedding(num_input_chars,input_embed_size, name=\"embedding\")(charinput)    \n",
        "    \n",
        "    if cell_type == 'LSTM':\n",
        "        hl = []\n",
        "        cl = []\n",
        "        encoder_states = []\n",
        "        e_outputs, htemp, ctemp = LSTM(hidden_size, return_sequences=True,\n",
        "                                        return_state=True, dropout=dropout)(embedding)\n",
        "        hl.append(htemp)\n",
        "        cl.append(ctemp)\n",
        "        encoder_states.append(htemp)\n",
        "        encoder_states.append(ctemp)\n",
        "        for hln_iter in range(num_encoder_layers-1):\n",
        "            e_outputs, htemp, ctemp = LSTM(hidden_size, return_sequences=True,\n",
        "                                            return_state=True, dropout=dropout)(e_outputs)\n",
        "            hl.append(htemp)\n",
        "            cl.append(ctemp)\n",
        "            encoder_states.append(htemp)\n",
        "            encoder_states.append(ctemp)\n",
        "    if cell_type == 'RNN':\n",
        "        rnn_states = []\n",
        "        encoder_states = []\n",
        "        e_outputs, htemp = SimpleRNN(hidden_size, return_sequences=True,\n",
        "                                        return_state=True, dropout=dropout)(embedding)\n",
        "        rnn_states.append(htemp)\n",
        "        encoder_states.append(htemp)\n",
        "        for hln_iter in range(num_encoder_layers-1):\n",
        "            e_outputs, htemp = SimpleRNN(hidden_size, return_sequences=True,\n",
        "                                            return_state=True, dropout=dropout)(e_outputs)\n",
        "            rnn_states.append(htemp)\n",
        "            encoder_states.append(htemp)\n",
        "    if cell_type == 'GRU':\n",
        "        gru_states = []\n",
        "        encoder_states = []\n",
        "        e_outputs, htemp = GRU(hidden_size, return_sequences=True,\n",
        "                                        return_state=True, dropout=dropout)(embedding)\n",
        "        gru_states.append(htemp)\n",
        "        encoder_states.append(htemp)\n",
        "        for hln_iter in range(num_encoder_layers-1):\n",
        "            e_outputs, htemp = GRU(hidden_size, return_sequences=True,\n",
        "                                            return_state=True, dropout=dropout)(e_outputs)\n",
        "            gru_states.append(htemp)\n",
        "            encoder_states.append(htemp)\n",
        "        \n",
        "    \n",
        "    decoder_inputs = Input(shape=(None,),name=\"decoder_input\")\n",
        "    decoder_embedding = Embedding(num_output_chars + 1, input_embed_size, name=\"decoder_embedding\",mask_zero=True)(decoder_inputs)\n",
        "    \n",
        "\n",
        "    if cell_type == 'LSTM':\n",
        "        d_out_layers = []\n",
        "        out_layer = LSTM(hidden_size, return_sequences=True,\n",
        "                                            return_state=True, dropout=dropout)\n",
        "        d_out_layers.append(out_layer)\n",
        "        d_outputs, _, _ = out_layer(decoder_embedding, initial_state=[hl[0], cl[0]]) \n",
        "        for hln_iter in range(num_decoder_layers-1):\n",
        "            out_layer = LSTM(hidden_size, return_sequences=True,\n",
        "                                            return_state=True, dropout=dropout)\n",
        "            d_out_layers.append(out_layer)\n",
        "            d_outputs, _, _ = out_layer(d_outputs, initial_state=[hl[hln_iter+1], cl[hln_iter+1]])\n",
        "\n",
        "    if cell_type == 'RNN':\n",
        "        d_out_layers = []\n",
        "        out_layer = SimpleRNN(hidden_size, return_sequences=True,\n",
        "                                            return_state=True, dropout=dropout)\n",
        "        d_out_layers.append(out_layer)\n",
        "        d_outputs, _ = out_layer(decoder_embedding, initial_state=rnn_states[0]) \n",
        "        for hln_iter in range(num_decoder_layers-1):\n",
        "            out_layer = SimpleRNN(hidden_size, return_sequences=True,\n",
        "                                            return_state=True, dropout=dropout)\n",
        "            d_out_layers.append(out_layer)\n",
        "            d_outputs, _ = out_layer(d_outputs, initial_state=rnn_states[hln_iter+1])\n",
        "\n",
        "    if cell_type == 'GRU':\n",
        "        d_out_layers = []\n",
        "        out_layer = GRU(hidden_size, return_sequences=True,\n",
        "                                            return_state=True, dropout=dropout)\n",
        "        d_out_layers.append(out_layer)\n",
        "        d_outputs, _ = out_layer(decoder_embedding, initial_state=gru_states[0]) \n",
        "        for hln_iter in range(num_decoder_layers-1):\n",
        "            out_layer = GRU(hidden_size, return_sequences=True,\n",
        "                                            return_state=True, dropout=dropout)\n",
        "            d_out_layers.append(out_layer)\n",
        "            d_outputs, _ = out_layer(d_outputs, initial_state=gru_states[hln_iter+1])\n",
        "\n",
        "\n",
        "    decoder_dense = Dense(num_output_chars + 1, activation=\"softmax\")\n",
        "    decoder_outputs = decoder_dense(d_outputs)\n",
        "    \n",
        "    model = tf.keras.Model([charinput,decoder_inputs],decoder_outputs)\n",
        "\n",
        "    ########2nd\n",
        "\n",
        "    if cell_type == 'LSTM':\n",
        "        encoder_model = tf.keras.Model(charinput, encoder_states)\n",
        "        decoder_state_input_h = []\n",
        "        decoder_state_input_c = []\n",
        "        decoder_state_inputs = []\n",
        "        for _ in range(num_decoder_layers):\n",
        "            decoder_state_input_h.append(Input(shape=(hidden_size)))\n",
        "            decoder_state_input_c.append(Input(shape=(hidden_size)))\n",
        "            decoder_state_inputs.append(decoder_state_input_h[-1])\n",
        "            decoder_state_inputs.append(decoder_state_input_c[-1])\n",
        "        \n",
        "        decoder_states = []\n",
        "        decoder_outputs, dhtemp, dctemp = d_out_layers[0](decoder_embedding, initial_state=decoder_state_inputs[:2])\n",
        "        decoder_states.append(dhtemp)\n",
        "        decoder_states.append(dctemp)\n",
        "        for i in range(num_decoder_layers-1):\n",
        "            decoder_outputs, dhtemp, dctemp = d_out_layers[i+1](decoder_outputs, initial_state=decoder_state_inputs[2*(i+1):2*(i+2)])\n",
        "            decoder_states.append(dhtemp)\n",
        "            decoder_states.append(dctemp)\n",
        "\n",
        "        decoder_outputs = decoder_dense(decoder_outputs)\n",
        "        decoder_model = Model([decoder_inputs] + decoder_state_inputs, [decoder_outputs] + decoder_states)\n",
        "\n",
        "    if cell_type == 'GRU':\n",
        "        encoder_model = tf.keras.Model(charinput, encoder_states)\n",
        "        decoder_state_input_gru = []\n",
        "        for _ in range(num_decoder_layers):\n",
        "            decoder_state_input_gru.append(Input(shape=(hidden_size)))\n",
        "        \n",
        "        decoder_states = []\n",
        "        decoder_outputs, dhtemp = d_out_layers[0](decoder_embedding, initial_state=decoder_state_input_gru[0])\n",
        "        decoder_states.append(dhtemp)\n",
        "        for i in range(num_decoder_layers-1):\n",
        "            decoder_outputs, dhtemp = d_out_layers[i+1](decoder_outputs, initial_state=decoder_state_input_gru[i+1])\n",
        "            decoder_states.append(dhtemp)\n",
        "\n",
        "        decoder_outputs = decoder_dense(decoder_outputs)\n",
        "        decoder_model = Model([decoder_inputs] + decoder_state_input_gru, [decoder_outputs] + decoder_states)\n",
        "\n",
        "    if cell_type == 'RNN':\n",
        "        encoder_model = tf.keras.Model(charinput, encoder_states)\n",
        "        decoder_state_input_rnn = []\n",
        "        for _ in range(num_decoder_layers):\n",
        "            decoder_state_input_rnn.append(Input(shape=(hidden_size)))\n",
        "        \n",
        "        decoder_states = []\n",
        "        decoder_outputs, dhtemp = d_out_layers[0](decoder_embedding, initial_state=decoder_state_input_rnn[0])\n",
        "        decoder_states.append(dhtemp)\n",
        "        for i in range(num_decoder_layers-1):\n",
        "            decoder_outputs, dhtemp = d_out_layers[i+1](decoder_outputs, initial_state=decoder_state_input_rnn[i+1])\n",
        "            decoder_states.append(dhtemp)\n",
        "\n",
        "        decoder_outputs = decoder_dense(decoder_outputs)\n",
        "        decoder_model = Model([decoder_inputs] + decoder_state_input_rnn, [decoder_outputs] + decoder_states)          \n",
        "        \n",
        "    return model, encoder_model, decoder_model"
      ],
      "id": "nfrygwgDhHRf",
      "execution_count": null,
      "outputs": []
    },
    {
      "cell_type": "code",
      "metadata": {
        "id": "46ff61cb"
      },
      "source": [
        "def train():\n",
        "    config_defaults = {\n",
        "        'epochs' : 10,\n",
        "        'batch_size' : 64,\n",
        "        'optimizer' : 'adam',\n",
        "        'beam_size' : 1,\n",
        "        'input_embed_size': 32,\n",
        "        'hidden_size' : 256,\n",
        "        'cell_type' : 'LSTM',\n",
        "        'num_hidden_layers' : 1,\n",
        "        'dropout' : 0,\n",
        "    }\n",
        "    wandb.init(config=config_defaults)\n",
        "\n",
        "    config = wandb.config\n",
        "    model, enc_model, dec_model = get_Model_v2(config.input_embed_size,config.hidden_size,\n",
        "                     config.cell_type,\n",
        "                     config.num_hidden_layers,\n",
        "                     config.num_hidden_layers,\n",
        "                     config.dropout)\n",
        "    model.compile(\n",
        "    optimizer=\"adam\", loss=\"categorical_crossentropy\", metrics=[\"accuracy\"]\n",
        "    )\n",
        "#     sample_model.summary()\n",
        "    EarlyStopCB = tf.keras.callbacks.EarlyStopping(patience=30, monitor='val_accuracy',\n",
        "                                                  restore_best_weights=True)\n",
        "    tf.config.run_functions_eagerly(True)\n",
        "    model.fit(\n",
        "        [input_tensor,decoder_input_data],\n",
        "        decoder_output_data,\n",
        "        batch_size=config.batch_size,\n",
        "        epochs=config.epochs,\n",
        "        validation_data=(\n",
        "            [val_input_tensor,decoder_val_input_data],\n",
        "            decoder_val_output_data\n",
        "        ),\n",
        "        shuffle=True,\n",
        "        callbacks=[WandbCallback(), EarlyStopCB])\n",
        "    beam_acc , _ = beam_evaluate(val_input_tensor,valid_outputs,len(valid_outputs),config.beam_size,\n",
        "                                enc_model,\n",
        "                                dec_model,\n",
        "                                config.cell_type)\n",
        "    wandb.log({'val_word_accuracy' : beam_acc})\n"
      ],
      "id": "46ff61cb",
      "execution_count": null,
      "outputs": []
    },
    {
      "cell_type": "code",
      "metadata": {
        "colab": {
          "base_uri": "https://localhost:8080/",
          "height": 1000,
          "referenced_widgets": [
            "9303fdaff9c24309955ee93cfe6885eb",
            "d82470e88337436298c9f2bd75c94b7d",
            "3f3599f8aa03443b911858d0725de9db",
            "58c68944d9754e62a564bf45f352e993",
            "6b03e2bef1254c77a944223e457e5421",
            "4936ab4e76b64aa4bcc3c71d2562c940",
            "8dd9610fc0354196a638859b9d188eae",
            "b81e26e5d5604d42ab3d4096e52c13bb",
            "57fbf68ef7f54bab96cd0885152a1a76",
            "db69c06622004555ab45792fc06e3c9d",
            "323e927e692846cc99b964507ae97f18",
            "a9a13b8aa98c4360bc9484acd836e063",
            "2cc19a8c8beb4ed0a8ae5d4e8f1dd5d0",
            "ef2f3d1ce18346f2bf300ce1ef4c8e6b",
            "f15adb6236974dde82e82a4685877053",
            "2592a39e62a14f5e9af1046cb995d20b",
            "2e7c9c2ee16d41a8987355c91f9b4859",
            "ec9bb57e298b44daa8d202caa37c23e5",
            "d187da65ec1e477cb9c1031c4695a2c4",
            "95aff1d9b6db4108aadcd75c7c12a21b",
            "5818f71a6dd34c92ada2e9709f01d93c",
            "d3e819fbc0454cd9a4203c154655a817",
            "4cb8bb4893a74a16b666e19c1a18f9f3",
            "bd6693385128433fad89b7f14c590312",
            "833dd3ad01f142a5a442a16507cba5f6",
            "9fdac0e9295d48d0b2d29372cd8b6d2d",
            "7b3bc0f830514132b3374d5200649124",
            "a1a890f988ec4cdf9ec7dfc8944e2e71",
            "c7183451508544b58a7fba2184483fb9",
            "8e636e54d95440c396dbe4c4459cb7b9",
            "fc4f390ca9e84fc3af84598421970b9a",
            "2853b159b4324def8c1a26dff58086cf",
            "25db56b8179441e3897317e6a4b8c81d",
            "a1fc3553a32346c6bee0505ccc409781",
            "1b3bceba031a4cbbb6c52658ae753a92",
            "d49a5919f42f4f0ba2dc776f0c6ce3eb",
            "8c77ce8d488f49dc8baea1ea5638e673",
            "8d65b42d19de4515863e6c53b4db26de",
            "99af0fcc806d42d88267d3f08b0e73d2",
            "659a315bf40543bb87f9f9b3d94e3f57",
            "465f0dd41fc947b79cb0ac44ef7b348e",
            "b4f9c8d938a34618bde5a10039d94ede",
            "fdda9aee2a9444608f475cb47674fcf1",
            "cea368e5ad2c4eb58b25105b34d47fc7",
            "6cf61114319e4a659b8d8488e3587527",
            "dc9773baf49147778f29e048bf76f02c",
            "83f01bc804754de798bf0c3a1ba8bb81",
            "1021dba8bfa6423789286a75c9d5bb0e"
          ]
        },
        "id": "9aab0ded",
        "outputId": "60c8dfcf-c11b-4c1d-cfd9-46d4034333fb"
      },
      "source": [
        "# wandb.agent(sweep_id, train)"
      ],
      "id": "9aab0ded",
      "execution_count": null,
      "outputs": []
    },
    {
      "cell_type": "markdown",
      "metadata": {
        "id": "ylvRhDsngYwJ"
      },
      "source": [
        "# Best Model"
      ],
      "id": "ylvRhDsngYwJ"
    },
    {
      "cell_type": "code",
      "metadata": {
        "colab": {
          "base_uri": "https://localhost:8080/",
          "height": 631
        },
        "id": "zLAiu9ANgbUh",
        "outputId": "c64c85d2-49a8-4e0f-c9f3-fad8b22662be"
      },
      "source": [
        "wandb.init( entity=\"mooizz\",project=\"Rec_dakhashina\")"
      ],
      "id": "zLAiu9ANgbUh",
      "execution_count": null,
      "outputs": []
    },
    {
      "cell_type": "code",
      "metadata": {
        "colab": {
          "base_uri": "https://localhost:8080/"
        },
        "id": "dGzBloTagn8n",
        "outputId": "1c6f87a0-b80c-411b-b364-ddcca9035e3e"
      },
      "source": [
        "best_model, enc_model, dec_model = get_Model_v2(32, \n",
        "                                                256, \n",
        "                                                'LSTM', \n",
        "                                                3, \n",
        "                                                3, 0.2)\n",
        "best_model.compile(\n",
        "    optimizer=\"adam\", loss=\"categorical_crossentropy\", metrics=[\"accuracy\"]\n",
        "    )\n",
        "best_model.summary()\n"
      ],
      "id": "dGzBloTagn8n",
      "execution_count": null,
      "outputs": []
    },
    {
      "cell_type": "code",
      "metadata": {
        "colab": {
          "base_uri": "https://localhost:8080/"
        },
        "id": "1l0yWTrWgpF8",
        "outputId": "c7c8b287-0144-4ba1-88ae-e60f199f9f7e"
      },
      "source": [
        "EarlyStopCB = tf.keras.callbacks.EarlyStopping(patience=30, monitor='val_accuracy',\n",
        "                                                  restore_best_weights=True)\n",
        "tf.config.run_functions_eagerly(True)\n",
        "best_model.fit(\n",
        "        [input_tensor,decoder_input_data],\n",
        "        decoder_output_data,\n",
        "        batch_size=64,\n",
        "        epochs=10,\n",
        "        validation_data=(\n",
        "            [val_input_tensor,decoder_val_input_data],\n",
        "            decoder_val_output_data\n",
        "        ),\n",
        "        shuffle=True,\n",
        "        callbacks=[WandbCallback(), EarlyStopCB]) "
      ],
      "id": "1l0yWTrWgpF8",
      "execution_count": null,
      "outputs": []
    },
    {
      "cell_type": "code",
      "metadata": {
        "id": "JxsAvKFTgs6t",
        "colab": {
          "base_uri": "https://localhost:8080/"
        },
        "outputId": "7cc124f9-1dc4-46ae-d6e1-ac6eb20c49eb"
      },
      "source": [
        "beam_acc , _  = beam_evaluate(val_input_tensor,valid_outputs,len(valid_outputs),1,\n",
        "                                enc_model,\n",
        "                                dec_model,\n",
        "                                'LSTM')\n",
        "wandb.log({'val_word_accuracy' : beam_acc})"
      ],
      "id": "JxsAvKFTgs6t",
      "execution_count": null,
      "outputs": []
    },
    {
      "cell_type": "code",
      "metadata": {
        "id": "MsSE967Zi2lO"
      },
      "source": [
        "print(beam_acc)"
      ],
      "id": "MsSE967Zi2lO",
      "execution_count": null,
      "outputs": []
    },
    {
      "cell_type": "code",
      "metadata": {
        "id": "d2AWfvrLguaf",
        "colab": {
          "base_uri": "https://localhost:8080/"
        },
        "outputId": "46c457cd-c5c7-44f7-d55e-7926818dfc73"
      },
      "source": [
        "beam_acc , pred = beam_evaluate(test_input_tensor,test_outputs,len(test_outputs),1,\n",
        "                                enc_model,\n",
        "                                dec_model,\n",
        "                                'LSTM')"
      ],
      "id": "d2AWfvrLguaf",
      "execution_count": null,
      "outputs": []
    },
    {
      "cell_type": "code",
      "metadata": {
        "id": "YpdcWnctg0WI",
        "colab": {
          "base_uri": "https://localhost:8080/"
        },
        "outputId": "5355921e-79f4-4682-d819-a79399869047"
      },
      "source": [
        "print(beam_acc)"
      ],
      "id": "YpdcWnctg0WI",
      "execution_count": null,
      "outputs": []
    },
    {
      "cell_type": "code",
      "metadata": {
        "id": "eZtFIKPPg2lC"
      },
      "source": [
        "# tabular format\n",
        "from tabulate import tabulate\n",
        "i = 0\n",
        "data = []\n",
        "for a,b in pred:\n",
        "    l = []\n",
        "    l.append(test_inputs[i])\n",
        "    l.append(a[1:-1])\n",
        "    l.append(b[1:-1])\n",
        "    \n",
        "    i+=1\n",
        "    data.append(l)\n",
        "import csv\n",
        "with open('predictions_vanilla.csv', 'w', newline='') as file:\n",
        "    writer = csv.writer(file)\n",
        "    writer.writerow([\"Input Word\", \"Predicted Word\", \"True Word\"])\n",
        "    for i in range(len(data)):\n",
        "      writer.writerow(data[i])"
      ],
      "id": "eZtFIKPPg2lC",
      "execution_count": null,
      "outputs": []
    },
    {
      "cell_type": "code",
      "metadata": {
        "id": "00RkhOwhg3ro"
      },
      "source": [
        "import pandas as pd\n",
        "df = pd.read_csv('/content/predictions_vanilla.csv')\n",
        "frame = df.sample(frac=1).head(100)"
      ],
      "id": "00RkhOwhg3ro",
      "execution_count": null,
      "outputs": []
    },
    {
      "cell_type": "code",
      "metadata": {
        "id": "nJWACcJJhtrx"
      },
      "source": [
        "wandb.log({'predictions': wandb.Table(dataframe=frame)})\n"
      ],
      "id": "nJWACcJJhtrx",
      "execution_count": null,
      "outputs": []
    },
    {
      "cell_type": "code",
      "execution_count": null,
      "metadata": {},
      "outputs": [],
      "source": []
    }
  ]
}